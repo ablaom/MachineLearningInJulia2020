{
 "cells": [
  {
   "cell_type": "markdown",
   "metadata": {},
   "source": [
    "# Machine Learning in Julia, JuliaCon2020"
   ]
  },
  {
   "cell_type": "markdown",
   "metadata": {},
   "source": [
    "A workshop introducing the machine learning toolbox\n",
    "[MLJ](https://alan-turing-institute.github.io/MLJ.jl/stable/)."
   ]
  },
  {
   "cell_type": "markdown",
   "metadata": {},
   "source": [
    "### Set-up"
   ]
  },
  {
   "cell_type": "markdown",
   "metadata": {},
   "source": [
    "The following instantiates a package environment and pre-loads some\n",
    "packages, to avoid delays later on."
   ]
  },
  {
   "cell_type": "markdown",
   "metadata": {},
   "source": [
    "The package environment has been created using **Julia 1.6** and may not\n",
    "instantiate properly for other Julia versions."
   ]
  },
  {
   "cell_type": "code",
   "execution_count": 1,
   "metadata": {},
   "outputs": [
    {
     "data": {
      "text/plain": [
       "v\"1.6.3\""
      ]
     },
     "execution_count": 1,
     "metadata": {},
     "output_type": "execute_result"
    }
   ],
   "source": [
    "VERSION"
   ]
  },
  {
   "cell_type": "code",
   "execution_count": 2,
   "metadata": {},
   "outputs": [
    {
     "name": "stderr",
     "output_type": "stream",
     "text": [
      "\u001b[32m\u001b[1m  Activating\u001b[22m\u001b[39m environment at `~/Google Drive/Julia/MLJ/MachineLearningInJulia2020/Project.toml`\n",
      "\u001b[32m\u001b[1mPrecompiling\u001b[22m\u001b[39m project...\n",
      "\u001b[32m  ✓ \u001b[39m\u001b[90mInlineStrings\u001b[39m\n",
      "\u001b[32m  ✓ \u001b[39m\u001b[90mWeakRefStrings\u001b[39m\n",
      "\u001b[32m  ✓ \u001b[39m\u001b[90mScikitLearn\u001b[39m\n",
      "\u001b[32m  ✓ \u001b[39mCSV\n",
      "\u001b[32m  ✓ \u001b[39mMLJScikitLearnInterface\n",
      "\u001b[32m  ✓ \u001b[39m\u001b[90mCorpusLoaders\u001b[39m\n",
      "\u001b[32m  ✓ \u001b[39mScientificTypes\n",
      "\u001b[32m  ✓ \u001b[39m\u001b[90mOpenML\u001b[39m\n",
      "\u001b[32m  ✓ \u001b[39mMLJBase\n",
      "\u001b[32m  ✓ \u001b[39m\u001b[90mMLJEnsembles\u001b[39m\n",
      "\u001b[32m  ✓ \u001b[39m\u001b[90mMLJIteration\u001b[39m\n",
      "\u001b[32m  ✓ \u001b[39m\u001b[90mMLJTuning\u001b[39m\n",
      "\u001b[32m  ✓ \u001b[39m\u001b[90mMLJSerialization\u001b[39m\n",
      "\u001b[32m  ✓ \u001b[39mMLJModels\n",
      "\u001b[32m  ✓ \u001b[39mMLJ\n",
      "  15 dependencies successfully precompiled in 46 seconds (231 already precompiled)\n",
      "┌ Info: Precompiling CSV [336ed68f-0bac-5ca0-87d4-7b16caf5d00b]\n",
      "└ @ Base loading.jl:1342\n",
      "┌ Info: Precompiling MLJ [add582a8-e3ab-11e8-2d5e-e98b27df1bc7]\n",
      "└ @ Base loading.jl:1342\n",
      "┌ Info: Precompiling MLJScikitLearnInterface [5ae90465-5518-4432-b9d2-8a1def2f0cab]\n",
      "└ @ Base loading.jl:1342\n",
      "┌ Info: Done loading\n",
      "└ @ Main /Users/anthony/Google Drive/Julia/MLJ/MachineLearningInJulia2020/setup.jl:27\n"
     ]
    },
    {
     "data": {
      "text/plain": [
       "false"
      ]
     },
     "execution_count": 2,
     "metadata": {},
     "output_type": "execute_result"
    }
   ],
   "source": [
    "DIR = @__DIR__\n",
    "include(joinpath(DIR, \"setup.jl\"))\n",
    "color_off()"
   ]
  },
  {
   "cell_type": "markdown",
   "metadata": {},
   "source": [
    "## General resources"
   ]
  },
  {
   "cell_type": "markdown",
   "metadata": {},
   "source": [
    "- [List of methods introduced in this tutorial](methods.md)\n",
    "- [MLJ Cheatsheet](https://alan-turing-institute.github.io/MLJ.jl/dev/mlj_cheatsheet/)\n",
    "- [Common MLJ Workflows](https://alan-turing-institute.github.io/MLJ.jl/dev/common_mlj_workflows/)\n",
    "- [MLJ manual](https://alan-turing-institute.github.io/MLJ.jl/dev/)\n",
    "- [Data Science Tutorials in Julia](https://juliaai.github.io/DataScienceTutorials.jl/)"
   ]
  },
  {
   "cell_type": "markdown",
   "metadata": {},
   "source": [
    "## Contents"
   ]
  },
  {
   "cell_type": "markdown",
   "metadata": {},
   "source": [
    "### Basic"
   ]
  },
  {
   "cell_type": "markdown",
   "metadata": {},
   "source": [
    "- [Part 1 - Data Representation](#part-1-data-representation)\n",
    "- [Part 2 - Selecting, Training and Evaluating Models](#part-2-selecting-training-and-evaluating-models)\n",
    "- [Part 3 - Transformers and Pipelines](#part-3-transformers-and-pipelines)\n",
    "- [Part 4 - Tuning Hyper-parameters](#part-4-tuning-hyper-parameters)\n",
    "- [Part 5 - Advanced model composition](#part-5-advanced-model-composition)\n",
    "- [Solutions to Exercises](#solutions-to-exercises)"
   ]
  },
  {
   "cell_type": "markdown",
   "metadata": {},
   "source": [
    "<a id='part-1-data-representation'></a>"
   ]
  },
  {
   "cell_type": "markdown",
   "metadata": {},
   "source": [
    "## Part 1 - Data Representation"
   ]
  },
  {
   "cell_type": "markdown",
   "metadata": {},
   "source": [
    "> **Goals:**\n",
    "> 1. Learn how MLJ specifies it's data requirements using \"scientific\" types\n",
    "> 2. Understand the options for representing tabular data\n",
    "> 3. Learn how to inspect and fix the representation of data to meet MLJ requirements"
   ]
  },
  {
   "cell_type": "markdown",
   "metadata": {},
   "source": [
    "### Scientific types"
   ]
  },
  {
   "cell_type": "markdown",
   "metadata": {},
   "source": [
    "To help you focus on the intended *purpose* or *interpretation* of\n",
    "data, MLJ models specify data requirements using *scientific types*,\n",
    "instead of machine types. An example of a scientific type is\n",
    "`OrderedFactor`. The other basic \"scalar\" scientific types are\n",
    "illustrated below:"
   ]
  },
  {
   "cell_type": "markdown",
   "metadata": {},
   "source": [
    "![](assets/scitypes.png)"
   ]
  },
  {
   "cell_type": "markdown",
   "metadata": {},
   "source": [
    "A scientific type is an ordinary Julia type (so it can be used for\n",
    "method dispatch, for example) but it usually has no instances. The\n",
    "`scitype` function is used to articulate MLJ's convention about how\n",
    "different machine types will be interpreted by MLJ models:"
   ]
  },
  {
   "cell_type": "code",
   "execution_count": 3,
   "metadata": {},
   "outputs": [
    {
     "data": {
      "text/plain": [
       "Continuous"
      ]
     },
     "execution_count": 3,
     "metadata": {},
     "output_type": "execute_result"
    }
   ],
   "source": [
    "using MLJ\n",
    "scitype(3.141)"
   ]
  },
  {
   "cell_type": "code",
   "execution_count": 4,
   "metadata": {},
   "outputs": [
    {
     "data": {
      "text/plain": [
       "AbstractVector{Continuous} (alias for AbstractArray{Continuous, 1})"
      ]
     },
     "execution_count": 4,
     "metadata": {},
     "output_type": "execute_result"
    }
   ],
   "source": [
    "time = [2.3, 4.5, 4.2, 1.8, 7.1]\n",
    "scitype(time)"
   ]
  },
  {
   "cell_type": "markdown",
   "metadata": {},
   "source": [
    "To fix data which MLJ is interpreting incorrectly, we use the\n",
    "`coerce` method:"
   ]
  },
  {
   "cell_type": "code",
   "execution_count": 5,
   "metadata": {},
   "outputs": [
    {
     "data": {
      "text/plain": [
       "AbstractVector{Count} (alias for AbstractArray{Count, 1})"
      ]
     },
     "execution_count": 5,
     "metadata": {},
     "output_type": "execute_result"
    }
   ],
   "source": [
    "height = [185, 153, 163, 114, 180]\n",
    "scitype(height)"
   ]
  },
  {
   "cell_type": "code",
   "execution_count": 6,
   "metadata": {},
   "outputs": [
    {
     "data": {
      "text/plain": [
       "5-element Vector{Float64}:\n",
       " 185.0\n",
       " 153.0\n",
       " 163.0\n",
       " 114.0\n",
       " 180.0"
      ]
     },
     "execution_count": 6,
     "metadata": {},
     "output_type": "execute_result"
    }
   ],
   "source": [
    "height = coerce(height, Continuous)"
   ]
  },
  {
   "cell_type": "markdown",
   "metadata": {},
   "source": [
    "Here's an example of data we would want interpreted as\n",
    "`OrderedFactor` but isn't:"
   ]
  },
  {
   "cell_type": "code",
   "execution_count": 7,
   "metadata": {},
   "outputs": [
    {
     "data": {
      "text/plain": [
       "AbstractVector{Union{Missing, Textual}} (alias for AbstractArray{Union{Missing, Textual}, 1})"
      ]
     },
     "execution_count": 7,
     "metadata": {},
     "output_type": "execute_result"
    }
   ],
   "source": [
    "exam_mark = [\"rotten\", \"great\", \"bla\",  missing, \"great\"]\n",
    "scitype(exam_mark)"
   ]
  },
  {
   "cell_type": "code",
   "execution_count": 8,
   "metadata": {},
   "outputs": [
    {
     "name": "stderr",
     "output_type": "stream",
     "text": [
      "┌ Info: Trying to coerce from `Union{Missing, String}` to `OrderedFactor`.\n",
      "│ Coerced to `Union{Missing,OrderedFactor}` instead.\n",
      "└ @ ScientificTypes /Users/anthony/.julia/packages/ScientificTypes/z5Vmr/src/convention/coerce.jl:174\n"
     ]
    },
    {
     "data": {
      "text/plain": [
       "5-element CategoricalArray{Union{Missing, String},1,UInt32}:\n",
       " \"rotten\"\n",
       " \"great\"\n",
       " \"bla\"\n",
       " missing\n",
       " \"great\""
      ]
     },
     "execution_count": 8,
     "metadata": {},
     "output_type": "execute_result"
    }
   ],
   "source": [
    "exam_mark = coerce(exam_mark, OrderedFactor)"
   ]
  },
  {
   "cell_type": "code",
   "execution_count": 9,
   "metadata": {},
   "outputs": [
    {
     "data": {
      "text/plain": [
       "3-element Vector{String}:\n",
       " \"bla\"\n",
       " \"great\"\n",
       " \"rotten\""
      ]
     },
     "execution_count": 9,
     "metadata": {},
     "output_type": "execute_result"
    }
   ],
   "source": [
    "levels(exam_mark)"
   ]
  },
  {
   "cell_type": "markdown",
   "metadata": {},
   "source": [
    "Use `levels!` to put the classes in the right order:"
   ]
  },
  {
   "cell_type": "code",
   "execution_count": 10,
   "metadata": {},
   "outputs": [
    {
     "data": {
      "text/plain": [
       "true"
      ]
     },
     "execution_count": 10,
     "metadata": {},
     "output_type": "execute_result"
    }
   ],
   "source": [
    "levels!(exam_mark, [\"rotten\", \"bla\", \"great\"])\n",
    "exam_mark[1] < exam_mark[2]"
   ]
  },
  {
   "cell_type": "markdown",
   "metadata": {},
   "source": [
    "When sub-sampling, no levels are lost:"
   ]
  },
  {
   "cell_type": "code",
   "execution_count": 11,
   "metadata": {},
   "outputs": [
    {
     "data": {
      "text/plain": [
       "3-element Vector{String}:\n",
       " \"rotten\"\n",
       " \"bla\"\n",
       " \"great\""
      ]
     },
     "execution_count": 11,
     "metadata": {},
     "output_type": "execute_result"
    }
   ],
   "source": [
    "levels(exam_mark[1:2])"
   ]
  },
  {
   "cell_type": "markdown",
   "metadata": {},
   "source": [
    "**Note on binary data.** There is no separate scientific type for\n",
    "binary data. Binary data is `OrderedFactor{2}` or\n",
    "`Multiclass{2}`. If a binary measure like `truepositive` is a\n",
    "applied to `OrderedFactor{2}` then the \"positive\" class is assumed\n",
    "to appear *second* in the ordering. If such a measure is applied to\n",
    "`Multiclass{2}` data, a warning is issued. A single `OrderedFactor`\n",
    "can be coerced to a single `Continuous` variable, for models that\n",
    "require this, while a `Multiclass` variable can only be one-hot\n",
    "encoded."
   ]
  },
  {
   "cell_type": "markdown",
   "metadata": {},
   "source": [
    "### Two-dimensional data"
   ]
  },
  {
   "cell_type": "markdown",
   "metadata": {},
   "source": [
    "Whenever it makes sense, MLJ Models generally expect two-dimensional\n",
    "data to be *tabular*. All the tabular formats implementing the\n",
    "[Tables.jl API](https://juliadata.github.io/Tables.jl/stable/) (see\n",
    "this\n",
    "[list](https://github.com/JuliaData/Tables.jl/blob/master/INTEGRATIONS.md))\n",
    "have a scientific type of `Table` and can be used with such models."
   ]
  },
  {
   "cell_type": "markdown",
   "metadata": {},
   "source": [
    "Probably the simplest example of a table is the julia native *column\n",
    "table*, which is just a named tuple of equal-length vectors:"
   ]
  },
  {
   "cell_type": "code",
   "execution_count": 12,
   "metadata": {},
   "outputs": [
    {
     "data": {
      "text/plain": [
       "(h = [185.0, 153.0, 163.0, 114.0, 180.0],\n",
       " e = Union{Missing, CategoricalValue{String, UInt32}}[\"rotten\", \"great\", \"bla\", missing, \"great\"],\n",
       " t = [2.3, 4.5, 4.2, 1.8, 7.1],)"
      ]
     },
     "execution_count": 12,
     "metadata": {},
     "output_type": "execute_result"
    }
   ],
   "source": [
    "column_table = (h=height, e=exam_mark, t=time)"
   ]
  },
  {
   "cell_type": "code",
   "execution_count": 13,
   "metadata": {},
   "outputs": [
    {
     "data": {
      "text/plain": [
       "Table{Union{AbstractVector{Union{Missing, OrderedFactor{3}}}, AbstractVector{Continuous}}}"
      ]
     },
     "execution_count": 13,
     "metadata": {},
     "output_type": "execute_result"
    }
   ],
   "source": [
    "scitype(column_table)"
   ]
  },
  {
   "cell_type": "markdown",
   "metadata": {},
   "source": [
    "Notice the `Table{K}` type parameter `K` encodes the scientific\n",
    "types of the columns. (This is useful when comparing table scitypes\n",
    "with `<:`). To inspect the individual column scitypes, we use the\n",
    "`schema` method instead:"
   ]
  },
  {
   "cell_type": "code",
   "execution_count": 14,
   "metadata": {},
   "outputs": [
    {
     "data": {
      "text/plain": [
       "┌─────────┬──────────────────────────────────────────────────┬──────────────────\n",
       "│\u001b[22m _.names \u001b[0m│\u001b[22m _.types                                          \u001b[0m│\u001b[22m _.scitypes     \u001b[0m ⋯\n",
       "├─────────┼──────────────────────────────────────────────────┼──────────────────\n",
       "│ h       │ Float64                                          │ Continuous      ⋯\n",
       "│ e       │ Union{Missing, CategoricalValue{String, UInt32}} │ Union{Missing,  ⋯\n",
       "│ t       │ Float64                                          │ Continuous      ⋯\n",
       "└─────────┴──────────────────────────────────────────────────┴──────────────────\n",
       "\u001b[36m                                                                1 column omitted\u001b[0m\n",
       "_.nrows = 5\n"
      ]
     },
     "execution_count": 14,
     "metadata": {},
     "output_type": "execute_result"
    }
   ],
   "source": [
    "schema(column_table)"
   ]
  },
  {
   "cell_type": "markdown",
   "metadata": {},
   "source": [
    "Here are five other examples of tables:"
   ]
  },
  {
   "cell_type": "code",
   "execution_count": 15,
   "metadata": {},
   "outputs": [
    {
     "data": {
      "text/plain": [
       "┌─────────┬──────────────────────────────────────────────────┬──────────────────\n",
       "│\u001b[22m _.names \u001b[0m│\u001b[22m _.types                                          \u001b[0m│\u001b[22m _.scitypes     \u001b[0m ⋯\n",
       "├─────────┼──────────────────────────────────────────────────┼──────────────────\n",
       "│ e       │ Union{Missing, CategoricalValue{String, UInt32}} │ Union{Missing,  ⋯\n",
       "│ h       │ Float64                                          │ Continuous      ⋯\n",
       "│ t       │ Float64                                          │ Continuous      ⋯\n",
       "└─────────┴──────────────────────────────────────────────────┴──────────────────\n",
       "\u001b[36m                                                                1 column omitted\u001b[0m\n",
       "_.nrows = 5\n"
      ]
     },
     "execution_count": 15,
     "metadata": {},
     "output_type": "execute_result"
    }
   ],
   "source": [
    "dict_table = Dict(:h => height, :e => exam_mark, :t => time)\n",
    "schema(dict_table)"
   ]
  },
  {
   "cell_type": "markdown",
   "metadata": {},
   "source": [
    "(To control column order here, instead use `LittleDict` from\n",
    "OrderedCollections.jl.)"
   ]
  },
  {
   "cell_type": "code",
   "execution_count": 16,
   "metadata": {},
   "outputs": [
    {
     "data": {
      "text/plain": [
       "┌─────────┬─────────┬────────────┐\n",
       "│\u001b[22m _.names \u001b[0m│\u001b[22m _.types \u001b[0m│\u001b[22m _.scitypes \u001b[0m│\n",
       "├─────────┼─────────┼────────────┤\n",
       "│ a       │ Int64   │ Count      │\n",
       "│ b       │ Float64 │ Continuous │\n",
       "└─────────┴─────────┴────────────┘\n",
       "_.nrows = 3\n"
      ]
     },
     "execution_count": 16,
     "metadata": {},
     "output_type": "execute_result"
    }
   ],
   "source": [
    "row_table = [(a=1, b=3.4),\n",
    "             (a=2, b=4.5),\n",
    "             (a=3, b=5.6)]\n",
    "schema(row_table)"
   ]
  },
  {
   "cell_type": "code",
   "execution_count": 17,
   "metadata": {},
   "outputs": [
    {
     "data": {
      "text/html": [
       "<div class=\"data-frame\"><p>5 rows × 3 columns</p><table class=\"data-frame\"><thead><tr><th></th><th>h</th><th>e</th><th>t</th></tr><tr><th></th><th title=\"Float64\">Float64</th><th title=\"Union{Missing, CategoricalValue{String, UInt32}}\">Cat…?</th><th title=\"Float64\">Float64</th></tr></thead><tbody><tr><th>1</th><td>185.0</td><td>rotten</td><td>2.3</td></tr><tr><th>2</th><td>153.0</td><td>great</td><td>4.5</td></tr><tr><th>3</th><td>163.0</td><td>bla</td><td>4.2</td></tr><tr><th>4</th><td>114.0</td><td><em>missing</em></td><td>1.8</td></tr><tr><th>5</th><td>180.0</td><td>great</td><td>7.1</td></tr></tbody></table></div>"
      ],
      "text/latex": [
       "\\begin{tabular}{r|ccc}\n",
       "\t& h & e & t\\\\\n",
       "\t\\hline\n",
       "\t& Float64 & Cat…? & Float64\\\\\n",
       "\t\\hline\n",
       "\t1 & 185.0 & rotten & 2.3 \\\\\n",
       "\t2 & 153.0 & great & 4.5 \\\\\n",
       "\t3 & 163.0 & bla & 4.2 \\\\\n",
       "\t4 & 114.0 & \\emph{missing} & 1.8 \\\\\n",
       "\t5 & 180.0 & great & 7.1 \\\\\n",
       "\\end{tabular}\n"
      ],
      "text/plain": [
       "\u001b[1m5×3 DataFrame\u001b[0m\n",
       "\u001b[1m Row \u001b[0m│\u001b[1m h       \u001b[0m\u001b[1m e       \u001b[0m\u001b[1m t       \u001b[0m\n",
       "\u001b[1m     \u001b[0m│\u001b[90m Float64 \u001b[0m\u001b[90m Cat…?   \u001b[0m\u001b[90m Float64 \u001b[0m\n",
       "─────┼───────────────────────────\n",
       "   1 │   185.0  rotten       2.3\n",
       "   2 │   153.0  great        4.5\n",
       "   3 │   163.0  bla          4.2\n",
       "   4 │   114.0 \u001b[90m missing \u001b[0m     1.8\n",
       "   5 │   180.0  great        7.1"
      ]
     },
     "execution_count": 17,
     "metadata": {},
     "output_type": "execute_result"
    }
   ],
   "source": [
    "import DataFrames\n",
    "df = DataFrames.DataFrame(column_table)"
   ]
  },
  {
   "cell_type": "code",
   "execution_count": 18,
   "metadata": {},
   "outputs": [
    {
     "data": {
      "text/plain": [
       "true"
      ]
     },
     "execution_count": 18,
     "metadata": {},
     "output_type": "execute_result"
    }
   ],
   "source": [
    "schema(df) == schema(column_table)"
   ]
  },
  {
   "cell_type": "code",
   "execution_count": 19,
   "metadata": {},
   "outputs": [
    {
     "data": {
      "text/plain": [
       "┌─────────────────────────┬─────────┬────────────┐\n",
       "│\u001b[22m _.names                 \u001b[0m│\u001b[22m _.types \u001b[0m│\u001b[22m _.scitypes \u001b[0m│\n",
       "├─────────────────────────┼─────────┼────────────┤\n",
       "│ surgery                 │ Int64   │ Count      │\n",
       "│ age                     │ Int64   │ Count      │\n",
       "│ rectal_temperature      │ Float64 │ Continuous │\n",
       "│ pulse                   │ Int64   │ Count      │\n",
       "│ respiratory_rate        │ Int64   │ Count      │\n",
       "│ temperature_extremities │ Int64   │ Count      │\n",
       "│ mucous_membranes        │ Int64   │ Count      │\n",
       "│ capillary_refill_time   │ Int64   │ Count      │\n",
       "│ pain                    │ Int64   │ Count      │\n",
       "│ peristalsis             │ Int64   │ Count      │\n",
       "│ abdominal_distension    │ Int64   │ Count      │\n",
       "│ packed_cell_volume      │ Float64 │ Continuous │\n",
       "│ total_protein           │ Float64 │ Continuous │\n",
       "│ outcome                 │ Int64   │ Count      │\n",
       "│ surgical_lesion         │ Int64   │ Count      │\n",
       "│ cp_data                 │ Int64   │ Count      │\n",
       "└─────────────────────────┴─────────┴────────────┘\n",
       "_.nrows = 366\n"
      ]
     },
     "execution_count": 19,
     "metadata": {},
     "output_type": "execute_result"
    }
   ],
   "source": [
    "using CSV\n",
    "file = CSV.File(joinpath(DIR, \"data\", \"horse.csv\"));\n",
    "schema(file) # (triggers a file read)"
   ]
  },
  {
   "cell_type": "markdown",
   "metadata": {},
   "source": [
    "Most MLJ models do not accept matrix in lieu of a table, but you can\n",
    "wrap a matrix as a table:"
   ]
  },
  {
   "cell_type": "code",
   "execution_count": 20,
   "metadata": {},
   "outputs": [
    {
     "data": {
      "text/plain": [
       "┌─────────┬─────────┬────────────┐\n",
       "│\u001b[22m _.names \u001b[0m│\u001b[22m _.types \u001b[0m│\u001b[22m _.scitypes \u001b[0m│\n",
       "├─────────┼─────────┼────────────┤\n",
       "│ x1      │ Float64 │ Continuous │\n",
       "│ x2      │ Float64 │ Continuous │\n",
       "│ x3      │ Float64 │ Continuous │\n",
       "└─────────┴─────────┴────────────┘\n",
       "_.nrows = 2\n"
      ]
     },
     "execution_count": 20,
     "metadata": {},
     "output_type": "execute_result"
    }
   ],
   "source": [
    "matrix_table = MLJ.table(rand(2,3))\n",
    "schema(matrix_table)"
   ]
  },
  {
   "cell_type": "markdown",
   "metadata": {},
   "source": [
    "The matrix is *not* copied, only wrapped. Some models may perform\n",
    "better if one wraps the adjoint of the transpose - see\n",
    "[here](https://alan-turing-institute.github.io/MLJ.jl/dev/getting_started/#Observations-correspond-to-rows,-not-columns)."
   ]
  },
  {
   "cell_type": "markdown",
   "metadata": {},
   "source": [
    "**Manipulating tabular data.** In this workshop we assume\n",
    "familiarity with some kind of tabular data container (although it is\n",
    "possible, in principle, to carry out the exercises without this.)\n",
    "For a quick start introduction to `DataFrames`, see [this\n",
    "tutorial](https://juliaai.github.io/DataScienceTutorials.jl/data/dataframe/)."
   ]
  },
  {
   "cell_type": "markdown",
   "metadata": {},
   "source": [
    "### Fixing scientific types in tabular data"
   ]
  },
  {
   "cell_type": "markdown",
   "metadata": {},
   "source": [
    "To show how we can correct the scientific types of data in tables,\n",
    "we introduce a cleaned up version of the UCI Horse Colic Data Set\n",
    "(the cleaning work-flow is described\n",
    "[here](https://juliaai.github.io/DataScienceTutorials.jl/end-to-end/horse/#dealing_with_missing_values))."
   ]
  },
  {
   "cell_type": "code",
   "execution_count": 21,
   "metadata": {},
   "outputs": [
    {
     "data": {
      "text/html": [
       "<div class=\"data-frame\"><p>4 rows × 16 columns (omitted printing of 10 columns)</p><table class=\"data-frame\"><thead><tr><th></th><th>surgery</th><th>age</th><th>rectal_temperature</th><th>pulse</th><th>respiratory_rate</th><th>temperature_extremities</th></tr><tr><th></th><th title=\"Int64\">Int64</th><th title=\"Int64\">Int64</th><th title=\"Float64\">Float64</th><th title=\"Int64\">Int64</th><th title=\"Int64\">Int64</th><th title=\"Int64\">Int64</th></tr></thead><tbody><tr><th>1</th><td>2</td><td>1</td><td>38.5</td><td>66</td><td>66</td><td>3</td></tr><tr><th>2</th><td>1</td><td>1</td><td>39.2</td><td>88</td><td>88</td><td>3</td></tr><tr><th>3</th><td>2</td><td>1</td><td>38.3</td><td>40</td><td>40</td><td>1</td></tr><tr><th>4</th><td>1</td><td>9</td><td>39.1</td><td>164</td><td>164</td><td>4</td></tr></tbody></table></div>"
      ],
      "text/latex": [
       "\\begin{tabular}{r|ccccccc}\n",
       "\t& surgery & age & rectal\\_temperature & pulse & respiratory\\_rate & temperature\\_extremities & \\\\\n",
       "\t\\hline\n",
       "\t& Int64 & Int64 & Float64 & Int64 & Int64 & Int64 & \\\\\n",
       "\t\\hline\n",
       "\t1 & 2 & 1 & 38.5 & 66 & 66 & 3 & $\\dots$ \\\\\n",
       "\t2 & 1 & 1 & 39.2 & 88 & 88 & 3 & $\\dots$ \\\\\n",
       "\t3 & 2 & 1 & 38.3 & 40 & 40 & 1 & $\\dots$ \\\\\n",
       "\t4 & 1 & 9 & 39.1 & 164 & 164 & 4 & $\\dots$ \\\\\n",
       "\\end{tabular}\n"
      ],
      "text/plain": [
       "\u001b[1m4×16 DataFrame\u001b[0m\n",
       "\u001b[1m Row \u001b[0m│\u001b[1m surgery \u001b[0m\u001b[1m age   \u001b[0m\u001b[1m rectal_temperature \u001b[0m\u001b[1m pulse \u001b[0m\u001b[1m respiratory_rate \u001b[0m\u001b[1m temperatur\u001b[0m ⋯\n",
       "\u001b[1m     \u001b[0m│\u001b[90m Int64   \u001b[0m\u001b[90m Int64 \u001b[0m\u001b[90m Float64            \u001b[0m\u001b[90m Int64 \u001b[0m\u001b[90m Int64            \u001b[0m\u001b[90m Int64     \u001b[0m ⋯\n",
       "─────┼──────────────────────────────────────────────────────────────────────────\n",
       "   1 │       2      1                38.5     66                66             ⋯\n",
       "   2 │       1      1                39.2     88                88\n",
       "   3 │       2      1                38.3     40                40\n",
       "   4 │       1      9                39.1    164               164\n",
       "\u001b[36m                                                              11 columns omitted\u001b[0m"
      ]
     },
     "execution_count": 21,
     "metadata": {},
     "output_type": "execute_result"
    }
   ],
   "source": [
    "using CSV\n",
    "file = CSV.File(joinpath(DIR, \"data\", \"horse.csv\"));\n",
    "horse = DataFrames.DataFrame(file); # convert to data frame without copying columns\n",
    "first(horse, 4)"
   ]
  },
  {
   "cell_type": "markdown",
   "metadata": {},
   "source": [
    "From [the UCI\n",
    "docs](http://archive.ics.uci.edu/ml/datasets/Horse+Colic) we can\n",
    "surmise how each variable ought to be interpreted (a step in our\n",
    "work-flow that cannot reliably be left to the computer):"
   ]
  },
  {
   "cell_type": "markdown",
   "metadata": {},
   "source": [
    "variable                    | scientific type (interpretation)\n",
    "----------------------------|-----------------------------------\n",
    "`:surgery`                  | Multiclass\n",
    "`:age`                      | Multiclass\n",
    "`:rectal_temperature`       | Continuous\n",
    "`:pulse`                    | Continuous\n",
    "`:respiratory_rate`         | Continuous\n",
    "`:temperature_extremities`  | OrderedFactor\n",
    "`:mucous_membranes`         | Multiclass\n",
    "`:capillary_refill_time`    | Multiclass\n",
    "`:pain`                     | OrderedFactor\n",
    "`:peristalsis`              | OrderedFactor\n",
    "`:abdominal_distension`     | OrderedFactor\n",
    "`:packed_cell_volume`       | Continuous\n",
    "`:total_protein`            | Continuous\n",
    "`:outcome`                  | Multiclass\n",
    "`:surgical_lesion`          | OrderedFactor\n",
    "`:cp_data`                  | Multiclass"
   ]
  },
  {
   "cell_type": "markdown",
   "metadata": {},
   "source": [
    "Let's see how MLJ will actually interpret the data, as it is\n",
    "currently encoded:"
   ]
  },
  {
   "cell_type": "code",
   "execution_count": 22,
   "metadata": {},
   "outputs": [
    {
     "data": {
      "text/plain": [
       "┌─────────────────────────┬─────────┬────────────┐\n",
       "│\u001b[22m _.names                 \u001b[0m│\u001b[22m _.types \u001b[0m│\u001b[22m _.scitypes \u001b[0m│\n",
       "├─────────────────────────┼─────────┼────────────┤\n",
       "│ surgery                 │ Int64   │ Count      │\n",
       "│ age                     │ Int64   │ Count      │\n",
       "│ rectal_temperature      │ Float64 │ Continuous │\n",
       "│ pulse                   │ Int64   │ Count      │\n",
       "│ respiratory_rate        │ Int64   │ Count      │\n",
       "│ temperature_extremities │ Int64   │ Count      │\n",
       "│ mucous_membranes        │ Int64   │ Count      │\n",
       "│ capillary_refill_time   │ Int64   │ Count      │\n",
       "│ pain                    │ Int64   │ Count      │\n",
       "│ peristalsis             │ Int64   │ Count      │\n",
       "│ abdominal_distension    │ Int64   │ Count      │\n",
       "│ packed_cell_volume      │ Float64 │ Continuous │\n",
       "│ total_protein           │ Float64 │ Continuous │\n",
       "│ outcome                 │ Int64   │ Count      │\n",
       "│ surgical_lesion         │ Int64   │ Count      │\n",
       "│ cp_data                 │ Int64   │ Count      │\n",
       "└─────────────────────────┴─────────┴────────────┘\n",
       "_.nrows = 366\n"
      ]
     },
     "execution_count": 22,
     "metadata": {},
     "output_type": "execute_result"
    }
   ],
   "source": [
    "schema(horse)"
   ]
  },
  {
   "cell_type": "markdown",
   "metadata": {},
   "source": [
    "As a first correction step, we can get MLJ to \"guess\" the\n",
    "appropriate fix, using the `autotype` method:"
   ]
  },
  {
   "cell_type": "code",
   "execution_count": 23,
   "metadata": {},
   "outputs": [
    {
     "data": {
      "text/plain": [
       "Dict{Symbol, Type} with 11 entries:\n",
       "  :abdominal_distension    => OrderedFactor\n",
       "  :pain                    => OrderedFactor\n",
       "  :surgery                 => OrderedFactor\n",
       "  :mucous_membranes        => OrderedFactor\n",
       "  :surgical_lesion         => OrderedFactor\n",
       "  :outcome                 => OrderedFactor\n",
       "  :capillary_refill_time   => OrderedFactor\n",
       "  :age                     => OrderedFactor\n",
       "  :temperature_extremities => OrderedFactor\n",
       "  :peristalsis             => OrderedFactor\n",
       "  :cp_data                 => OrderedFactor"
      ]
     },
     "execution_count": 23,
     "metadata": {},
     "output_type": "execute_result"
    }
   ],
   "source": [
    "autotype(horse)"
   ]
  },
  {
   "cell_type": "markdown",
   "metadata": {},
   "source": [
    "Okay, this is not perfect, but a step in the right direction, which\n",
    "we implement like this:"
   ]
  },
  {
   "cell_type": "code",
   "execution_count": 24,
   "metadata": {},
   "outputs": [
    {
     "data": {
      "text/plain": [
       "┌─────────────────────────┬─────────────────────────────────┬───────────────────\n",
       "│\u001b[22m _.names                 \u001b[0m│\u001b[22m _.types                         \u001b[0m│\u001b[22m _.scitypes      \u001b[0m ⋯\n",
       "├─────────────────────────┼─────────────────────────────────┼───────────────────\n",
       "│ surgery                 │ CategoricalValue{Int64, UInt32} │ OrderedFactor{2} ⋯\n",
       "│ age                     │ CategoricalValue{Int64, UInt32} │ OrderedFactor{2} ⋯\n",
       "│ rectal_temperature      │ Float64                         │ Continuous       ⋯\n",
       "│ pulse                   │ Int64                           │ Count            ⋯\n",
       "│ respiratory_rate        │ Int64                           │ Count            ⋯\n",
       "│ temperature_extremities │ CategoricalValue{Int64, UInt32} │ OrderedFactor{4} ⋯\n",
       "│ mucous_membranes        │ CategoricalValue{Int64, UInt32} │ OrderedFactor{6} ⋯\n",
       "│ capillary_refill_time   │ CategoricalValue{Int64, UInt32} │ OrderedFactor{3} ⋯\n",
       "│ pain                    │ CategoricalValue{Int64, UInt32} │ OrderedFactor{5} ⋯\n",
       "│ peristalsis             │ CategoricalValue{Int64, UInt32} │ OrderedFactor{4} ⋯\n",
       "│ abdominal_distension    │ CategoricalValue{Int64, UInt32} │ OrderedFactor{4} ⋯\n",
       "│ packed_cell_volume      │ Float64                         │ Continuous       ⋯\n",
       "│ total_protein           │ Float64                         │ Continuous       ⋯\n",
       "│ outcome                 │ CategoricalValue{Int64, UInt32} │ OrderedFactor{3} ⋯\n",
       "│ surgical_lesion         │ CategoricalValue{Int64, UInt32} │ OrderedFactor{2} ⋯\n",
       "│ cp_data                 │ CategoricalValue{Int64, UInt32} │ OrderedFactor{2} ⋯\n",
       "└─────────────────────────┴─────────────────────────────────┴───────────────────\n",
       "_.nrows = 366\n"
      ]
     },
     "execution_count": 24,
     "metadata": {},
     "output_type": "execute_result"
    }
   ],
   "source": [
    "coerce!(horse, autotype(horse));\n",
    "schema(horse)"
   ]
  },
  {
   "cell_type": "markdown",
   "metadata": {},
   "source": [
    "All remaining `Count` data should be `Continuous`:"
   ]
  },
  {
   "cell_type": "code",
   "execution_count": 25,
   "metadata": {},
   "outputs": [
    {
     "data": {
      "text/plain": [
       "┌─────────────────────────┬─────────────────────────────────┬───────────────────\n",
       "│\u001b[22m _.names                 \u001b[0m│\u001b[22m _.types                         \u001b[0m│\u001b[22m _.scitypes      \u001b[0m ⋯\n",
       "├─────────────────────────┼─────────────────────────────────┼───────────────────\n",
       "│ surgery                 │ CategoricalValue{Int64, UInt32} │ OrderedFactor{2} ⋯\n",
       "│ age                     │ CategoricalValue{Int64, UInt32} │ OrderedFactor{2} ⋯\n",
       "│ rectal_temperature      │ Float64                         │ Continuous       ⋯\n",
       "│ pulse                   │ Float64                         │ Continuous       ⋯\n",
       "│ respiratory_rate        │ Float64                         │ Continuous       ⋯\n",
       "│ temperature_extremities │ CategoricalValue{Int64, UInt32} │ OrderedFactor{4} ⋯\n",
       "│ mucous_membranes        │ CategoricalValue{Int64, UInt32} │ OrderedFactor{6} ⋯\n",
       "│ capillary_refill_time   │ CategoricalValue{Int64, UInt32} │ OrderedFactor{3} ⋯\n",
       "│ pain                    │ CategoricalValue{Int64, UInt32} │ OrderedFactor{5} ⋯\n",
       "│ peristalsis             │ CategoricalValue{Int64, UInt32} │ OrderedFactor{4} ⋯\n",
       "│ abdominal_distension    │ CategoricalValue{Int64, UInt32} │ OrderedFactor{4} ⋯\n",
       "│ packed_cell_volume      │ Float64                         │ Continuous       ⋯\n",
       "│ total_protein           │ Float64                         │ Continuous       ⋯\n",
       "│ outcome                 │ CategoricalValue{Int64, UInt32} │ OrderedFactor{3} ⋯\n",
       "│ surgical_lesion         │ CategoricalValue{Int64, UInt32} │ OrderedFactor{2} ⋯\n",
       "│ cp_data                 │ CategoricalValue{Int64, UInt32} │ OrderedFactor{2} ⋯\n",
       "└─────────────────────────┴─────────────────────────────────┴───────────────────\n",
       "_.nrows = 366\n"
      ]
     },
     "execution_count": 25,
     "metadata": {},
     "output_type": "execute_result"
    }
   ],
   "source": [
    "coerce!(horse, Count => Continuous);\n",
    "schema(horse)"
   ]
  },
  {
   "cell_type": "markdown",
   "metadata": {},
   "source": [
    "We'll correct the remaining truant entries manually:"
   ]
  },
  {
   "cell_type": "code",
   "execution_count": 26,
   "metadata": {},
   "outputs": [
    {
     "data": {
      "text/plain": [
       "┌─────────────────────────┬─────────────────────────────────┬───────────────────\n",
       "│\u001b[22m _.names                 \u001b[0m│\u001b[22m _.types                         \u001b[0m│\u001b[22m _.scitypes      \u001b[0m ⋯\n",
       "├─────────────────────────┼─────────────────────────────────┼───────────────────\n",
       "│ surgery                 │ CategoricalValue{Int64, UInt32} │ Multiclass{2}    ⋯\n",
       "│ age                     │ CategoricalValue{Int64, UInt32} │ Multiclass{2}    ⋯\n",
       "│ rectal_temperature      │ Float64                         │ Continuous       ⋯\n",
       "│ pulse                   │ Float64                         │ Continuous       ⋯\n",
       "│ respiratory_rate        │ Float64                         │ Continuous       ⋯\n",
       "│ temperature_extremities │ CategoricalValue{Int64, UInt32} │ OrderedFactor{4} ⋯\n",
       "│ mucous_membranes        │ CategoricalValue{Int64, UInt32} │ Multiclass{6}    ⋯\n",
       "│ capillary_refill_time   │ CategoricalValue{Int64, UInt32} │ Multiclass{3}    ⋯\n",
       "│ pain                    │ CategoricalValue{Int64, UInt32} │ OrderedFactor{5} ⋯\n",
       "│ peristalsis             │ CategoricalValue{Int64, UInt32} │ OrderedFactor{4} ⋯\n",
       "│ abdominal_distension    │ CategoricalValue{Int64, UInt32} │ OrderedFactor{4} ⋯\n",
       "│ packed_cell_volume      │ Float64                         │ Continuous       ⋯\n",
       "│ total_protein           │ Float64                         │ Continuous       ⋯\n",
       "│ outcome                 │ CategoricalValue{Int64, UInt32} │ Multiclass{3}    ⋯\n",
       "│ surgical_lesion         │ CategoricalValue{Int64, UInt32} │ OrderedFactor{2} ⋯\n",
       "│ cp_data                 │ CategoricalValue{Int64, UInt32} │ Multiclass{2}    ⋯\n",
       "└─────────────────────────┴─────────────────────────────────┴───────────────────\n",
       "_.nrows = 366\n"
      ]
     },
     "execution_count": 26,
     "metadata": {},
     "output_type": "execute_result"
    }
   ],
   "source": [
    "coerce!(horse,\n",
    "        :surgery               => Multiclass,\n",
    "        :age                   => Multiclass,\n",
    "        :mucous_membranes      => Multiclass,\n",
    "        :capillary_refill_time => Multiclass,\n",
    "        :outcome               => Multiclass,\n",
    "        :cp_data               => Multiclass);\n",
    "schema(horse)"
   ]
  },
  {
   "cell_type": "markdown",
   "metadata": {},
   "source": [
    "### Resources for Part 1\n",
    "\n",
    "- From the MLJ manual:\n",
    "   - [A preview of data type specification in\n",
    "  MLJ](https://alan-turing-institute.github.io/MLJ.jl/dev/getting_started/#A-preview-of-data-type-specification-in-MLJ-1)\n",
    "   - [Data containers and scientific types](https://alan-turing-institute.github.io/MLJ.jl/dev/getting_started/#Data-containers-and-scientific-types-1)\n",
    "   - [Working with Categorical Data](https://alan-turing-institute.github.io/MLJ.jl/dev/working_with_categorical_data/)\n",
    "- [Summary](https://juliaai.github.io/ScientificTypes.jl/dev/#Summary-of-the-default-convention) of the MLJ convention for representing scientific types\n",
    "- [ScientificTypes.jl](https://juliaai.github.io/ScientificTypes.jl/dev/)\n",
    "- From Data Science Tutorials:\n",
    "    - [Data interpretation: Scientific Types](https://juliaai.github.io/DataScienceTutorials.jl/data/scitype/)\n",
    "    - [Horse colic data](https://juliaai.github.io/DataScienceTutorials.jl/end-to-end/horse/)\n",
    "- [UCI Horse Colic Data Set](http://archive.ics.uci.edu/ml/datasets/Horse+Colic)"
   ]
  },
  {
   "cell_type": "markdown",
   "metadata": {},
   "source": [
    "### Exercises for Part 1"
   ]
  },
  {
   "cell_type": "markdown",
   "metadata": {},
   "source": [
    "#### Exercise 1"
   ]
  },
  {
   "cell_type": "markdown",
   "metadata": {},
   "source": [
    "Try to guess how each code snippet below will evaluate:"
   ]
  },
  {
   "cell_type": "code",
   "execution_count": 27,
   "metadata": {},
   "outputs": [
    {
     "data": {
      "text/plain": [
       "Count"
      ]
     },
     "execution_count": 27,
     "metadata": {},
     "output_type": "execute_result"
    }
   ],
   "source": [
    "scitype(42)"
   ]
  },
  {
   "cell_type": "code",
   "execution_count": 28,
   "metadata": {},
   "outputs": [
    {
     "data": {
      "text/plain": [
       "AbstractVector{Textual} (alias for AbstractArray{Textual, 1})"
      ]
     },
     "execution_count": 28,
     "metadata": {},
     "output_type": "execute_result"
    }
   ],
   "source": [
    "questions = [\"who\", \"why\", \"what\", \"when\"]\n",
    "scitype(questions)"
   ]
  },
  {
   "cell_type": "code",
   "execution_count": 29,
   "metadata": {},
   "outputs": [
    {
     "data": {
      "text/plain": [
       "Textual"
      ]
     },
     "execution_count": 29,
     "metadata": {},
     "output_type": "execute_result"
    }
   ],
   "source": [
    "elscitype(questions)"
   ]
  },
  {
   "cell_type": "code",
   "execution_count": 30,
   "metadata": {},
   "outputs": [
    {
     "data": {
      "text/plain": [
       "Tuple{Continuous, Count, Textual}"
      ]
     },
     "execution_count": 30,
     "metadata": {},
     "output_type": "execute_result"
    }
   ],
   "source": [
    "t = (3.141, 42, \"how\")\n",
    "scitype(t)"
   ]
  },
  {
   "cell_type": "code",
   "execution_count": 31,
   "metadata": {},
   "outputs": [
    {
     "data": {
      "text/plain": [
       "2×3 Matrix{Float64}:\n",
       " 0.578566  0.0280166  0.974146\n",
       " 0.518531  0.910351   0.796979"
      ]
     },
     "execution_count": 31,
     "metadata": {},
     "output_type": "execute_result"
    }
   ],
   "source": [
    "A = rand(2, 3)"
   ]
  },
  {
   "cell_type": "markdown",
   "metadata": {},
   "source": [
    "-"
   ]
  },
  {
   "cell_type": "code",
   "execution_count": 32,
   "metadata": {},
   "outputs": [
    {
     "data": {
      "text/plain": [
       "AbstractMatrix{Continuous} (alias for AbstractArray{Continuous, 2})"
      ]
     },
     "execution_count": 32,
     "metadata": {},
     "output_type": "execute_result"
    }
   ],
   "source": [
    "scitype(A)"
   ]
  },
  {
   "cell_type": "code",
   "execution_count": 33,
   "metadata": {},
   "outputs": [
    {
     "data": {
      "text/plain": [
       "Continuous"
      ]
     },
     "execution_count": 33,
     "metadata": {},
     "output_type": "execute_result"
    }
   ],
   "source": [
    "elscitype(A)"
   ]
  },
  {
   "cell_type": "code",
   "execution_count": 34,
   "metadata": {},
   "outputs": [
    {
     "data": {
      "text/plain": [
       "2×3 SparseMatrixCSC{Float64, Int64} with 6 stored entries:\n",
       " 0.578566  0.0280166  0.974146\n",
       " 0.518531  0.910351   0.796979"
      ]
     },
     "execution_count": 34,
     "metadata": {},
     "output_type": "execute_result"
    }
   ],
   "source": [
    "using SparseArrays\n",
    "Asparse = sparse(A)"
   ]
  },
  {
   "cell_type": "code",
   "execution_count": 35,
   "metadata": {},
   "outputs": [
    {
     "data": {
      "text/plain": [
       "AbstractMatrix{Continuous} (alias for AbstractArray{Continuous, 2})"
      ]
     },
     "execution_count": 35,
     "metadata": {},
     "output_type": "execute_result"
    }
   ],
   "source": [
    "scitype(Asparse)"
   ]
  },
  {
   "cell_type": "code",
   "execution_count": 36,
   "metadata": {},
   "outputs": [
    {
     "data": {
      "text/plain": [
       "2×3 CategoricalArray{Float64,2,UInt32}:\n",
       " 0.578566  0.0280166  0.974146\n",
       " 0.518531  0.910351   0.796979"
      ]
     },
     "execution_count": 36,
     "metadata": {},
     "output_type": "execute_result"
    }
   ],
   "source": [
    "using CategoricalArrays\n",
    "C1 = categorical(A)"
   ]
  },
  {
   "cell_type": "code",
   "execution_count": 37,
   "metadata": {},
   "outputs": [
    {
     "data": {
      "text/plain": [
       "AbstractMatrix{Multiclass{6}} (alias for AbstractArray{Multiclass{6}, 2})"
      ]
     },
     "execution_count": 37,
     "metadata": {},
     "output_type": "execute_result"
    }
   ],
   "source": [
    "scitype(C1)"
   ]
  },
  {
   "cell_type": "code",
   "execution_count": 38,
   "metadata": {},
   "outputs": [
    {
     "data": {
      "text/plain": [
       "Multiclass{6}"
      ]
     },
     "execution_count": 38,
     "metadata": {},
     "output_type": "execute_result"
    }
   ],
   "source": [
    "elscitype(C1)"
   ]
  },
  {
   "cell_type": "code",
   "execution_count": 39,
   "metadata": {},
   "outputs": [
    {
     "data": {
      "text/plain": [
       "AbstractMatrix{OrderedFactor{6}} (alias for AbstractArray{OrderedFactor{6}, 2})"
      ]
     },
     "execution_count": 39,
     "metadata": {},
     "output_type": "execute_result"
    }
   ],
   "source": [
    "C2 = categorical(A, ordered=true)\n",
    "scitype(C2)"
   ]
  },
  {
   "cell_type": "code",
   "execution_count": 40,
   "metadata": {},
   "outputs": [
    {
     "data": {
      "text/plain": [
       "AbstractVector{Union{Missing, Count}} (alias for AbstractArray{Union{Missing, Count}, 1})"
      ]
     },
     "execution_count": 40,
     "metadata": {},
     "output_type": "execute_result"
    }
   ],
   "source": [
    "v = [1, 2, missing, 4]\n",
    "scitype(v)"
   ]
  },
  {
   "cell_type": "code",
   "execution_count": 41,
   "metadata": {},
   "outputs": [
    {
     "data": {
      "text/plain": [
       "Union{Missing, Count}"
      ]
     },
     "execution_count": 41,
     "metadata": {},
     "output_type": "execute_result"
    }
   ],
   "source": [
    "elscitype(v)"
   ]
  },
  {
   "cell_type": "code",
   "execution_count": 42,
   "metadata": {},
   "outputs": [
    {
     "data": {
      "text/plain": [
       "AbstractVector{Union{Missing, Count}} (alias for AbstractArray{Union{Missing, Count}, 1})"
      ]
     },
     "execution_count": 42,
     "metadata": {},
     "output_type": "execute_result"
    }
   ],
   "source": [
    "scitype(v[1:2])"
   ]
  },
  {
   "cell_type": "markdown",
   "metadata": {},
   "source": [
    "Can you guess at the general behavior of\n",
    "`scitype` with respect to tuples, abstract arrays and missing\n",
    "values? The answers are\n",
    "[here](https://github.com/juliaai/ScientificTypesBase.jl#2-the-scitype-and-scitype-methods)\n",
    "(ignore \"Property 1\")."
   ]
  },
  {
   "cell_type": "markdown",
   "metadata": {},
   "source": [
    "#### Exercise 2"
   ]
  },
  {
   "cell_type": "markdown",
   "metadata": {},
   "source": [
    "Coerce the following vector to make MLJ recognize it as a vector of\n",
    "ordered factors (with an appropriate ordering):"
   ]
  },
  {
   "cell_type": "code",
   "execution_count": 43,
   "metadata": {},
   "outputs": [
    {
     "data": {
      "text/plain": [
       "7-element Vector{Union{Missing, String}}:\n",
       " \"good\"\n",
       " \"poor\"\n",
       " \"poor\"\n",
       " \"excellent\"\n",
       " missing\n",
       " \"good\"\n",
       " \"excellent\""
      ]
     },
     "execution_count": 43,
     "metadata": {},
     "output_type": "execute_result"
    }
   ],
   "source": [
    "quality = [\"good\", \"poor\", \"poor\", \"excellent\", missing, \"good\", \"excellent\"]"
   ]
  },
  {
   "cell_type": "markdown",
   "metadata": {},
   "source": [
    "#### Exercise 3 (fixing scitypes in a table)"
   ]
  },
  {
   "cell_type": "markdown",
   "metadata": {},
   "source": [
    "Fix the scitypes for the [House Prices in King\n",
    "County](https://mlr3gallery.mlr-org.com/posts/2020-01-30-house-prices-in-king-county/)\n",
    "dataset:"
   ]
  },
  {
   "cell_type": "code",
   "execution_count": 44,
   "metadata": {},
   "outputs": [
    {
     "data": {
      "text/html": [
       "<div class=\"data-frame\"><p>4 rows × 19 columns (omitted printing of 11 columns)</p><table class=\"data-frame\"><thead><tr><th></th><th>price</th><th>bedrooms</th><th>bathrooms</th><th>sqft_living</th><th>sqft_lot</th><th>floors</th><th>waterfront</th><th>view</th></tr><tr><th></th><th title=\"Float64\">Float64</th><th title=\"Int64\">Int64</th><th title=\"Float64\">Float64</th><th title=\"Int64\">Int64</th><th title=\"Int64\">Int64</th><th title=\"Float64\">Float64</th><th title=\"Int64\">Int64</th><th title=\"Int64\">Int64</th></tr></thead><tbody><tr><th>1</th><td>221900.0</td><td>3</td><td>1.0</td><td>1180</td><td>5650</td><td>1.0</td><td>0</td><td>0</td></tr><tr><th>2</th><td>538000.0</td><td>3</td><td>2.25</td><td>2570</td><td>7242</td><td>2.0</td><td>0</td><td>0</td></tr><tr><th>3</th><td>180000.0</td><td>2</td><td>1.0</td><td>770</td><td>10000</td><td>1.0</td><td>0</td><td>0</td></tr><tr><th>4</th><td>604000.0</td><td>4</td><td>3.0</td><td>1960</td><td>5000</td><td>1.0</td><td>0</td><td>0</td></tr></tbody></table></div>"
      ],
      "text/latex": [
       "\\begin{tabular}{r|ccccccccc}\n",
       "\t& price & bedrooms & bathrooms & sqft\\_living & sqft\\_lot & floors & waterfront & view & \\\\\n",
       "\t\\hline\n",
       "\t& Float64 & Int64 & Float64 & Int64 & Int64 & Float64 & Int64 & Int64 & \\\\\n",
       "\t\\hline\n",
       "\t1 & 221900.0 & 3 & 1.0 & 1180 & 5650 & 1.0 & 0 & 0 & $\\dots$ \\\\\n",
       "\t2 & 538000.0 & 3 & 2.25 & 2570 & 7242 & 2.0 & 0 & 0 & $\\dots$ \\\\\n",
       "\t3 & 180000.0 & 2 & 1.0 & 770 & 10000 & 1.0 & 0 & 0 & $\\dots$ \\\\\n",
       "\t4 & 604000.0 & 4 & 3.0 & 1960 & 5000 & 1.0 & 0 & 0 & $\\dots$ \\\\\n",
       "\\end{tabular}\n"
      ],
      "text/plain": [
       "\u001b[1m4×19 DataFrame\u001b[0m\n",
       "\u001b[1m Row \u001b[0m│\u001b[1m price    \u001b[0m\u001b[1m bedrooms \u001b[0m\u001b[1m bathrooms \u001b[0m\u001b[1m sqft_living \u001b[0m\u001b[1m sqft_lot \u001b[0m\u001b[1m floors  \u001b[0m\u001b[1m waterfro\u001b[0m ⋯\n",
       "\u001b[1m     \u001b[0m│\u001b[90m Float64  \u001b[0m\u001b[90m Int64    \u001b[0m\u001b[90m Float64   \u001b[0m\u001b[90m Int64       \u001b[0m\u001b[90m Int64    \u001b[0m\u001b[90m Float64 \u001b[0m\u001b[90m Int64   \u001b[0m ⋯\n",
       "─────┼──────────────────────────────────────────────────────────────────────────\n",
       "   1 │ 221900.0         3       1.0          1180      5650      1.0           ⋯\n",
       "   2 │ 538000.0         3       2.25         2570      7242      2.0\n",
       "   3 │ 180000.0         2       1.0           770     10000      1.0\n",
       "   4 │ 604000.0         4       3.0          1960      5000      1.0\n",
       "\u001b[36m                                                              13 columns omitted\u001b[0m"
      ]
     },
     "execution_count": 44,
     "metadata": {},
     "output_type": "execute_result"
    }
   ],
   "source": [
    "file = CSV.File(joinpath(DIR, \"data\", \"house.csv\"));\n",
    "house = DataFrames.DataFrame(file); # convert to data frame without copying columns\n",
    "first(house, 4)"
   ]
  },
  {
   "cell_type": "markdown",
   "metadata": {},
   "source": [
    "(Two features in the original data set have been deemed uninformative\n",
    "and dropped, namely `:id` and `:date`. The original feature\n",
    "`:yr_renovated` has been replaced by the `Bool` feature `is_renovated`.)"
   ]
  },
  {
   "cell_type": "markdown",
   "metadata": {},
   "source": [
    "<a id='part-2-selecting-training-and-evaluating-models'></a>"
   ]
  },
  {
   "cell_type": "markdown",
   "metadata": {},
   "source": [
    "## Part 2 - Selecting, Training and Evaluating Models"
   ]
  },
  {
   "cell_type": "markdown",
   "metadata": {},
   "source": [
    "> **Goals:**\n",
    "> 1. Search MLJ's database of model metadata to identify model candidates for a supervised learning task.\n",
    "> 2. Evaluate the performance of a model on a holdout set using basic `fit!`/`predict` work-flow.\n",
    "> 3. Inspect the outcomes of training and save these to a file.\n",
    "> 3. Evaluate performance using other resampling strategies, such as cross-validation, in one line, using `evaluate!`\n",
    "> 4. Plot a \"learning curve\", to inspect performance as a function of some model hyper-parameter, such as an iteration parameter"
   ]
  },
  {
   "cell_type": "markdown",
   "metadata": {},
   "source": [
    "The \"Hello World!\" of machine learning is to classify Fisher's\n",
    "famous iris data set. This time, we'll grab the data from\n",
    "[OpenML](https://www.openml.org):"
   ]
  },
  {
   "cell_type": "code",
   "execution_count": 45,
   "metadata": {},
   "outputs": [
    {
     "data": {
      "text/latex": [
       "\\textbf{Author}: R.A. Fisher   \\textbf{Source}: \\href{https://archive.ics.uci.edu/ml/datasets/Iris}{UCI} - 1936 - Donated by Michael Marshall   \\textbf{Please cite}:   \n",
       "\n",
       "\\textbf{Iris Plants Database}   This is perhaps the best known database to be found in the pattern recognition literature.  Fisher's paper is a classic in the field and is referenced frequently to this day.  (See Duda \\& Hart, for example.)  The data set contains 3 classes of 50 instances each, where each class refers to a type of iris plant.  One class is     linearly separable from the other 2; the latter are NOT linearly separable from each other.\n",
       "\n",
       "Predicted attribute: class of iris plant.   This is an exceedingly simple domain.  \n",
       "\n",
       "\\subsubsection{Attribute Information:}\n",
       "\\begin{verbatim}\n",
       "1. sepal length in cm\n",
       "2. sepal width in cm\n",
       "3. petal length in cm\n",
       "4. petal width in cm\n",
       "5. class: \n",
       "   -- Iris Setosa\n",
       "   -- Iris Versicolour\n",
       "   -- Iris Virginica\n",
       "\\end{verbatim}\n"
      ],
      "text/markdown": [
       "**Author**: R.A. Fisher   **Source**: [UCI](https://archive.ics.uci.edu/ml/datasets/Iris) - 1936 - Donated by Michael Marshall   **Please cite**:   \n",
       "\n",
       "**Iris Plants Database**   This is perhaps the best known database to be found in the pattern recognition literature.  Fisher's paper is a classic in the field and is referenced frequently to this day.  (See Duda & Hart, for example.)  The data set contains 3 classes of 50 instances each, where each class refers to a type of iris plant.  One class is     linearly separable from the other 2; the latter are NOT linearly separable from each other.\n",
       "\n",
       "Predicted attribute: class of iris plant.   This is an exceedingly simple domain.  \n",
       "\n",
       "### Attribute Information:\n",
       "\n",
       "```\n",
       "1. sepal length in cm\n",
       "2. sepal width in cm\n",
       "3. petal length in cm\n",
       "4. petal width in cm\n",
       "5. class: \n",
       "   -- Iris Setosa\n",
       "   -- Iris Versicolour\n",
       "   -- Iris Virginica\n",
       "```\n"
      ],
      "text/plain": [
       "  \u001b[1mAuthor\u001b[22m: R.A. Fisher \u001b[1mSource\u001b[22m: UCI\n",
       "  (https://archive.ics.uci.edu/ml/datasets/Iris) - 1936 - Donated by Michael\n",
       "  Marshall \u001b[1mPlease cite\u001b[22m:\n",
       "\n",
       "  \u001b[1mIris Plants Database\u001b[22m This is perhaps the best known database to be found in\n",
       "  the pattern recognition literature. Fisher's paper is a classic in the field\n",
       "  and is referenced frequently to this day. (See Duda & Hart, for example.)\n",
       "  The data set contains 3 classes of 50 instances each, where each class\n",
       "  refers to a type of iris plant. One class is linearly separable from the\n",
       "  other 2; the latter are NOT linearly separable from each other.\n",
       "\n",
       "  Predicted attribute: class of iris plant. This is an exceedingly simple\n",
       "  domain.\n",
       "\n",
       "\u001b[1m  Attribute Information:\u001b[22m\n",
       "\u001b[1m  ––––––––––––––––––––––––\u001b[22m\n",
       "\n",
       "\u001b[36m  1. sepal length in cm\u001b[39m\n",
       "\u001b[36m  2. sepal width in cm\u001b[39m\n",
       "\u001b[36m  3. petal length in cm\u001b[39m\n",
       "\u001b[36m  4. petal width in cm\u001b[39m\n",
       "\u001b[36m  5. class: \u001b[39m\n",
       "\u001b[36m     -- Iris Setosa\u001b[39m\n",
       "\u001b[36m     -- Iris Versicolour\u001b[39m\n",
       "\u001b[36m     -- Iris Virginica\u001b[39m"
      ]
     },
     "execution_count": 45,
     "metadata": {},
     "output_type": "execute_result"
    }
   ],
   "source": [
    "OpenML.describe_dataset(61)"
   ]
  },
  {
   "cell_type": "code",
   "execution_count": 46,
   "metadata": {},
   "outputs": [
    {
     "data": {
      "text/html": [
       "<div class=\"data-frame\"><p>4 rows × 5 columns</p><table class=\"data-frame\"><thead><tr><th></th><th>sepallength</th><th>sepalwidth</th><th>petallength</th><th>petalwidth</th><th>class</th></tr><tr><th></th><th title=\"Union{Missing, Float64}\">Float64?</th><th title=\"Union{Missing, Float64}\">Float64?</th><th title=\"Union{Missing, Float64}\">Float64?</th><th title=\"Union{Missing, Float64}\">Float64?</th><th title=\"Union{Missing, CategoricalValue{String, UInt32}}\">Cat…?</th></tr></thead><tbody><tr><th>1</th><td>5.1</td><td>3.5</td><td>1.4</td><td>0.2</td><td>Iris-setosa</td></tr><tr><th>2</th><td>4.9</td><td>3.0</td><td>1.4</td><td>0.2</td><td>Iris-setosa</td></tr><tr><th>3</th><td>4.7</td><td>3.2</td><td>1.3</td><td>0.2</td><td>Iris-setosa</td></tr><tr><th>4</th><td>4.6</td><td>3.1</td><td>1.5</td><td>0.2</td><td>Iris-setosa</td></tr></tbody></table></div>"
      ],
      "text/latex": [
       "\\begin{tabular}{r|ccccc}\n",
       "\t& sepallength & sepalwidth & petallength & petalwidth & class\\\\\n",
       "\t\\hline\n",
       "\t& Float64? & Float64? & Float64? & Float64? & Cat…?\\\\\n",
       "\t\\hline\n",
       "\t1 & 5.1 & 3.5 & 1.4 & 0.2 & Iris-setosa \\\\\n",
       "\t2 & 4.9 & 3.0 & 1.4 & 0.2 & Iris-setosa \\\\\n",
       "\t3 & 4.7 & 3.2 & 1.3 & 0.2 & Iris-setosa \\\\\n",
       "\t4 & 4.6 & 3.1 & 1.5 & 0.2 & Iris-setosa \\\\\n",
       "\\end{tabular}\n"
      ],
      "text/plain": [
       "\u001b[1m4×5 DataFrame\u001b[0m\n",
       "\u001b[1m Row \u001b[0m│\u001b[1m sepallength \u001b[0m\u001b[1m sepalwidth \u001b[0m\u001b[1m petallength \u001b[0m\u001b[1m petalwidth \u001b[0m\u001b[1m class       \u001b[0m\n",
       "\u001b[1m     \u001b[0m│\u001b[90m Float64?    \u001b[0m\u001b[90m Float64?   \u001b[0m\u001b[90m Float64?    \u001b[0m\u001b[90m Float64?   \u001b[0m\u001b[90m Cat…?       \u001b[0m\n",
       "─────┼───────────────────────────────────────────────────────────────\n",
       "   1 │         5.1         3.5          1.4         0.2  Iris-setosa\n",
       "   2 │         4.9         3.0          1.4         0.2  Iris-setosa\n",
       "   3 │         4.7         3.2          1.3         0.2  Iris-setosa\n",
       "   4 │         4.6         3.1          1.5         0.2  Iris-setosa"
      ]
     },
     "execution_count": 46,
     "metadata": {},
     "output_type": "execute_result"
    }
   ],
   "source": [
    "iris = OpenML.load(61); # a row table\n",
    "iris = DataFrames.DataFrame(iris);\n",
    "first(iris, 4)"
   ]
  },
  {
   "cell_type": "markdown",
   "metadata": {},
   "source": [
    "**Main goal.** To build and evaluate models for predicting the\n",
    "`:class` variable, given the four remaining measurement variables."
   ]
  },
  {
   "cell_type": "markdown",
   "metadata": {},
   "source": [
    "### Step 1. Inspect and fix scientific types"
   ]
  },
  {
   "cell_type": "code",
   "execution_count": 47,
   "metadata": {},
   "outputs": [
    {
     "data": {
      "text/plain": [
       "┌─────────────┬──────────────────────────────────────────────────┬──────────────\n",
       "│\u001b[22m _.names     \u001b[0m│\u001b[22m _.types                                          \u001b[0m│\u001b[22m _.scitypes \u001b[0m ⋯\n",
       "├─────────────┼──────────────────────────────────────────────────┼──────────────\n",
       "│ sepallength │ Union{Missing, Float64}                          │ Union{Missi ⋯\n",
       "│ sepalwidth  │ Union{Missing, Float64}                          │ Union{Missi ⋯\n",
       "│ petallength │ Union{Missing, Float64}                          │ Union{Missi ⋯\n",
       "│ petalwidth  │ Union{Missing, Float64}                          │ Union{Missi ⋯\n",
       "│ class       │ Union{Missing, CategoricalValue{String, UInt32}} │ Union{Missi ⋯\n",
       "└─────────────┴──────────────────────────────────────────────────┴──────────────\n",
       "\u001b[36m                                                                1 column omitted\u001b[0m\n",
       "_.nrows = 150\n"
      ]
     },
     "execution_count": 47,
     "metadata": {},
     "output_type": "execute_result"
    }
   ],
   "source": [
    "schema(iris)"
   ]
  },
  {
   "cell_type": "markdown",
   "metadata": {},
   "source": [
    "Unfortunately, `Missing` is appearing in the element type, despite\n",
    "the fact there are no missing values (see this\n",
    "[issue](https://github.com/JuliaAI/OpenML.jl/issues/10)). To do this\n",
    "we have to explicilty tighten the types:"
   ]
  },
  {
   "cell_type": "code",
   "execution_count": 48,
   "metadata": {},
   "outputs": [
    {
     "data": {
      "text/plain": [
       "┌─────────────┬──────────────────────────────────┬───────────────┐\n",
       "│\u001b[22m _.names     \u001b[0m│\u001b[22m _.types                          \u001b[0m│\u001b[22m _.scitypes    \u001b[0m│\n",
       "├─────────────┼──────────────────────────────────┼───────────────┤\n",
       "│ sepallength │ Float64                          │ Continuous    │\n",
       "│ sepalwidth  │ Float64                          │ Continuous    │\n",
       "│ petallength │ Float64                          │ Continuous    │\n",
       "│ petalwidth  │ Float64                          │ Continuous    │\n",
       "│ class       │ CategoricalValue{String, UInt32} │ Multiclass{3} │\n",
       "└─────────────┴──────────────────────────────────┴───────────────┘\n",
       "_.nrows = 150\n"
      ]
     },
     "execution_count": 48,
     "metadata": {},
     "output_type": "execute_result"
    }
   ],
   "source": [
    "coerce!(iris,\n",
    "        Union{Missing,Continuous}=>Continuous,\n",
    "        Union{Missing,Multiclass}=>Multiclass,\n",
    "        tight=true)\n",
    "schema(iris)"
   ]
  },
  {
   "cell_type": "markdown",
   "metadata": {},
   "source": [
    "### Step 2. Split data into input and target parts"
   ]
  },
  {
   "cell_type": "markdown",
   "metadata": {},
   "source": [
    "Here's how we split the data into target and input features, which\n",
    "is needed for MLJ supervised models. We randomize the data at the\n",
    "same time:"
   ]
  },
  {
   "cell_type": "code",
   "execution_count": 49,
   "metadata": {},
   "outputs": [
    {
     "data": {
      "text/plain": [
       "AbstractVector{Multiclass{3}} (alias for AbstractArray{Multiclass{3}, 1})"
      ]
     },
     "execution_count": 49,
     "metadata": {},
     "output_type": "execute_result"
    }
   ],
   "source": [
    "y, X = unpack(iris, ==(:class), name->true; rng=123);\n",
    "scitype(y)"
   ]
  },
  {
   "cell_type": "markdown",
   "metadata": {},
   "source": [
    "Here's one way to access the documentation (at the REPL, `?unpack`\n",
    "also works):"
   ]
  },
  {
   "cell_type": "code",
   "execution_count": 50,
   "metadata": {},
   "outputs": [
    {
     "data": {
      "text/latex": [
       "\\begin{verbatim}\n",
       "t1, t2, ...., tk = unpack(table, f1, f2, ... fk;\n",
       "                         wrap_singles=false,\n",
       "                         shuffle=false,\n",
       "                         rng::Union{AbstractRNG,Int,Nothing}=nothing)\n",
       "\\end{verbatim}\n",
       "Horizontally split any Tables.jl compatible \\texttt{table} into smaller tables (or vectors) \\texttt{t1, t2, ..., tk} by making column selections \\textbf{without replacement} by successively applying the columnn name filters \\texttt{f1}, \\texttt{f2}, ..., \\texttt{fk}. A \\emph{filter} is any object \\texttt{f} such that \\texttt{f(name)} is \\texttt{true} or \\texttt{false} for each column \\texttt{name::Symbol} of \\texttt{table}. For example, use the filter \\texttt{\\_ -> true} to pick up all remaining columns of the table.\n",
       "\n",
       "Whenever a returned table contains a single column, it is converted to a vector unless \\texttt{wrap\\_singles=true}.\n",
       "\n",
       "Scientific type conversions can be optionally specified (note semicolon):\n",
       "\n",
       "\\begin{verbatim}\n",
       "unpack(table, t...; col1=>scitype1, col2=>scitype2, ... )\n",
       "\\end{verbatim}\n",
       "If \\texttt{shuffle=true} then the rows of \\texttt{table} are first shuffled, using the global RNG, unless \\texttt{rng} is specified; if \\texttt{rng} is an integer, it specifies the seed of an automatically generated Mersenne twister. If \\texttt{rng} is specified then \\texttt{shuffle=true} is implicit.\n",
       "\n",
       "\\subsubsection{Example}\n",
       "\\begin{verbatim}\n",
       "julia> table = DataFrame(x=[1,2], y=['a', 'b'], z=[10.0, 20.0], w=[\"A\", \"B\"])\n",
       "julia> Z, XY = unpack(table, ==(:z), !=(:w);\n",
       "               :x=>Continuous, :y=>Multiclass)\n",
       "julia> XY\n",
       "2×2 DataFrame\n",
       "│ Row │ x       │ y            │\n",
       "│     │ Float64 │ Categorical… │\n",
       "├─────┼─────────┼──────────────┤\n",
       "│ 1   │ 1.0     │ 'a'          │\n",
       "│ 2   │ 2.0     │ 'b'          │\n",
       "\n",
       "julia> Z\n",
       "2-element Array{Float64,1}:\n",
       " 10.0\n",
       " 20.0\n",
       "\\end{verbatim}\n"
      ],
      "text/markdown": [
       "```\n",
       "t1, t2, ...., tk = unpack(table, f1, f2, ... fk;\n",
       "                         wrap_singles=false,\n",
       "                         shuffle=false,\n",
       "                         rng::Union{AbstractRNG,Int,Nothing}=nothing)\n",
       "```\n",
       "\n",
       "Horizontally split any Tables.jl compatible `table` into smaller tables (or vectors) `t1, t2, ..., tk` by making column selections **without replacement** by successively applying the columnn name filters `f1`, `f2`, ..., `fk`. A *filter* is any object `f` such that `f(name)` is `true` or `false` for each column `name::Symbol` of `table`. For example, use the filter `_ -> true` to pick up all remaining columns of the table.\n",
       "\n",
       "Whenever a returned table contains a single column, it is converted to a vector unless `wrap_singles=true`.\n",
       "\n",
       "Scientific type conversions can be optionally specified (note semicolon):\n",
       "\n",
       "```\n",
       "unpack(table, t...; col1=>scitype1, col2=>scitype2, ... )\n",
       "```\n",
       "\n",
       "If `shuffle=true` then the rows of `table` are first shuffled, using the global RNG, unless `rng` is specified; if `rng` is an integer, it specifies the seed of an automatically generated Mersenne twister. If `rng` is specified then `shuffle=true` is implicit.\n",
       "\n",
       "### Example\n",
       "\n",
       "```\n",
       "julia> table = DataFrame(x=[1,2], y=['a', 'b'], z=[10.0, 20.0], w=[\"A\", \"B\"])\n",
       "julia> Z, XY = unpack(table, ==(:z), !=(:w);\n",
       "               :x=>Continuous, :y=>Multiclass)\n",
       "julia> XY\n",
       "2×2 DataFrame\n",
       "│ Row │ x       │ y            │\n",
       "│     │ Float64 │ Categorical… │\n",
       "├─────┼─────────┼──────────────┤\n",
       "│ 1   │ 1.0     │ 'a'          │\n",
       "│ 2   │ 2.0     │ 'b'          │\n",
       "\n",
       "julia> Z\n",
       "2-element Array{Float64,1}:\n",
       " 10.0\n",
       " 20.0\n",
       "```\n"
      ],
      "text/plain": [
       "\u001b[36m  t1, t2, ...., tk = unpack(table, f1, f2, ... fk;\u001b[39m\n",
       "\u001b[36m                           wrap_singles=false,\u001b[39m\n",
       "\u001b[36m                           shuffle=false,\u001b[39m\n",
       "\u001b[36m                           rng::Union{AbstractRNG,Int,Nothing}=nothing)\u001b[39m\n",
       "\n",
       "  Horizontally split any Tables.jl compatible \u001b[36mtable\u001b[39m into smaller tables (or\n",
       "  vectors) \u001b[36mt1, t2, ..., tk\u001b[39m by making column selections \u001b[1mwithout replacement\u001b[22m by\n",
       "  successively applying the columnn name filters \u001b[36mf1\u001b[39m, \u001b[36mf2\u001b[39m, ..., \u001b[36mfk\u001b[39m. A \u001b[4mfilter\u001b[24m is\n",
       "  any object \u001b[36mf\u001b[39m such that \u001b[36mf(name)\u001b[39m is \u001b[36mtrue\u001b[39m or \u001b[36mfalse\u001b[39m for each column \u001b[36mname::Symbol\u001b[39m\n",
       "  of \u001b[36mtable\u001b[39m. For example, use the filter \u001b[36m_ -> true\u001b[39m to pick up all remaining\n",
       "  columns of the table.\n",
       "\n",
       "  Whenever a returned table contains a single column, it is converted to a\n",
       "  vector unless \u001b[36mwrap_singles=true\u001b[39m.\n",
       "\n",
       "  Scientific type conversions can be optionally specified (note semicolon):\n",
       "\n",
       "\u001b[36m  unpack(table, t...; col1=>scitype1, col2=>scitype2, ... )\u001b[39m\n",
       "\n",
       "  If \u001b[36mshuffle=true\u001b[39m then the rows of \u001b[36mtable\u001b[39m are first shuffled, using the global\n",
       "  RNG, unless \u001b[36mrng\u001b[39m is specified; if \u001b[36mrng\u001b[39m is an integer, it specifies the seed of\n",
       "  an automatically generated Mersenne twister. If \u001b[36mrng\u001b[39m is specified then\n",
       "  \u001b[36mshuffle=true\u001b[39m is implicit.\n",
       "\n",
       "\u001b[1m  Example\u001b[22m\n",
       "\u001b[1m  –––––––––\u001b[22m\n",
       "\n",
       "\u001b[36m  julia> table = DataFrame(x=[1,2], y=['a', 'b'], z=[10.0, 20.0], w=[\"A\", \"B\"])\u001b[39m\n",
       "\u001b[36m  julia> Z, XY = unpack(table, ==(:z), !=(:w);\u001b[39m\n",
       "\u001b[36m                 :x=>Continuous, :y=>Multiclass)\u001b[39m\n",
       "\u001b[36m  julia> XY\u001b[39m\n",
       "\u001b[36m  2×2 DataFrame\u001b[39m\n",
       "\u001b[36m  │ Row │ x       │ y            │\u001b[39m\n",
       "\u001b[36m  │     │ Float64 │ Categorical… │\u001b[39m\n",
       "\u001b[36m  ├─────┼─────────┼──────────────┤\u001b[39m\n",
       "\u001b[36m  │ 1   │ 1.0     │ 'a'          │\u001b[39m\n",
       "\u001b[36m  │ 2   │ 2.0     │ 'b'          │\u001b[39m\n",
       "\u001b[36m  \u001b[39m\n",
       "\u001b[36m  julia> Z\u001b[39m\n",
       "\u001b[36m  2-element Array{Float64,1}:\u001b[39m\n",
       "\u001b[36m   10.0\u001b[39m\n",
       "\u001b[36m   20.0\u001b[39m"
      ]
     },
     "execution_count": 50,
     "metadata": {},
     "output_type": "execute_result"
    }
   ],
   "source": [
    "@doc unpack"
   ]
  },
  {
   "cell_type": "markdown",
   "metadata": {},
   "source": [
    "### On searching for a model"
   ]
  },
  {
   "cell_type": "markdown",
   "metadata": {},
   "source": [
    "Here's how to see *all* models (not immediately useful):"
   ]
  },
  {
   "cell_type": "code",
   "execution_count": 51,
   "metadata": {},
   "outputs": [
    {
     "data": {
      "text/plain": [
       "183-element Vector{NamedTuple{(:name, :package_name, :is_supervised, :abstract_type, :deep_properties, :docstring, :fit_data_scitype, :hyperparameter_ranges, :hyperparameter_types, :hyperparameters, :implemented_methods, :inverse_transform_scitype, :is_pure_julia, :is_wrapper, :iteration_parameter, :load_path, :package_license, :package_url, :package_uuid, :predict_scitype, :prediction_type, :supports_class_weights, :supports_online, :supports_training_losses, :supports_weights, :transform_scitype, :input_scitype, :target_scitype, :output_scitype), T} where T<:Tuple}:\n",
       " (name = ABODDetector, package_name = OutlierDetectionNeighbors, ... )\n",
       " (name = ABODDetector, package_name = OutlierDetectionPython, ... )\n",
       " (name = AEDetector, package_name = OutlierDetectionNetworks, ... )\n",
       " (name = ARDRegressor, package_name = ScikitLearn, ... )\n",
       " (name = AdaBoostClassifier, package_name = ScikitLearn, ... )\n",
       " (name = AdaBoostRegressor, package_name = ScikitLearn, ... )\n",
       " (name = AdaBoostStumpClassifier, package_name = DecisionTree, ... )\n",
       " (name = AffinityPropagation, package_name = ScikitLearn, ... )\n",
       " (name = AgglomerativeClustering, package_name = ScikitLearn, ... )\n",
       " (name = BaggingClassifier, package_name = ScikitLearn, ... )\n",
       " (name = BaggingRegressor, package_name = ScikitLearn, ... )\n",
       " (name = BayesianLDA, package_name = MultivariateStats, ... )\n",
       " (name = BayesianLDA, package_name = ScikitLearn, ... )\n",
       " ⋮\n",
       " (name = Standardizer, package_name = MLJModels, ... )\n",
       " (name = SubspaceLDA, package_name = MultivariateStats, ... )\n",
       " (name = TSVDTransformer, package_name = TSVD, ... )\n",
       " (name = TheilSenRegressor, package_name = ScikitLearn, ... )\n",
       " (name = UnivariateBoxCoxTransformer, package_name = MLJModels, ... )\n",
       " (name = UnivariateDiscretizer, package_name = MLJModels, ... )\n",
       " (name = UnivariateFillImputer, package_name = MLJModels, ... )\n",
       " (name = UnivariateStandardizer, package_name = MLJModels, ... )\n",
       " (name = UnivariateTimeTypeToContinuous, package_name = MLJModels, ... )\n",
       " (name = XGBoostClassifier, package_name = XGBoost, ... )\n",
       " (name = XGBoostCount, package_name = XGBoost, ... )\n",
       " (name = XGBoostRegressor, package_name = XGBoost, ... )"
      ]
     },
     "execution_count": 51,
     "metadata": {},
     "output_type": "execute_result"
    }
   ],
   "source": [
    "all_models = models()"
   ]
  },
  {
   "cell_type": "markdown",
   "metadata": {},
   "source": [
    "Each entry contains metadata for a model whose defining code is not yet loaded:"
   ]
  },
  {
   "cell_type": "code",
   "execution_count": 52,
   "metadata": {},
   "outputs": [
    {
     "data": {
      "text/plain": [
       "AEDetector from OutlierDetectionNetworks.jl.\n",
       "[Documentation](https://github.com/OutlierDetectionJL/OutlierDetectionNetworks.jl).\n",
       "(name = \"AEDetector\",\n",
       " package_name = \"OutlierDetectionNetworks\",\n",
       " is_supervised = false,\n",
       " abstract_type = MLJModelInterface.UnsupervisedDetector,\n",
       " deep_properties = (),\n",
       " docstring = \"AEDetector from OutlierDetectionNetworks.jl.\\n[Documentation](https://github.com/OutlierDetectionJL/OutlierDetectionNetworks.jl).\",\n",
       " fit_data_scitype = Tuple{Union{Table{_s52} where _s52<:(AbstractVector{_s51} where _s51<:Continuous), AbstractMatrix{_s689} where _s689<:Continuous}},\n",
       " hyperparameter_ranges = (nothing, nothing, nothing, nothing, nothing, nothing, nothing, nothing),\n",
       " hyperparameter_types = (\"Flux.Chain\", \"Flux.Chain\", \"Integer\", \"Integer\", \"Bool\", \"Bool\", \"Any\", \"Function\"),\n",
       " hyperparameters = (:encoder, :decoder, :batchsize, :epochs, :shuffle, :partial, :opt, :loss),\n",
       " implemented_methods = [:clean!, :fit, :transform],\n",
       " inverse_transform_scitype = Unknown,\n",
       " is_pure_julia = true,\n",
       " is_wrapper = false,\n",
       " iteration_parameter = nothing,\n",
       " load_path = \"OutlierDetectionNetworks.AEDetector\",\n",
       " package_license = \"MIT\",\n",
       " package_url = \"https://github.com/OutlierDetectionJL/OutlierDetectionNetworks.jl\",\n",
       " package_uuid = \"c7f57e37-4fcb-4a0b-a36c-c2204bc839a7\",\n",
       " predict_scitype = Unknown,\n",
       " prediction_type = :unknown,\n",
       " supports_class_weights = false,\n",
       " supports_online = false,\n",
       " supports_training_losses = false,\n",
       " supports_weights = false,\n",
       " transform_scitype = AbstractVector{_s689} where _s689<:Continuous,\n",
       " input_scitype = Union{Table{_s52} where _s52<:(AbstractVector{_s51} where _s51<:Continuous), AbstractMatrix{_s689} where _s689<:Continuous},\n",
       " target_scitype = AbstractVector{_s689} where _s689<:Union{Missing, OrderedFactor{2}},\n",
       " output_scitype = AbstractVector{_s689} where _s689<:Continuous,)"
      ]
     },
     "execution_count": 52,
     "metadata": {},
     "output_type": "execute_result"
    }
   ],
   "source": [
    "meta = all_models[3]"
   ]
  },
  {
   "cell_type": "code",
   "execution_count": 53,
   "metadata": {},
   "outputs": [
    {
     "data": {
      "text/plain": [
       "AbstractVector{_s689} where _s689<:Union{Missing, OrderedFactor{2}} (alias for AbstractArray{_s689, 1} where _s689<:Union{Missing, OrderedFactor{2}})"
      ]
     },
     "execution_count": 53,
     "metadata": {},
     "output_type": "execute_result"
    }
   ],
   "source": [
    "targetscitype = meta.target_scitype"
   ]
  },
  {
   "cell_type": "code",
   "execution_count": 54,
   "metadata": {},
   "outputs": [
    {
     "data": {
      "text/plain": [
       "false"
      ]
     },
     "execution_count": 54,
     "metadata": {},
     "output_type": "execute_result"
    }
   ],
   "source": [
    "scitype(y) <: targetscitype"
   ]
  },
  {
   "cell_type": "markdown",
   "metadata": {},
   "source": [
    "So this model won't do. Let's  find all pure julia classifiers:"
   ]
  },
  {
   "cell_type": "code",
   "execution_count": 55,
   "metadata": {},
   "outputs": [
    {
     "data": {
      "text/plain": [
       "21-element Vector{NamedTuple{(:name, :package_name, :is_supervised, :abstract_type, :deep_properties, :docstring, :fit_data_scitype, :hyperparameter_ranges, :hyperparameter_types, :hyperparameters, :implemented_methods, :inverse_transform_scitype, :is_pure_julia, :is_wrapper, :iteration_parameter, :load_path, :package_license, :package_url, :package_uuid, :predict_scitype, :prediction_type, :supports_class_weights, :supports_online, :supports_training_losses, :supports_weights, :transform_scitype, :input_scitype, :target_scitype, :output_scitype), T} where T<:Tuple}:\n",
       " (name = AdaBoostStumpClassifier, package_name = DecisionTree, ... )\n",
       " (name = BayesianLDA, package_name = MultivariateStats, ... )\n",
       " (name = BayesianSubspaceLDA, package_name = MultivariateStats, ... )\n",
       " (name = ConstantClassifier, package_name = MLJModels, ... )\n",
       " (name = DecisionTreeClassifier, package_name = BetaML, ... )\n",
       " (name = DecisionTreeClassifier, package_name = DecisionTree, ... )\n",
       " (name = DeterministicConstantClassifier, package_name = MLJModels, ... )\n",
       " (name = EvoTreeClassifier, package_name = EvoTrees, ... )\n",
       " (name = GaussianNBClassifier, package_name = NaiveBayes, ... )\n",
       " (name = KNNClassifier, package_name = NearestNeighborModels, ... )\n",
       " (name = KernelPerceptronClassifier, package_name = BetaML, ... )\n",
       " (name = LDA, package_name = MultivariateStats, ... )\n",
       " (name = LogisticClassifier, package_name = MLJLinearModels, ... )\n",
       " (name = MultinomialClassifier, package_name = MLJLinearModels, ... )\n",
       " (name = MultinomialNBClassifier, package_name = NaiveBayes, ... )\n",
       " (name = NeuralNetworkClassifier, package_name = MLJFlux, ... )\n",
       " (name = PegasosClassifier, package_name = BetaML, ... )\n",
       " (name = PerceptronClassifier, package_name = BetaML, ... )\n",
       " (name = RandomForestClassifier, package_name = BetaML, ... )\n",
       " (name = RandomForestClassifier, package_name = DecisionTree, ... )\n",
       " (name = SubspaceLDA, package_name = MultivariateStats, ... )"
      ]
     },
     "execution_count": 55,
     "metadata": {},
     "output_type": "execute_result"
    }
   ],
   "source": [
    "filter_julia_classifiers(meta) =\n",
    "    AbstractVector{Finite} <: meta.target_scitype &&\n",
    "    meta.is_pure_julia\n",
    "\n",
    "models(filter_julia_classifiers)"
   ]
  },
  {
   "cell_type": "markdown",
   "metadata": {},
   "source": [
    "Find all models with \"Classifier\" in `name` (or `docstring`):"
   ]
  },
  {
   "cell_type": "code",
   "execution_count": 56,
   "metadata": {},
   "outputs": [
    {
     "data": {
      "text/plain": [
       "45-element Vector{NamedTuple{(:name, :package_name, :is_supervised, :abstract_type, :deep_properties, :docstring, :fit_data_scitype, :hyperparameter_ranges, :hyperparameter_types, :hyperparameters, :implemented_methods, :inverse_transform_scitype, :is_pure_julia, :is_wrapper, :iteration_parameter, :load_path, :package_license, :package_url, :package_uuid, :predict_scitype, :prediction_type, :supports_class_weights, :supports_online, :supports_training_losses, :supports_weights, :transform_scitype, :input_scitype, :target_scitype, :output_scitype), T} where T<:Tuple}:\n",
       " (name = AdaBoostClassifier, package_name = ScikitLearn, ... )\n",
       " (name = AdaBoostStumpClassifier, package_name = DecisionTree, ... )\n",
       " (name = BaggingClassifier, package_name = ScikitLearn, ... )\n",
       " (name = BernoulliNBClassifier, package_name = ScikitLearn, ... )\n",
       " (name = ComplementNBClassifier, package_name = ScikitLearn, ... )\n",
       " (name = ConstantClassifier, package_name = MLJModels, ... )\n",
       " (name = DecisionTreeClassifier, package_name = BetaML, ... )\n",
       " (name = DecisionTreeClassifier, package_name = DecisionTree, ... )\n",
       " (name = DeterministicConstantClassifier, package_name = MLJModels, ... )\n",
       " (name = DummyClassifier, package_name = ScikitLearn, ... )\n",
       " (name = EvoTreeClassifier, package_name = EvoTrees, ... )\n",
       " (name = ExtraTreesClassifier, package_name = ScikitLearn, ... )\n",
       " (name = GaussianNBClassifier, package_name = NaiveBayes, ... )\n",
       " ⋮\n",
       " (name = PerceptronClassifier, package_name = ScikitLearn, ... )\n",
       " (name = ProbabilisticSGDClassifier, package_name = ScikitLearn, ... )\n",
       " (name = RandomForestClassifier, package_name = BetaML, ... )\n",
       " (name = RandomForestClassifier, package_name = DecisionTree, ... )\n",
       " (name = RandomForestClassifier, package_name = ScikitLearn, ... )\n",
       " (name = RidgeCVClassifier, package_name = ScikitLearn, ... )\n",
       " (name = RidgeClassifier, package_name = ScikitLearn, ... )\n",
       " (name = SGDClassifier, package_name = ScikitLearn, ... )\n",
       " (name = SVMClassifier, package_name = ScikitLearn, ... )\n",
       " (name = SVMLinearClassifier, package_name = ScikitLearn, ... )\n",
       " (name = SVMNuClassifier, package_name = ScikitLearn, ... )\n",
       " (name = XGBoostClassifier, package_name = XGBoost, ... )"
      ]
     },
     "execution_count": 56,
     "metadata": {},
     "output_type": "execute_result"
    }
   ],
   "source": [
    "models(\"Classifier\")"
   ]
  },
  {
   "cell_type": "markdown",
   "metadata": {},
   "source": [
    "Find all (supervised) models that match my data!"
   ]
  },
  {
   "cell_type": "code",
   "execution_count": 57,
   "metadata": {},
   "outputs": [
    {
     "data": {
      "text/plain": [
       "47-element Vector{NamedTuple{(:name, :package_name, :is_supervised, :abstract_type, :deep_properties, :docstring, :fit_data_scitype, :hyperparameter_ranges, :hyperparameter_types, :hyperparameters, :implemented_methods, :inverse_transform_scitype, :is_pure_julia, :is_wrapper, :iteration_parameter, :load_path, :package_license, :package_url, :package_uuid, :predict_scitype, :prediction_type, :supports_class_weights, :supports_online, :supports_training_losses, :supports_weights, :transform_scitype, :input_scitype, :target_scitype, :output_scitype), T} where T<:Tuple}:\n",
       " (name = AdaBoostClassifier, package_name = ScikitLearn, ... )\n",
       " (name = AdaBoostStumpClassifier, package_name = DecisionTree, ... )\n",
       " (name = BaggingClassifier, package_name = ScikitLearn, ... )\n",
       " (name = BayesianLDA, package_name = MultivariateStats, ... )\n",
       " (name = BayesianLDA, package_name = ScikitLearn, ... )\n",
       " (name = BayesianQDA, package_name = ScikitLearn, ... )\n",
       " (name = BayesianSubspaceLDA, package_name = MultivariateStats, ... )\n",
       " (name = ConstantClassifier, package_name = MLJModels, ... )\n",
       " (name = DecisionTreeClassifier, package_name = BetaML, ... )\n",
       " (name = DecisionTreeClassifier, package_name = DecisionTree, ... )\n",
       " (name = DeterministicConstantClassifier, package_name = MLJModels, ... )\n",
       " (name = DummyClassifier, package_name = ScikitLearn, ... )\n",
       " (name = EvoTreeClassifier, package_name = EvoTrees, ... )\n",
       " ⋮\n",
       " (name = RandomForestClassifier, package_name = BetaML, ... )\n",
       " (name = RandomForestClassifier, package_name = DecisionTree, ... )\n",
       " (name = RandomForestClassifier, package_name = ScikitLearn, ... )\n",
       " (name = RidgeCVClassifier, package_name = ScikitLearn, ... )\n",
       " (name = RidgeClassifier, package_name = ScikitLearn, ... )\n",
       " (name = SGDClassifier, package_name = ScikitLearn, ... )\n",
       " (name = SVC, package_name = LIBSVM, ... )\n",
       " (name = SVMClassifier, package_name = ScikitLearn, ... )\n",
       " (name = SVMLinearClassifier, package_name = ScikitLearn, ... )\n",
       " (name = SVMNuClassifier, package_name = ScikitLearn, ... )\n",
       " (name = SubspaceLDA, package_name = MultivariateStats, ... )\n",
       " (name = XGBoostClassifier, package_name = XGBoost, ... )"
      ]
     },
     "execution_count": 57,
     "metadata": {},
     "output_type": "execute_result"
    }
   ],
   "source": [
    "models(matching(X, y))"
   ]
  },
  {
   "cell_type": "markdown",
   "metadata": {},
   "source": [
    "### Step 3. Select and instantiate a model"
   ]
  },
  {
   "cell_type": "markdown",
   "metadata": {},
   "source": [
    "To load the code defining a new model type we use the `@load` macro:"
   ]
  },
  {
   "cell_type": "code",
   "execution_count": 58,
   "metadata": {},
   "outputs": [
    {
     "name": "stderr",
     "output_type": "stream",
     "text": [
      "┌ Info: For silent loading, specify `verbosity=0`. \n",
      "└ @ Main /Users/anthony/.julia/packages/MLJModels/4sRmw/src/loading.jl:168\n"
     ]
    },
    {
     "name": "stdout",
     "output_type": "stream",
     "text": [
      "import MLJFlux ✔\n"
     ]
    },
    {
     "data": {
      "text/plain": [
       "MLJFlux.NeuralNetworkClassifier"
      ]
     },
     "execution_count": 58,
     "metadata": {},
     "output_type": "execute_result"
    }
   ],
   "source": [
    "NeuralNetworkClassifier = @load NeuralNetworkClassifier"
   ]
  },
  {
   "cell_type": "markdown",
   "metadata": {},
   "source": [
    "Other ways to load model code are described\n",
    "[here](https://alan-turing-institute.github.io/MLJ.jl/dev/loading_model_code/#Loading-Model-Code)."
   ]
  },
  {
   "cell_type": "markdown",
   "metadata": {},
   "source": [
    "We'll instantiate this type with default values for the\n",
    "hyperparameters:"
   ]
  },
  {
   "cell_type": "code",
   "execution_count": 59,
   "metadata": {},
   "outputs": [
    {
     "data": {
      "text/plain": [
       "NeuralNetworkClassifier(\n",
       "    builder = Short(\n",
       "            n_hidden = 0,\n",
       "            dropout = 0.5,\n",
       "            σ = NNlib.σ),\n",
       "    finaliser = NNlib.softmax,\n",
       "    optimiser = Flux.Optimise.ADAM(0.001, (0.9, 0.999), IdDict{Any, Any}()),\n",
       "    loss = Flux.Losses.crossentropy,\n",
       "    epochs = 10,\n",
       "    batch_size = 1,\n",
       "    lambda = 0.0,\n",
       "    alpha = 0.0,\n",
       "    rng = Random._GLOBAL_RNG(),\n",
       "    optimiser_changes_trigger_retraining = false,\n",
       "    acceleration = CPU1{Nothing}(nothing))"
      ]
     },
     "execution_count": 59,
     "metadata": {},
     "output_type": "execute_result"
    }
   ],
   "source": [
    "model = NeuralNetworkClassifier()"
   ]
  },
  {
   "cell_type": "code",
   "execution_count": 60,
   "metadata": {},
   "outputs": [
    {
     "data": {
      "text/plain": [
       "A neural network model for making probabilistic predictions of a `Multiclass` or `OrderedFactor` target, given a table of `Continuous` features. \n",
       "→ based on [MLJFlux](https://github.com/alan-turing-institute/MLJFlux.jl).\n",
       "→ do `@load NeuralNetworkClassifier pkg=\"MLJFlux\"` to use the model.\n",
       "→ do `?NeuralNetworkClassifier` for documentation.\n",
       "(name = \"NeuralNetworkClassifier\",\n",
       " package_name = \"MLJFlux\",\n",
       " is_supervised = true,\n",
       " abstract_type = Probabilistic,\n",
       " deep_properties = (:optimiser, :builder),\n",
       " docstring = \"A neural network model for making probabilistic predictions of a `Multiclass` or `OrderedFactor` target, given a table of `Continuous` features. \\n→ based on [MLJFlux](https://github.com/alan-turing-institute/MLJFlux.jl).\\n→ do `@load NeuralNetworkClassifier pkg=\\\"MLJFlux\\\"` to use the model.\\n→ do `?NeuralNetworkClassifier` for documentation.\",\n",
       " fit_data_scitype = Tuple{Table{var\"#s53\"} where var\"#s53\"<:(AbstractVector{var\"#s52\"} where var\"#s52\"<:Continuous), AbstractVector{var\"#s76\"} where var\"#s76\"<:Finite},\n",
       " hyperparameter_ranges = (nothing, nothing, nothing, nothing, nothing, nothing, nothing, nothing, nothing, nothing, nothing),\n",
       " hyperparameter_types = (\"MLJFlux.Short\", \"typeof(NNlib.softmax)\", \"Flux.Optimise.ADAM\", \"typeof(Flux.Losses.crossentropy)\", \"Int64\", \"Int64\", \"Float64\", \"Float64\", \"Union{Int64, Random.AbstractRNG}\", \"Bool\", \"ComputationalResources.AbstractResource\"),\n",
       " hyperparameters = (:builder, :finaliser, :optimiser, :loss, :epochs, :batch_size, :lambda, :alpha, :rng, :optimiser_changes_trigger_retraining, :acceleration),\n",
       " implemented_methods = Any[],\n",
       " inverse_transform_scitype = Unknown,\n",
       " is_pure_julia = true,\n",
       " is_wrapper = false,\n",
       " iteration_parameter = :epochs,\n",
       " load_path = \"MLJFlux.NeuralNetworkClassifier\",\n",
       " package_license = \"MIT\",\n",
       " package_url = \"https://github.com/alan-turing-institute/MLJFlux.jl\",\n",
       " package_uuid = \"094fc8d1-fd35-5302-93ea-dabda2abf845\",\n",
       " predict_scitype = AbstractVector{ScientificTypesBase.Density{_s25} where _s25<:Finite},\n",
       " prediction_type = :probabilistic,\n",
       " supports_class_weights = false,\n",
       " supports_online = false,\n",
       " supports_training_losses = true,\n",
       " supports_weights = false,\n",
       " transform_scitype = Unknown,\n",
       " input_scitype = Table{var\"#s53\"} where var\"#s53\"<:(AbstractVector{var\"#s52\"} where var\"#s52\"<:Continuous),\n",
       " target_scitype = AbstractVector{var\"#s76\"} where var\"#s76\"<:Finite,\n",
       " output_scitype = Unknown,)"
      ]
     },
     "execution_count": 60,
     "metadata": {},
     "output_type": "execute_result"
    }
   ],
   "source": [
    "info(model)"
   ]
  },
  {
   "cell_type": "markdown",
   "metadata": {},
   "source": [
    "In MLJ a *model* is just a struct containing hyper-parameters, and\n",
    "that's all. A model does not store *learned* parameters. Models are\n",
    "mutable:"
   ]
  },
  {
   "cell_type": "code",
   "execution_count": 61,
   "metadata": {},
   "outputs": [
    {
     "data": {
      "text/plain": [
       "12"
      ]
     },
     "execution_count": 61,
     "metadata": {},
     "output_type": "execute_result"
    }
   ],
   "source": [
    "model.epochs = 12"
   ]
  },
  {
   "cell_type": "markdown",
   "metadata": {},
   "source": [
    "And all models have a key-word constructor that works once `@load`\n",
    "has been performed:"
   ]
  },
  {
   "cell_type": "code",
   "execution_count": 62,
   "metadata": {},
   "outputs": [
    {
     "data": {
      "text/plain": [
       "true"
      ]
     },
     "execution_count": 62,
     "metadata": {},
     "output_type": "execute_result"
    }
   ],
   "source": [
    "NeuralNetworkClassifier(epochs=12) == model"
   ]
  },
  {
   "cell_type": "markdown",
   "metadata": {},
   "source": [
    "### On fitting, predicting, and inspecting models"
   ]
  },
  {
   "cell_type": "markdown",
   "metadata": {},
   "source": [
    "In MLJ a model and training/validation data are typically bound\n",
    "together in a machine:"
   ]
  },
  {
   "cell_type": "code",
   "execution_count": 63,
   "metadata": {},
   "outputs": [
    {
     "data": {
      "text/plain": [
       "Machine{NeuralNetworkClassifier{Short,…},…} trained 0 times; caches data\n",
       "  args: \n",
       "    1:\tSource @429 ⏎ `Table{AbstractVector{Continuous}}`\n",
       "    2:\tSource @444 ⏎ `AbstractVector{Multiclass{3}}`\n"
      ]
     },
     "execution_count": 63,
     "metadata": {},
     "output_type": "execute_result"
    }
   ],
   "source": [
    "mach = machine(model, X, y)"
   ]
  },
  {
   "cell_type": "markdown",
   "metadata": {},
   "source": [
    "A machine stores *learned* parameters, among other things. We'll\n",
    "train this machine on 70% of the data and evaluate on a 30% holdout\n",
    "set. Let's start by dividing all row indices into `train` and `test`\n",
    "subsets:"
   ]
  },
  {
   "cell_type": "code",
   "execution_count": 64,
   "metadata": {},
   "outputs": [
    {
     "data": {
      "text/plain": [
       "([1, 2, 3, 4, 5, 6, 7, 8, 9, 10  …  96, 97, 98, 99, 100, 101, 102, 103, 104, 105], [106, 107, 108, 109, 110, 111, 112, 113, 114, 115  …  141, 142, 143, 144, 145, 146, 147, 148, 149, 150])"
      ]
     },
     "execution_count": 64,
     "metadata": {},
     "output_type": "execute_result"
    }
   ],
   "source": [
    "train, test = partition(eachindex(y), 0.7)"
   ]
  },
  {
   "cell_type": "markdown",
   "metadata": {},
   "source": [
    "Now we can `fit!`..."
   ]
  },
  {
   "cell_type": "code",
   "execution_count": 65,
   "metadata": {},
   "outputs": [
    {
     "name": "stderr",
     "output_type": "stream",
     "text": [
      "┌ Info: Training Machine{NeuralNetworkClassifier{Short,…},…}.\n",
      "└ @ MLJBase /Users/anthony/.julia/packages/MLJBase/HZmTU/src/machines.jl:403\n",
      "┌ Info: Loss is 1.132\n",
      "└ @ MLJFlux /Users/anthony/.julia/packages/MLJFlux/5ENQA/src/core.jl:128\n",
      "┌ Info: Loss is 1.08\n",
      "└ @ MLJFlux /Users/anthony/.julia/packages/MLJFlux/5ENQA/src/core.jl:128\n",
      "┌ Info: Loss is 1.068\n",
      "└ @ MLJFlux /Users/anthony/.julia/packages/MLJFlux/5ENQA/src/core.jl:128\n",
      "┌ Info: Loss is 1.033\n",
      "└ @ MLJFlux /Users/anthony/.julia/packages/MLJFlux/5ENQA/src/core.jl:128\n",
      "┌ Info: Loss is 1.029\n",
      "└ @ MLJFlux /Users/anthony/.julia/packages/MLJFlux/5ENQA/src/core.jl:128\n",
      "┌ Info: Loss is 0.9917\n",
      "└ @ MLJFlux /Users/anthony/.julia/packages/MLJFlux/5ENQA/src/core.jl:128\n",
      "┌ Info: Loss is 1.01\n",
      "└ @ MLJFlux /Users/anthony/.julia/packages/MLJFlux/5ENQA/src/core.jl:128\n",
      "┌ Info: Loss is 1.005\n",
      "└ @ MLJFlux /Users/anthony/.julia/packages/MLJFlux/5ENQA/src/core.jl:128\n",
      "┌ Info: Loss is 1.003\n",
      "└ @ MLJFlux /Users/anthony/.julia/packages/MLJFlux/5ENQA/src/core.jl:128\n",
      "┌ Info: Loss is 0.989\n",
      "└ @ MLJFlux /Users/anthony/.julia/packages/MLJFlux/5ENQA/src/core.jl:128\n",
      "┌ Info: Loss is 0.9486\n",
      "└ @ MLJFlux /Users/anthony/.julia/packages/MLJFlux/5ENQA/src/core.jl:128\n",
      "┌ Info: Loss is 0.9571\n",
      "└ @ MLJFlux /Users/anthony/.julia/packages/MLJFlux/5ENQA/src/core.jl:128\n"
     ]
    },
    {
     "data": {
      "text/plain": [
       "Machine{NeuralNetworkClassifier{Short,…},…} trained 1 time; caches data\n",
       "  args: \n",
       "    1:\tSource @429 ⏎ `Table{AbstractVector{Continuous}}`\n",
       "    2:\tSource @444 ⏎ `AbstractVector{Multiclass{3}}`\n"
      ]
     },
     "execution_count": 65,
     "metadata": {},
     "output_type": "execute_result"
    }
   ],
   "source": [
    "fit!(mach, rows=train, verbosity=2)"
   ]
  },
  {
   "cell_type": "markdown",
   "metadata": {},
   "source": [
    "... and `predict`:"
   ]
  },
  {
   "cell_type": "code",
   "execution_count": 66,
   "metadata": {},
   "outputs": [
    {
     "data": {
      "text/plain": [
       "3-element MLJBase.UnivariateFiniteVector{Multiclass{3}, String, UInt32, Float64}:\n",
       " UnivariateFinite{Multiclass{3}}(Iris-setosa=>0.277, Iris-versicolor=>0.366, Iris-virginica=>0.357)\n",
       " UnivariateFinite{Multiclass{3}}(Iris-setosa=>0.251, Iris-versicolor=>0.376, Iris-virginica=>0.373)\n",
       " UnivariateFinite{Multiclass{3}}(Iris-setosa=>0.494, Iris-versicolor=>0.278, Iris-virginica=>0.227)"
      ]
     },
     "execution_count": 66,
     "metadata": {},
     "output_type": "execute_result"
    }
   ],
   "source": [
    "yhat = predict(mach, rows=test);  # or `predict(mach, Xnew)`\n",
    "yhat[1:3]"
   ]
  },
  {
   "cell_type": "markdown",
   "metadata": {},
   "source": [
    "We'll have more to say on the form of this prediction shortly."
   ]
  },
  {
   "cell_type": "markdown",
   "metadata": {},
   "source": [
    "After training, one can inspect the learned parameters:"
   ]
  },
  {
   "cell_type": "code",
   "execution_count": 67,
   "metadata": {},
   "outputs": [
    {
     "data": {
      "text/plain": [
       "(chain = Chain(Chain(Dense(4, 3, σ), Dropout(0.5), Dense(3, 3)), softmax),)"
      ]
     },
     "execution_count": 67,
     "metadata": {},
     "output_type": "execute_result"
    }
   ],
   "source": [
    "fitted_params(mach)"
   ]
  },
  {
   "cell_type": "markdown",
   "metadata": {},
   "source": [
    "Everything else the user might be interested in is accessed from the\n",
    "training *report*:"
   ]
  },
  {
   "cell_type": "code",
   "execution_count": 68,
   "metadata": {},
   "outputs": [
    {
     "data": {
      "text/plain": [
       "(training_losses = [1.085632308348892, 1.1320773531582096, 1.0799144410260113, 1.0684055699601498, 1.0326802305670144, 1.0286735172997612, 0.9916782091001018, 1.0103330144134601, 1.0052723608475305, 1.0032265584476034, 0.9890359632792628, 0.9486166278543674, 0.9570811840979994],)"
      ]
     },
     "execution_count": 68,
     "metadata": {},
     "output_type": "execute_result"
    }
   ],
   "source": [
    "report(mach)"
   ]
  },
  {
   "cell_type": "markdown",
   "metadata": {},
   "source": [
    "You save a machine like this:"
   ]
  },
  {
   "cell_type": "code",
   "execution_count": 69,
   "metadata": {},
   "outputs": [],
   "source": [
    "MLJ.save(\"neural_net.jlso\", mach)"
   ]
  },
  {
   "cell_type": "markdown",
   "metadata": {},
   "source": [
    "And retrieve it like this:"
   ]
  },
  {
   "cell_type": "code",
   "execution_count": 70,
   "metadata": {},
   "outputs": [
    {
     "data": {
      "text/plain": [
       "3-element MLJBase.UnivariateFiniteVector{Multiclass{3}, String, UInt32, Float64}:\n",
       " UnivariateFinite{Multiclass{3}}(Iris-setosa=>0.223, Iris-versicolor=>0.377, Iris-virginica=>0.4)\n",
       " UnivariateFinite{Multiclass{3}}(Iris-setosa=>0.283, Iris-versicolor=>0.366, Iris-virginica=>0.351)\n",
       " UnivariateFinite{Multiclass{3}}(Iris-setosa=>0.245, Iris-versicolor=>0.38, Iris-virginica=>0.374)"
      ]
     },
     "execution_count": 70,
     "metadata": {},
     "output_type": "execute_result"
    }
   ],
   "source": [
    "mach2 = machine(\"neural_net.jlso\")\n",
    "yhat = predict(mach2, X);\n",
    "yhat[1:3]"
   ]
  },
  {
   "cell_type": "markdown",
   "metadata": {},
   "source": [
    "If you want to fit a retrieved model, you will need to bind some data to it:"
   ]
  },
  {
   "cell_type": "code",
   "execution_count": 71,
   "metadata": {},
   "outputs": [
    {
     "name": "stderr",
     "output_type": "stream",
     "text": [
      "┌ Info: Training Machine{NeuralNetworkClassifier{Short,…},…}.\n",
      "└ @ MLJBase /Users/anthony/.julia/packages/MLJBase/HZmTU/src/machines.jl:403\n",
      "\u001b[33mOptimising neural net:100%[=========================] Time: 0:00:00\u001b[39m\n"
     ]
    },
    {
     "data": {
      "text/plain": [
       "Machine{NeuralNetworkClassifier{Short,…},…} trained 2 times; caches data\n",
       "  args: \n",
       "    1:\tSource @960 ⏎ `Table{AbstractVector{Continuous}}`\n",
       "    2:\tSource @704 ⏎ `AbstractVector{Multiclass{3}}`\n"
      ]
     },
     "execution_count": 71,
     "metadata": {},
     "output_type": "execute_result"
    }
   ],
   "source": [
    "mach3 = machine(\"neural_net.jlso\", X, y)\n",
    "fit!(mach3)"
   ]
  },
  {
   "cell_type": "markdown",
   "metadata": {},
   "source": [
    "Machines remember the last set of hyper-parameters used during fit,\n",
    "which, in the case of iterative models, allows for a warm restart of\n",
    "computations in the case that only the iteration parameter is\n",
    "increased:"
   ]
  },
  {
   "cell_type": "code",
   "execution_count": 72,
   "metadata": {},
   "outputs": [
    {
     "name": "stderr",
     "output_type": "stream",
     "text": [
      "┌ Info: Updating Machine{NeuralNetworkClassifier{Short,…},…}.\n",
      "└ @ MLJBase /Users/anthony/.julia/packages/MLJBase/HZmTU/src/machines.jl:404\n",
      "┌ Info: Loss is 0.8915\n",
      "└ @ MLJFlux /Users/anthony/.julia/packages/MLJFlux/5ENQA/src/core.jl:128\n",
      "┌ Info: Loss is 0.8667\n",
      "└ @ MLJFlux /Users/anthony/.julia/packages/MLJFlux/5ENQA/src/core.jl:128\n",
      "┌ Info: Loss is 0.8937\n",
      "└ @ MLJFlux /Users/anthony/.julia/packages/MLJFlux/5ENQA/src/core.jl:128\n",
      "┌ Info: Loss is 0.9132\n",
      "└ @ MLJFlux /Users/anthony/.julia/packages/MLJFlux/5ENQA/src/core.jl:128\n"
     ]
    },
    {
     "data": {
      "text/plain": [
       "Machine{NeuralNetworkClassifier{Short,…},…} trained 2 times; caches data\n",
       "  args: \n",
       "    1:\tSource @429 ⏎ `Table{AbstractVector{Continuous}}`\n",
       "    2:\tSource @444 ⏎ `AbstractVector{Multiclass{3}}`\n"
      ]
     },
     "execution_count": 72,
     "metadata": {},
     "output_type": "execute_result"
    }
   ],
   "source": [
    "model.epochs = model.epochs + 4\n",
    "fit!(mach, rows=train, verbosity=2)"
   ]
  },
  {
   "cell_type": "markdown",
   "metadata": {},
   "source": [
    "For this particular model we can also increase `:learning_rate`\n",
    "without triggering a cold restart:"
   ]
  },
  {
   "cell_type": "code",
   "execution_count": 73,
   "metadata": {},
   "outputs": [
    {
     "name": "stderr",
     "output_type": "stream",
     "text": [
      "┌ Info: Updating Machine{NeuralNetworkClassifier{Short,…},…}.\n",
      "└ @ MLJBase /Users/anthony/.julia/packages/MLJBase/HZmTU/src/machines.jl:404\n",
      "┌ Info: Loss is 0.7963\n",
      "└ @ MLJFlux /Users/anthony/.julia/packages/MLJFlux/5ENQA/src/core.jl:128\n",
      "┌ Info: Loss is 0.7339\n",
      "└ @ MLJFlux /Users/anthony/.julia/packages/MLJFlux/5ENQA/src/core.jl:128\n",
      "┌ Info: Loss is 0.7615\n",
      "└ @ MLJFlux /Users/anthony/.julia/packages/MLJFlux/5ENQA/src/core.jl:128\n",
      "┌ Info: Loss is 0.6521\n",
      "└ @ MLJFlux /Users/anthony/.julia/packages/MLJFlux/5ENQA/src/core.jl:128\n"
     ]
    },
    {
     "data": {
      "text/plain": [
       "Machine{NeuralNetworkClassifier{Short,…},…} trained 3 times; caches data\n",
       "  args: \n",
       "    1:\tSource @429 ⏎ `Table{AbstractVector{Continuous}}`\n",
       "    2:\tSource @444 ⏎ `AbstractVector{Multiclass{3}}`\n"
      ]
     },
     "execution_count": 73,
     "metadata": {},
     "output_type": "execute_result"
    }
   ],
   "source": [
    "model.epochs = model.epochs + 4\n",
    "model.optimiser.eta = 10*model.optimiser.eta\n",
    "fit!(mach, rows=train, verbosity=2)"
   ]
  },
  {
   "cell_type": "markdown",
   "metadata": {},
   "source": [
    "However, change any other parameter and training will restart from\n",
    "scratch:"
   ]
  },
  {
   "cell_type": "code",
   "execution_count": 74,
   "metadata": {},
   "outputs": [
    {
     "name": "stderr",
     "output_type": "stream",
     "text": [
      "┌ Info: Updating Machine{NeuralNetworkClassifier{Short,…},…}.\n",
      "└ @ MLJBase /Users/anthony/.julia/packages/MLJBase/HZmTU/src/machines.jl:404\n",
      "┌ Info: Loss is 1.189\n",
      "└ @ MLJFlux /Users/anthony/.julia/packages/MLJFlux/5ENQA/src/core.jl:128\n",
      "┌ Info: Loss is 0.9707\n",
      "└ @ MLJFlux /Users/anthony/.julia/packages/MLJFlux/5ENQA/src/core.jl:128\n",
      "┌ Info: Loss is 0.9315\n",
      "└ @ MLJFlux /Users/anthony/.julia/packages/MLJFlux/5ENQA/src/core.jl:128\n",
      "┌ Info: Loss is 0.8361\n",
      "└ @ MLJFlux /Users/anthony/.julia/packages/MLJFlux/5ENQA/src/core.jl:128\n",
      "┌ Info: Loss is 0.8291\n",
      "└ @ MLJFlux /Users/anthony/.julia/packages/MLJFlux/5ENQA/src/core.jl:128\n",
      "┌ Info: Loss is 0.7744\n",
      "└ @ MLJFlux /Users/anthony/.julia/packages/MLJFlux/5ENQA/src/core.jl:128\n",
      "┌ Info: Loss is 0.817\n",
      "└ @ MLJFlux /Users/anthony/.julia/packages/MLJFlux/5ENQA/src/core.jl:128\n",
      "┌ Info: Loss is 0.7495\n",
      "└ @ MLJFlux /Users/anthony/.julia/packages/MLJFlux/5ENQA/src/core.jl:128\n",
      "┌ Info: Loss is 0.8286\n",
      "└ @ MLJFlux /Users/anthony/.julia/packages/MLJFlux/5ENQA/src/core.jl:128\n",
      "┌ Info: Loss is 0.7549\n",
      "└ @ MLJFlux /Users/anthony/.julia/packages/MLJFlux/5ENQA/src/core.jl:128\n",
      "┌ Info: Loss is 0.7823\n",
      "└ @ MLJFlux /Users/anthony/.julia/packages/MLJFlux/5ENQA/src/core.jl:128\n",
      "┌ Info: Loss is 0.9084\n",
      "└ @ MLJFlux /Users/anthony/.julia/packages/MLJFlux/5ENQA/src/core.jl:128\n",
      "┌ Info: Loss is 0.7369\n",
      "└ @ MLJFlux /Users/anthony/.julia/packages/MLJFlux/5ENQA/src/core.jl:128\n",
      "┌ Info: Loss is 0.8187\n",
      "└ @ MLJFlux /Users/anthony/.julia/packages/MLJFlux/5ENQA/src/core.jl:128\n",
      "┌ Info: Loss is 0.7275\n",
      "└ @ MLJFlux /Users/anthony/.julia/packages/MLJFlux/5ENQA/src/core.jl:128\n",
      "┌ Info: Loss is 0.7538\n",
      "└ @ MLJFlux /Users/anthony/.julia/packages/MLJFlux/5ENQA/src/core.jl:128\n",
      "┌ Info: Loss is 0.72\n",
      "└ @ MLJFlux /Users/anthony/.julia/packages/MLJFlux/5ENQA/src/core.jl:128\n",
      "┌ Info: Loss is 0.7105\n",
      "└ @ MLJFlux /Users/anthony/.julia/packages/MLJFlux/5ENQA/src/core.jl:128\n",
      "┌ Info: Loss is 0.6554\n",
      "└ @ MLJFlux /Users/anthony/.julia/packages/MLJFlux/5ENQA/src/core.jl:128\n",
      "┌ Info: Loss is 0.6316\n",
      "└ @ MLJFlux /Users/anthony/.julia/packages/MLJFlux/5ENQA/src/core.jl:128\n"
     ]
    },
    {
     "data": {
      "text/plain": [
       "Machine{NeuralNetworkClassifier{Short,…},…} trained 4 times; caches data\n",
       "  args: \n",
       "    1:\tSource @429 ⏎ `Table{AbstractVector{Continuous}}`\n",
       "    2:\tSource @444 ⏎ `AbstractVector{Multiclass{3}}`\n"
      ]
     },
     "execution_count": 74,
     "metadata": {},
     "output_type": "execute_result"
    }
   ],
   "source": [
    "model.lambda = 0.001\n",
    "fit!(mach, rows=train, verbosity=2)"
   ]
  },
  {
   "cell_type": "markdown",
   "metadata": {},
   "source": [
    "Iterative models that implement warm-restart for training can be\n",
    "controlled externally (eg, using an out-of-sample stopping\n",
    "criterion). See\n",
    "[here](https://alan-turing-institute.github.io/MLJ.jl/dev/controlling_iterative_models/)\n",
    "for details."
   ]
  },
  {
   "cell_type": "markdown",
   "metadata": {},
   "source": [
    "Let's train silently for a total of 50 epochs, and look at a\n",
    "prediction:"
   ]
  },
  {
   "cell_type": "code",
   "execution_count": 75,
   "metadata": {},
   "outputs": [
    {
     "name": "stderr",
     "output_type": "stream",
     "text": [
      "┌ Info: Updating Machine{NeuralNetworkClassifier{Short,…},…}.\n",
      "└ @ MLJBase /Users/anthony/.julia/packages/MLJBase/HZmTU/src/machines.jl:404\n",
      "\u001b[33mOptimising neural net:100%[=========================] Time: 0:00:01\u001b[39m\n"
     ]
    },
    {
     "data": {
      "text/plain": [
       "UnivariateFinite{Multiclass{3}}(Iris-setosa=>0.0815, Iris-versicolor=>0.491, Iris-virginica=>0.428)"
      ]
     },
     "execution_count": 75,
     "metadata": {},
     "output_type": "execute_result"
    }
   ],
   "source": [
    "model.epochs = 50\n",
    "fit!(mach, rows=train)\n",
    "yhat = predict(mach, X[test,:]); # or predict(mach, rows=test)\n",
    "yhat[1]"
   ]
  },
  {
   "cell_type": "markdown",
   "metadata": {},
   "source": [
    "What's going on here?"
   ]
  },
  {
   "cell_type": "code",
   "execution_count": 76,
   "metadata": {},
   "outputs": [
    {
     "data": {
      "text/plain": [
       ":probabilistic"
      ]
     },
     "execution_count": 76,
     "metadata": {},
     "output_type": "execute_result"
    }
   ],
   "source": [
    "info(model).prediction_type"
   ]
  },
  {
   "cell_type": "markdown",
   "metadata": {},
   "source": [
    "**Important**:\n",
    "- In MLJ, a model that can predict probabilities (and not just point values) will do so by default.\n",
    "- For most probabilistic predictors, the predicted object is a `Distributions.Distribution` object, supporting the `Distributions.jl` [API](https://juliastats.org/Distributions.jl/latest/extends/#Create-a-Distribution-1) for such objects. In particular, the methods `rand`,  `pdf`, `logpdf`, `mode`, `median` and `mean` will apply, where appropriate."
   ]
  },
  {
   "cell_type": "markdown",
   "metadata": {},
   "source": [
    "So, to obtain the probability of \"Iris-virginica\" in the first test\n",
    "prediction, we do"
   ]
  },
  {
   "cell_type": "code",
   "execution_count": 77,
   "metadata": {},
   "outputs": [
    {
     "data": {
      "text/plain": [
       "0.4278096647438517"
      ]
     },
     "execution_count": 77,
     "metadata": {},
     "output_type": "execute_result"
    }
   ],
   "source": [
    "pdf(yhat[1], \"Iris-virginica\")"
   ]
  },
  {
   "cell_type": "markdown",
   "metadata": {},
   "source": [
    "To get the most likely observation, we do"
   ]
  },
  {
   "cell_type": "code",
   "execution_count": 78,
   "metadata": {},
   "outputs": [
    {
     "data": {
      "text/plain": [
       "CategoricalValue{String, UInt32} \"Iris-versicolor\""
      ]
     },
     "execution_count": 78,
     "metadata": {},
     "output_type": "execute_result"
    }
   ],
   "source": [
    "mode(yhat[1])"
   ]
  },
  {
   "cell_type": "markdown",
   "metadata": {},
   "source": [
    "These can be broadcast over multiple predictions in the usual way:"
   ]
  },
  {
   "cell_type": "code",
   "execution_count": 79,
   "metadata": {},
   "outputs": [
    {
     "data": {
      "text/plain": [
       "4-element Vector{Float64}:\n",
       " 0.4906890545157449\n",
       " 0.4263386756761465\n",
       " 0.03496101759113145\n",
       " 0.40529054408497234"
      ]
     },
     "execution_count": 79,
     "metadata": {},
     "output_type": "execute_result"
    }
   ],
   "source": [
    "broadcast(pdf, yhat[1:4], \"Iris-versicolor\")"
   ]
  },
  {
   "cell_type": "code",
   "execution_count": 80,
   "metadata": {},
   "outputs": [
    {
     "data": {
      "text/plain": [
       "4-element CategoricalArray{String,1,UInt32}:\n",
       " \"Iris-versicolor\"\n",
       " \"Iris-virginica\"\n",
       " \"Iris-setosa\"\n",
       " \"Iris-virginica\""
      ]
     },
     "execution_count": 80,
     "metadata": {},
     "output_type": "execute_result"
    }
   ],
   "source": [
    "mode.(yhat[1:4])"
   ]
  },
  {
   "cell_type": "markdown",
   "metadata": {},
   "source": [
    "Or, alternatively, you can use the `predict_mode` operation instead\n",
    "of `predict`:"
   ]
  },
  {
   "cell_type": "code",
   "execution_count": 81,
   "metadata": {},
   "outputs": [
    {
     "data": {
      "text/plain": [
       "4-element CategoricalArray{String,1,UInt32}:\n",
       " \"Iris-versicolor\"\n",
       " \"Iris-virginica\"\n",
       " \"Iris-setosa\"\n",
       " \"Iris-virginica\""
      ]
     },
     "execution_count": 81,
     "metadata": {},
     "output_type": "execute_result"
    }
   ],
   "source": [
    "predict_mode(mach, X[test,:])[1:4] # or predict_mode(mach, rows=test)[1:4]"
   ]
  },
  {
   "cell_type": "markdown",
   "metadata": {},
   "source": [
    "For a more conventional matrix of probabilities you can do this:"
   ]
  },
  {
   "cell_type": "code",
   "execution_count": 82,
   "metadata": {},
   "outputs": [
    {
     "data": {
      "text/plain": [
       "4×3 Matrix{Float64}:\n",
       " 0.0815013  0.490689  0.42781\n",
       " 0.0565988  0.426339  0.517062\n",
       " 0.965022   0.034961  1.68514e-5\n",
       " 0.050214   0.405291  0.544495"
      ]
     },
     "execution_count": 82,
     "metadata": {},
     "output_type": "execute_result"
    }
   ],
   "source": [
    "L = levels(y)\n",
    "pdf(yhat, L)[1:4, :]"
   ]
  },
  {
   "cell_type": "markdown",
   "metadata": {},
   "source": [
    "However, in a typical MLJ work-flow, this is not as useful as you\n",
    "might imagine. In particular, all probabilistic performance measures\n",
    "in MLJ expect distribution objects in their first slot:"
   ]
  },
  {
   "cell_type": "code",
   "execution_count": 83,
   "metadata": {},
   "outputs": [
    {
     "data": {
      "text/plain": [
       "0.46064123289626785"
      ]
     },
     "execution_count": 83,
     "metadata": {},
     "output_type": "execute_result"
    }
   ],
   "source": [
    "cross_entropy(yhat, y[test]) |> mean"
   ]
  },
  {
   "cell_type": "markdown",
   "metadata": {},
   "source": [
    "To apply a deterministic measure, we first need to obtain point-estimates:"
   ]
  },
  {
   "cell_type": "code",
   "execution_count": 84,
   "metadata": {},
   "outputs": [
    {
     "data": {
      "text/plain": [
       "0.15555555555555556"
      ]
     },
     "execution_count": 84,
     "metadata": {},
     "output_type": "execute_result"
    }
   ],
   "source": [
    "misclassification_rate(mode.(yhat), y[test])"
   ]
  },
  {
   "cell_type": "markdown",
   "metadata": {},
   "source": [
    "We note in passing that there is also a search tool for measures\n",
    "analogous to `models`:"
   ]
  },
  {
   "cell_type": "code",
   "execution_count": 85,
   "metadata": {},
   "outputs": [
    {
     "data": {
      "text/plain": [
       "61-element Vector{NamedTuple{(:name, :instances, :human_name, :target_scitype, :supports_weights, :supports_class_weights, :prediction_type, :orientation, :reports_each_observation, :aggregation, :is_feature_dependent, :docstring, :distribution_type), T} where T<:Tuple}:\n",
       " (name = BrierLoss, instances = [brier_loss], ...)\n",
       " (name = BrierScore, instances = [brier_score], ...)\n",
       " (name = LPLoss, instances = [l1, l2], ...)\n",
       " (name = LogCoshLoss, instances = [log_cosh, log_cosh_loss], ...)\n",
       " (name = LogLoss, instances = [log_loss, cross_entropy], ...)\n",
       " (name = LogScore, instances = [log_score], ...)\n",
       " (name = SphericalScore, instances = [spherical_score], ...)\n",
       " (name = Accuracy, instances = [accuracy], ...)\n",
       " (name = AreaUnderCurve, instances = [area_under_curve, auc], ...)\n",
       " (name = BalancedAccuracy, instances = [balanced_accuracy, bacc, bac], ...)\n",
       " (name = ConfusionMatrix, instances = [confusion_matrix, confmat], ...)\n",
       " (name = FScore, instances = [f1score], ...)\n",
       " (name = FalseDiscoveryRate, instances = [false_discovery_rate, falsediscovery_rate, fdr], ...)\n",
       " ⋮\n",
       " (name = ModifiedHuberLoss, instances = [modified_huber_loss], ...)\n",
       " (name = PerceptronLoss, instances = [perceptron_loss], ...)\n",
       " (name = SigmoidLoss, instances = [sigmoid_loss], ...)\n",
       " (name = SmoothedL1HingeLoss, instances = [smoothed_l1_hinge_loss], ...)\n",
       " (name = ZeroOneLoss, instances = [zero_one_loss], ...)\n",
       " (name = HuberLoss, instances = [huber_loss], ...)\n",
       " (name = L1EpsilonInsLoss, instances = [l1_epsilon_ins_loss], ...)\n",
       " (name = L2EpsilonInsLoss, instances = [l2_epsilon_ins_loss], ...)\n",
       " (name = LPDistLoss, instances = [lp_dist_loss], ...)\n",
       " (name = LogitDistLoss, instances = [logit_dist_loss], ...)\n",
       " (name = PeriodicLoss, instances = [periodic_loss], ...)\n",
       " (name = QuantileLoss, instances = [quantile_loss], ...)"
      ]
     },
     "execution_count": 85,
     "metadata": {},
     "output_type": "execute_result"
    }
   ],
   "source": [
    "measures()"
   ]
  },
  {
   "cell_type": "markdown",
   "metadata": {},
   "source": [
    "### Step 4. Evaluate the model performance"
   ]
  },
  {
   "cell_type": "markdown",
   "metadata": {},
   "source": [
    "Naturally, MLJ provides boilerplate code for carrying out a model\n",
    "evaluation with a lot less fuss. Let's repeat the performance\n",
    "evaluation above and add an extra measure, `brier_score`:"
   ]
  },
  {
   "cell_type": "code",
   "execution_count": 86,
   "metadata": {},
   "outputs": [
    {
     "data": {
      "text/plain": [
       "PerformanceEvaluation object with these fields:\n",
       "  measure, measurement, operation, per_fold,\n",
       "  per_observation, fitted_params_per_fold,\n",
       "  report_per_fold, train_test_pairs\n",
       "Extract:\n",
       "┌────────────────────────────┬─────────────┬───────────┬──────────┐\n",
       "│\u001b[22m measure                    \u001b[0m│\u001b[22m measurement \u001b[0m│\u001b[22m operation \u001b[0m│\u001b[22m per_fold \u001b[0m│\n",
       "├────────────────────────────┼─────────────┼───────────┼──────────┤\n",
       "│ LogLoss(tol = 2.22045e-16) │ 0.461       │ predict   │ [0.461]  │\n",
       "│ BrierScore()               │ -0.286      │ predict   │ [-0.286] │\n",
       "└────────────────────────────┴─────────────┴───────────┴──────────┘\n"
      ]
     },
     "execution_count": 86,
     "metadata": {},
     "output_type": "execute_result"
    }
   ],
   "source": [
    "evaluate!(mach, resampling=Holdout(fraction_train=0.7),\n",
    "          measures=[cross_entropy, brier_score])"
   ]
  },
  {
   "cell_type": "markdown",
   "metadata": {},
   "source": [
    "Or applying cross-validation instead:"
   ]
  },
  {
   "cell_type": "code",
   "execution_count": 87,
   "metadata": {},
   "outputs": [
    {
     "name": "stderr",
     "output_type": "stream",
     "text": [
      "\u001b[33mEvaluating over 6 folds: 100%[=========================] Time: 0:00:24\u001b[39m\n"
     ]
    },
    {
     "data": {
      "text/plain": [
       "PerformanceEvaluation object with these fields:\n",
       "  measure, measurement, operation, per_fold,\n",
       "  per_observation, fitted_params_per_fold,\n",
       "  report_per_fold, train_test_pairs\n",
       "Extract:\n",
       "┌────────────────────────────┬─────────────┬───────────┬────────────────────────\n",
       "│\u001b[22m measure                    \u001b[0m│\u001b[22m measurement \u001b[0m│\u001b[22m operation \u001b[0m│\u001b[22m per_fold             \u001b[0m ⋯\n",
       "├────────────────────────────┼─────────────┼───────────┼────────────────────────\n",
       "│ LogLoss(tol = 2.22045e-16) │ 0.381       │ predict   │ [0.4, 0.342, 0.399, 0 ⋯\n",
       "│ BrierScore()               │ -0.206      │ predict   │ [-0.222, -0.181, -0.2 ⋯\n",
       "└────────────────────────────┴─────────────┴───────────┴────────────────────────\n",
       "\u001b[36m                                                                1 column omitted\u001b[0m\n"
      ]
     },
     "execution_count": 87,
     "metadata": {},
     "output_type": "execute_result"
    }
   ],
   "source": [
    "evaluate!(mach, resampling=CV(nfolds=6),\n",
    "          measures=[cross_entropy, brier_score])"
   ]
  },
  {
   "cell_type": "markdown",
   "metadata": {},
   "source": [
    "Or, Monte Carlo cross-validation (cross-validation repeated\n",
    "randomized folds)"
   ]
  },
  {
   "cell_type": "code",
   "execution_count": 88,
   "metadata": {},
   "outputs": [
    {
     "name": "stderr",
     "output_type": "stream",
     "text": [
      "\u001b[33mEvaluating over 18 folds: 100%[=========================] Time: 0:01:17\u001b[39m\n"
     ]
    },
    {
     "data": {
      "text/plain": [
       "PerformanceEvaluation object with these fields:\n",
       "  measure, measurement, operation, per_fold,\n",
       "  per_observation, fitted_params_per_fold,\n",
       "  report_per_fold, train_test_pairs\n",
       "Extract:\n",
       "┌────────────────────────────┬─────────────┬───────────┬────────────────────────\n",
       "│\u001b[22m measure                    \u001b[0m│\u001b[22m measurement \u001b[0m│\u001b[22m operation \u001b[0m│\u001b[22m per_fold             \u001b[0m ⋯\n",
       "├────────────────────────────┼─────────────┼───────────┼────────────────────────\n",
       "│ LogLoss(tol = 2.22045e-16) │ 0.399       │ predict   │ [0.285, 0.346, 0.384, ⋯\n",
       "│ BrierScore()               │ -0.222      │ predict   │ [-0.162, -0.181, -0.2 ⋯\n",
       "└────────────────────────────┴─────────────┴───────────┴────────────────────────\n",
       "\u001b[36m                                                                1 column omitted\u001b[0m\n"
      ]
     },
     "execution_count": 88,
     "metadata": {},
     "output_type": "execute_result"
    }
   ],
   "source": [
    "e = evaluate!(mach, resampling=CV(nfolds=6, rng=123),\n",
    "              repeats=3,\n",
    "              measures=[cross_entropy, brier_score])"
   ]
  },
  {
   "cell_type": "markdown",
   "metadata": {},
   "source": [
    "One can access the following properties of the output `e` of an\n",
    "evaluation: `measure`, `measurement`, `per_fold` (measurement for\n",
    "each fold) and `per_observation` (measurement per observation, if\n",
    "reported)."
   ]
  },
  {
   "cell_type": "markdown",
   "metadata": {},
   "source": [
    "We finally note that you can restrict the rows of observations from\n",
    "which train and test folds are drawn, by specifying `rows=...`. For\n",
    "example, imagining the last 30% of target observations are `missing`\n",
    "you might have a work-flow like this:"
   ]
  },
  {
   "cell_type": "code",
   "execution_count": 89,
   "metadata": {},
   "outputs": [
    {
     "name": "stderr",
     "output_type": "stream",
     "text": [
      "┌ Info: Creating subsamples from a subset of all rows. \n",
      "└ @ MLJBase /Users/anthony/.julia/packages/MLJBase/HZmTU/src/resampling.jl:495\n",
      "\u001b[33mEvaluating over 6 folds: 100%[=========================] Time: 0:00:19\u001b[39m\n",
      "┌ Info: Training Machine{NeuralNetworkClassifier{Short,…},…}.\n",
      "└ @ MLJBase /Users/anthony/.julia/packages/MLJBase/HZmTU/src/machines.jl:403\n",
      "\u001b[33mOptimising neural net:100%[=========================] Time: 0:00:03\u001b[39m\n"
     ]
    }
   ],
   "source": [
    "train, test = partition(eachindex(y), 0.7)\n",
    "mach = machine(model, X, y)\n",
    "evaluate!(mach, resampling=CV(nfolds=6),\n",
    "          measures=[cross_entropy, brier_score],\n",
    "          rows=train)     # cv estimate, resampling from `train`\n",
    "fit!(mach, rows=train)    # re-train using all of `train` observations\n",
    "predict(mach, rows=test); # and predict missing targets"
   ]
  },
  {
   "cell_type": "markdown",
   "metadata": {},
   "source": [
    "### On learning curves"
   ]
  },
  {
   "cell_type": "markdown",
   "metadata": {},
   "source": [
    "Since our model is an iterative one, we might want to inspect the\n",
    "out-of-sample performance as a function of the iteration\n",
    "parameter. For this we can use the `learning_curve` function (which,\n",
    "incidentally can be applied to any model hyper-parameter). This\n",
    "starts by defining a one-dimensional range object for the parameter\n",
    "(more on this when we discuss tuning in Part 4):"
   ]
  },
  {
   "cell_type": "code",
   "execution_count": 90,
   "metadata": {},
   "outputs": [
    {
     "data": {
      "text/plain": [
       "NumericRange(1 ≤ epochs ≤ 50; origin=25.5, unit=24.5) on log scale"
      ]
     },
     "execution_count": 90,
     "metadata": {},
     "output_type": "execute_result"
    }
   ],
   "source": [
    "r = range(model, :epochs, lower=1, upper=50, scale=:log)"
   ]
  },
  {
   "cell_type": "code",
   "execution_count": 91,
   "metadata": {},
   "outputs": [
    {
     "name": "stderr",
     "output_type": "stream",
     "text": [
      "┌ Info: Training Machine{ProbabilisticTunedModel{Grid,…},…}.\n",
      "└ @ MLJBase /Users/anthony/.julia/packages/MLJBase/HZmTU/src/machines.jl:403\n",
      "┌ Info: Attempting to evaluate 22 models.\n",
      "└ @ MLJTuning /Users/anthony/.julia/packages/MLJTuning/efiDR/src/tuned_models.jl:685\n",
      "\u001b[33mEvaluating over 22 metamodels: 100%[=========================] Time: 0:00:06\u001b[39m\n"
     ]
    },
    {
     "data": {
      "image/svg+xml": [
       "<?xml version=\"1.0\" encoding=\"utf-8\"?>\n",
       "<svg xmlns=\"http://www.w3.org/2000/svg\" xmlns:xlink=\"http://www.w3.org/1999/xlink\" width=\"490\" height=\"300\" viewBox=\"0 0 1960 1200\">\n",
       "<defs>\n",
       "  <clipPath id=\"clip080\">\n",
       "    <rect x=\"0\" y=\"0\" width=\"1960\" height=\"1200\"/>\n",
       "  </clipPath>\n",
       "</defs>\n",
       "<path clip-path=\"url(#clip080)\" d=\"\n",
       "M0 1200 L1960 1200 L1960 0 L0 0  Z\n",
       "  \" fill=\"#ffffff\" fill-rule=\"evenodd\" fill-opacity=\"1\"/>\n",
       "<defs>\n",
       "  <clipPath id=\"clip081\">\n",
       "    <rect x=\"392\" y=\"0\" width=\"1373\" height=\"1200\"/>\n",
       "  </clipPath>\n",
       "</defs>\n",
       "<path clip-path=\"url(#clip080)\" d=\"\n",
       "M211.587 1033.88 L1912.76 1033.88 L1912.76 47.2441 L211.587 47.2441  Z\n",
       "  \" fill=\"#ffffff\" fill-rule=\"evenodd\" fill-opacity=\"1\"/>\n",
       "<defs>\n",
       "  <clipPath id=\"clip082\">\n",
       "    <rect x=\"211\" y=\"47\" width=\"1702\" height=\"988\"/>\n",
       "  </clipPath>\n",
       "</defs>\n",
       "<polyline clip-path=\"url(#clip082)\" style=\"stroke:#000000; stroke-linecap:butt; stroke-linejoin:round; stroke-width:2; stroke-opacity:0.1; fill:none\" points=\"\n",
       "  226.981,1033.88 226.981,47.2441 \n",
       "  \"/>\n",
       "<polyline clip-path=\"url(#clip082)\" style=\"stroke:#000000; stroke-linecap:butt; stroke-linejoin:round; stroke-width:2; stroke-opacity:0.1; fill:none\" points=\"\n",
       "  554.507,1033.88 554.507,47.2441 \n",
       "  \"/>\n",
       "<polyline clip-path=\"url(#clip082)\" style=\"stroke:#000000; stroke-linecap:butt; stroke-linejoin:round; stroke-width:2; stroke-opacity:0.1; fill:none\" points=\"\n",
       "  882.032,1033.88 882.032,47.2441 \n",
       "  \"/>\n",
       "<polyline clip-path=\"url(#clip082)\" style=\"stroke:#000000; stroke-linecap:butt; stroke-linejoin:round; stroke-width:2; stroke-opacity:0.1; fill:none\" points=\"\n",
       "  1209.56,1033.88 1209.56,47.2441 \n",
       "  \"/>\n",
       "<polyline clip-path=\"url(#clip082)\" style=\"stroke:#000000; stroke-linecap:butt; stroke-linejoin:round; stroke-width:2; stroke-opacity:0.1; fill:none\" points=\"\n",
       "  1537.08,1033.88 1537.08,47.2441 \n",
       "  \"/>\n",
       "<polyline clip-path=\"url(#clip082)\" style=\"stroke:#000000; stroke-linecap:butt; stroke-linejoin:round; stroke-width:2; stroke-opacity:0.1; fill:none\" points=\"\n",
       "  1864.61,1033.88 1864.61,47.2441 \n",
       "  \"/>\n",
       "<polyline clip-path=\"url(#clip080)\" style=\"stroke:#000000; stroke-linecap:butt; stroke-linejoin:round; stroke-width:4; stroke-opacity:1; fill:none\" points=\"\n",
       "  211.587,1033.88 1912.76,1033.88 \n",
       "  \"/>\n",
       "<polyline clip-path=\"url(#clip080)\" style=\"stroke:#000000; stroke-linecap:butt; stroke-linejoin:round; stroke-width:4; stroke-opacity:1; fill:none\" points=\"\n",
       "  226.981,1033.88 226.981,1014.98 \n",
       "  \"/>\n",
       "<polyline clip-path=\"url(#clip080)\" style=\"stroke:#000000; stroke-linecap:butt; stroke-linejoin:round; stroke-width:4; stroke-opacity:1; fill:none\" points=\"\n",
       "  554.507,1033.88 554.507,1014.98 \n",
       "  \"/>\n",
       "<polyline clip-path=\"url(#clip080)\" style=\"stroke:#000000; stroke-linecap:butt; stroke-linejoin:round; stroke-width:4; stroke-opacity:1; fill:none\" points=\"\n",
       "  882.032,1033.88 882.032,1014.98 \n",
       "  \"/>\n",
       "<polyline clip-path=\"url(#clip080)\" style=\"stroke:#000000; stroke-linecap:butt; stroke-linejoin:round; stroke-width:4; stroke-opacity:1; fill:none\" points=\"\n",
       "  1209.56,1033.88 1209.56,1014.98 \n",
       "  \"/>\n",
       "<polyline clip-path=\"url(#clip080)\" style=\"stroke:#000000; stroke-linecap:butt; stroke-linejoin:round; stroke-width:4; stroke-opacity:1; fill:none\" points=\"\n",
       "  1537.08,1033.88 1537.08,1014.98 \n",
       "  \"/>\n",
       "<polyline clip-path=\"url(#clip080)\" style=\"stroke:#000000; stroke-linecap:butt; stroke-linejoin:round; stroke-width:4; stroke-opacity:1; fill:none\" points=\"\n",
       "  1864.61,1033.88 1864.61,1014.98 \n",
       "  \"/>\n",
       "<path clip-path=\"url(#clip080)\" d=\"M226.981 1061.28 Q223.37 1061.28 221.541 1064.84 Q219.735 1068.39 219.735 1075.51 Q219.735 1082.62 221.541 1086.19 Q223.37 1089.73 226.981 1089.73 Q230.615 1089.73 232.421 1086.19 Q234.249 1082.62 234.249 1075.51 Q234.249 1068.39 232.421 1064.84 Q230.615 1061.28 226.981 1061.28 M226.981 1057.58 Q232.791 1057.58 235.846 1062.18 Q238.925 1066.77 238.925 1075.51 Q238.925 1084.24 235.846 1088.85 Q232.791 1093.43 226.981 1093.43 Q221.171 1093.43 218.092 1088.85 Q215.036 1084.24 215.036 1075.51 Q215.036 1066.77 218.092 1062.18 Q221.171 1057.58 226.981 1057.58 Z\" fill=\"#000000\" fill-rule=\"evenodd\" fill-opacity=\"1\" /><path clip-path=\"url(#clip080)\" d=\"M529.194 1088.83 L536.833 1088.83 L536.833 1062.46 L528.523 1064.13 L528.523 1059.87 L536.787 1058.2 L541.463 1058.2 L541.463 1088.83 L549.101 1088.83 L549.101 1092.76 L529.194 1092.76 L529.194 1088.83 Z\" fill=\"#000000\" fill-rule=\"evenodd\" fill-opacity=\"1\" /><path clip-path=\"url(#clip080)\" d=\"M568.546 1061.28 Q564.935 1061.28 563.106 1064.84 Q561.301 1068.39 561.301 1075.51 Q561.301 1082.62 563.106 1086.19 Q564.935 1089.73 568.546 1089.73 Q572.18 1089.73 573.986 1086.19 Q575.814 1082.62 575.814 1075.51 Q575.814 1068.39 573.986 1064.84 Q572.18 1061.28 568.546 1061.28 M568.546 1057.58 Q574.356 1057.58 577.412 1062.18 Q580.49 1066.77 580.49 1075.51 Q580.49 1084.24 577.412 1088.85 Q574.356 1093.43 568.546 1093.43 Q562.736 1093.43 559.657 1088.85 Q556.601 1084.24 556.601 1075.51 Q556.601 1066.77 559.657 1062.18 Q562.736 1057.58 568.546 1057.58 Z\" fill=\"#000000\" fill-rule=\"evenodd\" fill-opacity=\"1\" /><path clip-path=\"url(#clip080)\" d=\"M860.806 1088.83 L877.125 1088.83 L877.125 1092.76 L855.181 1092.76 L855.181 1088.83 Q857.843 1086.07 862.426 1081.44 Q867.032 1076.79 868.213 1075.45 Q870.458 1072.92 871.338 1071.19 Q872.241 1069.43 872.241 1067.74 Q872.241 1064.98 870.296 1063.25 Q868.375 1061.51 865.273 1061.51 Q863.074 1061.51 860.62 1062.27 Q858.19 1063.04 855.412 1064.59 L855.412 1059.87 Q858.236 1058.73 860.69 1058.15 Q863.144 1057.58 865.181 1057.58 Q870.551 1057.58 873.745 1060.26 Q876.94 1062.95 876.94 1067.44 Q876.94 1069.57 876.13 1071.49 Q875.343 1073.39 873.236 1075.98 Q872.657 1076.65 869.556 1079.87 Q866.454 1083.06 860.806 1088.83 Z\" fill=\"#000000\" fill-rule=\"evenodd\" fill-opacity=\"1\" /><path clip-path=\"url(#clip080)\" d=\"M896.94 1061.28 Q893.329 1061.28 891.5 1064.84 Q889.694 1068.39 889.694 1075.51 Q889.694 1082.62 891.5 1086.19 Q893.329 1089.73 896.94 1089.73 Q900.574 1089.73 902.379 1086.19 Q904.208 1082.62 904.208 1075.51 Q904.208 1068.39 902.379 1064.84 Q900.574 1061.28 896.94 1061.28 M896.94 1057.58 Q902.75 1057.58 905.805 1062.18 Q908.884 1066.77 908.884 1075.51 Q908.884 1084.24 905.805 1088.85 Q902.75 1093.43 896.94 1093.43 Q891.129 1093.43 888.051 1088.85 Q884.995 1084.24 884.995 1075.51 Q884.995 1066.77 888.051 1062.18 Q891.129 1057.58 896.94 1057.58 Z\" fill=\"#000000\" fill-rule=\"evenodd\" fill-opacity=\"1\" /><path clip-path=\"url(#clip080)\" d=\"M1198.4 1074.13 Q1201.76 1074.84 1203.63 1077.11 Q1205.53 1079.38 1205.53 1082.71 Q1205.53 1087.83 1202.01 1090.63 Q1198.49 1093.43 1192.01 1093.43 Q1189.84 1093.43 1187.52 1092.99 Q1185.23 1092.58 1182.78 1091.72 L1182.78 1087.2 Q1184.72 1088.34 1187.04 1088.92 Q1189.35 1089.5 1191.87 1089.5 Q1196.27 1089.5 1198.56 1087.76 Q1200.88 1086.02 1200.88 1082.71 Q1200.88 1079.66 1198.72 1077.95 Q1196.6 1076.21 1192.78 1076.21 L1188.75 1076.21 L1188.75 1072.37 L1192.96 1072.37 Q1196.41 1072.37 1198.24 1071 Q1200.07 1069.61 1200.07 1067.02 Q1200.07 1064.36 1198.17 1062.95 Q1196.29 1061.51 1192.78 1061.51 Q1190.85 1061.51 1188.66 1061.93 Q1186.46 1062.34 1183.82 1063.22 L1183.82 1059.06 Q1186.48 1058.32 1188.79 1057.95 Q1191.13 1057.58 1193.19 1057.58 Q1198.52 1057.58 1201.62 1060.01 Q1204.72 1062.41 1204.72 1066.53 Q1204.72 1069.4 1203.08 1071.39 Q1201.43 1073.36 1198.4 1074.13 Z\" fill=\"#000000\" fill-rule=\"evenodd\" fill-opacity=\"1\" /><path clip-path=\"url(#clip080)\" d=\"M1224.4 1061.28 Q1220.78 1061.28 1218.96 1064.84 Q1217.15 1068.39 1217.15 1075.51 Q1217.15 1082.62 1218.96 1086.19 Q1220.78 1089.73 1224.4 1089.73 Q1228.03 1089.73 1229.84 1086.19 Q1231.66 1082.62 1231.66 1075.51 Q1231.66 1068.39 1229.84 1064.84 Q1228.03 1061.28 1224.4 1061.28 M1224.4 1057.58 Q1230.21 1057.58 1233.26 1062.18 Q1236.34 1066.77 1236.34 1075.51 Q1236.34 1084.24 1233.26 1088.85 Q1230.21 1093.43 1224.4 1093.43 Q1218.59 1093.43 1215.51 1088.85 Q1212.45 1084.24 1212.45 1075.51 Q1212.45 1066.77 1215.51 1062.18 Q1218.59 1057.58 1224.4 1057.58 Z\" fill=\"#000000\" fill-rule=\"evenodd\" fill-opacity=\"1\" /><path clip-path=\"url(#clip080)\" d=\"M1525.26 1062.27 L1513.45 1080.72 L1525.26 1080.72 L1525.26 1062.27 M1524.03 1058.2 L1529.91 1058.2 L1529.91 1080.72 L1534.84 1080.72 L1534.84 1084.61 L1529.91 1084.61 L1529.91 1092.76 L1525.26 1092.76 L1525.26 1084.61 L1509.65 1084.61 L1509.65 1080.1 L1524.03 1058.2 Z\" fill=\"#000000\" fill-rule=\"evenodd\" fill-opacity=\"1\" /><path clip-path=\"url(#clip080)\" d=\"M1552.57 1061.28 Q1548.96 1061.28 1547.13 1064.84 Q1545.32 1068.39 1545.32 1075.51 Q1545.32 1082.62 1547.13 1086.19 Q1548.96 1089.73 1552.57 1089.73 Q1556.2 1089.73 1558.01 1086.19 Q1559.84 1082.62 1559.84 1075.51 Q1559.84 1068.39 1558.01 1064.84 Q1556.2 1061.28 1552.57 1061.28 M1552.57 1057.58 Q1558.38 1057.58 1561.44 1062.18 Q1564.51 1066.77 1564.51 1075.51 Q1564.51 1084.24 1561.44 1088.85 Q1558.38 1093.43 1552.57 1093.43 Q1546.76 1093.43 1543.68 1088.85 Q1540.63 1084.24 1540.63 1075.51 Q1540.63 1066.77 1543.68 1062.18 Q1546.76 1057.58 1552.57 1057.58 Z\" fill=\"#000000\" fill-rule=\"evenodd\" fill-opacity=\"1\" /><path clip-path=\"url(#clip080)\" d=\"M1839.31 1058.2 L1857.67 1058.2 L1857.67 1062.14 L1843.59 1062.14 L1843.59 1070.61 Q1844.61 1070.26 1845.63 1070.1 Q1846.65 1069.91 1847.67 1069.91 Q1853.45 1069.91 1856.83 1073.08 Q1860.21 1076.26 1860.21 1081.67 Q1860.21 1087.25 1856.74 1090.35 Q1853.27 1093.43 1846.95 1093.43 Q1844.77 1093.43 1842.5 1093.06 Q1840.26 1092.69 1837.85 1091.95 L1837.85 1087.25 Q1839.93 1088.39 1842.16 1088.94 Q1844.38 1089.5 1846.86 1089.5 Q1850.86 1089.5 1853.2 1087.39 Q1855.54 1085.28 1855.54 1081.67 Q1855.54 1078.06 1853.2 1075.95 Q1850.86 1073.85 1846.86 1073.85 Q1844.98 1073.85 1843.11 1074.26 Q1841.25 1074.68 1839.31 1075.56 L1839.31 1058.2 Z\" fill=\"#000000\" fill-rule=\"evenodd\" fill-opacity=\"1\" /><path clip-path=\"url(#clip080)\" d=\"M1879.42 1061.28 Q1875.81 1061.28 1873.98 1064.84 Q1872.18 1068.39 1872.18 1075.51 Q1872.18 1082.62 1873.98 1086.19 Q1875.81 1089.73 1879.42 1089.73 Q1883.06 1089.73 1884.86 1086.19 Q1886.69 1082.62 1886.69 1075.51 Q1886.69 1068.39 1884.86 1064.84 Q1883.06 1061.28 1879.42 1061.28 M1879.42 1057.58 Q1885.23 1057.58 1888.29 1062.18 Q1891.37 1066.77 1891.37 1075.51 Q1891.37 1084.24 1888.29 1088.85 Q1885.23 1093.43 1879.42 1093.43 Q1873.61 1093.43 1870.54 1088.85 Q1867.48 1084.24 1867.48 1075.51 Q1867.48 1066.77 1870.54 1062.18 Q1873.61 1057.58 1879.42 1057.58 Z\" fill=\"#000000\" fill-rule=\"evenodd\" fill-opacity=\"1\" /><path clip-path=\"url(#clip080)\" d=\"M982.361 1152.86 L982.361 1155.72 L955.435 1155.72 Q955.816 1161.77 959.063 1164.95 Q962.341 1168.1 968.166 1168.1 Q971.54 1168.1 974.691 1167.27 Q977.874 1166.45 980.993 1164.79 L980.993 1170.33 Q977.842 1171.67 974.532 1172.37 Q971.221 1173.07 967.816 1173.07 Q959.286 1173.07 954.289 1168.1 Q949.323 1163.14 949.323 1154.67 Q949.323 1145.92 954.034 1140.79 Q958.777 1135.64 966.797 1135.64 Q973.991 1135.64 978.16 1140.28 Q982.361 1144.9 982.361 1152.86 M976.505 1151.14 Q976.441 1146.33 973.8 1143.47 Q971.19 1140.6 966.861 1140.6 Q961.959 1140.6 958.999 1143.37 Q956.071 1146.14 955.625 1151.17 L976.505 1151.14 Z\" fill=\"#000000\" fill-rule=\"evenodd\" fill-opacity=\"1\" /><path clip-path=\"url(#clip080)\" d=\"M997.639 1166.8 L997.639 1185.7 L991.751 1185.7 L991.751 1136.5 L997.639 1136.5 L997.639 1141.91 Q999.485 1138.72 1002.29 1137.2 Q1005.12 1135.64 1009.03 1135.64 Q1015.53 1135.64 1019.57 1140.79 Q1023.64 1145.95 1023.64 1154.35 Q1023.64 1162.75 1019.57 1167.91 Q1015.53 1173.07 1009.03 1173.07 Q1005.12 1173.07 1002.29 1171.54 Q999.485 1169.98 997.639 1166.8 M1017.56 1154.35 Q1017.56 1147.89 1014.89 1144.23 Q1012.25 1140.54 1007.6 1140.54 Q1002.95 1140.54 1000.28 1144.23 Q997.639 1147.89 997.639 1154.35 Q997.639 1160.81 1000.28 1164.51 Q1002.95 1168.17 1007.6 1168.17 Q1012.25 1168.17 1014.89 1164.51 Q1017.56 1160.81 1017.56 1154.35 Z\" fill=\"#000000\" fill-rule=\"evenodd\" fill-opacity=\"1\" /><path clip-path=\"url(#clip080)\" d=\"M1047.16 1140.6 Q1042.45 1140.6 1039.72 1144.29 Q1036.98 1147.95 1036.98 1154.35 Q1036.98 1160.75 1039.68 1164.44 Q1042.42 1168.1 1047.16 1168.1 Q1051.84 1168.1 1054.58 1164.41 Q1057.32 1160.72 1057.32 1154.35 Q1057.32 1148.02 1054.58 1144.33 Q1051.84 1140.6 1047.16 1140.6 M1047.16 1135.64 Q1054.8 1135.64 1059.16 1140.6 Q1063.52 1145.57 1063.52 1154.35 Q1063.52 1163.1 1059.16 1168.1 Q1054.8 1173.07 1047.16 1173.07 Q1039.49 1173.07 1035.13 1168.1 Q1030.8 1163.1 1030.8 1154.35 Q1030.8 1145.57 1035.13 1140.6 Q1039.49 1135.64 1047.16 1135.64 Z\" fill=\"#000000\" fill-rule=\"evenodd\" fill-opacity=\"1\" /><path clip-path=\"url(#clip080)\" d=\"M1098.89 1137.86 L1098.89 1143.34 Q1096.4 1141.97 1093.89 1141.3 Q1091.41 1140.6 1088.86 1140.6 Q1083.16 1140.6 1080.01 1144.23 Q1076.86 1147.83 1076.86 1154.35 Q1076.86 1160.88 1080.01 1164.51 Q1083.16 1168.1 1088.86 1168.1 Q1091.41 1168.1 1093.89 1167.43 Q1096.4 1166.73 1098.89 1165.36 L1098.89 1170.78 Q1096.43 1171.92 1093.79 1172.49 Q1091.18 1173.07 1088.22 1173.07 Q1080.17 1173.07 1075.43 1168.01 Q1070.69 1162.95 1070.69 1154.35 Q1070.69 1145.63 1075.46 1140.63 Q1080.27 1135.64 1088.61 1135.64 Q1091.31 1135.64 1093.89 1136.21 Q1096.47 1136.75 1098.89 1137.86 Z\" fill=\"#000000\" fill-rule=\"evenodd\" fill-opacity=\"1\" /><path clip-path=\"url(#clip080)\" d=\"M1138.7 1150.63 L1138.7 1172.14 L1132.85 1172.14 L1132.85 1150.82 Q1132.85 1145.76 1130.87 1143.24 Q1128.9 1140.73 1124.95 1140.73 Q1120.21 1140.73 1117.47 1143.75 Q1114.74 1146.78 1114.74 1152 L1114.74 1172.14 L1108.85 1172.14 L1108.85 1122.62 L1114.74 1122.62 L1114.74 1142.03 Q1116.84 1138.82 1119.67 1137.23 Q1122.53 1135.64 1126.26 1135.64 Q1132.4 1135.64 1135.55 1139.46 Q1138.7 1143.24 1138.7 1150.63 Z\" fill=\"#000000\" fill-rule=\"evenodd\" fill-opacity=\"1\" /><path clip-path=\"url(#clip080)\" d=\"M1173.11 1137.55 L1173.11 1143.08 Q1170.63 1141.81 1167.95 1141.18 Q1165.28 1140.54 1162.42 1140.54 Q1158.05 1140.54 1155.86 1141.88 Q1153.69 1143.21 1153.69 1145.89 Q1153.69 1147.92 1155.25 1149.1 Q1156.81 1150.25 1161.52 1151.3 L1163.53 1151.74 Q1169.77 1153.08 1172.38 1155.53 Q1175.02 1157.95 1175.02 1162.31 Q1175.02 1167.27 1171.07 1170.17 Q1167.16 1173.07 1160.28 1173.07 Q1157.42 1173.07 1154.3 1172.49 Q1151.21 1171.95 1147.77 1170.84 L1147.77 1164.79 Q1151.02 1166.48 1154.17 1167.34 Q1157.32 1168.17 1160.41 1168.17 Q1164.55 1168.17 1166.78 1166.77 Q1169 1165.33 1169 1162.75 Q1169 1160.37 1167.38 1159.09 Q1165.79 1157.82 1160.35 1156.64 L1158.31 1156.17 Q1152.87 1155.02 1150.45 1152.67 Q1148.03 1150.28 1148.03 1146.14 Q1148.03 1141.11 1151.59 1138.37 Q1155.16 1135.64 1161.72 1135.64 Q1164.96 1135.64 1167.83 1136.11 Q1170.69 1136.59 1173.11 1137.55 Z\" fill=\"#000000\" fill-rule=\"evenodd\" fill-opacity=\"1\" /><polyline clip-path=\"url(#clip082)\" style=\"stroke:#000000; stroke-linecap:butt; stroke-linejoin:round; stroke-width:2; stroke-opacity:0.1; fill:none\" points=\"\n",
       "  211.587,1023.68 1912.76,1023.68 \n",
       "  \"/>\n",
       "<polyline clip-path=\"url(#clip082)\" style=\"stroke:#000000; stroke-linecap:butt; stroke-linejoin:round; stroke-width:2; stroke-opacity:0.1; fill:none\" points=\"\n",
       "  211.587,849.826 1912.76,849.826 \n",
       "  \"/>\n",
       "<polyline clip-path=\"url(#clip082)\" style=\"stroke:#000000; stroke-linecap:butt; stroke-linejoin:round; stroke-width:2; stroke-opacity:0.1; fill:none\" points=\"\n",
       "  211.587,675.972 1912.76,675.972 \n",
       "  \"/>\n",
       "<polyline clip-path=\"url(#clip082)\" style=\"stroke:#000000; stroke-linecap:butt; stroke-linejoin:round; stroke-width:2; stroke-opacity:0.1; fill:none\" points=\"\n",
       "  211.587,502.119 1912.76,502.119 \n",
       "  \"/>\n",
       "<polyline clip-path=\"url(#clip082)\" style=\"stroke:#000000; stroke-linecap:butt; stroke-linejoin:round; stroke-width:2; stroke-opacity:0.1; fill:none\" points=\"\n",
       "  211.587,328.265 1912.76,328.265 \n",
       "  \"/>\n",
       "<polyline clip-path=\"url(#clip082)\" style=\"stroke:#000000; stroke-linecap:butt; stroke-linejoin:round; stroke-width:2; stroke-opacity:0.1; fill:none\" points=\"\n",
       "  211.587,154.412 1912.76,154.412 \n",
       "  \"/>\n",
       "<polyline clip-path=\"url(#clip080)\" style=\"stroke:#000000; stroke-linecap:butt; stroke-linejoin:round; stroke-width:4; stroke-opacity:1; fill:none\" points=\"\n",
       "  211.587,1033.88 211.587,47.2441 \n",
       "  \"/>\n",
       "<polyline clip-path=\"url(#clip080)\" style=\"stroke:#000000; stroke-linecap:butt; stroke-linejoin:round; stroke-width:4; stroke-opacity:1; fill:none\" points=\"\n",
       "  211.587,1023.68 230.485,1023.68 \n",
       "  \"/>\n",
       "<polyline clip-path=\"url(#clip080)\" style=\"stroke:#000000; stroke-linecap:butt; stroke-linejoin:round; stroke-width:4; stroke-opacity:1; fill:none\" points=\"\n",
       "  211.587,849.826 230.485,849.826 \n",
       "  \"/>\n",
       "<polyline clip-path=\"url(#clip080)\" style=\"stroke:#000000; stroke-linecap:butt; stroke-linejoin:round; stroke-width:4; stroke-opacity:1; fill:none\" points=\"\n",
       "  211.587,675.972 230.485,675.972 \n",
       "  \"/>\n",
       "<polyline clip-path=\"url(#clip080)\" style=\"stroke:#000000; stroke-linecap:butt; stroke-linejoin:round; stroke-width:4; stroke-opacity:1; fill:none\" points=\"\n",
       "  211.587,502.119 230.485,502.119 \n",
       "  \"/>\n",
       "<polyline clip-path=\"url(#clip080)\" style=\"stroke:#000000; stroke-linecap:butt; stroke-linejoin:round; stroke-width:4; stroke-opacity:1; fill:none\" points=\"\n",
       "  211.587,328.265 230.485,328.265 \n",
       "  \"/>\n",
       "<polyline clip-path=\"url(#clip080)\" style=\"stroke:#000000; stroke-linecap:butt; stroke-linejoin:round; stroke-width:4; stroke-opacity:1; fill:none\" points=\"\n",
       "  211.587,154.412 230.485,154.412 \n",
       "  \"/>\n",
       "<path clip-path=\"url(#clip080)\" d=\"M124.525 1009.48 Q120.914 1009.48 119.086 1013.04 Q117.28 1016.58 117.28 1023.71 Q117.28 1030.82 119.086 1034.39 Q120.914 1037.93 124.525 1037.93 Q128.16 1037.93 129.965 1034.39 Q131.794 1030.82 131.794 1023.71 Q131.794 1016.58 129.965 1013.04 Q128.16 1009.48 124.525 1009.48 M124.525 1005.77 Q130.336 1005.77 133.391 1010.38 Q136.47 1014.96 136.47 1023.71 Q136.47 1032.44 133.391 1037.05 Q130.336 1041.63 124.525 1041.63 Q118.715 1041.63 115.637 1037.05 Q112.581 1032.44 112.581 1023.71 Q112.581 1014.96 115.637 1010.38 Q118.715 1005.77 124.525 1005.77 Z\" fill=\"#000000\" fill-rule=\"evenodd\" fill-opacity=\"1\" /><path clip-path=\"url(#clip080)\" d=\"M144.687 1035.08 L149.572 1035.08 L149.572 1040.96 L144.687 1040.96 L144.687 1035.08 Z\" fill=\"#000000\" fill-rule=\"evenodd\" fill-opacity=\"1\" /><path clip-path=\"url(#clip080)\" d=\"M172.604 1010.47 L160.798 1028.92 L172.604 1028.92 L172.604 1010.47 M171.377 1006.4 L177.257 1006.4 L177.257 1028.92 L182.187 1028.92 L182.187 1032.81 L177.257 1032.81 L177.257 1040.96 L172.604 1040.96 L172.604 1032.81 L157.002 1032.81 L157.002 1028.3 L171.377 1006.4 Z\" fill=\"#000000\" fill-rule=\"evenodd\" fill-opacity=\"1\" /><path clip-path=\"url(#clip080)\" d=\"M126.007 835.624 Q122.396 835.624 120.567 839.189 Q118.761 842.731 118.761 849.86 Q118.761 856.967 120.567 860.532 Q122.396 864.073 126.007 864.073 Q129.641 864.073 131.447 860.532 Q133.275 856.967 133.275 849.86 Q133.275 842.731 131.447 839.189 Q129.641 835.624 126.007 835.624 M126.007 831.921 Q131.817 831.921 134.873 836.527 Q137.951 841.11 137.951 849.86 Q137.951 858.587 134.873 863.194 Q131.817 867.777 126.007 867.777 Q120.197 867.777 117.118 863.194 Q114.062 858.587 114.062 849.86 Q114.062 841.11 117.118 836.527 Q120.197 831.921 126.007 831.921 Z\" fill=\"#000000\" fill-rule=\"evenodd\" fill-opacity=\"1\" /><path clip-path=\"url(#clip080)\" d=\"M146.169 861.226 L151.053 861.226 L151.053 867.106 L146.169 867.106 L146.169 861.226 Z\" fill=\"#000000\" fill-rule=\"evenodd\" fill-opacity=\"1\" /><path clip-path=\"url(#clip080)\" d=\"M161.284 832.546 L179.641 832.546 L179.641 836.481 L165.567 836.481 L165.567 844.953 Q166.585 844.606 167.604 844.444 Q168.622 844.258 169.641 844.258 Q175.428 844.258 178.807 847.43 Q182.187 850.601 182.187 856.018 Q182.187 861.596 178.715 864.698 Q175.243 867.777 168.923 867.777 Q166.747 867.777 164.479 867.406 Q162.233 867.036 159.826 866.295 L159.826 861.596 Q161.909 862.731 164.132 863.286 Q166.354 863.842 168.831 863.842 Q172.835 863.842 175.173 861.735 Q177.511 859.629 177.511 856.018 Q177.511 852.407 175.173 850.3 Q172.835 848.194 168.831 848.194 Q166.956 848.194 165.081 848.61 Q163.229 849.027 161.284 849.907 L161.284 832.546 Z\" fill=\"#000000\" fill-rule=\"evenodd\" fill-opacity=\"1\" /><path clip-path=\"url(#clip080)\" d=\"M124.849 661.771 Q121.238 661.771 119.41 665.336 Q117.604 668.877 117.604 676.007 Q117.604 683.113 119.41 686.678 Q121.238 690.22 124.849 690.22 Q128.484 690.22 130.289 686.678 Q132.118 683.113 132.118 676.007 Q132.118 668.877 130.289 665.336 Q128.484 661.771 124.849 661.771 M124.849 658.067 Q130.66 658.067 133.715 662.674 Q136.794 667.257 136.794 676.007 Q136.794 684.734 133.715 689.34 Q130.66 693.923 124.849 693.923 Q119.039 693.923 115.961 689.34 Q112.905 684.734 112.905 676.007 Q112.905 667.257 115.961 662.674 Q119.039 658.067 124.849 658.067 Z\" fill=\"#000000\" fill-rule=\"evenodd\" fill-opacity=\"1\" /><path clip-path=\"url(#clip080)\" d=\"M145.011 687.373 L149.896 687.373 L149.896 693.252 L145.011 693.252 L145.011 687.373 Z\" fill=\"#000000\" fill-rule=\"evenodd\" fill-opacity=\"1\" /><path clip-path=\"url(#clip080)\" d=\"M170.659 674.109 Q167.511 674.109 165.659 676.261 Q163.831 678.414 163.831 682.164 Q163.831 685.891 165.659 688.067 Q167.511 690.22 170.659 690.22 Q173.807 690.22 175.636 688.067 Q177.488 685.891 177.488 682.164 Q177.488 678.414 175.636 676.261 Q173.807 674.109 170.659 674.109 M179.942 659.456 L179.942 663.715 Q178.182 662.882 176.377 662.442 Q174.595 662.002 172.835 662.002 Q168.206 662.002 165.752 665.127 Q163.321 668.252 162.974 674.572 Q164.34 672.558 166.4 671.493 Q168.46 670.405 170.937 670.405 Q176.145 670.405 179.155 673.576 Q182.187 676.724 182.187 682.164 Q182.187 687.488 179.039 690.706 Q175.891 693.923 170.659 693.923 Q164.664 693.923 161.493 689.34 Q158.321 684.734 158.321 676.007 Q158.321 667.812 162.21 662.951 Q166.099 658.067 172.65 658.067 Q174.409 658.067 176.192 658.414 Q177.997 658.762 179.942 659.456 Z\" fill=\"#000000\" fill-rule=\"evenodd\" fill-opacity=\"1\" /><path clip-path=\"url(#clip080)\" d=\"M125.914 487.917 Q122.303 487.917 120.474 491.482 Q118.669 495.024 118.669 502.153 Q118.669 509.26 120.474 512.825 Q122.303 516.366 125.914 516.366 Q129.548 516.366 131.354 512.825 Q133.183 509.26 133.183 502.153 Q133.183 495.024 131.354 491.482 Q129.548 487.917 125.914 487.917 M125.914 484.214 Q131.724 484.214 134.78 488.82 Q137.859 493.403 137.859 502.153 Q137.859 510.88 134.78 515.487 Q131.724 520.07 125.914 520.07 Q120.104 520.07 117.025 515.487 Q113.97 510.88 113.97 502.153 Q113.97 493.403 117.025 488.82 Q120.104 484.214 125.914 484.214 Z\" fill=\"#000000\" fill-rule=\"evenodd\" fill-opacity=\"1\" /><path clip-path=\"url(#clip080)\" d=\"M146.076 513.519 L150.96 513.519 L150.96 519.399 L146.076 519.399 L146.076 513.519 Z\" fill=\"#000000\" fill-rule=\"evenodd\" fill-opacity=\"1\" /><path clip-path=\"url(#clip080)\" d=\"M159.965 484.839 L182.187 484.839 L182.187 486.829 L169.641 519.399 L164.757 519.399 L176.562 488.774 L159.965 488.774 L159.965 484.839 Z\" fill=\"#000000\" fill-rule=\"evenodd\" fill-opacity=\"1\" /><path clip-path=\"url(#clip080)\" d=\"M125.104 314.064 Q121.493 314.064 119.664 317.629 Q117.859 321.17 117.859 328.3 Q117.859 335.406 119.664 338.971 Q121.493 342.513 125.104 342.513 Q128.738 342.513 130.544 338.971 Q132.373 335.406 132.373 328.3 Q132.373 321.17 130.544 317.629 Q128.738 314.064 125.104 314.064 M125.104 310.36 Q130.914 310.36 133.97 314.967 Q137.048 319.55 137.048 328.3 Q137.048 337.027 133.97 341.633 Q130.914 346.216 125.104 346.216 Q119.294 346.216 116.215 341.633 Q113.16 337.027 113.16 328.3 Q113.16 319.55 116.215 314.967 Q119.294 310.36 125.104 310.36 Z\" fill=\"#000000\" fill-rule=\"evenodd\" fill-opacity=\"1\" /><path clip-path=\"url(#clip080)\" d=\"M145.266 339.666 L150.15 339.666 L150.15 345.545 L145.266 345.545 L145.266 339.666 Z\" fill=\"#000000\" fill-rule=\"evenodd\" fill-opacity=\"1\" /><path clip-path=\"url(#clip080)\" d=\"M170.335 329.133 Q167.002 329.133 165.081 330.916 Q163.183 332.698 163.183 335.823 Q163.183 338.948 165.081 340.73 Q167.002 342.513 170.335 342.513 Q173.669 342.513 175.59 340.73 Q177.511 338.925 177.511 335.823 Q177.511 332.698 175.59 330.916 Q173.692 329.133 170.335 329.133 M165.659 327.142 Q162.65 326.402 160.96 324.342 Q159.294 322.281 159.294 319.318 Q159.294 315.175 162.233 312.768 Q165.196 310.36 170.335 310.36 Q175.497 310.36 178.437 312.768 Q181.377 315.175 181.377 319.318 Q181.377 322.281 179.687 324.342 Q178.02 326.402 175.034 327.142 Q178.414 327.93 180.289 330.221 Q182.187 332.513 182.187 335.823 Q182.187 340.846 179.108 343.531 Q176.053 346.216 170.335 346.216 Q164.618 346.216 161.539 343.531 Q158.484 340.846 158.484 335.823 Q158.484 332.513 160.382 330.221 Q162.28 327.93 165.659 327.142 M163.946 319.758 Q163.946 322.443 165.613 323.948 Q167.303 325.453 170.335 325.453 Q173.345 325.453 175.034 323.948 Q176.747 322.443 176.747 319.758 Q176.747 317.073 175.034 315.568 Q173.345 314.064 170.335 314.064 Q167.303 314.064 165.613 315.568 Q163.946 317.073 163.946 319.758 Z\" fill=\"#000000\" fill-rule=\"evenodd\" fill-opacity=\"1\" /><path clip-path=\"url(#clip080)\" d=\"M125.197 140.21 Q121.586 140.21 119.757 143.775 Q117.951 147.317 117.951 154.446 Q117.951 161.553 119.757 165.118 Q121.586 168.659 125.197 168.659 Q128.831 168.659 130.636 165.118 Q132.465 161.553 132.465 154.446 Q132.465 147.317 130.636 143.775 Q128.831 140.21 125.197 140.21 M125.197 136.507 Q131.007 136.507 134.062 141.113 Q137.141 145.696 137.141 154.446 Q137.141 163.173 134.062 167.78 Q131.007 172.363 125.197 172.363 Q119.386 172.363 116.308 167.78 Q113.252 163.173 113.252 154.446 Q113.252 145.696 116.308 141.113 Q119.386 136.507 125.197 136.507 Z\" fill=\"#000000\" fill-rule=\"evenodd\" fill-opacity=\"1\" /><path clip-path=\"url(#clip080)\" d=\"M145.359 165.812 L150.243 165.812 L150.243 171.692 L145.359 171.692 L145.359 165.812 Z\" fill=\"#000000\" fill-rule=\"evenodd\" fill-opacity=\"1\" /><path clip-path=\"url(#clip080)\" d=\"M160.567 170.974 L160.567 166.715 Q162.326 167.548 164.132 167.988 Q165.937 168.428 167.673 168.428 Q172.303 168.428 174.733 165.326 Q177.187 162.201 177.534 155.858 Q176.192 157.849 174.132 158.914 Q172.071 159.979 169.571 159.979 Q164.386 159.979 161.354 156.854 Q158.345 153.706 158.345 148.266 Q158.345 142.942 161.493 139.724 Q164.641 136.507 169.872 136.507 Q175.868 136.507 179.016 141.113 Q182.187 145.696 182.187 154.446 Q182.187 162.618 178.298 167.502 Q174.432 172.363 167.882 172.363 Q166.122 172.363 164.317 172.016 Q162.511 171.669 160.567 170.974 M169.872 156.321 Q173.02 156.321 174.849 154.169 Q176.701 152.016 176.701 148.266 Q176.701 144.539 174.849 142.386 Q173.02 140.21 169.872 140.21 Q166.724 140.21 164.872 142.386 Q163.044 144.539 163.044 148.266 Q163.044 152.016 164.872 154.169 Q166.724 156.321 169.872 156.321 Z\" fill=\"#000000\" fill-rule=\"evenodd\" fill-opacity=\"1\" /><path clip-path=\"url(#clip080)\" d=\"M34.6456 975.945 L40.1202 975.945 Q38.7515 978.427 38.0831 980.942 Q37.3829 983.424 37.3829 985.971 Q37.3829 991.668 41.0114 994.819 Q44.608 997.97 51.1328 997.97 Q57.6577 997.97 61.2861 994.819 Q64.8828 991.668 64.8828 985.971 Q64.8828 983.424 64.2144 980.942 Q63.5141 978.427 62.1455 975.945 L67.5563 975.945 Q68.7022 978.395 69.2751 981.037 Q69.848 983.647 69.848 986.607 Q69.848 994.66 64.7873 999.402 Q59.7265 1004.14 51.1328 1004.14 Q42.4118 1004.14 37.4147 999.37 Q32.4176 994.564 32.4176 986.225 Q32.4176 983.52 32.9906 980.942 Q33.5316 978.364 34.6456 975.945 Z\" fill=\"#000000\" fill-rule=\"evenodd\" fill-opacity=\"1\" /><path clip-path=\"url(#clip080)\" d=\"M38.7515 945.103 Q38.1786 946.09 37.924 947.267 Q37.6375 948.413 37.6375 949.813 Q37.6375 954.779 40.884 957.452 Q44.0987 960.094 50.1461 960.094 L68.925 960.094 L68.925 965.982 L33.277 965.982 L33.277 960.094 L38.8152 960.094 Q35.5687 958.248 34.0091 955.288 Q32.4176 952.328 32.4176 948.095 Q32.4176 947.49 32.5131 946.758 Q32.5768 946.026 32.7359 945.135 L38.7515 945.103 Z\" fill=\"#000000\" fill-rule=\"evenodd\" fill-opacity=\"1\" /><path clip-path=\"url(#clip080)\" d=\"M37.3829 926.579 Q37.3829 931.289 41.075 934.026 Q44.7353 936.764 51.1328 936.764 Q57.5304 936.764 61.2225 934.058 Q64.8828 931.321 64.8828 926.579 Q64.8828 921.9 61.1906 919.163 Q57.4985 916.425 51.1328 916.425 Q44.7989 916.425 41.1068 919.163 Q37.3829 921.9 37.3829 926.579 M32.4176 926.579 Q32.4176 918.94 37.3829 914.579 Q42.3481 910.219 51.1328 910.219 Q59.8857 910.219 64.8828 914.579 Q69.848 918.94 69.848 926.579 Q69.848 934.249 64.8828 938.61 Q59.8857 942.938 51.1328 942.938 Q42.3481 942.938 37.3829 938.61 Q32.4176 934.249 32.4176 926.579 Z\" fill=\"#000000\" fill-rule=\"evenodd\" fill-opacity=\"1\" /><path clip-path=\"url(#clip080)\" d=\"M34.3274 877.785 L39.8655 877.785 Q38.5924 880.268 37.9558 882.942 Q37.3192 885.615 37.3192 888.48 Q37.3192 892.84 38.656 895.037 Q39.9928 897.201 42.6664 897.201 Q44.7035 897.201 45.8811 895.641 Q47.0269 894.082 48.0773 889.371 L48.5229 887.366 Q49.8597 881.127 52.3105 878.518 Q54.7294 875.876 59.09 875.876 Q64.0552 875.876 66.9516 879.823 Q69.848 883.737 69.848 890.612 Q69.848 893.477 69.2751 896.596 Q68.734 899.684 67.62 903.121 L61.5726 903.121 Q63.2595 899.874 64.1189 896.723 Q64.9464 893.572 64.9464 890.485 Q64.9464 886.347 63.546 884.119 Q62.1137 881.891 59.5356 881.891 Q57.1484 881.891 55.8753 883.515 Q54.6021 885.106 53.4245 890.549 L52.9471 892.586 Q51.8012 898.028 49.4459 900.447 Q47.0588 902.866 42.9211 902.866 Q37.8922 902.866 35.1549 899.302 Q32.4176 895.737 32.4176 889.18 Q32.4176 885.934 32.8951 883.069 Q33.3725 880.204 34.3274 877.785 Z\" fill=\"#000000\" fill-rule=\"evenodd\" fill-opacity=\"1\" /><path clip-path=\"url(#clip080)\" d=\"M34.3274 843.824 L39.8655 843.824 Q38.5924 846.307 37.9558 848.981 Q37.3192 851.654 37.3192 854.519 Q37.3192 858.879 38.656 861.076 Q39.9928 863.24 42.6664 863.24 Q44.7035 863.24 45.8811 861.68 Q47.0269 860.121 48.0773 855.41 L48.5229 853.405 Q49.8597 847.166 52.3105 844.556 Q54.7294 841.915 59.09 841.915 Q64.0552 841.915 66.9516 845.861 Q69.848 849.776 69.848 856.651 Q69.848 859.516 69.2751 862.635 Q68.734 865.722 67.62 869.16 L61.5726 869.16 Q63.2595 865.913 64.1189 862.762 Q64.9464 859.611 64.9464 856.524 Q64.9464 852.386 63.546 850.158 Q62.1137 847.93 59.5356 847.93 Q57.1484 847.93 55.8753 849.554 Q54.6021 851.145 53.4245 856.588 L52.9471 858.625 Q51.8012 864.067 49.4459 866.486 Q47.0588 868.905 42.9211 868.905 Q37.8922 868.905 35.1549 865.341 Q32.4176 861.776 32.4176 855.219 Q32.4176 851.973 32.8951 849.108 Q33.3725 846.243 34.3274 843.824 Z\" fill=\"#000000\" fill-rule=\"evenodd\" fill-opacity=\"1\" /><path clip-path=\"url(#clip080)\" d=\"M49.6369 781.377 L52.5015 781.377 L52.5015 808.304 Q58.5489 807.922 61.7317 804.675 Q64.8828 801.397 64.8828 795.572 Q64.8828 792.199 64.0552 789.048 Q63.2277 785.865 61.5726 782.745 L67.1107 782.745 Q68.4475 785.897 69.1478 789.207 Q69.848 792.517 69.848 795.922 Q69.848 804.453 64.8828 809.45 Q59.9175 814.415 51.4511 814.415 Q42.6983 814.415 37.5739 809.704 Q32.4176 804.962 32.4176 796.941 Q32.4176 789.748 37.0646 785.578 Q41.6797 781.377 49.6369 781.377 M47.9181 787.233 Q43.112 787.297 40.2475 789.939 Q37.3829 792.549 37.3829 796.877 Q37.3829 801.779 40.152 804.739 Q42.9211 807.667 47.95 808.113 L47.9181 787.233 Z\" fill=\"#000000\" fill-rule=\"evenodd\" fill-opacity=\"1\" /><path clip-path=\"url(#clip080)\" d=\"M47.4089 742.132 L68.925 742.132 L68.925 747.989 L47.5999 747.989 Q42.5391 747.989 40.0247 749.962 Q37.5102 751.935 37.5102 755.882 Q37.5102 760.625 40.5339 763.362 Q43.5576 766.099 48.7775 766.099 L68.925 766.099 L68.925 771.987 L33.277 771.987 L33.277 766.099 L38.8152 766.099 Q35.6005 763.998 34.0091 761.166 Q32.4176 758.301 32.4176 754.577 Q32.4176 748.434 36.2371 745.283 Q40.0247 742.132 47.4089 742.132 Z\" fill=\"#000000\" fill-rule=\"evenodd\" fill-opacity=\"1\" /><path clip-path=\"url(#clip080)\" d=\"M23.1555 724.658 L33.277 724.658 L33.277 712.595 L37.8285 712.595 L37.8285 724.658 L57.1802 724.658 Q61.5408 724.658 62.7821 723.481 Q64.0234 722.271 64.0234 718.611 L64.0234 712.595 L68.925 712.595 L68.925 718.611 Q68.925 725.39 66.4105 727.969 Q63.8642 730.547 57.1802 730.547 L37.8285 730.547 L37.8285 734.844 L33.277 734.844 L33.277 730.547 L23.1555 730.547 L23.1555 724.658 Z\" fill=\"#000000\" fill-rule=\"evenodd\" fill-opacity=\"1\" /><path clip-path=\"url(#clip080)\" d=\"M38.7515 684.236 Q38.1786 685.223 37.924 686.401 Q37.6375 687.546 37.6375 688.947 Q37.6375 693.912 40.884 696.586 Q44.0987 699.227 50.1461 699.227 L68.925 699.227 L68.925 705.116 L33.277 705.116 L33.277 699.227 L38.8152 699.227 Q35.5687 697.381 34.0091 694.421 Q32.4176 691.461 32.4176 687.228 Q32.4176 686.623 32.5131 685.891 Q32.5768 685.159 32.7359 684.268 L38.7515 684.236 Z\" fill=\"#000000\" fill-rule=\"evenodd\" fill-opacity=\"1\" /><path clip-path=\"url(#clip080)\" d=\"M37.3829 665.712 Q37.3829 670.423 41.075 673.16 Q44.7353 675.897 51.1328 675.897 Q57.5304 675.897 61.2225 673.192 Q64.8828 670.454 64.8828 665.712 Q64.8828 661.033 61.1906 658.296 Q57.4985 655.559 51.1328 655.559 Q44.7989 655.559 41.1068 658.296 Q37.3829 661.033 37.3829 665.712 M32.4176 665.712 Q32.4176 658.073 37.3829 653.713 Q42.3481 649.352 51.1328 649.352 Q59.8857 649.352 64.8828 653.713 Q69.848 658.073 69.848 665.712 Q69.848 673.383 64.8828 677.743 Q59.8857 682.072 51.1328 682.072 Q42.3481 682.072 37.3829 677.743 Q32.4176 673.383 32.4176 665.712 Z\" fill=\"#000000\" fill-rule=\"evenodd\" fill-opacity=\"1\" /><path clip-path=\"url(#clip080)\" d=\"M63.5778 633.979 L82.4839 633.979 L82.4839 639.867 L33.277 639.867 L33.277 633.979 L38.6879 633.979 Q35.505 632.133 33.9772 629.332 Q32.4176 626.499 32.4176 622.584 Q32.4176 616.091 37.5739 612.049 Q42.7301 607.975 51.1328 607.975 Q59.5356 607.975 64.6918 612.049 Q69.848 616.091 69.848 622.584 Q69.848 626.499 68.3202 629.332 Q66.7606 632.133 63.5778 633.979 M51.1328 614.054 Q44.6716 614.054 41.0114 616.728 Q37.3192 619.37 37.3192 624.017 Q37.3192 628.664 41.0114 631.337 Q44.6716 633.979 51.1328 633.979 Q57.594 633.979 61.2861 631.337 Q64.9464 628.664 64.9464 624.017 Q64.9464 619.37 61.2861 616.728 Q57.594 614.054 51.1328 614.054 Z\" fill=\"#000000\" fill-rule=\"evenodd\" fill-opacity=\"1\" /><path clip-path=\"url(#clip080)\" d=\"M72.2351 583.435 Q78.6008 585.918 80.5424 588.273 Q82.4839 590.628 82.4839 594.575 L82.4839 599.254 L77.5823 599.254 L77.5823 595.817 Q77.5823 593.398 76.4365 592.061 Q75.2907 590.724 71.0257 589.101 L68.3521 588.05 L33.277 602.469 L33.277 596.262 L61.1588 585.122 L33.277 573.982 L33.277 567.776 L72.2351 583.435 Z\" fill=\"#000000\" fill-rule=\"evenodd\" fill-opacity=\"1\" /><path clip-path=\"url(#clip080)\" d=\"M37.3829 525.157 Q37.3829 529.868 41.075 532.605 Q44.7353 535.342 51.1328 535.342 Q57.5304 535.342 61.2225 532.637 Q64.8828 529.9 64.8828 525.157 Q64.8828 520.478 61.1906 517.741 Q57.4985 515.004 51.1328 515.004 Q44.7989 515.004 41.1068 517.741 Q37.3829 520.478 37.3829 525.157 M32.4176 525.157 Q32.4176 517.518 37.3829 513.158 Q42.3481 508.797 51.1328 508.797 Q59.8857 508.797 64.8828 513.158 Q69.848 517.518 69.848 525.157 Q69.848 532.828 64.8828 537.188 Q59.8857 541.517 51.1328 541.517 Q42.3481 541.517 37.3829 537.188 Q32.4176 532.828 32.4176 525.157 Z\" fill=\"#000000\" fill-rule=\"evenodd\" fill-opacity=\"1\" /><path clip-path=\"url(#clip080)\" d=\"M47.4089 469.457 L68.925 469.457 L68.925 475.314 L47.5999 475.314 Q42.5391 475.314 40.0247 477.287 Q37.5102 479.26 37.5102 483.207 Q37.5102 487.95 40.5339 490.687 Q43.5576 493.424 48.7775 493.424 L68.925 493.424 L68.925 499.312 L33.277 499.312 L33.277 493.424 L38.8152 493.424 Q35.6005 491.323 34.0091 488.491 Q32.4176 485.626 32.4176 481.902 Q32.4176 475.759 36.2371 472.608 Q40.0247 469.457 47.4089 469.457 Z\" fill=\"#000000\" fill-rule=\"evenodd\" fill-opacity=\"1\" /><path clip-path=\"url(#clip080)\" d=\"M47.4089 407.423 L68.925 407.423 L68.925 413.28 L47.5999 413.28 Q42.5391 413.28 40.0247 415.253 Q37.5102 417.227 37.5102 421.173 Q37.5102 425.916 40.5339 428.653 Q43.5576 431.39 48.7775 431.39 L68.925 431.39 L68.925 437.279 L19.3998 437.279 L19.3998 431.39 L38.8152 431.39 Q35.6005 429.29 34.0091 426.457 Q32.4176 423.592 32.4176 419.868 Q32.4176 413.725 36.2371 410.574 Q40.0247 407.423 47.4089 407.423 Z\" fill=\"#000000\" fill-rule=\"evenodd\" fill-opacity=\"1\" /><path clip-path=\"url(#clip080)\" d=\"M37.3829 381.929 Q37.3829 386.639 41.075 389.377 Q44.7353 392.114 51.1328 392.114 Q57.5304 392.114 61.2225 389.408 Q64.8828 386.671 64.8828 381.929 Q64.8828 377.25 61.1906 374.513 Q57.4985 371.775 51.1328 371.775 Q44.7989 371.775 41.1068 374.513 Q37.3829 377.25 37.3829 381.929 M32.4176 381.929 Q32.4176 374.29 37.3829 369.929 Q42.3481 365.569 51.1328 365.569 Q59.8857 365.569 64.8828 369.929 Q69.848 374.29 69.848 381.929 Q69.848 389.599 64.8828 393.96 Q59.8857 398.289 51.1328 398.289 Q42.3481 398.289 37.3829 393.96 Q32.4176 389.599 32.4176 381.929 Z\" fill=\"#000000\" fill-rule=\"evenodd\" fill-opacity=\"1\" /><path clip-path=\"url(#clip080)\" d=\"M19.3998 355.861 L19.3998 350.005 L68.925 350.005 L68.925 355.861 L19.3998 355.861 Z\" fill=\"#000000\" fill-rule=\"evenodd\" fill-opacity=\"1\" /><path clip-path=\"url(#clip080)\" d=\"M38.6879 314.293 L19.3998 314.293 L19.3998 308.437 L68.925 308.437 L68.925 314.293 L63.5778 314.293 Q66.7606 316.139 68.3202 318.972 Q69.848 321.773 69.848 325.72 Q69.848 332.181 64.6918 336.255 Q59.5356 340.297 51.1328 340.297 Q42.7301 340.297 37.5739 336.255 Q32.4176 332.181 32.4176 325.72 Q32.4176 321.773 33.9772 318.972 Q35.505 316.139 38.6879 314.293 M51.1328 334.25 Q57.594 334.25 61.2861 331.608 Q64.9464 328.934 64.9464 324.287 Q64.9464 319.64 61.2861 316.967 Q57.594 314.293 51.1328 314.293 Q44.6716 314.293 41.0114 316.967 Q37.3192 319.64 37.3192 324.287 Q37.3192 328.934 41.0114 331.608 Q44.6716 334.25 51.1328 334.25 Z\" fill=\"#000000\" fill-rule=\"evenodd\" fill-opacity=\"1\" /><path clip-path=\"url(#clip080)\" d=\"M37.3829 282.56 Q37.3829 287.271 41.075 290.008 Q44.7353 292.745 51.1328 292.745 Q57.5304 292.745 61.2225 290.04 Q64.8828 287.303 64.8828 282.56 Q64.8828 277.881 61.1906 275.144 Q57.4985 272.407 51.1328 272.407 Q44.7989 272.407 41.1068 275.144 Q37.3829 277.881 37.3829 282.56 M32.4176 282.56 Q32.4176 274.921 37.3829 270.561 Q42.3481 266.2 51.1328 266.2 Q59.8857 266.2 64.8828 270.561 Q69.848 274.921 69.848 282.56 Q69.848 290.231 64.8828 294.591 Q59.8857 298.92 51.1328 298.92 Q42.3481 298.92 37.3829 294.591 Q32.4176 290.231 32.4176 282.56 Z\" fill=\"#000000\" fill-rule=\"evenodd\" fill-opacity=\"1\" /><path clip-path=\"url(#clip080)\" d=\"M54.8568 257.097 L33.277 257.097 L33.277 251.241 L54.634 251.241 Q59.6947 251.241 62.241 249.267 Q64.7554 247.294 64.7554 243.347 Q64.7554 238.605 61.7317 235.868 Q58.708 233.099 53.4881 233.099 L33.277 233.099 L33.277 227.242 L68.925 227.242 L68.925 233.099 L63.4505 233.099 Q66.697 235.231 68.2884 238.064 Q69.848 240.865 69.848 244.589 Q69.848 250.732 66.0286 253.914 Q62.2092 257.097 54.8568 257.097 M32.4176 242.361 L32.4176 242.361 Z\" fill=\"#000000\" fill-rule=\"evenodd\" fill-opacity=\"1\" /><path clip-path=\"url(#clip080)\" d=\"M23.1555 209.386 L33.277 209.386 L33.277 197.323 L37.8285 197.323 L37.8285 209.386 L57.1802 209.386 Q61.5408 209.386 62.7821 208.209 Q64.0234 206.999 64.0234 203.339 L64.0234 197.323 L68.925 197.323 L68.925 203.339 Q68.925 210.118 66.4105 212.696 Q63.8642 215.275 57.1802 215.275 L37.8285 215.275 L37.8285 219.571 L33.277 219.571 L33.277 215.275 L23.1555 215.275 L23.1555 209.386 Z\" fill=\"#000000\" fill-rule=\"evenodd\" fill-opacity=\"1\" /><path clip-path=\"url(#clip080)\" d=\"M34.3274 146.175 L39.8655 146.175 Q38.5924 148.657 37.9558 151.331 Q37.3192 154.005 37.3192 156.869 Q37.3192 161.23 38.656 163.426 Q39.9928 165.59 42.6664 165.59 Q44.7035 165.59 45.8811 164.031 Q47.0269 162.471 48.0773 157.76 L48.5229 155.755 Q49.8597 149.517 52.3105 146.907 Q54.7294 144.265 59.09 144.265 Q64.0552 144.265 66.9516 148.212 Q69.848 152.127 69.848 159.002 Q69.848 161.866 69.2751 164.985 Q68.734 168.073 67.62 171.51 L61.5726 171.51 Q63.2595 168.264 64.1189 165.113 Q64.9464 161.962 64.9464 158.874 Q64.9464 154.737 63.546 152.509 Q62.1137 150.281 59.5356 150.281 Q57.1484 150.281 55.8753 151.904 Q54.6021 153.495 53.4245 158.938 L52.9471 160.975 Q51.8012 166.418 49.4459 168.837 Q47.0588 171.256 42.9211 171.256 Q37.8922 171.256 35.1549 167.691 Q32.4176 164.126 32.4176 157.569 Q32.4176 154.323 32.8951 151.458 Q33.3725 148.594 34.3274 146.175 Z\" fill=\"#000000\" fill-rule=\"evenodd\" fill-opacity=\"1\" /><path clip-path=\"url(#clip080)\" d=\"M49.6369 104.448 L52.5015 104.448 L52.5015 131.375 Q58.5489 130.993 61.7317 127.746 Q64.8828 124.468 64.8828 118.643 Q64.8828 115.269 64.0552 112.118 Q63.2277 108.935 61.5726 105.816 L67.1107 105.816 Q68.4475 108.967 69.1478 112.277 Q69.848 115.588 69.848 118.993 Q69.848 127.523 64.8828 132.52 Q59.9175 137.486 51.4511 137.486 Q42.6983 137.486 37.5739 132.775 Q32.4176 128.033 32.4176 120.012 Q32.4176 112.819 37.0646 108.649 Q41.6797 104.448 49.6369 104.448 M47.9181 110.304 Q43.112 110.368 40.2475 113.009 Q37.3829 115.619 37.3829 119.948 Q37.3829 124.85 40.152 127.81 Q42.9211 130.738 47.95 131.184 L47.9181 110.304 Z\" fill=\"#000000\" fill-rule=\"evenodd\" fill-opacity=\"1\" /><path clip-path=\"url(#clip080)\" d=\"M23.1555 89.0426 L33.277 89.0426 L33.277 76.9796 L37.8285 76.9796 L37.8285 89.0426 L57.1802 89.0426 Q61.5408 89.0426 62.7821 87.8649 Q64.0234 86.6555 64.0234 82.9952 L64.0234 76.9796 L68.925 76.9796 L68.925 82.9952 Q68.925 89.7747 66.4105 92.3528 Q63.8642 94.9309 57.1802 94.9309 L37.8285 94.9309 L37.8285 99.2277 L33.277 99.2277 L33.277 94.9309 L23.1555 94.9309 L23.1555 89.0426 Z\" fill=\"#000000\" fill-rule=\"evenodd\" fill-opacity=\"1\" /><polyline clip-path=\"url(#clip082)\" style=\"stroke:#009af9; stroke-linecap:butt; stroke-linejoin:round; stroke-width:4; stroke-opacity:1; fill:none\" points=\"\n",
       "  259.733,75.1678 292.486,191.24 325.239,368.608 357.991,476.246 390.744,581.626 423.496,610.439 456.249,682.099 489.001,668.87 521.754,728.255 554.507,770.492 \n",
       "  587.259,767.626 652.764,797.137 718.269,834.092 783.775,848.29 849.28,861.516 947.537,943.33 1045.8,929.973 1176.81,908.278 1307.82,960.273 1471.58,944.637 \n",
       "  1668.09,1005.96 1864.61,988.124 \n",
       "  \"/>\n",
       "<path clip-path=\"url(#clip080)\" d=\"\n",
       "M1614.6 183.812 L1856.05 183.812 L1856.05 80.132 L1614.6 80.132  Z\n",
       "  \" fill=\"#ffffff\" fill-rule=\"evenodd\" fill-opacity=\"1\"/>\n",
       "<polyline clip-path=\"url(#clip080)\" style=\"stroke:#000000; stroke-linecap:butt; stroke-linejoin:round; stroke-width:4; stroke-opacity:1; fill:none\" points=\"\n",
       "  1614.6,183.812 1856.05,183.812 1856.05,80.132 1614.6,80.132 1614.6,183.812 \n",
       "  \"/>\n",
       "<polyline clip-path=\"url(#clip080)\" style=\"stroke:#009af9; stroke-linecap:butt; stroke-linejoin:round; stroke-width:4; stroke-opacity:1; fill:none\" points=\"\n",
       "  1633.5,131.972 1746.91,131.972 \n",
       "  \"/>\n",
       "<path clip-path=\"url(#clip080)\" d=\"M1779.66 151.659 Q1777.85 156.289 1776.14 157.701 Q1774.43 159.113 1771.56 159.113 L1768.15 159.113 L1768.15 155.548 L1770.65 155.548 Q1772.41 155.548 1773.39 154.715 Q1774.36 153.882 1775.54 150.78 L1776.3 148.835 L1765.82 123.326 L1770.33 123.326 L1778.43 143.604 L1786.53 123.326 L1791.05 123.326 L1779.66 151.659 Z\" fill=\"#000000\" fill-rule=\"evenodd\" fill-opacity=\"1\" /><path clip-path=\"url(#clip080)\" d=\"M1798.34 145.317 L1805.98 145.317 L1805.98 118.951 L1797.67 120.618 L1797.67 116.359 L1805.93 114.692 L1810.61 114.692 L1810.61 145.317 L1818.25 145.317 L1818.25 149.252 L1798.34 149.252 L1798.34 145.317 Z\" fill=\"#000000\" fill-rule=\"evenodd\" fill-opacity=\"1\" /></svg>\n"
      ]
     },
     "execution_count": 91,
     "metadata": {},
     "output_type": "execute_result"
    }
   ],
   "source": [
    "curve = learning_curve(mach,\n",
    "                       range=r,\n",
    "                       resampling=Holdout(fraction_train=0.7), # (default)\n",
    "                       measure=cross_entropy)\n",
    "\n",
    "using Plots\n",
    "gr(size=(490,300))\n",
    "plt=plot(curve.parameter_values, curve.measurements)\n",
    "xlabel!(plt, \"epochs\")\n",
    "ylabel!(plt, \"cross entropy on holdout set\")\n",
    "savefig(\"learning_curve.png\")\n",
    "plt"
   ]
  },
  {
   "cell_type": "markdown",
   "metadata": {},
   "source": [
    "We will return to learning curves when we look at tuning in Part 4."
   ]
  },
  {
   "cell_type": "markdown",
   "metadata": {},
   "source": [
    "### Resources for Part 2"
   ]
  },
  {
   "cell_type": "markdown",
   "metadata": {},
   "source": [
    "- From the MLJ manual:\n",
    "    - [Getting Started](https://alan-turing-institute.github.io/MLJ.jl/dev/getting_started/)\n",
    "    - [Model Search](https://alan-turing-institute.github.io/MLJ.jl/dev/model_search/)\n",
    "    - [Evaluating Performance](https://alan-turing-institute.github.io/MLJ.jl/dev/evaluating_model_performance/) (using `evaluate!`)\n",
    "    - [Learning Curves](https://alan-turing-institute.github.io/MLJ.jl/dev/learning_curves/)\n",
    "    - [Performance Measures](https://alan-turing-institute.github.io/MLJ.jl/dev/performance_measures/) (loss functions, scores, etc)\n",
    "- From Data Science Tutorials:\n",
    "    - [Choosing and evaluating a model](https://juliaai.github.io/DataScienceTutorials.jl/getting-started/choosing-a-model/)\n",
    "    - [Fit, predict, transform](https://juliaai.github.io/DataScienceTutorials.jl/getting-started/fit-and-predict/)"
   ]
  },
  {
   "cell_type": "markdown",
   "metadata": {},
   "source": [
    "### Exercises for Part 2"
   ]
  },
  {
   "cell_type": "markdown",
   "metadata": {},
   "source": [
    "#### Exercise 4"
   ]
  },
  {
   "cell_type": "markdown",
   "metadata": {},
   "source": [
    "(a) Identify all supervised MLJ models that can be applied (without\n",
    "type coercion or one-hot encoding) to a supervised learning problem\n",
    "with input features `X4` and target `y4` defined below:"
   ]
  },
  {
   "cell_type": "code",
   "execution_count": 92,
   "metadata": {},
   "outputs": [
    {
     "data": {
      "text/plain": [
       "CategoricalValue{String, UInt32} \"small\" (1/3)"
      ]
     },
     "execution_count": 92,
     "metadata": {},
     "output_type": "execute_result"
    }
   ],
   "source": [
    "import Distributions\n",
    "poisson = Distributions.Poisson\n",
    "\n",
    "age = 18 .+ 60*rand(10);\n",
    "salary = coerce(rand([\"small\", \"big\", \"huge\"], 10), OrderedFactor);\n",
    "levels!(salary, [\"small\", \"big\", \"huge\"]);\n",
    "small = CategoricalValue(\"small\", salary)"
   ]
  },
  {
   "cell_type": "code",
   "execution_count": 93,
   "metadata": {},
   "outputs": [
    {
     "data": {
      "text/plain": [
       "10-element Vector{Int64}:\n",
       " 1\n",
       " 0\n",
       " 3\n",
       " 0\n",
       " 1\n",
       " 2\n",
       " 2\n",
       " 2\n",
       " 3\n",
       " 3"
      ]
     },
     "execution_count": 93,
     "metadata": {},
     "output_type": "execute_result"
    }
   ],
   "source": [
    "X4 = DataFrames.DataFrame(age=age, salary=salary)\n",
    "\n",
    "n_devices(salary) = salary > small ? rand(poisson(1.3)) : rand(poisson(2.9))\n",
    "y4 = [n_devices(row.salary) for row in eachrow(X4)]"
   ]
  },
  {
   "cell_type": "markdown",
   "metadata": {},
   "source": [
    "(b) What models can be applied if you coerce the salary to a\n",
    "`Continuous` scitype?"
   ]
  },
  {
   "cell_type": "markdown",
   "metadata": {},
   "source": [
    "#### Exercise 5 (unpack)"
   ]
  },
  {
   "cell_type": "markdown",
   "metadata": {},
   "source": [
    "After evaluating the following ..."
   ]
  },
  {
   "cell_type": "code",
   "execution_count": 94,
   "metadata": {},
   "outputs": [
    {
     "name": "stdout",
     "output_type": "stream",
     "text": [
      "┌───────┬────────────┬────────────┬──────────────────────────────────┐\n",
      "│\u001b[1m a     \u001b[0m│\u001b[1m b          \u001b[0m│\u001b[1m c          \u001b[0m│\u001b[1m d                                \u001b[0m│\n",
      "│\u001b[90m Int64 \u001b[0m│\u001b[90m Float64    \u001b[0m│\u001b[90m Float64    \u001b[0m│\u001b[90m CategoricalValue{String, UInt32} \u001b[0m│\n",
      "│\u001b[90m Count \u001b[0m│\u001b[90m Continuous \u001b[0m│\u001b[90m Continuous \u001b[0m│\u001b[90m OrderedFactor{2}                 \u001b[0m│\n",
      "├───────┼────────────┼────────────┼──────────────────────────────────┤\n",
      "│ 1     │ 0.78377    │ 0.970767   │ male                             │\n",
      "│ 2     │ 0.133496   │ 0.954838   │ female                           │\n",
      "│ 3     │ 0.505917   │ 0.644019   │ female                           │\n",
      "│ 4     │ 0.383093   │ 0.659102   │ male                             │\n",
      "└───────┴────────────┴────────────┴──────────────────────────────────┘\n"
     ]
    }
   ],
   "source": [
    "data = (a = [1, 2, 3, 4],\n",
    "        b = rand(4),\n",
    "        c = rand(4),\n",
    "        d = coerce([\"male\", \"female\", \"female\", \"male\"], OrderedFactor));\n",
    "pretty(data)"
   ]
  },
  {
   "cell_type": "code",
   "execution_count": 95,
   "metadata": {},
   "outputs": [],
   "source": [
    "using Tables\n",
    "y, X, w = unpack(data,\n",
    "                 ==(:a),\n",
    "                 name -> elscitype(Tables.getcolumn(data, name)) == Continuous,\n",
    "                 name -> true);"
   ]
  },
  {
   "cell_type": "markdown",
   "metadata": {},
   "source": [
    "...attempt to guess the evaluations of the following:"
   ]
  },
  {
   "cell_type": "code",
   "execution_count": 96,
   "metadata": {},
   "outputs": [
    {
     "data": {
      "text/plain": [
       "4-element Vector{Int64}:\n",
       " 1\n",
       " 2\n",
       " 3\n",
       " 4"
      ]
     },
     "execution_count": 96,
     "metadata": {},
     "output_type": "execute_result"
    }
   ],
   "source": [
    "y"
   ]
  },
  {
   "cell_type": "code",
   "execution_count": 97,
   "metadata": {},
   "outputs": [
    {
     "name": "stdout",
     "output_type": "stream",
     "text": [
      "┌────────────┬────────────┐\n",
      "│\u001b[1m b          \u001b[0m│\u001b[1m c          \u001b[0m│\n",
      "│\u001b[90m Float64    \u001b[0m│\u001b[90m Float64    \u001b[0m│\n",
      "│\u001b[90m Continuous \u001b[0m│\u001b[90m Continuous \u001b[0m│\n",
      "├────────────┼────────────┤\n",
      "│ 0.78377    │ 0.970767   │\n",
      "│ 0.133496   │ 0.954838   │\n",
      "│ 0.505917   │ 0.644019   │\n",
      "│ 0.383093   │ 0.659102   │\n",
      "└────────────┴────────────┘\n"
     ]
    }
   ],
   "source": [
    "pretty(X)"
   ]
  },
  {
   "cell_type": "code",
   "execution_count": 98,
   "metadata": {},
   "outputs": [
    {
     "data": {
      "text/plain": [
       "4-element CategoricalArray{String,1,UInt32}:\n",
       " \"male\"\n",
       " \"female\"\n",
       " \"female\"\n",
       " \"male\""
      ]
     },
     "execution_count": 98,
     "metadata": {},
     "output_type": "execute_result"
    }
   ],
   "source": [
    "w"
   ]
  },
  {
   "cell_type": "markdown",
   "metadata": {},
   "source": [
    "#### Exercise 6 (first steps in modeling Horse Colic)"
   ]
  },
  {
   "cell_type": "markdown",
   "metadata": {},
   "source": [
    "(a) Suppose we want to use predict the `:outcome` variable in the\n",
    "Horse Colic study introduced in Part 1, based on the remaining\n",
    "variables that are `Continuous` (one-hot encoding categorical\n",
    "variables is discussed later in Part 3) *while ignoring the others*.\n",
    "Extract from the `horse` data set (defined in Part 1) appropriate\n",
    "input features `X` and target variable `y`. (Do not, however,\n",
    "randomize the observations.)"
   ]
  },
  {
   "cell_type": "markdown",
   "metadata": {},
   "source": [
    "(b) Create a 70:30 `train`/`test` split of the data and train a\n",
    "`LogisticClassifier` model, from the `MLJLinearModels` package, on\n",
    "the `train` rows. Use `lambda=100` and default values for the\n",
    "other hyper-parameters. (Although one would normally standardize\n",
    "(whiten) the continuous features for this model, do not do so here.)\n",
    "After training:"
   ]
  },
  {
   "cell_type": "markdown",
   "metadata": {},
   "source": [
    "- (i) Recalling that a logistic classifier (aka logistic regressor) is\n",
    "  a linear-based model learning a *vector* of coefficients for each\n",
    "  feature (one coefficient for each target class), use the\n",
    "  `fitted_params` method to find this vector of coefficients in the\n",
    "  case of the `:pulse` feature. (You can convert a vector of pairs `v =\n",
    "  [x1 => y1, x2 => y2, ...]` into a dictionary with `Dict(v)`.)"
   ]
  },
  {
   "cell_type": "markdown",
   "metadata": {},
   "source": [
    "- (ii) Evaluate the `cross_entropy` performance on the `test`\n",
    "  observations."
   ]
  },
  {
   "cell_type": "markdown",
   "metadata": {},
   "source": [
    "- &star;(iii) In how many `test` observations does the predicted\n",
    "  probability of the observed class exceed 50%?"
   ]
  },
  {
   "cell_type": "markdown",
   "metadata": {},
   "source": [
    "- (iv) Find the `misclassification_rate` in the `test`\n",
    "  set. (*Hint.* As this measure is deterministic, you will either\n",
    "  need to broadcast `mode` or use `predict_mode` instead of\n",
    "  `predict`.)"
   ]
  },
  {
   "cell_type": "markdown",
   "metadata": {},
   "source": [
    "(c) Instead use a `RandomForestClassifier` model from the\n",
    "    `DecisionTree` package and:\n",
    "\n",
    "- (i) Generate an appropriate learning curve to convince yourself\n",
    "  that out-of-sample estimates of the `cross_entropy` loss do not\n",
    "  substantially improve for `n_trees > 50`. Use default values for\n",
    "  all other hyper-parameters, and feel free to use all available\n",
    "  data to generate the curve."
   ]
  },
  {
   "cell_type": "markdown",
   "metadata": {},
   "source": [
    "- (ii) Fix `n_trees=90` and use `evaluate!` to obtain a 9-fold\n",
    "  cross-validation estimate of the `cross_entropy`, restricting\n",
    "  sub-sampling to the `train` observations."
   ]
  },
  {
   "cell_type": "markdown",
   "metadata": {},
   "source": [
    "- (iii) Now use *all* available data but set\n",
    "  `resampling=Holdout(fraction_train=0.7)` to obtain a score you can\n",
    "  compare with the `KNNClassifier` in part (b)(iii). Which model is\n",
    "  better?"
   ]
  },
  {
   "cell_type": "markdown",
   "metadata": {},
   "source": [
    "<a id='part-3-transformers-and-pipelines'></a>"
   ]
  },
  {
   "cell_type": "markdown",
   "metadata": {},
   "source": [
    "## Part 3 - Transformers and Pipelines"
   ]
  },
  {
   "cell_type": "markdown",
   "metadata": {},
   "source": [
    "### Transformers"
   ]
  },
  {
   "cell_type": "markdown",
   "metadata": {},
   "source": [
    "Unsupervised models, which receive no target `y` during training,\n",
    "always have a `transform` operation. They sometimes also support an\n",
    "`inverse_transform` operation, with obvious meaning, and sometimes\n",
    "support a `predict` operation (see the clustering example discussed\n",
    "[here](https://alan-turing-institute.github.io/MLJ.jl/dev/transformers/#Transformers-that-also-predict-1)).\n",
    "Otherwise, they are handled much like supervised models."
   ]
  },
  {
   "cell_type": "markdown",
   "metadata": {},
   "source": [
    "Here's a simple standardization example:"
   ]
  },
  {
   "cell_type": "code",
   "execution_count": 99,
   "metadata": {},
   "outputs": [
    {
     "name": "stdout",
     "output_type": "stream",
     "text": [
      "mean(x) = 0.5163104944541289\n",
      "std(x) = 0.2879206968878454\n"
     ]
    }
   ],
   "source": [
    "x = rand(100);\n",
    "@show mean(x) std(x);"
   ]
  },
  {
   "cell_type": "code",
   "execution_count": 100,
   "metadata": {},
   "outputs": [
    {
     "name": "stderr",
     "output_type": "stream",
     "text": [
      "┌ Info: Training Machine{Standardizer,…}.\n",
      "└ @ MLJBase /Users/anthony/.julia/packages/MLJBase/HZmTU/src/machines.jl:403\n"
     ]
    },
    {
     "name": "stdout",
     "output_type": "stream",
     "text": [
      "mean(xhat) = -2.559064071760986e-16\n",
      "std(xhat) = 1.0\n"
     ]
    }
   ],
   "source": [
    "model = Standardizer() # a built-in model\n",
    "mach = machine(model, x)\n",
    "fit!(mach)\n",
    "xhat = transform(mach, x);\n",
    "@show mean(xhat) std(xhat);"
   ]
  },
  {
   "cell_type": "markdown",
   "metadata": {},
   "source": [
    "This particular model has an `inverse_transform`:"
   ]
  },
  {
   "cell_type": "code",
   "execution_count": 101,
   "metadata": {},
   "outputs": [
    {
     "data": {
      "text/plain": [
       "true"
      ]
     },
     "execution_count": 101,
     "metadata": {},
     "output_type": "execute_result"
    }
   ],
   "source": [
    "inverse_transform(mach, xhat) ≈ x"
   ]
  },
  {
   "cell_type": "markdown",
   "metadata": {},
   "source": [
    "### Re-encoding the King County House data as continuous"
   ]
  },
  {
   "cell_type": "markdown",
   "metadata": {},
   "source": [
    "For further illustrations of transformers, let's re-encode *all* of the\n",
    "King County House input features (see [Ex\n",
    "3](#exercise-3-fixing-scitypes-in-a-table)) into a set of `Continuous`\n",
    "features. We do this with the `ContinuousEncoder` model, which, by\n",
    "default, will:"
   ]
  },
  {
   "cell_type": "markdown",
   "metadata": {},
   "source": [
    "- one-hot encode all `Multiclass` features\n",
    "- coerce all `OrderedFactor` features to `Continuous` ones\n",
    "- coerce all `Count` features to `Continuous` ones (there aren't any)\n",
    "- drop any remaining non-Continuous features (none of these either)"
   ]
  },
  {
   "cell_type": "markdown",
   "metadata": {},
   "source": [
    "First, we reload the data and fix the scitypes (Exercise 3):"
   ]
  },
  {
   "cell_type": "code",
   "execution_count": 102,
   "metadata": {},
   "outputs": [
    {
     "data": {
      "text/plain": [
       "┌───────────────┬───────────────────────────────────┬───────────────────┐\n",
       "│\u001b[22m _.names       \u001b[0m│\u001b[22m _.types                           \u001b[0m│\u001b[22m _.scitypes        \u001b[0m│\n",
       "├───────────────┼───────────────────────────────────┼───────────────────┤\n",
       "│ price         │ Float64                           │ Continuous        │\n",
       "│ bedrooms      │ CategoricalValue{Int64, UInt32}   │ OrderedFactor{13} │\n",
       "│ bathrooms     │ CategoricalValue{Float64, UInt32} │ OrderedFactor{30} │\n",
       "│ sqft_living   │ Float64                           │ Continuous        │\n",
       "│ sqft_lot      │ Float64                           │ Continuous        │\n",
       "│ floors        │ CategoricalValue{Float64, UInt32} │ OrderedFactor{6}  │\n",
       "│ waterfront    │ CategoricalValue{Int64, UInt32}   │ OrderedFactor{2}  │\n",
       "│ view          │ CategoricalValue{Int64, UInt32}   │ OrderedFactor{5}  │\n",
       "│ condition     │ CategoricalValue{Int64, UInt32}   │ OrderedFactor{5}  │\n",
       "│ grade         │ CategoricalValue{Int64, UInt32}   │ OrderedFactor{12} │\n",
       "│ sqft_above    │ Float64                           │ Continuous        │\n",
       "│ sqft_basement │ Float64                           │ Continuous        │\n",
       "│ yr_built      │ Float64                           │ Continuous        │\n",
       "│ zipcode       │ CategoricalValue{Int64, UInt32}   │ Multiclass{70}    │\n",
       "│ lat           │ Float64                           │ Continuous        │\n",
       "│ long          │ Float64                           │ Continuous        │\n",
       "│ sqft_living15 │ Float64                           │ Continuous        │\n",
       "│ sqft_lot15    │ Float64                           │ Continuous        │\n",
       "│ is_renovated  │ CategoricalValue{Bool, UInt32}    │ OrderedFactor{2}  │\n",
       "└───────────────┴───────────────────────────────────┴───────────────────┘\n",
       "_.nrows = 21613\n"
      ]
     },
     "execution_count": 102,
     "metadata": {},
     "output_type": "execute_result"
    }
   ],
   "source": [
    "file = CSV.File(joinpath(DIR, \"data\", \"house.csv\"));\n",
    "house = DataFrames.DataFrame(file);\n",
    "coerce!(house, autotype(file));\n",
    "coerce!(house, Count => Continuous, :zipcode => Multiclass);\n",
    "schema(house)"
   ]
  },
  {
   "cell_type": "code",
   "execution_count": 103,
   "metadata": {},
   "outputs": [],
   "source": [
    "y, X = unpack(house, ==(:price), name -> true, rng=123);"
   ]
  },
  {
   "cell_type": "markdown",
   "metadata": {},
   "source": [
    "Instantiate the unsupervised model (transformer):"
   ]
  },
  {
   "cell_type": "code",
   "execution_count": 104,
   "metadata": {},
   "outputs": [
    {
     "data": {
      "text/plain": [
       "ContinuousEncoder(\n",
       "    drop_last = false,\n",
       "    one_hot_ordered_factors = false)"
      ]
     },
     "execution_count": 104,
     "metadata": {},
     "output_type": "execute_result"
    }
   ],
   "source": [
    "encoder = ContinuousEncoder() # a built-in model; no need to @load it"
   ]
  },
  {
   "cell_type": "markdown",
   "metadata": {},
   "source": [
    "Bind the model to the data and fit!"
   ]
  },
  {
   "cell_type": "code",
   "execution_count": 105,
   "metadata": {},
   "outputs": [
    {
     "name": "stderr",
     "output_type": "stream",
     "text": [
      "┌ Info: Training Machine{ContinuousEncoder,…}.\n",
      "└ @ MLJBase /Users/anthony/.julia/packages/MLJBase/HZmTU/src/machines.jl:403\n"
     ]
    }
   ],
   "source": [
    "mach = machine(encoder, X) |> fit!;"
   ]
  },
  {
   "cell_type": "markdown",
   "metadata": {},
   "source": [
    "Transform and inspect the result:"
   ]
  },
  {
   "cell_type": "code",
   "execution_count": 106,
   "metadata": {},
   "outputs": [
    {
     "data": {
      "text/plain": [
       "┌────────────────┬─────────┬────────────┐\n",
       "│\u001b[22m _.names        \u001b[0m│\u001b[22m _.types \u001b[0m│\u001b[22m _.scitypes \u001b[0m│\n",
       "├────────────────┼─────────┼────────────┤\n",
       "│ bedrooms       │ Float64 │ Continuous │\n",
       "│ bathrooms      │ Float64 │ Continuous │\n",
       "│ sqft_living    │ Float64 │ Continuous │\n",
       "│ sqft_lot       │ Float64 │ Continuous │\n",
       "│ floors         │ Float64 │ Continuous │\n",
       "│ waterfront     │ Float64 │ Continuous │\n",
       "│ view           │ Float64 │ Continuous │\n",
       "│ condition      │ Float64 │ Continuous │\n",
       "│ grade          │ Float64 │ Continuous │\n",
       "│ sqft_above     │ Float64 │ Continuous │\n",
       "│ sqft_basement  │ Float64 │ Continuous │\n",
       "│ yr_built       │ Float64 │ Continuous │\n",
       "│ zipcode__98001 │ Float64 │ Continuous │\n",
       "│ zipcode__98002 │ Float64 │ Continuous │\n",
       "│ zipcode__98003 │ Float64 │ Continuous │\n",
       "│ zipcode__98004 │ Float64 │ Continuous │\n",
       "│ zipcode__98005 │ Float64 │ Continuous │\n",
       "│ zipcode__98006 │ Float64 │ Continuous │\n",
       "│ zipcode__98007 │ Float64 │ Continuous │\n",
       "│ zipcode__98008 │ Float64 │ Continuous │\n",
       "│ zipcode__98010 │ Float64 │ Continuous │\n",
       "│ zipcode__98011 │ Float64 │ Continuous │\n",
       "│       ⋮        │    ⋮    │     ⋮      │\n",
       "└────────────────┴─────────┴────────────┘\n",
       "\u001b[36m                          65 rows omitted\u001b[0m\n",
       "_.nrows = 21613\n"
      ]
     },
     "execution_count": 106,
     "metadata": {},
     "output_type": "execute_result"
    }
   ],
   "source": [
    "Xcont = transform(mach, X);\n",
    "schema(Xcont)"
   ]
  },
  {
   "cell_type": "markdown",
   "metadata": {},
   "source": [
    "### More transformers"
   ]
  },
  {
   "cell_type": "markdown",
   "metadata": {},
   "source": [
    "Here's how to list all of MLJ's unsupervised models:"
   ]
  },
  {
   "cell_type": "code",
   "execution_count": 107,
   "metadata": {},
   "outputs": [
    {
     "data": {
      "text/plain": [
       "57-element Vector{NamedTuple{(:name, :package_name, :is_supervised, :abstract_type, :deep_properties, :docstring, :fit_data_scitype, :hyperparameter_ranges, :hyperparameter_types, :hyperparameters, :implemented_methods, :inverse_transform_scitype, :is_pure_julia, :is_wrapper, :iteration_parameter, :load_path, :package_license, :package_url, :package_uuid, :predict_scitype, :prediction_type, :supports_class_weights, :supports_online, :supports_training_losses, :supports_weights, :transform_scitype, :input_scitype, :target_scitype, :output_scitype), T} where T<:Tuple}:\n",
       " (name = ABODDetector, package_name = OutlierDetectionNeighbors, ... )\n",
       " (name = ABODDetector, package_name = OutlierDetectionPython, ... )\n",
       " (name = AEDetector, package_name = OutlierDetectionNetworks, ... )\n",
       " (name = AffinityPropagation, package_name = ScikitLearn, ... )\n",
       " (name = AgglomerativeClustering, package_name = ScikitLearn, ... )\n",
       " (name = Birch, package_name = ScikitLearn, ... )\n",
       " (name = CBLOFDetector, package_name = OutlierDetectionPython, ... )\n",
       " (name = COFDetector, package_name = OutlierDetectionNeighbors, ... )\n",
       " (name = COFDetector, package_name = OutlierDetectionPython, ... )\n",
       " (name = COPODDetector, package_name = OutlierDetectionPython, ... )\n",
       " (name = ContinuousEncoder, package_name = MLJModels, ... )\n",
       " (name = DBSCAN, package_name = ScikitLearn, ... )\n",
       " (name = DNNDetector, package_name = OutlierDetectionNeighbors, ... )\n",
       " ⋮\n",
       " (name = PPCA, package_name = MultivariateStats, ... )\n",
       " (name = RODDetector, package_name = OutlierDetectionPython, ... )\n",
       " (name = SODDetector, package_name = OutlierDetectionPython, ... )\n",
       " (name = SOSDetector, package_name = OutlierDetectionPython, ... )\n",
       " (name = SpectralClustering, package_name = ScikitLearn, ... )\n",
       " (name = Standardizer, package_name = MLJModels, ... )\n",
       " (name = TSVDTransformer, package_name = TSVD, ... )\n",
       " (name = UnivariateBoxCoxTransformer, package_name = MLJModels, ... )\n",
       " (name = UnivariateDiscretizer, package_name = MLJModels, ... )\n",
       " (name = UnivariateFillImputer, package_name = MLJModels, ... )\n",
       " (name = UnivariateStandardizer, package_name = MLJModels, ... )\n",
       " (name = UnivariateTimeTypeToContinuous, package_name = MLJModels, ... )"
      ]
     },
     "execution_count": 107,
     "metadata": {},
     "output_type": "execute_result"
    }
   ],
   "source": [
    "models(m->!m.is_supervised)"
   ]
  },
  {
   "cell_type": "markdown",
   "metadata": {},
   "source": [
    "Some commonly used ones are built-in (do not require `@load`ing):"
   ]
  },
  {
   "cell_type": "markdown",
   "metadata": {},
   "source": [
    "model type                  | does what?\n",
    "----------------------------|----------------------------------------------\n",
    "ContinuousEncoder | transform input table to a table of `Continuous` features (see above)\n",
    "FeatureSelector | retain or dump selected features\n",
    "FillImputer | impute missing values\n",
    "OneHotEncoder | one-hot encoder `Multiclass` (and optionally `OrderedFactor`) features\n",
    "Standardizer | standardize (whiten) a vector or all `Continuous` features of a table\n",
    "UnivariateBoxCoxTransformer | apply a learned Box-Cox transformation to a vector\n",
    "UnivariateDiscretizer | discretize a `Continuous` vector, and hence render its elscitypw `OrderedFactor`"
   ]
  },
  {
   "cell_type": "markdown",
   "metadata": {},
   "source": [
    "In addition to \"dynamic\" transformers (ones that learn something\n",
    "from the data and must be `fit!`) users can wrap ordinary functions\n",
    "as transformers, and such *static* transformers can depend on\n",
    "parameters, like the dynamic ones. See\n",
    "[here](https://alan-turing-institute.github.io/MLJ.jl/dev/transformers/#Static-transformers-1)\n",
    "for how to define your own static transformers."
   ]
  },
  {
   "cell_type": "markdown",
   "metadata": {},
   "source": [
    "### Pipelines"
   ]
  },
  {
   "cell_type": "code",
   "execution_count": 108,
   "metadata": {},
   "outputs": [
    {
     "data": {
      "text/plain": [
       "87"
      ]
     },
     "execution_count": 108,
     "metadata": {},
     "output_type": "execute_result"
    }
   ],
   "source": [
    "length(schema(Xcont).names)"
   ]
  },
  {
   "cell_type": "markdown",
   "metadata": {},
   "source": [
    "Let's suppose that additionally we'd like to reduce the dimension of\n",
    "our data.  A model that will do this is `PCA` from\n",
    "`MultivariateStats`:"
   ]
  },
  {
   "cell_type": "code",
   "execution_count": 109,
   "metadata": {},
   "outputs": [
    {
     "name": "stdout",
     "output_type": "stream",
     "text": [
      "import MLJMultivariateStatsInterface ✔\n"
     ]
    },
    {
     "name": "stderr",
     "output_type": "stream",
     "text": [
      "┌ Info: For silent loading, specify `verbosity=0`. \n",
      "└ @ Main /Users/anthony/.julia/packages/MLJModels/4sRmw/src/loading.jl:168\n"
     ]
    },
    {
     "data": {
      "text/plain": [
       "PCA(\n",
       "    maxoutdim = 0,\n",
       "    method = :auto,\n",
       "    pratio = 0.99,\n",
       "    mean = nothing)"
      ]
     },
     "execution_count": 109,
     "metadata": {},
     "output_type": "execute_result"
    }
   ],
   "source": [
    "PCA = @load PCA\n",
    "reducer = PCA()"
   ]
  },
  {
   "cell_type": "markdown",
   "metadata": {},
   "source": [
    "Now, rather simply repeating the work-flow above, applying the new\n",
    "transformation to `Xcont`, we can combine both the encoding and the\n",
    "dimension-reducing models into a single model, known as a\n",
    "*pipeline*. While MLJ offers a powerful interface for composing\n",
    "models in a variety of ways, we'll stick to these simplest class of\n",
    "composite models for now. The easiest way to construct them is using\n",
    "the `@pipeline` macro:"
   ]
  },
  {
   "cell_type": "code",
   "execution_count": 110,
   "metadata": {},
   "outputs": [
    {
     "data": {
      "text/plain": [
       "Pipeline292(\n",
       "    continuous_encoder = ContinuousEncoder(\n",
       "            drop_last = false,\n",
       "            one_hot_ordered_factors = false),\n",
       "    pca = PCA(\n",
       "            maxoutdim = 0,\n",
       "            method = :auto,\n",
       "            pratio = 0.99,\n",
       "            mean = nothing))"
      ]
     },
     "execution_count": 110,
     "metadata": {},
     "output_type": "execute_result"
    }
   ],
   "source": [
    "pipe = @pipeline encoder reducer"
   ]
  },
  {
   "cell_type": "markdown",
   "metadata": {},
   "source": [
    "Notice that `pipe` is an *instance* of an automatically generated\n",
    "type (called `Pipeline<some digits>`)."
   ]
  },
  {
   "cell_type": "markdown",
   "metadata": {},
   "source": [
    "The new model behaves like any other transformer:"
   ]
  },
  {
   "cell_type": "code",
   "execution_count": 111,
   "metadata": {},
   "outputs": [
    {
     "name": "stderr",
     "output_type": "stream",
     "text": [
      "┌ Info: Training Machine{Pipeline292,…}.\n",
      "└ @ MLJBase /Users/anthony/.julia/packages/MLJBase/HZmTU/src/machines.jl:403\n",
      "┌ Info: Training Machine{ContinuousEncoder,…}.\n",
      "└ @ MLJBase /Users/anthony/.julia/packages/MLJBase/HZmTU/src/machines.jl:403\n",
      "┌ Info: Training Machine{PCA,…}.\n",
      "└ @ MLJBase /Users/anthony/.julia/packages/MLJBase/HZmTU/src/machines.jl:403\n"
     ]
    },
    {
     "data": {
      "text/plain": [
       "┌─────────┬─────────┬────────────┐\n",
       "│\u001b[22m _.names \u001b[0m│\u001b[22m _.types \u001b[0m│\u001b[22m _.scitypes \u001b[0m│\n",
       "├─────────┼─────────┼────────────┤\n",
       "│ x1      │ Float64 │ Continuous │\n",
       "│ x2      │ Float64 │ Continuous │\n",
       "└─────────┴─────────┴────────────┘\n",
       "_.nrows = 21613\n"
      ]
     },
     "execution_count": 111,
     "metadata": {},
     "output_type": "execute_result"
    }
   ],
   "source": [
    "mach = machine(pipe, X)\n",
    "fit!(mach)\n",
    "Xsmall = transform(mach, X)\n",
    "schema(Xsmall)"
   ]
  },
  {
   "cell_type": "markdown",
   "metadata": {},
   "source": [
    "Want to combine this pre-processing with ridge regression?"
   ]
  },
  {
   "cell_type": "code",
   "execution_count": 112,
   "metadata": {},
   "outputs": [
    {
     "name": "stdout",
     "output_type": "stream",
     "text": [
      "import MLJLinearModels ✔\n"
     ]
    },
    {
     "name": "stderr",
     "output_type": "stream",
     "text": [
      "┌ Info: For silent loading, specify `verbosity=0`. \n",
      "└ @ Main /Users/anthony/.julia/packages/MLJModels/4sRmw/src/loading.jl:168\n"
     ]
    },
    {
     "data": {
      "text/plain": [
       "Pipeline300(\n",
       "    continuous_encoder = ContinuousEncoder(\n",
       "            drop_last = false,\n",
       "            one_hot_ordered_factors = false),\n",
       "    pca = PCA(\n",
       "            maxoutdim = 0,\n",
       "            method = :auto,\n",
       "            pratio = 0.99,\n",
       "            mean = nothing),\n",
       "    ridge_regressor = RidgeRegressor(\n",
       "            lambda = 1.0,\n",
       "            fit_intercept = true,\n",
       "            penalize_intercept = false,\n",
       "            solver = nothing))"
      ]
     },
     "execution_count": 112,
     "metadata": {},
     "output_type": "execute_result"
    }
   ],
   "source": [
    "RidgeRegressor = @load RidgeRegressor pkg=MLJLinearModels\n",
    "rgs = RidgeRegressor()\n",
    "pipe2 = @pipeline encoder reducer rgs"
   ]
  },
  {
   "cell_type": "markdown",
   "metadata": {},
   "source": [
    "Now our pipeline is a supervised model, instead of a transformer,\n",
    "whose performance we can evaluate:"
   ]
  },
  {
   "cell_type": "code",
   "execution_count": 113,
   "metadata": {},
   "outputs": [
    {
     "data": {
      "text/plain": [
       "PerformanceEvaluation object with these fields:\n",
       "  measure, measurement, operation, per_fold,\n",
       "  per_observation, fitted_params_per_fold,\n",
       "  report_per_fold, train_test_pairs\n",
       "Extract:\n",
       "┌─────────────────────┬─────────────┬───────────┬────────────┐\n",
       "│\u001b[22m measure             \u001b[0m│\u001b[22m measurement \u001b[0m│\u001b[22m operation \u001b[0m│\u001b[22m per_fold   \u001b[0m│\n",
       "├─────────────────────┼─────────────┼───────────┼────────────┤\n",
       "│ MeanAbsoluteError() │ 234000.0    │ predict   │ [234000.0] │\n",
       "└─────────────────────┴─────────────┴───────────┴────────────┘\n"
      ]
     },
     "execution_count": 113,
     "metadata": {},
     "output_type": "execute_result"
    }
   ],
   "source": [
    "mach = machine(pipe2, X, y)\n",
    "evaluate!(mach, measure=mae, resampling=Holdout()) # CV(nfolds=6) is default"
   ]
  },
  {
   "cell_type": "markdown",
   "metadata": {},
   "source": [
    "### Training of composite models is \"smart\""
   ]
  },
  {
   "cell_type": "markdown",
   "metadata": {},
   "source": [
    "Now notice what happens if we train on all the data, then change a\n",
    "regressor hyper-parameter and retrain:"
   ]
  },
  {
   "cell_type": "code",
   "execution_count": 114,
   "metadata": {},
   "outputs": [
    {
     "name": "stderr",
     "output_type": "stream",
     "text": [
      "┌ Info: Training Machine{Pipeline300,…}.\n",
      "└ @ MLJBase /Users/anthony/.julia/packages/MLJBase/HZmTU/src/machines.jl:403\n",
      "┌ Info: Training Machine{ContinuousEncoder,…}.\n",
      "└ @ MLJBase /Users/anthony/.julia/packages/MLJBase/HZmTU/src/machines.jl:403\n",
      "┌ Info: Training Machine{PCA,…}.\n",
      "└ @ MLJBase /Users/anthony/.julia/packages/MLJBase/HZmTU/src/machines.jl:403\n",
      "┌ Info: Training Machine{RidgeRegressor,…}.\n",
      "└ @ MLJBase /Users/anthony/.julia/packages/MLJBase/HZmTU/src/machines.jl:403\n"
     ]
    },
    {
     "data": {
      "text/plain": [
       "Machine{Pipeline300,…} trained 2 times; caches data\n",
       "  args: \n",
       "    1:\tSource @901 ⏎ `Table{Union{AbstractVector{Continuous}, AbstractVector{Multiclass{70}}, AbstractVector{OrderedFactor{6}}, AbstractVector{OrderedFactor{13}}, AbstractVector{OrderedFactor{30}}, AbstractVector{OrderedFactor{5}}, AbstractVector{OrderedFactor{12}}, AbstractVector{OrderedFactor{2}}}}`\n",
       "    2:\tSource @649 ⏎ `AbstractVector{Continuous}`\n"
      ]
     },
     "execution_count": 114,
     "metadata": {},
     "output_type": "execute_result"
    }
   ],
   "source": [
    "fit!(mach)"
   ]
  },
  {
   "cell_type": "code",
   "execution_count": 115,
   "metadata": {},
   "outputs": [
    {
     "name": "stderr",
     "output_type": "stream",
     "text": [
      "┌ Info: Updating Machine{Pipeline300,…}.\n",
      "└ @ MLJBase /Users/anthony/.julia/packages/MLJBase/HZmTU/src/machines.jl:404\n",
      "┌ Info: Not retraining Machine{ContinuousEncoder,…}. Use `force=true` to force.\n",
      "└ @ MLJBase /Users/anthony/.julia/packages/MLJBase/HZmTU/src/machines.jl:406\n",
      "┌ Info: Not retraining Machine{PCA,…}. Use `force=true` to force.\n",
      "└ @ MLJBase /Users/anthony/.julia/packages/MLJBase/HZmTU/src/machines.jl:406\n",
      "┌ Info: Updating Machine{RidgeRegressor,…}.\n",
      "└ @ MLJBase /Users/anthony/.julia/packages/MLJBase/HZmTU/src/machines.jl:404\n"
     ]
    },
    {
     "data": {
      "text/plain": [
       "Machine{Pipeline300,…} trained 3 times; caches data\n",
       "  args: \n",
       "    1:\tSource @901 ⏎ `Table{Union{AbstractVector{Continuous}, AbstractVector{Multiclass{70}}, AbstractVector{OrderedFactor{6}}, AbstractVector{OrderedFactor{13}}, AbstractVector{OrderedFactor{30}}, AbstractVector{OrderedFactor{5}}, AbstractVector{OrderedFactor{12}}, AbstractVector{OrderedFactor{2}}}}`\n",
       "    2:\tSource @649 ⏎ `AbstractVector{Continuous}`\n"
      ]
     },
     "execution_count": 115,
     "metadata": {},
     "output_type": "execute_result"
    }
   ],
   "source": [
    "pipe2.ridge_regressor.lambda = 0.1\n",
    "fit!(mach)"
   ]
  },
  {
   "cell_type": "markdown",
   "metadata": {},
   "source": [
    "Second time only the ridge regressor is retrained!"
   ]
  },
  {
   "cell_type": "markdown",
   "metadata": {},
   "source": [
    "Mutate a hyper-parameter of the `PCA` model and every model except\n",
    "the `ContinuousEncoder` (which comes before it will be retrained):"
   ]
  },
  {
   "cell_type": "code",
   "execution_count": 116,
   "metadata": {},
   "outputs": [
    {
     "name": "stderr",
     "output_type": "stream",
     "text": [
      "┌ Info: Updating Machine{Pipeline300,…}.\n",
      "└ @ MLJBase /Users/anthony/.julia/packages/MLJBase/HZmTU/src/machines.jl:404\n",
      "┌ Info: Not retraining Machine{ContinuousEncoder,…}. Use `force=true` to force.\n",
      "└ @ MLJBase /Users/anthony/.julia/packages/MLJBase/HZmTU/src/machines.jl:406\n",
      "┌ Info: Updating Machine{PCA,…}.\n",
      "└ @ MLJBase /Users/anthony/.julia/packages/MLJBase/HZmTU/src/machines.jl:404\n",
      "┌ Info: Training Machine{RidgeRegressor,…}.\n",
      "└ @ MLJBase /Users/anthony/.julia/packages/MLJBase/HZmTU/src/machines.jl:403\n"
     ]
    },
    {
     "data": {
      "text/plain": [
       "Machine{Pipeline300,…} trained 4 times; caches data\n",
       "  args: \n",
       "    1:\tSource @901 ⏎ `Table{Union{AbstractVector{Continuous}, AbstractVector{Multiclass{70}}, AbstractVector{OrderedFactor{6}}, AbstractVector{OrderedFactor{13}}, AbstractVector{OrderedFactor{30}}, AbstractVector{OrderedFactor{5}}, AbstractVector{OrderedFactor{12}}, AbstractVector{OrderedFactor{2}}}}`\n",
       "    2:\tSource @649 ⏎ `AbstractVector{Continuous}`\n"
      ]
     },
     "execution_count": 116,
     "metadata": {},
     "output_type": "execute_result"
    }
   ],
   "source": [
    "pipe2.pca.pratio = 0.9999\n",
    "fit!(mach)"
   ]
  },
  {
   "cell_type": "markdown",
   "metadata": {},
   "source": [
    "### Inspecting composite models"
   ]
  },
  {
   "cell_type": "markdown",
   "metadata": {},
   "source": [
    "The dot syntax used above to change the values of *nested*\n",
    "hyper-parameters is also useful when inspecting the learned\n",
    "parameters and report generated when training a composite model:"
   ]
  },
  {
   "cell_type": "code",
   "execution_count": 117,
   "metadata": {},
   "outputs": [
    {
     "data": {
      "text/plain": [
       "(coefs = [:x1 => -0.7328956348956878, :x2 => -0.1659056320291739, :x3 => 194.5951589082211, :x4 => 102.71301756136427],\n",
       " intercept = 540085.6428739978,)"
      ]
     },
     "execution_count": 117,
     "metadata": {},
     "output_type": "execute_result"
    }
   ],
   "source": [
    "fitted_params(mach).ridge_regressor"
   ]
  },
  {
   "cell_type": "code",
   "execution_count": 118,
   "metadata": {},
   "outputs": [
    {
     "data": {
      "text/plain": [
       "(indim = 87,\n",
       " outdim = 4,\n",
       " tprincipalvar = 2.463215246230865e9,\n",
       " tresidualvar = 157533.26199626923,\n",
       " tvar = 2.4633727794928613e9,\n",
       " mean = [4.369869985656781, 8.45912182482765, 2079.8997362698374, 15106.967565816869, 1.988617961412113, 1.0075417572757137, 1.2343034284921113, 3.4094295100171195, 6.6569194466293435, 1788.3906907879516  …  0.011798454633785222, 0.012122333780595013, 0.006292509138018785, 0.012955165872391617, 0.01466709850552908, 47.56005251931713, -122.21389640494186, 1986.552491556008, 12768.455651691113, 1.9577106371165502],\n",
       " principalvars = [2.1770715510450845e9, 2.8418139726430273e8, 1.6850160830643363e6, 277281.8384131831],)"
      ]
     },
     "execution_count": 118,
     "metadata": {},
     "output_type": "execute_result"
    }
   ],
   "source": [
    "report(mach).pca"
   ]
  },
  {
   "cell_type": "markdown",
   "metadata": {},
   "source": [
    "### Incorporating target transformations"
   ]
  },
  {
   "cell_type": "markdown",
   "metadata": {},
   "source": [
    "Next, suppose that instead of using the raw `:price` as the\n",
    "training target, we want to use the log-price (a common practice in\n",
    "dealing with house price data). However, suppose that we still want\n",
    "to report final *predictions* on the original linear scale (and use\n",
    "these for evaluation purposes). Then we supply appropriate functions\n",
    "to key-word arguments `target` and `inverse`."
   ]
  },
  {
   "cell_type": "markdown",
   "metadata": {},
   "source": [
    "First we'll overload `log` and `exp` for broadcasting:"
   ]
  },
  {
   "cell_type": "code",
   "execution_count": 119,
   "metadata": {},
   "outputs": [],
   "source": [
    "Base.log(v::AbstractArray) = log.(v)\n",
    "Base.exp(v::AbstractArray) = exp.(v)"
   ]
  },
  {
   "cell_type": "markdown",
   "metadata": {},
   "source": [
    "Now for the new pipeline:"
   ]
  },
  {
   "cell_type": "code",
   "execution_count": 120,
   "metadata": {},
   "outputs": [
    {
     "name": "stderr",
     "output_type": "stream",
     "text": [
      "┌ Info: Treating pipeline as a `Deterministic` predictor.\n",
      "│ To override, specify `prediction_type=...` (options: :deterministic, :probabilistic, :interval). \n",
      "└ @ MLJBase /Users/anthony/.julia/packages/MLJBase/HZmTU/src/composition/models/pipelines.jl:372\n",
      "\u001b[33mEvaluating over 6 folds: 100%[=========================] Time: 0:00:04\u001b[39m\n"
     ]
    },
    {
     "data": {
      "text/plain": [
       "PerformanceEvaluation object with these fields:\n",
       "  measure, measurement, operation, per_fold,\n",
       "  per_observation, fitted_params_per_fold,\n",
       "  report_per_fold, train_test_pairs\n",
       "Extract:\n",
       "┌─────────────────────┬─────────────┬───────────┬───────────────────────────────\n",
       "│\u001b[22m measure             \u001b[0m│\u001b[22m measurement \u001b[0m│\u001b[22m operation \u001b[0m│\u001b[22m per_fold                    \u001b[0m ⋯\n",
       "├─────────────────────┼─────────────┼───────────┼───────────────────────────────\n",
       "│ MeanAbsoluteError() │ 162000.0    │ predict   │ [160000.0, 161000.0, 164000. ⋯\n",
       "└─────────────────────┴─────────────┴───────────┴───────────────────────────────\n",
       "\u001b[36m                                                                1 column omitted\u001b[0m\n"
      ]
     },
     "execution_count": 120,
     "metadata": {},
     "output_type": "execute_result"
    }
   ],
   "source": [
    "pipe3 = @pipeline encoder reducer rgs target=log inverse=exp\n",
    "mach = machine(pipe3, X, y)\n",
    "evaluate!(mach, measure=mae)"
   ]
  },
  {
   "cell_type": "markdown",
   "metadata": {},
   "source": [
    "MLJ will also allow you to insert *learned* target\n",
    "transformations. For example, we might want to apply\n",
    "`Standardizer()` to the target, to standardize it, or\n",
    "`UnivariateBoxCoxTransformer()` to make it look Gaussian. Then\n",
    "instead of specifying a *function* for `target`, we specify a\n",
    "unsupervised *model* (or model type). One does not specify `inverse`\n",
    "because only models implementing `inverse_transform` are\n",
    "allowed."
   ]
  },
  {
   "cell_type": "markdown",
   "metadata": {},
   "source": [
    "Let's see which of these two options results in a better outcome:"
   ]
  },
  {
   "cell_type": "code",
   "execution_count": 121,
   "metadata": {},
   "outputs": [
    {
     "name": "stderr",
     "output_type": "stream",
     "text": [
      "┌ Info: Treating pipeline as a `Deterministic` predictor.\n",
      "│ To override, specify `prediction_type=...` (options: :deterministic, :probabilistic, :interval). \n",
      "└ @ MLJBase /Users/anthony/.julia/packages/MLJBase/HZmTU/src/composition/models/pipelines.jl:372\n",
      "\u001b[33mEvaluating over 6 folds: 100%[=========================] Time: 0:00:19\u001b[39m\n"
     ]
    },
    {
     "data": {
      "text/plain": [
       "PerformanceEvaluation object with these fields:\n",
       "  measure, measurement, operation, per_fold,\n",
       "  per_observation, fitted_params_per_fold,\n",
       "  report_per_fold, train_test_pairs\n",
       "Extract:\n",
       "┌─────────────────────┬─────────────┬───────────┬───────────────────────────────\n",
       "│\u001b[22m measure             \u001b[0m│\u001b[22m measurement \u001b[0m│\u001b[22m operation \u001b[0m│\u001b[22m per_fold                    \u001b[0m ⋯\n",
       "├─────────────────────┼─────────────┼───────────┼───────────────────────────────\n",
       "│ MeanAbsoluteError() │ 479000.0    │ predict   │ [168000.0, 172000.0, 170000. ⋯\n",
       "└─────────────────────┴─────────────┴───────────┴───────────────────────────────\n",
       "\u001b[36m                                                                1 column omitted\u001b[0m\n"
      ]
     },
     "execution_count": 121,
     "metadata": {},
     "output_type": "execute_result"
    }
   ],
   "source": [
    "box = UnivariateBoxCoxTransformer(n=20)\n",
    "stand = Standardizer()\n",
    "\n",
    "pipe4 = @pipeline encoder reducer rgs target=box\n",
    "mach = machine(pipe4, X, y)\n",
    "evaluate!(mach, measure=mae)"
   ]
  },
  {
   "cell_type": "code",
   "execution_count": 122,
   "metadata": {},
   "outputs": [
    {
     "name": "stderr",
     "output_type": "stream",
     "text": [
      "\u001b[33mEvaluating over 6 folds: 100%[=========================] Time: 0:00:03\u001b[39m\n"
     ]
    },
    {
     "data": {
      "text/plain": [
       "PerformanceEvaluation object with these fields:\n",
       "  measure, measurement, operation, per_fold,\n",
       "  per_observation, fitted_params_per_fold,\n",
       "  report_per_fold, train_test_pairs\n",
       "Extract:\n",
       "┌─────────────────────┬─────────────┬───────────┬───────────────────────────────\n",
       "│\u001b[22m measure             \u001b[0m│\u001b[22m measurement \u001b[0m│\u001b[22m operation \u001b[0m│\u001b[22m per_fold                    \u001b[0m ⋯\n",
       "├─────────────────────┼─────────────┼───────────┼───────────────────────────────\n",
       "│ MeanAbsoluteError() │ 172000.0    │ predict   │ [173000.0, 171000.0, 172000. ⋯\n",
       "└─────────────────────┴─────────────┴───────────┴───────────────────────────────\n",
       "\u001b[36m                                                                1 column omitted\u001b[0m\n"
      ]
     },
     "execution_count": 122,
     "metadata": {},
     "output_type": "execute_result"
    }
   ],
   "source": [
    "pipe4.target = stand\n",
    "evaluate!(mach, measure=mae)"
   ]
  },
  {
   "cell_type": "markdown",
   "metadata": {},
   "source": [
    "### Resources for Part 3"
   ]
  },
  {
   "cell_type": "markdown",
   "metadata": {},
   "source": [
    "- From the MLJ manual:\n",
    "    - [Transformers and other unsupervised models](https://alan-turing-institute.github.io/MLJ.jl/dev/transformers/)\n",
    "    - [Linear pipelines](https://alan-turing-institute.github.io/MLJ.jl/dev/linear_pipelines/#Linear-Pipelines)\n",
    "- From Data Science Tutorials:\n",
    "    - [Composing models](https://juliaai.github.io/DataScienceTutorials.jl/getting-started/composing-models/)"
   ]
  },
  {
   "cell_type": "markdown",
   "metadata": {},
   "source": [
    "### Exercises for Part 3"
   ]
  },
  {
   "cell_type": "markdown",
   "metadata": {},
   "source": [
    "#### Exercise 7"
   ]
  },
  {
   "cell_type": "markdown",
   "metadata": {},
   "source": [
    "Consider again the Horse Colic classification problem considered in\n",
    "Exercise 6, but with all features, `Finite` and `Infinite`:"
   ]
  },
  {
   "cell_type": "code",
   "execution_count": 123,
   "metadata": {},
   "outputs": [
    {
     "data": {
      "text/plain": [
       "┌─────────────────────────┬─────────────────────────────────┬───────────────────\n",
       "│\u001b[22m _.names                 \u001b[0m│\u001b[22m _.types                         \u001b[0m│\u001b[22m _.scitypes      \u001b[0m ⋯\n",
       "├─────────────────────────┼─────────────────────────────────┼───────────────────\n",
       "│ surgery                 │ CategoricalValue{Int64, UInt32} │ Multiclass{2}    ⋯\n",
       "│ age                     │ CategoricalValue{Int64, UInt32} │ Multiclass{2}    ⋯\n",
       "│ rectal_temperature      │ Float64                         │ Continuous       ⋯\n",
       "│ pulse                   │ Float64                         │ Continuous       ⋯\n",
       "│ respiratory_rate        │ Float64                         │ Continuous       ⋯\n",
       "│ temperature_extremities │ CategoricalValue{Int64, UInt32} │ OrderedFactor{4} ⋯\n",
       "│ mucous_membranes        │ CategoricalValue{Int64, UInt32} │ Multiclass{6}    ⋯\n",
       "│ capillary_refill_time   │ CategoricalValue{Int64, UInt32} │ Multiclass{3}    ⋯\n",
       "│ pain                    │ CategoricalValue{Int64, UInt32} │ OrderedFactor{5} ⋯\n",
       "│ peristalsis             │ CategoricalValue{Int64, UInt32} │ OrderedFactor{4} ⋯\n",
       "│ abdominal_distension    │ CategoricalValue{Int64, UInt32} │ OrderedFactor{4} ⋯\n",
       "│ packed_cell_volume      │ Float64                         │ Continuous       ⋯\n",
       "│ total_protein           │ Float64                         │ Continuous       ⋯\n",
       "│ surgical_lesion         │ CategoricalValue{Int64, UInt32} │ OrderedFactor{2} ⋯\n",
       "│ cp_data                 │ CategoricalValue{Int64, UInt32} │ Multiclass{2}    ⋯\n",
       "└─────────────────────────┴─────────────────────────────────┴───────────────────\n",
       "_.nrows = 366\n"
      ]
     },
     "execution_count": 123,
     "metadata": {},
     "output_type": "execute_result"
    }
   ],
   "source": [
    "y, X = unpack(horse, ==(:outcome), name -> true);\n",
    "schema(X)"
   ]
  },
  {
   "cell_type": "markdown",
   "metadata": {},
   "source": [
    "(a) Define a pipeline that:\n",
    "- uses `Standardizer` to ensure that features that are already\n",
    "  continuous are centered at zero and have unit variance\n",
    "- re-encodes the full set of features as `Continuous`, using\n",
    "  `ContinuousEncoder`\n",
    "- uses the `KMeans` clustering model from `Clustering.jl`\n",
    "  to reduce the dimension of the feature space to `k=10`.\n",
    "- trains a `EvoTreeClassifier` (a gradient tree boosting\n",
    "  algorithm in `EvoTrees.jl`) on the reduced data, using\n",
    "  `nrounds=50` and default values for the other\n",
    "   hyper-parameters"
   ]
  },
  {
   "cell_type": "markdown",
   "metadata": {},
   "source": [
    "(b) Evaluate the pipeline on all data, using 6-fold cross-validation\n",
    "and `cross_entropy` loss."
   ]
  },
  {
   "cell_type": "markdown",
   "metadata": {},
   "source": [
    "&star;(c) Plot a learning curve which examines the effect on this loss\n",
    "as the tree booster parameter `max_depth` varies from 2 to 10."
   ]
  },
  {
   "cell_type": "markdown",
   "metadata": {},
   "source": [
    "<a id='part-4-tuning-hyper-parameters'></a>"
   ]
  },
  {
   "cell_type": "markdown",
   "metadata": {},
   "source": [
    "## Part 4 - Tuning Hyper-parameters"
   ]
  },
  {
   "cell_type": "markdown",
   "metadata": {},
   "source": [
    "### Naive tuning of a single parameter"
   ]
  },
  {
   "cell_type": "markdown",
   "metadata": {},
   "source": [
    "The most naive way to tune a single hyper-parameter is to use\n",
    "`learning_curve`, which we already saw in Part 2. Let's see this in\n",
    "the Horse Colic classification problem, in a case where the parameter\n",
    "to be tuned is *nested* (because the model is a pipeline):"
   ]
  },
  {
   "cell_type": "code",
   "execution_count": 124,
   "metadata": {},
   "outputs": [
    {
     "name": "stdout",
     "output_type": "stream",
     "text": [
      "import MLJLinearModels ✔\n"
     ]
    },
    {
     "name": "stderr",
     "output_type": "stream",
     "text": [
      "┌ Info: For silent loading, specify `verbosity=0`. \n",
      "└ @ Main /Users/anthony/.julia/packages/MLJModels/4sRmw/src/loading.jl:168\n"
     ]
    },
    {
     "data": {
      "text/plain": [
       "Machine{Pipeline330,…} trained 0 times; caches data\n",
       "  args: \n",
       "    1:\tSource @064 ⏎ `Table{Union{AbstractVector{Continuous}, AbstractVector{Multiclass{2}}, AbstractVector{Multiclass{6}}, AbstractVector{Multiclass{3}}, AbstractVector{OrderedFactor{2}}, AbstractVector{OrderedFactor{4}}, AbstractVector{OrderedFactor{5}}}}`\n",
       "    2:\tSource @784 ⏎ `AbstractVector{Multiclass{3}}`\n"
      ]
     },
     "execution_count": 124,
     "metadata": {},
     "output_type": "execute_result"
    }
   ],
   "source": [
    "y, X = unpack(horse, ==(:outcome), name -> true);\n",
    "\n",
    "LogisticClassifier = @load LogisticClassifier pkg=MLJLinearModels\n",
    "model = @pipeline Standardizer ContinuousEncoder LogisticClassifier\n",
    "mach = machine(model, X, y)"
   ]
  },
  {
   "cell_type": "code",
   "execution_count": 125,
   "metadata": {},
   "outputs": [
    {
     "data": {
      "text/plain": [
       "NumericRange(0.01 ≤ logistic_classifier.lambda ≤ 100.0; origin=50.005, unit=49.995) on log10 scale"
      ]
     },
     "execution_count": 125,
     "metadata": {},
     "output_type": "execute_result"
    }
   ],
   "source": [
    "r = range(model, :(logistic_classifier.lambda), lower = 1e-2, upper=100, scale=:log10)"
   ]
  },
  {
   "cell_type": "markdown",
   "metadata": {},
   "source": [
    "If you're curious, you can see what `lambda` values this range will\n",
    "generate for a given resolution:"
   ]
  },
  {
   "cell_type": "code",
   "execution_count": 126,
   "metadata": {},
   "outputs": [
    {
     "data": {
      "text/plain": [
       "5-element Vector{Float64}:\n",
       "   0.01\n",
       "   0.1\n",
       "   1.0\n",
       "  10.0\n",
       " 100.0"
      ]
     },
     "execution_count": 126,
     "metadata": {},
     "output_type": "execute_result"
    }
   ],
   "source": [
    "iterator(r, 5)"
   ]
  },
  {
   "cell_type": "code",
   "execution_count": 127,
   "metadata": {},
   "outputs": [
    {
     "name": "stderr",
     "output_type": "stream",
     "text": [
      "┌ Info: Training Machine{ProbabilisticTunedModel{Grid,…},…}.\n",
      "└ @ MLJBase /Users/anthony/.julia/packages/MLJBase/HZmTU/src/machines.jl:403\n",
      "┌ Info: Attempting to evaluate 30 models.\n",
      "└ @ MLJTuning /Users/anthony/.julia/packages/MLJTuning/efiDR/src/tuned_models.jl:685\n",
      "\u001b[33mEvaluating over 30 metamodels: 100%[=========================] Time: 0:00:27\u001b[39m\n"
     ]
    },
    {
     "data": {
      "text/plain": [
       "5.736152510448679"
      ]
     },
     "execution_count": 127,
     "metadata": {},
     "output_type": "execute_result"
    }
   ],
   "source": [
    "_, _, lambdas, losses = learning_curve(mach,\n",
    "                                       range=r,\n",
    "                                       resampling=CV(nfolds=6),\n",
    "                                       resolution=30, # default\n",
    "                                       measure=cross_entropy)\n",
    "plt=plot(lambdas, losses, xscale=:log10)\n",
    "xlabel!(plt, \"lambda\")\n",
    "ylabel!(plt, \"cross entropy using 6-fold CV\")\n",
    "savefig(\"learning_curve2.png\")\n",
    "plt\n",
    "\n",
    "\n",
    "best_lambda = lambdas[argmin(losses)]"
   ]
  },
  {
   "cell_type": "markdown",
   "metadata": {},
   "source": [
    "### Self tuning models"
   ]
  },
  {
   "cell_type": "markdown",
   "metadata": {},
   "source": [
    "A more sophisticated way to view hyper-parameter tuning (inspired by\n",
    "MLR) is as a model *wrapper*. The wrapped model is a new model in\n",
    "its own right and when you fit it, it tunes specified\n",
    "hyper-parameters of the model being wrapped, before training on all\n",
    "supplied data. Calling `predict` on the wrapped model is like\n",
    "calling `predict` on the original model, but with the\n",
    "hyper-parameters already optimized."
   ]
  },
  {
   "cell_type": "markdown",
   "metadata": {},
   "source": [
    "In other words, we can think of the wrapped model as a \"self-tuning\"\n",
    "version of the original."
   ]
  },
  {
   "cell_type": "markdown",
   "metadata": {},
   "source": [
    "We now create a self-tuning version of the pipeline above, adding a\n",
    "parameter from the `ContinuousEncoder` to the parameters we want\n",
    "optimized."
   ]
  },
  {
   "cell_type": "markdown",
   "metadata": {},
   "source": [
    "First, let's choose a tuning strategy (from [these\n",
    "options](https://github.com/juliaai/MLJTuning.jl#what-is-provided-here)). MLJ\n",
    "supports ordinary `Grid` search (query `?Grid` for\n",
    "details). However, as the utility of `Grid` search is limited to a\n",
    "small number of parameters, and as `Grid` searches are demonstrated\n",
    "elsewhere (see the [resources below](#resources-for-part-4)) we'll\n",
    "demonstrate `RandomSearch` here:"
   ]
  },
  {
   "cell_type": "code",
   "execution_count": 128,
   "metadata": {},
   "outputs": [
    {
     "data": {
      "text/plain": [
       "RandomSearch(\n",
       "    bounded = Distributions.Uniform,\n",
       "    positive_unbounded = Distributions.Gamma,\n",
       "    other = Distributions.Normal,\n",
       "    rng = MersenneTwister(123))"
      ]
     },
     "execution_count": 128,
     "metadata": {},
     "output_type": "execute_result"
    }
   ],
   "source": [
    "tuning = RandomSearch(rng=123)"
   ]
  },
  {
   "cell_type": "markdown",
   "metadata": {},
   "source": [
    "In this strategy each parameter is sampled according to a\n",
    "pre-specified prior distribution that is fit to the one-dimensional\n",
    "range object constructed using `range` as before. While one has a\n",
    "lot of control over the specification of the priors (run\n",
    "`?RandomSearch` for details) we'll let the algorithm generate these\n",
    "priors automatically."
   ]
  },
  {
   "cell_type": "markdown",
   "metadata": {},
   "source": [
    "#### Unbounded ranges and sampling"
   ]
  },
  {
   "cell_type": "markdown",
   "metadata": {},
   "source": [
    "In MLJ a range does not have to be bounded. In a `RandomSearch` a\n",
    "positive unbounded range is sampled using a `Gamma` distribution, by\n",
    "default:"
   ]
  },
  {
   "cell_type": "code",
   "execution_count": 129,
   "metadata": {},
   "outputs": [
    {
     "data": {
      "text/plain": [
       "NumericRange(0.0 ≤ logistic_classifier.lambda ≤ Inf; origin=6.0, unit=5.0) on log10 scale"
      ]
     },
     "execution_count": 129,
     "metadata": {},
     "output_type": "execute_result"
    }
   ],
   "source": [
    "r = range(model,\n",
    "          :(logistic_classifier.lambda),\n",
    "          lower=0,\n",
    "          origin=6,\n",
    "          unit=5,\n",
    "          scale=:log10)"
   ]
  },
  {
   "cell_type": "markdown",
   "metadata": {},
   "source": [
    "The `scale` in a range makes no in a `RandomSearch` (unless it is a\n",
    "function) but this will effect later plots but it does effect the\n",
    "later plots."
   ]
  },
  {
   "cell_type": "markdown",
   "metadata": {},
   "source": [
    "Let's see what sampling using a Gamma distribution is going to mean\n",
    "for this range:"
   ]
  },
  {
   "cell_type": "code",
   "execution_count": 130,
   "metadata": {},
   "outputs": [
    {
     "data": {
      "image/svg+xml": [
       "<?xml version=\"1.0\" encoding=\"utf-8\"?>\n",
       "<svg xmlns=\"http://www.w3.org/2000/svg\" xmlns:xlink=\"http://www.w3.org/1999/xlink\" width=\"490\" height=\"300\" viewBox=\"0 0 1960 1200\">\n",
       "<defs>\n",
       "  <clipPath id=\"clip140\">\n",
       "    <rect x=\"0\" y=\"0\" width=\"1960\" height=\"1200\"/>\n",
       "  </clipPath>\n",
       "</defs>\n",
       "<path clip-path=\"url(#clip140)\" d=\"\n",
       "M0 1200 L1960 1200 L1960 0 L0 0  Z\n",
       "  \" fill=\"#ffffff\" fill-rule=\"evenodd\" fill-opacity=\"1\"/>\n",
       "<defs>\n",
       "  <clipPath id=\"clip141\">\n",
       "    <rect x=\"392\" y=\"0\" width=\"1373\" height=\"1200\"/>\n",
       "  </clipPath>\n",
       "</defs>\n",
       "<path clip-path=\"url(#clip140)\" d=\"\n",
       "M194.883 1093.27 L1912.76 1093.27 L1912.76 47.2441 L194.883 47.2441  Z\n",
       "  \" fill=\"#ffffff\" fill-rule=\"evenodd\" fill-opacity=\"1\"/>\n",
       "<defs>\n",
       "  <clipPath id=\"clip142\">\n",
       "    <rect x=\"194\" y=\"47\" width=\"1719\" height=\"1047\"/>\n",
       "  </clipPath>\n",
       "</defs>\n",
       "<polyline clip-path=\"url(#clip142)\" style=\"stroke:#000000; stroke-linecap:butt; stroke-linejoin:round; stroke-width:2; stroke-opacity:0.1; fill:none\" points=\"\n",
       "  289.369,1093.27 289.369,47.2441 \n",
       "  \"/>\n",
       "<polyline clip-path=\"url(#clip142)\" style=\"stroke:#000000; stroke-linecap:butt; stroke-linejoin:round; stroke-width:2; stroke-opacity:0.1; fill:none\" points=\"\n",
       "  621.739,1093.27 621.739,47.2441 \n",
       "  \"/>\n",
       "<polyline clip-path=\"url(#clip142)\" style=\"stroke:#000000; stroke-linecap:butt; stroke-linejoin:round; stroke-width:2; stroke-opacity:0.1; fill:none\" points=\"\n",
       "  954.109,1093.27 954.109,47.2441 \n",
       "  \"/>\n",
       "<polyline clip-path=\"url(#clip142)\" style=\"stroke:#000000; stroke-linecap:butt; stroke-linejoin:round; stroke-width:2; stroke-opacity:0.1; fill:none\" points=\"\n",
       "  1286.48,1093.27 1286.48,47.2441 \n",
       "  \"/>\n",
       "<polyline clip-path=\"url(#clip142)\" style=\"stroke:#000000; stroke-linecap:butt; stroke-linejoin:round; stroke-width:2; stroke-opacity:0.1; fill:none\" points=\"\n",
       "  1618.85,1093.27 1618.85,47.2441 \n",
       "  \"/>\n",
       "<polyline clip-path=\"url(#clip140)\" style=\"stroke:#000000; stroke-linecap:butt; stroke-linejoin:round; stroke-width:4; stroke-opacity:1; fill:none\" points=\"\n",
       "  194.883,1093.27 1912.76,1093.27 \n",
       "  \"/>\n",
       "<polyline clip-path=\"url(#clip140)\" style=\"stroke:#000000; stroke-linecap:butt; stroke-linejoin:round; stroke-width:4; stroke-opacity:1; fill:none\" points=\"\n",
       "  289.369,1093.27 289.369,1074.37 \n",
       "  \"/>\n",
       "<polyline clip-path=\"url(#clip140)\" style=\"stroke:#000000; stroke-linecap:butt; stroke-linejoin:round; stroke-width:4; stroke-opacity:1; fill:none\" points=\"\n",
       "  621.739,1093.27 621.739,1074.37 \n",
       "  \"/>\n",
       "<polyline clip-path=\"url(#clip140)\" style=\"stroke:#000000; stroke-linecap:butt; stroke-linejoin:round; stroke-width:4; stroke-opacity:1; fill:none\" points=\"\n",
       "  954.109,1093.27 954.109,1074.37 \n",
       "  \"/>\n",
       "<polyline clip-path=\"url(#clip140)\" style=\"stroke:#000000; stroke-linecap:butt; stroke-linejoin:round; stroke-width:4; stroke-opacity:1; fill:none\" points=\"\n",
       "  1286.48,1093.27 1286.48,1074.37 \n",
       "  \"/>\n",
       "<polyline clip-path=\"url(#clip140)\" style=\"stroke:#000000; stroke-linecap:butt; stroke-linejoin:round; stroke-width:4; stroke-opacity:1; fill:none\" points=\"\n",
       "  1618.85,1093.27 1618.85,1074.37 \n",
       "  \"/>\n",
       "<path clip-path=\"url(#clip140)\" d=\"M289.369 1120.67 Q285.758 1120.67 283.929 1124.23 Q282.124 1127.77 282.124 1134.9 Q282.124 1142.01 283.929 1145.58 Q285.758 1149.12 289.369 1149.12 Q293.003 1149.12 294.809 1145.58 Q296.638 1142.01 296.638 1134.9 Q296.638 1127.77 294.809 1124.23 Q293.003 1120.67 289.369 1120.67 M289.369 1116.96 Q295.179 1116.96 298.235 1121.57 Q301.314 1126.15 301.314 1134.9 Q301.314 1143.63 298.235 1148.24 Q295.179 1152.82 289.369 1152.82 Q283.559 1152.82 280.48 1148.24 Q277.425 1143.63 277.425 1134.9 Q277.425 1126.15 280.48 1121.57 Q283.559 1116.96 289.369 1116.96 Z\" fill=\"#000000\" fill-rule=\"evenodd\" fill-opacity=\"1\" /><path clip-path=\"url(#clip140)\" d=\"M596.427 1148.21 L604.065 1148.21 L604.065 1121.85 L595.755 1123.51 L595.755 1119.26 L604.019 1117.59 L608.695 1117.59 L608.695 1148.21 L616.334 1148.21 L616.334 1152.15 L596.427 1152.15 L596.427 1148.21 Z\" fill=\"#000000\" fill-rule=\"evenodd\" fill-opacity=\"1\" /><path clip-path=\"url(#clip140)\" d=\"M635.778 1120.67 Q632.167 1120.67 630.338 1124.23 Q628.533 1127.77 628.533 1134.9 Q628.533 1142.01 630.338 1145.58 Q632.167 1149.12 635.778 1149.12 Q639.412 1149.12 641.218 1145.58 Q643.047 1142.01 643.047 1134.9 Q643.047 1127.77 641.218 1124.23 Q639.412 1120.67 635.778 1120.67 M635.778 1116.96 Q641.588 1116.96 644.644 1121.57 Q647.723 1126.15 647.723 1134.9 Q647.723 1143.63 644.644 1148.24 Q641.588 1152.82 635.778 1152.82 Q629.968 1152.82 626.889 1148.24 Q623.834 1143.63 623.834 1134.9 Q623.834 1126.15 626.889 1121.57 Q629.968 1116.96 635.778 1116.96 Z\" fill=\"#000000\" fill-rule=\"evenodd\" fill-opacity=\"1\" /><path clip-path=\"url(#clip140)\" d=\"M932.882 1148.21 L949.201 1148.21 L949.201 1152.15 L927.257 1152.15 L927.257 1148.21 Q929.919 1145.46 934.502 1140.83 Q939.109 1136.18 940.289 1134.83 Q942.535 1132.31 943.414 1130.58 Q944.317 1128.82 944.317 1127.13 Q944.317 1124.37 942.373 1122.64 Q940.451 1120.9 937.349 1120.9 Q935.15 1120.9 932.697 1121.66 Q930.266 1122.43 927.488 1123.98 L927.488 1119.26 Q930.312 1118.12 932.766 1117.54 Q935.22 1116.96 937.257 1116.96 Q942.627 1116.96 945.822 1119.65 Q949.016 1122.33 949.016 1126.83 Q949.016 1128.95 948.206 1130.88 Q947.419 1132.77 945.312 1135.37 Q944.734 1136.04 941.632 1139.26 Q938.53 1142.45 932.882 1148.21 Z\" fill=\"#000000\" fill-rule=\"evenodd\" fill-opacity=\"1\" /><path clip-path=\"url(#clip140)\" d=\"M969.016 1120.67 Q965.405 1120.67 963.576 1124.23 Q961.771 1127.77 961.771 1134.9 Q961.771 1142.01 963.576 1145.58 Q965.405 1149.12 969.016 1149.12 Q972.65 1149.12 974.456 1145.58 Q976.284 1142.01 976.284 1134.9 Q976.284 1127.77 974.456 1124.23 Q972.65 1120.67 969.016 1120.67 M969.016 1116.96 Q974.826 1116.96 977.882 1121.57 Q980.96 1126.15 980.96 1134.9 Q980.96 1143.63 977.882 1148.24 Q974.826 1152.82 969.016 1152.82 Q963.206 1152.82 960.127 1148.24 Q957.072 1143.63 957.072 1134.9 Q957.072 1126.15 960.127 1121.57 Q963.206 1116.96 969.016 1116.96 Z\" fill=\"#000000\" fill-rule=\"evenodd\" fill-opacity=\"1\" /><path clip-path=\"url(#clip140)\" d=\"M1275.32 1133.51 Q1278.68 1134.23 1280.55 1136.5 Q1282.45 1138.77 1282.45 1142.1 Q1282.45 1147.22 1278.93 1150.02 Q1275.41 1152.82 1268.93 1152.82 Q1266.76 1152.82 1264.44 1152.38 Q1262.15 1151.96 1259.7 1151.11 L1259.7 1146.59 Q1261.64 1147.73 1263.96 1148.31 Q1266.27 1148.89 1268.79 1148.89 Q1273.19 1148.89 1275.48 1147.15 Q1277.8 1145.41 1277.8 1142.1 Q1277.8 1139.05 1275.65 1137.33 Q1273.52 1135.6 1269.7 1135.6 L1265.67 1135.6 L1265.67 1131.76 L1269.88 1131.76 Q1273.33 1131.76 1275.16 1130.39 Q1276.99 1129 1276.99 1126.41 Q1276.99 1123.75 1275.09 1122.33 Q1273.21 1120.9 1269.7 1120.9 Q1267.77 1120.9 1265.58 1121.32 Q1263.38 1121.73 1260.74 1122.61 L1260.74 1118.45 Q1263.4 1117.7 1265.71 1117.33 Q1268.05 1116.96 1270.11 1116.96 Q1275.44 1116.96 1278.54 1119.39 Q1281.64 1121.8 1281.64 1125.92 Q1281.64 1128.79 1280 1130.78 Q1278.35 1132.75 1275.32 1133.51 Z\" fill=\"#000000\" fill-rule=\"evenodd\" fill-opacity=\"1\" /><path clip-path=\"url(#clip140)\" d=\"M1301.32 1120.67 Q1297.71 1120.67 1295.88 1124.23 Q1294.07 1127.77 1294.07 1134.9 Q1294.07 1142.01 1295.88 1145.58 Q1297.71 1149.12 1301.32 1149.12 Q1304.95 1149.12 1306.76 1145.58 Q1308.58 1142.01 1308.58 1134.9 Q1308.58 1127.77 1306.76 1124.23 Q1304.95 1120.67 1301.32 1120.67 M1301.32 1116.96 Q1307.13 1116.96 1310.18 1121.57 Q1313.26 1126.15 1313.26 1134.9 Q1313.26 1143.63 1310.18 1148.24 Q1307.13 1152.82 1301.32 1152.82 Q1295.51 1152.82 1292.43 1148.24 Q1289.37 1143.63 1289.37 1134.9 Q1289.37 1126.15 1292.43 1121.57 Q1295.51 1116.96 1301.32 1116.96 Z\" fill=\"#000000\" fill-rule=\"evenodd\" fill-opacity=\"1\" /><path clip-path=\"url(#clip140)\" d=\"M1607.02 1121.66 L1595.21 1140.11 L1607.02 1140.11 L1607.02 1121.66 M1605.79 1117.59 L1611.67 1117.59 L1611.67 1140.11 L1616.6 1140.11 L1616.6 1144 L1611.67 1144 L1611.67 1152.15 L1607.02 1152.15 L1607.02 1144 L1591.42 1144 L1591.42 1139.49 L1605.79 1117.59 Z\" fill=\"#000000\" fill-rule=\"evenodd\" fill-opacity=\"1\" /><path clip-path=\"url(#clip140)\" d=\"M1634.33 1120.67 Q1630.72 1120.67 1628.89 1124.23 Q1627.09 1127.77 1627.09 1134.9 Q1627.09 1142.01 1628.89 1145.58 Q1630.72 1149.12 1634.33 1149.12 Q1637.97 1149.12 1639.77 1145.58 Q1641.6 1142.01 1641.6 1134.9 Q1641.6 1127.77 1639.77 1124.23 Q1637.97 1120.67 1634.33 1120.67 M1634.33 1116.96 Q1640.14 1116.96 1643.2 1121.57 Q1646.28 1126.15 1646.28 1134.9 Q1646.28 1143.63 1643.2 1148.24 Q1640.14 1152.82 1634.33 1152.82 Q1628.52 1152.82 1625.45 1148.24 Q1622.39 1143.63 1622.39 1134.9 Q1622.39 1126.15 1625.45 1121.57 Q1628.52 1116.96 1634.33 1116.96 Z\" fill=\"#000000\" fill-rule=\"evenodd\" fill-opacity=\"1\" /><polyline clip-path=\"url(#clip142)\" style=\"stroke:#000000; stroke-linecap:butt; stroke-linejoin:round; stroke-width:2; stroke-opacity:0.1; fill:none\" points=\"\n",
       "  194.883,1063.66 1912.76,1063.66 \n",
       "  \"/>\n",
       "<polyline clip-path=\"url(#clip142)\" style=\"stroke:#000000; stroke-linecap:butt; stroke-linejoin:round; stroke-width:2; stroke-opacity:0.1; fill:none\" points=\"\n",
       "  194.883,901.891 1912.76,901.891 \n",
       "  \"/>\n",
       "<polyline clip-path=\"url(#clip142)\" style=\"stroke:#000000; stroke-linecap:butt; stroke-linejoin:round; stroke-width:2; stroke-opacity:0.1; fill:none\" points=\"\n",
       "  194.883,740.118 1912.76,740.118 \n",
       "  \"/>\n",
       "<polyline clip-path=\"url(#clip142)\" style=\"stroke:#000000; stroke-linecap:butt; stroke-linejoin:round; stroke-width:2; stroke-opacity:0.1; fill:none\" points=\"\n",
       "  194.883,578.345 1912.76,578.345 \n",
       "  \"/>\n",
       "<polyline clip-path=\"url(#clip142)\" style=\"stroke:#000000; stroke-linecap:butt; stroke-linejoin:round; stroke-width:2; stroke-opacity:0.1; fill:none\" points=\"\n",
       "  194.883,416.572 1912.76,416.572 \n",
       "  \"/>\n",
       "<polyline clip-path=\"url(#clip142)\" style=\"stroke:#000000; stroke-linecap:butt; stroke-linejoin:round; stroke-width:2; stroke-opacity:0.1; fill:none\" points=\"\n",
       "  194.883,254.799 1912.76,254.799 \n",
       "  \"/>\n",
       "<polyline clip-path=\"url(#clip142)\" style=\"stroke:#000000; stroke-linecap:butt; stroke-linejoin:round; stroke-width:2; stroke-opacity:0.1; fill:none\" points=\"\n",
       "  194.883,93.0259 1912.76,93.0259 \n",
       "  \"/>\n",
       "<polyline clip-path=\"url(#clip140)\" style=\"stroke:#000000; stroke-linecap:butt; stroke-linejoin:round; stroke-width:4; stroke-opacity:1; fill:none\" points=\"\n",
       "  194.883,1093.27 194.883,47.2441 \n",
       "  \"/>\n",
       "<polyline clip-path=\"url(#clip140)\" style=\"stroke:#000000; stroke-linecap:butt; stroke-linejoin:round; stroke-width:4; stroke-opacity:1; fill:none\" points=\"\n",
       "  194.883,1063.66 213.781,1063.66 \n",
       "  \"/>\n",
       "<polyline clip-path=\"url(#clip140)\" style=\"stroke:#000000; stroke-linecap:butt; stroke-linejoin:round; stroke-width:4; stroke-opacity:1; fill:none\" points=\"\n",
       "  194.883,901.891 213.781,901.891 \n",
       "  \"/>\n",
       "<polyline clip-path=\"url(#clip140)\" style=\"stroke:#000000; stroke-linecap:butt; stroke-linejoin:round; stroke-width:4; stroke-opacity:1; fill:none\" points=\"\n",
       "  194.883,740.118 213.781,740.118 \n",
       "  \"/>\n",
       "<polyline clip-path=\"url(#clip140)\" style=\"stroke:#000000; stroke-linecap:butt; stroke-linejoin:round; stroke-width:4; stroke-opacity:1; fill:none\" points=\"\n",
       "  194.883,578.345 213.781,578.345 \n",
       "  \"/>\n",
       "<polyline clip-path=\"url(#clip140)\" style=\"stroke:#000000; stroke-linecap:butt; stroke-linejoin:round; stroke-width:4; stroke-opacity:1; fill:none\" points=\"\n",
       "  194.883,416.572 213.781,416.572 \n",
       "  \"/>\n",
       "<polyline clip-path=\"url(#clip140)\" style=\"stroke:#000000; stroke-linecap:butt; stroke-linejoin:round; stroke-width:4; stroke-opacity:1; fill:none\" points=\"\n",
       "  194.883,254.799 213.781,254.799 \n",
       "  \"/>\n",
       "<polyline clip-path=\"url(#clip140)\" style=\"stroke:#000000; stroke-linecap:butt; stroke-linejoin:round; stroke-width:4; stroke-opacity:1; fill:none\" points=\"\n",
       "  194.883,93.0259 213.781,93.0259 \n",
       "  \"/>\n",
       "<path clip-path=\"url(#clip140)\" d=\"M153.539 1049.46 Q149.928 1049.46 148.099 1053.03 Q146.293 1056.57 146.293 1063.7 Q146.293 1070.81 148.099 1074.37 Q149.928 1077.91 153.539 1077.91 Q157.173 1077.91 158.979 1074.37 Q160.807 1070.81 160.807 1063.7 Q160.807 1056.57 158.979 1053.03 Q157.173 1049.46 153.539 1049.46 M153.539 1045.76 Q159.349 1045.76 162.405 1050.37 Q165.483 1054.95 165.483 1063.7 Q165.483 1072.43 162.405 1077.03 Q159.349 1081.62 153.539 1081.62 Q147.729 1081.62 144.65 1077.03 Q141.594 1072.43 141.594 1063.7 Q141.594 1054.95 144.65 1050.37 Q147.729 1045.76 153.539 1045.76 Z\" fill=\"#000000\" fill-rule=\"evenodd\" fill-opacity=\"1\" /><path clip-path=\"url(#clip140)\" d=\"M87.2429 915.236 L103.562 915.236 L103.562 919.171 L81.6179 919.171 L81.6179 915.236 Q84.2799 912.482 88.8632 907.852 Q93.4697 903.199 94.6502 901.857 Q96.8956 899.334 97.7752 897.598 Q98.678 895.838 98.678 894.148 Q98.678 891.394 96.7336 889.658 Q94.8123 887.922 91.7104 887.922 Q89.5114 887.922 87.0577 888.686 Q84.6271 889.449 81.8494 891 L81.8494 886.278 Q84.6734 885.144 87.1271 884.565 Q89.5808 883.986 91.6178 883.986 Q96.9882 883.986 100.183 886.672 Q103.377 889.357 103.377 893.848 Q103.377 895.977 102.567 897.898 Q101.78 899.797 99.6734 902.389 Q99.0947 903.06 95.9928 906.278 Q92.891 909.472 87.2429 915.236 Z\" fill=\"#000000\" fill-rule=\"evenodd\" fill-opacity=\"1\" /><path clip-path=\"url(#clip140)\" d=\"M123.377 887.69 Q119.766 887.69 117.937 891.255 Q116.132 894.797 116.132 901.926 Q116.132 909.033 117.937 912.597 Q119.766 916.139 123.377 916.139 Q127.011 916.139 128.817 912.597 Q130.645 909.033 130.645 901.926 Q130.645 894.797 128.817 891.255 Q127.011 887.69 123.377 887.69 M123.377 883.986 Q129.187 883.986 132.243 888.593 Q135.321 893.176 135.321 901.926 Q135.321 910.653 132.243 915.259 Q129.187 919.843 123.377 919.843 Q117.567 919.843 114.488 915.259 Q111.433 910.653 111.433 901.926 Q111.433 893.176 114.488 888.593 Q117.567 883.986 123.377 883.986 Z\" fill=\"#000000\" fill-rule=\"evenodd\" fill-opacity=\"1\" /><path clip-path=\"url(#clip140)\" d=\"M153.539 887.69 Q149.928 887.69 148.099 891.255 Q146.293 894.797 146.293 901.926 Q146.293 909.033 148.099 912.597 Q149.928 916.139 153.539 916.139 Q157.173 916.139 158.979 912.597 Q160.807 909.033 160.807 901.926 Q160.807 894.797 158.979 891.255 Q157.173 887.69 153.539 887.69 M153.539 883.986 Q159.349 883.986 162.405 888.593 Q165.483 893.176 165.483 901.926 Q165.483 910.653 162.405 915.259 Q159.349 919.843 153.539 919.843 Q147.729 919.843 144.65 915.259 Q141.594 910.653 141.594 901.926 Q141.594 893.176 144.65 888.593 Q147.729 883.986 153.539 883.986 Z\" fill=\"#000000\" fill-rule=\"evenodd\" fill-opacity=\"1\" /><path clip-path=\"url(#clip140)\" d=\"M96.0623 726.912 L84.2568 745.361 L96.0623 745.361 L96.0623 726.912 M94.8354 722.838 L100.715 722.838 L100.715 745.361 L105.646 745.361 L105.646 749.25 L100.715 749.25 L100.715 757.398 L96.0623 757.398 L96.0623 749.25 L80.4605 749.25 L80.4605 744.736 L94.8354 722.838 Z\" fill=\"#000000\" fill-rule=\"evenodd\" fill-opacity=\"1\" /><path clip-path=\"url(#clip140)\" d=\"M123.377 725.917 Q119.766 725.917 117.937 729.482 Q116.132 733.024 116.132 740.153 Q116.132 747.26 117.937 750.824 Q119.766 754.366 123.377 754.366 Q127.011 754.366 128.817 750.824 Q130.645 747.26 130.645 740.153 Q130.645 733.024 128.817 729.482 Q127.011 725.917 123.377 725.917 M123.377 722.213 Q129.187 722.213 132.243 726.82 Q135.321 731.403 135.321 740.153 Q135.321 748.88 132.243 753.486 Q129.187 758.07 123.377 758.07 Q117.567 758.07 114.488 753.486 Q111.433 748.88 111.433 740.153 Q111.433 731.403 114.488 726.82 Q117.567 722.213 123.377 722.213 Z\" fill=\"#000000\" fill-rule=\"evenodd\" fill-opacity=\"1\" /><path clip-path=\"url(#clip140)\" d=\"M153.539 725.917 Q149.928 725.917 148.099 729.482 Q146.293 733.024 146.293 740.153 Q146.293 747.26 148.099 750.824 Q149.928 754.366 153.539 754.366 Q157.173 754.366 158.979 750.824 Q160.807 747.26 160.807 740.153 Q160.807 733.024 158.979 729.482 Q157.173 725.917 153.539 725.917 M153.539 722.213 Q159.349 722.213 162.405 726.82 Q165.483 731.403 165.483 740.153 Q165.483 748.88 162.405 753.486 Q159.349 758.07 153.539 758.07 Q147.729 758.07 144.65 753.486 Q141.594 748.88 141.594 740.153 Q141.594 731.403 144.65 726.82 Q147.729 722.213 153.539 722.213 Z\" fill=\"#000000\" fill-rule=\"evenodd\" fill-opacity=\"1\" /><path clip-path=\"url(#clip140)\" d=\"M93.7938 576.482 Q90.6456 576.482 88.7938 578.635 Q86.9651 580.787 86.9651 584.537 Q86.9651 588.264 88.7938 590.44 Q90.6456 592.593 93.7938 592.593 Q96.9419 592.593 98.7706 590.44 Q100.622 588.264 100.622 584.537 Q100.622 580.787 98.7706 578.635 Q96.9419 576.482 93.7938 576.482 M103.076 561.829 L103.076 566.088 Q101.317 565.255 99.5113 564.815 Q97.7289 564.375 95.9697 564.375 Q91.3401 564.375 88.8864 567.5 Q86.4558 570.625 86.1086 576.945 Q87.4743 574.931 89.5345 573.866 Q91.5947 572.778 94.0715 572.778 Q99.2798 572.778 102.289 575.949 Q105.321 579.098 105.321 584.537 Q105.321 589.861 102.173 593.079 Q99.0252 596.297 93.7938 596.297 Q87.7984 596.297 84.6271 591.713 Q81.4559 587.107 81.4559 578.38 Q81.4559 570.186 85.3447 565.324 Q89.2336 560.44 95.7845 560.44 Q97.5437 560.44 99.3261 560.787 Q101.132 561.135 103.076 561.829 Z\" fill=\"#000000\" fill-rule=\"evenodd\" fill-opacity=\"1\" /><path clip-path=\"url(#clip140)\" d=\"M123.377 564.144 Q119.766 564.144 117.937 567.709 Q116.132 571.25 116.132 578.38 Q116.132 585.486 117.937 589.051 Q119.766 592.593 123.377 592.593 Q127.011 592.593 128.817 589.051 Q130.645 585.486 130.645 578.38 Q130.645 571.25 128.817 567.709 Q127.011 564.144 123.377 564.144 M123.377 560.44 Q129.187 560.44 132.243 565.047 Q135.321 569.63 135.321 578.38 Q135.321 587.107 132.243 591.713 Q129.187 596.297 123.377 596.297 Q117.567 596.297 114.488 591.713 Q111.433 587.107 111.433 578.38 Q111.433 569.63 114.488 565.047 Q117.567 560.44 123.377 560.44 Z\" fill=\"#000000\" fill-rule=\"evenodd\" fill-opacity=\"1\" /><path clip-path=\"url(#clip140)\" d=\"M153.539 564.144 Q149.928 564.144 148.099 567.709 Q146.293 571.25 146.293 578.38 Q146.293 585.486 148.099 589.051 Q149.928 592.593 153.539 592.593 Q157.173 592.593 158.979 589.051 Q160.807 585.486 160.807 578.38 Q160.807 571.25 158.979 567.709 Q157.173 564.144 153.539 564.144 M153.539 560.44 Q159.349 560.44 162.405 565.047 Q165.483 569.63 165.483 578.38 Q165.483 587.107 162.405 591.713 Q159.349 596.297 153.539 596.297 Q147.729 596.297 144.65 591.713 Q141.594 587.107 141.594 578.38 Q141.594 569.63 144.65 565.047 Q147.729 560.44 153.539 560.44 Z\" fill=\"#000000\" fill-rule=\"evenodd\" fill-opacity=\"1\" /><path clip-path=\"url(#clip140)\" d=\"M93.2151 417.44 Q89.8817 417.44 87.9605 419.223 Q86.0623 421.005 86.0623 424.13 Q86.0623 427.255 87.9605 429.037 Q89.8817 430.82 93.2151 430.82 Q96.5484 430.82 98.4697 429.037 Q100.391 427.232 100.391 424.13 Q100.391 421.005 98.4697 419.223 Q96.5715 417.44 93.2151 417.44 M88.5392 415.449 Q85.5299 414.709 83.8401 412.649 Q82.1735 410.588 82.1735 407.625 Q82.1735 403.482 85.1133 401.075 Q88.0762 398.667 93.2151 398.667 Q98.3771 398.667 101.317 401.075 Q104.257 403.482 104.257 407.625 Q104.257 410.588 102.567 412.649 Q100.9 414.709 97.9141 415.449 Q101.294 416.236 103.169 418.528 Q105.067 420.82 105.067 424.13 Q105.067 429.153 101.988 431.838 Q98.9326 434.523 93.2151 434.523 Q87.4975 434.523 84.4188 431.838 Q81.3633 429.153 81.3633 424.13 Q81.3633 420.82 83.2614 418.528 Q85.1595 416.236 88.5392 415.449 M86.8262 408.065 Q86.8262 410.75 88.4929 412.255 Q90.1827 413.76 93.2151 413.76 Q96.2243 413.76 97.9141 412.255 Q99.6271 410.75 99.6271 408.065 Q99.6271 405.38 97.9141 403.875 Q96.2243 402.371 93.2151 402.371 Q90.1827 402.371 88.4929 403.875 Q86.8262 405.38 86.8262 408.065 Z\" fill=\"#000000\" fill-rule=\"evenodd\" fill-opacity=\"1\" /><path clip-path=\"url(#clip140)\" d=\"M123.377 402.371 Q119.766 402.371 117.937 405.936 Q116.132 409.477 116.132 416.607 Q116.132 423.713 117.937 427.278 Q119.766 430.82 123.377 430.82 Q127.011 430.82 128.817 427.278 Q130.645 423.713 130.645 416.607 Q130.645 409.477 128.817 405.936 Q127.011 402.371 123.377 402.371 M123.377 398.667 Q129.187 398.667 132.243 403.274 Q135.321 407.857 135.321 416.607 Q135.321 425.334 132.243 429.94 Q129.187 434.523 123.377 434.523 Q117.567 434.523 114.488 429.94 Q111.433 425.334 111.433 416.607 Q111.433 407.857 114.488 403.274 Q117.567 398.667 123.377 398.667 Z\" fill=\"#000000\" fill-rule=\"evenodd\" fill-opacity=\"1\" /><path clip-path=\"url(#clip140)\" d=\"M153.539 402.371 Q149.928 402.371 148.099 405.936 Q146.293 409.477 146.293 416.607 Q146.293 423.713 148.099 427.278 Q149.928 430.82 153.539 430.82 Q157.173 430.82 158.979 427.278 Q160.807 423.713 160.807 416.607 Q160.807 409.477 158.979 405.936 Q157.173 402.371 153.539 402.371 M153.539 398.667 Q159.349 398.667 162.405 403.274 Q165.483 407.857 165.483 416.607 Q165.483 425.334 162.405 429.94 Q159.349 434.523 153.539 434.523 Q147.729 434.523 144.65 429.94 Q141.594 425.334 141.594 416.607 Q141.594 407.857 144.65 403.274 Q147.729 398.667 153.539 398.667 Z\" fill=\"#000000\" fill-rule=\"evenodd\" fill-opacity=\"1\" /><path clip-path=\"url(#clip140)\" d=\"M53.8634 268.144 L61.5023 268.144 L61.5023 241.778 L53.1921 243.445 L53.1921 239.186 L61.456 237.519 L66.1319 237.519 L66.1319 268.144 L73.7707 268.144 L73.7707 272.079 L53.8634 272.079 L53.8634 268.144 Z\" fill=\"#000000\" fill-rule=\"evenodd\" fill-opacity=\"1\" /><path clip-path=\"url(#clip140)\" d=\"M93.2151 240.598 Q89.604 240.598 87.7753 244.162 Q85.9697 247.704 85.9697 254.834 Q85.9697 261.94 87.7753 265.505 Q89.604 269.047 93.2151 269.047 Q96.8493 269.047 98.6548 265.505 Q100.484 261.94 100.484 254.834 Q100.484 247.704 98.6548 244.162 Q96.8493 240.598 93.2151 240.598 M93.2151 236.894 Q99.0252 236.894 102.081 241.5 Q105.159 246.084 105.159 254.834 Q105.159 263.561 102.081 268.167 Q99.0252 272.75 93.2151 272.75 Q87.4049 272.75 84.3262 268.167 Q81.2707 263.561 81.2707 254.834 Q81.2707 246.084 84.3262 241.5 Q87.4049 236.894 93.2151 236.894 Z\" fill=\"#000000\" fill-rule=\"evenodd\" fill-opacity=\"1\" /><path clip-path=\"url(#clip140)\" d=\"M123.377 240.598 Q119.766 240.598 117.937 244.162 Q116.132 247.704 116.132 254.834 Q116.132 261.94 117.937 265.505 Q119.766 269.047 123.377 269.047 Q127.011 269.047 128.817 265.505 Q130.645 261.94 130.645 254.834 Q130.645 247.704 128.817 244.162 Q127.011 240.598 123.377 240.598 M123.377 236.894 Q129.187 236.894 132.243 241.5 Q135.321 246.084 135.321 254.834 Q135.321 263.561 132.243 268.167 Q129.187 272.75 123.377 272.75 Q117.567 272.75 114.488 268.167 Q111.433 263.561 111.433 254.834 Q111.433 246.084 114.488 241.5 Q117.567 236.894 123.377 236.894 Z\" fill=\"#000000\" fill-rule=\"evenodd\" fill-opacity=\"1\" /><path clip-path=\"url(#clip140)\" d=\"M153.539 240.598 Q149.928 240.598 148.099 244.162 Q146.293 247.704 146.293 254.834 Q146.293 261.94 148.099 265.505 Q149.928 269.047 153.539 269.047 Q157.173 269.047 158.979 265.505 Q160.807 261.94 160.807 254.834 Q160.807 247.704 158.979 244.162 Q157.173 240.598 153.539 240.598 M153.539 236.894 Q159.349 236.894 162.405 241.5 Q165.483 246.084 165.483 254.834 Q165.483 263.561 162.405 268.167 Q159.349 272.75 153.539 272.75 Q147.729 272.75 144.65 268.167 Q141.594 263.561 141.594 254.834 Q141.594 246.084 144.65 241.5 Q147.729 236.894 153.539 236.894 Z\" fill=\"#000000\" fill-rule=\"evenodd\" fill-opacity=\"1\" /><path clip-path=\"url(#clip140)\" d=\"M53.8634 106.371 L61.5023 106.371 L61.5023 80.0051 L53.1921 81.6718 L53.1921 77.4125 L61.456 75.7459 L66.1319 75.7459 L66.1319 106.371 L73.7707 106.371 L73.7707 110.306 L53.8634 110.306 L53.8634 106.371 Z\" fill=\"#000000\" fill-rule=\"evenodd\" fill-opacity=\"1\" /><path clip-path=\"url(#clip140)\" d=\"M87.2429 106.371 L103.562 106.371 L103.562 110.306 L81.6179 110.306 L81.6179 106.371 Q84.2799 103.616 88.8632 98.9865 Q93.4697 94.3338 94.6502 92.9912 Q96.8956 90.468 97.7752 88.7319 Q98.678 86.9727 98.678 85.2829 Q98.678 82.5283 96.7336 80.7922 Q94.8123 79.0561 91.7104 79.0561 Q89.5114 79.0561 87.0577 79.8199 Q84.6271 80.5838 81.8494 82.1347 L81.8494 77.4125 Q84.6734 76.2783 87.1271 75.6996 Q89.5808 75.1209 91.6178 75.1209 Q96.9882 75.1209 100.183 77.8061 Q103.377 80.4912 103.377 84.9819 Q103.377 87.1116 102.567 89.0329 Q101.78 90.931 99.6734 93.5236 Q99.0947 94.1949 95.9928 97.4124 Q92.891 100.607 87.2429 106.371 Z\" fill=\"#000000\" fill-rule=\"evenodd\" fill-opacity=\"1\" /><path clip-path=\"url(#clip140)\" d=\"M123.377 78.8246 Q119.766 78.8246 117.937 82.3894 Q116.132 85.931 116.132 93.0606 Q116.132 100.167 117.937 103.732 Q119.766 107.273 123.377 107.273 Q127.011 107.273 128.817 103.732 Q130.645 100.167 130.645 93.0606 Q130.645 85.931 128.817 82.3894 Q127.011 78.8246 123.377 78.8246 M123.377 75.1209 Q129.187 75.1209 132.243 79.7273 Q135.321 84.3107 135.321 93.0606 Q135.321 101.787 132.243 106.394 Q129.187 110.977 123.377 110.977 Q117.567 110.977 114.488 106.394 Q111.433 101.787 111.433 93.0606 Q111.433 84.3107 114.488 79.7273 Q117.567 75.1209 123.377 75.1209 Z\" fill=\"#000000\" fill-rule=\"evenodd\" fill-opacity=\"1\" /><path clip-path=\"url(#clip140)\" d=\"M153.539 78.8246 Q149.928 78.8246 148.099 82.3894 Q146.293 85.931 146.293 93.0606 Q146.293 100.167 148.099 103.732 Q149.928 107.273 153.539 107.273 Q157.173 107.273 158.979 103.732 Q160.807 100.167 160.807 93.0606 Q160.807 85.931 158.979 82.3894 Q157.173 78.8246 153.539 78.8246 M153.539 75.1209 Q159.349 75.1209 162.405 79.7273 Q165.483 84.3107 165.483 93.0606 Q165.483 101.787 162.405 106.394 Q159.349 110.977 153.539 110.977 Q147.729 110.977 144.65 106.394 Q141.594 101.787 141.594 93.0606 Q141.594 84.3107 144.65 79.7273 Q147.729 75.1209 153.539 75.1209 Z\" fill=\"#000000\" fill-rule=\"evenodd\" fill-opacity=\"1\" /><path clip-path=\"url(#clip142)\" d=\"\n",
       "M289.369 371.276 L289.369 1063.66 L322.606 1063.66 L322.606 371.276 L289.369 371.276 L289.369 371.276  Z\n",
       "  \" fill=\"#009af9\" fill-rule=\"evenodd\" fill-opacity=\"1\"/>\n",
       "<polyline clip-path=\"url(#clip142)\" style=\"stroke:#000000; stroke-linecap:butt; stroke-linejoin:round; stroke-width:4; stroke-opacity:1; fill:none\" points=\"\n",
       "  289.369,371.276 289.369,1063.66 322.606,1063.66 322.606,371.276 289.369,371.276 \n",
       "  \"/>\n",
       "<path clip-path=\"url(#clip142)\" d=\"\n",
       "M322.606 87.3638 L322.606 1063.66 L355.843 1063.66 L355.843 87.3638 L322.606 87.3638 L322.606 87.3638  Z\n",
       "  \" fill=\"#009af9\" fill-rule=\"evenodd\" fill-opacity=\"1\"/>\n",
       "<polyline clip-path=\"url(#clip142)\" style=\"stroke:#000000; stroke-linecap:butt; stroke-linejoin:round; stroke-width:4; stroke-opacity:1; fill:none\" points=\"\n",
       "  322.606,87.3638 322.606,1063.66 355.843,1063.66 355.843,87.3638 322.606,87.3638 \n",
       "  \"/>\n",
       "<path clip-path=\"url(#clip142)\" d=\"\n",
       "M355.843 76.8486 L355.843 1063.66 L389.08 1063.66 L389.08 76.8486 L355.843 76.8486 L355.843 76.8486  Z\n",
       "  \" fill=\"#009af9\" fill-rule=\"evenodd\" fill-opacity=\"1\"/>\n",
       "<polyline clip-path=\"url(#clip142)\" style=\"stroke:#000000; stroke-linecap:butt; stroke-linejoin:round; stroke-width:4; stroke-opacity:1; fill:none\" points=\"\n",
       "  355.843,76.8486 355.843,1063.66 389.08,1063.66 389.08,76.8486 355.843,76.8486 \n",
       "  \"/>\n",
       "<path clip-path=\"url(#clip142)\" d=\"\n",
       "M389.08 184.428 L389.08 1063.66 L422.317 1063.66 L422.317 184.428 L389.08 184.428 L389.08 184.428  Z\n",
       "  \" fill=\"#009af9\" fill-rule=\"evenodd\" fill-opacity=\"1\"/>\n",
       "<polyline clip-path=\"url(#clip142)\" style=\"stroke:#000000; stroke-linecap:butt; stroke-linejoin:round; stroke-width:4; stroke-opacity:1; fill:none\" points=\"\n",
       "  389.08,184.428 389.08,1063.66 422.317,1063.66 422.317,184.428 389.08,184.428 \n",
       "  \"/>\n",
       "<path clip-path=\"url(#clip142)\" d=\"\n",
       "M422.317 324.361 L422.317 1063.66 L455.554 1063.66 L455.554 324.361 L422.317 324.361 L422.317 324.361  Z\n",
       "  \" fill=\"#009af9\" fill-rule=\"evenodd\" fill-opacity=\"1\"/>\n",
       "<polyline clip-path=\"url(#clip142)\" style=\"stroke:#000000; stroke-linecap:butt; stroke-linejoin:round; stroke-width:4; stroke-opacity:1; fill:none\" points=\"\n",
       "  422.317,324.361 422.317,1063.66 455.554,1063.66 455.554,324.361 422.317,324.361 \n",
       "  \"/>\n",
       "<path clip-path=\"url(#clip142)\" d=\"\n",
       "M455.554 419.808 L455.554 1063.66 L488.791 1063.66 L488.791 419.808 L455.554 419.808 L455.554 419.808  Z\n",
       "  \" fill=\"#009af9\" fill-rule=\"evenodd\" fill-opacity=\"1\"/>\n",
       "<polyline clip-path=\"url(#clip142)\" style=\"stroke:#000000; stroke-linecap:butt; stroke-linejoin:round; stroke-width:4; stroke-opacity:1; fill:none\" points=\"\n",
       "  455.554,419.808 455.554,1063.66 488.791,1063.66 488.791,419.808 455.554,419.808 \n",
       "  \"/>\n",
       "<path clip-path=\"url(#clip142)\" d=\"\n",
       "M488.791 528.196 L488.791 1063.66 L522.028 1063.66 L522.028 528.196 L488.791 528.196 L488.791 528.196  Z\n",
       "  \" fill=\"#009af9\" fill-rule=\"evenodd\" fill-opacity=\"1\"/>\n",
       "<polyline clip-path=\"url(#clip142)\" style=\"stroke:#000000; stroke-linecap:butt; stroke-linejoin:round; stroke-width:4; stroke-opacity:1; fill:none\" points=\"\n",
       "  488.791,528.196 488.791,1063.66 522.028,1063.66 522.028,528.196 488.791,528.196 \n",
       "  \"/>\n",
       "<path clip-path=\"url(#clip142)\" d=\"\n",
       "M522.028 575.919 L522.028 1063.66 L555.265 1063.66 L555.265 575.919 L522.028 575.919 L522.028 575.919  Z\n",
       "  \" fill=\"#009af9\" fill-rule=\"evenodd\" fill-opacity=\"1\"/>\n",
       "<polyline clip-path=\"url(#clip142)\" style=\"stroke:#000000; stroke-linecap:butt; stroke-linejoin:round; stroke-width:4; stroke-opacity:1; fill:none\" points=\"\n",
       "  522.028,575.919 522.028,1063.66 555.265,1063.66 555.265,575.919 522.028,575.919 \n",
       "  \"/>\n",
       "<path clip-path=\"url(#clip142)\" d=\"\n",
       "M555.265 687.542 L555.265 1063.66 L588.502 1063.66 L588.502 687.542 L555.265 687.542 L555.265 687.542  Z\n",
       "  \" fill=\"#009af9\" fill-rule=\"evenodd\" fill-opacity=\"1\"/>\n",
       "<polyline clip-path=\"url(#clip142)\" style=\"stroke:#000000; stroke-linecap:butt; stroke-linejoin:round; stroke-width:4; stroke-opacity:1; fill:none\" points=\"\n",
       "  555.265,687.542 555.265,1063.66 588.502,1063.66 588.502,687.542 555.265,687.542 \n",
       "  \"/>\n",
       "<path clip-path=\"url(#clip142)\" d=\"\n",
       "M588.502 733.647 L588.502 1063.66 L621.739 1063.66 L621.739 733.647 L588.502 733.647 L588.502 733.647  Z\n",
       "  \" fill=\"#009af9\" fill-rule=\"evenodd\" fill-opacity=\"1\"/>\n",
       "<polyline clip-path=\"url(#clip142)\" style=\"stroke:#000000; stroke-linecap:butt; stroke-linejoin:round; stroke-width:4; stroke-opacity:1; fill:none\" points=\"\n",
       "  588.502,733.647 588.502,1063.66 621.739,1063.66 621.739,733.647 588.502,733.647 \n",
       "  \"/>\n",
       "<path clip-path=\"url(#clip142)\" d=\"\n",
       "M621.739 802.401 L621.739 1063.66 L654.976 1063.66 L654.976 802.401 L621.739 802.401 L621.739 802.401  Z\n",
       "  \" fill=\"#009af9\" fill-rule=\"evenodd\" fill-opacity=\"1\"/>\n",
       "<polyline clip-path=\"url(#clip142)\" style=\"stroke:#000000; stroke-linecap:butt; stroke-linejoin:round; stroke-width:4; stroke-opacity:1; fill:none\" points=\"\n",
       "  621.739,802.401 621.739,1063.66 654.976,1063.66 654.976,802.401 621.739,802.401 \n",
       "  \"/>\n",
       "<path clip-path=\"url(#clip142)\" d=\"\n",
       "M654.976 852.551 L654.976 1063.66 L688.213 1063.66 L688.213 852.551 L654.976 852.551 L654.976 852.551  Z\n",
       "  \" fill=\"#009af9\" fill-rule=\"evenodd\" fill-opacity=\"1\"/>\n",
       "<polyline clip-path=\"url(#clip142)\" style=\"stroke:#000000; stroke-linecap:butt; stroke-linejoin:round; stroke-width:4; stroke-opacity:1; fill:none\" points=\"\n",
       "  654.976,852.551 654.976,1063.66 688.213,1063.66 688.213,852.551 654.976,852.551 \n",
       "  \"/>\n",
       "<path clip-path=\"url(#clip142)\" d=\"\n",
       "M688.213 880.861 L688.213 1063.66 L721.45 1063.66 L721.45 880.861 L688.213 880.861 L688.213 880.861  Z\n",
       "  \" fill=\"#009af9\" fill-rule=\"evenodd\" fill-opacity=\"1\"/>\n",
       "<polyline clip-path=\"url(#clip142)\" style=\"stroke:#000000; stroke-linecap:butt; stroke-linejoin:round; stroke-width:4; stroke-opacity:1; fill:none\" points=\"\n",
       "  688.213,880.861 688.213,1063.66 721.45,1063.66 721.45,880.861 688.213,880.861 \n",
       "  \"/>\n",
       "<path clip-path=\"url(#clip142)\" d=\"\n",
       "M721.45 918.069 L721.45 1063.66 L754.687 1063.66 L754.687 918.069 L721.45 918.069 L721.45 918.069  Z\n",
       "  \" fill=\"#009af9\" fill-rule=\"evenodd\" fill-opacity=\"1\"/>\n",
       "<polyline clip-path=\"url(#clip142)\" style=\"stroke:#000000; stroke-linecap:butt; stroke-linejoin:round; stroke-width:4; stroke-opacity:1; fill:none\" points=\"\n",
       "  721.45,918.069 721.45,1063.66 754.687,1063.66 754.687,918.069 721.45,918.069 \n",
       "  \"/>\n",
       "<path clip-path=\"url(#clip142)\" d=\"\n",
       "M754.687 939.099 L754.687 1063.66 L787.924 1063.66 L787.924 939.099 L754.687 939.099 L754.687 939.099  Z\n",
       "  \" fill=\"#009af9\" fill-rule=\"evenodd\" fill-opacity=\"1\"/>\n",
       "<polyline clip-path=\"url(#clip142)\" style=\"stroke:#000000; stroke-linecap:butt; stroke-linejoin:round; stroke-width:4; stroke-opacity:1; fill:none\" points=\"\n",
       "  754.687,939.099 754.687,1063.66 787.924,1063.66 787.924,939.099 754.687,939.099 \n",
       "  \"/>\n",
       "<path clip-path=\"url(#clip142)\" d=\"\n",
       "M787.924 975.498 L787.924 1063.66 L821.161 1063.66 L821.161 975.498 L787.924 975.498 L787.924 975.498  Z\n",
       "  \" fill=\"#009af9\" fill-rule=\"evenodd\" fill-opacity=\"1\"/>\n",
       "<polyline clip-path=\"url(#clip142)\" style=\"stroke:#000000; stroke-linecap:butt; stroke-linejoin:round; stroke-width:4; stroke-opacity:1; fill:none\" points=\"\n",
       "  787.924,975.498 787.924,1063.66 821.161,1063.66 821.161,975.498 787.924,975.498 \n",
       "  \"/>\n",
       "<path clip-path=\"url(#clip142)\" d=\"\n",
       "M821.161 975.498 L821.161 1063.66 L854.398 1063.66 L854.398 975.498 L821.161 975.498 L821.161 975.498  Z\n",
       "  \" fill=\"#009af9\" fill-rule=\"evenodd\" fill-opacity=\"1\"/>\n",
       "<polyline clip-path=\"url(#clip142)\" style=\"stroke:#000000; stroke-linecap:butt; stroke-linejoin:round; stroke-width:4; stroke-opacity:1; fill:none\" points=\"\n",
       "  821.161,975.498 821.161,1063.66 854.398,1063.66 854.398,975.498 821.161,975.498 \n",
       "  \"/>\n",
       "<path clip-path=\"url(#clip142)\" d=\"\n",
       "M854.398 1000.57 L854.398 1063.66 L887.635 1063.66 L887.635 1000.57 L854.398 1000.57 L854.398 1000.57  Z\n",
       "  \" fill=\"#009af9\" fill-rule=\"evenodd\" fill-opacity=\"1\"/>\n",
       "<polyline clip-path=\"url(#clip142)\" style=\"stroke:#000000; stroke-linecap:butt; stroke-linejoin:round; stroke-width:4; stroke-opacity:1; fill:none\" points=\"\n",
       "  854.398,1000.57 854.398,1063.66 887.635,1063.66 887.635,1000.57 854.398,1000.57 \n",
       "  \"/>\n",
       "<path clip-path=\"url(#clip142)\" d=\"\n",
       "M887.635 1022.41 L887.635 1063.66 L920.872 1063.66 L920.872 1022.41 L887.635 1022.41 L887.635 1022.41  Z\n",
       "  \" fill=\"#009af9\" fill-rule=\"evenodd\" fill-opacity=\"1\"/>\n",
       "<polyline clip-path=\"url(#clip142)\" style=\"stroke:#000000; stroke-linecap:butt; stroke-linejoin:round; stroke-width:4; stroke-opacity:1; fill:none\" points=\"\n",
       "  887.635,1022.41 887.635,1063.66 920.872,1063.66 920.872,1022.41 887.635,1022.41 \n",
       "  \"/>\n",
       "<path clip-path=\"url(#clip142)\" d=\"\n",
       "M920.872 1011.09 L920.872 1063.66 L954.109 1063.66 L954.109 1011.09 L920.872 1011.09 L920.872 1011.09  Z\n",
       "  \" fill=\"#009af9\" fill-rule=\"evenodd\" fill-opacity=\"1\"/>\n",
       "<polyline clip-path=\"url(#clip142)\" style=\"stroke:#000000; stroke-linecap:butt; stroke-linejoin:round; stroke-width:4; stroke-opacity:1; fill:none\" points=\"\n",
       "  920.872,1011.09 920.872,1063.66 954.109,1063.66 954.109,1011.09 920.872,1011.09 \n",
       "  \"/>\n",
       "<path clip-path=\"url(#clip142)\" d=\"\n",
       "M954.109 1032.12 L954.109 1063.66 L987.346 1063.66 L987.346 1032.12 L954.109 1032.12 L954.109 1032.12  Z\n",
       "  \" fill=\"#009af9\" fill-rule=\"evenodd\" fill-opacity=\"1\"/>\n",
       "<polyline clip-path=\"url(#clip142)\" style=\"stroke:#000000; stroke-linecap:butt; stroke-linejoin:round; stroke-width:4; stroke-opacity:1; fill:none\" points=\"\n",
       "  954.109,1032.12 954.109,1063.66 987.346,1063.66 987.346,1032.12 954.109,1032.12 \n",
       "  \"/>\n",
       "<path clip-path=\"url(#clip142)\" d=\"\n",
       "M987.346 1035.35 L987.346 1063.66 L1020.58 1063.66 L1020.58 1035.35 L987.346 1035.35 L987.346 1035.35  Z\n",
       "  \" fill=\"#009af9\" fill-rule=\"evenodd\" fill-opacity=\"1\"/>\n",
       "<polyline clip-path=\"url(#clip142)\" style=\"stroke:#000000; stroke-linecap:butt; stroke-linejoin:round; stroke-width:4; stroke-opacity:1; fill:none\" points=\"\n",
       "  987.346,1035.35 987.346,1063.66 1020.58,1063.66 1020.58,1035.35 987.346,1035.35 \n",
       "  \"/>\n",
       "<path clip-path=\"url(#clip142)\" d=\"\n",
       "M1020.58 1043.44 L1020.58 1063.66 L1053.82 1063.66 L1053.82 1043.44 L1020.58 1043.44 L1020.58 1043.44  Z\n",
       "  \" fill=\"#009af9\" fill-rule=\"evenodd\" fill-opacity=\"1\"/>\n",
       "<polyline clip-path=\"url(#clip142)\" style=\"stroke:#000000; stroke-linecap:butt; stroke-linejoin:round; stroke-width:4; stroke-opacity:1; fill:none\" points=\"\n",
       "  1020.58,1043.44 1020.58,1063.66 1053.82,1063.66 1053.82,1043.44 1020.58,1043.44 \n",
       "  \"/>\n",
       "<path clip-path=\"url(#clip142)\" d=\"\n",
       "M1053.82 1045.87 L1053.82 1063.66 L1087.06 1063.66 L1087.06 1045.87 L1053.82 1045.87 L1053.82 1045.87  Z\n",
       "  \" fill=\"#009af9\" fill-rule=\"evenodd\" fill-opacity=\"1\"/>\n",
       "<polyline clip-path=\"url(#clip142)\" style=\"stroke:#000000; stroke-linecap:butt; stroke-linejoin:round; stroke-width:4; stroke-opacity:1; fill:none\" points=\"\n",
       "  1053.82,1045.87 1053.82,1063.66 1087.06,1063.66 1087.06,1045.87 1053.82,1045.87 \n",
       "  \"/>\n",
       "<path clip-path=\"url(#clip142)\" d=\"\n",
       "M1087.06 1039.4 L1087.06 1063.66 L1120.29 1063.66 L1120.29 1039.4 L1087.06 1039.4 L1087.06 1039.4  Z\n",
       "  \" fill=\"#009af9\" fill-rule=\"evenodd\" fill-opacity=\"1\"/>\n",
       "<polyline clip-path=\"url(#clip142)\" style=\"stroke:#000000; stroke-linecap:butt; stroke-linejoin:round; stroke-width:4; stroke-opacity:1; fill:none\" points=\"\n",
       "  1087.06,1039.4 1087.06,1063.66 1120.29,1063.66 1120.29,1039.4 1087.06,1039.4 \n",
       "  \"/>\n",
       "<path clip-path=\"url(#clip142)\" d=\"\n",
       "M1120.29 1049.11 L1120.29 1063.66 L1153.53 1063.66 L1153.53 1049.11 L1120.29 1049.11 L1120.29 1049.11  Z\n",
       "  \" fill=\"#009af9\" fill-rule=\"evenodd\" fill-opacity=\"1\"/>\n",
       "<polyline clip-path=\"url(#clip142)\" style=\"stroke:#000000; stroke-linecap:butt; stroke-linejoin:round; stroke-width:4; stroke-opacity:1; fill:none\" points=\"\n",
       "  1120.29,1049.11 1120.29,1063.66 1153.53,1063.66 1153.53,1049.11 1120.29,1049.11 \n",
       "  \"/>\n",
       "<path clip-path=\"url(#clip142)\" d=\"\n",
       "M1153.53 1053.15 L1153.53 1063.66 L1186.77 1063.66 L1186.77 1053.15 L1153.53 1053.15 L1153.53 1053.15  Z\n",
       "  \" fill=\"#009af9\" fill-rule=\"evenodd\" fill-opacity=\"1\"/>\n",
       "<polyline clip-path=\"url(#clip142)\" style=\"stroke:#000000; stroke-linecap:butt; stroke-linejoin:round; stroke-width:4; stroke-opacity:1; fill:none\" points=\"\n",
       "  1153.53,1053.15 1153.53,1063.66 1186.77,1063.66 1186.77,1053.15 1153.53,1053.15 \n",
       "  \"/>\n",
       "<path clip-path=\"url(#clip142)\" d=\"\n",
       "M1186.77 1058 L1186.77 1063.66 L1220 1063.66 L1220 1058 L1186.77 1058 L1186.77 1058  Z\n",
       "  \" fill=\"#009af9\" fill-rule=\"evenodd\" fill-opacity=\"1\"/>\n",
       "<polyline clip-path=\"url(#clip142)\" style=\"stroke:#000000; stroke-linecap:butt; stroke-linejoin:round; stroke-width:4; stroke-opacity:1; fill:none\" points=\"\n",
       "  1186.77,1058 1186.77,1063.66 1220,1063.66 1220,1058 1186.77,1058 \n",
       "  \"/>\n",
       "<path clip-path=\"url(#clip142)\" d=\"\n",
       "M1220 1057.19 L1220 1063.66 L1253.24 1063.66 L1253.24 1057.19 L1220 1057.19 L1220 1057.19  Z\n",
       "  \" fill=\"#009af9\" fill-rule=\"evenodd\" fill-opacity=\"1\"/>\n",
       "<polyline clip-path=\"url(#clip142)\" style=\"stroke:#000000; stroke-linecap:butt; stroke-linejoin:round; stroke-width:4; stroke-opacity:1; fill:none\" points=\"\n",
       "  1220,1057.19 1220,1063.66 1253.24,1063.66 1253.24,1057.19 1220,1057.19 \n",
       "  \"/>\n",
       "<path clip-path=\"url(#clip142)\" d=\"\n",
       "M1253.24 1060.43 L1253.24 1063.66 L1286.48 1063.66 L1286.48 1060.43 L1253.24 1060.43 L1253.24 1060.43  Z\n",
       "  \" fill=\"#009af9\" fill-rule=\"evenodd\" fill-opacity=\"1\"/>\n",
       "<polyline clip-path=\"url(#clip142)\" style=\"stroke:#000000; stroke-linecap:butt; stroke-linejoin:round; stroke-width:4; stroke-opacity:1; fill:none\" points=\"\n",
       "  1253.24,1060.43 1253.24,1063.66 1286.48,1063.66 1286.48,1060.43 1253.24,1060.43 \n",
       "  \"/>\n",
       "<path clip-path=\"url(#clip142)\" d=\"\n",
       "M1286.48 1060.43 L1286.48 1063.66 L1319.72 1063.66 L1319.72 1060.43 L1286.48 1060.43 L1286.48 1060.43  Z\n",
       "  \" fill=\"#009af9\" fill-rule=\"evenodd\" fill-opacity=\"1\"/>\n",
       "<polyline clip-path=\"url(#clip142)\" style=\"stroke:#000000; stroke-linecap:butt; stroke-linejoin:round; stroke-width:4; stroke-opacity:1; fill:none\" points=\"\n",
       "  1286.48,1060.43 1286.48,1063.66 1319.72,1063.66 1319.72,1060.43 1286.48,1060.43 \n",
       "  \"/>\n",
       "<path clip-path=\"url(#clip142)\" d=\"\n",
       "M1319.72 1062.05 L1319.72 1063.66 L1352.95 1063.66 L1352.95 1062.05 L1319.72 1062.05 L1319.72 1062.05  Z\n",
       "  \" fill=\"#009af9\" fill-rule=\"evenodd\" fill-opacity=\"1\"/>\n",
       "<polyline clip-path=\"url(#clip142)\" style=\"stroke:#000000; stroke-linecap:butt; stroke-linejoin:round; stroke-width:4; stroke-opacity:1; fill:none\" points=\"\n",
       "  1319.72,1062.05 1319.72,1063.66 1352.95,1063.66 1352.95,1062.05 1319.72,1062.05 \n",
       "  \"/>\n",
       "<path clip-path=\"url(#clip142)\" d=\"\n",
       "M1352.95 1061.24 L1352.95 1063.66 L1386.19 1063.66 L1386.19 1061.24 L1352.95 1061.24 L1352.95 1061.24  Z\n",
       "  \" fill=\"#009af9\" fill-rule=\"evenodd\" fill-opacity=\"1\"/>\n",
       "<polyline clip-path=\"url(#clip142)\" style=\"stroke:#000000; stroke-linecap:butt; stroke-linejoin:round; stroke-width:4; stroke-opacity:1; fill:none\" points=\"\n",
       "  1352.95,1061.24 1352.95,1063.66 1386.19,1063.66 1386.19,1061.24 1352.95,1061.24 \n",
       "  \"/>\n",
       "<path clip-path=\"url(#clip142)\" d=\"\n",
       "M1386.19 1061.24 L1386.19 1063.66 L1419.43 1063.66 L1419.43 1061.24 L1386.19 1061.24 L1386.19 1061.24  Z\n",
       "  \" fill=\"#009af9\" fill-rule=\"evenodd\" fill-opacity=\"1\"/>\n",
       "<polyline clip-path=\"url(#clip142)\" style=\"stroke:#000000; stroke-linecap:butt; stroke-linejoin:round; stroke-width:4; stroke-opacity:1; fill:none\" points=\"\n",
       "  1386.19,1061.24 1386.19,1063.66 1419.43,1063.66 1419.43,1061.24 1386.19,1061.24 \n",
       "  \"/>\n",
       "<path clip-path=\"url(#clip142)\" d=\"\n",
       "M1419.43 1062.05 L1419.43 1063.66 L1452.66 1063.66 L1452.66 1062.05 L1419.43 1062.05 L1419.43 1062.05  Z\n",
       "  \" fill=\"#009af9\" fill-rule=\"evenodd\" fill-opacity=\"1\"/>\n",
       "<polyline clip-path=\"url(#clip142)\" style=\"stroke:#000000; stroke-linecap:butt; stroke-linejoin:round; stroke-width:4; stroke-opacity:1; fill:none\" points=\"\n",
       "  1419.43,1062.05 1419.43,1063.66 1452.66,1063.66 1452.66,1062.05 1419.43,1062.05 \n",
       "  \"/>\n",
       "<path clip-path=\"url(#clip142)\" d=\"\n",
       "M1452.66 1062.05 L1452.66 1063.66 L1485.9 1063.66 L1485.9 1062.05 L1452.66 1062.05 L1452.66 1062.05  Z\n",
       "  \" fill=\"#009af9\" fill-rule=\"evenodd\" fill-opacity=\"1\"/>\n",
       "<polyline clip-path=\"url(#clip142)\" style=\"stroke:#000000; stroke-linecap:butt; stroke-linejoin:round; stroke-width:4; stroke-opacity:1; fill:none\" points=\"\n",
       "  1452.66,1062.05 1452.66,1063.66 1485.9,1063.66 1485.9,1062.05 1452.66,1062.05 \n",
       "  \"/>\n",
       "<path clip-path=\"url(#clip142)\" d=\"\n",
       "M1485.9 1060.43 L1485.9 1063.66 L1519.14 1063.66 L1519.14 1060.43 L1485.9 1060.43 L1485.9 1060.43  Z\n",
       "  \" fill=\"#009af9\" fill-rule=\"evenodd\" fill-opacity=\"1\"/>\n",
       "<polyline clip-path=\"url(#clip142)\" style=\"stroke:#000000; stroke-linecap:butt; stroke-linejoin:round; stroke-width:4; stroke-opacity:1; fill:none\" points=\"\n",
       "  1485.9,1060.43 1485.9,1063.66 1519.14,1063.66 1519.14,1060.43 1485.9,1060.43 \n",
       "  \"/>\n",
       "<path clip-path=\"url(#clip142)\" d=\"\n",
       "M1519.14 1063.66 L1519.14 1063.66 L1552.37 1063.66 L1552.37 1063.66 L1519.14 1063.66 L1519.14 1063.66  Z\n",
       "  \" fill=\"#009af9\" fill-rule=\"evenodd\" fill-opacity=\"1\"/>\n",
       "<polyline clip-path=\"url(#clip142)\" style=\"stroke:#000000; stroke-linecap:butt; stroke-linejoin:round; stroke-width:4; stroke-opacity:1; fill:none\" points=\"\n",
       "  1519.14,1063.66 1519.14,1063.66 1552.37,1063.66 1519.14,1063.66 \n",
       "  \"/>\n",
       "<path clip-path=\"url(#clip142)\" d=\"\n",
       "M1552.37 1063.66 L1552.37 1063.66 L1585.61 1063.66 L1585.61 1063.66 L1552.37 1063.66 L1552.37 1063.66  Z\n",
       "  \" fill=\"#009af9\" fill-rule=\"evenodd\" fill-opacity=\"1\"/>\n",
       "<polyline clip-path=\"url(#clip142)\" style=\"stroke:#000000; stroke-linecap:butt; stroke-linejoin:round; stroke-width:4; stroke-opacity:1; fill:none\" points=\"\n",
       "  1552.37,1063.66 1552.37,1063.66 1585.61,1063.66 1552.37,1063.66 \n",
       "  \"/>\n",
       "<path clip-path=\"url(#clip142)\" d=\"\n",
       "M1585.61 1062.86 L1585.61 1063.66 L1618.85 1063.66 L1618.85 1062.86 L1585.61 1062.86 L1585.61 1062.86  Z\n",
       "  \" fill=\"#009af9\" fill-rule=\"evenodd\" fill-opacity=\"1\"/>\n",
       "<polyline clip-path=\"url(#clip142)\" style=\"stroke:#000000; stroke-linecap:butt; stroke-linejoin:round; stroke-width:4; stroke-opacity:1; fill:none\" points=\"\n",
       "  1585.61,1062.86 1585.61,1063.66 1618.85,1063.66 1618.85,1062.86 1585.61,1062.86 \n",
       "  \"/>\n",
       "<path clip-path=\"url(#clip142)\" d=\"\n",
       "M1618.85 1062.86 L1618.85 1063.66 L1652.09 1063.66 L1652.09 1062.86 L1618.85 1062.86 L1618.85 1062.86  Z\n",
       "  \" fill=\"#009af9\" fill-rule=\"evenodd\" fill-opacity=\"1\"/>\n",
       "<polyline clip-path=\"url(#clip142)\" style=\"stroke:#000000; stroke-linecap:butt; stroke-linejoin:round; stroke-width:4; stroke-opacity:1; fill:none\" points=\"\n",
       "  1618.85,1062.86 1618.85,1063.66 1652.09,1063.66 1652.09,1062.86 1618.85,1062.86 \n",
       "  \"/>\n",
       "<path clip-path=\"url(#clip142)\" d=\"\n",
       "M1652.09 1063.66 L1652.09 1063.66 L1685.32 1063.66 L1685.32 1063.66 L1652.09 1063.66 L1652.09 1063.66  Z\n",
       "  \" fill=\"#009af9\" fill-rule=\"evenodd\" fill-opacity=\"1\"/>\n",
       "<polyline clip-path=\"url(#clip142)\" style=\"stroke:#000000; stroke-linecap:butt; stroke-linejoin:round; stroke-width:4; stroke-opacity:1; fill:none\" points=\"\n",
       "  1652.09,1063.66 1652.09,1063.66 1685.32,1063.66 1652.09,1063.66 \n",
       "  \"/>\n",
       "<path clip-path=\"url(#clip142)\" d=\"\n",
       "M1685.32 1063.66 L1685.32 1063.66 L1718.56 1063.66 L1718.56 1063.66 L1685.32 1063.66 L1685.32 1063.66  Z\n",
       "  \" fill=\"#009af9\" fill-rule=\"evenodd\" fill-opacity=\"1\"/>\n",
       "<polyline clip-path=\"url(#clip142)\" style=\"stroke:#000000; stroke-linecap:butt; stroke-linejoin:round; stroke-width:4; stroke-opacity:1; fill:none\" points=\"\n",
       "  1685.32,1063.66 1685.32,1063.66 1718.56,1063.66 1685.32,1063.66 \n",
       "  \"/>\n",
       "<path clip-path=\"url(#clip142)\" d=\"\n",
       "M1718.56 1062.86 L1718.56 1063.66 L1751.8 1063.66 L1751.8 1062.86 L1718.56 1062.86 L1718.56 1062.86  Z\n",
       "  \" fill=\"#009af9\" fill-rule=\"evenodd\" fill-opacity=\"1\"/>\n",
       "<polyline clip-path=\"url(#clip142)\" style=\"stroke:#000000; stroke-linecap:butt; stroke-linejoin:round; stroke-width:4; stroke-opacity:1; fill:none\" points=\"\n",
       "  1718.56,1062.86 1718.56,1063.66 1751.8,1063.66 1751.8,1062.86 1718.56,1062.86 \n",
       "  \"/>\n",
       "<path clip-path=\"url(#clip142)\" d=\"\n",
       "M1751.8 1062.86 L1751.8 1063.66 L1785.03 1063.66 L1785.03 1062.86 L1751.8 1062.86 L1751.8 1062.86  Z\n",
       "  \" fill=\"#009af9\" fill-rule=\"evenodd\" fill-opacity=\"1\"/>\n",
       "<polyline clip-path=\"url(#clip142)\" style=\"stroke:#000000; stroke-linecap:butt; stroke-linejoin:round; stroke-width:4; stroke-opacity:1; fill:none\" points=\"\n",
       "  1751.8,1062.86 1751.8,1063.66 1785.03,1063.66 1785.03,1062.86 1751.8,1062.86 \n",
       "  \"/>\n",
       "<path clip-path=\"url(#clip142)\" d=\"\n",
       "M1785.03 1062.86 L1785.03 1063.66 L1818.27 1063.66 L1818.27 1062.86 L1785.03 1062.86 L1785.03 1062.86  Z\n",
       "  \" fill=\"#009af9\" fill-rule=\"evenodd\" fill-opacity=\"1\"/>\n",
       "<polyline clip-path=\"url(#clip142)\" style=\"stroke:#000000; stroke-linecap:butt; stroke-linejoin:round; stroke-width:4; stroke-opacity:1; fill:none\" points=\"\n",
       "  1785.03,1062.86 1785.03,1063.66 1818.27,1063.66 1818.27,1062.86 1785.03,1062.86 \n",
       "  \"/>\n",
       "<circle clip-path=\"url(#clip142)\" style=\"fill:#009af9; stroke:none; fill-opacity:0\" cx=\"305.988\" cy=\"371.276\" r=\"2\"/>\n",
       "<circle clip-path=\"url(#clip142)\" style=\"fill:#009af9; stroke:none; fill-opacity:0\" cx=\"339.225\" cy=\"87.3638\" r=\"2\"/>\n",
       "<circle clip-path=\"url(#clip142)\" style=\"fill:#009af9; stroke:none; fill-opacity:0\" cx=\"372.462\" cy=\"76.8486\" r=\"2\"/>\n",
       "<circle clip-path=\"url(#clip142)\" style=\"fill:#009af9; stroke:none; fill-opacity:0\" cx=\"405.699\" cy=\"184.428\" r=\"2\"/>\n",
       "<circle clip-path=\"url(#clip142)\" style=\"fill:#009af9; stroke:none; fill-opacity:0\" cx=\"438.936\" cy=\"324.361\" r=\"2\"/>\n",
       "<circle clip-path=\"url(#clip142)\" style=\"fill:#009af9; stroke:none; fill-opacity:0\" cx=\"472.173\" cy=\"419.808\" r=\"2\"/>\n",
       "<circle clip-path=\"url(#clip142)\" style=\"fill:#009af9; stroke:none; fill-opacity:0\" cx=\"505.41\" cy=\"528.196\" r=\"2\"/>\n",
       "<circle clip-path=\"url(#clip142)\" style=\"fill:#009af9; stroke:none; fill-opacity:0\" cx=\"538.647\" cy=\"575.919\" r=\"2\"/>\n",
       "<circle clip-path=\"url(#clip142)\" style=\"fill:#009af9; stroke:none; fill-opacity:0\" cx=\"571.883\" cy=\"687.542\" r=\"2\"/>\n",
       "<circle clip-path=\"url(#clip142)\" style=\"fill:#009af9; stroke:none; fill-opacity:0\" cx=\"605.12\" cy=\"733.647\" r=\"2\"/>\n",
       "<circle clip-path=\"url(#clip142)\" style=\"fill:#009af9; stroke:none; fill-opacity:0\" cx=\"638.357\" cy=\"802.401\" r=\"2\"/>\n",
       "<circle clip-path=\"url(#clip142)\" style=\"fill:#009af9; stroke:none; fill-opacity:0\" cx=\"671.594\" cy=\"852.551\" r=\"2\"/>\n",
       "<circle clip-path=\"url(#clip142)\" style=\"fill:#009af9; stroke:none; fill-opacity:0\" cx=\"704.831\" cy=\"880.861\" r=\"2\"/>\n",
       "<circle clip-path=\"url(#clip142)\" style=\"fill:#009af9; stroke:none; fill-opacity:0\" cx=\"738.068\" cy=\"918.069\" r=\"2\"/>\n",
       "<circle clip-path=\"url(#clip142)\" style=\"fill:#009af9; stroke:none; fill-opacity:0\" cx=\"771.305\" cy=\"939.099\" r=\"2\"/>\n",
       "<circle clip-path=\"url(#clip142)\" style=\"fill:#009af9; stroke:none; fill-opacity:0\" cx=\"804.542\" cy=\"975.498\" r=\"2\"/>\n",
       "<circle clip-path=\"url(#clip142)\" style=\"fill:#009af9; stroke:none; fill-opacity:0\" cx=\"837.779\" cy=\"975.498\" r=\"2\"/>\n",
       "<circle clip-path=\"url(#clip142)\" style=\"fill:#009af9; stroke:none; fill-opacity:0\" cx=\"871.016\" cy=\"1000.57\" r=\"2\"/>\n",
       "<circle clip-path=\"url(#clip142)\" style=\"fill:#009af9; stroke:none; fill-opacity:0\" cx=\"904.253\" cy=\"1022.41\" r=\"2\"/>\n",
       "<circle clip-path=\"url(#clip142)\" style=\"fill:#009af9; stroke:none; fill-opacity:0\" cx=\"937.49\" cy=\"1011.09\" r=\"2\"/>\n",
       "<circle clip-path=\"url(#clip142)\" style=\"fill:#009af9; stroke:none; fill-opacity:0\" cx=\"970.727\" cy=\"1032.12\" r=\"2\"/>\n",
       "<circle clip-path=\"url(#clip142)\" style=\"fill:#009af9; stroke:none; fill-opacity:0\" cx=\"1003.96\" cy=\"1035.35\" r=\"2\"/>\n",
       "<circle clip-path=\"url(#clip142)\" style=\"fill:#009af9; stroke:none; fill-opacity:0\" cx=\"1037.2\" cy=\"1043.44\" r=\"2\"/>\n",
       "<circle clip-path=\"url(#clip142)\" style=\"fill:#009af9; stroke:none; fill-opacity:0\" cx=\"1070.44\" cy=\"1045.87\" r=\"2\"/>\n",
       "<circle clip-path=\"url(#clip142)\" style=\"fill:#009af9; stroke:none; fill-opacity:0\" cx=\"1103.68\" cy=\"1039.4\" r=\"2\"/>\n",
       "<circle clip-path=\"url(#clip142)\" style=\"fill:#009af9; stroke:none; fill-opacity:0\" cx=\"1136.91\" cy=\"1049.11\" r=\"2\"/>\n",
       "<circle clip-path=\"url(#clip142)\" style=\"fill:#009af9; stroke:none; fill-opacity:0\" cx=\"1170.15\" cy=\"1053.15\" r=\"2\"/>\n",
       "<circle clip-path=\"url(#clip142)\" style=\"fill:#009af9; stroke:none; fill-opacity:0\" cx=\"1203.39\" cy=\"1058\" r=\"2\"/>\n",
       "<circle clip-path=\"url(#clip142)\" style=\"fill:#009af9; stroke:none; fill-opacity:0\" cx=\"1236.62\" cy=\"1057.19\" r=\"2\"/>\n",
       "<circle clip-path=\"url(#clip142)\" style=\"fill:#009af9; stroke:none; fill-opacity:0\" cx=\"1269.86\" cy=\"1060.43\" r=\"2\"/>\n",
       "<circle clip-path=\"url(#clip142)\" style=\"fill:#009af9; stroke:none; fill-opacity:0\" cx=\"1303.1\" cy=\"1060.43\" r=\"2\"/>\n",
       "<circle clip-path=\"url(#clip142)\" style=\"fill:#009af9; stroke:none; fill-opacity:0\" cx=\"1336.33\" cy=\"1062.05\" r=\"2\"/>\n",
       "<circle clip-path=\"url(#clip142)\" style=\"fill:#009af9; stroke:none; fill-opacity:0\" cx=\"1369.57\" cy=\"1061.24\" r=\"2\"/>\n",
       "<circle clip-path=\"url(#clip142)\" style=\"fill:#009af9; stroke:none; fill-opacity:0\" cx=\"1402.81\" cy=\"1061.24\" r=\"2\"/>\n",
       "<circle clip-path=\"url(#clip142)\" style=\"fill:#009af9; stroke:none; fill-opacity:0\" cx=\"1436.04\" cy=\"1062.05\" r=\"2\"/>\n",
       "<circle clip-path=\"url(#clip142)\" style=\"fill:#009af9; stroke:none; fill-opacity:0\" cx=\"1469.28\" cy=\"1062.05\" r=\"2\"/>\n",
       "<circle clip-path=\"url(#clip142)\" style=\"fill:#009af9; stroke:none; fill-opacity:0\" cx=\"1502.52\" cy=\"1060.43\" r=\"2\"/>\n",
       "<circle clip-path=\"url(#clip142)\" style=\"fill:#009af9; stroke:none; fill-opacity:0\" cx=\"1535.76\" cy=\"1063.66\" r=\"2\"/>\n",
       "<circle clip-path=\"url(#clip142)\" style=\"fill:#009af9; stroke:none; fill-opacity:0\" cx=\"1568.99\" cy=\"1063.66\" r=\"2\"/>\n",
       "<circle clip-path=\"url(#clip142)\" style=\"fill:#009af9; stroke:none; fill-opacity:0\" cx=\"1602.23\" cy=\"1062.86\" r=\"2\"/>\n",
       "<circle clip-path=\"url(#clip142)\" style=\"fill:#009af9; stroke:none; fill-opacity:0\" cx=\"1635.47\" cy=\"1062.86\" r=\"2\"/>\n",
       "<circle clip-path=\"url(#clip142)\" style=\"fill:#009af9; stroke:none; fill-opacity:0\" cx=\"1668.7\" cy=\"1063.66\" r=\"2\"/>\n",
       "<circle clip-path=\"url(#clip142)\" style=\"fill:#009af9; stroke:none; fill-opacity:0\" cx=\"1701.94\" cy=\"1063.66\" r=\"2\"/>\n",
       "<circle clip-path=\"url(#clip142)\" style=\"fill:#009af9; stroke:none; fill-opacity:0\" cx=\"1735.18\" cy=\"1062.86\" r=\"2\"/>\n",
       "<circle clip-path=\"url(#clip142)\" style=\"fill:#009af9; stroke:none; fill-opacity:0\" cx=\"1768.41\" cy=\"1062.86\" r=\"2\"/>\n",
       "<circle clip-path=\"url(#clip142)\" style=\"fill:#009af9; stroke:none; fill-opacity:0\" cx=\"1801.65\" cy=\"1062.86\" r=\"2\"/>\n",
       "<path clip-path=\"url(#clip140)\" d=\"\n",
       "M1612.19 185.792 L1855.49 185.792 L1855.49 82.1116 L1612.19 82.1116  Z\n",
       "  \" fill=\"#ffffff\" fill-rule=\"evenodd\" fill-opacity=\"1\"/>\n",
       "<polyline clip-path=\"url(#clip140)\" style=\"stroke:#000000; stroke-linecap:butt; stroke-linejoin:round; stroke-width:4; stroke-opacity:1; fill:none\" points=\"\n",
       "  1612.19,185.792 1855.49,185.792 1855.49,82.1116 1612.19,82.1116 1612.19,185.792 \n",
       "  \"/>\n",
       "<path clip-path=\"url(#clip140)\" d=\"\n",
       "M1631.28 154.688 L1745.8 154.688 L1745.8 113.216 L1631.28 113.216 L1631.28 154.688  Z\n",
       "  \" fill=\"#009af9\" fill-rule=\"evenodd\" fill-opacity=\"1\"/>\n",
       "<polyline clip-path=\"url(#clip140)\" style=\"stroke:#000000; stroke-linecap:butt; stroke-linejoin:round; stroke-width:4; stroke-opacity:1; fill:none\" points=\"\n",
       "  1631.28,154.688 1745.8,154.688 1745.8,113.216 1631.28,113.216 1631.28,154.688 \n",
       "  \"/>\n",
       "<path clip-path=\"url(#clip140)\" d=\"M1778.73 153.639 Q1776.93 158.269 1775.21 159.681 Q1773.5 161.093 1770.63 161.093 L1767.23 161.093 L1767.23 157.528 L1769.73 157.528 Q1771.49 157.528 1772.46 156.695 Q1773.43 155.861 1774.61 152.759 L1775.37 150.815 L1764.89 125.306 L1769.4 125.306 L1777.5 145.583 L1785.61 125.306 L1790.12 125.306 L1778.73 153.639 Z\" fill=\"#000000\" fill-rule=\"evenodd\" fill-opacity=\"1\" /><path clip-path=\"url(#clip140)\" d=\"M1797.41 147.296 L1805.05 147.296 L1805.05 120.931 L1796.74 122.597 L1796.74 118.338 L1805 116.672 L1809.68 116.672 L1809.68 147.296 L1817.32 147.296 L1817.32 151.232 L1797.41 151.232 L1797.41 147.296 Z\" fill=\"#000000\" fill-rule=\"evenodd\" fill-opacity=\"1\" /></svg>\n"
      ]
     },
     "execution_count": 130,
     "metadata": {},
     "output_type": "execute_result"
    }
   ],
   "source": [
    "import Distributions\n",
    "sampler_r = sampler(r, Distributions.Gamma)\n",
    "plt = histogram(rand(sampler_r, 10000), nbins=50)\n",
    "savefig(\"gamma_sampler.png\")\n",
    "plt"
   ]
  },
  {
   "cell_type": "markdown",
   "metadata": {},
   "source": [
    "![](gamma_sampler.png)"
   ]
  },
  {
   "cell_type": "markdown",
   "metadata": {},
   "source": [
    "The second parameter that we'll add to this is *nominal* (finite) and, by\n",
    "default, will be sampled uniformly. Since it is nominal, we specify\n",
    "`values` instead of `upper` and `lower` bounds:"
   ]
  },
  {
   "cell_type": "code",
   "execution_count": 131,
   "metadata": {},
   "outputs": [
    {
     "data": {
      "text/plain": [
       "NominalRange(continuous_encoder.one_hot_ordered_factors = true, false)"
      ]
     },
     "execution_count": 131,
     "metadata": {},
     "output_type": "execute_result"
    }
   ],
   "source": [
    "s  = range(model, :(continuous_encoder.one_hot_ordered_factors),\n",
    "           values = [true, false])"
   ]
  },
  {
   "cell_type": "markdown",
   "metadata": {},
   "source": [
    "#### The tuning wrapper"
   ]
  },
  {
   "cell_type": "markdown",
   "metadata": {},
   "source": [
    "Now for the wrapper, which is an instance of `TunedModel`:"
   ]
  },
  {
   "cell_type": "code",
   "execution_count": 132,
   "metadata": {},
   "outputs": [
    {
     "data": {
      "text/plain": [
       "ProbabilisticTunedModel(\n",
       "    model = Pipeline330(\n",
       "            standardizer = Standardizer,\n",
       "            continuous_encoder = ContinuousEncoder,\n",
       "            logistic_classifier = LogisticClassifier),\n",
       "    tuning = RandomSearch(\n",
       "            bounded = Distributions.Uniform,\n",
       "            positive_unbounded = Distributions.Gamma,\n",
       "            other = Distributions.Normal,\n",
       "            rng = MersenneTwister(123)),\n",
       "    resampling = CV(\n",
       "            nfolds = 6,\n",
       "            shuffle = false,\n",
       "            rng = Random._GLOBAL_RNG()),\n",
       "    measure = LogLoss(tol = 2.220446049250313e-16),\n",
       "    weights = nothing,\n",
       "    operation = nothing,\n",
       "    range = MLJBase.ParamRange[NumericRange(0.0 ≤ logistic_classifier.lambda ≤ Inf; origin=6.0, unit=5.0) on log10 scale, NominalRange(continuous_encoder.one_hot_ordered_factors = true, false)],\n",
       "    selection_heuristic = MLJTuning.NaiveSelection(nothing),\n",
       "    train_best = true,\n",
       "    repeats = 1,\n",
       "    n = 15,\n",
       "    acceleration = CPU1{Nothing}(nothing),\n",
       "    acceleration_resampling = CPU1{Nothing}(nothing),\n",
       "    check_measure = true,\n",
       "    cache = true)"
      ]
     },
     "execution_count": 132,
     "metadata": {},
     "output_type": "execute_result"
    }
   ],
   "source": [
    "tuned_model = TunedModel(model=model,\n",
    "                         ranges=[r, s],\n",
    "                         resampling=CV(nfolds=6),\n",
    "                         measures=cross_entropy,\n",
    "                         tuning=tuning,\n",
    "                         n=15)"
   ]
  },
  {
   "cell_type": "markdown",
   "metadata": {},
   "source": [
    "We can apply the `fit!/predict` work-flow to `tuned_model` just as\n",
    "for any other model:"
   ]
  },
  {
   "cell_type": "code",
   "execution_count": 133,
   "metadata": {},
   "outputs": [
    {
     "name": "stderr",
     "output_type": "stream",
     "text": [
      "┌ Info: Training Machine{ProbabilisticTunedModel{RandomSearch,…},…}.\n",
      "└ @ MLJBase /Users/anthony/.julia/packages/MLJBase/HZmTU/src/machines.jl:403\n",
      "┌ Info: Attempting to evaluate 15 models.\n",
      "└ @ MLJTuning /Users/anthony/.julia/packages/MLJTuning/efiDR/src/tuned_models.jl:685\n",
      "\u001b[33mEvaluating over 15 metamodels: 100%[=========================] Time: 0:00:03\u001b[39m\n"
     ]
    },
    {
     "data": {
      "text/plain": [
       "3-element MLJBase.UnivariateFiniteVector{Multiclass{3}, Int64, UInt32, Float64}:\n",
       " UnivariateFinite{Multiclass{3}}(1=>0.631, 2=>0.22, 3=>0.149)\n",
       " UnivariateFinite{Multiclass{3}}(1=>0.844, 2=>0.00889, 3=>0.147)\n",
       " UnivariateFinite{Multiclass{3}}(1=>0.967, 2=>0.0128, 3=>0.0199)"
      ]
     },
     "execution_count": 133,
     "metadata": {},
     "output_type": "execute_result"
    }
   ],
   "source": [
    "tuned_mach = machine(tuned_model, X, y);\n",
    "fit!(tuned_mach);\n",
    "predict(tuned_mach, rows=1:3)"
   ]
  },
  {
   "cell_type": "markdown",
   "metadata": {},
   "source": [
    "The outcomes of the tuning can be inspected from a detailed\n",
    "report. For example, we have:"
   ]
  },
  {
   "cell_type": "code",
   "execution_count": 134,
   "metadata": {},
   "outputs": [
    {
     "data": {
      "text/plain": [
       "Pipeline330(\n",
       "    standardizer = Standardizer(\n",
       "            features = Symbol[],\n",
       "            ignore = false,\n",
       "            ordered_factor = false,\n",
       "            count = false),\n",
       "    continuous_encoder = ContinuousEncoder(\n",
       "            drop_last = false,\n",
       "            one_hot_ordered_factors = true),\n",
       "    logistic_classifier = LogisticClassifier(\n",
       "            lambda = 5.100906526305173,\n",
       "            gamma = 0.0,\n",
       "            penalty = :l2,\n",
       "            fit_intercept = true,\n",
       "            penalize_intercept = false,\n",
       "            solver = nothing))"
      ]
     },
     "execution_count": 134,
     "metadata": {},
     "output_type": "execute_result"
    }
   ],
   "source": [
    "rep = report(tuned_mach);\n",
    "rep.best_model"
   ]
  },
  {
   "cell_type": "markdown",
   "metadata": {},
   "source": [
    "By default, sampling of a bounded range is uniform. Lets"
   ]
  },
  {
   "cell_type": "markdown",
   "metadata": {},
   "source": [
    "In the special case of two-parameters, you can also plot the results:"
   ]
  },
  {
   "cell_type": "code",
   "execution_count": 135,
   "metadata": {},
   "outputs": [
    {
     "data": {
      "image/svg+xml": [
       "<?xml version=\"1.0\" encoding=\"utf-8\"?>\n",
       "<svg xmlns=\"http://www.w3.org/2000/svg\" xmlns:xlink=\"http://www.w3.org/1999/xlink\" width=\"550\" height=\"500\" viewBox=\"0 0 2200 2000\">\n",
       "<defs>\n",
       "  <clipPath id=\"clip190\">\n",
       "    <rect x=\"0\" y=\"0\" width=\"2200\" height=\"2000\"/>\n",
       "  </clipPath>\n",
       "</defs>\n",
       "<path clip-path=\"url(#clip190)\" d=\"\n",
       "M0 2000 L2200 2000 L2200 0 L0 0  Z\n",
       "  \" fill=\"#ffffff\" fill-rule=\"evenodd\" fill-opacity=\"1\"/>\n",
       "<defs>\n",
       "  <clipPath id=\"clip191\">\n",
       "    <rect x=\"440\" y=\"20\" width=\"1541\" height=\"1541\"/>\n",
       "  </clipPath>\n",
       "</defs>\n",
       "<path clip-path=\"url(#clip190)\" d=\"\n",
       "M294.984 821.232 L1052.76 821.232 L1052.76 47.2441 L294.984 47.2441  Z\n",
       "  \" fill=\"#ffffff\" fill-rule=\"evenodd\" fill-opacity=\"1\"/>\n",
       "<defs>\n",
       "  <clipPath id=\"clip192\">\n",
       "    <rect x=\"294\" y=\"47\" width=\"759\" height=\"775\"/>\n",
       "  </clipPath>\n",
       "</defs>\n",
       "<polyline clip-path=\"url(#clip192)\" style=\"stroke:#000000; stroke-linecap:butt; stroke-linejoin:round; stroke-width:2; stroke-opacity:0.1; fill:none\" points=\"\n",
       "  316.43,821.232 316.43,47.2441 \n",
       "  \"/>\n",
       "<polyline clip-path=\"url(#clip192)\" style=\"stroke:#000000; stroke-linecap:butt; stroke-linejoin:round; stroke-width:2; stroke-opacity:0.1; fill:none\" points=\"\n",
       "  1031.31,821.232 1031.31,47.2441 \n",
       "  \"/>\n",
       "<polyline clip-path=\"url(#clip190)\" style=\"stroke:#000000; stroke-linecap:butt; stroke-linejoin:round; stroke-width:4; stroke-opacity:1; fill:none\" points=\"\n",
       "  294.984,821.232 1052.76,821.232 \n",
       "  \"/>\n",
       "<polyline clip-path=\"url(#clip190)\" style=\"stroke:#000000; stroke-linecap:butt; stroke-linejoin:round; stroke-width:4; stroke-opacity:1; fill:none\" points=\"\n",
       "  294.984,47.2441 1052.76,47.2441 \n",
       "  \"/>\n",
       "<polyline clip-path=\"url(#clip190)\" style=\"stroke:#000000; stroke-linecap:butt; stroke-linejoin:round; stroke-width:4; stroke-opacity:1; fill:none\" points=\"\n",
       "  316.43,821.232 316.43,802.334 \n",
       "  \"/>\n",
       "<polyline clip-path=\"url(#clip190)\" style=\"stroke:#000000; stroke-linecap:butt; stroke-linejoin:round; stroke-width:4; stroke-opacity:1; fill:none\" points=\"\n",
       "  1031.31,821.232 1031.31,802.334 \n",
       "  \"/>\n",
       "<path clip-path=\"url(#clip190)\" d=\"M278.352 846.013 L278.352 849.555 L274.278 849.555 Q271.986 849.555 271.083 850.481 Q270.204 851.407 270.204 853.814 L270.204 856.106 L277.218 856.106 L277.218 859.416 L270.204 859.416 L270.204 882.032 L265.921 882.032 L265.921 859.416 L261.847 859.416 L261.847 856.106 L265.921 856.106 L265.921 854.3 Q265.921 849.972 267.935 848.004 Q269.949 846.013 274.324 846.013 L278.352 846.013 Z\" fill=\"#000000\" fill-rule=\"evenodd\" fill-opacity=\"1\" /><path clip-path=\"url(#clip190)\" d=\"M293.699 868.999 Q288.537 868.999 286.546 870.18 Q284.555 871.36 284.555 874.208 Q284.555 876.476 286.037 877.819 Q287.542 879.138 290.111 879.138 Q293.653 879.138 295.782 876.638 Q297.935 874.115 297.935 869.948 L297.935 868.999 L293.699 868.999 M302.194 867.24 L302.194 882.032 L297.935 882.032 L297.935 878.097 Q296.477 880.458 294.301 881.592 Q292.125 882.703 288.977 882.703 Q284.995 882.703 282.634 880.481 Q280.296 878.235 280.296 874.485 Q280.296 870.11 283.213 867.888 Q286.153 865.666 291.963 865.666 L297.935 865.666 L297.935 865.249 Q297.935 862.31 295.991 860.712 Q294.069 859.092 290.574 859.092 Q288.352 859.092 286.245 859.624 Q284.139 860.157 282.194 861.222 L282.194 857.286 Q284.532 856.384 286.731 855.944 Q288.93 855.481 291.014 855.481 Q296.639 855.481 299.416 858.398 Q302.194 861.314 302.194 867.24 Z\" fill=\"#000000\" fill-rule=\"evenodd\" fill-opacity=\"1\" /><path clip-path=\"url(#clip190)\" d=\"M310.967 846.013 L315.227 846.013 L315.227 882.032 L310.967 882.032 L310.967 846.013 Z\" fill=\"#000000\" fill-rule=\"evenodd\" fill-opacity=\"1\" /><path clip-path=\"url(#clip190)\" d=\"M340.666 856.87 L340.666 860.898 Q338.861 859.972 336.916 859.509 Q334.972 859.046 332.889 859.046 Q329.717 859.046 328.12 860.018 Q326.546 860.99 326.546 862.935 Q326.546 864.416 327.68 865.273 Q328.814 866.106 332.24 866.87 L333.699 867.194 Q338.236 868.166 340.134 869.948 Q342.055 871.708 342.055 874.879 Q342.055 878.49 339.185 880.596 Q336.338 882.703 331.338 882.703 Q329.254 882.703 326.986 882.286 Q324.74 881.893 322.24 881.083 L322.24 876.684 Q324.602 877.911 326.893 878.536 Q329.185 879.138 331.43 879.138 Q334.439 879.138 336.06 878.12 Q337.68 877.078 337.68 875.203 Q337.68 873.467 336.5 872.541 Q335.342 871.615 331.384 870.759 L329.902 870.411 Q325.944 869.578 324.185 867.865 Q322.426 866.129 322.426 863.12 Q322.426 859.462 325.018 857.472 Q327.611 855.481 332.379 855.481 Q334.74 855.481 336.824 855.828 Q338.907 856.175 340.666 856.87 Z\" fill=\"#000000\" fill-rule=\"evenodd\" fill-opacity=\"1\" /><path clip-path=\"url(#clip190)\" d=\"M371.013 868.004 L371.013 870.087 L351.43 870.087 Q351.708 874.485 354.069 876.8 Q356.453 879.092 360.689 879.092 Q363.143 879.092 365.435 878.49 Q367.749 877.888 370.018 876.684 L370.018 880.712 Q367.726 881.684 365.319 882.194 Q362.912 882.703 360.435 882.703 Q354.231 882.703 350.597 879.092 Q346.986 875.481 346.986 869.323 Q346.986 862.958 350.412 859.231 Q353.861 855.481 359.694 855.481 Q364.925 855.481 367.958 858.861 Q371.013 862.217 371.013 868.004 M366.754 866.754 Q366.708 863.259 364.787 861.175 Q362.888 859.092 359.74 859.092 Q356.175 859.092 354.023 861.106 Q351.893 863.12 351.569 866.777 L366.754 866.754 Z\" fill=\"#000000\" fill-rule=\"evenodd\" fill-opacity=\"1\" /><path clip-path=\"url(#clip190)\" d=\"M991.969 848.745 L991.969 856.106 L1000.74 856.106 L1000.74 859.416 L991.969 859.416 L991.969 873.49 Q991.969 876.661 992.826 877.564 Q993.706 878.467 996.368 878.467 L1000.74 878.467 L1000.74 882.032 L996.368 882.032 Q991.437 882.032 989.562 880.203 Q987.687 878.351 987.687 873.49 L987.687 859.416 L984.562 859.416 L984.562 856.106 L987.687 856.106 L987.687 848.745 L991.969 848.745 Z\" fill=\"#000000\" fill-rule=\"evenodd\" fill-opacity=\"1\" /><path clip-path=\"url(#clip190)\" d=\"M1021.37 860.087 Q1020.65 859.671 1019.79 859.486 Q1018.96 859.277 1017.94 859.277 Q1014.33 859.277 1012.39 861.638 Q1010.46 863.976 1010.46 868.374 L1010.46 882.032 L1006.18 882.032 L1006.18 856.106 L1010.46 856.106 L1010.46 860.134 Q1011.81 857.773 1013.96 856.638 Q1016.11 855.481 1019.19 855.481 Q1019.63 855.481 1020.16 855.55 Q1020.7 855.597 1021.34 855.712 L1021.37 860.087 Z\" fill=\"#000000\" fill-rule=\"evenodd\" fill-opacity=\"1\" /><path clip-path=\"url(#clip190)\" d=\"M1025.4 871.8 L1025.4 856.106 L1029.65 856.106 L1029.65 871.638 Q1029.65 875.319 1031.09 877.171 Q1032.52 878.999 1035.4 878.999 Q1038.84 878.999 1040.83 876.8 Q1042.85 874.601 1042.85 870.805 L1042.85 856.106 L1047.11 856.106 L1047.11 882.032 L1042.85 882.032 L1042.85 878.05 Q1041.3 880.411 1039.24 881.569 Q1037.2 882.703 1034.49 882.703 Q1030.02 882.703 1027.71 879.925 Q1025.4 877.147 1025.4 871.8 M1036.11 855.481 L1036.11 855.481 Z\" fill=\"#000000\" fill-rule=\"evenodd\" fill-opacity=\"1\" /><path clip-path=\"url(#clip190)\" d=\"M1078.06 868.004 L1078.06 870.087 L1058.47 870.087 Q1058.75 874.485 1061.11 876.8 Q1063.5 879.092 1067.73 879.092 Q1070.19 879.092 1072.48 878.49 Q1074.79 877.888 1077.06 876.684 L1077.06 880.712 Q1074.77 881.684 1072.36 882.194 Q1069.96 882.703 1067.48 882.703 Q1061.27 882.703 1057.64 879.092 Q1054.03 875.481 1054.03 869.323 Q1054.03 862.958 1057.46 859.231 Q1060.9 855.481 1066.74 855.481 Q1071.97 855.481 1075 858.861 Q1078.06 862.217 1078.06 868.004 M1073.8 866.754 Q1073.75 863.259 1071.83 861.175 Q1069.93 859.092 1066.78 859.092 Q1063.22 859.092 1061.07 861.106 Q1058.94 863.12 1058.61 866.777 L1073.8 866.754 Z\" fill=\"#000000\" fill-rule=\"evenodd\" fill-opacity=\"1\" /><polyline clip-path=\"url(#clip192)\" style=\"stroke:#000000; stroke-linecap:butt; stroke-linejoin:round; stroke-width:2; stroke-opacity:0.1; fill:none\" points=\"\n",
       "  294.984,713.573 1052.76,713.573 \n",
       "  \"/>\n",
       "<polyline clip-path=\"url(#clip192)\" style=\"stroke:#000000; stroke-linecap:butt; stroke-linejoin:round; stroke-width:2; stroke-opacity:0.1; fill:none\" points=\"\n",
       "  294.984,597.975 1052.76,597.975 \n",
       "  \"/>\n",
       "<polyline clip-path=\"url(#clip192)\" style=\"stroke:#000000; stroke-linecap:butt; stroke-linejoin:round; stroke-width:2; stroke-opacity:0.1; fill:none\" points=\"\n",
       "  294.984,482.377 1052.76,482.377 \n",
       "  \"/>\n",
       "<polyline clip-path=\"url(#clip192)\" style=\"stroke:#000000; stroke-linecap:butt; stroke-linejoin:round; stroke-width:2; stroke-opacity:0.1; fill:none\" points=\"\n",
       "  294.984,366.779 1052.76,366.779 \n",
       "  \"/>\n",
       "<polyline clip-path=\"url(#clip192)\" style=\"stroke:#000000; stroke-linecap:butt; stroke-linejoin:round; stroke-width:2; stroke-opacity:0.1; fill:none\" points=\"\n",
       "  294.984,251.182 1052.76,251.182 \n",
       "  \"/>\n",
       "<polyline clip-path=\"url(#clip192)\" style=\"stroke:#000000; stroke-linecap:butt; stroke-linejoin:round; stroke-width:2; stroke-opacity:0.1; fill:none\" points=\"\n",
       "  294.984,135.584 1052.76,135.584 \n",
       "  \"/>\n",
       "<polyline clip-path=\"url(#clip190)\" style=\"stroke:#000000; stroke-linecap:butt; stroke-linejoin:round; stroke-width:4; stroke-opacity:1; fill:none\" points=\"\n",
       "  294.984,821.232 294.984,47.2441 \n",
       "  \"/>\n",
       "<polyline clip-path=\"url(#clip190)\" style=\"stroke:#000000; stroke-linecap:butt; stroke-linejoin:round; stroke-width:4; stroke-opacity:1; fill:none\" points=\"\n",
       "  1052.76,821.232 1052.76,47.2441 \n",
       "  \"/>\n",
       "<polyline clip-path=\"url(#clip190)\" style=\"stroke:#000000; stroke-linecap:butt; stroke-linejoin:round; stroke-width:4; stroke-opacity:1; fill:none\" points=\"\n",
       "  294.984,713.573 313.882,713.573 \n",
       "  \"/>\n",
       "<polyline clip-path=\"url(#clip190)\" style=\"stroke:#000000; stroke-linecap:butt; stroke-linejoin:round; stroke-width:4; stroke-opacity:1; fill:none\" points=\"\n",
       "  294.984,597.975 313.882,597.975 \n",
       "  \"/>\n",
       "<polyline clip-path=\"url(#clip190)\" style=\"stroke:#000000; stroke-linecap:butt; stroke-linejoin:round; stroke-width:4; stroke-opacity:1; fill:none\" points=\"\n",
       "  294.984,482.377 313.882,482.377 \n",
       "  \"/>\n",
       "<polyline clip-path=\"url(#clip190)\" style=\"stroke:#000000; stroke-linecap:butt; stroke-linejoin:round; stroke-width:4; stroke-opacity:1; fill:none\" points=\"\n",
       "  294.984,366.779 313.882,366.779 \n",
       "  \"/>\n",
       "<polyline clip-path=\"url(#clip190)\" style=\"stroke:#000000; stroke-linecap:butt; stroke-linejoin:round; stroke-width:4; stroke-opacity:1; fill:none\" points=\"\n",
       "  294.984,251.182 313.882,251.182 \n",
       "  \"/>\n",
       "<polyline clip-path=\"url(#clip190)\" style=\"stroke:#000000; stroke-linecap:butt; stroke-linejoin:round; stroke-width:4; stroke-opacity:1; fill:none\" points=\"\n",
       "  294.984,135.584 313.882,135.584 \n",
       "  \"/>\n",
       "<path clip-path=\"url(#clip190)\" d=\"M144.485 699.372 Q140.873 699.372 139.045 702.937 Q137.239 706.478 137.239 713.608 Q137.239 720.714 139.045 724.279 Q140.873 727.821 144.485 727.821 Q148.119 727.821 149.924 724.279 Q151.753 720.714 151.753 713.608 Q151.753 706.478 149.924 702.937 Q148.119 699.372 144.485 699.372 M144.485 695.668 Q150.295 695.668 153.35 700.275 Q156.429 704.858 156.429 713.608 Q156.429 722.335 153.35 726.941 Q150.295 731.524 144.485 731.524 Q138.674 731.524 135.596 726.941 Q132.54 722.335 132.54 713.608 Q132.54 704.858 135.596 700.275 Q138.674 695.668 144.485 695.668 Z\" fill=\"#000000\" fill-rule=\"evenodd\" fill-opacity=\"1\" /><path clip-path=\"url(#clip190)\" d=\"M164.646 724.974 L169.531 724.974 L169.531 730.853 L164.646 730.853 L164.646 724.974 Z\" fill=\"#000000\" fill-rule=\"evenodd\" fill-opacity=\"1\" /><path clip-path=\"url(#clip190)\" d=\"M190.294 711.71 Q187.146 711.71 185.295 713.863 Q183.466 716.015 183.466 719.765 Q183.466 723.492 185.295 725.668 Q187.146 727.821 190.294 727.821 Q193.443 727.821 195.271 725.668 Q197.123 723.492 197.123 719.765 Q197.123 716.015 195.271 713.863 Q193.443 711.71 190.294 711.71 M199.577 697.057 L199.577 701.316 Q197.818 700.483 196.012 700.043 Q194.23 699.603 192.47 699.603 Q187.841 699.603 185.387 702.728 Q182.957 705.853 182.609 712.173 Q183.975 710.159 186.035 709.094 Q188.095 708.006 190.572 708.006 Q195.781 708.006 198.79 711.177 Q201.822 714.325 201.822 719.765 Q201.822 725.089 198.674 728.307 Q195.526 731.524 190.294 731.524 Q184.299 731.524 181.128 726.941 Q177.957 722.335 177.957 713.608 Q177.957 705.413 181.845 700.552 Q185.734 695.668 192.285 695.668 Q194.044 695.668 195.827 696.015 Q197.632 696.363 199.577 697.057 Z\" fill=\"#000000\" fill-rule=\"evenodd\" fill-opacity=\"1\" /><path clip-path=\"url(#clip190)\" d=\"M219.878 714.441 Q216.544 714.441 214.623 716.224 Q212.725 718.006 212.725 721.131 Q212.725 724.256 214.623 726.038 Q216.544 727.821 219.878 727.821 Q223.211 727.821 225.132 726.038 Q227.054 724.233 227.054 721.131 Q227.054 718.006 225.132 716.224 Q223.234 714.441 219.878 714.441 M215.202 712.45 Q212.193 711.71 210.503 709.65 Q208.836 707.589 208.836 704.626 Q208.836 700.483 211.776 698.076 Q214.739 695.668 219.878 695.668 Q225.04 695.668 227.979 698.076 Q230.919 700.483 230.919 704.626 Q230.919 707.589 229.229 709.65 Q227.563 711.71 224.577 712.45 Q227.956 713.238 229.831 715.529 Q231.729 717.821 231.729 721.131 Q231.729 726.154 228.651 728.839 Q225.595 731.524 219.878 731.524 Q214.16 731.524 211.081 728.839 Q208.026 726.154 208.026 721.131 Q208.026 717.821 209.924 715.529 Q211.822 713.238 215.202 712.45 M213.489 705.066 Q213.489 707.751 215.155 709.256 Q216.845 710.761 219.878 710.761 Q222.887 710.761 224.577 709.256 Q226.29 707.751 226.29 705.066 Q226.29 702.381 224.577 700.876 Q222.887 699.372 219.878 699.372 Q216.845 699.372 215.155 700.876 Q213.489 702.381 213.489 705.066 Z\" fill=\"#000000\" fill-rule=\"evenodd\" fill-opacity=\"1\" /><path clip-path=\"url(#clip190)\" d=\"M250.04 699.372 Q246.428 699.372 244.6 702.937 Q242.794 706.478 242.794 713.608 Q242.794 720.714 244.6 724.279 Q246.428 727.821 250.04 727.821 Q253.674 727.821 255.479 724.279 Q257.308 720.714 257.308 713.608 Q257.308 706.478 255.479 702.937 Q253.674 699.372 250.04 699.372 M250.04 695.668 Q255.85 695.668 258.905 700.275 Q261.984 704.858 261.984 713.608 Q261.984 722.335 258.905 726.941 Q255.85 731.524 250.04 731.524 Q244.229 731.524 241.151 726.941 Q238.095 722.335 238.095 713.608 Q238.095 704.858 241.151 700.275 Q244.229 695.668 250.04 695.668 Z\" fill=\"#000000\" fill-rule=\"evenodd\" fill-opacity=\"1\" /><path clip-path=\"url(#clip190)\" d=\"M145.48 583.774 Q141.869 583.774 140.04 587.339 Q138.235 590.88 138.235 598.01 Q138.235 605.116 140.04 608.681 Q141.869 612.223 145.48 612.223 Q149.114 612.223 150.92 608.681 Q152.748 605.116 152.748 598.01 Q152.748 590.88 150.92 587.339 Q149.114 583.774 145.48 583.774 M145.48 580.07 Q151.29 580.07 154.346 584.677 Q157.424 589.26 157.424 598.01 Q157.424 606.737 154.346 611.343 Q151.29 615.927 145.48 615.927 Q139.67 615.927 136.591 611.343 Q133.536 606.737 133.536 598.01 Q133.536 589.26 136.591 584.677 Q139.67 580.07 145.48 580.07 Z\" fill=\"#000000\" fill-rule=\"evenodd\" fill-opacity=\"1\" /><path clip-path=\"url(#clip190)\" d=\"M165.642 609.376 L170.526 609.376 L170.526 615.255 L165.642 615.255 L165.642 609.376 Z\" fill=\"#000000\" fill-rule=\"evenodd\" fill-opacity=\"1\" /><path clip-path=\"url(#clip190)\" d=\"M191.29 596.112 Q188.142 596.112 186.29 598.265 Q184.461 600.417 184.461 604.167 Q184.461 607.894 186.29 610.07 Q188.142 612.223 191.29 612.223 Q194.438 612.223 196.267 610.07 Q198.119 607.894 198.119 604.167 Q198.119 600.417 196.267 598.265 Q194.438 596.112 191.29 596.112 M200.572 581.459 L200.572 585.718 Q198.813 584.885 197.007 584.445 Q195.225 584.005 193.466 584.005 Q188.836 584.005 186.382 587.13 Q183.952 590.255 183.605 596.575 Q184.97 594.561 187.031 593.496 Q189.091 592.408 191.568 592.408 Q196.776 592.408 199.785 595.579 Q202.818 598.728 202.818 604.167 Q202.818 609.491 199.669 612.709 Q196.521 615.927 191.29 615.927 Q185.295 615.927 182.123 611.343 Q178.952 606.737 178.952 598.01 Q178.952 589.816 182.841 584.954 Q186.73 580.07 193.281 580.07 Q195.04 580.07 196.822 580.417 Q198.628 580.765 200.572 581.459 Z\" fill=\"#000000\" fill-rule=\"evenodd\" fill-opacity=\"1\" /><path clip-path=\"url(#clip190)\" d=\"M220.873 598.843 Q217.54 598.843 215.618 600.626 Q213.72 602.408 213.72 605.533 Q213.72 608.658 215.618 610.44 Q217.54 612.223 220.873 612.223 Q224.206 612.223 226.128 610.44 Q228.049 608.635 228.049 605.533 Q228.049 602.408 226.128 600.626 Q224.229 598.843 220.873 598.843 M216.197 596.853 Q213.188 596.112 211.498 594.052 Q209.831 591.991 209.831 589.029 Q209.831 584.885 212.771 582.478 Q215.734 580.07 220.873 580.07 Q226.035 580.07 228.975 582.478 Q231.915 584.885 231.915 589.029 Q231.915 591.991 230.225 594.052 Q228.558 596.112 225.572 596.853 Q228.952 597.64 230.827 599.931 Q232.725 602.223 232.725 605.533 Q232.725 610.556 229.646 613.241 Q226.591 615.927 220.873 615.927 Q215.155 615.927 212.077 613.241 Q209.021 610.556 209.021 605.533 Q209.021 602.223 210.919 599.931 Q212.818 597.64 216.197 596.853 M214.484 589.468 Q214.484 592.154 216.151 593.658 Q217.841 595.163 220.873 595.163 Q223.882 595.163 225.572 593.658 Q227.285 592.154 227.285 589.468 Q227.285 586.783 225.572 585.279 Q223.882 583.774 220.873 583.774 Q217.841 583.774 216.151 585.279 Q214.484 586.783 214.484 589.468 Z\" fill=\"#000000\" fill-rule=\"evenodd\" fill-opacity=\"1\" /><path clip-path=\"url(#clip190)\" d=\"M241.081 580.695 L259.438 580.695 L259.438 584.63 L245.364 584.63 L245.364 593.103 Q246.382 592.755 247.401 592.593 Q248.419 592.408 249.438 592.408 Q255.225 592.408 258.604 595.579 Q261.984 598.751 261.984 604.167 Q261.984 609.746 258.512 612.848 Q255.04 615.927 248.72 615.927 Q246.544 615.927 244.276 615.556 Q242.03 615.186 239.623 614.445 L239.623 609.746 Q241.706 610.88 243.928 611.436 Q246.151 611.991 248.627 611.991 Q252.632 611.991 254.97 609.885 Q257.308 607.778 257.308 604.167 Q257.308 600.556 254.97 598.45 Q252.632 596.343 248.627 596.343 Q246.753 596.343 244.878 596.76 Q243.026 597.177 241.081 598.056 L241.081 580.695 Z\" fill=\"#000000\" fill-rule=\"evenodd\" fill-opacity=\"1\" /><path clip-path=\"url(#clip190)\" d=\"M144.485 468.176 Q140.873 468.176 139.045 471.741 Q137.239 475.282 137.239 482.412 Q137.239 489.519 139.045 493.083 Q140.873 496.625 144.485 496.625 Q148.119 496.625 149.924 493.083 Q151.753 489.519 151.753 482.412 Q151.753 475.282 149.924 471.741 Q148.119 468.176 144.485 468.176 M144.485 464.472 Q150.295 464.472 153.35 469.079 Q156.429 473.662 156.429 482.412 Q156.429 491.139 153.35 495.745 Q150.295 500.329 144.485 500.329 Q138.674 500.329 135.596 495.745 Q132.54 491.139 132.54 482.412 Q132.54 473.662 135.596 469.079 Q138.674 464.472 144.485 464.472 Z\" fill=\"#000000\" fill-rule=\"evenodd\" fill-opacity=\"1\" /><path clip-path=\"url(#clip190)\" d=\"M164.646 493.778 L169.531 493.778 L169.531 499.657 L164.646 499.657 L164.646 493.778 Z\" fill=\"#000000\" fill-rule=\"evenodd\" fill-opacity=\"1\" /><path clip-path=\"url(#clip190)\" d=\"M190.294 480.514 Q187.146 480.514 185.295 482.667 Q183.466 484.819 183.466 488.569 Q183.466 492.296 185.295 494.472 Q187.146 496.625 190.294 496.625 Q193.443 496.625 195.271 494.472 Q197.123 492.296 197.123 488.569 Q197.123 484.819 195.271 482.667 Q193.443 480.514 190.294 480.514 M199.577 465.861 L199.577 470.12 Q197.818 469.287 196.012 468.847 Q194.23 468.408 192.47 468.408 Q187.841 468.408 185.387 471.532 Q182.957 474.657 182.609 480.977 Q183.975 478.963 186.035 477.898 Q188.095 476.81 190.572 476.81 Q195.781 476.81 198.79 479.982 Q201.822 483.13 201.822 488.569 Q201.822 493.893 198.674 497.111 Q195.526 500.329 190.294 500.329 Q184.299 500.329 181.128 495.745 Q177.957 491.139 177.957 482.412 Q177.957 474.218 181.845 469.357 Q185.734 464.472 192.285 464.472 Q194.044 464.472 195.827 464.82 Q197.632 465.167 199.577 465.861 Z\" fill=\"#000000\" fill-rule=\"evenodd\" fill-opacity=\"1\" /><path clip-path=\"url(#clip190)\" d=\"M210.017 498.94 L210.017 494.681 Q211.776 495.514 213.581 495.954 Q215.387 496.393 217.123 496.393 Q221.753 496.393 224.183 493.292 Q226.637 490.167 226.984 483.824 Q225.642 485.815 223.581 486.88 Q221.521 487.944 219.021 487.944 Q213.836 487.944 210.804 484.819 Q207.794 481.671 207.794 476.232 Q207.794 470.907 210.943 467.69 Q214.091 464.472 219.322 464.472 Q225.317 464.472 228.466 469.079 Q231.637 473.662 231.637 482.412 Q231.637 490.583 227.748 495.468 Q223.882 500.329 217.331 500.329 Q215.572 500.329 213.767 499.981 Q211.961 499.634 210.017 498.94 M219.322 484.287 Q222.47 484.287 224.299 482.134 Q226.151 479.982 226.151 476.232 Q226.151 472.505 224.299 470.352 Q222.47 468.176 219.322 468.176 Q216.174 468.176 214.322 470.352 Q212.493 472.505 212.493 476.232 Q212.493 479.982 214.322 482.134 Q216.174 484.287 219.322 484.287 Z\" fill=\"#000000\" fill-rule=\"evenodd\" fill-opacity=\"1\" /><path clip-path=\"url(#clip190)\" d=\"M250.04 468.176 Q246.428 468.176 244.6 471.741 Q242.794 475.282 242.794 482.412 Q242.794 489.519 244.6 493.083 Q246.428 496.625 250.04 496.625 Q253.674 496.625 255.479 493.083 Q257.308 489.519 257.308 482.412 Q257.308 475.282 255.479 471.741 Q253.674 468.176 250.04 468.176 M250.04 464.472 Q255.85 464.472 258.905 469.079 Q261.984 473.662 261.984 482.412 Q261.984 491.139 258.905 495.745 Q255.85 500.329 250.04 500.329 Q244.229 500.329 241.151 495.745 Q238.095 491.139 238.095 482.412 Q238.095 473.662 241.151 469.079 Q244.229 464.472 250.04 464.472 Z\" fill=\"#000000\" fill-rule=\"evenodd\" fill-opacity=\"1\" /><path clip-path=\"url(#clip190)\" d=\"M145.48 352.578 Q141.869 352.578 140.04 356.143 Q138.235 359.685 138.235 366.814 Q138.235 373.921 140.04 377.485 Q141.869 381.027 145.48 381.027 Q149.114 381.027 150.92 377.485 Q152.748 373.921 152.748 366.814 Q152.748 359.685 150.92 356.143 Q149.114 352.578 145.48 352.578 M145.48 348.874 Q151.29 348.874 154.346 353.481 Q157.424 358.064 157.424 366.814 Q157.424 375.541 154.346 380.147 Q151.29 384.731 145.48 384.731 Q139.67 384.731 136.591 380.147 Q133.536 375.541 133.536 366.814 Q133.536 358.064 136.591 353.481 Q139.67 348.874 145.48 348.874 Z\" fill=\"#000000\" fill-rule=\"evenodd\" fill-opacity=\"1\" /><path clip-path=\"url(#clip190)\" d=\"M165.642 378.18 L170.526 378.18 L170.526 384.059 L165.642 384.059 L165.642 378.18 Z\" fill=\"#000000\" fill-rule=\"evenodd\" fill-opacity=\"1\" /><path clip-path=\"url(#clip190)\" d=\"M191.29 364.916 Q188.142 364.916 186.29 367.069 Q184.461 369.222 184.461 372.972 Q184.461 376.698 186.29 378.874 Q188.142 381.027 191.29 381.027 Q194.438 381.027 196.267 378.874 Q198.119 376.698 198.119 372.972 Q198.119 369.222 196.267 367.069 Q194.438 364.916 191.29 364.916 M200.572 350.263 L200.572 354.523 Q198.813 353.689 197.007 353.249 Q195.225 352.81 193.466 352.81 Q188.836 352.81 186.382 355.935 Q183.952 359.06 183.605 365.379 Q184.97 363.365 187.031 362.3 Q189.091 361.212 191.568 361.212 Q196.776 361.212 199.785 364.384 Q202.818 367.532 202.818 372.972 Q202.818 378.296 199.669 381.513 Q196.521 384.731 191.29 384.731 Q185.295 384.731 182.123 380.147 Q178.952 375.541 178.952 366.814 Q178.952 358.62 182.841 353.759 Q186.73 348.874 193.281 348.874 Q195.04 348.874 196.822 349.222 Q198.628 349.569 200.572 350.263 Z\" fill=\"#000000\" fill-rule=\"evenodd\" fill-opacity=\"1\" /><path clip-path=\"url(#clip190)\" d=\"M211.012 383.342 L211.012 379.083 Q212.771 379.916 214.577 380.356 Q216.382 380.796 218.118 380.796 Q222.748 380.796 225.179 377.694 Q227.632 374.569 227.979 368.226 Q226.637 370.217 224.577 371.282 Q222.517 372.347 220.017 372.347 Q214.831 372.347 211.799 369.222 Q208.79 366.073 208.79 360.634 Q208.79 355.31 211.938 352.092 Q215.086 348.874 220.317 348.874 Q226.313 348.874 229.461 353.481 Q232.632 358.064 232.632 366.814 Q232.632 374.985 228.743 379.87 Q224.878 384.731 218.327 384.731 Q216.567 384.731 214.762 384.384 Q212.956 384.036 211.012 383.342 M220.317 368.689 Q223.466 368.689 225.294 366.536 Q227.146 364.384 227.146 360.634 Q227.146 356.907 225.294 354.754 Q223.466 352.578 220.317 352.578 Q217.169 352.578 215.317 354.754 Q213.489 356.907 213.489 360.634 Q213.489 364.384 215.317 366.536 Q217.169 368.689 220.317 368.689 Z\" fill=\"#000000\" fill-rule=\"evenodd\" fill-opacity=\"1\" /><path clip-path=\"url(#clip190)\" d=\"M241.081 349.499 L259.438 349.499 L259.438 353.435 L245.364 353.435 L245.364 361.907 Q246.382 361.56 247.401 361.398 Q248.419 361.212 249.438 361.212 Q255.225 361.212 258.604 364.384 Q261.984 367.555 261.984 372.972 Q261.984 378.55 258.512 381.652 Q255.04 384.731 248.72 384.731 Q246.544 384.731 244.276 384.36 Q242.03 383.99 239.623 383.249 L239.623 378.55 Q241.706 379.684 243.928 380.24 Q246.151 380.796 248.627 380.796 Q252.632 380.796 254.97 378.689 Q257.308 376.583 257.308 372.972 Q257.308 369.36 254.97 367.254 Q252.632 365.147 248.627 365.147 Q246.753 365.147 244.878 365.564 Q243.026 365.981 241.081 366.86 L241.081 349.499 Z\" fill=\"#000000\" fill-rule=\"evenodd\" fill-opacity=\"1\" /><path clip-path=\"url(#clip190)\" d=\"M144.485 236.98 Q140.873 236.98 139.045 240.545 Q137.239 244.087 137.239 251.216 Q137.239 258.323 139.045 261.887 Q140.873 265.429 144.485 265.429 Q148.119 265.429 149.924 261.887 Q151.753 258.323 151.753 251.216 Q151.753 244.087 149.924 240.545 Q148.119 236.98 144.485 236.98 M144.485 233.277 Q150.295 233.277 153.35 237.883 Q156.429 242.466 156.429 251.216 Q156.429 259.943 153.35 264.55 Q150.295 269.133 144.485 269.133 Q138.674 269.133 135.596 264.55 Q132.54 259.943 132.54 251.216 Q132.54 242.466 135.596 237.883 Q138.674 233.277 144.485 233.277 Z\" fill=\"#000000\" fill-rule=\"evenodd\" fill-opacity=\"1\" /><path clip-path=\"url(#clip190)\" d=\"M164.646 262.582 L169.531 262.582 L169.531 268.462 L164.646 268.462 L164.646 262.582 Z\" fill=\"#000000\" fill-rule=\"evenodd\" fill-opacity=\"1\" /><path clip-path=\"url(#clip190)\" d=\"M178.535 233.902 L200.757 233.902 L200.757 235.892 L188.211 268.462 L183.327 268.462 L195.132 237.837 L178.535 237.837 L178.535 233.902 Z\" fill=\"#000000\" fill-rule=\"evenodd\" fill-opacity=\"1\" /><path clip-path=\"url(#clip190)\" d=\"M219.878 236.98 Q216.267 236.98 214.438 240.545 Q212.632 244.087 212.632 251.216 Q212.632 258.323 214.438 261.887 Q216.267 265.429 219.878 265.429 Q223.512 265.429 225.317 261.887 Q227.146 258.323 227.146 251.216 Q227.146 244.087 225.317 240.545 Q223.512 236.98 219.878 236.98 M219.878 233.277 Q225.688 233.277 228.743 237.883 Q231.822 242.466 231.822 251.216 Q231.822 259.943 228.743 264.55 Q225.688 269.133 219.878 269.133 Q214.067 269.133 210.989 264.55 Q207.933 259.943 207.933 251.216 Q207.933 242.466 210.989 237.883 Q214.067 233.277 219.878 233.277 Z\" fill=\"#000000\" fill-rule=\"evenodd\" fill-opacity=\"1\" /><path clip-path=\"url(#clip190)\" d=\"M250.04 236.98 Q246.428 236.98 244.6 240.545 Q242.794 244.087 242.794 251.216 Q242.794 258.323 244.6 261.887 Q246.428 265.429 250.04 265.429 Q253.674 265.429 255.479 261.887 Q257.308 258.323 257.308 251.216 Q257.308 244.087 255.479 240.545 Q253.674 236.98 250.04 236.98 M250.04 233.277 Q255.85 233.277 258.905 237.883 Q261.984 242.466 261.984 251.216 Q261.984 259.943 258.905 264.55 Q255.85 269.133 250.04 269.133 Q244.229 269.133 241.151 264.55 Q238.095 259.943 238.095 251.216 Q238.095 242.466 241.151 237.883 Q244.229 233.277 250.04 233.277 Z\" fill=\"#000000\" fill-rule=\"evenodd\" fill-opacity=\"1\" /><path clip-path=\"url(#clip190)\" d=\"M145.48 121.382 Q141.869 121.382 140.04 124.947 Q138.235 128.489 138.235 135.618 Q138.235 142.725 140.04 146.29 Q141.869 149.831 145.48 149.831 Q149.114 149.831 150.92 146.29 Q152.748 142.725 152.748 135.618 Q152.748 128.489 150.92 124.947 Q149.114 121.382 145.48 121.382 M145.48 117.679 Q151.29 117.679 154.346 122.285 Q157.424 126.868 157.424 135.618 Q157.424 144.345 154.346 148.952 Q151.29 153.535 145.48 153.535 Q139.67 153.535 136.591 148.952 Q133.536 144.345 133.536 135.618 Q133.536 126.868 136.591 122.285 Q139.67 117.679 145.48 117.679 Z\" fill=\"#000000\" fill-rule=\"evenodd\" fill-opacity=\"1\" /><path clip-path=\"url(#clip190)\" d=\"M165.642 146.984 L170.526 146.984 L170.526 152.864 L165.642 152.864 L165.642 146.984 Z\" fill=\"#000000\" fill-rule=\"evenodd\" fill-opacity=\"1\" /><path clip-path=\"url(#clip190)\" d=\"M179.531 118.304 L201.753 118.304 L201.753 120.294 L189.207 152.864 L184.322 152.864 L196.128 122.239 L179.531 122.239 L179.531 118.304 Z\" fill=\"#000000\" fill-rule=\"evenodd\" fill-opacity=\"1\" /><path clip-path=\"url(#clip190)\" d=\"M220.873 121.382 Q217.262 121.382 215.433 124.947 Q213.628 128.489 213.628 135.618 Q213.628 142.725 215.433 146.29 Q217.262 149.831 220.873 149.831 Q224.507 149.831 226.313 146.29 Q228.141 142.725 228.141 135.618 Q228.141 128.489 226.313 124.947 Q224.507 121.382 220.873 121.382 M220.873 117.679 Q226.683 117.679 229.739 122.285 Q232.817 126.868 232.817 135.618 Q232.817 144.345 229.739 148.952 Q226.683 153.535 220.873 153.535 Q215.063 153.535 211.984 148.952 Q208.929 144.345 208.929 135.618 Q208.929 126.868 211.984 122.285 Q215.063 117.679 220.873 117.679 Z\" fill=\"#000000\" fill-rule=\"evenodd\" fill-opacity=\"1\" /><path clip-path=\"url(#clip190)\" d=\"M241.081 118.304 L259.438 118.304 L259.438 122.239 L245.364 122.239 L245.364 130.711 Q246.382 130.364 247.401 130.202 Q248.419 130.017 249.438 130.017 Q255.225 130.017 258.604 133.188 Q261.984 136.359 261.984 141.776 Q261.984 147.354 258.512 150.456 Q255.04 153.535 248.72 153.535 Q246.544 153.535 244.276 153.165 Q242.03 152.794 239.623 152.053 L239.623 147.354 Q241.706 148.489 243.928 149.044 Q246.151 149.6 248.627 149.6 Q252.632 149.6 254.97 147.493 Q257.308 145.387 257.308 141.776 Q257.308 138.165 254.97 136.058 Q252.632 133.952 248.627 133.952 Q246.753 133.952 244.878 134.368 Q243.026 134.785 241.081 135.665 L241.081 118.304 Z\" fill=\"#000000\" fill-rule=\"evenodd\" fill-opacity=\"1\" /><path clip-path=\"url(#clip190)\" d=\"M37.7642 720.106 L37.7642 713.676 L79.8733 713.676 L79.8733 690.537 L85.2842 690.537 L85.2842 720.106 L37.7642 720.106 Z\" fill=\"#000000\" fill-rule=\"evenodd\" fill-opacity=\"1\" /><path clip-path=\"url(#clip190)\" d=\"M53.7421 671.376 Q53.7421 676.087 57.4342 678.824 Q61.0945 681.562 67.492 681.562 Q73.8895 681.562 77.5817 678.856 Q81.2419 676.119 81.2419 671.376 Q81.2419 666.698 77.5498 663.96 Q73.8577 661.223 67.492 661.223 Q61.1581 661.223 57.466 663.96 Q53.7421 666.698 53.7421 671.376 M48.7768 671.376 Q48.7768 663.738 53.7421 659.377 Q58.7073 655.017 67.492 655.017 Q76.2449 655.017 81.2419 659.377 Q86.2072 663.738 86.2072 671.376 Q86.2072 679.047 81.2419 683.408 Q76.2449 687.736 67.492 687.736 Q58.7073 687.736 53.7421 683.408 Q48.7768 679.047 48.7768 671.376 Z\" fill=\"#000000\" fill-rule=\"evenodd\" fill-opacity=\"1\" /><path clip-path=\"url(#clip190)\" d=\"M67.0464 621.851 Q60.6807 621.851 57.1796 624.493 Q53.6784 627.103 53.6784 631.845 Q53.6784 636.556 57.1796 639.198 Q60.6807 641.808 67.0464 641.808 Q73.3803 641.808 76.8814 639.198 Q80.3826 636.556 80.3826 631.845 Q80.3826 627.103 76.8814 624.493 Q73.3803 621.851 67.0464 621.851 M80.86 615.995 Q89.963 615.995 94.3871 620.037 Q98.8431 624.079 98.8431 632.418 Q98.8431 635.506 98.3657 638.243 Q97.9201 640.98 96.9652 643.558 L91.2679 643.558 Q92.6684 640.98 93.3368 638.466 Q94.0052 635.951 94.0052 633.341 Q94.0052 627.58 90.9815 624.716 Q87.9896 621.851 81.9103 621.851 L79.0139 621.851 Q82.165 623.665 83.7246 626.498 Q85.2842 629.331 85.2842 633.278 Q85.2842 639.834 80.2871 643.845 Q75.29 647.855 67.0464 647.855 Q58.771 647.855 53.7739 643.845 Q48.7768 639.834 48.7768 633.278 Q48.7768 629.331 50.3364 626.498 Q51.896 623.665 55.0471 621.851 L49.6362 621.851 L49.6362 615.995 L80.86 615.995 Z\" fill=\"#000000\" fill-rule=\"evenodd\" fill-opacity=\"1\" /><path clip-path=\"url(#clip190)\" d=\"M37.7642 603.677 L37.7642 597.248 L79.8733 597.248 L79.8733 574.108 L85.2842 574.108 L85.2842 603.677 L37.7642 603.677 Z\" fill=\"#000000\" fill-rule=\"evenodd\" fill-opacity=\"1\" /><path clip-path=\"url(#clip190)\" d=\"M53.7421 554.948 Q53.7421 559.658 57.4342 562.395 Q61.0945 565.133 67.492 565.133 Q73.8895 565.133 77.5817 562.427 Q81.2419 559.69 81.2419 554.948 Q81.2419 550.269 77.5498 547.532 Q73.8577 544.794 67.492 544.794 Q61.1581 544.794 57.466 547.532 Q53.7421 550.269 53.7421 554.948 M48.7768 554.948 Q48.7768 547.309 53.7421 542.948 Q58.7073 538.588 67.492 538.588 Q76.2449 538.588 81.2419 542.948 Q86.2072 547.309 86.2072 554.948 Q86.2072 562.618 81.2419 566.979 Q76.2449 571.307 67.492 571.307 Q58.7073 571.307 53.7421 566.979 Q48.7768 562.618 48.7768 554.948 Z\" fill=\"#000000\" fill-rule=\"evenodd\" fill-opacity=\"1\" /><path clip-path=\"url(#clip190)\" d=\"M50.6865 506.154 L56.2247 506.154 Q54.9516 508.637 54.315 511.311 Q53.6784 513.984 53.6784 516.849 Q53.6784 521.209 55.0152 523.406 Q56.352 525.57 59.0256 525.57 Q61.0626 525.57 62.2403 524.01 Q63.3861 522.451 64.4365 517.74 L64.8821 515.735 Q66.2189 509.496 68.6697 506.887 Q71.0886 504.245 75.4491 504.245 Q80.4144 504.245 83.3108 508.191 Q86.2072 512.106 86.2072 518.981 Q86.2072 521.846 85.6343 524.965 Q85.0932 528.052 83.9792 531.49 L77.9318 531.49 Q79.6187 528.243 80.478 525.092 Q81.3056 521.941 81.3056 518.854 Q81.3056 514.716 79.9051 512.488 Q78.4729 510.26 75.8947 510.26 Q73.5076 510.26 72.2345 511.884 Q70.9613 513.475 69.7837 518.918 L69.3062 520.955 Q68.1604 526.397 65.8051 528.816 Q63.418 531.235 59.2802 531.235 Q54.2513 531.235 51.5141 527.671 Q48.7768 524.106 48.7768 517.549 Q48.7768 514.303 49.2543 511.438 Q49.7317 508.573 50.6865 506.154 Z\" fill=\"#000000\" fill-rule=\"evenodd\" fill-opacity=\"1\" /><path clip-path=\"url(#clip190)\" d=\"M50.6865 472.193 L56.2247 472.193 Q54.9516 474.676 54.315 477.35 Q53.6784 480.023 53.6784 482.888 Q53.6784 487.248 55.0152 489.444 Q56.352 491.609 59.0256 491.609 Q61.0626 491.609 62.2403 490.049 Q63.3861 488.49 64.4365 483.779 L64.8821 481.774 Q66.2189 475.535 68.6697 472.925 Q71.0886 470.284 75.4491 470.284 Q80.4144 470.284 83.3108 474.23 Q86.2072 478.145 86.2072 485.02 Q86.2072 487.885 85.6343 491.004 Q85.0932 494.091 83.9792 497.529 L77.9318 497.529 Q79.6187 494.282 80.478 491.131 Q81.3056 487.98 81.3056 484.893 Q81.3056 480.755 79.9051 478.527 Q78.4729 476.299 75.8947 476.299 Q73.5076 476.299 72.2345 477.923 Q70.9613 479.514 69.7837 484.957 L69.3062 486.994 Q68.1604 492.436 65.8051 494.855 Q63.418 497.274 59.2802 497.274 Q54.2513 497.274 51.5141 493.709 Q48.7768 490.145 48.7768 483.588 Q48.7768 480.342 49.2543 477.477 Q49.7317 474.612 50.6865 472.193 Z\" fill=\"#000000\" fill-rule=\"evenodd\" fill-opacity=\"1\" /><path clip-path=\"url(#clip190)\" d=\"M91.3316 433.776 L95.9149 433.776 L95.9149 435.75 Q95.9149 443.675 93.5596 446.38 Q91.2043 449.054 84.1702 449.054 L76.5631 449.054 Q71.757 449.054 69.911 450.773 Q68.0649 452.492 68.0649 457.011 L68.0649 458.953 L63.5134 458.953 L63.5134 457.011 Q63.5134 452.46 61.6992 450.773 Q59.8532 449.054 55.1107 449.054 L47.4719 449.054 Q40.4378 449.054 38.1143 446.38 Q35.759 443.675 35.759 435.75 L35.759 433.776 L40.3104 433.776 L40.3104 435.941 Q40.3104 440.429 41.7109 441.797 Q43.1114 443.166 47.5992 443.166 L55.4927 443.166 Q60.4897 443.166 62.7496 444.63 Q65.0094 446.062 65.8051 449.563 Q66.6645 446.03 68.9243 444.598 Q71.1841 443.166 76.1494 443.166 L84.0428 443.166 Q88.5307 443.166 89.9311 441.797 Q91.3316 440.429 91.3316 435.941 L91.3316 433.776 Z\" fill=\"#000000\" fill-rule=\"evenodd\" fill-opacity=\"1\" /><path clip-path=\"url(#clip190)\" d=\"M37.7642 419.231 L37.7642 391.922 L43.175 391.922 L43.175 412.801 L57.1796 412.801 L57.1796 393.959 L62.5904 393.959 L62.5904 412.801 L85.2842 412.801 L85.2842 419.231 L37.7642 419.231 Z\" fill=\"#000000\" fill-rule=\"evenodd\" fill-opacity=\"1\" /><path clip-path=\"url(#clip190)\" d=\"M35.759 381.991 L35.759 376.135 L85.2842 376.135 L85.2842 381.991 L35.759 381.991 Z\" fill=\"#000000\" fill-rule=\"evenodd\" fill-opacity=\"1\" /><path clip-path=\"url(#clip190)\" d=\"M53.7421 350.067 Q53.7421 354.778 57.4342 357.515 Q61.0945 360.252 67.492 360.252 Q73.8895 360.252 77.5817 357.547 Q81.2419 354.81 81.2419 350.067 Q81.2419 345.389 77.5498 342.651 Q73.8577 339.914 67.492 339.914 Q61.1581 339.914 57.466 342.651 Q53.7421 345.389 53.7421 350.067 M48.7768 350.067 Q48.7768 342.428 53.7421 338.068 Q58.7073 333.707 67.492 333.707 Q76.2449 333.707 81.2419 338.068 Q86.2072 342.428 86.2072 350.067 Q86.2072 357.738 81.2419 362.099 Q76.2449 366.427 67.492 366.427 Q58.7073 366.427 53.7421 362.099 Q48.7768 357.738 48.7768 350.067 Z\" fill=\"#000000\" fill-rule=\"evenodd\" fill-opacity=\"1\" /><path clip-path=\"url(#clip190)\" d=\"M67.3647 307.799 Q67.3647 314.897 68.9879 317.634 Q70.6112 320.371 74.5261 320.371 Q77.6453 320.371 79.4914 318.334 Q81.3056 316.265 81.3056 312.732 Q81.3056 307.863 77.8681 304.934 Q74.3988 301.974 68.6697 301.974 L67.3647 301.974 L67.3647 307.799 M64.9457 296.118 L85.2842 296.118 L85.2842 301.974 L79.8733 301.974 Q83.1198 303.98 84.6794 306.971 Q86.2072 309.963 86.2072 314.292 Q86.2072 319.767 83.1516 323.013 Q80.0643 326.228 74.9081 326.228 Q68.8925 326.228 65.8369 322.217 Q62.7814 318.175 62.7814 310.186 L62.7814 301.974 L62.2085 301.974 Q58.1662 301.974 55.9701 304.648 Q53.7421 307.29 53.7421 312.096 Q53.7421 315.151 54.4741 318.048 Q55.2062 320.944 56.6703 323.618 L51.2595 323.618 Q50.0181 320.403 49.4134 317.379 Q48.7768 314.356 48.7768 311.491 Q48.7768 303.757 52.7872 299.937 Q56.7976 296.118 64.9457 296.118 Z\" fill=\"#000000\" fill-rule=\"evenodd\" fill-opacity=\"1\" /><path clip-path=\"url(#clip190)\" d=\"M39.5147 278.262 L49.6362 278.262 L49.6362 266.199 L54.1877 266.199 L54.1877 278.262 L73.5394 278.262 Q77.8999 278.262 79.1413 277.085 Q80.3826 275.875 80.3826 272.215 L80.3826 266.199 L85.2842 266.199 L85.2842 272.215 Q85.2842 278.994 82.7697 281.572 Q80.2234 284.15 73.5394 284.15 L54.1877 284.15 L54.1877 288.447 L49.6362 288.447 L49.6362 284.15 L39.5147 284.15 L39.5147 278.262 Z\" fill=\"#000000\" fill-rule=\"evenodd\" fill-opacity=\"1\" /><path clip-path=\"url(#clip190)\" d=\"M58.962 243.123 Q58.962 247.452 61.922 249.998 Q64.8821 252.513 70.0383 252.513 Q75.1627 252.513 78.1546 249.998 Q81.1146 247.452 81.1146 243.123 Q81.1146 238.795 78.1546 236.28 Q75.1627 233.734 70.0383 233.734 Q64.8821 233.734 61.922 236.28 Q58.962 238.795 58.962 243.123 M38.8145 230.36 L44.6709 230.36 Q43.5251 232.779 42.9204 235.262 Q42.3156 237.713 42.3156 240.132 Q42.3156 246.497 46.6125 249.871 Q50.9093 253.213 59.5985 253.691 Q56.8294 251.813 55.3653 248.98 Q53.8694 246.147 53.8694 242.742 Q53.8694 235.58 58.2299 231.442 Q62.5586 227.273 70.0383 227.273 Q77.3589 227.273 81.783 231.602 Q86.2072 235.93 86.2072 243.123 Q86.2072 251.367 79.9051 255.728 Q73.5713 260.088 61.5719 260.088 Q50.3046 260.088 43.6206 254.741 Q36.9048 249.394 36.9048 240.386 Q36.9048 237.967 37.3822 235.516 Q37.8596 233.034 38.8145 230.36 Z\" fill=\"#000000\" fill-rule=\"evenodd\" fill-opacity=\"1\" /><path clip-path=\"url(#clip190)\" d=\"M43.366 198.532 L68.7333 214.764 L68.7333 198.532 L43.366 198.532 M37.7642 200.219 L37.7642 192.134 L68.7333 192.134 L68.7333 185.355 L74.0805 185.355 L74.0805 192.134 L85.2842 192.134 L85.2842 198.532 L74.0805 198.532 L74.0805 219.984 L67.8739 219.984 L37.7642 200.219 Z\" fill=\"#000000\" fill-rule=\"evenodd\" fill-opacity=\"1\" /><path clip-path=\"url(#clip190)\" d=\"M91.3316 173.546 L91.3316 171.318 Q91.3316 166.862 89.963 165.525 Q88.5943 164.157 84.0428 164.157 L76.1494 164.157 Q71.1841 164.157 68.9243 162.725 Q66.6645 161.292 65.8051 157.759 Q65.0094 161.292 62.7496 162.725 Q60.4897 164.157 55.4927 164.157 L47.5992 164.157 Q43.0795 164.157 41.7109 165.525 Q40.3104 166.862 40.3104 171.318 L40.3104 173.546 L35.759 173.546 L35.759 171.541 Q35.759 163.616 38.1143 160.974 Q40.4378 158.3 47.4719 158.3 L55.1107 158.3 Q59.8532 158.3 61.6992 156.582 Q63.5134 154.863 63.5134 150.343 L63.5134 148.37 L68.0649 148.37 L68.0649 150.343 Q68.0649 154.863 69.911 156.582 Q71.757 158.3 76.5631 158.3 L84.1702 158.3 Q91.2043 158.3 93.5596 160.974 Q95.9149 163.616 95.9149 171.541 L95.9149 173.546 L91.3316 173.546 Z\" fill=\"#000000\" fill-rule=\"evenodd\" fill-opacity=\"1\" /><circle clip-path=\"url(#clip192)\" cx=\"316.43\" cy=\"373.166\" r=\"14\" fill=\"#009af9\" fill-rule=\"evenodd\" fill-opacity=\"1\" stroke=\"#000000\" stroke-opacity=\"1\" stroke-width=\"4\"/>\n",
       "<circle clip-path=\"url(#clip192)\" cx=\"316.43\" cy=\"320.082\" r=\"14\" fill=\"#009af9\" fill-rule=\"evenodd\" fill-opacity=\"1\" stroke=\"#000000\" stroke-opacity=\"1\" stroke-width=\"4\"/>\n",
       "<circle clip-path=\"url(#clip192)\" cx=\"1031.31\" cy=\"799.326\" r=\"14\" fill=\"#009af9\" fill-rule=\"evenodd\" fill-opacity=\"1\" stroke=\"#000000\" stroke-opacity=\"1\" stroke-width=\"4\"/>\n",
       "<circle clip-path=\"url(#clip192)\" cx=\"316.43\" cy=\"129.189\" r=\"14\" fill=\"#009af9\" fill-rule=\"evenodd\" fill-opacity=\"1\" stroke=\"#000000\" stroke-opacity=\"1\" stroke-width=\"4\"/>\n",
       "<circle clip-path=\"url(#clip192)\" cx=\"1031.31\" cy=\"642.12\" r=\"14\" fill=\"#009af9\" fill-rule=\"evenodd\" fill-opacity=\"1\" stroke=\"#000000\" stroke-opacity=\"1\" stroke-width=\"4\"/>\n",
       "<circle clip-path=\"url(#clip192)\" cx=\"1031.31\" cy=\"69.1494\" r=\"14\" fill=\"#009af9\" fill-rule=\"evenodd\" fill-opacity=\"1\" stroke=\"#000000\" stroke-opacity=\"1\" stroke-width=\"4\"/>\n",
       "<circle clip-path=\"url(#clip192)\" cx=\"316.43\" cy=\"421.352\" r=\"14\" fill=\"#009af9\" fill-rule=\"evenodd\" fill-opacity=\"1\" stroke=\"#000000\" stroke-opacity=\"1\" stroke-width=\"4\"/>\n",
       "<circle clip-path=\"url(#clip192)\" cx=\"316.43\" cy=\"342.998\" r=\"14\" fill=\"#009af9\" fill-rule=\"evenodd\" fill-opacity=\"1\" stroke=\"#000000\" stroke-opacity=\"1\" stroke-width=\"4\"/>\n",
       "<circle clip-path=\"url(#clip192)\" cx=\"1031.31\" cy=\"659.562\" r=\"14\" fill=\"#009af9\" fill-rule=\"evenodd\" fill-opacity=\"1\" stroke=\"#000000\" stroke-opacity=\"1\" stroke-width=\"4\"/>\n",
       "<circle clip-path=\"url(#clip192)\" cx=\"316.43\" cy=\"371.091\" r=\"14\" fill=\"#009af9\" fill-rule=\"evenodd\" fill-opacity=\"1\" stroke=\"#000000\" stroke-opacity=\"1\" stroke-width=\"4\"/>\n",
       "<circle clip-path=\"url(#clip192)\" cx=\"1031.31\" cy=\"791.351\" r=\"14\" fill=\"#009af9\" fill-rule=\"evenodd\" fill-opacity=\"1\" stroke=\"#000000\" stroke-opacity=\"1\" stroke-width=\"4\"/>\n",
       "<circle clip-path=\"url(#clip192)\" cx=\"316.43\" cy=\"403.765\" r=\"14\" fill=\"#009af9\" fill-rule=\"evenodd\" fill-opacity=\"1\" stroke=\"#000000\" stroke-opacity=\"1\" stroke-width=\"4\"/>\n",
       "<circle clip-path=\"url(#clip192)\" cx=\"1031.31\" cy=\"626.175\" r=\"14\" fill=\"#009af9\" fill-rule=\"evenodd\" fill-opacity=\"1\" stroke=\"#000000\" stroke-opacity=\"1\" stroke-width=\"4\"/>\n",
       "<circle clip-path=\"url(#clip192)\" cx=\"1031.31\" cy=\"141.122\" r=\"14\" fill=\"#009af9\" fill-rule=\"evenodd\" fill-opacity=\"1\" stroke=\"#000000\" stroke-opacity=\"1\" stroke-width=\"4\"/>\n",
       "<circle clip-path=\"url(#clip192)\" cx=\"316.43\" cy=\"285.904\" r=\"14\" fill=\"#009af9\" fill-rule=\"evenodd\" fill-opacity=\"1\" stroke=\"#000000\" stroke-opacity=\"1\" stroke-width=\"4\"/>\n",
       "<path clip-path=\"url(#clip190)\" d=\"\n",
       "M1394.98 821.232 L2152.76 821.232 L2152.76 47.2441 L1394.98 47.2441  Z\n",
       "  \" fill=\"#ffffff\" fill-rule=\"evenodd\" fill-opacity=\"1\"/>\n",
       "<defs>\n",
       "  <clipPath id=\"clip193\">\n",
       "    <rect x=\"1394\" y=\"47\" width=\"759\" height=\"775\"/>\n",
       "  </clipPath>\n",
       "</defs>\n",
       "<path clip-path=\"url(#clip190)\" d=\"\n",
       "M294.984 1772.58 L1052.76 1772.58 L1052.76 998.595 L294.984 998.595  Z\n",
       "  \" fill=\"#ffffff\" fill-rule=\"evenodd\" fill-opacity=\"1\"/>\n",
       "<defs>\n",
       "  <clipPath id=\"clip194\">\n",
       "    <rect x=\"294\" y=\"998\" width=\"759\" height=\"775\"/>\n",
       "  </clipPath>\n",
       "</defs>\n",
       "<polyline clip-path=\"url(#clip194)\" style=\"stroke:#000000; stroke-linecap:butt; stroke-linejoin:round; stroke-width:2; stroke-opacity:0.1; fill:none\" points=\"\n",
       "  316.43,1772.58 316.43,998.595 \n",
       "  \"/>\n",
       "<polyline clip-path=\"url(#clip194)\" style=\"stroke:#000000; stroke-linecap:butt; stroke-linejoin:round; stroke-width:2; stroke-opacity:0.1; fill:none\" points=\"\n",
       "  1031.31,1772.58 1031.31,998.595 \n",
       "  \"/>\n",
       "<polyline clip-path=\"url(#clip190)\" style=\"stroke:#000000; stroke-linecap:butt; stroke-linejoin:round; stroke-width:4; stroke-opacity:1; fill:none\" points=\"\n",
       "  294.984,1772.58 1052.76,1772.58 \n",
       "  \"/>\n",
       "<polyline clip-path=\"url(#clip190)\" style=\"stroke:#000000; stroke-linecap:butt; stroke-linejoin:round; stroke-width:4; stroke-opacity:1; fill:none\" points=\"\n",
       "  294.984,998.595 1052.76,998.595 \n",
       "  \"/>\n",
       "<polyline clip-path=\"url(#clip190)\" style=\"stroke:#000000; stroke-linecap:butt; stroke-linejoin:round; stroke-width:4; stroke-opacity:1; fill:none\" points=\"\n",
       "  316.43,1772.58 316.43,1753.69 \n",
       "  \"/>\n",
       "<polyline clip-path=\"url(#clip190)\" style=\"stroke:#000000; stroke-linecap:butt; stroke-linejoin:round; stroke-width:4; stroke-opacity:1; fill:none\" points=\"\n",
       "  1031.31,1772.58 1031.31,1753.69 \n",
       "  \"/>\n",
       "<path clip-path=\"url(#clip190)\" d=\"M278.352 1797.36 L278.352 1800.91 L274.278 1800.91 Q271.986 1800.91 271.083 1801.83 Q270.204 1802.76 270.204 1805.17 L270.204 1807.46 L277.218 1807.46 L277.218 1810.77 L270.204 1810.77 L270.204 1833.38 L265.921 1833.38 L265.921 1810.77 L261.847 1810.77 L261.847 1807.46 L265.921 1807.46 L265.921 1805.65 Q265.921 1801.32 267.935 1799.36 Q269.949 1797.36 274.324 1797.36 L278.352 1797.36 Z\" fill=\"#000000\" fill-rule=\"evenodd\" fill-opacity=\"1\" /><path clip-path=\"url(#clip190)\" d=\"M293.699 1820.35 Q288.537 1820.35 286.546 1821.53 Q284.555 1822.71 284.555 1825.56 Q284.555 1827.83 286.037 1829.17 Q287.542 1830.49 290.111 1830.49 Q293.653 1830.49 295.782 1827.99 Q297.935 1825.47 297.935 1821.3 L297.935 1820.35 L293.699 1820.35 M302.194 1818.59 L302.194 1833.38 L297.935 1833.38 L297.935 1829.45 Q296.477 1831.81 294.301 1832.94 Q292.125 1834.05 288.977 1834.05 Q284.995 1834.05 282.634 1831.83 Q280.296 1829.59 280.296 1825.84 Q280.296 1821.46 283.213 1819.24 Q286.153 1817.02 291.963 1817.02 L297.935 1817.02 L297.935 1816.6 Q297.935 1813.66 295.991 1812.06 Q294.069 1810.44 290.574 1810.44 Q288.352 1810.44 286.245 1810.98 Q284.139 1811.51 282.194 1812.57 L282.194 1808.64 Q284.532 1807.73 286.731 1807.29 Q288.93 1806.83 291.014 1806.83 Q296.639 1806.83 299.416 1809.75 Q302.194 1812.67 302.194 1818.59 Z\" fill=\"#000000\" fill-rule=\"evenodd\" fill-opacity=\"1\" /><path clip-path=\"url(#clip190)\" d=\"M310.967 1797.36 L315.227 1797.36 L315.227 1833.38 L310.967 1833.38 L310.967 1797.36 Z\" fill=\"#000000\" fill-rule=\"evenodd\" fill-opacity=\"1\" /><path clip-path=\"url(#clip190)\" d=\"M340.666 1808.22 L340.666 1812.25 Q338.861 1811.32 336.916 1810.86 Q334.972 1810.4 332.889 1810.4 Q329.717 1810.4 328.12 1811.37 Q326.546 1812.34 326.546 1814.29 Q326.546 1815.77 327.68 1816.62 Q328.814 1817.46 332.24 1818.22 L333.699 1818.54 Q338.236 1819.52 340.134 1821.3 Q342.055 1823.06 342.055 1826.23 Q342.055 1829.84 339.185 1831.95 Q336.338 1834.05 331.338 1834.05 Q329.254 1834.05 326.986 1833.64 Q324.74 1833.24 322.24 1832.43 L322.24 1828.04 Q324.602 1829.26 326.893 1829.89 Q329.185 1830.49 331.43 1830.49 Q334.439 1830.49 336.06 1829.47 Q337.68 1828.43 337.68 1826.55 Q337.68 1824.82 336.5 1823.89 Q335.342 1822.97 331.384 1822.11 L329.902 1821.76 Q325.944 1820.93 324.185 1819.22 Q322.426 1817.48 322.426 1814.47 Q322.426 1810.81 325.018 1808.82 Q327.611 1806.83 332.379 1806.83 Q334.74 1806.83 336.824 1807.18 Q338.907 1807.53 340.666 1808.22 Z\" fill=\"#000000\" fill-rule=\"evenodd\" fill-opacity=\"1\" /><path clip-path=\"url(#clip190)\" d=\"M371.013 1819.36 L371.013 1821.44 L351.43 1821.44 Q351.708 1825.84 354.069 1828.15 Q356.453 1830.44 360.689 1830.44 Q363.143 1830.44 365.435 1829.84 Q367.749 1829.24 370.018 1828.04 L370.018 1832.06 Q367.726 1833.04 365.319 1833.54 Q362.912 1834.05 360.435 1834.05 Q354.231 1834.05 350.597 1830.44 Q346.986 1826.83 346.986 1820.67 Q346.986 1814.31 350.412 1810.58 Q353.861 1806.83 359.694 1806.83 Q364.925 1806.83 367.958 1810.21 Q371.013 1813.57 371.013 1819.36 M366.754 1818.11 Q366.708 1814.61 364.787 1812.53 Q362.888 1810.44 359.74 1810.44 Q356.175 1810.44 354.023 1812.46 Q351.893 1814.47 351.569 1818.13 L366.754 1818.11 Z\" fill=\"#000000\" fill-rule=\"evenodd\" fill-opacity=\"1\" /><path clip-path=\"url(#clip190)\" d=\"M991.969 1800.1 L991.969 1807.46 L1000.74 1807.46 L1000.74 1810.77 L991.969 1810.77 L991.969 1824.84 Q991.969 1828.01 992.826 1828.92 Q993.706 1829.82 996.368 1829.82 L1000.74 1829.82 L1000.74 1833.38 L996.368 1833.38 Q991.437 1833.38 989.562 1831.55 Q987.687 1829.7 987.687 1824.84 L987.687 1810.77 L984.562 1810.77 L984.562 1807.46 L987.687 1807.46 L987.687 1800.1 L991.969 1800.1 Z\" fill=\"#000000\" fill-rule=\"evenodd\" fill-opacity=\"1\" /><path clip-path=\"url(#clip190)\" d=\"M1021.37 1811.44 Q1020.65 1811.02 1019.79 1810.84 Q1018.96 1810.63 1017.94 1810.63 Q1014.33 1810.63 1012.39 1812.99 Q1010.46 1815.33 1010.46 1819.73 L1010.46 1833.38 L1006.18 1833.38 L1006.18 1807.46 L1010.46 1807.46 L1010.46 1811.48 Q1011.81 1809.12 1013.96 1807.99 Q1016.11 1806.83 1019.19 1806.83 Q1019.63 1806.83 1020.16 1806.9 Q1020.7 1806.95 1021.34 1807.06 L1021.37 1811.44 Z\" fill=\"#000000\" fill-rule=\"evenodd\" fill-opacity=\"1\" /><path clip-path=\"url(#clip190)\" d=\"M1025.4 1823.15 L1025.4 1807.46 L1029.65 1807.46 L1029.65 1822.99 Q1029.65 1826.67 1031.09 1828.52 Q1032.52 1830.35 1035.4 1830.35 Q1038.84 1830.35 1040.83 1828.15 Q1042.85 1825.95 1042.85 1822.16 L1042.85 1807.46 L1047.11 1807.46 L1047.11 1833.38 L1042.85 1833.38 L1042.85 1829.4 Q1041.3 1831.76 1039.24 1832.92 Q1037.2 1834.05 1034.49 1834.05 Q1030.02 1834.05 1027.71 1831.28 Q1025.4 1828.5 1025.4 1823.15 M1036.11 1806.83 L1036.11 1806.83 Z\" fill=\"#000000\" fill-rule=\"evenodd\" fill-opacity=\"1\" /><path clip-path=\"url(#clip190)\" d=\"M1078.06 1819.36 L1078.06 1821.44 L1058.47 1821.44 Q1058.75 1825.84 1061.11 1828.15 Q1063.5 1830.44 1067.73 1830.44 Q1070.19 1830.44 1072.48 1829.84 Q1074.79 1829.24 1077.06 1828.04 L1077.06 1832.06 Q1074.77 1833.04 1072.36 1833.54 Q1069.96 1834.05 1067.48 1834.05 Q1061.27 1834.05 1057.64 1830.44 Q1054.03 1826.83 1054.03 1820.67 Q1054.03 1814.31 1057.46 1810.58 Q1060.9 1806.83 1066.74 1806.83 Q1071.97 1806.83 1075 1810.21 Q1078.06 1813.57 1078.06 1819.36 M1073.8 1818.11 Q1073.75 1814.61 1071.83 1812.53 Q1069.93 1810.44 1066.78 1810.44 Q1063.22 1810.44 1061.07 1812.46 Q1058.94 1814.47 1058.61 1818.13 L1073.8 1818.11 Z\" fill=\"#000000\" fill-rule=\"evenodd\" fill-opacity=\"1\" /><path clip-path=\"url(#clip190)\" d=\"M-32.4689 1880.17 L-32.4689 1885.64 Q-34.9515 1884.27 -37.466 1883.6 Q-39.9486 1882.9 -42.4949 1882.9 Q-48.1922 1882.9 -51.3432 1886.53 Q-54.4942 1890.13 -54.4942 1896.65 Q-54.4942 1903.18 -51.3432 1906.81 Q-48.1922 1910.4 -42.4949 1910.4 Q-39.9486 1910.4 -37.466 1909.74 Q-34.9515 1909.04 -32.4689 1907.67 L-32.4689 1913.08 Q-34.9197 1914.22 -37.5615 1914.8 Q-40.1714 1915.37 -43.1315 1915.37 Q-51.1841 1915.37 -55.9265 1910.31 Q-60.669 1905.25 -60.669 1896.65 Q-60.669 1887.93 -55.8947 1882.94 Q-51.0886 1877.94 -42.7495 1877.94 Q-40.0441 1877.94 -37.466 1878.51 Q-34.8879 1879.05 -32.4689 1880.17 Z\" fill=\"#000000\" fill-rule=\"evenodd\" fill-opacity=\"1\" /><path clip-path=\"url(#clip190)\" d=\"M-8.47019 1882.9 Q-13.1808 1882.9 -15.9181 1886.6 Q-18.6553 1890.26 -18.6553 1896.65 Q-18.6553 1903.05 -15.9499 1906.74 Q-13.2126 1910.4 -8.47019 1910.4 Q-3.79139 1910.4 -1.05414 1906.71 Q1.68312 1903.02 1.68312 1896.65 Q1.68312 1890.32 -1.05414 1886.63 Q-3.79139 1882.9 -8.47019 1882.9 M-8.47019 1877.94 Q-0.831339 1877.94 3.52917 1882.9 Q7.88968 1887.87 7.88968 1896.65 Q7.88968 1905.41 3.52917 1910.4 Q-0.831339 1915.37 -8.47019 1915.37 Q-16.1409 1915.37 -20.5014 1910.4 Q-24.8301 1905.41 -24.8301 1896.65 Q-24.8301 1887.87 -20.5014 1882.9 Q-16.1409 1877.94 -8.47019 1877.94 Z\" fill=\"#000000\" fill-rule=\"evenodd\" fill-opacity=\"1\" /><path clip-path=\"url(#clip190)\" d=\"M47.2297 1892.93 L47.2297 1914.45 L41.3733 1914.45 L41.3733 1893.12 Q41.3733 1888.06 39.3999 1885.55 Q37.4266 1883.03 33.4798 1883.03 Q28.7374 1883.03 26.0001 1886.06 Q23.2629 1889.08 23.2629 1894.3 L23.2629 1914.45 L17.3746 1914.45 L17.3746 1878.8 L23.2629 1878.8 L23.2629 1884.34 Q25.3635 1881.12 28.1963 1879.53 Q31.0609 1877.94 34.7848 1877.94 Q40.9277 1877.94 44.0787 1881.76 Q47.2297 1885.55 47.2297 1892.93 Z\" fill=\"#000000\" fill-rule=\"evenodd\" fill-opacity=\"1\" /><path clip-path=\"url(#clip190)\" d=\"M64.7036 1868.68 L64.7036 1878.8 L76.7666 1878.8 L76.7666 1883.35 L64.7036 1883.35 L64.7036 1902.7 Q64.7036 1907.06 65.8813 1908.3 Q67.0908 1909.55 70.751 1909.55 L76.7666 1909.55 L76.7666 1914.45 L70.751 1914.45 Q63.9716 1914.45 61.3934 1911.93 Q58.8153 1909.39 58.8153 1902.7 L58.8153 1883.35 L54.5185 1883.35 L54.5185 1878.8 L58.8153 1878.8 L58.8153 1868.68 L64.7036 1868.68 Z\" fill=\"#000000\" fill-rule=\"evenodd\" fill-opacity=\"1\" /><path clip-path=\"url(#clip190)\" d=\"M84.4691 1878.8 L90.3256 1878.8 L90.3256 1914.45 L84.4691 1914.45 L84.4691 1878.8 M84.4691 1864.92 L90.3256 1864.92 L90.3256 1872.34 L84.4691 1872.34 L84.4691 1864.92 Z\" fill=\"#000000\" fill-rule=\"evenodd\" fill-opacity=\"1\" /><path clip-path=\"url(#clip190)\" d=\"M132.212 1892.93 L132.212 1914.45 L126.355 1914.45 L126.355 1893.12 Q126.355 1888.06 124.382 1885.55 Q122.409 1883.03 118.462 1883.03 Q113.72 1883.03 110.982 1886.06 Q108.245 1889.08 108.245 1894.3 L108.245 1914.45 L102.357 1914.45 L102.357 1878.8 L108.245 1878.8 L108.245 1884.34 Q110.346 1881.12 113.178 1879.53 Q116.043 1877.94 119.767 1877.94 Q125.91 1877.94 129.061 1881.76 Q132.212 1885.55 132.212 1892.93 Z\" fill=\"#000000\" fill-rule=\"evenodd\" fill-opacity=\"1\" /><path clip-path=\"url(#clip190)\" d=\"M143.288 1900.38 L143.288 1878.8 L149.145 1878.8 L149.145 1900.16 Q149.145 1905.22 151.118 1907.76 Q153.091 1910.28 157.038 1910.28 Q161.781 1910.28 164.518 1907.25 Q167.287 1904.23 167.287 1899.01 L167.287 1878.8 L173.143 1878.8 L173.143 1914.45 L167.287 1914.45 L167.287 1908.97 Q165.154 1912.22 162.322 1913.81 Q159.521 1915.37 155.797 1915.37 Q149.654 1915.37 146.471 1911.55 Q143.288 1907.73 143.288 1900.38 M158.025 1877.94 L158.025 1877.94 Z\" fill=\"#000000\" fill-rule=\"evenodd\" fill-opacity=\"1\" /><path clip-path=\"url(#clip190)\" d=\"M199.02 1882.9 Q194.309 1882.9 191.572 1886.6 Q188.835 1890.26 188.835 1896.65 Q188.835 1903.05 191.54 1906.74 Q194.278 1910.4 199.02 1910.4 Q203.699 1910.4 206.436 1906.71 Q209.173 1903.02 209.173 1896.65 Q209.173 1890.32 206.436 1886.63 Q203.699 1882.9 199.02 1882.9 M199.02 1877.94 Q206.659 1877.94 211.019 1882.9 Q215.38 1887.87 215.38 1896.65 Q215.38 1905.41 211.019 1910.4 Q206.659 1915.37 199.02 1915.37 Q191.349 1915.37 186.989 1910.4 Q182.66 1905.41 182.66 1896.65 Q182.66 1887.87 186.989 1882.9 Q191.349 1877.94 199.02 1877.94 Z\" fill=\"#000000\" fill-rule=\"evenodd\" fill-opacity=\"1\" /><path clip-path=\"url(#clip190)\" d=\"M224.483 1900.38 L224.483 1878.8 L230.339 1878.8 L230.339 1900.16 Q230.339 1905.22 232.313 1907.76 Q234.286 1910.28 238.233 1910.28 Q242.975 1910.28 245.712 1907.25 Q248.482 1904.23 248.482 1899.01 L248.482 1878.8 L254.338 1878.8 L254.338 1914.45 L248.482 1914.45 L248.482 1908.97 Q246.349 1912.22 243.516 1913.81 Q240.715 1915.37 236.991 1915.37 Q230.849 1915.37 227.666 1911.55 Q224.483 1907.73 224.483 1900.38 M239.219 1877.94 L239.219 1877.94 Z\" fill=\"#000000\" fill-rule=\"evenodd\" fill-opacity=\"1\" /><path clip-path=\"url(#clip190)\" d=\"M289.127 1879.85 L289.127 1885.39 Q286.644 1884.11 283.97 1883.48 Q281.297 1882.84 278.432 1882.84 Q274.072 1882.84 271.876 1884.18 Q269.711 1885.51 269.711 1888.19 Q269.711 1890.23 271.271 1891.4 Q272.83 1892.55 277.541 1893.6 L279.546 1894.04 Q285.785 1895.38 288.395 1897.83 Q291.036 1900.25 291.036 1904.61 Q291.036 1909.58 287.09 1912.47 Q283.175 1915.37 276.3 1915.37 Q273.435 1915.37 270.316 1914.8 Q267.229 1914.26 263.791 1913.14 L263.791 1907.09 Q267.038 1908.78 270.189 1909.64 Q273.34 1910.47 276.427 1910.47 Q280.565 1910.47 282.793 1909.07 Q285.021 1907.64 285.021 1905.06 Q285.021 1902.67 283.397 1901.4 Q281.806 1900.12 276.363 1898.95 L274.326 1898.47 Q268.884 1897.32 266.465 1894.97 Q264.046 1892.58 264.046 1888.44 Q264.046 1883.41 267.611 1880.68 Q271.175 1877.94 277.732 1877.94 Q280.978 1877.94 283.843 1878.42 Q286.708 1878.89 289.127 1879.85 Z\" fill=\"#000000\" fill-rule=\"evenodd\" fill-opacity=\"1\" /><path clip-path=\"url(#clip190)\" d=\"M327.448 1925.27 L327.448 1929.82 L293.583 1929.82 L293.583 1925.27 L327.448 1925.27 Z\" fill=\"#000000\" fill-rule=\"evenodd\" fill-opacity=\"1\" /><path clip-path=\"url(#clip190)\" d=\"M363.446 1895.16 L363.446 1898.02 L336.519 1898.02 Q336.901 1904.07 340.148 1907.25 Q343.426 1910.4 349.251 1910.4 Q352.625 1910.4 355.776 1909.58 Q358.958 1908.75 362.078 1907.09 L362.078 1912.63 Q358.927 1913.97 355.616 1914.67 Q352.306 1915.37 348.901 1915.37 Q340.371 1915.37 335.373 1910.4 Q330.408 1905.44 330.408 1896.97 Q330.408 1888.22 335.119 1883.1 Q339.861 1877.94 347.882 1877.94 Q355.075 1877.94 359.245 1882.59 Q363.446 1887.2 363.446 1895.16 M357.59 1893.44 Q357.526 1888.63 354.884 1885.77 Q352.274 1882.9 347.946 1882.9 Q343.044 1882.9 340.084 1885.67 Q337.156 1888.44 336.71 1893.47 L357.59 1893.44 Z\" fill=\"#000000\" fill-rule=\"evenodd\" fill-opacity=\"1\" /><path clip-path=\"url(#clip190)\" d=\"M402.691 1892.93 L402.691 1914.45 L396.834 1914.45 L396.834 1893.12 Q396.834 1888.06 394.861 1885.55 Q392.888 1883.03 388.941 1883.03 Q384.198 1883.03 381.461 1886.06 Q378.724 1889.08 378.724 1894.3 L378.724 1914.45 L372.836 1914.45 L372.836 1878.8 L378.724 1878.8 L378.724 1884.34 Q380.825 1881.12 383.657 1879.53 Q386.522 1877.94 390.246 1877.94 Q396.389 1877.94 399.54 1881.76 Q402.691 1885.55 402.691 1892.93 Z\" fill=\"#000000\" fill-rule=\"evenodd\" fill-opacity=\"1\" /><path clip-path=\"url(#clip190)\" d=\"M440.026 1880.17 L440.026 1885.64 Q437.543 1884.27 435.029 1883.6 Q432.546 1882.9 430 1882.9 Q424.302 1882.9 421.151 1886.53 Q418 1890.13 418 1896.65 Q418 1903.18 421.151 1906.81 Q424.302 1910.4 430 1910.4 Q432.546 1910.4 435.029 1909.74 Q437.543 1909.04 440.026 1907.67 L440.026 1913.08 Q437.575 1914.22 434.933 1914.8 Q432.323 1915.37 429.363 1915.37 Q421.31 1915.37 416.568 1910.31 Q411.826 1905.25 411.826 1896.65 Q411.826 1887.93 416.6 1882.94 Q421.406 1877.94 429.745 1877.94 Q432.45 1877.94 435.029 1878.51 Q437.607 1879.05 440.026 1880.17 Z\" fill=\"#000000\" fill-rule=\"evenodd\" fill-opacity=\"1\" /><path clip-path=\"url(#clip190)\" d=\"M464.024 1882.9 Q459.314 1882.9 456.577 1886.6 Q453.839 1890.26 453.839 1896.65 Q453.839 1903.05 456.545 1906.74 Q459.282 1910.4 464.024 1910.4 Q468.703 1910.4 471.44 1906.71 Q474.178 1903.02 474.178 1896.65 Q474.178 1890.32 471.44 1886.63 Q468.703 1882.9 464.024 1882.9 M464.024 1877.94 Q471.663 1877.94 476.024 1882.9 Q480.384 1887.87 480.384 1896.65 Q480.384 1905.41 476.024 1910.4 Q471.663 1915.37 464.024 1915.37 Q456.354 1915.37 451.993 1910.4 Q447.665 1905.41 447.665 1896.65 Q447.665 1887.87 451.993 1882.9 Q456.354 1877.94 464.024 1877.94 Z\" fill=\"#000000\" fill-rule=\"evenodd\" fill-opacity=\"1\" /><path clip-path=\"url(#clip190)\" d=\"M513.55 1884.21 L513.55 1864.92 L519.406 1864.92 L519.406 1914.45 L513.55 1914.45 L513.55 1909.1 Q511.704 1912.28 508.871 1913.84 Q506.07 1915.37 502.123 1915.37 Q495.662 1915.37 491.588 1910.21 Q487.546 1905.06 487.546 1896.65 Q487.546 1888.25 491.588 1883.1 Q495.662 1877.94 502.123 1877.94 Q506.07 1877.94 508.871 1879.5 Q511.704 1881.03 513.55 1884.21 M493.593 1896.65 Q493.593 1903.12 496.235 1906.81 Q498.908 1910.47 503.555 1910.47 Q508.202 1910.47 510.876 1906.81 Q513.55 1903.12 513.55 1896.65 Q513.55 1890.19 510.876 1886.53 Q508.202 1882.84 503.555 1882.84 Q498.908 1882.84 496.235 1886.53 Q493.593 1890.19 493.593 1896.65 Z\" fill=\"#000000\" fill-rule=\"evenodd\" fill-opacity=\"1\" /><path clip-path=\"url(#clip190)\" d=\"M561.961 1895.16 L561.961 1898.02 L535.034 1898.02 Q535.416 1904.07 538.662 1907.25 Q541.941 1910.4 547.765 1910.4 Q551.139 1910.4 554.29 1909.58 Q557.473 1908.75 560.592 1907.09 L560.592 1912.63 Q557.441 1913.97 554.131 1914.67 Q550.821 1915.37 547.415 1915.37 Q538.885 1915.37 533.888 1910.4 Q528.923 1905.44 528.923 1896.97 Q528.923 1888.22 533.633 1883.1 Q538.376 1877.94 546.397 1877.94 Q553.59 1877.94 557.759 1882.59 Q561.961 1887.2 561.961 1895.16 M556.104 1893.44 Q556.041 1888.63 553.399 1885.77 Q550.789 1882.9 546.46 1882.9 Q541.559 1882.9 538.599 1885.67 Q535.67 1888.44 535.225 1893.47 L556.104 1893.44 Z\" fill=\"#000000\" fill-rule=\"evenodd\" fill-opacity=\"1\" /><path clip-path=\"url(#clip190)\" d=\"M592.23 1884.27 Q591.243 1883.7 590.065 1883.45 Q588.92 1883.16 587.519 1883.16 Q582.554 1883.16 579.88 1886.41 Q577.238 1889.62 577.238 1895.67 L577.238 1914.45 L571.35 1914.45 L571.35 1878.8 L577.238 1878.8 L577.238 1884.34 Q579.085 1881.09 582.045 1879.53 Q585.005 1877.94 589.238 1877.94 Q589.843 1877.94 590.575 1878.03 Q591.307 1878.1 592.198 1878.26 L592.23 1884.27 Z\" fill=\"#000000\" fill-rule=\"evenodd\" fill-opacity=\"1\" /><path clip-path=\"url(#clip190)\" d=\"M593.216 1906.36 L599.932 1906.36 L599.932 1914.45 L593.216 1914.45 L593.216 1906.36 Z\" fill=\"#000000\" fill-rule=\"evenodd\" fill-opacity=\"1\" /><path clip-path=\"url(#clip190)\" d=\"M626.923 1882.9 Q622.212 1882.9 619.475 1886.6 Q616.738 1890.26 616.738 1896.65 Q616.738 1903.05 619.443 1906.74 Q622.18 1910.4 626.923 1910.4 Q631.602 1910.4 634.339 1906.71 Q637.076 1903.02 637.076 1896.65 Q637.076 1890.32 634.339 1886.63 Q631.602 1882.9 626.923 1882.9 M626.923 1877.94 Q634.562 1877.94 638.922 1882.9 Q643.283 1887.87 643.283 1896.65 Q643.283 1905.41 638.922 1910.4 Q634.562 1915.37 626.923 1915.37 Q619.252 1915.37 614.892 1910.4 Q610.563 1905.41 610.563 1896.65 Q610.563 1887.87 614.892 1882.9 Q619.252 1877.94 626.923 1877.94 Z\" fill=\"#000000\" fill-rule=\"evenodd\" fill-opacity=\"1\" /><path clip-path=\"url(#clip190)\" d=\"M682.623 1892.93 L682.623 1914.45 L676.766 1914.45 L676.766 1893.12 Q676.766 1888.06 674.793 1885.55 Q672.82 1883.03 668.873 1883.03 Q664.13 1883.03 661.393 1886.06 Q658.656 1889.08 658.656 1894.3 L658.656 1914.45 L652.768 1914.45 L652.768 1878.8 L658.656 1878.8 L658.656 1884.34 Q660.757 1881.12 663.589 1879.53 Q666.454 1877.94 670.178 1877.94 Q676.321 1877.94 679.472 1881.76 Q682.623 1885.55 682.623 1892.93 Z\" fill=\"#000000\" fill-rule=\"evenodd\" fill-opacity=\"1\" /><path clip-path=\"url(#clip190)\" d=\"M724.796 1895.16 L724.796 1898.02 L697.869 1898.02 Q698.251 1904.07 701.497 1907.25 Q704.775 1910.4 710.6 1910.4 Q713.974 1910.4 717.125 1909.58 Q720.308 1908.75 723.427 1907.09 L723.427 1912.63 Q720.276 1913.97 716.966 1914.67 Q713.656 1915.37 710.25 1915.37 Q701.72 1915.37 696.723 1910.4 Q691.758 1905.44 691.758 1896.97 Q691.758 1888.22 696.468 1883.1 Q701.211 1877.94 709.231 1877.94 Q716.425 1877.94 720.594 1882.59 Q724.796 1887.2 724.796 1895.16 M718.939 1893.44 Q718.875 1888.63 716.234 1885.77 Q713.624 1882.9 709.295 1882.9 Q704.393 1882.9 701.433 1885.67 Q698.505 1888.44 698.06 1893.47 L718.939 1893.44 Z\" fill=\"#000000\" fill-rule=\"evenodd\" fill-opacity=\"1\" /><path clip-path=\"url(#clip190)\" d=\"M761.494 1925.27 L761.494 1929.82 L727.628 1929.82 L727.628 1925.27 L761.494 1925.27 Z\" fill=\"#000000\" fill-rule=\"evenodd\" fill-opacity=\"1\" /><path clip-path=\"url(#clip190)\" d=\"M796.633 1892.93 L796.633 1914.45 L790.776 1914.45 L790.776 1893.12 Q790.776 1888.06 788.803 1885.55 Q786.829 1883.03 782.883 1883.03 Q778.14 1883.03 775.403 1886.06 Q772.666 1889.08 772.666 1894.3 L772.666 1914.45 L766.777 1914.45 L766.777 1864.92 L772.666 1864.92 L772.666 1884.34 Q774.766 1881.12 777.599 1879.53 Q780.464 1877.94 784.188 1877.94 Q790.331 1877.94 793.482 1881.76 Q796.633 1885.55 796.633 1892.93 Z\" fill=\"#000000\" fill-rule=\"evenodd\" fill-opacity=\"1\" /><path clip-path=\"url(#clip190)\" d=\"M822.127 1882.9 Q817.417 1882.9 814.679 1886.6 Q811.942 1890.26 811.942 1896.65 Q811.942 1903.05 814.648 1906.74 Q817.385 1910.4 822.127 1910.4 Q826.806 1910.4 829.543 1906.71 Q832.281 1903.02 832.281 1896.65 Q832.281 1890.32 829.543 1886.63 Q826.806 1882.9 822.127 1882.9 M822.127 1877.94 Q829.766 1877.94 834.127 1882.9 Q838.487 1887.87 838.487 1896.65 Q838.487 1905.41 834.127 1910.4 Q829.766 1915.37 822.127 1915.37 Q814.457 1915.37 810.096 1910.4 Q805.767 1905.41 805.767 1896.65 Q805.767 1887.87 810.096 1882.9 Q814.457 1877.94 822.127 1877.94 Z\" fill=\"#000000\" fill-rule=\"evenodd\" fill-opacity=\"1\" /><path clip-path=\"url(#clip190)\" d=\"M853.988 1868.68 L853.988 1878.8 L866.051 1878.8 L866.051 1883.35 L853.988 1883.35 L853.988 1902.7 Q853.988 1907.06 855.165 1908.3 Q856.375 1909.55 860.035 1909.55 L866.051 1909.55 L866.051 1914.45 L860.035 1914.45 Q853.256 1914.45 850.677 1911.93 Q848.099 1909.39 848.099 1902.7 L848.099 1883.35 L843.802 1883.35 L843.802 1878.8 L848.099 1878.8 L848.099 1868.68 L853.988 1868.68 Z\" fill=\"#000000\" fill-rule=\"evenodd\" fill-opacity=\"1\" /><path clip-path=\"url(#clip190)\" d=\"M900.839 1925.27 L900.839 1929.82 L866.974 1929.82 L866.974 1925.27 L900.839 1925.27 Z\" fill=\"#000000\" fill-rule=\"evenodd\" fill-opacity=\"1\" /><path clip-path=\"url(#clip190)\" d=\"M920.159 1882.9 Q915.448 1882.9 912.711 1886.6 Q909.974 1890.26 909.974 1896.65 Q909.974 1903.05 912.679 1906.74 Q915.417 1910.4 920.159 1910.4 Q924.838 1910.4 927.575 1906.71 Q930.312 1903.02 930.312 1896.65 Q930.312 1890.32 927.575 1886.63 Q924.838 1882.9 920.159 1882.9 M920.159 1877.94 Q927.798 1877.94 932.158 1882.9 Q936.519 1887.87 936.519 1896.65 Q936.519 1905.41 932.158 1910.4 Q927.798 1915.37 920.159 1915.37 Q912.488 1915.37 908.128 1910.4 Q903.799 1905.41 903.799 1896.65 Q903.799 1887.87 908.128 1882.9 Q912.488 1877.94 920.159 1877.94 Z\" fill=\"#000000\" fill-rule=\"evenodd\" fill-opacity=\"1\" /><path clip-path=\"url(#clip190)\" d=\"M966.883 1884.27 Q965.897 1883.7 964.719 1883.45 Q963.573 1883.16 962.173 1883.16 Q957.208 1883.16 954.534 1886.41 Q951.892 1889.62 951.892 1895.67 L951.892 1914.45 L946.004 1914.45 L946.004 1878.8 L951.892 1878.8 L951.892 1884.34 Q953.738 1881.09 956.698 1879.53 Q959.658 1877.94 963.892 1877.94 Q964.496 1877.94 965.228 1878.03 Q965.96 1878.1 966.852 1878.26 L966.883 1884.27 Z\" fill=\"#000000\" fill-rule=\"evenodd\" fill-opacity=\"1\" /><path clip-path=\"url(#clip190)\" d=\"M995.338 1884.21 L995.338 1864.92 L1001.19 1864.92 L1001.19 1914.45 L995.338 1914.45 L995.338 1909.1 Q993.492 1912.28 990.659 1913.84 Q987.858 1915.37 983.912 1915.37 Q977.45 1915.37 973.376 1910.21 Q969.334 1905.06 969.334 1896.65 Q969.334 1888.25 973.376 1883.1 Q977.45 1877.94 983.912 1877.94 Q987.858 1877.94 990.659 1879.5 Q993.492 1881.03 995.338 1884.21 M975.382 1896.65 Q975.382 1903.12 978.023 1906.81 Q980.697 1910.47 985.344 1910.47 Q989.991 1910.47 992.664 1906.81 Q995.338 1903.12 995.338 1896.65 Q995.338 1890.19 992.664 1886.53 Q989.991 1882.84 985.344 1882.84 Q980.697 1882.84 978.023 1886.53 Q975.382 1890.19 975.382 1896.65 Z\" fill=\"#000000\" fill-rule=\"evenodd\" fill-opacity=\"1\" /><path clip-path=\"url(#clip190)\" d=\"M1043.75 1895.16 L1043.75 1898.02 L1016.82 1898.02 Q1017.2 1904.07 1020.45 1907.25 Q1023.73 1910.4 1029.55 1910.4 Q1032.93 1910.4 1036.08 1909.58 Q1039.26 1908.75 1042.38 1907.09 L1042.38 1912.63 Q1039.23 1913.97 1035.92 1914.67 Q1032.61 1915.37 1029.2 1915.37 Q1020.67 1915.37 1015.68 1910.4 Q1010.71 1905.44 1010.71 1896.97 Q1010.71 1888.22 1015.42 1883.1 Q1020.16 1877.94 1028.19 1877.94 Q1035.38 1877.94 1039.55 1882.59 Q1043.75 1887.2 1043.75 1895.16 M1037.89 1893.44 Q1037.83 1888.63 1035.19 1885.77 Q1032.58 1882.9 1028.25 1882.9 Q1023.35 1882.9 1020.39 1885.67 Q1017.46 1888.44 1017.01 1893.47 L1037.89 1893.44 Z\" fill=\"#000000\" fill-rule=\"evenodd\" fill-opacity=\"1\" /><path clip-path=\"url(#clip190)\" d=\"M1074.02 1884.27 Q1073.03 1883.7 1071.85 1883.45 Q1070.71 1883.16 1069.31 1883.16 Q1064.34 1883.16 1061.67 1886.41 Q1059.03 1889.62 1059.03 1895.67 L1059.03 1914.45 L1053.14 1914.45 L1053.14 1878.8 L1059.03 1878.8 L1059.03 1884.34 Q1060.87 1881.09 1063.83 1879.53 Q1066.79 1877.94 1071.03 1877.94 Q1071.63 1877.94 1072.36 1878.03 Q1073.1 1878.1 1073.99 1878.26 L1074.02 1884.27 Z\" fill=\"#000000\" fill-rule=\"evenodd\" fill-opacity=\"1\" /><path clip-path=\"url(#clip190)\" d=\"M1109.22 1895.16 L1109.22 1898.02 L1082.29 1898.02 Q1082.68 1904.07 1085.92 1907.25 Q1089.2 1910.4 1095.03 1910.4 Q1098.4 1910.4 1101.55 1909.58 Q1104.73 1908.75 1107.85 1907.09 L1107.85 1912.63 Q1104.7 1913.97 1101.39 1914.67 Q1098.08 1915.37 1094.67 1915.37 Q1086.14 1915.37 1081.15 1910.4 Q1076.18 1905.44 1076.18 1896.97 Q1076.18 1888.22 1080.89 1883.1 Q1085.64 1877.94 1093.66 1877.94 Q1100.85 1877.94 1105.02 1882.59 Q1109.22 1887.2 1109.22 1895.16 M1103.36 1893.44 Q1103.3 1888.63 1100.66 1885.77 Q1098.05 1882.9 1093.72 1882.9 Q1088.82 1882.9 1085.86 1885.67 Q1082.93 1888.44 1082.48 1893.47 L1103.36 1893.44 Z\" fill=\"#000000\" fill-rule=\"evenodd\" fill-opacity=\"1\" /><path clip-path=\"url(#clip190)\" d=\"M1142.29 1884.21 L1142.29 1864.92 L1148.15 1864.92 L1148.15 1914.45 L1142.29 1914.45 L1142.29 1909.1 Q1140.44 1912.28 1137.61 1913.84 Q1134.81 1915.37 1130.86 1915.37 Q1124.4 1915.37 1120.33 1910.21 Q1116.29 1905.06 1116.29 1896.65 Q1116.29 1888.25 1120.33 1883.1 Q1124.4 1877.94 1130.86 1877.94 Q1134.81 1877.94 1137.61 1879.5 Q1140.44 1881.03 1142.29 1884.21 M1122.33 1896.65 Q1122.33 1903.12 1124.98 1906.81 Q1127.65 1910.47 1132.3 1910.47 Q1136.94 1910.47 1139.62 1906.81 Q1142.29 1903.12 1142.29 1896.65 Q1142.29 1890.19 1139.62 1886.53 Q1136.94 1882.84 1132.3 1882.84 Q1127.65 1882.84 1124.98 1886.53 Q1122.33 1890.19 1122.33 1896.65 Z\" fill=\"#000000\" fill-rule=\"evenodd\" fill-opacity=\"1\" /><path clip-path=\"url(#clip190)\" d=\"M1187.3 1925.27 L1187.3 1929.82 L1153.43 1929.82 L1153.43 1925.27 L1187.3 1925.27 Z\" fill=\"#000000\" fill-rule=\"evenodd\" fill-opacity=\"1\" /><path clip-path=\"url(#clip190)\" d=\"M1210.85 1864.92 L1210.85 1869.79 L1205.25 1869.79 Q1202.1 1869.79 1200.85 1871.06 Q1199.65 1872.34 1199.65 1875.65 L1199.65 1878.8 L1209.29 1878.8 L1209.29 1883.35 L1199.65 1883.35 L1199.65 1914.45 L1193.76 1914.45 L1193.76 1883.35 L1188.16 1883.35 L1188.16 1878.8 L1193.76 1878.8 L1193.76 1876.32 Q1193.76 1870.36 1196.53 1867.66 Q1199.3 1864.92 1205.31 1864.92 L1210.85 1864.92 Z\" fill=\"#000000\" fill-rule=\"evenodd\" fill-opacity=\"1\" /><path clip-path=\"url(#clip190)\" d=\"M1231.95 1896.53 Q1224.85 1896.53 1222.12 1898.15 Q1219.38 1899.77 1219.38 1903.69 Q1219.38 1906.81 1221.42 1908.65 Q1223.49 1910.47 1227.02 1910.47 Q1231.89 1910.47 1234.82 1907.03 Q1237.78 1903.56 1237.78 1897.83 L1237.78 1896.53 L1231.95 1896.53 M1243.63 1894.11 L1243.63 1914.45 L1237.78 1914.45 L1237.78 1909.04 Q1235.77 1912.28 1232.78 1913.84 Q1229.79 1915.37 1225.46 1915.37 Q1219.98 1915.37 1216.74 1912.31 Q1213.52 1909.23 1213.52 1904.07 Q1213.52 1898.06 1217.53 1895 Q1221.58 1891.94 1229.56 1891.94 L1237.78 1891.94 L1237.78 1891.37 Q1237.78 1887.33 1235.1 1885.13 Q1232.46 1882.9 1227.65 1882.9 Q1224.6 1882.9 1221.7 1883.64 Q1218.81 1884.37 1216.13 1885.83 L1216.13 1880.42 Q1219.35 1879.18 1222.37 1878.58 Q1225.39 1877.94 1228.26 1877.94 Q1235.99 1877.94 1239.81 1881.95 Q1243.63 1885.96 1243.63 1894.11 Z\" fill=\"#000000\" fill-rule=\"evenodd\" fill-opacity=\"1\" /><path clip-path=\"url(#clip190)\" d=\"M1281.35 1880.17 L1281.35 1885.64 Q1278.87 1884.27 1276.35 1883.6 Q1273.87 1882.9 1271.32 1882.9 Q1265.63 1882.9 1262.47 1886.53 Q1259.32 1890.13 1259.32 1896.65 Q1259.32 1903.18 1262.47 1906.81 Q1265.63 1910.4 1271.32 1910.4 Q1273.87 1910.4 1276.35 1909.74 Q1278.87 1909.04 1281.35 1907.67 L1281.35 1913.08 Q1278.9 1914.22 1276.26 1914.8 Q1273.65 1915.37 1270.69 1915.37 Q1262.63 1915.37 1257.89 1910.31 Q1253.15 1905.25 1253.15 1896.65 Q1253.15 1887.93 1257.92 1882.94 Q1262.73 1877.94 1271.07 1877.94 Q1273.77 1877.94 1276.35 1878.51 Q1278.93 1879.05 1281.35 1880.17 Z\" fill=\"#000000\" fill-rule=\"evenodd\" fill-opacity=\"1\" /><path clip-path=\"url(#clip190)\" d=\"M1297.33 1868.68 L1297.33 1878.8 L1309.39 1878.8 L1309.39 1883.35 L1297.33 1883.35 L1297.33 1902.7 Q1297.33 1907.06 1298.5 1908.3 Q1299.71 1909.55 1303.37 1909.55 L1309.39 1909.55 L1309.39 1914.45 L1303.37 1914.45 Q1296.6 1914.45 1294.02 1911.93 Q1291.44 1909.39 1291.44 1902.7 L1291.44 1883.35 L1287.14 1883.35 L1287.14 1878.8 L1291.44 1878.8 L1291.44 1868.68 L1297.33 1868.68 Z\" fill=\"#000000\" fill-rule=\"evenodd\" fill-opacity=\"1\" /><path clip-path=\"url(#clip190)\" d=\"M1330.91 1882.9 Q1326.2 1882.9 1323.46 1886.6 Q1320.72 1890.26 1320.72 1896.65 Q1320.72 1903.05 1323.43 1906.74 Q1326.16 1910.4 1330.91 1910.4 Q1335.59 1910.4 1338.32 1906.71 Q1341.06 1903.02 1341.06 1896.65 Q1341.06 1890.32 1338.32 1886.63 Q1335.59 1882.9 1330.91 1882.9 M1330.91 1877.94 Q1338.55 1877.94 1342.91 1882.9 Q1347.27 1887.87 1347.27 1896.65 Q1347.27 1905.41 1342.91 1910.4 Q1338.55 1915.37 1330.91 1915.37 Q1323.24 1915.37 1318.88 1910.4 Q1314.55 1905.41 1314.55 1896.65 Q1314.55 1887.87 1318.88 1882.9 Q1323.24 1877.94 1330.91 1877.94 Z\" fill=\"#000000\" fill-rule=\"evenodd\" fill-opacity=\"1\" /><path clip-path=\"url(#clip190)\" d=\"M1377.63 1884.27 Q1376.64 1883.7 1375.47 1883.45 Q1374.32 1883.16 1372.92 1883.16 Q1367.95 1883.16 1365.28 1886.41 Q1362.64 1889.62 1362.64 1895.67 L1362.64 1914.45 L1356.75 1914.45 L1356.75 1878.8 L1362.64 1878.8 L1362.64 1884.34 Q1364.49 1881.09 1367.45 1879.53 Q1370.41 1877.94 1374.64 1877.94 Q1375.24 1877.94 1375.98 1878.03 Q1376.71 1878.1 1377.6 1878.26 L1377.63 1884.27 Z\" fill=\"#000000\" fill-rule=\"evenodd\" fill-opacity=\"1\" /><path clip-path=\"url(#clip190)\" d=\"M1406.5 1879.85 L1406.5 1885.39 Q1404.02 1884.11 1401.34 1883.48 Q1398.67 1882.84 1395.8 1882.84 Q1391.44 1882.84 1389.25 1884.18 Q1387.08 1885.51 1387.08 1888.19 Q1387.08 1890.23 1388.64 1891.4 Q1390.2 1892.55 1394.91 1893.6 L1396.92 1894.04 Q1403.16 1895.38 1405.77 1897.83 Q1408.41 1900.25 1408.41 1904.61 Q1408.41 1909.58 1404.46 1912.47 Q1400.55 1915.37 1393.67 1915.37 Q1390.81 1915.37 1387.69 1914.8 Q1384.6 1914.26 1381.16 1913.14 L1381.16 1907.09 Q1384.41 1908.78 1387.56 1909.64 Q1390.71 1910.47 1393.8 1910.47 Q1397.94 1910.47 1400.17 1909.07 Q1402.39 1907.64 1402.39 1905.06 Q1402.39 1902.67 1400.77 1901.4 Q1399.18 1900.12 1393.74 1898.95 L1391.7 1898.47 Q1386.26 1897.32 1383.84 1894.97 Q1381.42 1892.58 1381.42 1888.44 Q1381.42 1883.41 1384.98 1880.68 Q1388.55 1877.94 1395.1 1877.94 Q1398.35 1877.94 1401.22 1878.42 Q1404.08 1878.89 1406.5 1879.85 Z\" fill=\"#000000\" fill-rule=\"evenodd\" fill-opacity=\"1\" /><polyline clip-path=\"url(#clip194)\" style=\"stroke:#000000; stroke-linecap:butt; stroke-linejoin:round; stroke-width:2; stroke-opacity:0.1; fill:none\" points=\"\n",
       "  294.984,1677.62 1052.76,1677.62 \n",
       "  \"/>\n",
       "<polyline clip-path=\"url(#clip194)\" style=\"stroke:#000000; stroke-linecap:butt; stroke-linejoin:round; stroke-width:2; stroke-opacity:0.1; fill:none\" points=\"\n",
       "  294.984,1537.24 1052.76,1537.24 \n",
       "  \"/>\n",
       "<polyline clip-path=\"url(#clip194)\" style=\"stroke:#000000; stroke-linecap:butt; stroke-linejoin:round; stroke-width:2; stroke-opacity:0.1; fill:none\" points=\"\n",
       "  294.984,1396.87 1052.76,1396.87 \n",
       "  \"/>\n",
       "<polyline clip-path=\"url(#clip194)\" style=\"stroke:#000000; stroke-linecap:butt; stroke-linejoin:round; stroke-width:2; stroke-opacity:0.1; fill:none\" points=\"\n",
       "  294.984,1256.49 1052.76,1256.49 \n",
       "  \"/>\n",
       "<polyline clip-path=\"url(#clip194)\" style=\"stroke:#000000; stroke-linecap:butt; stroke-linejoin:round; stroke-width:2; stroke-opacity:0.1; fill:none\" points=\"\n",
       "  294.984,1116.12 1052.76,1116.12 \n",
       "  \"/>\n",
       "<polyline clip-path=\"url(#clip190)\" style=\"stroke:#000000; stroke-linecap:butt; stroke-linejoin:round; stroke-width:4; stroke-opacity:1; fill:none\" points=\"\n",
       "  294.984,1772.58 294.984,998.595 \n",
       "  \"/>\n",
       "<polyline clip-path=\"url(#clip190)\" style=\"stroke:#000000; stroke-linecap:butt; stroke-linejoin:round; stroke-width:4; stroke-opacity:1; fill:none\" points=\"\n",
       "  1052.76,1772.58 1052.76,998.595 \n",
       "  \"/>\n",
       "<polyline clip-path=\"url(#clip190)\" style=\"stroke:#000000; stroke-linecap:butt; stroke-linejoin:round; stroke-width:4; stroke-opacity:1; fill:none\" points=\"\n",
       "  294.984,1677.62 313.882,1677.62 \n",
       "  \"/>\n",
       "<polyline clip-path=\"url(#clip190)\" style=\"stroke:#000000; stroke-linecap:butt; stroke-linejoin:round; stroke-width:4; stroke-opacity:1; fill:none\" points=\"\n",
       "  294.984,1537.24 313.882,1537.24 \n",
       "  \"/>\n",
       "<polyline clip-path=\"url(#clip190)\" style=\"stroke:#000000; stroke-linecap:butt; stroke-linejoin:round; stroke-width:4; stroke-opacity:1; fill:none\" points=\"\n",
       "  294.984,1396.87 313.882,1396.87 \n",
       "  \"/>\n",
       "<polyline clip-path=\"url(#clip190)\" style=\"stroke:#000000; stroke-linecap:butt; stroke-linejoin:round; stroke-width:4; stroke-opacity:1; fill:none\" points=\"\n",
       "  294.984,1256.49 313.882,1256.49 \n",
       "  \"/>\n",
       "<polyline clip-path=\"url(#clip190)\" style=\"stroke:#000000; stroke-linecap:butt; stroke-linejoin:round; stroke-width:4; stroke-opacity:1; fill:none\" points=\"\n",
       "  294.984,1116.12 313.882,1116.12 \n",
       "  \"/>\n",
       "<path clip-path=\"url(#clip190)\" d=\"M245.665 1690.96 L261.984 1690.96 L261.984 1694.9 L240.04 1694.9 L240.04 1690.96 Q242.702 1688.21 247.285 1683.58 Q251.891 1678.92 253.072 1677.58 Q255.317 1675.06 256.197 1673.32 Q257.1 1671.56 257.1 1669.87 Q257.1 1667.12 255.155 1665.38 Q253.234 1663.65 250.132 1663.65 Q247.933 1663.65 245.479 1664.41 Q243.049 1665.17 240.271 1666.73 L240.271 1662 Q243.095 1660.87 245.549 1660.29 Q248.003 1659.71 250.04 1659.71 Q255.41 1659.71 258.604 1662.4 Q261.799 1665.08 261.799 1669.57 Q261.799 1671.7 260.989 1673.62 Q260.202 1675.52 258.095 1678.11 Q257.516 1678.79 254.415 1682 Q251.313 1685.2 245.665 1690.96 Z\" fill=\"#000000\" fill-rule=\"evenodd\" fill-opacity=\"1\" /><path clip-path=\"url(#clip190)\" d=\"M252.401 1524.04 L240.595 1542.48 L252.401 1542.48 L252.401 1524.04 M251.174 1519.96 L257.053 1519.96 L257.053 1542.48 L261.984 1542.48 L261.984 1546.37 L257.053 1546.37 L257.053 1554.52 L252.401 1554.52 L252.401 1546.37 L236.799 1546.37 L236.799 1541.86 L251.174 1519.96 Z\" fill=\"#000000\" fill-rule=\"evenodd\" fill-opacity=\"1\" /><path clip-path=\"url(#clip190)\" d=\"M250.456 1395 Q247.308 1395 245.456 1397.16 Q243.628 1399.31 243.628 1403.06 Q243.628 1406.79 245.456 1408.96 Q247.308 1411.11 250.456 1411.11 Q253.604 1411.11 255.433 1408.96 Q257.285 1406.79 257.285 1403.06 Q257.285 1399.31 255.433 1397.16 Q253.604 1395 250.456 1395 M259.739 1380.35 L259.739 1384.61 Q257.979 1383.78 256.174 1383.34 Q254.391 1382.9 252.632 1382.9 Q248.003 1382.9 245.549 1386.02 Q243.118 1389.15 242.771 1395.47 Q244.137 1393.45 246.197 1392.39 Q248.257 1391.3 250.734 1391.3 Q255.942 1391.3 258.952 1394.47 Q261.984 1397.62 261.984 1403.06 Q261.984 1408.38 258.836 1411.6 Q255.688 1414.82 250.456 1414.82 Q244.461 1414.82 241.29 1410.23 Q238.118 1405.63 238.118 1396.9 Q238.118 1388.71 242.007 1383.85 Q245.896 1378.96 252.447 1378.96 Q254.206 1378.96 255.989 1379.31 Q257.794 1379.66 259.739 1380.35 Z\" fill=\"#000000\" fill-rule=\"evenodd\" fill-opacity=\"1\" /><path clip-path=\"url(#clip190)\" d=\"M250.132 1257.36 Q246.799 1257.36 244.878 1259.14 Q242.979 1260.92 242.979 1264.05 Q242.979 1267.17 244.878 1268.96 Q246.799 1270.74 250.132 1270.74 Q253.465 1270.74 255.387 1268.96 Q257.308 1267.15 257.308 1264.05 Q257.308 1260.92 255.387 1259.14 Q253.489 1257.36 250.132 1257.36 M245.456 1255.37 Q242.447 1254.63 240.757 1252.57 Q239.091 1250.51 239.091 1247.54 Q239.091 1243.4 242.03 1240.99 Q244.993 1238.59 250.132 1238.59 Q255.294 1238.59 258.234 1240.99 Q261.174 1243.4 261.174 1247.54 Q261.174 1250.51 259.484 1252.57 Q257.817 1254.63 254.831 1255.37 Q258.211 1256.16 260.086 1258.45 Q261.984 1260.74 261.984 1264.05 Q261.984 1269.07 258.905 1271.76 Q255.85 1274.44 250.132 1274.44 Q244.415 1274.44 241.336 1271.76 Q238.28 1269.07 238.28 1264.05 Q238.28 1260.74 240.178 1258.45 Q242.077 1256.16 245.456 1255.37 M243.743 1247.98 Q243.743 1250.67 245.41 1252.17 Q247.1 1253.68 250.132 1253.68 Q253.141 1253.68 254.831 1252.17 Q256.544 1250.67 256.544 1247.98 Q256.544 1245.3 254.831 1243.79 Q253.141 1242.29 250.132 1242.29 Q247.1 1242.29 245.41 1243.79 Q243.743 1245.3 243.743 1247.98 Z\" fill=\"#000000\" fill-rule=\"evenodd\" fill-opacity=\"1\" /><path clip-path=\"url(#clip190)\" d=\"M210.688 1129.46 L218.327 1129.46 L218.327 1103.1 L210.017 1104.76 L210.017 1100.5 L218.28 1098.84 L222.956 1098.84 L222.956 1129.46 L230.595 1129.46 L230.595 1133.4 L210.688 1133.4 L210.688 1129.46 Z\" fill=\"#000000\" fill-rule=\"evenodd\" fill-opacity=\"1\" /><path clip-path=\"url(#clip190)\" d=\"M250.04 1101.92 Q246.428 1101.92 244.6 1105.48 Q242.794 1109.02 242.794 1116.15 Q242.794 1123.26 244.6 1126.82 Q246.428 1130.36 250.04 1130.36 Q253.674 1130.36 255.479 1126.82 Q257.308 1123.26 257.308 1116.15 Q257.308 1109.02 255.479 1105.48 Q253.674 1101.92 250.04 1101.92 M250.04 1098.21 Q255.85 1098.21 258.905 1102.82 Q261.984 1107.4 261.984 1116.15 Q261.984 1124.88 258.905 1129.48 Q255.85 1134.07 250.04 1134.07 Q244.229 1134.07 241.151 1129.48 Q238.095 1124.88 238.095 1116.15 Q238.095 1107.4 241.151 1102.82 Q244.229 1098.21 250.04 1098.21 Z\" fill=\"#000000\" fill-rule=\"evenodd\" fill-opacity=\"1\" /><path clip-path=\"url(#clip190)\" d=\"M113.235 1784.77 L113.235 1778.91 L162.761 1778.91 L162.761 1784.77 L113.235 1784.77 Z\" fill=\"#000000\" fill-rule=\"evenodd\" fill-opacity=\"1\" /><path clip-path=\"url(#clip190)\" d=\"M131.219 1752.84 Q131.219 1757.55 134.911 1760.29 Q138.571 1763.03 144.968 1763.03 Q151.366 1763.03 155.058 1760.32 Q158.718 1757.58 158.718 1752.84 Q158.718 1748.16 155.026 1745.43 Q151.334 1742.69 144.968 1742.69 Q138.635 1742.69 134.942 1745.43 Q131.219 1748.16 131.219 1752.84 M126.253 1752.84 Q126.253 1745.2 131.219 1740.84 Q136.184 1736.48 144.968 1736.48 Q153.721 1736.48 158.718 1740.84 Q163.684 1745.2 163.684 1752.84 Q163.684 1760.51 158.718 1764.87 Q153.721 1769.2 144.968 1769.2 Q136.184 1769.2 131.219 1764.87 Q126.253 1760.51 126.253 1752.84 Z\" fill=\"#000000\" fill-rule=\"evenodd\" fill-opacity=\"1\" /><path clip-path=\"url(#clip190)\" d=\"M144.523 1703.32 Q138.157 1703.32 134.656 1705.96 Q131.155 1708.57 131.155 1713.31 Q131.155 1718.02 134.656 1720.66 Q138.157 1723.27 144.523 1723.27 Q150.857 1723.27 154.358 1720.66 Q157.859 1718.02 157.859 1713.31 Q157.859 1708.57 154.358 1705.96 Q150.857 1703.32 144.523 1703.32 M158.336 1697.46 Q167.439 1697.46 171.864 1701.5 Q176.32 1705.55 176.32 1713.88 Q176.32 1716.97 175.842 1719.71 Q175.397 1722.45 174.442 1725.02 L168.744 1725.02 Q170.145 1722.45 170.813 1719.93 Q171.482 1717.42 171.482 1714.81 Q171.482 1709.05 168.458 1706.18 Q165.466 1703.32 159.387 1703.32 L156.49 1703.32 Q159.641 1705.13 161.201 1707.96 Q162.761 1710.8 162.761 1714.74 Q162.761 1721.3 157.764 1725.31 Q152.766 1729.32 144.523 1729.32 Q136.247 1729.32 131.25 1725.31 Q126.253 1721.3 126.253 1714.74 Q126.253 1710.8 127.813 1707.96 Q129.372 1705.13 132.523 1703.32 L127.113 1703.32 L127.113 1697.46 L158.336 1697.46 Z\" fill=\"#000000\" fill-rule=\"evenodd\" fill-opacity=\"1\" /><path clip-path=\"url(#clip190)\" d=\"M127.113 1685.4 L127.113 1679.54 L162.761 1679.54 L162.761 1685.4 L127.113 1685.4 M113.235 1685.4 L113.235 1679.54 L120.651 1679.54 L120.651 1685.4 L113.235 1685.4 Z\" fill=\"#000000\" fill-rule=\"evenodd\" fill-opacity=\"1\" /><path clip-path=\"url(#clip190)\" d=\"M128.163 1644.56 L133.701 1644.56 Q132.428 1647.04 131.791 1649.72 Q131.155 1652.39 131.155 1655.26 Q131.155 1659.62 132.492 1661.81 Q133.828 1663.98 136.502 1663.98 Q138.539 1663.98 139.717 1662.42 Q140.863 1660.86 141.913 1656.15 L142.359 1654.14 Q143.695 1647.9 146.146 1645.29 Q148.565 1642.65 152.926 1642.65 Q157.891 1642.65 160.787 1646.6 Q163.684 1650.51 163.684 1657.39 Q163.684 1660.25 163.111 1663.37 Q162.57 1666.46 161.456 1669.9 L155.408 1669.9 Q157.095 1666.65 157.954 1663.5 Q158.782 1660.35 158.782 1657.26 Q158.782 1653.12 157.382 1650.9 Q155.949 1648.67 153.371 1648.67 Q150.984 1648.67 149.711 1650.29 Q148.438 1651.88 147.26 1657.33 L146.783 1659.36 Q145.637 1664.8 143.282 1667.22 Q140.894 1669.64 136.757 1669.64 Q131.728 1669.64 128.991 1666.08 Q126.253 1662.51 126.253 1655.96 Q126.253 1652.71 126.731 1649.85 Q127.208 1646.98 128.163 1644.56 Z\" fill=\"#000000\" fill-rule=\"evenodd\" fill-opacity=\"1\" /><path clip-path=\"url(#clip190)\" d=\"M116.991 1627.53 L127.113 1627.53 L127.113 1615.47 L131.664 1615.47 L131.664 1627.53 L151.016 1627.53 Q155.376 1627.53 156.618 1626.36 Q157.859 1625.15 157.859 1621.49 L157.859 1615.47 L162.761 1615.47 L162.761 1621.49 Q162.761 1628.27 160.246 1630.84 Q157.7 1633.42 151.016 1633.42 L131.664 1633.42 L131.664 1637.72 L127.113 1637.72 L127.113 1633.42 L116.991 1633.42 L116.991 1627.53 Z\" fill=\"#000000\" fill-rule=\"evenodd\" fill-opacity=\"1\" /><path clip-path=\"url(#clip190)\" d=\"M127.113 1607.77 L127.113 1601.91 L162.761 1601.91 L162.761 1607.77 L127.113 1607.77 M113.235 1607.77 L113.235 1601.91 L120.651 1601.91 L120.651 1607.77 L113.235 1607.77 Z\" fill=\"#000000\" fill-rule=\"evenodd\" fill-opacity=\"1\" /><path clip-path=\"url(#clip190)\" d=\"M128.481 1564 L133.956 1564 Q132.587 1566.49 131.919 1569 Q131.219 1571.48 131.219 1574.03 Q131.219 1579.73 134.847 1582.88 Q138.444 1586.03 144.968 1586.03 Q151.493 1586.03 155.122 1582.88 Q158.718 1579.73 158.718 1574.03 Q158.718 1571.48 158.05 1569 Q157.35 1566.49 155.981 1564 L161.392 1564 Q162.538 1566.45 163.111 1569.1 Q163.684 1571.71 163.684 1574.67 Q163.684 1582.72 158.623 1587.46 Q153.562 1592.2 144.968 1592.2 Q136.247 1592.2 131.25 1587.43 Q126.253 1582.62 126.253 1574.28 Q126.253 1571.58 126.826 1569 Q127.367 1566.42 128.481 1564 Z\" fill=\"#000000\" fill-rule=\"evenodd\" fill-opacity=\"1\" /><path clip-path=\"url(#clip190)\" d=\"M173.582 1526.73 L178.134 1526.73 L178.134 1560.6 L173.582 1560.6 L173.582 1526.73 Z\" fill=\"#000000\" fill-rule=\"evenodd\" fill-opacity=\"1\" /><path clip-path=\"url(#clip190)\" d=\"M128.481 1495.57 L133.956 1495.57 Q132.587 1498.06 131.919 1500.57 Q131.219 1503.05 131.219 1505.6 Q131.219 1511.3 134.847 1514.45 Q138.444 1517.6 144.968 1517.6 Q151.493 1517.6 155.122 1514.45 Q158.718 1511.3 158.718 1505.6 Q158.718 1503.05 158.05 1500.57 Q157.35 1498.06 155.981 1495.57 L161.392 1495.57 Q162.538 1498.02 163.111 1500.67 Q163.684 1503.27 163.684 1506.24 Q163.684 1514.29 158.623 1519.03 Q153.562 1523.77 144.968 1523.77 Q136.247 1523.77 131.25 1519 Q126.253 1514.19 126.253 1505.85 Q126.253 1503.15 126.826 1500.57 Q127.367 1497.99 128.481 1495.57 Z\" fill=\"#000000\" fill-rule=\"evenodd\" fill-opacity=\"1\" /><path clip-path=\"url(#clip190)\" d=\"M113.235 1485.39 L113.235 1479.53 L162.761 1479.53 L162.761 1485.39 L113.235 1485.39 Z\" fill=\"#000000\" fill-rule=\"evenodd\" fill-opacity=\"1\" /><path clip-path=\"url(#clip190)\" d=\"M144.841 1451.08 Q144.841 1458.17 146.464 1460.91 Q148.088 1463.65 152.003 1463.65 Q155.122 1463.65 156.968 1461.61 Q158.782 1459.54 158.782 1456.01 Q158.782 1451.14 155.345 1448.21 Q151.875 1445.25 146.146 1445.25 L144.841 1445.25 L144.841 1451.08 M142.422 1439.4 L162.761 1439.4 L162.761 1445.25 L157.35 1445.25 Q160.596 1447.26 162.156 1450.25 Q163.684 1453.24 163.684 1457.57 Q163.684 1463.04 160.628 1466.29 Q157.541 1469.5 152.384 1469.5 Q146.369 1469.5 143.313 1465.49 Q140.258 1461.45 140.258 1453.46 L140.258 1445.25 L139.685 1445.25 Q135.643 1445.25 133.447 1447.93 Q131.219 1450.57 131.219 1455.37 Q131.219 1458.43 131.951 1461.32 Q132.683 1464.22 134.147 1466.89 L128.736 1466.89 Q127.495 1463.68 126.89 1460.66 Q126.253 1457.63 126.253 1454.77 Q126.253 1447.03 130.264 1443.21 Q134.274 1439.4 142.422 1439.4 Z\" fill=\"#000000\" fill-rule=\"evenodd\" fill-opacity=\"1\" /><path clip-path=\"url(#clip190)\" d=\"M128.163 1404.61 L133.701 1404.61 Q132.428 1407.09 131.791 1409.76 Q131.155 1412.44 131.155 1415.3 Q131.155 1419.66 132.492 1421.86 Q133.828 1424.02 136.502 1424.02 Q138.539 1424.02 139.717 1422.46 Q140.863 1420.9 141.913 1416.19 L142.359 1414.19 Q143.695 1407.95 146.146 1405.34 Q148.565 1402.7 152.926 1402.7 Q157.891 1402.7 160.787 1406.64 Q163.684 1410.56 163.684 1417.43 Q163.684 1420.3 163.111 1423.42 Q162.57 1426.5 161.456 1429.94 L155.408 1429.94 Q157.095 1426.7 157.954 1423.54 Q158.782 1420.39 158.782 1417.31 Q158.782 1413.17 157.382 1410.94 Q155.949 1408.71 153.371 1408.71 Q150.984 1408.71 149.711 1410.34 Q148.438 1411.93 147.26 1417.37 L146.783 1419.41 Q145.637 1424.85 143.282 1427.27 Q140.894 1429.69 136.757 1429.69 Q131.728 1429.69 128.991 1426.12 Q126.253 1422.56 126.253 1416 Q126.253 1412.75 126.731 1409.89 Q127.208 1407.03 128.163 1404.61 Z\" fill=\"#000000\" fill-rule=\"evenodd\" fill-opacity=\"1\" /><path clip-path=\"url(#clip190)\" d=\"M128.163 1370.65 L133.701 1370.65 Q132.428 1373.13 131.791 1375.8 Q131.155 1378.48 131.155 1381.34 Q131.155 1385.7 132.492 1387.9 Q133.828 1390.06 136.502 1390.06 Q138.539 1390.06 139.717 1388.5 Q140.863 1386.94 141.913 1382.23 L142.359 1380.23 Q143.695 1373.99 146.146 1371.38 Q148.565 1368.74 152.926 1368.74 Q157.891 1368.74 160.787 1372.68 Q163.684 1376.6 163.684 1383.47 Q163.684 1386.34 163.111 1389.46 Q162.57 1392.54 161.456 1395.98 L155.408 1395.98 Q157.095 1392.73 157.954 1389.58 Q158.782 1386.43 158.782 1383.35 Q158.782 1379.21 157.382 1376.98 Q155.949 1374.75 153.371 1374.75 Q150.984 1374.75 149.711 1376.37 Q148.438 1377.97 147.26 1383.41 L146.783 1385.45 Q145.637 1390.89 143.282 1393.31 Q140.894 1395.73 136.757 1395.73 Q131.728 1395.73 128.991 1392.16 Q126.253 1388.6 126.253 1382.04 Q126.253 1378.79 126.731 1375.93 Q127.208 1373.06 128.163 1370.65 Z\" fill=\"#000000\" fill-rule=\"evenodd\" fill-opacity=\"1\" /><path clip-path=\"url(#clip190)\" d=\"M127.113 1359.41 L127.113 1353.55 L162.761 1353.55 L162.761 1359.41 L127.113 1359.41 M113.235 1359.41 L113.235 1353.55 L120.651 1353.55 L120.651 1359.41 L113.235 1359.41 Z\" fill=\"#000000\" fill-rule=\"evenodd\" fill-opacity=\"1\" /><path clip-path=\"url(#clip190)\" d=\"M113.235 1323.25 L118.105 1323.25 L118.105 1328.85 Q118.105 1332.01 119.378 1333.25 Q120.651 1334.46 123.962 1334.46 L127.113 1334.46 L127.113 1324.81 L131.664 1324.81 L131.664 1334.46 L162.761 1334.46 L162.761 1340.34 L131.664 1340.34 L131.664 1345.95 L127.113 1345.95 L127.113 1340.34 L124.63 1340.34 Q118.678 1340.34 115.973 1337.58 Q113.235 1334.81 113.235 1328.79 L113.235 1323.25 Z\" fill=\"#000000\" fill-rule=\"evenodd\" fill-opacity=\"1\" /><path clip-path=\"url(#clip190)\" d=\"M127.113 1318.35 L127.113 1312.49 L162.761 1312.49 L162.761 1318.35 L127.113 1318.35 M113.235 1318.35 L113.235 1312.49 L120.651 1312.49 L120.651 1318.35 L113.235 1318.35 Z\" fill=\"#000000\" fill-rule=\"evenodd\" fill-opacity=\"1\" /><path clip-path=\"url(#clip190)\" d=\"M143.473 1269.75 L146.337 1269.75 L146.337 1296.68 Q152.384 1296.29 155.567 1293.05 Q158.718 1289.77 158.718 1283.94 Q158.718 1280.57 157.891 1277.42 Q157.063 1274.24 155.408 1271.12 L160.946 1271.12 Q162.283 1274.27 162.983 1277.58 Q163.684 1280.89 163.684 1284.29 Q163.684 1292.82 158.718 1297.82 Q153.753 1302.79 145.287 1302.79 Q136.534 1302.79 131.409 1298.08 Q126.253 1293.33 126.253 1285.31 Q126.253 1278.12 130.9 1273.95 Q135.515 1269.75 143.473 1269.75 M141.754 1275.61 Q136.948 1275.67 134.083 1278.31 Q131.219 1280.92 131.219 1285.25 Q131.219 1290.15 133.988 1293.11 Q136.757 1296.04 141.786 1296.48 L141.754 1275.61 Z\" fill=\"#000000\" fill-rule=\"evenodd\" fill-opacity=\"1\" /><path clip-path=\"url(#clip190)\" d=\"M132.587 1239.48 Q132.014 1240.47 131.76 1241.64 Q131.473 1242.79 131.473 1244.19 Q131.473 1249.16 134.72 1251.83 Q137.934 1254.47 143.982 1254.47 L162.761 1254.47 L162.761 1260.36 L127.113 1260.36 L127.113 1254.47 L132.651 1254.47 Q129.404 1252.63 127.845 1249.67 Q126.253 1246.71 126.253 1242.47 Q126.253 1241.87 126.349 1241.14 Q126.412 1240.4 126.572 1239.51 L132.587 1239.48 Z\" fill=\"#000000\" fill-rule=\"evenodd\" fill-opacity=\"1\" /><path clip-path=\"url(#clip190)\" d=\"M154.676 1238.49 L154.676 1231.78 L162.761 1231.78 L162.761 1238.49 L154.676 1238.49 Z\" fill=\"#000000\" fill-rule=\"evenodd\" fill-opacity=\"1\" /><path clip-path=\"url(#clip190)\" d=\"M113.235 1218.6 L113.235 1212.74 L162.761 1212.74 L162.761 1218.6 L113.235 1218.6 Z\" fill=\"#000000\" fill-rule=\"evenodd\" fill-opacity=\"1\" /><path clip-path=\"url(#clip190)\" d=\"M144.841 1184.29 Q144.841 1191.39 146.464 1194.12 Q148.088 1196.86 152.003 1196.86 Q155.122 1196.86 156.968 1194.82 Q158.782 1192.76 158.782 1189.22 Q158.782 1184.35 155.345 1181.42 Q151.875 1178.46 146.146 1178.46 L144.841 1178.46 L144.841 1184.29 M142.422 1172.61 L162.761 1172.61 L162.761 1178.46 L157.35 1178.46 Q160.596 1180.47 162.156 1183.46 Q163.684 1186.45 163.684 1190.78 Q163.684 1196.26 160.628 1199.5 Q157.541 1202.72 152.384 1202.72 Q146.369 1202.72 143.313 1198.71 Q140.258 1194.67 140.258 1186.68 L140.258 1178.46 L139.685 1178.46 Q135.643 1178.46 133.447 1181.14 Q131.219 1183.78 131.219 1188.59 Q131.219 1191.64 131.951 1194.54 Q132.683 1197.43 134.147 1200.11 L128.736 1200.11 Q127.495 1196.89 126.89 1193.87 Q126.253 1190.85 126.253 1187.98 Q126.253 1180.25 130.264 1176.43 Q134.274 1172.61 142.422 1172.61 Z\" fill=\"#000000\" fill-rule=\"evenodd\" fill-opacity=\"1\" /><path clip-path=\"url(#clip190)\" d=\"M133.956 1132.79 Q130.009 1130.59 128.131 1127.54 Q126.253 1124.48 126.253 1120.35 Q126.253 1114.78 130.168 1111.75 Q134.051 1108.73 141.245 1108.73 L162.761 1108.73 L162.761 1114.62 L141.435 1114.62 Q136.311 1114.62 133.828 1116.43 Q131.346 1118.25 131.346 1121.97 Q131.346 1126.52 134.37 1129.16 Q137.393 1131.8 142.613 1131.8 L162.761 1131.8 L162.761 1137.69 L141.435 1137.69 Q136.279 1137.69 133.828 1139.51 Q131.346 1141.32 131.346 1145.11 Q131.346 1149.6 134.401 1152.24 Q137.425 1154.88 142.613 1154.88 L162.761 1154.88 L162.761 1160.77 L127.113 1160.77 L127.113 1154.88 L132.651 1154.88 Q129.372 1152.87 127.813 1150.07 Q126.253 1147.27 126.253 1143.42 Q126.253 1139.54 128.227 1136.83 Q130.2 1134.1 133.956 1132.79 Z\" fill=\"#000000\" fill-rule=\"evenodd\" fill-opacity=\"1\" /><path clip-path=\"url(#clip190)\" d=\"M144.968 1071.46 Q138.507 1071.46 134.847 1074.13 Q131.155 1076.77 131.155 1081.42 Q131.155 1086.07 134.847 1088.74 Q138.507 1091.38 144.968 1091.38 Q151.43 1091.38 155.122 1088.74 Q158.782 1086.07 158.782 1081.42 Q158.782 1076.77 155.122 1074.13 Q151.43 1071.46 144.968 1071.46 M132.523 1091.38 Q129.341 1089.54 127.813 1086.73 Q126.253 1083.9 126.253 1079.99 Q126.253 1073.49 131.409 1069.45 Q136.566 1065.38 144.968 1065.38 Q153.371 1065.38 158.527 1069.45 Q163.684 1073.49 163.684 1079.99 Q163.684 1083.9 162.156 1086.73 Q160.596 1089.54 157.413 1091.38 L162.761 1091.38 L162.761 1097.27 L113.235 1097.27 L113.235 1091.38 L132.523 1091.38 Z\" fill=\"#000000\" fill-rule=\"evenodd\" fill-opacity=\"1\" /><path clip-path=\"url(#clip190)\" d=\"M132.523 1032.21 L113.235 1032.21 L113.235 1026.36 L162.761 1026.36 L162.761 1032.21 L157.413 1032.21 Q160.596 1034.06 162.156 1036.89 Q163.684 1039.69 163.684 1043.64 Q163.684 1050.1 158.527 1054.17 Q153.371 1058.22 144.968 1058.22 Q136.566 1058.22 131.409 1054.17 Q126.253 1050.1 126.253 1043.64 Q126.253 1039.69 127.813 1036.89 Q129.341 1034.06 132.523 1032.21 M144.968 1052.17 Q151.43 1052.17 155.122 1049.53 Q158.782 1046.85 158.782 1042.21 Q158.782 1037.56 155.122 1034.89 Q151.43 1032.21 144.968 1032.21 Q138.507 1032.21 134.847 1034.89 Q131.155 1037.56 131.155 1042.21 Q131.155 1046.85 134.847 1049.53 Q138.507 1052.17 144.968 1052.17 Z\" fill=\"#000000\" fill-rule=\"evenodd\" fill-opacity=\"1\" /><path clip-path=\"url(#clip190)\" d=\"M144.841 998.092 Q144.841 1005.19 146.464 1007.93 Q148.088 1010.66 152.003 1010.66 Q155.122 1010.66 156.968 1008.63 Q158.782 1006.56 158.782 1003.03 Q158.782 998.156 155.345 995.228 Q151.875 992.268 146.146 992.268 L144.841 992.268 L144.841 998.092 M142.422 986.411 L162.761 986.411 L162.761 992.268 L157.35 992.268 Q160.596 994.273 162.156 997.265 Q163.684 1000.26 163.684 1004.59 Q163.684 1010.06 160.628 1013.31 Q157.541 1016.52 152.384 1016.52 Q146.369 1016.52 143.313 1012.51 Q140.258 1008.47 140.258 1000.48 L140.258 992.268 L139.685 992.268 Q135.643 992.268 133.447 994.941 Q131.219 997.583 131.219 1002.39 Q131.219 1005.44 131.951 1008.34 Q132.683 1011.24 134.147 1013.91 L128.736 1013.91 Q127.495 1010.7 126.89 1007.67 Q126.253 1004.65 126.253 1001.78 Q126.253 994.05 130.264 990.231 Q134.274 986.411 142.422 986.411 Z\" fill=\"#000000\" fill-rule=\"evenodd\" fill-opacity=\"1\" /><circle clip-path=\"url(#clip194)\" cx=\"316.43\" cy=\"1123.65\" r=\"37\" fill=\"#d74b3e\" fill-rule=\"evenodd\" fill-opacity=\"1\" stroke=\"#000000\" stroke-opacity=\"1\" stroke-width=\"4\"/>\n",
       "<circle clip-path=\"url(#clip194)\" cx=\"316.43\" cy=\"1644.06\" r=\"41\" fill=\"#ea6428\" fill-rule=\"evenodd\" fill-opacity=\"1\" stroke=\"#000000\" stroke-opacity=\"1\" stroke-width=\"4\"/>\n",
       "<circle clip-path=\"url(#clip194)\" cx=\"1031.31\" cy=\"1459.97\" r=\"3\" fill=\"#000003\" fill-rule=\"evenodd\" fill-opacity=\"1\" stroke=\"#000000\" stroke-opacity=\"1\" stroke-width=\"4\"/>\n",
       "<circle clip-path=\"url(#clip194)\" cx=\"316.43\" cy=\"1730.3\" r=\"56\" fill=\"#f3de52\" fill-rule=\"evenodd\" fill-opacity=\"1\" stroke=\"#000000\" stroke-opacity=\"1\" stroke-width=\"4\"/>\n",
       "<circle clip-path=\"url(#clip194)\" cx=\"1031.31\" cy=\"1617.02\" r=\"16\" fill=\"#480b6a\" fill-rule=\"evenodd\" fill-opacity=\"1\" stroke=\"#000000\" stroke-opacity=\"1\" stroke-width=\"4\"/>\n",
       "<circle clip-path=\"url(#clip194)\" cx=\"1031.31\" cy=\"1750.68\" r=\"61\" fill=\"#fcfea4\" fill-rule=\"evenodd\" fill-opacity=\"1\" stroke=\"#000000\" stroke-opacity=\"1\" stroke-width=\"4\"/>\n",
       "<circle clip-path=\"url(#clip194)\" cx=\"316.43\" cy=\"1458.71\" r=\"33\" fill=\"#c13a50\" fill-rule=\"evenodd\" fill-opacity=\"1\" stroke=\"#000000\" stroke-opacity=\"1\" stroke-width=\"4\"/>\n",
       "<circle clip-path=\"url(#clip194)\" cx=\"316.43\" cy=\"1020.5\" r=\"39\" fill=\"#e35932\" fill-rule=\"evenodd\" fill-opacity=\"1\" stroke=\"#000000\" stroke-opacity=\"1\" stroke-width=\"4\"/>\n",
       "<circle clip-path=\"url(#clip194)\" cx=\"1031.31\" cy=\"1607.55\" r=\"14\" fill=\"#3e0965\" fill-rule=\"evenodd\" fill-opacity=\"1\" stroke=\"#000000\" stroke-opacity=\"1\" stroke-width=\"4\"/>\n",
       "<circle clip-path=\"url(#clip194)\" cx=\"316.43\" cy=\"1593.26\" r=\"37\" fill=\"#d84c3d\" fill-rule=\"evenodd\" fill-opacity=\"1\" stroke=\"#000000\" stroke-opacity=\"1\" stroke-width=\"4\"/>\n",
       "<circle clip-path=\"url(#clip194)\" cx=\"1031.31\" cy=\"1477.58\" r=\"4\" fill=\"#010007\" fill-rule=\"evenodd\" fill-opacity=\"1\" stroke=\"#000000\" stroke-opacity=\"1\" stroke-width=\"4\"/>\n",
       "<circle clip-path=\"url(#clip194)\" cx=\"316.43\" cy=\"1534.3\" r=\"34\" fill=\"#c9404a\" fill-rule=\"evenodd\" fill-opacity=\"1\" stroke=\"#000000\" stroke-opacity=\"1\" stroke-width=\"4\"/>\n",
       "<circle clip-path=\"url(#clip194)\" cx=\"1031.31\" cy=\"1625\" r=\"17\" fill=\"#510d6c\" fill-rule=\"evenodd\" fill-opacity=\"1\" stroke=\"#000000\" stroke-opacity=\"1\" stroke-width=\"4\"/>\n",
       "<circle clip-path=\"url(#clip194)\" cx=\"1031.31\" cy=\"1742.11\" r=\"55\" fill=\"#f5d645\" fill-rule=\"evenodd\" fill-opacity=\"1\" stroke=\"#000000\" stroke-opacity=\"1\" stroke-width=\"4\"/>\n",
       "<circle clip-path=\"url(#clip194)\" cx=\"316.43\" cy=\"1667.19\" r=\"44\" fill=\"#f37819\" fill-rule=\"evenodd\" fill-opacity=\"1\" stroke=\"#000000\" stroke-opacity=\"1\" stroke-width=\"4\"/>\n",
       "<path clip-path=\"url(#clip190)\" d=\"\n",
       "M1394.98 1772.58 L2152.76 1772.58 L2152.76 998.595 L1394.98 998.595  Z\n",
       "  \" fill=\"#ffffff\" fill-rule=\"evenodd\" fill-opacity=\"1\"/>\n",
       "<defs>\n",
       "  <clipPath id=\"clip195\">\n",
       "    <rect x=\"1394\" y=\"998\" width=\"759\" height=\"775\"/>\n",
       "  </clipPath>\n",
       "</defs>\n",
       "<polyline clip-path=\"url(#clip195)\" style=\"stroke:#000000; stroke-linecap:butt; stroke-linejoin:round; stroke-width:2; stroke-opacity:0.1; fill:none\" points=\"\n",
       "  1428.52,1772.58 1428.52,998.595 \n",
       "  \"/>\n",
       "<polyline clip-path=\"url(#clip195)\" style=\"stroke:#000000; stroke-linecap:butt; stroke-linejoin:round; stroke-width:2; stroke-opacity:0.1; fill:none\" points=\"\n",
       "  2094.38,1772.58 2094.38,998.595 \n",
       "  \"/>\n",
       "<polyline clip-path=\"url(#clip190)\" style=\"stroke:#000000; stroke-linecap:butt; stroke-linejoin:round; stroke-width:4; stroke-opacity:1; fill:none\" points=\"\n",
       "  1394.98,1772.58 2152.76,1772.58 \n",
       "  \"/>\n",
       "<polyline clip-path=\"url(#clip190)\" style=\"stroke:#000000; stroke-linecap:butt; stroke-linejoin:round; stroke-width:4; stroke-opacity:1; fill:none\" points=\"\n",
       "  1394.98,998.595 2152.76,998.595 \n",
       "  \"/>\n",
       "<polyline clip-path=\"url(#clip190)\" style=\"stroke:#000000; stroke-linecap:butt; stroke-linejoin:round; stroke-width:4; stroke-opacity:1; fill:none\" points=\"\n",
       "  1428.52,1772.58 1428.52,1753.69 \n",
       "  \"/>\n",
       "<polyline clip-path=\"url(#clip190)\" style=\"stroke:#000000; stroke-linecap:butt; stroke-linejoin:round; stroke-width:4; stroke-opacity:1; fill:none\" points=\"\n",
       "  2094.38,1772.58 2094.38,1753.69 \n",
       "  \"/>\n",
       "<path clip-path=\"url(#clip190)\" d=\"M1393.5 1845.11 L1401.14 1845.11 L1401.14 1818.74 L1392.83 1820.41 L1392.83 1816.15 L1401.09 1814.48 L1405.77 1814.48 L1405.77 1845.11 L1413.41 1845.11 L1413.41 1849.04 L1393.5 1849.04 L1393.5 1845.11 Z\" fill=\"#000000\" fill-rule=\"evenodd\" fill-opacity=\"1\" /><path clip-path=\"url(#clip190)\" d=\"M1432.85 1817.56 Q1429.24 1817.56 1427.41 1821.13 Q1425.61 1824.67 1425.61 1831.8 Q1425.61 1838.9 1427.41 1842.47 Q1429.24 1846.01 1432.85 1846.01 Q1436.49 1846.01 1438.29 1842.47 Q1440.12 1838.9 1440.12 1831.8 Q1440.12 1824.67 1438.29 1821.13 Q1436.49 1817.56 1432.85 1817.56 M1432.85 1813.86 Q1438.66 1813.86 1441.72 1818.46 Q1444.8 1823.05 1444.8 1831.8 Q1444.8 1840.52 1441.72 1845.13 Q1438.66 1849.71 1432.85 1849.71 Q1427.04 1849.71 1423.96 1845.13 Q1420.91 1840.52 1420.91 1831.8 Q1420.91 1823.05 1423.96 1818.46 Q1427.04 1813.86 1432.85 1813.86 Z\" fill=\"#000000\" fill-rule=\"evenodd\" fill-opacity=\"1\" /><path clip-path=\"url(#clip190)\" d=\"M1454.5 1796.05 Q1451.57 1796.05 1450.08 1798.95 Q1448.61 1801.83 1448.61 1807.62 Q1448.61 1813.39 1450.08 1816.29 Q1451.57 1819.17 1454.5 1819.17 Q1457.45 1819.17 1458.92 1816.29 Q1460.41 1813.39 1460.41 1807.62 Q1460.41 1801.83 1458.92 1798.95 Q1457.45 1796.05 1454.5 1796.05 M1454.5 1793.04 Q1459.22 1793.04 1461.7 1796.79 Q1464.21 1800.51 1464.21 1807.62 Q1464.21 1814.71 1461.7 1818.45 Q1459.22 1822.18 1454.5 1822.18 Q1449.78 1822.18 1447.28 1818.45 Q1444.8 1814.71 1444.8 1807.62 Q1444.8 1800.51 1447.28 1796.79 Q1449.78 1793.04 1454.5 1793.04 Z\" fill=\"#000000\" fill-rule=\"evenodd\" fill-opacity=\"1\" /><path clip-path=\"url(#clip190)\" d=\"M2060.7 1845.11 L2068.34 1845.11 L2068.34 1818.74 L2060.03 1820.41 L2060.03 1816.15 L2068.3 1814.48 L2072.97 1814.48 L2072.97 1845.11 L2080.61 1845.11 L2080.61 1849.04 L2060.7 1849.04 L2060.7 1845.11 Z\" fill=\"#000000\" fill-rule=\"evenodd\" fill-opacity=\"1\" /><path clip-path=\"url(#clip190)\" d=\"M2100.06 1817.56 Q2096.45 1817.56 2094.62 1821.13 Q2092.81 1824.67 2092.81 1831.8 Q2092.81 1838.9 2094.62 1842.47 Q2096.45 1846.01 2100.06 1846.01 Q2103.69 1846.01 2105.5 1842.47 Q2107.32 1838.9 2107.32 1831.8 Q2107.32 1824.67 2105.5 1821.13 Q2103.69 1817.56 2100.06 1817.56 M2100.06 1813.86 Q2105.87 1813.86 2108.92 1818.46 Q2112 1823.05 2112 1831.8 Q2112 1840.52 2108.92 1845.13 Q2105.87 1849.71 2100.06 1849.71 Q2094.25 1849.71 2091.17 1845.13 Q2088.11 1840.52 2088.11 1831.8 Q2088.11 1823.05 2091.17 1818.46 Q2094.25 1813.86 2100.06 1813.86 Z\" fill=\"#000000\" fill-rule=\"evenodd\" fill-opacity=\"1\" /><path clip-path=\"url(#clip190)\" d=\"M2112.55 1818.44 L2118.75 1818.44 L2118.75 1797.01 L2112 1798.37 L2112 1794.91 L2118.71 1793.55 L2122.51 1793.55 L2122.51 1818.44 L2128.72 1818.44 L2128.72 1821.63 L2112.55 1821.63 L2112.55 1818.44 Z\" fill=\"#000000\" fill-rule=\"evenodd\" fill-opacity=\"1\" /><path clip-path=\"url(#clip190)\" d=\"M1374.69 1883.35 L1380.55 1883.35 L1380.55 1932.87 L1374.69 1932.87 L1374.69 1883.35 Z\" fill=\"#000000\" fill-rule=\"evenodd\" fill-opacity=\"1\" /><path clip-path=\"url(#clip190)\" d=\"M1406.62 1901.33 Q1401.91 1901.33 1399.17 1905.02 Q1396.43 1908.68 1396.43 1915.08 Q1396.43 1921.48 1399.14 1925.17 Q1401.87 1928.83 1406.62 1928.83 Q1411.3 1928.83 1414.03 1925.14 Q1416.77 1921.45 1416.77 1915.08 Q1416.77 1908.75 1414.03 1905.05 Q1411.3 1901.33 1406.62 1901.33 M1406.62 1896.36 Q1414.26 1896.36 1418.62 1901.33 Q1422.98 1906.29 1422.98 1915.08 Q1422.98 1923.83 1418.62 1928.83 Q1414.26 1933.79 1406.62 1933.79 Q1398.95 1933.79 1394.59 1928.83 Q1390.26 1923.83 1390.26 1915.08 Q1390.26 1906.29 1394.59 1901.33 Q1398.95 1896.36 1406.62 1896.36 Z\" fill=\"#000000\" fill-rule=\"evenodd\" fill-opacity=\"1\" /><path clip-path=\"url(#clip190)\" d=\"M1456.14 1914.63 Q1456.14 1908.27 1453.5 1904.77 Q1450.89 1901.27 1446.15 1901.27 Q1441.44 1901.27 1438.8 1904.77 Q1436.19 1908.27 1436.19 1914.63 Q1436.19 1920.97 1438.8 1924.47 Q1441.44 1927.97 1446.15 1927.97 Q1450.89 1927.97 1453.5 1924.47 Q1456.14 1920.97 1456.14 1914.63 M1462 1928.45 Q1462 1937.55 1457.96 1941.97 Q1453.91 1946.43 1445.57 1946.43 Q1442.49 1946.43 1439.75 1945.95 Q1437.01 1945.51 1434.43 1944.55 L1434.43 1938.86 Q1437.01 1940.26 1439.53 1940.92 Q1442.04 1941.59 1444.65 1941.59 Q1450.41 1941.59 1453.28 1938.57 Q1456.14 1935.58 1456.14 1929.5 L1456.14 1926.6 Q1454.33 1929.75 1451.49 1931.31 Q1448.66 1932.87 1444.72 1932.87 Q1438.16 1932.87 1434.15 1927.87 Q1430.14 1922.88 1430.14 1914.63 Q1430.14 1906.36 1434.15 1901.36 Q1438.16 1896.36 1444.72 1896.36 Q1448.66 1896.36 1451.49 1897.92 Q1454.33 1899.48 1456.14 1902.63 L1456.14 1897.22 L1462 1897.22 L1462 1928.45 Z\" fill=\"#000000\" fill-rule=\"evenodd\" fill-opacity=\"1\" /><path clip-path=\"url(#clip190)\" d=\"M1474.06 1897.22 L1479.92 1897.22 L1479.92 1932.87 L1474.06 1932.87 L1474.06 1897.22 M1474.06 1883.35 L1479.92 1883.35 L1479.92 1890.76 L1474.06 1890.76 L1474.06 1883.35 Z\" fill=\"#000000\" fill-rule=\"evenodd\" fill-opacity=\"1\" /><path clip-path=\"url(#clip190)\" d=\"M1514.9 1898.27 L1514.9 1903.81 Q1512.41 1902.54 1509.74 1901.9 Q1507.07 1901.27 1504.2 1901.27 Q1499.84 1901.27 1497.65 1902.6 Q1495.48 1903.94 1495.48 1906.61 Q1495.48 1908.65 1497.04 1909.83 Q1498.6 1910.97 1503.31 1912.02 L1505.32 1912.47 Q1511.56 1913.81 1514.16 1916.26 Q1516.81 1918.68 1516.81 1923.04 Q1516.81 1928 1512.86 1930.9 Q1508.95 1933.79 1502.07 1933.79 Q1499.21 1933.79 1496.09 1933.22 Q1493 1932.68 1489.56 1931.57 L1489.56 1925.52 Q1492.81 1927.21 1495.96 1928.07 Q1499.11 1928.89 1502.2 1928.89 Q1506.34 1928.89 1508.56 1927.49 Q1510.79 1926.06 1510.79 1923.48 Q1510.79 1921.09 1509.17 1919.82 Q1507.58 1918.55 1502.13 1917.37 L1500.1 1916.89 Q1494.65 1915.75 1492.24 1913.39 Q1489.82 1911.01 1489.82 1906.87 Q1489.82 1901.84 1493.38 1899.1 Q1496.95 1896.36 1503.5 1896.36 Q1506.75 1896.36 1509.61 1896.84 Q1512.48 1897.32 1514.9 1898.27 Z\" fill=\"#000000\" fill-rule=\"evenodd\" fill-opacity=\"1\" /><path clip-path=\"url(#clip190)\" d=\"M1531.93 1887.1 L1531.93 1897.22 L1543.99 1897.22 L1543.99 1901.78 L1531.93 1901.78 L1531.93 1921.13 Q1531.93 1925.49 1533.1 1926.73 Q1534.31 1927.97 1537.97 1927.97 L1543.99 1927.97 L1543.99 1932.87 L1537.97 1932.87 Q1531.19 1932.87 1528.62 1930.36 Q1526.04 1927.81 1526.04 1921.13 L1526.04 1901.78 L1521.74 1901.78 L1521.74 1897.22 L1526.04 1897.22 L1526.04 1887.1 L1531.93 1887.1 Z\" fill=\"#000000\" fill-rule=\"evenodd\" fill-opacity=\"1\" /><path clip-path=\"url(#clip190)\" d=\"M1551.69 1897.22 L1557.55 1897.22 L1557.55 1932.87 L1551.69 1932.87 L1551.69 1897.22 M1551.69 1883.35 L1557.55 1883.35 L1557.55 1890.76 L1551.69 1890.76 L1551.69 1883.35 Z\" fill=\"#000000\" fill-rule=\"evenodd\" fill-opacity=\"1\" /><path clip-path=\"url(#clip190)\" d=\"M1595.46 1898.59 L1595.46 1904.07 Q1592.97 1902.7 1590.46 1902.03 Q1587.98 1901.33 1585.43 1901.33 Q1579.73 1901.33 1576.58 1904.96 Q1573.43 1908.55 1573.43 1915.08 Q1573.43 1921.6 1576.58 1925.23 Q1579.73 1928.83 1585.43 1928.83 Q1587.98 1928.83 1590.46 1928.16 Q1592.97 1927.46 1595.46 1926.09 L1595.46 1931.5 Q1593 1932.65 1590.36 1933.22 Q1587.75 1933.79 1584.79 1933.79 Q1576.74 1933.79 1572 1928.73 Q1567.25 1923.67 1567.25 1915.08 Q1567.25 1906.36 1572.03 1901.36 Q1576.84 1896.36 1585.17 1896.36 Q1587.88 1896.36 1590.46 1896.94 Q1593.04 1897.48 1595.46 1898.59 Z\" fill=\"#000000\" fill-rule=\"evenodd\" fill-opacity=\"1\" /><path clip-path=\"url(#clip190)\" d=\"M1632.73 1943.69 L1632.73 1948.24 L1598.86 1948.24 L1598.86 1943.69 L1632.73 1943.69 Z\" fill=\"#000000\" fill-rule=\"evenodd\" fill-opacity=\"1\" /><path clip-path=\"url(#clip190)\" d=\"M1663.89 1898.59 L1663.89 1904.07 Q1661.4 1902.7 1658.89 1902.03 Q1656.41 1901.33 1653.86 1901.33 Q1648.16 1901.33 1645.01 1904.96 Q1641.86 1908.55 1641.86 1915.08 Q1641.86 1921.6 1645.01 1925.23 Q1648.16 1928.83 1653.86 1928.83 Q1656.41 1928.83 1658.89 1928.16 Q1661.4 1927.46 1663.89 1926.09 L1663.89 1931.5 Q1661.44 1932.65 1658.79 1933.22 Q1656.18 1933.79 1653.22 1933.79 Q1645.17 1933.79 1640.43 1928.73 Q1635.69 1923.67 1635.69 1915.08 Q1635.69 1906.36 1640.46 1901.36 Q1645.27 1896.36 1653.61 1896.36 Q1656.31 1896.36 1658.89 1896.94 Q1661.47 1897.48 1663.89 1898.59 Z\" fill=\"#000000\" fill-rule=\"evenodd\" fill-opacity=\"1\" /><path clip-path=\"url(#clip190)\" d=\"M1674.07 1883.35 L1679.93 1883.35 L1679.93 1932.87 L1674.07 1932.87 L1674.07 1883.35 Z\" fill=\"#000000\" fill-rule=\"evenodd\" fill-opacity=\"1\" /><path clip-path=\"url(#clip190)\" d=\"M1708.38 1914.95 Q1701.28 1914.95 1698.55 1916.58 Q1695.81 1918.2 1695.81 1922.11 Q1695.81 1925.23 1697.85 1927.08 Q1699.92 1928.89 1703.45 1928.89 Q1708.32 1928.89 1711.25 1925.46 Q1714.21 1921.99 1714.21 1916.26 L1714.21 1914.95 L1708.38 1914.95 M1720.06 1912.53 L1720.06 1932.87 L1714.21 1932.87 L1714.21 1927.46 Q1712.2 1930.71 1709.21 1932.27 Q1706.22 1933.79 1701.89 1933.79 Q1696.42 1933.79 1693.17 1930.74 Q1689.95 1927.65 1689.95 1922.5 Q1689.95 1916.48 1693.96 1913.42 Q1698.01 1910.37 1706 1910.37 L1714.21 1910.37 L1714.21 1909.8 Q1714.21 1905.75 1711.53 1903.56 Q1708.89 1901.33 1704.09 1901.33 Q1701.03 1901.33 1698.13 1902.06 Q1695.24 1902.79 1692.56 1904.26 L1692.56 1898.85 Q1695.78 1897.61 1698.8 1897 Q1701.83 1896.36 1704.69 1896.36 Q1712.42 1896.36 1716.24 1900.37 Q1720.06 1904.39 1720.06 1912.53 Z\" fill=\"#000000\" fill-rule=\"evenodd\" fill-opacity=\"1\" /><path clip-path=\"url(#clip190)\" d=\"M1754.85 1898.27 L1754.85 1903.81 Q1752.37 1902.54 1749.7 1901.9 Q1747.02 1901.27 1744.16 1901.27 Q1739.8 1901.27 1737.6 1902.6 Q1735.44 1903.94 1735.44 1906.61 Q1735.44 1908.65 1737 1909.83 Q1738.56 1910.97 1743.27 1912.02 L1745.27 1912.47 Q1751.51 1913.81 1754.12 1916.26 Q1756.76 1918.68 1756.76 1923.04 Q1756.76 1928 1752.82 1930.9 Q1748.9 1933.79 1742.03 1933.79 Q1739.16 1933.79 1736.04 1933.22 Q1732.95 1932.68 1729.52 1931.57 L1729.52 1925.52 Q1732.76 1927.21 1735.91 1928.07 Q1739.07 1928.89 1742.15 1928.89 Q1746.29 1928.89 1748.52 1927.49 Q1750.75 1926.06 1750.75 1923.48 Q1750.75 1921.09 1749.12 1919.82 Q1747.53 1918.55 1742.09 1917.37 L1740.05 1916.89 Q1734.61 1915.75 1732.19 1913.39 Q1729.77 1911.01 1729.77 1906.87 Q1729.77 1901.84 1733.34 1899.1 Q1736.9 1896.36 1743.46 1896.36 Q1746.7 1896.36 1749.57 1896.84 Q1752.43 1897.32 1754.85 1898.27 Z\" fill=\"#000000\" fill-rule=\"evenodd\" fill-opacity=\"1\" /><path clip-path=\"url(#clip190)\" d=\"M1788.81 1898.27 L1788.81 1903.81 Q1786.33 1902.54 1783.66 1901.9 Q1780.98 1901.27 1778.12 1901.27 Q1773.76 1901.27 1771.56 1902.6 Q1769.4 1903.94 1769.4 1906.61 Q1769.4 1908.65 1770.96 1909.83 Q1772.52 1910.97 1777.23 1912.02 L1779.23 1912.47 Q1785.47 1913.81 1788.08 1916.26 Q1790.72 1918.68 1790.72 1923.04 Q1790.72 1928 1786.78 1930.9 Q1782.86 1933.79 1775.99 1933.79 Q1773.12 1933.79 1770 1933.22 Q1766.92 1932.68 1763.48 1931.57 L1763.48 1925.52 Q1766.72 1927.21 1769.88 1928.07 Q1773.03 1928.89 1776.11 1928.89 Q1780.25 1928.89 1782.48 1927.49 Q1784.71 1926.06 1784.71 1923.48 Q1784.71 1921.09 1783.08 1919.82 Q1781.49 1918.55 1776.05 1917.37 L1774.01 1916.89 Q1768.57 1915.75 1766.15 1913.39 Q1763.73 1911.01 1763.73 1906.87 Q1763.73 1901.84 1767.3 1899.1 Q1770.86 1896.36 1777.42 1896.36 Q1780.67 1896.36 1783.53 1896.84 Q1786.39 1897.32 1788.81 1898.27 Z\" fill=\"#000000\" fill-rule=\"evenodd\" fill-opacity=\"1\" /><path clip-path=\"url(#clip190)\" d=\"M1800.05 1897.22 L1805.91 1897.22 L1805.91 1932.87 L1800.05 1932.87 L1800.05 1897.22 M1800.05 1883.35 L1805.91 1883.35 L1805.91 1890.76 L1800.05 1890.76 L1800.05 1883.35 Z\" fill=\"#000000\" fill-rule=\"evenodd\" fill-opacity=\"1\" /><path clip-path=\"url(#clip190)\" d=\"M1836.21 1883.35 L1836.21 1888.22 L1830.6 1888.22 Q1827.45 1888.22 1826.21 1889.49 Q1825 1890.76 1825 1894.07 L1825 1897.22 L1834.65 1897.22 L1834.65 1901.78 L1825 1901.78 L1825 1932.87 L1819.11 1932.87 L1819.11 1901.78 L1813.51 1901.78 L1813.51 1897.22 L1819.11 1897.22 L1819.11 1894.74 Q1819.11 1888.79 1821.88 1886.08 Q1824.65 1883.35 1830.67 1883.35 L1836.21 1883.35 Z\" fill=\"#000000\" fill-rule=\"evenodd\" fill-opacity=\"1\" /><path clip-path=\"url(#clip190)\" d=\"M1841.11 1897.22 L1846.96 1897.22 L1846.96 1932.87 L1841.11 1932.87 L1841.11 1897.22 M1841.11 1883.35 L1846.96 1883.35 L1846.96 1890.76 L1841.11 1890.76 L1841.11 1883.35 Z\" fill=\"#000000\" fill-rule=\"evenodd\" fill-opacity=\"1\" /><path clip-path=\"url(#clip190)\" d=\"M1889.71 1913.58 L1889.71 1916.45 L1862.78 1916.45 Q1863.16 1922.5 1866.41 1925.68 Q1869.69 1928.83 1875.51 1928.83 Q1878.89 1928.83 1882.04 1928 Q1885.22 1927.17 1888.34 1925.52 L1888.34 1931.06 Q1885.19 1932.39 1881.88 1933.09 Q1878.57 1933.79 1875.16 1933.79 Q1866.63 1933.79 1861.64 1928.83 Q1856.67 1923.86 1856.67 1915.4 Q1856.67 1906.64 1861.38 1901.52 Q1866.12 1896.36 1874.15 1896.36 Q1881.34 1896.36 1885.51 1901.01 Q1889.71 1905.63 1889.71 1913.58 M1883.85 1911.86 Q1883.79 1907.06 1881.15 1904.19 Q1878.54 1901.33 1874.21 1901.33 Q1869.31 1901.33 1866.35 1904.1 Q1863.42 1906.87 1862.97 1911.9 L1883.85 1911.86 Z\" fill=\"#000000\" fill-rule=\"evenodd\" fill-opacity=\"1\" /><path clip-path=\"url(#clip190)\" d=\"M1919.98 1902.7 Q1918.99 1902.13 1917.81 1901.87 Q1916.67 1901.58 1915.27 1901.58 Q1910.3 1901.58 1907.63 1904.83 Q1904.99 1908.05 1904.99 1914.09 L1904.99 1932.87 L1899.1 1932.87 L1899.1 1897.22 L1904.99 1897.22 L1904.99 1902.76 Q1906.83 1899.52 1909.79 1897.96 Q1912.75 1896.36 1916.99 1896.36 Q1917.59 1896.36 1918.32 1896.46 Q1919.06 1896.52 1919.95 1896.68 L1919.98 1902.7 Z\" fill=\"#000000\" fill-rule=\"evenodd\" fill-opacity=\"1\" /><path clip-path=\"url(#clip190)\" d=\"M1920.97 1924.79 L1927.68 1924.79 L1927.68 1932.87 L1920.97 1932.87 L1920.97 1924.79 Z\" fill=\"#000000\" fill-rule=\"evenodd\" fill-opacity=\"1\" /><path clip-path=\"url(#clip190)\" d=\"M1940.86 1883.35 L1946.71 1883.35 L1946.71 1932.87 L1940.86 1932.87 L1940.86 1883.35 Z\" fill=\"#000000\" fill-rule=\"evenodd\" fill-opacity=\"1\" /><path clip-path=\"url(#clip190)\" d=\"M1975.17 1914.95 Q1968.07 1914.95 1965.33 1916.58 Q1962.6 1918.2 1962.6 1922.11 Q1962.6 1925.23 1964.63 1927.08 Q1966.7 1928.89 1970.24 1928.89 Q1975.11 1928.89 1978.03 1925.46 Q1980.99 1921.99 1980.99 1916.26 L1980.99 1914.95 L1975.17 1914.95 M1986.85 1912.53 L1986.85 1932.87 L1980.99 1932.87 L1980.99 1927.46 Q1978.99 1930.71 1976 1932.27 Q1973.01 1933.79 1968.68 1933.79 Q1963.2 1933.79 1959.96 1930.74 Q1956.74 1927.65 1956.74 1922.5 Q1956.74 1916.48 1960.75 1913.42 Q1964.79 1910.37 1972.78 1910.37 L1980.99 1910.37 L1980.99 1909.8 Q1980.99 1905.75 1978.32 1903.56 Q1975.68 1901.33 1970.87 1901.33 Q1967.82 1901.33 1964.92 1902.06 Q1962.02 1902.79 1959.35 1904.26 L1959.35 1898.85 Q1962.57 1897.61 1965.59 1897 Q1968.61 1896.36 1971.48 1896.36 Q1979.21 1896.36 1983.03 1900.37 Q1986.85 1904.39 1986.85 1912.53 Z\" fill=\"#000000\" fill-rule=\"evenodd\" fill-opacity=\"1\" /><path clip-path=\"url(#clip190)\" d=\"M2026.67 1904.07 Q2028.86 1900.12 2031.92 1898.24 Q2034.98 1896.36 2039.11 1896.36 Q2044.68 1896.36 2047.71 1900.28 Q2050.73 1904.16 2050.73 1911.36 L2050.73 1932.87 L2044.84 1932.87 L2044.84 1911.55 Q2044.84 1906.42 2043.03 1903.94 Q2041.21 1901.46 2037.49 1901.46 Q2032.94 1901.46 2030.3 1904.48 Q2027.65 1907.5 2027.65 1912.72 L2027.65 1932.87 L2021.77 1932.87 L2021.77 1911.55 Q2021.77 1906.39 2019.95 1903.94 Q2018.14 1901.46 2014.35 1901.46 Q2009.86 1901.46 2007.22 1904.51 Q2004.58 1907.54 2004.58 1912.72 L2004.58 1932.87 L1998.69 1932.87 L1998.69 1897.22 L2004.58 1897.22 L2004.58 1902.76 Q2006.58 1899.48 2009.39 1897.92 Q2012.19 1896.36 2016.04 1896.36 Q2019.92 1896.36 2022.63 1898.34 Q2025.36 1900.31 2026.67 1904.07 Z\" fill=\"#000000\" fill-rule=\"evenodd\" fill-opacity=\"1\" /><path clip-path=\"url(#clip190)\" d=\"M2088 1915.08 Q2088 1908.62 2085.33 1904.96 Q2082.69 1901.27 2078.04 1901.27 Q2073.39 1901.27 2070.72 1904.96 Q2068.08 1908.62 2068.08 1915.08 Q2068.08 1921.54 2070.72 1925.23 Q2073.39 1928.89 2078.04 1928.89 Q2082.69 1928.89 2085.33 1925.23 Q2088 1921.54 2088 1915.08 M2068.08 1902.63 Q2069.92 1899.45 2072.72 1897.92 Q2075.56 1896.36 2079.47 1896.36 Q2085.96 1896.36 2090.01 1901.52 Q2094.08 1906.68 2094.08 1915.08 Q2094.08 1923.48 2090.01 1928.64 Q2085.96 1933.79 2079.47 1933.79 Q2075.56 1933.79 2072.72 1932.27 Q2069.92 1930.71 2068.08 1927.52 L2068.08 1932.87 L2062.19 1932.87 L2062.19 1883.35 L2068.08 1883.35 L2068.08 1902.63 Z\" fill=\"#000000\" fill-rule=\"evenodd\" fill-opacity=\"1\" /><path clip-path=\"url(#clip190)\" d=\"M2127.25 1902.63 L2127.25 1883.35 L2133.1 1883.35 L2133.1 1932.87 L2127.25 1932.87 L2127.25 1927.52 Q2125.4 1930.71 2122.57 1932.27 Q2119.77 1933.79 2115.82 1933.79 Q2109.36 1933.79 2105.28 1928.64 Q2101.24 1923.48 2101.24 1915.08 Q2101.24 1906.68 2105.28 1901.52 Q2109.36 1896.36 2115.82 1896.36 Q2119.77 1896.36 2122.57 1897.92 Q2125.4 1899.45 2127.25 1902.63 M2107.29 1915.08 Q2107.29 1921.54 2109.93 1925.23 Q2112.61 1928.89 2117.25 1928.89 Q2121.9 1928.89 2124.57 1925.23 Q2127.25 1921.54 2127.25 1915.08 Q2127.25 1908.62 2124.57 1904.96 Q2121.9 1901.27 2117.25 1901.27 Q2112.61 1901.27 2109.93 1904.96 Q2107.29 1908.62 2107.29 1915.08 Z\" fill=\"#000000\" fill-rule=\"evenodd\" fill-opacity=\"1\" /><path clip-path=\"url(#clip190)\" d=\"M2161.37 1914.95 Q2154.27 1914.95 2151.53 1916.58 Q2148.79 1918.2 2148.79 1922.11 Q2148.79 1925.23 2150.83 1927.08 Q2152.9 1928.89 2156.43 1928.89 Q2161.3 1928.89 2164.23 1925.46 Q2167.19 1921.99 2167.19 1916.26 L2167.19 1914.95 L2161.37 1914.95 M2173.05 1912.53 L2173.05 1932.87 L2167.19 1932.87 L2167.19 1927.46 Q2165.19 1930.71 2162.19 1932.27 Q2159.2 1933.79 2154.87 1933.79 Q2149.4 1933.79 2146.15 1930.74 Q2142.94 1927.65 2142.94 1922.5 Q2142.94 1916.48 2146.95 1913.42 Q2150.99 1910.37 2158.98 1910.37 L2167.19 1910.37 L2167.19 1909.8 Q2167.19 1905.75 2164.52 1903.56 Q2161.88 1901.33 2157.07 1901.33 Q2154.01 1901.33 2151.12 1902.06 Q2148.22 1902.79 2145.55 1904.26 L2145.55 1898.85 Q2148.76 1897.61 2151.79 1897 Q2154.81 1896.36 2157.67 1896.36 Q2165.41 1896.36 2169.23 1900.37 Q2173.05 1904.39 2173.05 1912.53 Z\" fill=\"#000000\" fill-rule=\"evenodd\" fill-opacity=\"1\" /><polyline clip-path=\"url(#clip195)\" style=\"stroke:#000000; stroke-linecap:butt; stroke-linejoin:round; stroke-width:2; stroke-opacity:0.1; fill:none\" points=\"\n",
       "  1394.98,1664.92 2152.76,1664.92 \n",
       "  \"/>\n",
       "<polyline clip-path=\"url(#clip195)\" style=\"stroke:#000000; stroke-linecap:butt; stroke-linejoin:round; stroke-width:2; stroke-opacity:0.1; fill:none\" points=\"\n",
       "  1394.98,1549.33 2152.76,1549.33 \n",
       "  \"/>\n",
       "<polyline clip-path=\"url(#clip195)\" style=\"stroke:#000000; stroke-linecap:butt; stroke-linejoin:round; stroke-width:2; stroke-opacity:0.1; fill:none\" points=\"\n",
       "  1394.98,1433.73 2152.76,1433.73 \n",
       "  \"/>\n",
       "<polyline clip-path=\"url(#clip195)\" style=\"stroke:#000000; stroke-linecap:butt; stroke-linejoin:round; stroke-width:2; stroke-opacity:0.1; fill:none\" points=\"\n",
       "  1394.98,1318.13 2152.76,1318.13 \n",
       "  \"/>\n",
       "<polyline clip-path=\"url(#clip195)\" style=\"stroke:#000000; stroke-linecap:butt; stroke-linejoin:round; stroke-width:2; stroke-opacity:0.1; fill:none\" points=\"\n",
       "  1394.98,1202.53 2152.76,1202.53 \n",
       "  \"/>\n",
       "<polyline clip-path=\"url(#clip195)\" style=\"stroke:#000000; stroke-linecap:butt; stroke-linejoin:round; stroke-width:2; stroke-opacity:0.1; fill:none\" points=\"\n",
       "  1394.98,1086.93 2152.76,1086.93 \n",
       "  \"/>\n",
       "<polyline clip-path=\"url(#clip190)\" style=\"stroke:#000000; stroke-linecap:butt; stroke-linejoin:round; stroke-width:4; stroke-opacity:1; fill:none\" points=\"\n",
       "  1394.98,1772.58 1394.98,998.595 \n",
       "  \"/>\n",
       "<polyline clip-path=\"url(#clip190)\" style=\"stroke:#000000; stroke-linecap:butt; stroke-linejoin:round; stroke-width:4; stroke-opacity:1; fill:none\" points=\"\n",
       "  2152.76,1772.58 2152.76,998.595 \n",
       "  \"/>\n",
       "<polyline clip-path=\"url(#clip190)\" style=\"stroke:#000000; stroke-linecap:butt; stroke-linejoin:round; stroke-width:4; stroke-opacity:1; fill:none\" points=\"\n",
       "  1394.98,1664.92 1413.88,1664.92 \n",
       "  \"/>\n",
       "<polyline clip-path=\"url(#clip190)\" style=\"stroke:#000000; stroke-linecap:butt; stroke-linejoin:round; stroke-width:4; stroke-opacity:1; fill:none\" points=\"\n",
       "  1394.98,1549.33 1413.88,1549.33 \n",
       "  \"/>\n",
       "<polyline clip-path=\"url(#clip190)\" style=\"stroke:#000000; stroke-linecap:butt; stroke-linejoin:round; stroke-width:4; stroke-opacity:1; fill:none\" points=\"\n",
       "  1394.98,1433.73 1413.88,1433.73 \n",
       "  \"/>\n",
       "<polyline clip-path=\"url(#clip190)\" style=\"stroke:#000000; stroke-linecap:butt; stroke-linejoin:round; stroke-width:4; stroke-opacity:1; fill:none\" points=\"\n",
       "  1394.98,1318.13 1413.88,1318.13 \n",
       "  \"/>\n",
       "<polyline clip-path=\"url(#clip190)\" style=\"stroke:#000000; stroke-linecap:butt; stroke-linejoin:round; stroke-width:4; stroke-opacity:1; fill:none\" points=\"\n",
       "  1394.98,1202.53 1413.88,1202.53 \n",
       "  \"/>\n",
       "<polyline clip-path=\"url(#clip190)\" style=\"stroke:#000000; stroke-linecap:butt; stroke-linejoin:round; stroke-width:4; stroke-opacity:1; fill:none\" points=\"\n",
       "  1394.98,1086.93 1413.88,1086.93 \n",
       "  \"/>\n",
       "<path clip-path=\"url(#clip190)\" d=\"M1244.48 1650.72 Q1240.87 1650.72 1239.04 1654.29 Q1237.24 1657.83 1237.24 1664.96 Q1237.24 1672.07 1239.04 1675.63 Q1240.87 1679.17 1244.48 1679.17 Q1248.12 1679.17 1249.92 1675.63 Q1251.75 1672.07 1251.75 1664.96 Q1251.75 1657.83 1249.92 1654.29 Q1248.12 1650.72 1244.48 1650.72 M1244.48 1647.02 Q1250.29 1647.02 1253.35 1651.63 Q1256.43 1656.21 1256.43 1664.96 Q1256.43 1673.69 1253.35 1678.29 Q1250.29 1682.88 1244.48 1682.88 Q1238.67 1682.88 1235.6 1678.29 Q1232.54 1673.69 1232.54 1664.96 Q1232.54 1656.21 1235.6 1651.63 Q1238.67 1647.02 1244.48 1647.02 Z\" fill=\"#000000\" fill-rule=\"evenodd\" fill-opacity=\"1\" /><path clip-path=\"url(#clip190)\" d=\"M1264.65 1676.32 L1269.53 1676.32 L1269.53 1682.2 L1264.65 1682.2 L1264.65 1676.32 Z\" fill=\"#000000\" fill-rule=\"evenodd\" fill-opacity=\"1\" /><path clip-path=\"url(#clip190)\" d=\"M1290.29 1663.06 Q1287.15 1663.06 1285.29 1665.21 Q1283.47 1667.37 1283.47 1671.12 Q1283.47 1674.84 1285.29 1677.02 Q1287.15 1679.17 1290.29 1679.17 Q1293.44 1679.17 1295.27 1677.02 Q1297.12 1674.84 1297.12 1671.12 Q1297.12 1667.37 1295.27 1665.21 Q1293.44 1663.06 1290.29 1663.06 M1299.58 1648.41 L1299.58 1652.67 Q1297.82 1651.83 1296.01 1651.39 Q1294.23 1650.95 1292.47 1650.95 Q1287.84 1650.95 1285.39 1654.08 Q1282.96 1657.2 1282.61 1663.52 Q1283.98 1661.51 1286.04 1660.45 Q1288.1 1659.36 1290.57 1659.36 Q1295.78 1659.36 1298.79 1662.53 Q1301.82 1665.68 1301.82 1671.12 Q1301.82 1676.44 1298.67 1679.66 Q1295.53 1682.88 1290.29 1682.88 Q1284.3 1682.88 1281.13 1678.29 Q1277.96 1673.69 1277.96 1664.96 Q1277.96 1656.76 1281.85 1651.9 Q1285.73 1647.02 1292.29 1647.02 Q1294.04 1647.02 1295.83 1647.37 Q1297.63 1647.71 1299.58 1648.41 Z\" fill=\"#000000\" fill-rule=\"evenodd\" fill-opacity=\"1\" /><path clip-path=\"url(#clip190)\" d=\"M1319.88 1665.79 Q1316.54 1665.79 1314.62 1667.57 Q1312.72 1669.36 1312.72 1672.48 Q1312.72 1675.61 1314.62 1677.39 Q1316.54 1679.17 1319.88 1679.17 Q1323.21 1679.17 1325.13 1677.39 Q1327.05 1675.58 1327.05 1672.48 Q1327.05 1669.36 1325.13 1667.57 Q1323.23 1665.79 1319.88 1665.79 M1315.2 1663.8 Q1312.19 1663.06 1310.5 1661 Q1308.84 1658.94 1308.84 1655.98 Q1308.84 1651.83 1311.78 1649.43 Q1314.74 1647.02 1319.88 1647.02 Q1325.04 1647.02 1327.98 1649.43 Q1330.92 1651.83 1330.92 1655.98 Q1330.92 1658.94 1329.23 1661 Q1327.56 1663.06 1324.58 1663.8 Q1327.96 1664.59 1329.83 1666.88 Q1331.73 1669.17 1331.73 1672.48 Q1331.73 1677.51 1328.65 1680.19 Q1325.6 1682.88 1319.88 1682.88 Q1314.16 1682.88 1311.08 1680.19 Q1308.03 1677.51 1308.03 1672.48 Q1308.03 1669.17 1309.92 1666.88 Q1311.82 1664.59 1315.2 1663.8 M1313.49 1656.42 Q1313.49 1659.1 1315.16 1660.61 Q1316.85 1662.11 1319.88 1662.11 Q1322.89 1662.11 1324.58 1660.61 Q1326.29 1659.1 1326.29 1656.42 Q1326.29 1653.73 1324.58 1652.23 Q1322.89 1650.72 1319.88 1650.72 Q1316.85 1650.72 1315.16 1652.23 Q1313.49 1653.73 1313.49 1656.42 Z\" fill=\"#000000\" fill-rule=\"evenodd\" fill-opacity=\"1\" /><path clip-path=\"url(#clip190)\" d=\"M1350.04 1650.72 Q1346.43 1650.72 1344.6 1654.29 Q1342.79 1657.83 1342.79 1664.96 Q1342.79 1672.07 1344.6 1675.63 Q1346.43 1679.17 1350.04 1679.17 Q1353.67 1679.17 1355.48 1675.63 Q1357.31 1672.07 1357.31 1664.96 Q1357.31 1657.83 1355.48 1654.29 Q1353.67 1650.72 1350.04 1650.72 M1350.04 1647.02 Q1355.85 1647.02 1358.91 1651.63 Q1361.98 1656.21 1361.98 1664.96 Q1361.98 1673.69 1358.91 1678.29 Q1355.85 1682.88 1350.04 1682.88 Q1344.23 1682.88 1341.15 1678.29 Q1338.1 1673.69 1338.1 1664.96 Q1338.1 1656.21 1341.15 1651.63 Q1344.23 1647.02 1350.04 1647.02 Z\" fill=\"#000000\" fill-rule=\"evenodd\" fill-opacity=\"1\" /><path clip-path=\"url(#clip190)\" d=\"M1245.48 1535.13 Q1241.87 1535.13 1240.04 1538.69 Q1238.23 1542.23 1238.23 1549.36 Q1238.23 1556.47 1240.04 1560.03 Q1241.87 1563.57 1245.48 1563.57 Q1249.11 1563.57 1250.92 1560.03 Q1252.75 1556.47 1252.75 1549.36 Q1252.75 1542.23 1250.92 1538.69 Q1249.11 1535.13 1245.48 1535.13 M1245.48 1531.42 Q1251.29 1531.42 1254.35 1536.03 Q1257.42 1540.61 1257.42 1549.36 Q1257.42 1558.09 1254.35 1562.69 Q1251.29 1567.28 1245.48 1567.28 Q1239.67 1567.28 1236.59 1562.69 Q1233.54 1558.09 1233.54 1549.36 Q1233.54 1540.61 1236.59 1536.03 Q1239.67 1531.42 1245.48 1531.42 Z\" fill=\"#000000\" fill-rule=\"evenodd\" fill-opacity=\"1\" /><path clip-path=\"url(#clip190)\" d=\"M1265.64 1560.73 L1270.53 1560.73 L1270.53 1566.61 L1265.64 1566.61 L1265.64 1560.73 Z\" fill=\"#000000\" fill-rule=\"evenodd\" fill-opacity=\"1\" /><path clip-path=\"url(#clip190)\" d=\"M1291.29 1547.46 Q1288.14 1547.46 1286.29 1549.62 Q1284.46 1551.77 1284.46 1555.52 Q1284.46 1559.25 1286.29 1561.42 Q1288.14 1563.57 1291.29 1563.57 Q1294.44 1563.57 1296.27 1561.42 Q1298.12 1559.25 1298.12 1555.52 Q1298.12 1551.77 1296.27 1549.62 Q1294.44 1547.46 1291.29 1547.46 M1300.57 1532.81 L1300.57 1537.07 Q1298.81 1536.24 1297.01 1535.8 Q1295.23 1535.36 1293.47 1535.36 Q1288.84 1535.36 1286.38 1538.48 Q1283.95 1541.61 1283.6 1547.93 Q1284.97 1545.91 1287.03 1544.85 Q1289.09 1543.76 1291.57 1543.76 Q1296.78 1543.76 1299.79 1546.93 Q1302.82 1550.08 1302.82 1555.52 Q1302.82 1560.84 1299.67 1564.06 Q1296.52 1567.28 1291.29 1567.28 Q1285.29 1567.28 1282.12 1562.69 Q1278.95 1558.09 1278.95 1549.36 Q1278.95 1541.17 1282.84 1536.31 Q1286.73 1531.42 1293.28 1531.42 Q1295.04 1531.42 1296.82 1531.77 Q1298.63 1532.12 1300.57 1532.81 Z\" fill=\"#000000\" fill-rule=\"evenodd\" fill-opacity=\"1\" /><path clip-path=\"url(#clip190)\" d=\"M1320.87 1550.19 Q1317.54 1550.19 1315.62 1551.98 Q1313.72 1553.76 1313.72 1556.88 Q1313.72 1560.01 1315.62 1561.79 Q1317.54 1563.57 1320.87 1563.57 Q1324.21 1563.57 1326.13 1561.79 Q1328.05 1559.99 1328.05 1556.88 Q1328.05 1553.76 1326.13 1551.98 Q1324.23 1550.19 1320.87 1550.19 M1316.2 1548.2 Q1313.19 1547.46 1311.5 1545.4 Q1309.83 1543.34 1309.83 1540.38 Q1309.83 1536.24 1312.77 1533.83 Q1315.73 1531.42 1320.87 1531.42 Q1326.04 1531.42 1328.97 1533.83 Q1331.91 1536.24 1331.91 1540.38 Q1331.91 1543.34 1330.22 1545.4 Q1328.56 1547.46 1325.57 1548.2 Q1328.95 1548.99 1330.83 1551.28 Q1332.72 1553.57 1332.72 1556.88 Q1332.72 1561.91 1329.65 1564.59 Q1326.59 1567.28 1320.87 1567.28 Q1315.16 1567.28 1312.08 1564.59 Q1309.02 1561.91 1309.02 1556.88 Q1309.02 1553.57 1310.92 1551.28 Q1312.82 1548.99 1316.2 1548.2 M1314.48 1540.82 Q1314.48 1543.5 1316.15 1545.01 Q1317.84 1546.51 1320.87 1546.51 Q1323.88 1546.51 1325.57 1545.01 Q1327.29 1543.5 1327.29 1540.82 Q1327.29 1538.13 1325.57 1536.63 Q1323.88 1535.13 1320.87 1535.13 Q1317.84 1535.13 1316.15 1536.63 Q1314.48 1538.13 1314.48 1540.82 Z\" fill=\"#000000\" fill-rule=\"evenodd\" fill-opacity=\"1\" /><path clip-path=\"url(#clip190)\" d=\"M1341.08 1532.05 L1359.44 1532.05 L1359.44 1535.98 L1345.36 1535.98 L1345.36 1544.45 Q1346.38 1544.11 1347.4 1543.94 Q1348.42 1543.76 1349.44 1543.76 Q1355.22 1543.76 1358.6 1546.93 Q1361.98 1550.1 1361.98 1555.52 Q1361.98 1561.1 1358.51 1564.2 Q1355.04 1567.28 1348.72 1567.28 Q1346.54 1567.28 1344.28 1566.91 Q1342.03 1566.54 1339.62 1565.8 L1339.62 1561.1 Q1341.71 1562.23 1343.93 1562.79 Q1346.15 1563.34 1348.63 1563.34 Q1352.63 1563.34 1354.97 1561.24 Q1357.31 1559.13 1357.31 1555.52 Q1357.31 1551.91 1354.97 1549.8 Q1352.63 1547.69 1348.63 1547.69 Q1346.75 1547.69 1344.88 1548.11 Q1343.03 1548.53 1341.08 1549.41 L1341.08 1532.05 Z\" fill=\"#000000\" fill-rule=\"evenodd\" fill-opacity=\"1\" /><path clip-path=\"url(#clip190)\" d=\"M1244.48 1419.53 Q1240.87 1419.53 1239.04 1423.09 Q1237.24 1426.63 1237.24 1433.76 Q1237.24 1440.87 1239.04 1444.43 Q1240.87 1447.98 1244.48 1447.98 Q1248.12 1447.98 1249.92 1444.43 Q1251.75 1440.87 1251.75 1433.76 Q1251.75 1426.63 1249.92 1423.09 Q1248.12 1419.53 1244.48 1419.53 M1244.48 1415.82 Q1250.29 1415.82 1253.35 1420.43 Q1256.43 1425.01 1256.43 1433.76 Q1256.43 1442.49 1253.35 1447.1 Q1250.29 1451.68 1244.48 1451.68 Q1238.67 1451.68 1235.6 1447.1 Q1232.54 1442.49 1232.54 1433.76 Q1232.54 1425.01 1235.6 1420.43 Q1238.67 1415.82 1244.48 1415.82 Z\" fill=\"#000000\" fill-rule=\"evenodd\" fill-opacity=\"1\" /><path clip-path=\"url(#clip190)\" d=\"M1264.65 1445.13 L1269.53 1445.13 L1269.53 1451.01 L1264.65 1451.01 L1264.65 1445.13 Z\" fill=\"#000000\" fill-rule=\"evenodd\" fill-opacity=\"1\" /><path clip-path=\"url(#clip190)\" d=\"M1290.29 1431.86 Q1287.15 1431.86 1285.29 1434.02 Q1283.47 1436.17 1283.47 1439.92 Q1283.47 1443.65 1285.29 1445.82 Q1287.15 1447.98 1290.29 1447.98 Q1293.44 1447.98 1295.27 1445.82 Q1297.12 1443.65 1297.12 1439.92 Q1297.12 1436.17 1295.27 1434.02 Q1293.44 1431.86 1290.29 1431.86 M1299.58 1417.21 L1299.58 1421.47 Q1297.82 1420.64 1296.01 1420.2 Q1294.23 1419.76 1292.47 1419.76 Q1287.84 1419.76 1285.39 1422.88 Q1282.96 1426.01 1282.61 1432.33 Q1283.98 1430.31 1286.04 1429.25 Q1288.1 1428.16 1290.57 1428.16 Q1295.78 1428.16 1298.79 1431.33 Q1301.82 1434.48 1301.82 1439.92 Q1301.82 1445.24 1298.67 1448.46 Q1295.53 1451.68 1290.29 1451.68 Q1284.3 1451.68 1281.13 1447.1 Q1277.96 1442.49 1277.96 1433.76 Q1277.96 1425.57 1281.85 1420.71 Q1285.73 1415.82 1292.29 1415.82 Q1294.04 1415.82 1295.83 1416.17 Q1297.63 1416.52 1299.58 1417.21 Z\" fill=\"#000000\" fill-rule=\"evenodd\" fill-opacity=\"1\" /><path clip-path=\"url(#clip190)\" d=\"M1310.02 1450.29 L1310.02 1446.03 Q1311.78 1446.86 1313.58 1447.3 Q1315.39 1447.74 1317.12 1447.74 Q1321.75 1447.74 1324.18 1444.64 Q1326.64 1441.52 1326.98 1435.18 Q1325.64 1437.17 1323.58 1438.23 Q1321.52 1439.3 1319.02 1439.3 Q1313.84 1439.3 1310.8 1436.17 Q1307.79 1433.02 1307.79 1427.58 Q1307.79 1422.26 1310.94 1419.04 Q1314.09 1415.82 1319.32 1415.82 Q1325.32 1415.82 1328.47 1420.43 Q1331.64 1425.01 1331.64 1433.76 Q1331.64 1441.93 1327.75 1446.82 Q1323.88 1451.68 1317.33 1451.68 Q1315.57 1451.68 1313.77 1451.33 Q1311.96 1450.99 1310.02 1450.29 M1319.32 1435.64 Q1322.47 1435.64 1324.3 1433.49 Q1326.15 1431.33 1326.15 1427.58 Q1326.15 1423.86 1324.3 1421.7 Q1322.47 1419.53 1319.32 1419.53 Q1316.17 1419.53 1314.32 1421.7 Q1312.49 1423.86 1312.49 1427.58 Q1312.49 1431.33 1314.32 1433.49 Q1316.17 1435.64 1319.32 1435.64 Z\" fill=\"#000000\" fill-rule=\"evenodd\" fill-opacity=\"1\" /><path clip-path=\"url(#clip190)\" d=\"M1350.04 1419.53 Q1346.43 1419.53 1344.6 1423.09 Q1342.79 1426.63 1342.79 1433.76 Q1342.79 1440.87 1344.6 1444.43 Q1346.43 1447.98 1350.04 1447.98 Q1353.67 1447.98 1355.48 1444.43 Q1357.31 1440.87 1357.31 1433.76 Q1357.31 1426.63 1355.48 1423.09 Q1353.67 1419.53 1350.04 1419.53 M1350.04 1415.82 Q1355.85 1415.82 1358.91 1420.43 Q1361.98 1425.01 1361.98 1433.76 Q1361.98 1442.49 1358.91 1447.1 Q1355.85 1451.68 1350.04 1451.68 Q1344.23 1451.68 1341.15 1447.1 Q1338.1 1442.49 1338.1 1433.76 Q1338.1 1425.01 1341.15 1420.43 Q1344.23 1415.82 1350.04 1415.82 Z\" fill=\"#000000\" fill-rule=\"evenodd\" fill-opacity=\"1\" /><path clip-path=\"url(#clip190)\" d=\"M1245.48 1303.93 Q1241.87 1303.93 1240.04 1307.49 Q1238.23 1311.04 1238.23 1318.17 Q1238.23 1325.27 1240.04 1328.84 Q1241.87 1332.38 1245.48 1332.38 Q1249.11 1332.38 1250.92 1328.84 Q1252.75 1325.27 1252.75 1318.17 Q1252.75 1311.04 1250.92 1307.49 Q1249.11 1303.93 1245.48 1303.93 M1245.48 1300.23 Q1251.29 1300.23 1254.35 1304.83 Q1257.42 1309.42 1257.42 1318.17 Q1257.42 1326.89 1254.35 1331.5 Q1251.29 1336.08 1245.48 1336.08 Q1239.67 1336.08 1236.59 1331.5 Q1233.54 1326.89 1233.54 1318.17 Q1233.54 1309.42 1236.59 1304.83 Q1239.67 1300.23 1245.48 1300.23 Z\" fill=\"#000000\" fill-rule=\"evenodd\" fill-opacity=\"1\" /><path clip-path=\"url(#clip190)\" d=\"M1265.64 1329.53 L1270.53 1329.53 L1270.53 1335.41 L1265.64 1335.41 L1265.64 1329.53 Z\" fill=\"#000000\" fill-rule=\"evenodd\" fill-opacity=\"1\" /><path clip-path=\"url(#clip190)\" d=\"M1291.29 1316.27 Q1288.14 1316.27 1286.29 1318.42 Q1284.46 1320.57 1284.46 1324.32 Q1284.46 1328.05 1286.29 1330.23 Q1288.14 1332.38 1291.29 1332.38 Q1294.44 1332.38 1296.27 1330.23 Q1298.12 1328.05 1298.12 1324.32 Q1298.12 1320.57 1296.27 1318.42 Q1294.44 1316.27 1291.29 1316.27 M1300.57 1301.61 L1300.57 1305.87 Q1298.81 1305.04 1297.01 1304.6 Q1295.23 1304.16 1293.47 1304.16 Q1288.84 1304.16 1286.38 1307.29 Q1283.95 1310.41 1283.6 1316.73 Q1284.97 1314.72 1287.03 1313.65 Q1289.09 1312.56 1291.57 1312.56 Q1296.78 1312.56 1299.79 1315.73 Q1302.82 1318.88 1302.82 1324.32 Q1302.82 1329.65 1299.67 1332.86 Q1296.52 1336.08 1291.29 1336.08 Q1285.29 1336.08 1282.12 1331.5 Q1278.95 1326.89 1278.95 1318.17 Q1278.95 1309.97 1282.84 1305.11 Q1286.73 1300.23 1293.28 1300.23 Q1295.04 1300.23 1296.82 1300.57 Q1298.63 1300.92 1300.57 1301.61 Z\" fill=\"#000000\" fill-rule=\"evenodd\" fill-opacity=\"1\" /><path clip-path=\"url(#clip190)\" d=\"M1311.01 1334.69 L1311.01 1330.43 Q1312.77 1331.27 1314.58 1331.71 Q1316.38 1332.15 1318.12 1332.15 Q1322.75 1332.15 1325.18 1329.04 Q1327.63 1325.92 1327.98 1319.58 Q1326.64 1321.57 1324.58 1322.63 Q1322.52 1323.7 1320.02 1323.7 Q1314.83 1323.7 1311.8 1320.57 Q1308.79 1317.42 1308.79 1311.98 Q1308.79 1306.66 1311.94 1303.44 Q1315.09 1300.23 1320.32 1300.23 Q1326.31 1300.23 1329.46 1304.83 Q1332.63 1309.42 1332.63 1318.17 Q1332.63 1326.34 1328.74 1331.22 Q1324.88 1336.08 1318.33 1336.08 Q1316.57 1336.08 1314.76 1335.73 Q1312.96 1335.39 1311.01 1334.69 M1320.32 1320.04 Q1323.47 1320.04 1325.29 1317.89 Q1327.15 1315.73 1327.15 1311.98 Q1327.15 1308.26 1325.29 1306.11 Q1323.47 1303.93 1320.32 1303.93 Q1317.17 1303.93 1315.32 1306.11 Q1313.49 1308.26 1313.49 1311.98 Q1313.49 1315.73 1315.32 1317.89 Q1317.17 1320.04 1320.32 1320.04 Z\" fill=\"#000000\" fill-rule=\"evenodd\" fill-opacity=\"1\" /><path clip-path=\"url(#clip190)\" d=\"M1341.08 1300.85 L1359.44 1300.85 L1359.44 1304.79 L1345.36 1304.79 L1345.36 1313.26 Q1346.38 1312.91 1347.4 1312.75 Q1348.42 1312.56 1349.44 1312.56 Q1355.22 1312.56 1358.6 1315.73 Q1361.98 1318.91 1361.98 1324.32 Q1361.98 1329.9 1358.51 1333 Q1355.04 1336.08 1348.72 1336.08 Q1346.54 1336.08 1344.28 1335.71 Q1342.03 1335.34 1339.62 1334.6 L1339.62 1329.9 Q1341.71 1331.04 1343.93 1331.59 Q1346.15 1332.15 1348.63 1332.15 Q1352.63 1332.15 1354.97 1330.04 Q1357.31 1327.93 1357.31 1324.32 Q1357.31 1320.71 1354.97 1318.61 Q1352.63 1316.5 1348.63 1316.5 Q1346.75 1316.5 1344.88 1316.92 Q1343.03 1317.33 1341.08 1318.21 L1341.08 1300.85 Z\" fill=\"#000000\" fill-rule=\"evenodd\" fill-opacity=\"1\" /><path clip-path=\"url(#clip190)\" d=\"M1244.48 1188.33 Q1240.87 1188.33 1239.04 1191.9 Q1237.24 1195.44 1237.24 1202.57 Q1237.24 1209.67 1239.04 1213.24 Q1240.87 1216.78 1244.48 1216.78 Q1248.12 1216.78 1249.92 1213.24 Q1251.75 1209.67 1251.75 1202.57 Q1251.75 1195.44 1249.92 1191.9 Q1248.12 1188.33 1244.48 1188.33 M1244.48 1184.63 Q1250.29 1184.63 1253.35 1189.23 Q1256.43 1193.82 1256.43 1202.57 Q1256.43 1211.29 1253.35 1215.9 Q1250.29 1220.48 1244.48 1220.48 Q1238.67 1220.48 1235.6 1215.9 Q1232.54 1211.29 1232.54 1202.57 Q1232.54 1193.82 1235.6 1189.23 Q1238.67 1184.63 1244.48 1184.63 Z\" fill=\"#000000\" fill-rule=\"evenodd\" fill-opacity=\"1\" /><path clip-path=\"url(#clip190)\" d=\"M1264.65 1213.93 L1269.53 1213.93 L1269.53 1219.81 L1264.65 1219.81 L1264.65 1213.93 Z\" fill=\"#000000\" fill-rule=\"evenodd\" fill-opacity=\"1\" /><path clip-path=\"url(#clip190)\" d=\"M1278.54 1185.25 L1300.76 1185.25 L1300.76 1187.24 L1288.21 1219.81 L1283.33 1219.81 L1295.13 1189.19 L1278.54 1189.19 L1278.54 1185.25 Z\" fill=\"#000000\" fill-rule=\"evenodd\" fill-opacity=\"1\" /><path clip-path=\"url(#clip190)\" d=\"M1319.88 1188.33 Q1316.27 1188.33 1314.44 1191.9 Q1312.63 1195.44 1312.63 1202.57 Q1312.63 1209.67 1314.44 1213.24 Q1316.27 1216.78 1319.88 1216.78 Q1323.51 1216.78 1325.32 1213.24 Q1327.15 1209.67 1327.15 1202.57 Q1327.15 1195.44 1325.32 1191.9 Q1323.51 1188.33 1319.88 1188.33 M1319.88 1184.63 Q1325.69 1184.63 1328.74 1189.23 Q1331.82 1193.82 1331.82 1202.57 Q1331.82 1211.29 1328.74 1215.9 Q1325.69 1220.48 1319.88 1220.48 Q1314.07 1220.48 1310.99 1215.9 Q1307.93 1211.29 1307.93 1202.57 Q1307.93 1193.82 1310.99 1189.23 Q1314.07 1184.63 1319.88 1184.63 Z\" fill=\"#000000\" fill-rule=\"evenodd\" fill-opacity=\"1\" /><path clip-path=\"url(#clip190)\" d=\"M1350.04 1188.33 Q1346.43 1188.33 1344.6 1191.9 Q1342.79 1195.44 1342.79 1202.57 Q1342.79 1209.67 1344.6 1213.24 Q1346.43 1216.78 1350.04 1216.78 Q1353.67 1216.78 1355.48 1213.24 Q1357.31 1209.67 1357.31 1202.57 Q1357.31 1195.44 1355.48 1191.9 Q1353.67 1188.33 1350.04 1188.33 M1350.04 1184.63 Q1355.85 1184.63 1358.91 1189.23 Q1361.98 1193.82 1361.98 1202.57 Q1361.98 1211.29 1358.91 1215.9 Q1355.85 1220.48 1350.04 1220.48 Q1344.23 1220.48 1341.15 1215.9 Q1338.1 1211.29 1338.1 1202.57 Q1338.1 1193.82 1341.15 1189.23 Q1344.23 1184.63 1350.04 1184.63 Z\" fill=\"#000000\" fill-rule=\"evenodd\" fill-opacity=\"1\" /><path clip-path=\"url(#clip190)\" d=\"M1245.48 1072.73 Q1241.87 1072.73 1240.04 1076.3 Q1238.23 1079.84 1238.23 1086.97 Q1238.23 1094.08 1240.04 1097.64 Q1241.87 1101.18 1245.48 1101.18 Q1249.11 1101.18 1250.92 1097.64 Q1252.75 1094.08 1252.75 1086.97 Q1252.75 1079.84 1250.92 1076.3 Q1249.11 1072.73 1245.48 1072.73 M1245.48 1069.03 Q1251.29 1069.03 1254.35 1073.64 Q1257.42 1078.22 1257.42 1086.97 Q1257.42 1095.7 1254.35 1100.3 Q1251.29 1104.89 1245.48 1104.89 Q1239.67 1104.89 1236.59 1100.3 Q1233.54 1095.7 1233.54 1086.97 Q1233.54 1078.22 1236.59 1073.64 Q1239.67 1069.03 1245.48 1069.03 Z\" fill=\"#000000\" fill-rule=\"evenodd\" fill-opacity=\"1\" /><path clip-path=\"url(#clip190)\" d=\"M1265.64 1098.34 L1270.53 1098.34 L1270.53 1104.21 L1265.64 1104.21 L1265.64 1098.34 Z\" fill=\"#000000\" fill-rule=\"evenodd\" fill-opacity=\"1\" /><path clip-path=\"url(#clip190)\" d=\"M1279.53 1069.65 L1301.75 1069.65 L1301.75 1071.65 L1289.21 1104.21 L1284.32 1104.21 L1296.13 1073.59 L1279.53 1073.59 L1279.53 1069.65 Z\" fill=\"#000000\" fill-rule=\"evenodd\" fill-opacity=\"1\" /><path clip-path=\"url(#clip190)\" d=\"M1320.87 1072.73 Q1317.26 1072.73 1315.43 1076.3 Q1313.63 1079.84 1313.63 1086.97 Q1313.63 1094.08 1315.43 1097.64 Q1317.26 1101.18 1320.87 1101.18 Q1324.51 1101.18 1326.31 1097.64 Q1328.14 1094.08 1328.14 1086.97 Q1328.14 1079.84 1326.31 1076.3 Q1324.51 1072.73 1320.87 1072.73 M1320.87 1069.03 Q1326.68 1069.03 1329.74 1073.64 Q1332.82 1078.22 1332.82 1086.97 Q1332.82 1095.7 1329.74 1100.3 Q1326.68 1104.89 1320.87 1104.89 Q1315.06 1104.89 1311.98 1100.3 Q1308.93 1095.7 1308.93 1086.97 Q1308.93 1078.22 1311.98 1073.64 Q1315.06 1069.03 1320.87 1069.03 Z\" fill=\"#000000\" fill-rule=\"evenodd\" fill-opacity=\"1\" /><path clip-path=\"url(#clip190)\" d=\"M1341.08 1069.65 L1359.44 1069.65 L1359.44 1073.59 L1345.36 1073.59 L1345.36 1082.06 Q1346.38 1081.71 1347.4 1081.55 Q1348.42 1081.37 1349.44 1081.37 Q1355.22 1081.37 1358.6 1084.54 Q1361.98 1087.71 1361.98 1093.13 Q1361.98 1098.71 1358.51 1101.81 Q1355.04 1104.89 1348.72 1104.89 Q1346.54 1104.89 1344.28 1104.52 Q1342.03 1104.15 1339.62 1103.4 L1339.62 1098.71 Q1341.71 1099.84 1343.93 1100.4 Q1346.15 1100.95 1348.63 1100.95 Q1352.63 1100.95 1354.97 1098.84 Q1357.31 1096.74 1357.31 1093.13 Q1357.31 1089.52 1354.97 1087.41 Q1352.63 1085.3 1348.63 1085.3 Q1346.75 1085.3 1344.88 1085.72 Q1343.03 1086.14 1341.08 1087.02 L1341.08 1069.65 Z\" fill=\"#000000\" fill-rule=\"evenodd\" fill-opacity=\"1\" /><path clip-path=\"url(#clip190)\" d=\"M1137.76 1671.46 L1137.76 1665.03 L1179.87 1665.03 L1179.87 1641.89 L1185.28 1641.89 L1185.28 1671.46 L1137.76 1671.46 Z\" fill=\"#000000\" fill-rule=\"evenodd\" fill-opacity=\"1\" /><path clip-path=\"url(#clip190)\" d=\"M1153.74 1622.73 Q1153.74 1627.44 1157.43 1630.18 Q1161.09 1632.91 1167.49 1632.91 Q1173.89 1632.91 1177.58 1630.21 Q1181.24 1627.47 1181.24 1622.73 Q1181.24 1618.05 1177.55 1615.31 Q1173.86 1612.57 1167.49 1612.57 Q1161.16 1612.57 1157.47 1615.31 Q1153.74 1618.05 1153.74 1622.73 M1148.78 1622.73 Q1148.78 1615.09 1153.74 1610.73 Q1158.71 1606.37 1167.49 1606.37 Q1176.24 1606.37 1181.24 1610.73 Q1186.21 1615.09 1186.21 1622.73 Q1186.21 1630.4 1181.24 1634.76 Q1176.24 1639.09 1167.49 1639.09 Q1158.71 1639.09 1153.74 1634.76 Q1148.78 1630.4 1148.78 1622.73 Z\" fill=\"#000000\" fill-rule=\"evenodd\" fill-opacity=\"1\" /><path clip-path=\"url(#clip190)\" d=\"M1167.05 1573.2 Q1160.68 1573.2 1157.18 1575.84 Q1153.68 1578.45 1153.68 1583.2 Q1153.68 1587.91 1157.18 1590.55 Q1160.68 1593.16 1167.05 1593.16 Q1173.38 1593.16 1176.88 1590.55 Q1180.38 1587.91 1180.38 1583.2 Q1180.38 1578.45 1176.88 1575.84 Q1173.38 1573.2 1167.05 1573.2 M1180.86 1567.35 Q1189.96 1567.35 1194.39 1571.39 Q1198.84 1575.43 1198.84 1583.77 Q1198.84 1586.86 1198.37 1589.59 Q1197.92 1592.33 1196.97 1594.91 L1191.27 1594.91 Q1192.67 1592.33 1193.34 1589.82 Q1194.01 1587.3 1194.01 1584.69 Q1194.01 1578.93 1190.98 1576.07 Q1187.99 1573.2 1181.91 1573.2 L1179.01 1573.2 Q1182.16 1575.02 1183.72 1577.85 Q1185.28 1580.68 1185.28 1584.63 Q1185.28 1591.19 1180.29 1595.2 Q1175.29 1599.21 1167.05 1599.21 Q1158.77 1599.21 1153.77 1595.2 Q1148.78 1591.19 1148.78 1584.63 Q1148.78 1580.68 1150.34 1577.85 Q1151.9 1575.02 1155.05 1573.2 L1149.64 1573.2 L1149.64 1567.35 L1180.86 1567.35 Z\" fill=\"#000000\" fill-rule=\"evenodd\" fill-opacity=\"1\" /><path clip-path=\"url(#clip190)\" d=\"M1137.76 1555.03 L1137.76 1548.6 L1179.87 1548.6 L1179.87 1525.46 L1185.28 1525.46 L1185.28 1555.03 L1137.76 1555.03 Z\" fill=\"#000000\" fill-rule=\"evenodd\" fill-opacity=\"1\" /><path clip-path=\"url(#clip190)\" d=\"M1153.74 1506.3 Q1153.74 1511.01 1157.43 1513.75 Q1161.09 1516.48 1167.49 1516.48 Q1173.89 1516.48 1177.58 1513.78 Q1181.24 1511.04 1181.24 1506.3 Q1181.24 1501.62 1177.55 1498.88 Q1173.86 1496.15 1167.49 1496.15 Q1161.16 1496.15 1157.47 1498.88 Q1153.74 1501.62 1153.74 1506.3 M1148.78 1506.3 Q1148.78 1498.66 1153.74 1494.3 Q1158.71 1489.94 1167.49 1489.94 Q1176.24 1489.94 1181.24 1494.3 Q1186.21 1498.66 1186.21 1506.3 Q1186.21 1513.97 1181.24 1518.33 Q1176.24 1522.66 1167.49 1522.66 Q1158.71 1522.66 1153.74 1518.33 Q1148.78 1513.97 1148.78 1506.3 Z\" fill=\"#000000\" fill-rule=\"evenodd\" fill-opacity=\"1\" /><path clip-path=\"url(#clip190)\" d=\"M1150.69 1457.51 L1156.22 1457.51 Q1154.95 1459.99 1154.31 1462.66 Q1153.68 1465.34 1153.68 1468.2 Q1153.68 1472.56 1155.02 1474.76 Q1156.35 1476.92 1159.03 1476.92 Q1161.06 1476.92 1162.24 1475.36 Q1163.39 1473.8 1164.44 1469.09 L1164.88 1467.09 Q1166.22 1460.85 1168.67 1458.24 Q1171.09 1455.6 1175.45 1455.6 Q1180.41 1455.6 1183.31 1459.54 Q1186.21 1463.46 1186.21 1470.33 Q1186.21 1473.2 1185.63 1476.32 Q1185.09 1479.4 1183.98 1482.84 L1177.93 1482.84 Q1179.62 1479.59 1180.48 1476.44 Q1181.31 1473.29 1181.31 1470.21 Q1181.31 1466.07 1179.91 1463.84 Q1178.47 1461.61 1175.89 1461.61 Q1173.51 1461.61 1172.23 1463.23 Q1170.96 1464.83 1169.78 1470.27 L1169.31 1472.31 Q1168.16 1477.75 1165.81 1480.17 Q1163.42 1482.59 1159.28 1482.59 Q1154.25 1482.59 1151.51 1479.02 Q1148.78 1475.46 1148.78 1468.9 Q1148.78 1465.65 1149.25 1462.79 Q1149.73 1459.92 1150.69 1457.51 Z\" fill=\"#000000\" fill-rule=\"evenodd\" fill-opacity=\"1\" /><path clip-path=\"url(#clip190)\" d=\"M1150.69 1423.54 L1156.22 1423.54 Q1154.95 1426.03 1154.31 1428.7 Q1153.68 1431.37 1153.68 1434.24 Q1153.68 1438.6 1155.02 1440.8 Q1156.35 1442.96 1159.03 1442.96 Q1161.06 1442.96 1162.24 1441.4 Q1163.39 1439.84 1164.44 1435.13 L1164.88 1433.12 Q1166.22 1426.89 1168.67 1424.28 Q1171.09 1421.63 1175.45 1421.63 Q1180.41 1421.63 1183.31 1425.58 Q1186.21 1429.5 1186.21 1436.37 Q1186.21 1439.24 1185.63 1442.36 Q1185.09 1445.44 1183.98 1448.88 L1177.93 1448.88 Q1179.62 1445.63 1180.48 1442.48 Q1181.31 1439.33 1181.31 1436.24 Q1181.31 1432.11 1179.91 1429.88 Q1178.47 1427.65 1175.89 1427.65 Q1173.51 1427.65 1172.23 1429.27 Q1170.96 1430.87 1169.78 1436.31 L1169.31 1438.34 Q1168.16 1443.79 1165.81 1446.21 Q1163.42 1448.63 1159.28 1448.63 Q1154.25 1448.63 1151.51 1445.06 Q1148.78 1441.5 1148.78 1434.94 Q1148.78 1431.69 1149.25 1428.83 Q1149.73 1425.96 1150.69 1423.54 Z\" fill=\"#000000\" fill-rule=\"evenodd\" fill-opacity=\"1\" /><path clip-path=\"url(#clip190)\" d=\"M1191.33 1385.13 L1195.91 1385.13 L1195.91 1387.1 Q1195.91 1395.03 1193.56 1397.73 Q1191.2 1400.41 1184.17 1400.41 L1176.56 1400.41 Q1171.76 1400.41 1169.91 1402.12 Q1168.06 1403.84 1168.06 1408.36 L1168.06 1410.3 L1163.51 1410.3 L1163.51 1408.36 Q1163.51 1403.81 1161.7 1402.12 Q1159.85 1400.41 1155.11 1400.41 L1147.47 1400.41 Q1140.44 1400.41 1138.11 1397.73 Q1135.76 1395.03 1135.76 1387.1 L1135.76 1385.13 L1140.31 1385.13 L1140.31 1387.29 Q1140.31 1391.78 1141.71 1393.15 Q1143.11 1394.52 1147.6 1394.52 L1155.49 1394.52 Q1160.49 1394.52 1162.75 1395.98 Q1165.01 1397.41 1165.81 1400.91 Q1166.66 1397.38 1168.92 1395.95 Q1171.18 1394.52 1176.15 1394.52 L1184.04 1394.52 Q1188.53 1394.52 1189.93 1393.15 Q1191.33 1391.78 1191.33 1387.29 L1191.33 1385.13 Z\" fill=\"#000000\" fill-rule=\"evenodd\" fill-opacity=\"1\" /><path clip-path=\"url(#clip190)\" d=\"M1137.76 1370.58 L1137.76 1343.27 L1143.18 1343.27 L1143.18 1364.15 L1157.18 1364.15 L1157.18 1345.31 L1162.59 1345.31 L1162.59 1364.15 L1185.28 1364.15 L1185.28 1370.58 L1137.76 1370.58 Z\" fill=\"#000000\" fill-rule=\"evenodd\" fill-opacity=\"1\" /><path clip-path=\"url(#clip190)\" d=\"M1135.76 1333.34 L1135.76 1327.49 L1185.28 1327.49 L1185.28 1333.34 L1135.76 1333.34 Z\" fill=\"#000000\" fill-rule=\"evenodd\" fill-opacity=\"1\" /><path clip-path=\"url(#clip190)\" d=\"M1153.74 1301.42 Q1153.74 1306.13 1157.43 1308.87 Q1161.09 1311.6 1167.49 1311.6 Q1173.89 1311.6 1177.58 1308.9 Q1181.24 1306.16 1181.24 1301.42 Q1181.24 1296.74 1177.55 1294 Q1173.86 1291.27 1167.49 1291.27 Q1161.16 1291.27 1157.47 1294 Q1153.74 1296.74 1153.74 1301.42 M1148.78 1301.42 Q1148.78 1293.78 1153.74 1289.42 Q1158.71 1285.06 1167.49 1285.06 Q1176.24 1285.06 1181.24 1289.42 Q1186.21 1293.78 1186.21 1301.42 Q1186.21 1309.09 1181.24 1313.45 Q1176.24 1317.78 1167.49 1317.78 Q1158.71 1317.78 1153.74 1313.45 Q1148.78 1309.09 1148.78 1301.42 Z\" fill=\"#000000\" fill-rule=\"evenodd\" fill-opacity=\"1\" /><path clip-path=\"url(#clip190)\" d=\"M1167.36 1259.15 Q1167.36 1266.25 1168.99 1268.99 Q1170.61 1271.72 1174.53 1271.72 Q1177.65 1271.72 1179.49 1269.69 Q1181.31 1267.62 1181.31 1264.08 Q1181.31 1259.21 1177.87 1256.29 Q1174.4 1253.33 1168.67 1253.33 L1167.36 1253.33 L1167.36 1259.15 M1164.95 1247.47 L1185.28 1247.47 L1185.28 1253.33 L1179.87 1253.33 Q1183.12 1255.33 1184.68 1258.32 Q1186.21 1261.31 1186.21 1265.64 Q1186.21 1271.12 1183.15 1274.36 Q1180.06 1277.58 1174.91 1277.58 Q1168.89 1277.58 1165.84 1273.57 Q1162.78 1269.53 1162.78 1261.54 L1162.78 1253.33 L1162.21 1253.33 Q1158.17 1253.33 1155.97 1256 Q1153.74 1258.64 1153.74 1263.45 Q1153.74 1266.5 1154.47 1269.4 Q1155.21 1272.3 1156.67 1274.97 L1151.26 1274.97 Q1150.02 1271.75 1149.41 1268.73 Q1148.78 1265.71 1148.78 1262.84 Q1148.78 1255.11 1152.79 1251.29 Q1156.8 1247.47 1164.95 1247.47 Z\" fill=\"#000000\" fill-rule=\"evenodd\" fill-opacity=\"1\" /><path clip-path=\"url(#clip190)\" d=\"M1139.51 1229.61 L1149.64 1229.61 L1149.64 1217.55 L1154.19 1217.55 L1154.19 1229.61 L1173.54 1229.61 Q1177.9 1229.61 1179.14 1228.44 Q1180.38 1227.23 1180.38 1223.57 L1180.38 1217.55 L1185.28 1217.55 L1185.28 1223.57 Q1185.28 1230.35 1182.77 1232.92 Q1180.22 1235.5 1173.54 1235.5 L1154.19 1235.5 L1154.19 1239.8 L1149.64 1239.8 L1149.64 1235.5 L1139.51 1235.5 L1139.51 1229.61 Z\" fill=\"#000000\" fill-rule=\"evenodd\" fill-opacity=\"1\" /><path clip-path=\"url(#clip190)\" d=\"M1158.96 1194.47 Q1158.96 1198.8 1161.92 1201.35 Q1164.88 1203.86 1170.04 1203.86 Q1175.16 1203.86 1178.15 1201.35 Q1181.11 1198.8 1181.11 1194.47 Q1181.11 1190.15 1178.15 1187.63 Q1175.16 1185.09 1170.04 1185.09 Q1164.88 1185.09 1161.92 1187.63 Q1158.96 1190.15 1158.96 1194.47 M1138.81 1181.71 L1144.67 1181.71 Q1143.53 1184.13 1142.92 1186.61 Q1142.32 1189.06 1142.32 1191.48 Q1142.32 1197.85 1146.61 1201.22 Q1150.91 1204.56 1159.6 1205.04 Q1156.83 1203.16 1155.37 1200.33 Q1153.87 1197.5 1153.87 1194.09 Q1153.87 1186.93 1158.23 1182.79 Q1162.56 1178.62 1170.04 1178.62 Q1177.36 1178.62 1181.78 1182.95 Q1186.21 1187.28 1186.21 1194.47 Q1186.21 1202.72 1179.91 1207.08 Q1173.57 1211.44 1161.57 1211.44 Q1150.3 1211.44 1143.62 1206.09 Q1136.9 1200.74 1136.9 1191.74 Q1136.9 1189.32 1137.38 1186.87 Q1137.86 1184.38 1138.81 1181.71 Z\" fill=\"#000000\" fill-rule=\"evenodd\" fill-opacity=\"1\" /><path clip-path=\"url(#clip190)\" d=\"M1143.37 1149.88 L1168.73 1166.12 L1168.73 1149.88 L1143.37 1149.88 M1137.76 1151.57 L1137.76 1143.49 L1168.73 1143.49 L1168.73 1136.71 L1174.08 1136.71 L1174.08 1143.49 L1185.28 1143.49 L1185.28 1149.88 L1174.08 1149.88 L1174.08 1171.34 L1167.87 1171.34 L1137.76 1151.57 Z\" fill=\"#000000\" fill-rule=\"evenodd\" fill-opacity=\"1\" /><path clip-path=\"url(#clip190)\" d=\"M1191.33 1124.9 L1191.33 1122.67 Q1191.33 1118.21 1189.96 1116.88 Q1188.59 1115.51 1184.04 1115.51 L1176.15 1115.51 Q1171.18 1115.51 1168.92 1114.08 Q1166.66 1112.64 1165.81 1109.11 Q1165.01 1112.64 1162.75 1114.08 Q1160.49 1115.51 1155.49 1115.51 L1147.6 1115.51 Q1143.08 1115.51 1141.71 1116.88 Q1140.31 1118.21 1140.31 1122.67 L1140.31 1124.9 L1135.76 1124.9 L1135.76 1122.89 Q1135.76 1114.97 1138.11 1112.33 Q1140.44 1109.65 1147.47 1109.65 L1155.11 1109.65 Q1159.85 1109.65 1161.7 1107.93 Q1163.51 1106.21 1163.51 1101.69 L1163.51 1099.72 L1168.06 1099.72 L1168.06 1101.69 Q1168.06 1106.21 1169.91 1107.93 Q1171.76 1109.65 1176.56 1109.65 L1184.17 1109.65 Q1191.2 1109.65 1193.56 1112.33 Q1195.91 1114.97 1195.91 1122.89 L1195.91 1124.9 L1191.33 1124.9 Z\" fill=\"#000000\" fill-rule=\"evenodd\" fill-opacity=\"1\" /><circle clip-path=\"url(#clip195)\" cx=\"2091.26\" cy=\"1324.52\" r=\"14\" fill=\"#009af9\" fill-rule=\"evenodd\" fill-opacity=\"1\" stroke=\"#000000\" stroke-opacity=\"1\" stroke-width=\"4\"/>\n",
       "<circle clip-path=\"url(#clip195)\" cx=\"1690.94\" cy=\"1271.43\" r=\"14\" fill=\"#009af9\" fill-rule=\"evenodd\" fill-opacity=\"1\" stroke=\"#000000\" stroke-opacity=\"1\" stroke-width=\"4\"/>\n",
       "<circle clip-path=\"url(#clip195)\" cx=\"1899.71\" cy=\"1750.68\" r=\"14\" fill=\"#009af9\" fill-rule=\"evenodd\" fill-opacity=\"1\" stroke=\"#000000\" stroke-opacity=\"1\" stroke-width=\"4\"/>\n",
       "<circle clip-path=\"url(#clip195)\" cx=\"1492.91\" cy=\"1080.54\" r=\"14\" fill=\"#009af9\" fill-rule=\"evenodd\" fill-opacity=\"1\" stroke=\"#000000\" stroke-opacity=\"1\" stroke-width=\"4\"/>\n",
       "<circle clip-path=\"url(#clip195)\" cx=\"1732.73\" cy=\"1593.47\" r=\"14\" fill=\"#009af9\" fill-rule=\"evenodd\" fill-opacity=\"1\" stroke=\"#000000\" stroke-opacity=\"1\" stroke-width=\"4\"/>\n",
       "<circle clip-path=\"url(#clip195)\" cx=\"1416.43\" cy=\"1020.5\" r=\"14\" fill=\"#009af9\" fill-rule=\"evenodd\" fill-opacity=\"1\" stroke=\"#000000\" stroke-opacity=\"1\" stroke-width=\"4\"/>\n",
       "<circle clip-path=\"url(#clip195)\" cx=\"1900.73\" cy=\"1372.7\" r=\"14\" fill=\"#009af9\" fill-rule=\"evenodd\" fill-opacity=\"1\" stroke=\"#000000\" stroke-opacity=\"1\" stroke-width=\"4\"/>\n",
       "<circle clip-path=\"url(#clip195)\" cx=\"2131.31\" cy=\"1294.35\" r=\"14\" fill=\"#009af9\" fill-rule=\"evenodd\" fill-opacity=\"1\" stroke=\"#000000\" stroke-opacity=\"1\" stroke-width=\"4\"/>\n",
       "<circle clip-path=\"url(#clip195)\" cx=\"1746.05\" cy=\"1610.91\" r=\"14\" fill=\"#009af9\" fill-rule=\"evenodd\" fill-opacity=\"1\" stroke=\"#000000\" stroke-opacity=\"1\" stroke-width=\"4\"/>\n",
       "<circle clip-path=\"url(#clip195)\" cx=\"1765.04\" cy=\"1322.44\" r=\"14\" fill=\"#009af9\" fill-rule=\"evenodd\" fill-opacity=\"1\" stroke=\"#000000\" stroke-opacity=\"1\" stroke-width=\"4\"/>\n",
       "<circle clip-path=\"url(#clip195)\" cx=\"1885.13\" cy=\"1742.7\" r=\"14\" fill=\"#009af9\" fill-rule=\"evenodd\" fill-opacity=\"1\" stroke=\"#000000\" stroke-opacity=\"1\" stroke-width=\"4\"/>\n",
       "<circle clip-path=\"url(#clip195)\" cx=\"1832.42\" cy=\"1355.12\" r=\"14\" fill=\"#009af9\" fill-rule=\"evenodd\" fill-opacity=\"1\" stroke=\"#000000\" stroke-opacity=\"1\" stroke-width=\"4\"/>\n",
       "<circle clip-path=\"url(#clip195)\" cx=\"1721.02\" cy=\"1577.53\" r=\"14\" fill=\"#009af9\" fill-rule=\"evenodd\" fill-opacity=\"1\" stroke=\"#000000\" stroke-opacity=\"1\" stroke-width=\"4\"/>\n",
       "<circle clip-path=\"url(#clip195)\" cx=\"1451.09\" cy=\"1092.47\" r=\"14\" fill=\"#009af9\" fill-rule=\"evenodd\" fill-opacity=\"1\" stroke=\"#000000\" stroke-opacity=\"1\" stroke-width=\"4\"/>\n",
       "<circle clip-path=\"url(#clip195)\" cx=\"1649.68\" cy=\"1237.26\" r=\"14\" fill=\"#009af9\" fill-rule=\"evenodd\" fill-opacity=\"1\" stroke=\"#000000\" stroke-opacity=\"1\" stroke-width=\"4\"/>\n",
       "</svg>\n"
      ]
     },
     "execution_count": 135,
     "metadata": {},
     "output_type": "execute_result"
    }
   ],
   "source": [
    "plt = plot(tuned_mach)\n",
    "savefig(\"tuning.png\")\n",
    "plt"
   ]
  },
  {
   "cell_type": "markdown",
   "metadata": {},
   "source": [
    "Finally, let's compare cross-validation estimate of the performance\n",
    "of the self-tuning model with that of the original model (an example\n",
    "of [*nested\n",
    "resampling*]((https://mlr.mlr-org.com/articles/tutorial/nested_resampling.html)\n",
    "here):"
   ]
  },
  {
   "cell_type": "code",
   "execution_count": 136,
   "metadata": {},
   "outputs": [
    {
     "name": "stderr",
     "output_type": "stream",
     "text": [
      "\u001b[33mEvaluating over 3 folds: 100%[=========================] Time: 0:00:00\u001b[39m\n"
     ]
    },
    {
     "data": {
      "text/plain": [
       "PerformanceEvaluation object with these fields:\n",
       "  measure, measurement, operation, per_fold,\n",
       "  per_observation, fitted_params_per_fold,\n",
       "  report_per_fold, train_test_pairs\n",
       "Extract:\n",
       "┌────────────────────────────┬─────────────┬───────────┬────────────────────────\n",
       "│\u001b[22m measure                    \u001b[0m│\u001b[22m measurement \u001b[0m│\u001b[22m operation \u001b[0m│\u001b[22m per_fold             \u001b[0m ⋯\n",
       "├────────────────────────────┼─────────────┼───────────┼────────────────────────\n",
       "│ LogLoss(tol = 2.22045e-16) │ 0.736       │ predict   │ [0.759, 0.707, 0.741] ⋯\n",
       "└────────────────────────────┴─────────────┴───────────┴────────────────────────\n"
      ]
     },
     "execution_count": 136,
     "metadata": {},
     "output_type": "execute_result"
    }
   ],
   "source": [
    "err = evaluate!(mach, resampling=CV(nfolds=3), measure=cross_entropy)"
   ]
  },
  {
   "cell_type": "code",
   "execution_count": 137,
   "metadata": {},
   "outputs": [
    {
     "name": "stderr",
     "output_type": "stream",
     "text": [
      "\u001b[33mEvaluating over 3 folds: 100%[=========================] Time: 0:00:04\u001b[39m\n"
     ]
    },
    {
     "data": {
      "text/plain": [
       "PerformanceEvaluation object with these fields:\n",
       "  measure, measurement, operation, per_fold,\n",
       "  per_observation, fitted_params_per_fold,\n",
       "  report_per_fold, train_test_pairs\n",
       "Extract:\n",
       "┌────────────────────────────┬─────────────┬───────────┬────────────────────────\n",
       "│\u001b[22m measure                    \u001b[0m│\u001b[22m measurement \u001b[0m│\u001b[22m operation \u001b[0m│\u001b[22m per_fold             \u001b[0m ⋯\n",
       "├────────────────────────────┼─────────────┼───────────┼────────────────────────\n",
       "│ LogLoss(tol = 2.22045e-16) │ 0.705       │ predict   │ [0.717, 0.701, 0.697] ⋯\n",
       "└────────────────────────────┴─────────────┴───────────┴────────────────────────\n"
      ]
     },
     "execution_count": 137,
     "metadata": {},
     "output_type": "execute_result"
    }
   ],
   "source": [
    "tuned_err = evaluate!(tuned_mach, resampling=CV(nfolds=3), measure=cross_entropy)"
   ]
  },
  {
   "cell_type": "markdown",
   "metadata": {},
   "source": [
    "<a id='resources-for-part-4'></a>"
   ]
  },
  {
   "cell_type": "markdown",
   "metadata": {},
   "source": [
    "### Resources for Part 4\n",
    "\n",
    "- From the MLJ manual:\n",
    "   - [Learning Curves](https://alan-turing-institute.github.io/MLJ.jl/dev/learning_curves/)\n",
    "   - [Tuning Models](https://alan-turing-institute.github.io/MLJ.jl/dev/tuning_models/)\n",
    "- The [MLJTuning repo](https://github.com/juliaai/MLJTuning.jl#who-is-this-repo-for) - mostly for developers\n",
    "\n",
    "- From Data Science Tutorials:\n",
    "    - [Tuning a model](https://juliaai.github.io/DataScienceTutorials.jl/getting-started/model-tuning/)\n",
    "    - [Crabs with XGBoost](https://juliaai.github.io/DataScienceTutorials.jl/end-to-end/crabs-xgb/) `Grid` tuning in stages for a tree-boosting model with many parameters\n",
    "    - [Boston with LightGBM](https://juliaai.github.io/DataScienceTutorials.jl/end-to-end/boston-lgbm/) -  `Grid` tuning for another popular tree-booster\n",
    "    - [Boston with Flux](https://juliaai.github.io/DataScienceTutorials.jl/end-to-end/boston-flux/) - optimizing batch size in a simple neural network regressor\n",
    "- [UCI Horse Colic Data Set](http://archive.ics.uci.edu/ml/datasets/Horse+Colic)"
   ]
  },
  {
   "cell_type": "markdown",
   "metadata": {},
   "source": [
    "### Exercises for Part 4"
   ]
  },
  {
   "cell_type": "markdown",
   "metadata": {},
   "source": [
    "#### Exercise 8"
   ]
  },
  {
   "cell_type": "markdown",
   "metadata": {},
   "source": [
    "This exercise continues our analysis of the King County House price\n",
    "prediction problem:"
   ]
  },
  {
   "cell_type": "code",
   "execution_count": 138,
   "metadata": {},
   "outputs": [],
   "source": [
    "y, X = unpack(house, ==(:price), name -> true, rng=123);"
   ]
  },
  {
   "cell_type": "markdown",
   "metadata": {},
   "source": [
    "Your task will be to tune the following pipeline regression model,\n",
    "which includes a gradient tree boosting component:"
   ]
  },
  {
   "cell_type": "code",
   "execution_count": 139,
   "metadata": {},
   "outputs": [
    {
     "name": "stdout",
     "output_type": "stream",
     "text": [
      "import EvoTrees ✔"
     ]
    },
    {
     "name": "stderr",
     "output_type": "stream",
     "text": [
      "┌ Info: For silent loading, specify `verbosity=0`. \n",
      "└ @ Main /Users/anthony/.julia/packages/MLJModels/4sRmw/src/loading.jl:168\n"
     ]
    },
    {
     "name": "stdout",
     "output_type": "stream",
     "text": [
      "\n"
     ]
    },
    {
     "data": {
      "text/plain": [
       "Pipeline345(\n",
       "    continuous_encoder = ContinuousEncoder(\n",
       "            drop_last = false,\n",
       "            one_hot_ordered_factors = false),\n",
       "    evo_tree_regressor = EvoTreeRegressor(\n",
       "            loss = EvoTrees.Linear(),\n",
       "            nrounds = 70,\n",
       "            λ = 0.0,\n",
       "            γ = 0.0,\n",
       "            η = 0.1,\n",
       "            max_depth = 5,\n",
       "            min_weight = 1.0,\n",
       "            rowsample = 1.0,\n",
       "            colsample = 1.0,\n",
       "            nbins = 64,\n",
       "            α = 0.5,\n",
       "            metric = :mse,\n",
       "            rng = MersenneTwister(123),\n",
       "            device = \"cpu\"))"
      ]
     },
     "execution_count": 139,
     "metadata": {},
     "output_type": "execute_result"
    }
   ],
   "source": [
    "EvoTreeRegressor = @load EvoTreeRegressor\n",
    "tree_booster = EvoTreeRegressor(nrounds = 70)\n",
    "model = @pipeline ContinuousEncoder tree_booster"
   ]
  },
  {
   "cell_type": "markdown",
   "metadata": {},
   "source": [
    "(a) Construct a bounded range `r1` for the `evo_tree_booster`\n",
    "parameter `max_depth`, varying between 1 and 12."
   ]
  },
  {
   "cell_type": "markdown",
   "metadata": {},
   "source": [
    "\\star&(b) For the `nbins` parameter of the `EvoTreeRegressor`, define the range"
   ]
  },
  {
   "cell_type": "code",
   "execution_count": 140,
   "metadata": {},
   "outputs": [
    {
     "data": {
      "text/plain": [
       "transformed NumericRange(2.5 ≤ evo_tree_regressor.nbins ≤ 7.5; origin=5.0, unit=2.5)"
      ]
     },
     "execution_count": 140,
     "metadata": {},
     "output_type": "execute_result"
    }
   ],
   "source": [
    "r2 = range(model,\n",
    "           :(evo_tree_regressor.nbins),\n",
    "           lower = 2.5,\n",
    "           upper= 7.5, scale=x->2^round(Int, x))"
   ]
  },
  {
   "cell_type": "markdown",
   "metadata": {},
   "source": [
    "Notice that in this case we've specified a *function* instead of a\n",
    "canned scale, like `:log10`. In this case the `scale` function is\n",
    "applied after sampling (uniformly) between the limits of `lower` and\n",
    "`upper`. Perhaps you can guess the outputs of the following lines of\n",
    "code?"
   ]
  },
  {
   "cell_type": "code",
   "execution_count": 141,
   "metadata": {},
   "outputs": [
    {
     "data": {
      "image/svg+xml": [
       "<?xml version=\"1.0\" encoding=\"utf-8\"?>\n",
       "<svg xmlns=\"http://www.w3.org/2000/svg\" xmlns:xlink=\"http://www.w3.org/1999/xlink\" width=\"490\" height=\"300\" viewBox=\"0 0 1960 1200\">\n",
       "<defs>\n",
       "  <clipPath id=\"clip240\">\n",
       "    <rect x=\"0\" y=\"0\" width=\"1960\" height=\"1200\"/>\n",
       "  </clipPath>\n",
       "</defs>\n",
       "<path clip-path=\"url(#clip240)\" d=\"\n",
       "M0 1200 L1960 1200 L1960 0 L0 0  Z\n",
       "  \" fill=\"#ffffff\" fill-rule=\"evenodd\" fill-opacity=\"1\"/>\n",
       "<defs>\n",
       "  <clipPath id=\"clip241\">\n",
       "    <rect x=\"392\" y=\"0\" width=\"1373\" height=\"1200\"/>\n",
       "  </clipPath>\n",
       "</defs>\n",
       "<path clip-path=\"url(#clip240)\" d=\"\n",
       "M166.457 1093.27 L1912.76 1093.27 L1912.76 47.2441 L166.457 47.2441  Z\n",
       "  \" fill=\"#ffffff\" fill-rule=\"evenodd\" fill-opacity=\"1\"/>\n",
       "<defs>\n",
       "  <clipPath id=\"clip242\">\n",
       "    <rect x=\"166\" y=\"47\" width=\"1747\" height=\"1047\"/>\n",
       "  </clipPath>\n",
       "</defs>\n",
       "<polyline clip-path=\"url(#clip242)\" style=\"stroke:#000000; stroke-linecap:butt; stroke-linejoin:round; stroke-width:2; stroke-opacity:0.1; fill:none\" points=\"\n",
       "  200.339,1093.27 200.339,47.2441 \n",
       "  \"/>\n",
       "<polyline clip-path=\"url(#clip242)\" style=\"stroke:#000000; stroke-linecap:butt; stroke-linejoin:round; stroke-width:2; stroke-opacity:0.1; fill:none\" points=\"\n",
       "  449.011,1093.27 449.011,47.2441 \n",
       "  \"/>\n",
       "<polyline clip-path=\"url(#clip242)\" style=\"stroke:#000000; stroke-linecap:butt; stroke-linejoin:round; stroke-width:2; stroke-opacity:0.1; fill:none\" points=\"\n",
       "  697.683,1093.27 697.683,47.2441 \n",
       "  \"/>\n",
       "<polyline clip-path=\"url(#clip242)\" style=\"stroke:#000000; stroke-linecap:butt; stroke-linejoin:round; stroke-width:2; stroke-opacity:0.1; fill:none\" points=\"\n",
       "  946.355,1093.27 946.355,47.2441 \n",
       "  \"/>\n",
       "<polyline clip-path=\"url(#clip242)\" style=\"stroke:#000000; stroke-linecap:butt; stroke-linejoin:round; stroke-width:2; stroke-opacity:0.1; fill:none\" points=\"\n",
       "  1195.03,1093.27 1195.03,47.2441 \n",
       "  \"/>\n",
       "<polyline clip-path=\"url(#clip242)\" style=\"stroke:#000000; stroke-linecap:butt; stroke-linejoin:round; stroke-width:2; stroke-opacity:0.1; fill:none\" points=\"\n",
       "  1443.7,1093.27 1443.7,47.2441 \n",
       "  \"/>\n",
       "<polyline clip-path=\"url(#clip242)\" style=\"stroke:#000000; stroke-linecap:butt; stroke-linejoin:round; stroke-width:2; stroke-opacity:0.1; fill:none\" points=\"\n",
       "  1692.37,1093.27 1692.37,47.2441 \n",
       "  \"/>\n",
       "<polyline clip-path=\"url(#clip240)\" style=\"stroke:#000000; stroke-linecap:butt; stroke-linejoin:round; stroke-width:4; stroke-opacity:1; fill:none\" points=\"\n",
       "  166.457,1093.27 1912.76,1093.27 \n",
       "  \"/>\n",
       "<polyline clip-path=\"url(#clip240)\" style=\"stroke:#000000; stroke-linecap:butt; stroke-linejoin:round; stroke-width:4; stroke-opacity:1; fill:none\" points=\"\n",
       "  200.339,1093.27 200.339,1074.37 \n",
       "  \"/>\n",
       "<polyline clip-path=\"url(#clip240)\" style=\"stroke:#000000; stroke-linecap:butt; stroke-linejoin:round; stroke-width:4; stroke-opacity:1; fill:none\" points=\"\n",
       "  449.011,1093.27 449.011,1074.37 \n",
       "  \"/>\n",
       "<polyline clip-path=\"url(#clip240)\" style=\"stroke:#000000; stroke-linecap:butt; stroke-linejoin:round; stroke-width:4; stroke-opacity:1; fill:none\" points=\"\n",
       "  697.683,1093.27 697.683,1074.37 \n",
       "  \"/>\n",
       "<polyline clip-path=\"url(#clip240)\" style=\"stroke:#000000; stroke-linecap:butt; stroke-linejoin:round; stroke-width:4; stroke-opacity:1; fill:none\" points=\"\n",
       "  946.355,1093.27 946.355,1074.37 \n",
       "  \"/>\n",
       "<polyline clip-path=\"url(#clip240)\" style=\"stroke:#000000; stroke-linecap:butt; stroke-linejoin:round; stroke-width:4; stroke-opacity:1; fill:none\" points=\"\n",
       "  1195.03,1093.27 1195.03,1074.37 \n",
       "  \"/>\n",
       "<polyline clip-path=\"url(#clip240)\" style=\"stroke:#000000; stroke-linecap:butt; stroke-linejoin:round; stroke-width:4; stroke-opacity:1; fill:none\" points=\"\n",
       "  1443.7,1093.27 1443.7,1074.37 \n",
       "  \"/>\n",
       "<polyline clip-path=\"url(#clip240)\" style=\"stroke:#000000; stroke-linecap:butt; stroke-linejoin:round; stroke-width:4; stroke-opacity:1; fill:none\" points=\"\n",
       "  1692.37,1093.27 1692.37,1074.37 \n",
       "  \"/>\n",
       "<path clip-path=\"url(#clip240)\" d=\"M200.339 1120.67 Q196.728 1120.67 194.899 1124.23 Q193.094 1127.77 193.094 1134.9 Q193.094 1142.01 194.899 1145.58 Q196.728 1149.12 200.339 1149.12 Q203.973 1149.12 205.779 1145.58 Q207.607 1142.01 207.607 1134.9 Q207.607 1127.77 205.779 1124.23 Q203.973 1120.67 200.339 1120.67 M200.339 1116.96 Q206.149 1116.96 209.205 1121.57 Q212.283 1126.15 212.283 1134.9 Q212.283 1143.63 209.205 1148.24 Q206.149 1152.82 200.339 1152.82 Q194.529 1152.82 191.45 1148.24 Q188.395 1143.63 188.395 1134.9 Q188.395 1126.15 191.45 1121.57 Q194.529 1116.96 200.339 1116.96 Z\" fill=\"#000000\" fill-rule=\"evenodd\" fill-opacity=\"1\" /><path clip-path=\"url(#clip240)\" d=\"M427.784 1148.21 L444.103 1148.21 L444.103 1152.15 L422.159 1152.15 L422.159 1148.21 Q424.821 1145.46 429.404 1140.83 Q434.011 1136.18 435.192 1134.83 Q437.437 1132.31 438.316 1130.58 Q439.219 1128.82 439.219 1127.13 Q439.219 1124.37 437.275 1122.64 Q435.354 1120.9 432.252 1120.9 Q430.053 1120.9 427.599 1121.66 Q425.168 1122.43 422.391 1123.98 L422.391 1119.26 Q425.215 1118.12 427.668 1117.54 Q430.122 1116.96 432.159 1116.96 Q437.529 1116.96 440.724 1119.65 Q443.918 1122.33 443.918 1126.83 Q443.918 1128.95 443.108 1130.88 Q442.321 1132.77 440.215 1135.37 Q439.636 1136.04 436.534 1139.26 Q433.432 1142.45 427.784 1148.21 Z\" fill=\"#000000\" fill-rule=\"evenodd\" fill-opacity=\"1\" /><path clip-path=\"url(#clip240)\" d=\"M463.918 1120.67 Q460.307 1120.67 458.478 1124.23 Q456.673 1127.77 456.673 1134.9 Q456.673 1142.01 458.478 1145.58 Q460.307 1149.12 463.918 1149.12 Q467.552 1149.12 469.358 1145.58 Q471.187 1142.01 471.187 1134.9 Q471.187 1127.77 469.358 1124.23 Q467.552 1120.67 463.918 1120.67 M463.918 1116.96 Q469.728 1116.96 472.784 1121.57 Q475.863 1126.15 475.863 1134.9 Q475.863 1143.63 472.784 1148.24 Q469.728 1152.82 463.918 1152.82 Q458.108 1152.82 455.029 1148.24 Q451.974 1143.63 451.974 1134.9 Q451.974 1126.15 455.029 1121.57 Q458.108 1116.96 463.918 1116.96 Z\" fill=\"#000000\" fill-rule=\"evenodd\" fill-opacity=\"1\" /><path clip-path=\"url(#clip240)\" d=\"M685.854 1121.66 L674.049 1140.11 L685.854 1140.11 L685.854 1121.66 M684.627 1117.59 L690.507 1117.59 L690.507 1140.11 L695.437 1140.11 L695.437 1144 L690.507 1144 L690.507 1152.15 L685.854 1152.15 L685.854 1144 L670.252 1144 L670.252 1139.49 L684.627 1117.59 Z\" fill=\"#000000\" fill-rule=\"evenodd\" fill-opacity=\"1\" /><path clip-path=\"url(#clip240)\" d=\"M713.169 1120.67 Q709.558 1120.67 707.729 1124.23 Q705.923 1127.77 705.923 1134.9 Q705.923 1142.01 707.729 1145.58 Q709.558 1149.12 713.169 1149.12 Q716.803 1149.12 718.609 1145.58 Q720.437 1142.01 720.437 1134.9 Q720.437 1127.77 718.609 1124.23 Q716.803 1120.67 713.169 1120.67 M713.169 1116.96 Q718.979 1116.96 722.035 1121.57 Q725.113 1126.15 725.113 1134.9 Q725.113 1143.63 722.035 1148.24 Q718.979 1152.82 713.169 1152.82 Q707.359 1152.82 704.28 1148.24 Q701.224 1143.63 701.224 1134.9 Q701.224 1126.15 704.28 1121.57 Q707.359 1116.96 713.169 1116.96 Z\" fill=\"#000000\" fill-rule=\"evenodd\" fill-opacity=\"1\" /><path clip-path=\"url(#clip240)\" d=\"M931.76 1133.01 Q928.612 1133.01 926.76 1135.16 Q924.931 1137.31 924.931 1141.06 Q924.931 1144.79 926.76 1146.96 Q928.612 1149.12 931.76 1149.12 Q934.908 1149.12 936.737 1146.96 Q938.589 1144.79 938.589 1141.06 Q938.589 1137.31 936.737 1135.16 Q934.908 1133.01 931.76 1133.01 M941.042 1118.35 L941.042 1122.61 Q939.283 1121.78 937.477 1121.34 Q935.695 1120.9 933.936 1120.9 Q929.306 1120.9 926.852 1124.02 Q924.422 1127.15 924.075 1133.47 Q925.44 1131.45 927.501 1130.39 Q929.561 1129.3 932.038 1129.3 Q937.246 1129.3 940.255 1132.47 Q943.288 1135.62 943.288 1141.06 Q943.288 1146.39 940.139 1149.6 Q936.991 1152.82 931.76 1152.82 Q925.765 1152.82 922.593 1148.24 Q919.422 1143.63 919.422 1134.9 Q919.422 1126.71 923.311 1121.85 Q927.2 1116.96 933.751 1116.96 Q935.51 1116.96 937.292 1117.31 Q939.098 1117.66 941.042 1118.35 Z\" fill=\"#000000\" fill-rule=\"evenodd\" fill-opacity=\"1\" /><path clip-path=\"url(#clip240)\" d=\"M961.343 1120.67 Q957.732 1120.67 955.903 1124.23 Q954.098 1127.77 954.098 1134.9 Q954.098 1142.01 955.903 1145.58 Q957.732 1149.12 961.343 1149.12 Q964.977 1149.12 966.783 1145.58 Q968.612 1142.01 968.612 1134.9 Q968.612 1127.77 966.783 1124.23 Q964.977 1120.67 961.343 1120.67 M961.343 1116.96 Q967.153 1116.96 970.209 1121.57 Q973.287 1126.15 973.287 1134.9 Q973.287 1143.63 970.209 1148.24 Q967.153 1152.82 961.343 1152.82 Q955.533 1152.82 952.454 1148.24 Q949.399 1143.63 949.399 1134.9 Q949.399 1126.15 952.454 1121.57 Q955.533 1116.96 961.343 1116.96 Z\" fill=\"#000000\" fill-rule=\"evenodd\" fill-opacity=\"1\" /><path clip-path=\"url(#clip240)\" d=\"M1179.9 1135.74 Q1176.57 1135.74 1174.64 1137.52 Q1172.75 1139.3 1172.75 1142.43 Q1172.75 1145.55 1174.64 1147.33 Q1176.57 1149.12 1179.9 1149.12 Q1183.23 1149.12 1185.15 1147.33 Q1187.08 1145.53 1187.08 1142.43 Q1187.08 1139.3 1185.15 1137.52 Q1183.26 1135.74 1179.9 1135.74 M1175.22 1133.75 Q1172.21 1133.01 1170.52 1130.95 Q1168.86 1128.89 1168.86 1125.92 Q1168.86 1121.78 1171.8 1119.37 Q1174.76 1116.96 1179.9 1116.96 Q1185.06 1116.96 1188 1119.37 Q1190.94 1121.78 1190.94 1125.92 Q1190.94 1128.89 1189.25 1130.95 Q1187.58 1133.01 1184.6 1133.75 Q1187.98 1134.53 1189.85 1136.83 Q1191.75 1139.12 1191.75 1142.43 Q1191.75 1147.45 1188.67 1150.14 Q1185.62 1152.82 1179.9 1152.82 Q1174.18 1152.82 1171.1 1150.14 Q1168.05 1147.45 1168.05 1142.43 Q1168.05 1139.12 1169.95 1136.83 Q1171.84 1134.53 1175.22 1133.75 M1173.51 1126.36 Q1173.51 1129.05 1175.18 1130.55 Q1176.87 1132.06 1179.9 1132.06 Q1182.91 1132.06 1184.6 1130.55 Q1186.31 1129.05 1186.31 1126.36 Q1186.31 1123.68 1184.6 1122.17 Q1182.91 1120.67 1179.9 1120.67 Q1176.87 1120.67 1175.18 1122.17 Q1173.51 1123.68 1173.51 1126.36 Z\" fill=\"#000000\" fill-rule=\"evenodd\" fill-opacity=\"1\" /><path clip-path=\"url(#clip240)\" d=\"M1210.06 1120.67 Q1206.45 1120.67 1204.62 1124.23 Q1202.82 1127.77 1202.82 1134.9 Q1202.82 1142.01 1204.62 1145.58 Q1206.45 1149.12 1210.06 1149.12 Q1213.7 1149.12 1215.5 1145.58 Q1217.33 1142.01 1217.33 1134.9 Q1217.33 1127.77 1215.5 1124.23 Q1213.7 1120.67 1210.06 1120.67 M1210.06 1116.96 Q1215.87 1116.96 1218.93 1121.57 Q1222.01 1126.15 1222.01 1134.9 Q1222.01 1143.63 1218.93 1148.24 Q1215.87 1152.82 1210.06 1152.82 Q1204.25 1152.82 1201.17 1148.24 Q1198.12 1143.63 1198.12 1134.9 Q1198.12 1126.15 1201.17 1121.57 Q1204.25 1116.96 1210.06 1116.96 Z\" fill=\"#000000\" fill-rule=\"evenodd\" fill-opacity=\"1\" /><path clip-path=\"url(#clip240)\" d=\"M1403.31 1148.21 L1410.94 1148.21 L1410.94 1121.85 L1402.63 1123.51 L1402.63 1119.26 L1410.9 1117.59 L1415.57 1117.59 L1415.57 1148.21 L1423.21 1148.21 L1423.21 1152.15 L1403.31 1152.15 L1403.31 1148.21 Z\" fill=\"#000000\" fill-rule=\"evenodd\" fill-opacity=\"1\" /><path clip-path=\"url(#clip240)\" d=\"M1442.66 1120.67 Q1439.05 1120.67 1437.22 1124.23 Q1435.41 1127.77 1435.41 1134.9 Q1435.41 1142.01 1437.22 1145.58 Q1439.05 1149.12 1442.66 1149.12 Q1446.29 1149.12 1448.1 1145.58 Q1449.93 1142.01 1449.93 1134.9 Q1449.93 1127.77 1448.1 1124.23 Q1446.29 1120.67 1442.66 1120.67 M1442.66 1116.96 Q1448.47 1116.96 1451.52 1121.57 Q1454.6 1126.15 1454.6 1134.9 Q1454.6 1143.63 1451.52 1148.24 Q1448.47 1152.82 1442.66 1152.82 Q1436.85 1152.82 1433.77 1148.24 Q1430.71 1143.63 1430.71 1134.9 Q1430.71 1126.15 1433.77 1121.57 Q1436.85 1116.96 1442.66 1116.96 Z\" fill=\"#000000\" fill-rule=\"evenodd\" fill-opacity=\"1\" /><path clip-path=\"url(#clip240)\" d=\"M1472.82 1120.67 Q1469.21 1120.67 1467.38 1124.23 Q1465.57 1127.77 1465.57 1134.9 Q1465.57 1142.01 1467.38 1145.58 Q1469.21 1149.12 1472.82 1149.12 Q1476.45 1149.12 1478.26 1145.58 Q1480.09 1142.01 1480.09 1134.9 Q1480.09 1127.77 1478.26 1124.23 Q1476.45 1120.67 1472.82 1120.67 M1472.82 1116.96 Q1478.63 1116.96 1481.68 1121.57 Q1484.76 1126.15 1484.76 1134.9 Q1484.76 1143.63 1481.68 1148.24 Q1478.63 1152.82 1472.82 1152.82 Q1467.01 1152.82 1463.93 1148.24 Q1460.87 1143.63 1460.87 1134.9 Q1460.87 1126.15 1463.93 1121.57 Q1467.01 1116.96 1472.82 1116.96 Z\" fill=\"#000000\" fill-rule=\"evenodd\" fill-opacity=\"1\" /><path clip-path=\"url(#clip240)\" d=\"M1651.98 1148.21 L1659.62 1148.21 L1659.62 1121.85 L1651.31 1123.51 L1651.31 1119.26 L1659.57 1117.59 L1664.25 1117.59 L1664.25 1148.21 L1671.88 1148.21 L1671.88 1152.15 L1651.98 1152.15 L1651.98 1148.21 Z\" fill=\"#000000\" fill-rule=\"evenodd\" fill-opacity=\"1\" /><path clip-path=\"url(#clip240)\" d=\"M1685.36 1148.21 L1701.68 1148.21 L1701.68 1152.15 L1679.73 1152.15 L1679.73 1148.21 Q1682.39 1145.46 1686.98 1140.83 Q1691.58 1136.18 1692.76 1134.83 Q1695.01 1132.31 1695.89 1130.58 Q1696.79 1128.82 1696.79 1127.13 Q1696.79 1124.37 1694.85 1122.64 Q1692.93 1120.9 1689.82 1120.9 Q1687.63 1120.9 1685.17 1121.66 Q1682.74 1122.43 1679.96 1123.98 L1679.96 1119.26 Q1682.79 1118.12 1685.24 1117.54 Q1687.69 1116.96 1689.73 1116.96 Q1695.1 1116.96 1698.3 1119.65 Q1701.49 1122.33 1701.49 1126.83 Q1701.49 1128.95 1700.68 1130.88 Q1699.89 1132.77 1697.79 1135.37 Q1697.21 1136.04 1694.11 1139.26 Q1691 1142.45 1685.36 1148.21 Z\" fill=\"#000000\" fill-rule=\"evenodd\" fill-opacity=\"1\" /><path clip-path=\"url(#clip240)\" d=\"M1721.49 1120.67 Q1717.88 1120.67 1716.05 1124.23 Q1714.25 1127.77 1714.25 1134.9 Q1714.25 1142.01 1716.05 1145.58 Q1717.88 1149.12 1721.49 1149.12 Q1725.12 1149.12 1726.93 1145.58 Q1728.76 1142.01 1728.76 1134.9 Q1728.76 1127.77 1726.93 1124.23 Q1725.12 1120.67 1721.49 1120.67 M1721.49 1116.96 Q1727.3 1116.96 1730.36 1121.57 Q1733.44 1126.15 1733.44 1134.9 Q1733.44 1143.63 1730.36 1148.24 Q1727.3 1152.82 1721.49 1152.82 Q1715.68 1152.82 1712.6 1148.24 Q1709.55 1143.63 1709.55 1134.9 Q1709.55 1126.15 1712.6 1121.57 Q1715.68 1116.96 1721.49 1116.96 Z\" fill=\"#000000\" fill-rule=\"evenodd\" fill-opacity=\"1\" /><polyline clip-path=\"url(#clip242)\" style=\"stroke:#000000; stroke-linecap:butt; stroke-linejoin:round; stroke-width:2; stroke-opacity:0.1; fill:none\" points=\"\n",
       "  166.457,1063.66 1912.76,1063.66 \n",
       "  \"/>\n",
       "<polyline clip-path=\"url(#clip242)\" style=\"stroke:#000000; stroke-linecap:butt; stroke-linejoin:round; stroke-width:2; stroke-opacity:0.1; fill:none\" points=\"\n",
       "  166.457,825.303 1912.76,825.303 \n",
       "  \"/>\n",
       "<polyline clip-path=\"url(#clip242)\" style=\"stroke:#000000; stroke-linecap:butt; stroke-linejoin:round; stroke-width:2; stroke-opacity:0.1; fill:none\" points=\"\n",
       "  166.457,586.942 1912.76,586.942 \n",
       "  \"/>\n",
       "<polyline clip-path=\"url(#clip242)\" style=\"stroke:#000000; stroke-linecap:butt; stroke-linejoin:round; stroke-width:2; stroke-opacity:0.1; fill:none\" points=\"\n",
       "  166.457,348.581 1912.76,348.581 \n",
       "  \"/>\n",
       "<polyline clip-path=\"url(#clip242)\" style=\"stroke:#000000; stroke-linecap:butt; stroke-linejoin:round; stroke-width:2; stroke-opacity:0.1; fill:none\" points=\"\n",
       "  166.457,110.219 1912.76,110.219 \n",
       "  \"/>\n",
       "<polyline clip-path=\"url(#clip240)\" style=\"stroke:#000000; stroke-linecap:butt; stroke-linejoin:round; stroke-width:4; stroke-opacity:1; fill:none\" points=\"\n",
       "  166.457,1093.27 166.457,47.2441 \n",
       "  \"/>\n",
       "<polyline clip-path=\"url(#clip240)\" style=\"stroke:#000000; stroke-linecap:butt; stroke-linejoin:round; stroke-width:4; stroke-opacity:1; fill:none\" points=\"\n",
       "  166.457,1063.66 185.355,1063.66 \n",
       "  \"/>\n",
       "<polyline clip-path=\"url(#clip240)\" style=\"stroke:#000000; stroke-linecap:butt; stroke-linejoin:round; stroke-width:4; stroke-opacity:1; fill:none\" points=\"\n",
       "  166.457,825.303 185.355,825.303 \n",
       "  \"/>\n",
       "<polyline clip-path=\"url(#clip240)\" style=\"stroke:#000000; stroke-linecap:butt; stroke-linejoin:round; stroke-width:4; stroke-opacity:1; fill:none\" points=\"\n",
       "  166.457,586.942 185.355,586.942 \n",
       "  \"/>\n",
       "<polyline clip-path=\"url(#clip240)\" style=\"stroke:#000000; stroke-linecap:butt; stroke-linejoin:round; stroke-width:4; stroke-opacity:1; fill:none\" points=\"\n",
       "  166.457,348.581 185.355,348.581 \n",
       "  \"/>\n",
       "<polyline clip-path=\"url(#clip240)\" style=\"stroke:#000000; stroke-linecap:butt; stroke-linejoin:round; stroke-width:4; stroke-opacity:1; fill:none\" points=\"\n",
       "  166.457,110.219 185.355,110.219 \n",
       "  \"/>\n",
       "<path clip-path=\"url(#clip240)\" d=\"M125.113 1049.46 Q121.502 1049.46 119.673 1053.03 Q117.868 1056.57 117.868 1063.7 Q117.868 1070.81 119.673 1074.37 Q121.502 1077.91 125.113 1077.91 Q128.747 1077.91 130.553 1074.37 Q132.382 1070.81 132.382 1063.7 Q132.382 1056.57 130.553 1053.03 Q128.747 1049.46 125.113 1049.46 M125.113 1045.76 Q130.923 1045.76 133.979 1050.37 Q137.057 1054.95 137.057 1063.7 Q137.057 1072.43 133.979 1077.03 Q130.923 1081.62 125.113 1081.62 Q119.303 1081.62 116.224 1077.03 Q113.169 1072.43 113.169 1063.7 Q113.169 1054.95 116.224 1050.37 Q119.303 1045.76 125.113 1045.76 Z\" fill=\"#000000\" fill-rule=\"evenodd\" fill-opacity=\"1\" /><path clip-path=\"url(#clip240)\" d=\"M84.9975 808.023 L103.354 808.023 L103.354 811.958 L89.2799 811.958 L89.2799 820.431 Q90.2984 820.083 91.3169 819.921 Q92.3354 819.736 93.3539 819.736 Q99.141 819.736 102.521 822.907 Q105.9 826.079 105.9 831.495 Q105.9 837.074 102.428 840.176 Q98.9558 843.255 92.6364 843.255 Q90.4604 843.255 88.1919 842.884 Q85.9466 842.514 83.5392 841.773 L83.5392 837.074 Q85.6225 838.208 87.8447 838.764 Q90.0669 839.319 92.5438 839.319 Q96.5484 839.319 98.8863 837.213 Q101.224 835.106 101.224 831.495 Q101.224 827.884 98.8863 825.778 Q96.5484 823.671 92.5438 823.671 Q90.6688 823.671 88.7938 824.088 Q86.9419 824.505 84.9975 825.384 L84.9975 808.023 Z\" fill=\"#000000\" fill-rule=\"evenodd\" fill-opacity=\"1\" /><path clip-path=\"url(#clip240)\" d=\"M125.113 811.102 Q121.502 811.102 119.673 814.667 Q117.868 818.208 117.868 825.338 Q117.868 832.444 119.673 836.009 Q121.502 839.551 125.113 839.551 Q128.747 839.551 130.553 836.009 Q132.382 832.444 132.382 825.338 Q132.382 818.208 130.553 814.667 Q128.747 811.102 125.113 811.102 M125.113 807.398 Q130.923 807.398 133.979 812.005 Q137.057 816.588 137.057 825.338 Q137.057 834.065 133.979 838.671 Q130.923 843.255 125.113 843.255 Q119.303 843.255 116.224 838.671 Q113.169 834.065 113.169 825.338 Q113.169 816.588 116.224 812.005 Q119.303 807.398 125.113 807.398 Z\" fill=\"#000000\" fill-rule=\"evenodd\" fill-opacity=\"1\" /><path clip-path=\"url(#clip240)\" d=\"M55.5995 600.287 L63.2384 600.287 L63.2384 573.921 L54.9282 575.588 L54.9282 571.329 L63.1921 569.662 L67.868 569.662 L67.868 600.287 L75.5068 600.287 L75.5068 604.222 L55.5995 604.222 L55.5995 600.287 Z\" fill=\"#000000\" fill-rule=\"evenodd\" fill-opacity=\"1\" /><path clip-path=\"url(#clip240)\" d=\"M94.9512 572.741 Q91.3401 572.741 89.5114 576.305 Q87.7058 579.847 87.7058 586.977 Q87.7058 594.083 89.5114 597.648 Q91.3401 601.19 94.9512 601.19 Q98.5854 601.19 100.391 597.648 Q102.22 594.083 102.22 586.977 Q102.22 579.847 100.391 576.305 Q98.5854 572.741 94.9512 572.741 M94.9512 569.037 Q100.761 569.037 103.817 573.643 Q106.896 578.227 106.896 586.977 Q106.896 595.703 103.817 600.31 Q100.761 604.893 94.9512 604.893 Q89.141 604.893 86.0623 600.31 Q83.0068 595.703 83.0068 586.977 Q83.0068 578.227 86.0623 573.643 Q89.141 569.037 94.9512 569.037 Z\" fill=\"#000000\" fill-rule=\"evenodd\" fill-opacity=\"1\" /><path clip-path=\"url(#clip240)\" d=\"M125.113 572.741 Q121.502 572.741 119.673 576.305 Q117.868 579.847 117.868 586.977 Q117.868 594.083 119.673 597.648 Q121.502 601.19 125.113 601.19 Q128.747 601.19 130.553 597.648 Q132.382 594.083 132.382 586.977 Q132.382 579.847 130.553 576.305 Q128.747 572.741 125.113 572.741 M125.113 569.037 Q130.923 569.037 133.979 573.643 Q137.057 578.227 137.057 586.977 Q137.057 595.703 133.979 600.31 Q130.923 604.893 125.113 604.893 Q119.303 604.893 116.224 600.31 Q113.169 595.703 113.169 586.977 Q113.169 578.227 116.224 573.643 Q119.303 569.037 125.113 569.037 Z\" fill=\"#000000\" fill-rule=\"evenodd\" fill-opacity=\"1\" /><path clip-path=\"url(#clip240)\" d=\"M55.5995 361.925 L63.2384 361.925 L63.2384 335.56 L54.9282 337.226 L54.9282 332.967 L63.1921 331.301 L67.868 331.301 L67.868 361.925 L75.5068 361.925 L75.5068 365.861 L55.5995 365.861 L55.5995 361.925 Z\" fill=\"#000000\" fill-rule=\"evenodd\" fill-opacity=\"1\" /><path clip-path=\"url(#clip240)\" d=\"M84.9975 331.301 L103.354 331.301 L103.354 335.236 L89.2799 335.236 L89.2799 343.708 Q90.2984 343.361 91.3169 343.199 Q92.3354 343.013 93.3539 343.013 Q99.141 343.013 102.521 346.185 Q105.9 349.356 105.9 354.773 Q105.9 360.351 102.428 363.453 Q98.9558 366.532 92.6364 366.532 Q90.4604 366.532 88.1919 366.161 Q85.9466 365.791 83.5392 365.05 L83.5392 360.351 Q85.6225 361.486 87.8447 362.041 Q90.0669 362.597 92.5438 362.597 Q96.5484 362.597 98.8863 360.49 Q101.224 358.384 101.224 354.773 Q101.224 351.162 98.8863 349.055 Q96.5484 346.949 92.5438 346.949 Q90.6688 346.949 88.7938 347.365 Q86.9419 347.782 84.9975 348.662 L84.9975 331.301 Z\" fill=\"#000000\" fill-rule=\"evenodd\" fill-opacity=\"1\" /><path clip-path=\"url(#clip240)\" d=\"M125.113 334.379 Q121.502 334.379 119.673 337.944 Q117.868 341.486 117.868 348.615 Q117.868 355.722 119.673 359.286 Q121.502 362.828 125.113 362.828 Q128.747 362.828 130.553 359.286 Q132.382 355.722 132.382 348.615 Q132.382 341.486 130.553 337.944 Q128.747 334.379 125.113 334.379 M125.113 330.676 Q130.923 330.676 133.979 335.282 Q137.057 339.865 137.057 348.615 Q137.057 357.342 133.979 361.949 Q130.923 366.532 125.113 366.532 Q119.303 366.532 116.224 361.949 Q113.169 357.342 113.169 348.615 Q113.169 339.865 116.224 335.282 Q119.303 330.676 125.113 330.676 Z\" fill=\"#000000\" fill-rule=\"evenodd\" fill-opacity=\"1\" /><path clip-path=\"url(#clip240)\" d=\"M58.8171 123.564 L75.1365 123.564 L75.1365 127.499 L53.1921 127.499 L53.1921 123.564 Q55.8541 120.809 60.4375 116.18 Q65.0439 111.527 66.2245 110.184 Q68.4698 107.661 69.3494 105.925 Q70.2522 104.166 70.2522 102.476 Q70.2522 99.7215 68.3078 97.9854 Q66.3865 96.2493 63.2847 96.2493 Q61.0856 96.2493 58.6319 97.0132 Q56.2014 97.7771 53.4236 99.328 L53.4236 94.6058 Q56.2477 93.4716 58.7014 92.8929 Q61.155 92.3142 63.1921 92.3142 Q68.5624 92.3142 71.7568 94.9993 Q74.9513 97.6845 74.9513 102.175 Q74.9513 104.305 74.1411 106.226 Q73.3541 108.124 71.2476 110.717 Q70.6689 111.388 67.567 114.606 Q64.4652 117.8 58.8171 123.564 Z\" fill=\"#000000\" fill-rule=\"evenodd\" fill-opacity=\"1\" /><path clip-path=\"url(#clip240)\" d=\"M94.9512 96.0179 Q91.3401 96.0179 89.5114 99.5826 Q87.7058 103.124 87.7058 110.254 Q87.7058 117.36 89.5114 120.925 Q91.3401 124.467 94.9512 124.467 Q98.5854 124.467 100.391 120.925 Q102.22 117.36 102.22 110.254 Q102.22 103.124 100.391 99.5826 Q98.5854 96.0179 94.9512 96.0179 M94.9512 92.3142 Q100.761 92.3142 103.817 96.9206 Q106.896 101.504 106.896 110.254 Q106.896 118.981 103.817 123.587 Q100.761 128.17 94.9512 128.17 Q89.141 128.17 86.0623 123.587 Q83.0068 118.981 83.0068 110.254 Q83.0068 101.504 86.0623 96.9206 Q89.141 92.3142 94.9512 92.3142 Z\" fill=\"#000000\" fill-rule=\"evenodd\" fill-opacity=\"1\" /><path clip-path=\"url(#clip240)\" d=\"M125.113 96.0179 Q121.502 96.0179 119.673 99.5826 Q117.868 103.124 117.868 110.254 Q117.868 117.36 119.673 120.925 Q121.502 124.467 125.113 124.467 Q128.747 124.467 130.553 120.925 Q132.382 117.36 132.382 110.254 Q132.382 103.124 130.553 99.5826 Q128.747 96.0179 125.113 96.0179 M125.113 92.3142 Q130.923 92.3142 133.979 96.9206 Q137.057 101.504 137.057 110.254 Q137.057 118.981 133.979 123.587 Q130.923 128.17 125.113 128.17 Q119.303 128.17 116.224 123.587 Q113.169 118.981 113.169 110.254 Q113.169 101.504 116.224 96.9206 Q119.303 92.3142 125.113 92.3142 Z\" fill=\"#000000\" fill-rule=\"evenodd\" fill-opacity=\"1\" /><path clip-path=\"url(#clip242)\" d=\"\n",
       "M262.507 200.796 L262.507 1063.66 L324.675 1063.66 L324.675 200.796 L262.507 200.796 L262.507 200.796  Z\n",
       "  \" fill=\"#009af9\" fill-rule=\"evenodd\" fill-opacity=\"1\"/>\n",
       "<polyline clip-path=\"url(#clip242)\" style=\"stroke:#000000; stroke-linecap:butt; stroke-linejoin:round; stroke-width:4; stroke-opacity:1; fill:none\" points=\"\n",
       "  262.507,200.796 262.507,1063.66 324.675,1063.66 324.675,200.796 262.507,200.796 \n",
       "  \"/>\n",
       "<path clip-path=\"url(#clip242)\" d=\"\n",
       "M324.675 1063.66 L324.675 1063.66 L386.843 1063.66 L386.843 1063.66 L324.675 1063.66 L324.675 1063.66  Z\n",
       "  \" fill=\"#009af9\" fill-rule=\"evenodd\" fill-opacity=\"1\"/>\n",
       "<polyline clip-path=\"url(#clip242)\" style=\"stroke:#000000; stroke-linecap:butt; stroke-linejoin:round; stroke-width:4; stroke-opacity:1; fill:none\" points=\"\n",
       "  324.675,1063.66 324.675,1063.66 386.843,1063.66 324.675,1063.66 \n",
       "  \"/>\n",
       "<path clip-path=\"url(#clip242)\" d=\"\n",
       "M386.843 76.8486 L386.843 1063.66 L449.011 1063.66 L449.011 76.8486 L386.843 76.8486 L386.843 76.8486  Z\n",
       "  \" fill=\"#009af9\" fill-rule=\"evenodd\" fill-opacity=\"1\"/>\n",
       "<polyline clip-path=\"url(#clip242)\" style=\"stroke:#000000; stroke-linecap:butt; stroke-linejoin:round; stroke-width:4; stroke-opacity:1; fill:none\" points=\"\n",
       "  386.843,76.8486 386.843,1063.66 449.011,1063.66 449.011,76.8486 386.843,76.8486 \n",
       "  \"/>\n",
       "<path clip-path=\"url(#clip242)\" d=\"\n",
       "M449.011 1063.66 L449.011 1063.66 L511.179 1063.66 L511.179 1063.66 L449.011 1063.66 L449.011 1063.66  Z\n",
       "  \" fill=\"#009af9\" fill-rule=\"evenodd\" fill-opacity=\"1\"/>\n",
       "<polyline clip-path=\"url(#clip242)\" style=\"stroke:#000000; stroke-linecap:butt; stroke-linejoin:round; stroke-width:4; stroke-opacity:1; fill:none\" points=\"\n",
       "  449.011,1063.66 449.011,1063.66 511.179,1063.66 449.011,1063.66 \n",
       "  \"/>\n",
       "<path clip-path=\"url(#clip242)\" d=\"\n",
       "M511.179 1063.66 L511.179 1063.66 L573.347 1063.66 L573.347 1063.66 L511.179 1063.66 L511.179 1063.66  Z\n",
       "  \" fill=\"#009af9\" fill-rule=\"evenodd\" fill-opacity=\"1\"/>\n",
       "<polyline clip-path=\"url(#clip242)\" style=\"stroke:#000000; stroke-linecap:butt; stroke-linejoin:round; stroke-width:4; stroke-opacity:1; fill:none\" points=\"\n",
       "  511.179,1063.66 511.179,1063.66 573.347,1063.66 511.179,1063.66 \n",
       "  \"/>\n",
       "<path clip-path=\"url(#clip242)\" d=\"\n",
       "M573.347 100.685 L573.347 1063.66 L635.515 1063.66 L635.515 100.685 L573.347 100.685 L573.347 100.685  Z\n",
       "  \" fill=\"#009af9\" fill-rule=\"evenodd\" fill-opacity=\"1\"/>\n",
       "<polyline clip-path=\"url(#clip242)\" style=\"stroke:#000000; stroke-linecap:butt; stroke-linejoin:round; stroke-width:4; stroke-opacity:1; fill:none\" points=\"\n",
       "  573.347,100.685 573.347,1063.66 635.515,1063.66 635.515,100.685 573.347,100.685 \n",
       "  \"/>\n",
       "<path clip-path=\"url(#clip242)\" d=\"\n",
       "M635.515 1063.66 L635.515 1063.66 L697.683 1063.66 L697.683 1063.66 L635.515 1063.66 L635.515 1063.66  Z\n",
       "  \" fill=\"#009af9\" fill-rule=\"evenodd\" fill-opacity=\"1\"/>\n",
       "<polyline clip-path=\"url(#clip242)\" style=\"stroke:#000000; stroke-linecap:butt; stroke-linejoin:round; stroke-width:4; stroke-opacity:1; fill:none\" points=\"\n",
       "  635.515,1063.66 635.515,1063.66 697.683,1063.66 635.515,1063.66 \n",
       "  \"/>\n",
       "<path clip-path=\"url(#clip242)\" d=\"\n",
       "M697.683 1063.66 L697.683 1063.66 L759.851 1063.66 L759.851 1063.66 L697.683 1063.66 L697.683 1063.66  Z\n",
       "  \" fill=\"#009af9\" fill-rule=\"evenodd\" fill-opacity=\"1\"/>\n",
       "<polyline clip-path=\"url(#clip242)\" style=\"stroke:#000000; stroke-linecap:butt; stroke-linejoin:round; stroke-width:4; stroke-opacity:1; fill:none\" points=\"\n",
       "  697.683,1063.66 697.683,1063.66 759.851,1063.66 697.683,1063.66 \n",
       "  \"/>\n",
       "<path clip-path=\"url(#clip242)\" d=\"\n",
       "M759.851 1063.66 L759.851 1063.66 L822.019 1063.66 L822.019 1063.66 L759.851 1063.66 L759.851 1063.66  Z\n",
       "  \" fill=\"#009af9\" fill-rule=\"evenodd\" fill-opacity=\"1\"/>\n",
       "<polyline clip-path=\"url(#clip242)\" style=\"stroke:#000000; stroke-linecap:butt; stroke-linejoin:round; stroke-width:4; stroke-opacity:1; fill:none\" points=\"\n",
       "  759.851,1063.66 759.851,1063.66 822.019,1063.66 759.851,1063.66 \n",
       "  \"/>\n",
       "<path clip-path=\"url(#clip242)\" d=\"\n",
       "M822.019 1063.66 L822.019 1063.66 L884.187 1063.66 L884.187 1063.66 L822.019 1063.66 L822.019 1063.66  Z\n",
       "  \" fill=\"#009af9\" fill-rule=\"evenodd\" fill-opacity=\"1\"/>\n",
       "<polyline clip-path=\"url(#clip242)\" style=\"stroke:#000000; stroke-linecap:butt; stroke-linejoin:round; stroke-width:4; stroke-opacity:1; fill:none\" points=\"\n",
       "  822.019,1063.66 822.019,1063.66 884.187,1063.66 822.019,1063.66 \n",
       "  \"/>\n",
       "<path clip-path=\"url(#clip242)\" d=\"\n",
       "M884.187 1063.66 L884.187 1063.66 L946.355 1063.66 L946.355 1063.66 L884.187 1063.66 L884.187 1063.66  Z\n",
       "  \" fill=\"#009af9\" fill-rule=\"evenodd\" fill-opacity=\"1\"/>\n",
       "<polyline clip-path=\"url(#clip242)\" style=\"stroke:#000000; stroke-linecap:butt; stroke-linejoin:round; stroke-width:4; stroke-opacity:1; fill:none\" points=\"\n",
       "  884.187,1063.66 884.187,1063.66 946.355,1063.66 884.187,1063.66 \n",
       "  \"/>\n",
       "<path clip-path=\"url(#clip242)\" d=\"\n",
       "M946.355 95.9175 L946.355 1063.66 L1008.52 1063.66 L1008.52 95.9175 L946.355 95.9175 L946.355 95.9175  Z\n",
       "  \" fill=\"#009af9\" fill-rule=\"evenodd\" fill-opacity=\"1\"/>\n",
       "<polyline clip-path=\"url(#clip242)\" style=\"stroke:#000000; stroke-linecap:butt; stroke-linejoin:round; stroke-width:4; stroke-opacity:1; fill:none\" points=\"\n",
       "  946.355,95.9175 946.355,1063.66 1008.52,1063.66 1008.52,95.9175 946.355,95.9175 \n",
       "  \"/>\n",
       "<path clip-path=\"url(#clip242)\" d=\"\n",
       "M1008.52 1063.66 L1008.52 1063.66 L1070.69 1063.66 L1070.69 1063.66 L1008.52 1063.66 L1008.52 1063.66  Z\n",
       "  \" fill=\"#009af9\" fill-rule=\"evenodd\" fill-opacity=\"1\"/>\n",
       "<polyline clip-path=\"url(#clip242)\" style=\"stroke:#000000; stroke-linecap:butt; stroke-linejoin:round; stroke-width:4; stroke-opacity:1; fill:none\" points=\"\n",
       "  1008.52,1063.66 1008.52,1063.66 1070.69,1063.66 1008.52,1063.66 \n",
       "  \"/>\n",
       "<path clip-path=\"url(#clip242)\" d=\"\n",
       "M1070.69 1063.66 L1070.69 1063.66 L1132.86 1063.66 L1132.86 1063.66 L1070.69 1063.66 L1070.69 1063.66  Z\n",
       "  \" fill=\"#009af9\" fill-rule=\"evenodd\" fill-opacity=\"1\"/>\n",
       "<polyline clip-path=\"url(#clip242)\" style=\"stroke:#000000; stroke-linecap:butt; stroke-linejoin:round; stroke-width:4; stroke-opacity:1; fill:none\" points=\"\n",
       "  1070.69,1063.66 1070.69,1063.66 1132.86,1063.66 1070.69,1063.66 \n",
       "  \"/>\n",
       "<path clip-path=\"url(#clip242)\" d=\"\n",
       "M1132.86 1063.66 L1132.86 1063.66 L1195.03 1063.66 L1195.03 1063.66 L1132.86 1063.66 L1132.86 1063.66  Z\n",
       "  \" fill=\"#009af9\" fill-rule=\"evenodd\" fill-opacity=\"1\"/>\n",
       "<polyline clip-path=\"url(#clip242)\" style=\"stroke:#000000; stroke-linecap:butt; stroke-linejoin:round; stroke-width:4; stroke-opacity:1; fill:none\" points=\"\n",
       "  1132.86,1063.66 1132.86,1063.66 1195.03,1063.66 1132.86,1063.66 \n",
       "  \"/>\n",
       "<path clip-path=\"url(#clip242)\" d=\"\n",
       "M1195.03 1063.66 L1195.03 1063.66 L1257.19 1063.66 L1257.19 1063.66 L1195.03 1063.66 L1195.03 1063.66  Z\n",
       "  \" fill=\"#009af9\" fill-rule=\"evenodd\" fill-opacity=\"1\"/>\n",
       "<polyline clip-path=\"url(#clip242)\" style=\"stroke:#000000; stroke-linecap:butt; stroke-linejoin:round; stroke-width:4; stroke-opacity:1; fill:none\" points=\"\n",
       "  1195.03,1063.66 1195.03,1063.66 1257.19,1063.66 1195.03,1063.66 \n",
       "  \"/>\n",
       "<path clip-path=\"url(#clip242)\" d=\"\n",
       "M1257.19 1063.66 L1257.19 1063.66 L1319.36 1063.66 L1319.36 1063.66 L1257.19 1063.66 L1257.19 1063.66  Z\n",
       "  \" fill=\"#009af9\" fill-rule=\"evenodd\" fill-opacity=\"1\"/>\n",
       "<polyline clip-path=\"url(#clip242)\" style=\"stroke:#000000; stroke-linecap:butt; stroke-linejoin:round; stroke-width:4; stroke-opacity:1; fill:none\" points=\"\n",
       "  1257.19,1063.66 1257.19,1063.66 1319.36,1063.66 1257.19,1063.66 \n",
       "  \"/>\n",
       "<path clip-path=\"url(#clip242)\" d=\"\n",
       "M1319.36 1063.66 L1319.36 1063.66 L1381.53 1063.66 L1381.53 1063.66 L1319.36 1063.66 L1319.36 1063.66  Z\n",
       "  \" fill=\"#009af9\" fill-rule=\"evenodd\" fill-opacity=\"1\"/>\n",
       "<polyline clip-path=\"url(#clip242)\" style=\"stroke:#000000; stroke-linecap:butt; stroke-linejoin:round; stroke-width:4; stroke-opacity:1; fill:none\" points=\"\n",
       "  1319.36,1063.66 1319.36,1063.66 1381.53,1063.66 1319.36,1063.66 \n",
       "  \"/>\n",
       "<path clip-path=\"url(#clip242)\" d=\"\n",
       "M1381.53 1063.66 L1381.53 1063.66 L1443.7 1063.66 L1443.7 1063.66 L1381.53 1063.66 L1381.53 1063.66  Z\n",
       "  \" fill=\"#009af9\" fill-rule=\"evenodd\" fill-opacity=\"1\"/>\n",
       "<polyline clip-path=\"url(#clip242)\" style=\"stroke:#000000; stroke-linecap:butt; stroke-linejoin:round; stroke-width:4; stroke-opacity:1; fill:none\" points=\"\n",
       "  1381.53,1063.66 1381.53,1063.66 1443.7,1063.66 1381.53,1063.66 \n",
       "  \"/>\n",
       "<path clip-path=\"url(#clip242)\" d=\"\n",
       "M1443.7 1063.66 L1443.7 1063.66 L1505.87 1063.66 L1505.87 1063.66 L1443.7 1063.66 L1443.7 1063.66  Z\n",
       "  \" fill=\"#009af9\" fill-rule=\"evenodd\" fill-opacity=\"1\"/>\n",
       "<polyline clip-path=\"url(#clip242)\" style=\"stroke:#000000; stroke-linecap:butt; stroke-linejoin:round; stroke-width:4; stroke-opacity:1; fill:none\" points=\"\n",
       "  1443.7,1063.66 1443.7,1063.66 1505.87,1063.66 1443.7,1063.66 \n",
       "  \"/>\n",
       "<path clip-path=\"url(#clip242)\" d=\"\n",
       "M1505.87 1063.66 L1505.87 1063.66 L1568.03 1063.66 L1568.03 1063.66 L1505.87 1063.66 L1505.87 1063.66  Z\n",
       "  \" fill=\"#009af9\" fill-rule=\"evenodd\" fill-opacity=\"1\"/>\n",
       "<polyline clip-path=\"url(#clip242)\" style=\"stroke:#000000; stroke-linecap:butt; stroke-linejoin:round; stroke-width:4; stroke-opacity:1; fill:none\" points=\"\n",
       "  1505.87,1063.66 1505.87,1063.66 1568.03,1063.66 1505.87,1063.66 \n",
       "  \"/>\n",
       "<path clip-path=\"url(#clip242)\" d=\"\n",
       "M1568.03 1063.66 L1568.03 1063.66 L1630.2 1063.66 L1630.2 1063.66 L1568.03 1063.66 L1568.03 1063.66  Z\n",
       "  \" fill=\"#009af9\" fill-rule=\"evenodd\" fill-opacity=\"1\"/>\n",
       "<polyline clip-path=\"url(#clip242)\" style=\"stroke:#000000; stroke-linecap:butt; stroke-linejoin:round; stroke-width:4; stroke-opacity:1; fill:none\" points=\"\n",
       "  1568.03,1063.66 1568.03,1063.66 1630.2,1063.66 1568.03,1063.66 \n",
       "  \"/>\n",
       "<path clip-path=\"url(#clip242)\" d=\"\n",
       "M1630.2 1063.66 L1630.2 1063.66 L1692.37 1063.66 L1692.37 1063.66 L1630.2 1063.66 L1630.2 1063.66  Z\n",
       "  \" fill=\"#009af9\" fill-rule=\"evenodd\" fill-opacity=\"1\"/>\n",
       "<polyline clip-path=\"url(#clip242)\" style=\"stroke:#000000; stroke-linecap:butt; stroke-linejoin:round; stroke-width:4; stroke-opacity:1; fill:none\" points=\"\n",
       "  1630.2,1063.66 1630.2,1063.66 1692.37,1063.66 1630.2,1063.66 \n",
       "  \"/>\n",
       "<path clip-path=\"url(#clip242)\" d=\"\n",
       "M1692.37 1063.66 L1692.37 1063.66 L1754.54 1063.66 L1754.54 1063.66 L1692.37 1063.66 L1692.37 1063.66  Z\n",
       "  \" fill=\"#009af9\" fill-rule=\"evenodd\" fill-opacity=\"1\"/>\n",
       "<polyline clip-path=\"url(#clip242)\" style=\"stroke:#000000; stroke-linecap:butt; stroke-linejoin:round; stroke-width:4; stroke-opacity:1; fill:none\" points=\"\n",
       "  1692.37,1063.66 1692.37,1063.66 1754.54,1063.66 1692.37,1063.66 \n",
       "  \"/>\n",
       "<path clip-path=\"url(#clip242)\" d=\"\n",
       "M1754.54 76.8486 L1754.54 1063.66 L1816.71 1063.66 L1816.71 76.8486 L1754.54 76.8486 L1754.54 76.8486  Z\n",
       "  \" fill=\"#009af9\" fill-rule=\"evenodd\" fill-opacity=\"1\"/>\n",
       "<polyline clip-path=\"url(#clip242)\" style=\"stroke:#000000; stroke-linecap:butt; stroke-linejoin:round; stroke-width:4; stroke-opacity:1; fill:none\" points=\"\n",
       "  1754.54,76.8486 1754.54,1063.66 1816.71,1063.66 1816.71,76.8486 1754.54,76.8486 \n",
       "  \"/>\n",
       "<circle clip-path=\"url(#clip242)\" style=\"fill:#009af9; stroke:none; fill-opacity:0\" cx=\"293.591\" cy=\"200.796\" r=\"2\"/>\n",
       "<circle clip-path=\"url(#clip242)\" style=\"fill:#009af9; stroke:none; fill-opacity:0\" cx=\"355.759\" cy=\"1063.66\" r=\"2\"/>\n",
       "<circle clip-path=\"url(#clip242)\" style=\"fill:#009af9; stroke:none; fill-opacity:0\" cx=\"417.927\" cy=\"76.8486\" r=\"2\"/>\n",
       "<circle clip-path=\"url(#clip242)\" style=\"fill:#009af9; stroke:none; fill-opacity:0\" cx=\"480.095\" cy=\"1063.66\" r=\"2\"/>\n",
       "<circle clip-path=\"url(#clip242)\" style=\"fill:#009af9; stroke:none; fill-opacity:0\" cx=\"542.263\" cy=\"1063.66\" r=\"2\"/>\n",
       "<circle clip-path=\"url(#clip242)\" style=\"fill:#009af9; stroke:none; fill-opacity:0\" cx=\"604.431\" cy=\"100.685\" r=\"2\"/>\n",
       "<circle clip-path=\"url(#clip242)\" style=\"fill:#009af9; stroke:none; fill-opacity:0\" cx=\"666.599\" cy=\"1063.66\" r=\"2\"/>\n",
       "<circle clip-path=\"url(#clip242)\" style=\"fill:#009af9; stroke:none; fill-opacity:0\" cx=\"728.767\" cy=\"1063.66\" r=\"2\"/>\n",
       "<circle clip-path=\"url(#clip242)\" style=\"fill:#009af9; stroke:none; fill-opacity:0\" cx=\"790.935\" cy=\"1063.66\" r=\"2\"/>\n",
       "<circle clip-path=\"url(#clip242)\" style=\"fill:#009af9; stroke:none; fill-opacity:0\" cx=\"853.103\" cy=\"1063.66\" r=\"2\"/>\n",
       "<circle clip-path=\"url(#clip242)\" style=\"fill:#009af9; stroke:none; fill-opacity:0\" cx=\"915.271\" cy=\"1063.66\" r=\"2\"/>\n",
       "<circle clip-path=\"url(#clip242)\" style=\"fill:#009af9; stroke:none; fill-opacity:0\" cx=\"977.439\" cy=\"95.9175\" r=\"2\"/>\n",
       "<circle clip-path=\"url(#clip242)\" style=\"fill:#009af9; stroke:none; fill-opacity:0\" cx=\"1039.61\" cy=\"1063.66\" r=\"2\"/>\n",
       "<circle clip-path=\"url(#clip242)\" style=\"fill:#009af9; stroke:none; fill-opacity:0\" cx=\"1101.77\" cy=\"1063.66\" r=\"2\"/>\n",
       "<circle clip-path=\"url(#clip242)\" style=\"fill:#009af9; stroke:none; fill-opacity:0\" cx=\"1163.94\" cy=\"1063.66\" r=\"2\"/>\n",
       "<circle clip-path=\"url(#clip242)\" style=\"fill:#009af9; stroke:none; fill-opacity:0\" cx=\"1226.11\" cy=\"1063.66\" r=\"2\"/>\n",
       "<circle clip-path=\"url(#clip242)\" style=\"fill:#009af9; stroke:none; fill-opacity:0\" cx=\"1288.28\" cy=\"1063.66\" r=\"2\"/>\n",
       "<circle clip-path=\"url(#clip242)\" style=\"fill:#009af9; stroke:none; fill-opacity:0\" cx=\"1350.45\" cy=\"1063.66\" r=\"2\"/>\n",
       "<circle clip-path=\"url(#clip242)\" style=\"fill:#009af9; stroke:none; fill-opacity:0\" cx=\"1412.61\" cy=\"1063.66\" r=\"2\"/>\n",
       "<circle clip-path=\"url(#clip242)\" style=\"fill:#009af9; stroke:none; fill-opacity:0\" cx=\"1474.78\" cy=\"1063.66\" r=\"2\"/>\n",
       "<circle clip-path=\"url(#clip242)\" style=\"fill:#009af9; stroke:none; fill-opacity:0\" cx=\"1536.95\" cy=\"1063.66\" r=\"2\"/>\n",
       "<circle clip-path=\"url(#clip242)\" style=\"fill:#009af9; stroke:none; fill-opacity:0\" cx=\"1599.12\" cy=\"1063.66\" r=\"2\"/>\n",
       "<circle clip-path=\"url(#clip242)\" style=\"fill:#009af9; stroke:none; fill-opacity:0\" cx=\"1661.29\" cy=\"1063.66\" r=\"2\"/>\n",
       "<circle clip-path=\"url(#clip242)\" style=\"fill:#009af9; stroke:none; fill-opacity:0\" cx=\"1723.45\" cy=\"1063.66\" r=\"2\"/>\n",
       "<circle clip-path=\"url(#clip242)\" style=\"fill:#009af9; stroke:none; fill-opacity:0\" cx=\"1785.62\" cy=\"76.8486\" r=\"2\"/>\n",
       "<path clip-path=\"url(#clip240)\" d=\"\n",
       "M1608.08 185.792 L1854.55 185.792 L1854.55 82.1116 L1608.08 82.1116  Z\n",
       "  \" fill=\"#ffffff\" fill-rule=\"evenodd\" fill-opacity=\"1\"/>\n",
       "<polyline clip-path=\"url(#clip240)\" style=\"stroke:#000000; stroke-linecap:butt; stroke-linejoin:round; stroke-width:4; stroke-opacity:1; fill:none\" points=\"\n",
       "  1608.08,185.792 1854.55,185.792 1854.55,82.1116 1608.08,82.1116 1608.08,185.792 \n",
       "  \"/>\n",
       "<path clip-path=\"url(#clip240)\" d=\"\n",
       "M1627.49 154.688 L1743.91 154.688 L1743.91 113.216 L1627.49 113.216 L1627.49 154.688  Z\n",
       "  \" fill=\"#009af9\" fill-rule=\"evenodd\" fill-opacity=\"1\"/>\n",
       "<polyline clip-path=\"url(#clip240)\" style=\"stroke:#000000; stroke-linecap:butt; stroke-linejoin:round; stroke-width:4; stroke-opacity:1; fill:none\" points=\"\n",
       "  1627.49,154.688 1743.91,154.688 1743.91,113.216 1627.49,113.216 1627.49,154.688 \n",
       "  \"/>\n",
       "<path clip-path=\"url(#clip240)\" d=\"M1777.15 153.639 Q1775.35 158.269 1773.63 159.681 Q1771.92 161.093 1769.05 161.093 L1765.65 161.093 L1765.65 157.528 L1768.15 157.528 Q1769.91 157.528 1770.88 156.695 Q1771.85 155.861 1773.03 152.759 L1773.8 150.815 L1763.31 125.306 L1767.82 125.306 L1775.92 145.583 L1784.03 125.306 L1788.54 125.306 L1777.15 153.639 Z\" fill=\"#000000\" fill-rule=\"evenodd\" fill-opacity=\"1\" /><path clip-path=\"url(#clip240)\" d=\"M1795.83 147.296 L1803.47 147.296 L1803.47 120.931 L1795.16 122.597 L1795.16 118.338 L1803.42 116.672 L1808.1 116.672 L1808.1 147.296 L1815.74 147.296 L1815.74 151.232 L1795.83 151.232 L1795.83 147.296 Z\" fill=\"#000000\" fill-rule=\"evenodd\" fill-opacity=\"1\" /></svg>\n"
      ]
     },
     "execution_count": 141,
     "metadata": {},
     "output_type": "execute_result"
    }
   ],
   "source": [
    "r2_sampler = sampler(r2, Distributions.Uniform)\n",
    "samples = rand(r2_sampler, 1000);\n",
    "plt = histogram(samples, nbins=50)\n",
    "savefig(\"uniform_sampler.png\")\n",
    "\n",
    "plt"
   ]
  },
  {
   "cell_type": "markdown",
   "metadata": {},
   "source": [
    "![](uniform_sampler.png)"
   ]
  },
  {
   "cell_type": "code",
   "execution_count": 142,
   "metadata": {},
   "outputs": [
    {
     "data": {
      "text/plain": [
       "5-element Vector{Int64}:\n",
       "   8\n",
       "  16\n",
       "  32\n",
       "  64\n",
       " 128"
      ]
     },
     "execution_count": 142,
     "metadata": {},
     "output_type": "execute_result"
    }
   ],
   "source": [
    "sort(unique(samples))"
   ]
  },
  {
   "cell_type": "markdown",
   "metadata": {},
   "source": [
    "(c) Optimize `model` over these the parameter ranges `r1` and `r2`\n",
    "using a random search with uniform priors (the default). Use\n",
    "`Holdout()` resampling, and implement your search by first\n",
    "constructing a \"self-tuning\" wrap of `model`, as described\n",
    "above. Make `mae` (mean absolute error) the loss function that you\n",
    "optimize, and search over a total of 40 combinations of\n",
    "hyper-parameters.  If you have time, plot the results of your\n",
    "search. Feel free to use all available data."
   ]
  },
  {
   "cell_type": "markdown",
   "metadata": {},
   "source": [
    "(d) Evaluate the best model found in the search using 3-fold\n",
    "cross-validation and compare with that of the self-tuning model\n",
    "(which is different!). Setting data hygiene concerns aside, feel\n",
    "free to use all available data."
   ]
  },
  {
   "cell_type": "markdown",
   "metadata": {},
   "source": [
    "<a id='part-5-advanced-model-composition'>"
   ]
  },
  {
   "cell_type": "markdown",
   "metadata": {},
   "source": [
    "## Part 5 - Advanced Model Composition"
   ]
  },
  {
   "cell_type": "markdown",
   "metadata": {},
   "source": [
    "> **Goals:**\n",
    "> 1. Learn how to build a prototypes of a composite model, called a *learning network*\n",
    "> 2. Learn how to use the `@from_network` macro to export a learning network as a new stand-alone model type"
   ]
  },
  {
   "cell_type": "markdown",
   "metadata": {},
   "source": [
    "While `@pipeline` is great for composing models in an unbranching\n",
    "sequence, for more complicated model composition you'll want to use\n",
    "MLJ's generic model composition syntax. There are two main steps:"
   ]
  },
  {
   "cell_type": "markdown",
   "metadata": {},
   "source": [
    "- **Prototype** the composite model by building a *learning\n",
    "  network*, which can be tested on some (dummy) data as you build\n",
    "  it."
   ]
  },
  {
   "cell_type": "markdown",
   "metadata": {},
   "source": [
    "- **Export** the learning network as a new stand-alone model type."
   ]
  },
  {
   "cell_type": "markdown",
   "metadata": {},
   "source": [
    "Like pipeline models, instances of the exported model type behave\n",
    "like any other model (and are not bound to any data, until you wrap\n",
    "them in a machine)."
   ]
  },
  {
   "cell_type": "markdown",
   "metadata": {},
   "source": [
    "### Building a pipeline using the generic composition syntax"
   ]
  },
  {
   "cell_type": "markdown",
   "metadata": {},
   "source": [
    "To warm up, we'll do the equivalent of"
   ]
  },
  {
   "cell_type": "code",
   "execution_count": 143,
   "metadata": {},
   "outputs": [],
   "source": [
    "pipe = @pipeline Standardizer LogisticClassifier;"
   ]
  },
  {
   "cell_type": "markdown",
   "metadata": {},
   "source": [
    "using the generic syntax."
   ]
  },
  {
   "cell_type": "markdown",
   "metadata": {},
   "source": [
    "Here's some dummy data we'll be using to test our learning network:"
   ]
  },
  {
   "cell_type": "code",
   "execution_count": 144,
   "metadata": {},
   "outputs": [
    {
     "name": "stdout",
     "output_type": "stream",
     "text": [
      "┌────────────┬────────────┬────────────┐\n",
      "│\u001b[1m x1         \u001b[0m│\u001b[1m x2         \u001b[0m│\u001b[1m x3         \u001b[0m│\n",
      "│\u001b[90m Float64    \u001b[0m│\u001b[90m Float64    \u001b[0m│\u001b[90m Float64    \u001b[0m│\n",
      "│\u001b[90m Continuous \u001b[0m│\u001b[90m Continuous \u001b[0m│\u001b[90m Continuous \u001b[0m│\n",
      "├────────────┼────────────┼────────────┤\n",
      "│ -8.66643   │ -1.30544   │ -9.4571    │\n",
      "│ -7.35199   │ -1.80323   │ -9.48707   │\n",
      "│ -4.78595   │ 2.98411    │ -0.815858  │\n",
      "│ -8.57023   │ -3.18263   │ -9.14575   │\n",
      "│ -8.57043   │ -1.87734   │ -9.86286   │\n",
      "└────────────┴────────────┴────────────┘\n"
     ]
    }
   ],
   "source": [
    "X, y = make_blobs(5, 3)\n",
    "pretty(X)"
   ]
  },
  {
   "cell_type": "markdown",
   "metadata": {},
   "source": [
    "**Step 0** - Proceed as if you were combining the models \"by hand\",\n",
    "using all the data available for training, transforming and\n",
    "prediction:"
   ]
  },
  {
   "cell_type": "code",
   "execution_count": 145,
   "metadata": {},
   "outputs": [
    {
     "name": "stderr",
     "output_type": "stream",
     "text": [
      "┌ Info: Training Machine{Standardizer,…}.\n",
      "└ @ MLJBase /Users/anthony/.julia/packages/MLJBase/HZmTU/src/machines.jl:403\n",
      "┌ Info: Training Machine{LogisticClassifier,…}.\n",
      "└ @ MLJBase /Users/anthony/.julia/packages/MLJBase/HZmTU/src/machines.jl:403\n"
     ]
    },
    {
     "data": {
      "text/plain": [
       "5-element MLJBase.UnivariateFiniteVector{Multiclass{3}, Int64, UInt32, Float64}:\n",
       " UnivariateFinite{Multiclass{3}}(1=>0.0831, 2=>0.245, 3=>0.672)\n",
       " UnivariateFinite{Multiclass{3}}(1=>0.101, 2=>0.172, 3=>0.726)\n",
       " UnivariateFinite{Multiclass{3}}(1=>0.832, 2=>0.0589, 3=>0.109)\n",
       " UnivariateFinite{Multiclass{3}}(1=>0.0506, 2=>0.172, 3=>0.778)\n",
       " UnivariateFinite{Multiclass{3}}(1=>0.0676, 2=>0.218, 3=>0.715)"
      ]
     },
     "execution_count": 145,
     "metadata": {},
     "output_type": "execute_result"
    }
   ],
   "source": [
    "stand = Standardizer();\n",
    "linear = LogisticClassifier();\n",
    "\n",
    "mach1 = machine(stand, X);\n",
    "fit!(mach1);\n",
    "Xstand = transform(mach1, X);\n",
    "\n",
    "mach2 = machine(linear, Xstand, y);\n",
    "fit!(mach2);\n",
    "yhat = predict(mach2, Xstand)"
   ]
  },
  {
   "cell_type": "markdown",
   "metadata": {},
   "source": [
    "**Step 1** - Edit your code as follows:"
   ]
  },
  {
   "cell_type": "markdown",
   "metadata": {},
   "source": [
    "- pre-wrap the data in `Source` nodes"
   ]
  },
  {
   "cell_type": "markdown",
   "metadata": {},
   "source": [
    "- delete the `fit!` calls"
   ]
  },
  {
   "cell_type": "code",
   "execution_count": 146,
   "metadata": {},
   "outputs": [
    {
     "data": {
      "text/plain": [
       "Node{Machine{LogisticClassifier,…}}\n",
       "  args:\n",
       "    1:\tNode{Machine{Standardizer,…}}\n",
       "  formula:\n",
       "    predict(\n",
       "        Machine{LogisticClassifier,…}, \n",
       "        transform(\n",
       "            Machine{Standardizer,…}, \n",
       "            Source @439))"
      ]
     },
     "execution_count": 146,
     "metadata": {},
     "output_type": "execute_result"
    }
   ],
   "source": [
    "X = source(X)  # or X = source() if not testing\n",
    "y = source(y)  # or y = source()\n",
    "\n",
    "stand = Standardizer();\n",
    "linear = LogisticClassifier();\n",
    "\n",
    "mach1 = machine(stand, X);\n",
    "Xstand = transform(mach1, X);\n",
    "\n",
    "mach2 = machine(linear, Xstand, y);\n",
    "yhat = predict(mach2, Xstand)"
   ]
  },
  {
   "cell_type": "markdown",
   "metadata": {},
   "source": [
    "Now `X`, `y`, `Xstand` and `yhat` are *nodes* (\"variables\" or\n",
    "\"dynammic data\") instead of data. All training, predicting and\n",
    "transforming is now executed lazily, whenever we `fit!` one of these\n",
    "nodes. We *call* a node to retrieve the data it represents in the\n",
    "original manual workflow."
   ]
  },
  {
   "cell_type": "code",
   "execution_count": 147,
   "metadata": {},
   "outputs": [
    {
     "name": "stderr",
     "output_type": "stream",
     "text": [
      "┌ Info: Training Machine{Standardizer,…}.\n",
      "└ @ MLJBase /Users/anthony/.julia/packages/MLJBase/HZmTU/src/machines.jl:403\n"
     ]
    },
    {
     "name": "stdout",
     "output_type": "stream",
     "text": [
      "┌────────────┬────────────┬────────────┐\n",
      "│\u001b[1m x1         \u001b[0m│\u001b[1m x2         \u001b[0m│\u001b[1m x3         \u001b[0m│\n",
      "│\u001b[90m Float64    \u001b[0m│\u001b[90m Float64    \u001b[0m│\u001b[90m Float64    \u001b[0m│\n",
      "│\u001b[90m Continuous \u001b[0m│\u001b[90m Continuous \u001b[0m│\u001b[90m Continuous \u001b[0m│\n",
      "├────────────┼────────────┼────────────┤\n",
      "│ -0.649707  │ -0.114144  │ -0.438255  │\n",
      "│ 0.142925   │ -0.325739  │ -0.445966  │\n",
      "│ 1.6903     │ 1.7092     │ 1.78502    │\n",
      "│ -0.591698  │ -0.912075  │ -0.35815   │\n",
      "│ -0.591816  │ -0.357242  │ -0.542651  │\n",
      "└────────────┴────────────┴────────────┘\n"
     ]
    }
   ],
   "source": [
    "fit!(Xstand)\n",
    "Xstand() |> pretty"
   ]
  },
  {
   "cell_type": "code",
   "execution_count": 148,
   "metadata": {},
   "outputs": [
    {
     "name": "stderr",
     "output_type": "stream",
     "text": [
      "┌ Info: Not retraining Machine{Standardizer,…}. Use `force=true` to force.\n",
      "└ @ MLJBase /Users/anthony/.julia/packages/MLJBase/HZmTU/src/machines.jl:406\n",
      "┌ Info: Training Machine{LogisticClassifier,…}.\n",
      "└ @ MLJBase /Users/anthony/.julia/packages/MLJBase/HZmTU/src/machines.jl:403\n"
     ]
    },
    {
     "data": {
      "text/plain": [
       "5-element MLJBase.UnivariateFiniteVector{Multiclass{3}, Int64, UInt32, Float64}:\n",
       " UnivariateFinite{Multiclass{3}}(1=>0.0831, 2=>0.245, 3=>0.672)\n",
       " UnivariateFinite{Multiclass{3}}(1=>0.101, 2=>0.172, 3=>0.726)\n",
       " UnivariateFinite{Multiclass{3}}(1=>0.832, 2=>0.0589, 3=>0.109)\n",
       " UnivariateFinite{Multiclass{3}}(1=>0.0506, 2=>0.172, 3=>0.778)\n",
       " UnivariateFinite{Multiclass{3}}(1=>0.0676, 2=>0.218, 3=>0.715)"
      ]
     },
     "execution_count": 148,
     "metadata": {},
     "output_type": "execute_result"
    }
   ],
   "source": [
    "fit!(yhat);\n",
    "yhat()"
   ]
  },
  {
   "cell_type": "markdown",
   "metadata": {},
   "source": [
    "The node `yhat` is the \"descendant\" (in an associated DAG we have\n",
    "defined) of a unique source node:"
   ]
  },
  {
   "cell_type": "code",
   "execution_count": 149,
   "metadata": {},
   "outputs": [
    {
     "data": {
      "text/plain": [
       "2-element Vector{Any}:\n",
       " Source @439 ⏎ `Table{AbstractVector{Continuous}}`\n",
       " Source @857 ⏎ `AbstractVector{Multiclass{3}}`"
      ]
     },
     "execution_count": 149,
     "metadata": {},
     "output_type": "execute_result"
    }
   ],
   "source": [
    "sources(yhat)"
   ]
  },
  {
   "cell_type": "markdown",
   "metadata": {},
   "source": [
    "The data at the source node is replaced by `Xnew` to obtain a\n",
    "new prediction when we call `yhat` like this:"
   ]
  },
  {
   "cell_type": "code",
   "execution_count": 150,
   "metadata": {},
   "outputs": [
    {
     "data": {
      "text/plain": [
       "2-element MLJBase.UnivariateFiniteVector{Multiclass{3}, Int64, UInt32, Float64}:\n",
       " UnivariateFinite{Multiclass{3}}(1=>0.000335, 2=>0.000995, 3=>0.999)\n",
       " UnivariateFinite{Multiclass{3}}(1=>0.0928, 2=>0.00217, 3=>0.905)"
      ]
     },
     "execution_count": 150,
     "metadata": {},
     "output_type": "execute_result"
    }
   ],
   "source": [
    "Xnew, _ = make_blobs(2, 3);\n",
    "yhat(Xnew)"
   ]
  },
  {
   "cell_type": "markdown",
   "metadata": {},
   "source": [
    "**Step 2** - Export the learning network as a new stand-alone model type"
   ]
  },
  {
   "cell_type": "markdown",
   "metadata": {},
   "source": [
    "Now, somewhat paradoxically, we can wrap the whole network in a\n",
    "special machine - called a *learning network machine* - before have\n",
    "defined the new model type. Indeed doing so is a necessary step in\n",
    "the export process, for this machine will tell the export macro:"
   ]
  },
  {
   "cell_type": "markdown",
   "metadata": {},
   "source": [
    "- what kind of model the composite will be (`Deterministic`,\n",
    "  `Probabilistic` or `Unsupervised`)a"
   ]
  },
  {
   "cell_type": "markdown",
   "metadata": {},
   "source": [
    "- which source nodes are input nodes and which are for the target"
   ]
  },
  {
   "cell_type": "markdown",
   "metadata": {},
   "source": [
    "- which nodes correspond to each operation (`predict`, `transform`,\n",
    "  etc) that we might want to define"
   ]
  },
  {
   "cell_type": "code",
   "execution_count": 151,
   "metadata": {},
   "outputs": [
    {
     "data": {
      "text/plain": [
       "Machine{ProbabilisticSurrogate,…} trained 0 times; does not cache data\n",
       "  args: \n",
       "    1:\tSource @439 ⏎ `Table{AbstractVector{Continuous}}`\n",
       "    2:\tSource @857 ⏎ `AbstractVector{Multiclass{3}}`\n"
      ]
     },
     "execution_count": 151,
     "metadata": {},
     "output_type": "execute_result"
    }
   ],
   "source": [
    "surrogate = Probabilistic()     # a model with no fields!\n",
    "mach = machine(surrogate, X, y; predict=yhat)"
   ]
  },
  {
   "cell_type": "markdown",
   "metadata": {},
   "source": [
    "Although we have no real need to use it, this machine behaves like\n",
    "you'd expect it to:"
   ]
  },
  {
   "cell_type": "code",
   "execution_count": 152,
   "metadata": {},
   "outputs": [
    {
     "name": "stderr",
     "output_type": "stream",
     "text": [
      "┌ Info: Not retraining Machine{Standardizer,…}. Use `force=true` to force.\n",
      "└ @ MLJBase /Users/anthony/.julia/packages/MLJBase/HZmTU/src/machines.jl:406\n",
      "┌ Info: Not retraining Machine{LogisticClassifier,…}. Use `force=true` to force.\n",
      "└ @ MLJBase /Users/anthony/.julia/packages/MLJBase/HZmTU/src/machines.jl:406\n"
     ]
    },
    {
     "data": {
      "text/plain": [
       "2-element MLJBase.UnivariateFiniteVector{Multiclass{3}, Int64, UInt32, Float64}:\n",
       " UnivariateFinite{Multiclass{3}}(1=>0.108, 2=>0.135, 3=>0.757)\n",
       " UnivariateFinite{Multiclass{3}}(1=>0.324, 2=>0.0784, 3=>0.597)"
      ]
     },
     "execution_count": 152,
     "metadata": {},
     "output_type": "execute_result"
    }
   ],
   "source": [
    "Xnew, _ = make_blobs(2, 3)\n",
    "fit!(mach)\n",
    "predict(mach, Xnew)"
   ]
  },
  {
   "cell_type": "markdown",
   "metadata": {},
   "source": [
    "Now we create a new model type using a Julia `struct` definition\n",
    "appropriately decorated:"
   ]
  },
  {
   "cell_type": "code",
   "execution_count": 153,
   "metadata": {},
   "outputs": [],
   "source": [
    "@from_network mach begin\n",
    "    mutable struct YourPipe\n",
    "        standardizer = stand\n",
    "        classifier = linear::Probabilistic\n",
    "    end\n",
    "end"
   ]
  },
  {
   "cell_type": "markdown",
   "metadata": {},
   "source": [
    "Instantiating and evaluating on some new data:"
   ]
  },
  {
   "cell_type": "code",
   "execution_count": 154,
   "metadata": {},
   "outputs": [
    {
     "name": "stderr",
     "output_type": "stream",
     "text": [
      "\u001b[33mEvaluating over 6 folds: 100%[=========================] Time: 0:00:02\u001b[39m\n"
     ]
    },
    {
     "data": {
      "text/plain": [
       "PerformanceEvaluation object with these fields:\n",
       "  measure, measurement, operation, per_fold,\n",
       "  per_observation, fitted_params_per_fold,\n",
       "  report_per_fold, train_test_pairs\n",
       "Extract:\n",
       "┌─────────────────────────┬─────────────┬──────────────┬────────────────────────\n",
       "│\u001b[22m measure                 \u001b[0m│\u001b[22m measurement \u001b[0m│\u001b[22m operation    \u001b[0m│\u001b[22m per_fold             \u001b[0m ⋯\n",
       "├─────────────────────────┼─────────────┼──────────────┼────────────────────────\n",
       "│ MisclassificationRate() │ 0.08        │ predict_mode │ [0.0, 0.04, 0.08, 0.0 ⋯\n",
       "└─────────────────────────┴─────────────┴──────────────┴────────────────────────\n",
       "\u001b[36m                                                                1 column omitted\u001b[0m\n"
      ]
     },
     "execution_count": 154,
     "metadata": {},
     "output_type": "execute_result"
    }
   ],
   "source": [
    "pipe = YourPipe()\n",
    "X, y = @load_iris;   # built-in data set\n",
    "mach = machine(pipe, X, y)\n",
    "evaluate!(mach, measure=misclassification_rate, operation=predict_mode)"
   ]
  },
  {
   "cell_type": "markdown",
   "metadata": {},
   "source": [
    "### A composite model to average two regressor predictors"
   ]
  },
  {
   "cell_type": "markdown",
   "metadata": {},
   "source": [
    "The following is condensed version of\n",
    "[this](https://github.com/alan-turing-institute/MLJ.jl/blob/master/binder/MLJ_demo.ipynb)\n",
    "tutorial. We will define a composite model that:"
   ]
  },
  {
   "cell_type": "markdown",
   "metadata": {},
   "source": [
    "- standardizes the input data"
   ]
  },
  {
   "cell_type": "markdown",
   "metadata": {},
   "source": [
    "- learns and applies a Box-Cox transformation to the target variable"
   ]
  },
  {
   "cell_type": "markdown",
   "metadata": {},
   "source": [
    "- blends the predictions of two supervised learning models - a ridge\n",
    " regressor and a random forest regressor; we'll blend using a simple\n",
    " average (for a more sophisticated stacking example, see\n",
    " [here](https://juliaai.github.io/DataScienceTutorials.jl/getting-started/stacking/))"
   ]
  },
  {
   "cell_type": "markdown",
   "metadata": {},
   "source": [
    "- applies the *inverse* Box-Cox transformation to this blended prediction"
   ]
  },
  {
   "cell_type": "code",
   "execution_count": 155,
   "metadata": {},
   "outputs": [
    {
     "name": "stdout",
     "output_type": "stream",
     "text": [
      "import MLJDecisionTreeInterface ✔\n"
     ]
    },
    {
     "name": "stderr",
     "output_type": "stream",
     "text": [
      "┌ Info: For silent loading, specify `verbosity=0`. \n",
      "└ @ Main /Users/anthony/.julia/packages/MLJModels/4sRmw/src/loading.jl:168\n"
     ]
    },
    {
     "data": {
      "text/plain": [
       "MLJDecisionTreeInterface.RandomForestRegressor"
      ]
     },
     "execution_count": 155,
     "metadata": {},
     "output_type": "execute_result"
    }
   ],
   "source": [
    "RandomForestRegressor = @load RandomForestRegressor pkg=DecisionTree"
   ]
  },
  {
   "cell_type": "markdown",
   "metadata": {},
   "source": [
    "**Input layer**"
   ]
  },
  {
   "cell_type": "code",
   "execution_count": 156,
   "metadata": {},
   "outputs": [
    {
     "data": {
      "text/plain": [
       "Source @471 ⏎ `Nothing`"
      ]
     },
     "execution_count": 156,
     "metadata": {},
     "output_type": "execute_result"
    }
   ],
   "source": [
    "X = source()\n",
    "y = source()"
   ]
  },
  {
   "cell_type": "markdown",
   "metadata": {},
   "source": [
    "**First layer and target transformation**"
   ]
  },
  {
   "cell_type": "code",
   "execution_count": 157,
   "metadata": {},
   "outputs": [
    {
     "data": {
      "text/plain": [
       "Node{Machine{UnivariateBoxCoxTransformer,…}}\n",
       "  args:\n",
       "    1:\tSource @471\n",
       "  formula:\n",
       "    transform(\n",
       "        Machine{UnivariateBoxCoxTransformer,…}, \n",
       "        Source @471)"
      ]
     },
     "execution_count": 157,
     "metadata": {},
     "output_type": "execute_result"
    }
   ],
   "source": [
    "std_model = Standardizer()\n",
    "stand = machine(std_model, X)\n",
    "W = MLJ.transform(stand, X)\n",
    "\n",
    "box_model = UnivariateBoxCoxTransformer()\n",
    "box = machine(box_model, y)\n",
    "z = MLJ.transform(box, y)"
   ]
  },
  {
   "cell_type": "markdown",
   "metadata": {},
   "source": [
    "**Second layer**"
   ]
  },
  {
   "cell_type": "code",
   "execution_count": 158,
   "metadata": {},
   "outputs": [
    {
     "data": {
      "text/plain": [
       "Node{Nothing}\n",
       "  args:\n",
       "    1:\tNode{Nothing}\n",
       "    2:\tNode{Nothing}\n",
       "  formula:\n",
       "    +(\n",
       "        #134(\n",
       "            predict(\n",
       "                Machine{RidgeRegressor,…}, \n",
       "                transform(\n",
       "                    Machine{Standardizer,…}, \n",
       "                    Source @346))),\n",
       "        #134(\n",
       "            predict(\n",
       "                Machine{RandomForestRegressor,…}, \n",
       "                transform(\n",
       "                    Machine{Standardizer,…}, \n",
       "                    Source @346))))"
      ]
     },
     "execution_count": 158,
     "metadata": {},
     "output_type": "execute_result"
    }
   ],
   "source": [
    "ridge_model = RidgeRegressor(lambda=0.1)\n",
    "ridge = machine(ridge_model, W, z)\n",
    "\n",
    "forest_model = RandomForestRegressor(n_trees=50)\n",
    "forest = machine(forest_model, W, z)\n",
    "\n",
    "ẑ = 0.5*predict(ridge, W) + 0.5*predict(forest, W)"
   ]
  },
  {
   "cell_type": "markdown",
   "metadata": {},
   "source": [
    "**Output**"
   ]
  },
  {
   "cell_type": "code",
   "execution_count": 159,
   "metadata": {},
   "outputs": [
    {
     "data": {
      "text/plain": [
       "Node{Machine{UnivariateBoxCoxTransformer,…}}\n",
       "  args:\n",
       "    1:\tNode{Nothing}\n",
       "  formula:\n",
       "    inverse_transform(\n",
       "        Machine{UnivariateBoxCoxTransformer,…}, \n",
       "        +(\n",
       "            #134(\n",
       "                predict(\n",
       "                    Machine{RidgeRegressor,…}, \n",
       "                    transform(\n",
       "                        Machine{Standardizer,…}, \n",
       "                        Source @346))),\n",
       "            #134(\n",
       "                predict(\n",
       "                    Machine{RandomForestRegressor,…}, \n",
       "                    transform(\n",
       "                        Machine{Standardizer,…}, \n",
       "                        Source @346)))))"
      ]
     },
     "execution_count": 159,
     "metadata": {},
     "output_type": "execute_result"
    }
   ],
   "source": [
    "ŷ = inverse_transform(box, ẑ)"
   ]
  },
  {
   "cell_type": "markdown",
   "metadata": {},
   "source": [
    "With the learning network defined, we're ready to export:"
   ]
  },
  {
   "cell_type": "code",
   "execution_count": 160,
   "metadata": {},
   "outputs": [],
   "source": [
    "@from_network machine(Deterministic(), X, y, predict=ŷ) begin\n",
    "    mutable struct CompositeModel\n",
    "        rgs1 = ridge_model\n",
    "        rgs2 = forest_model\n",
    "    end\n",
    "end"
   ]
  },
  {
   "cell_type": "markdown",
   "metadata": {},
   "source": [
    "Let's instantiate the new model type and try it out on some data:"
   ]
  },
  {
   "cell_type": "code",
   "execution_count": 161,
   "metadata": {},
   "outputs": [
    {
     "data": {
      "text/plain": [
       "CompositeModel(\n",
       "    rgs1 = RidgeRegressor(\n",
       "            lambda = 0.1,\n",
       "            fit_intercept = true,\n",
       "            penalize_intercept = false,\n",
       "            solver = nothing),\n",
       "    rgs2 = RandomForestRegressor(\n",
       "            max_depth = -1,\n",
       "            min_samples_leaf = 1,\n",
       "            min_samples_split = 2,\n",
       "            min_purity_increase = 0.0,\n",
       "            n_subfeatures = -1,\n",
       "            n_trees = 50,\n",
       "            sampling_fraction = 0.7,\n",
       "            pdf_smoothing = 0.0,\n",
       "            rng = Random._GLOBAL_RNG()))"
      ]
     },
     "execution_count": 161,
     "metadata": {},
     "output_type": "execute_result"
    }
   ],
   "source": [
    "composite = CompositeModel()"
   ]
  },
  {
   "cell_type": "code",
   "execution_count": 162,
   "metadata": {},
   "outputs": [
    {
     "name": "stderr",
     "output_type": "stream",
     "text": [
      "\u001b[33mEvaluating over 6 folds: 100%[=========================] Time: 0:00:06\u001b[39m\n"
     ]
    },
    {
     "data": {
      "text/plain": [
       "PerformanceEvaluation object with these fields:\n",
       "  measure, measurement, operation, per_fold,\n",
       "  per_observation, fitted_params_per_fold,\n",
       "  report_per_fold, train_test_pairs\n",
       "Extract:\n",
       "┌────────────────────────┬─────────────┬───────────┬────────────────────────────\n",
       "│\u001b[22m measure                \u001b[0m│\u001b[22m measurement \u001b[0m│\u001b[22m operation \u001b[0m│\u001b[22m per_fold                 \u001b[0m ⋯\n",
       "├────────────────────────┼─────────────┼───────────┼────────────────────────────\n",
       "│ RootMeanSquaredError() │ 3.89        │ predict   │ [3.89, 3.93, 2.79, 2.81,  ⋯\n",
       "│ MeanAbsoluteError()    │ 2.46        │ predict   │ [2.59, 2.44, 2.1, 2.16, 2 ⋯\n",
       "└────────────────────────┴─────────────┴───────────┴────────────────────────────\n",
       "\u001b[36m                                                                1 column omitted\u001b[0m\n"
      ]
     },
     "execution_count": 162,
     "metadata": {},
     "output_type": "execute_result"
    }
   ],
   "source": [
    "X, y = @load_boston;\n",
    "mach = machine(composite, X, y);\n",
    "evaluate!(mach,\n",
    "          resampling=CV(nfolds=6, shuffle=true),\n",
    "          measures=[rms, mae])"
   ]
  },
  {
   "cell_type": "markdown",
   "metadata": {},
   "source": [
    "### Resources for Part 5\n",
    "\n",
    "- From the MLJ manual:\n",
    "   - [Learning Networks](https://alan-turing-institute.github.io/MLJ.jl/stable/composing_models/#Learning-Networks-1)\n",
    "- From Data Science Tutorials:\n",
    "    - [Learning Networks](https://juliaai.github.io/DataScienceTutorials.jl/getting-started/learning-networks/)\n",
    "    - [Learning Networks 2](https://juliaai.github.io/DataScienceTutorials.jl/getting-started/learning-networks-2/)"
   ]
  },
  {
   "cell_type": "markdown",
   "metadata": {},
   "source": [
    "    - [Stacking](https://juliaai.github.io/DataScienceTutorials.jl/getting-started/stacking/): an advanced example of model composition"
   ]
  },
  {
   "cell_type": "markdown",
   "metadata": {},
   "source": [
    "    - [Finer Control](https://alan-turing-institute.github.io/MLJ.jl/dev/composing_models/#Method-II:-Finer-control-(advanced)-1):\n",
    "      exporting learning networks without a macro for finer control"
   ]
  },
  {
   "cell_type": "markdown",
   "metadata": {},
   "source": [
    "<a id='solutions-to-exercises'></a>"
   ]
  },
  {
   "cell_type": "markdown",
   "metadata": {},
   "source": [
    "## Solutions to exercises"
   ]
  },
  {
   "cell_type": "markdown",
   "metadata": {},
   "source": [
    "#### Exercise 2 solution"
   ]
  },
  {
   "cell_type": "code",
   "execution_count": 163,
   "metadata": {},
   "outputs": [
    {
     "name": "stderr",
     "output_type": "stream",
     "text": [
      "┌ Info: Trying to coerce from `Union{Missing, String}` to `OrderedFactor`.\n",
      "│ Coerced to `Union{Missing,OrderedFactor}` instead.\n",
      "└ @ ScientificTypes /Users/anthony/.julia/packages/ScientificTypes/z5Vmr/src/convention/coerce.jl:174\n"
     ]
    },
    {
     "data": {
      "text/plain": [
       "Union{Missing, OrderedFactor{3}}"
      ]
     },
     "execution_count": 163,
     "metadata": {},
     "output_type": "execute_result"
    }
   ],
   "source": [
    "quality = coerce(quality, OrderedFactor);\n",
    "levels!(quality, [\"poor\", \"good\", \"excellent\"]);\n",
    "elscitype(quality)"
   ]
  },
  {
   "cell_type": "markdown",
   "metadata": {},
   "source": [
    "#### Exercise 3 solution"
   ]
  },
  {
   "cell_type": "markdown",
   "metadata": {},
   "source": [
    "First pass:"
   ]
  },
  {
   "cell_type": "code",
   "execution_count": 164,
   "metadata": {},
   "outputs": [
    {
     "data": {
      "text/plain": [
       "┌───────────────┬───────────────────────────────────┬───────────────────┐\n",
       "│\u001b[22m _.names       \u001b[0m│\u001b[22m _.types                           \u001b[0m│\u001b[22m _.scitypes        \u001b[0m│\n",
       "├───────────────┼───────────────────────────────────┼───────────────────┤\n",
       "│ price         │ Float64                           │ Continuous        │\n",
       "│ bedrooms      │ CategoricalValue{Int64, UInt32}   │ OrderedFactor{13} │\n",
       "│ bathrooms     │ CategoricalValue{Float64, UInt32} │ OrderedFactor{30} │\n",
       "│ sqft_living   │ Float64                           │ Continuous        │\n",
       "│ sqft_lot      │ Float64                           │ Continuous        │\n",
       "│ floors        │ CategoricalValue{Float64, UInt32} │ OrderedFactor{6}  │\n",
       "│ waterfront    │ CategoricalValue{Int64, UInt32}   │ OrderedFactor{2}  │\n",
       "│ view          │ CategoricalValue{Int64, UInt32}   │ OrderedFactor{5}  │\n",
       "│ condition     │ CategoricalValue{Int64, UInt32}   │ OrderedFactor{5}  │\n",
       "│ grade         │ CategoricalValue{Int64, UInt32}   │ OrderedFactor{12} │\n",
       "│ sqft_above    │ Float64                           │ Continuous        │\n",
       "│ sqft_basement │ Float64                           │ Continuous        │\n",
       "│ yr_built      │ Float64                           │ Continuous        │\n",
       "│ zipcode       │ CategoricalValue{Int64, UInt32}   │ Multiclass{70}    │\n",
       "│ lat           │ Float64                           │ Continuous        │\n",
       "│ long          │ Float64                           │ Continuous        │\n",
       "│ sqft_living15 │ Float64                           │ Continuous        │\n",
       "│ sqft_lot15    │ Float64                           │ Continuous        │\n",
       "│ is_renovated  │ CategoricalValue{Bool, UInt32}    │ OrderedFactor{2}  │\n",
       "└───────────────┴───────────────────────────────────┴───────────────────┘\n",
       "_.nrows = 21613\n"
      ]
     },
     "execution_count": 164,
     "metadata": {},
     "output_type": "execute_result"
    }
   ],
   "source": [
    "coerce!(house, autotype(house));\n",
    "schema(house)"
   ]
  },
  {
   "cell_type": "markdown",
   "metadata": {},
   "source": [
    "All the \"sqft\" fields refer to \"square feet\" so are\n",
    "really `Continuous`. We'll regard `:yr_built` (the other `Count`\n",
    "variable above) as `Continuous` as well. So:"
   ]
  },
  {
   "cell_type": "code",
   "execution_count": 165,
   "metadata": {},
   "outputs": [],
   "source": [
    "coerce!(house, Count => Continuous);"
   ]
  },
  {
   "cell_type": "markdown",
   "metadata": {},
   "source": [
    "And `:zipcode` should not be ordered:"
   ]
  },
  {
   "cell_type": "code",
   "execution_count": 166,
   "metadata": {},
   "outputs": [
    {
     "data": {
      "text/plain": [
       "┌───────────────┬───────────────────────────────────┬───────────────────┐\n",
       "│\u001b[22m _.names       \u001b[0m│\u001b[22m _.types                           \u001b[0m│\u001b[22m _.scitypes        \u001b[0m│\n",
       "├───────────────┼───────────────────────────────────┼───────────────────┤\n",
       "│ price         │ Float64                           │ Continuous        │\n",
       "│ bedrooms      │ CategoricalValue{Int64, UInt32}   │ OrderedFactor{13} │\n",
       "│ bathrooms     │ CategoricalValue{Float64, UInt32} │ OrderedFactor{30} │\n",
       "│ sqft_living   │ Float64                           │ Continuous        │\n",
       "│ sqft_lot      │ Float64                           │ Continuous        │\n",
       "│ floors        │ CategoricalValue{Float64, UInt32} │ OrderedFactor{6}  │\n",
       "│ waterfront    │ CategoricalValue{Int64, UInt32}   │ OrderedFactor{2}  │\n",
       "│ view          │ CategoricalValue{Int64, UInt32}   │ OrderedFactor{5}  │\n",
       "│ condition     │ CategoricalValue{Int64, UInt32}   │ OrderedFactor{5}  │\n",
       "│ grade         │ CategoricalValue{Int64, UInt32}   │ OrderedFactor{12} │\n",
       "│ sqft_above    │ Float64                           │ Continuous        │\n",
       "│ sqft_basement │ Float64                           │ Continuous        │\n",
       "│ yr_built      │ Float64                           │ Continuous        │\n",
       "│ zipcode       │ CategoricalValue{Int64, UInt32}   │ Multiclass{70}    │\n",
       "│ lat           │ Float64                           │ Continuous        │\n",
       "│ long          │ Float64                           │ Continuous        │\n",
       "│ sqft_living15 │ Float64                           │ Continuous        │\n",
       "│ sqft_lot15    │ Float64                           │ Continuous        │\n",
       "│ is_renovated  │ CategoricalValue{Bool, UInt32}    │ OrderedFactor{2}  │\n",
       "└───────────────┴───────────────────────────────────┴───────────────────┘\n",
       "_.nrows = 21613\n"
      ]
     },
     "execution_count": 166,
     "metadata": {},
     "output_type": "execute_result"
    }
   ],
   "source": [
    "coerce!(house, :zipcode => Multiclass);\n",
    "schema(house)"
   ]
  },
  {
   "cell_type": "markdown",
   "metadata": {},
   "source": [
    "`:bathrooms` looks like it has a lot of levels, but on further\n",
    "inspection we see why, and `OrderedFactor` remains appropriate:"
   ]
  },
  {
   "cell_type": "code",
   "execution_count": 167,
   "metadata": {},
   "outputs": [
    {
     "data": {
      "text/plain": [
       "Dict{CategoricalValue{Float64, UInt32}, Int64} with 30 entries:\n",
       "  5.0  => 21\n",
       "  5.25 => 13\n",
       "  1.25 => 9\n",
       "  8.0  => 2\n",
       "  6.75 => 2\n",
       "  1.0  => 3852\n",
       "  5.5  => 10\n",
       "  0.0  => 10\n",
       "  6.0  => 6\n",
       "  6.25 => 2\n",
       "  4.75 => 23\n",
       "  3.25 => 589\n",
       "  3.0  => 753\n",
       "  2.25 => 2047\n",
       "  0.5  => 4\n",
       "  7.5  => 1\n",
       "  5.75 => 4\n",
       "  1.5  => 1446\n",
       "  3.75 => 155\n",
       "  4.0  => 136\n",
       "  4.25 => 79\n",
       "  2.0  => 1930\n",
       "  2.75 => 1185\n",
       "  3.5  => 731\n",
       "  6.5  => 2\n",
       "  ⋮    => ⋮"
      ]
     },
     "execution_count": 167,
     "metadata": {},
     "output_type": "execute_result"
    }
   ],
   "source": [
    "import StatsBase.countmap\n",
    "countmap(house.bathrooms)"
   ]
  },
  {
   "cell_type": "markdown",
   "metadata": {},
   "source": [
    "#### Exercise 4 solution"
   ]
  },
  {
   "cell_type": "markdown",
   "metadata": {},
   "source": [
    "4(a)"
   ]
  },
  {
   "cell_type": "markdown",
   "metadata": {},
   "source": [
    "There are *no* models that apply immediately:"
   ]
  },
  {
   "cell_type": "code",
   "execution_count": 168,
   "metadata": {},
   "outputs": [
    {
     "data": {
      "text/plain": [
       "NamedTuple{(:name, :package_name, :is_supervised, :abstract_type, :deep_properties, :docstring, :fit_data_scitype, :hyperparameter_ranges, :hyperparameter_types, :hyperparameters, :implemented_methods, :inverse_transform_scitype, :is_pure_julia, :is_wrapper, :iteration_parameter, :load_path, :package_license, :package_url, :package_uuid, :predict_scitype, :prediction_type, :supports_class_weights, :supports_online, :supports_training_losses, :supports_weights, :transform_scitype, :input_scitype, :target_scitype, :output_scitype), T} where T<:Tuple[]"
      ]
     },
     "execution_count": 168,
     "metadata": {},
     "output_type": "execute_result"
    }
   ],
   "source": [
    "models(matching(X4, y4))"
   ]
  },
  {
   "cell_type": "markdown",
   "metadata": {},
   "source": [
    "4(b)"
   ]
  },
  {
   "cell_type": "code",
   "execution_count": 169,
   "metadata": {},
   "outputs": [
    {
     "data": {
      "text/plain": [
       "6-element Vector{NamedTuple{(:name, :package_name, :is_supervised, :abstract_type, :deep_properties, :docstring, :fit_data_scitype, :hyperparameter_ranges, :hyperparameter_types, :hyperparameters, :implemented_methods, :inverse_transform_scitype, :is_pure_julia, :is_wrapper, :iteration_parameter, :load_path, :package_license, :package_url, :package_uuid, :predict_scitype, :prediction_type, :supports_class_weights, :supports_online, :supports_training_losses, :supports_weights, :transform_scitype, :input_scitype, :target_scitype, :output_scitype), T} where T<:Tuple}:\n",
       " (name = ConstantRegressor, package_name = MLJModels, ... )\n",
       " (name = DecisionTreeRegressor, package_name = BetaML, ... )\n",
       " (name = DecisionTreeRegressor, package_name = DecisionTree, ... )\n",
       " (name = DeterministicConstantRegressor, package_name = MLJModels, ... )\n",
       " (name = RandomForestRegressor, package_name = BetaML, ... )\n",
       " (name = RandomForestRegressor, package_name = DecisionTree, ... )"
      ]
     },
     "execution_count": 169,
     "metadata": {},
     "output_type": "execute_result"
    }
   ],
   "source": [
    "y4 = coerce(y4, Continuous);\n",
    "models(matching(X4, y4))"
   ]
  },
  {
   "cell_type": "markdown",
   "metadata": {},
   "source": [
    "#### Exercise 6 solution"
   ]
  },
  {
   "cell_type": "markdown",
   "metadata": {},
   "source": [
    "6(a)"
   ]
  },
  {
   "cell_type": "code",
   "execution_count": 170,
   "metadata": {},
   "outputs": [],
   "source": [
    "y, X = unpack(horse,\n",
    "              ==(:outcome),\n",
    "              name -> elscitype(Tables.getcolumn(horse, name)) == Continuous);"
   ]
  },
  {
   "cell_type": "markdown",
   "metadata": {},
   "source": [
    "6(b)(i)"
   ]
  },
  {
   "cell_type": "code",
   "execution_count": 171,
   "metadata": {},
   "outputs": [
    {
     "name": "stdout",
     "output_type": "stream",
     "text": [
      "import MLJLinearModels ✔\n"
     ]
    },
    {
     "name": "stderr",
     "output_type": "stream",
     "text": [
      "┌ Info: For silent loading, specify `verbosity=0`. \n",
      "└ @ Main /Users/anthony/.julia/packages/MLJModels/4sRmw/src/loading.jl:168\n",
      "┌ Info: Training Machine{LogisticClassifier,…}.\n",
      "└ @ MLJBase /Users/anthony/.julia/packages/MLJBase/HZmTU/src/machines.jl:403\n"
     ]
    },
    {
     "data": {
      "text/plain": [
       "(classes = CategoricalValue{Int64, UInt32}[1, 2, 3],\n",
       " coefs = Pair{Symbol, SubArray{Float64, 1, Matrix{Float64}, Tuple{Int64, Base.Slice{Base.OneTo{Int64}}}, true}}[:rectal_temperature => [0.061700165029243595, -0.06507181612449195, 0.003371651095248075], :pulse => [-0.009584825604133507, 0.004022558654903623, 0.005562266949230421], :respiratory_rate => [-0.009584825604133507, 0.004022558654903623, 0.005562266949230421], :packed_cell_volume => [-0.04309372172868995, 0.020859863946466082, 0.022233857782222862], :total_protein => [0.02750875240430624, -0.06317268051316188, 0.03566392810885553]],\n",
       " intercept = [0.0008917385182322375, -0.000891738518934035, -4.972412447643922],)"
      ]
     },
     "execution_count": 171,
     "metadata": {},
     "output_type": "execute_result"
    }
   ],
   "source": [
    "model = (@load LogisticClassifier pkg=MLJLinearModels)();\n",
    "model.lambda = 100\n",
    "mach = machine(model, X, y)\n",
    "fit!(mach, rows=train)\n",
    "fitted_params(mach)"
   ]
  },
  {
   "cell_type": "code",
   "execution_count": 172,
   "metadata": {},
   "outputs": [
    {
     "data": {
      "text/plain": [
       "0.7187276476001894"
      ]
     },
     "execution_count": 172,
     "metadata": {},
     "output_type": "execute_result"
    }
   ],
   "source": [
    "coefs_given_feature = Dict(fitted_params(mach).coefs)\n",
    "coefs_given_feature[:pulse]\n",
    "\n",
    "#6(b)(ii)\n",
    "\n",
    "yhat = predict(mach, rows=test); # or predict(mach, X[test,:])\n",
    "err = cross_entropy(yhat, y[test]) |> mean"
   ]
  },
  {
   "cell_type": "markdown",
   "metadata": {},
   "source": [
    "6(b)(iii)"
   ]
  },
  {
   "cell_type": "markdown",
   "metadata": {},
   "source": [
    "The predicted probabilities of the actual observations in the test\n",
    "are given by"
   ]
  },
  {
   "cell_type": "code",
   "execution_count": 173,
   "metadata": {},
   "outputs": [],
   "source": [
    "p = broadcast(pdf, yhat, y[test]);"
   ]
  },
  {
   "cell_type": "markdown",
   "metadata": {},
   "source": [
    "The number of times this probability exceeds 50% is:"
   ]
  },
  {
   "cell_type": "code",
   "execution_count": 174,
   "metadata": {},
   "outputs": [
    {
     "data": {
      "text/plain": [
       "30"
      ]
     },
     "execution_count": 174,
     "metadata": {},
     "output_type": "execute_result"
    }
   ],
   "source": [
    "n50 = filter(x -> x > 0.5, p) |> length"
   ]
  },
  {
   "cell_type": "markdown",
   "metadata": {},
   "source": [
    "Or, as a proportion:"
   ]
  },
  {
   "cell_type": "code",
   "execution_count": 175,
   "metadata": {},
   "outputs": [
    {
     "data": {
      "text/plain": [
       "0.6666666666666666"
      ]
     },
     "execution_count": 175,
     "metadata": {},
     "output_type": "execute_result"
    }
   ],
   "source": [
    "n50/length(test)"
   ]
  },
  {
   "cell_type": "markdown",
   "metadata": {},
   "source": [
    "6(b)(iv)"
   ]
  },
  {
   "cell_type": "code",
   "execution_count": 176,
   "metadata": {},
   "outputs": [
    {
     "data": {
      "text/plain": [
       "0.28888888888888886"
      ]
     },
     "execution_count": 176,
     "metadata": {},
     "output_type": "execute_result"
    }
   ],
   "source": [
    "misclassification_rate(mode.(yhat), y[test])"
   ]
  },
  {
   "cell_type": "markdown",
   "metadata": {},
   "source": [
    "6(c)(i)"
   ]
  },
  {
   "cell_type": "code",
   "execution_count": 177,
   "metadata": {},
   "outputs": [
    {
     "name": "stdout",
     "output_type": "stream",
     "text": [
      "import MLJDecisionTreeInterface ✔\n"
     ]
    },
    {
     "name": "stderr",
     "output_type": "stream",
     "text": [
      "┌ Info: For silent loading, specify `verbosity=0`. \n",
      "└ @ Main /Users/anthony/.julia/packages/MLJModels/4sRmw/src/loading.jl:168\n",
      "\u001b[33mEvaluating over 6 folds: 100%[=========================] Time: 0:00:01\u001b[39m\n"
     ]
    },
    {
     "data": {
      "text/plain": [
       "NumericRange(10 ≤ n_trees ≤ 70; origin=40.0, unit=30.0) on log10 scale"
      ]
     },
     "execution_count": 177,
     "metadata": {},
     "output_type": "execute_result"
    }
   ],
   "source": [
    "model = (@load RandomForestClassifier pkg=DecisionTree)()\n",
    "mach = machine(model, X, y)\n",
    "evaluate!(mach, resampling=CV(nfolds=6), measure=cross_entropy)\n",
    "\n",
    "r = range(model, :n_trees, lower=10, upper=70, scale=:log10)"
   ]
  },
  {
   "cell_type": "markdown",
   "metadata": {},
   "source": [
    "Since random forests are inherently randomized, we generate multiple\n",
    "curves:"
   ]
  },
  {
   "cell_type": "code",
   "execution_count": 178,
   "metadata": {},
   "outputs": [
    {
     "name": "stderr",
     "output_type": "stream",
     "text": [
      "┌ Info: Training Machine{ProbabilisticTunedModel{Grid,…},…}.\n",
      "└ @ MLJBase /Users/anthony/.julia/packages/MLJBase/HZmTU/src/machines.jl:403\n",
      "┌ Info: Attempting to evaluate 29 models.\n",
      "└ @ MLJTuning /Users/anthony/.julia/packages/MLJTuning/efiDR/src/tuned_models.jl:685\n",
      "\u001b[33mEvaluating over 29 metamodels: 100%[=========================] Time: 0:00:01\u001b[39m\n",
      "┌ Info: Training Machine{ProbabilisticTunedModel{Grid,…},…}.\n",
      "└ @ MLJBase /Users/anthony/.julia/packages/MLJBase/HZmTU/src/machines.jl:403\n",
      "┌ Info: Attempting to evaluate 29 models.\n",
      "└ @ MLJTuning /Users/anthony/.julia/packages/MLJTuning/efiDR/src/tuned_models.jl:685\n",
      "\u001b[33mEvaluating over 29 metamodels: 100%[=========================] Time: 0:00:00\u001b[39m\n",
      "┌ Info: Training Machine{ProbabilisticTunedModel{Grid,…},…}.\n",
      "└ @ MLJBase /Users/anthony/.julia/packages/MLJBase/HZmTU/src/machines.jl:403\n",
      "┌ Info: Attempting to evaluate 29 models.\n",
      "└ @ MLJTuning /Users/anthony/.julia/packages/MLJTuning/efiDR/src/tuned_models.jl:685\n",
      "\u001b[33mEvaluating over 29 metamodels: 100%[=========================] Time: 0:00:00\u001b[39m\n",
      "┌ Info: Training Machine{ProbabilisticTunedModel{Grid,…},…}.\n",
      "└ @ MLJBase /Users/anthony/.julia/packages/MLJBase/HZmTU/src/machines.jl:403\n",
      "┌ Info: Attempting to evaluate 29 models.\n",
      "└ @ MLJTuning /Users/anthony/.julia/packages/MLJTuning/efiDR/src/tuned_models.jl:685\n",
      "\u001b[33mEvaluating over 29 metamodels: 100%[=========================] Time: 0:00:00\u001b[39m\n"
     ]
    },
    {
     "data": {
      "image/svg+xml": [
       "<?xml version=\"1.0\" encoding=\"utf-8\"?>\n",
       "<svg xmlns=\"http://www.w3.org/2000/svg\" xmlns:xlink=\"http://www.w3.org/1999/xlink\" width=\"490\" height=\"300\" viewBox=\"0 0 1960 1200\">\n",
       "<defs>\n",
       "  <clipPath id=\"clip290\">\n",
       "    <rect x=\"0\" y=\"0\" width=\"1960\" height=\"1200\"/>\n",
       "  </clipPath>\n",
       "</defs>\n",
       "<path clip-path=\"url(#clip290)\" d=\"\n",
       "M0 1200 L1960 1200 L1960 0 L0 0  Z\n",
       "  \" fill=\"#ffffff\" fill-rule=\"evenodd\" fill-opacity=\"1\"/>\n",
       "<defs>\n",
       "  <clipPath id=\"clip291\">\n",
       "    <rect x=\"392\" y=\"0\" width=\"1373\" height=\"1200\"/>\n",
       "  </clipPath>\n",
       "</defs>\n",
       "<path clip-path=\"url(#clip290)\" d=\"\n",
       "M210.754 1033.88 L1912.76 1033.88 L1912.76 47.2441 L210.754 47.2441  Z\n",
       "  \" fill=\"#ffffff\" fill-rule=\"evenodd\" fill-opacity=\"1\"/>\n",
       "<defs>\n",
       "  <clipPath id=\"clip292\">\n",
       "    <rect x=\"210\" y=\"47\" width=\"1703\" height=\"988\"/>\n",
       "  </clipPath>\n",
       "</defs>\n",
       "<polyline clip-path=\"url(#clip292)\" style=\"stroke:#000000; stroke-linecap:butt; stroke-linejoin:round; stroke-width:2; stroke-opacity:0.1; fill:none\" points=\"\n",
       "  258.924,1033.88 258.924,47.2441 \n",
       "  \"/>\n",
       "<polyline clip-path=\"url(#clip292)\" style=\"stroke:#000000; stroke-linecap:butt; stroke-linejoin:round; stroke-width:2; stroke-opacity:0.1; fill:none\" points=\"\n",
       "  526.534,1033.88 526.534,47.2441 \n",
       "  \"/>\n",
       "<polyline clip-path=\"url(#clip292)\" style=\"stroke:#000000; stroke-linecap:butt; stroke-linejoin:round; stroke-width:2; stroke-opacity:0.1; fill:none\" points=\"\n",
       "  794.144,1033.88 794.144,47.2441 \n",
       "  \"/>\n",
       "<polyline clip-path=\"url(#clip292)\" style=\"stroke:#000000; stroke-linecap:butt; stroke-linejoin:round; stroke-width:2; stroke-opacity:0.1; fill:none\" points=\"\n",
       "  1061.75,1033.88 1061.75,47.2441 \n",
       "  \"/>\n",
       "<polyline clip-path=\"url(#clip292)\" style=\"stroke:#000000; stroke-linecap:butt; stroke-linejoin:round; stroke-width:2; stroke-opacity:0.1; fill:none\" points=\"\n",
       "  1329.37,1033.88 1329.37,47.2441 \n",
       "  \"/>\n",
       "<polyline clip-path=\"url(#clip292)\" style=\"stroke:#000000; stroke-linecap:butt; stroke-linejoin:round; stroke-width:2; stroke-opacity:0.1; fill:none\" points=\"\n",
       "  1596.98,1033.88 1596.98,47.2441 \n",
       "  \"/>\n",
       "<polyline clip-path=\"url(#clip292)\" style=\"stroke:#000000; stroke-linecap:butt; stroke-linejoin:round; stroke-width:2; stroke-opacity:0.1; fill:none\" points=\"\n",
       "  1864.59,1033.88 1864.59,47.2441 \n",
       "  \"/>\n",
       "<polyline clip-path=\"url(#clip290)\" style=\"stroke:#000000; stroke-linecap:butt; stroke-linejoin:round; stroke-width:4; stroke-opacity:1; fill:none\" points=\"\n",
       "  210.754,1033.88 1912.76,1033.88 \n",
       "  \"/>\n",
       "<polyline clip-path=\"url(#clip290)\" style=\"stroke:#000000; stroke-linecap:butt; stroke-linejoin:round; stroke-width:4; stroke-opacity:1; fill:none\" points=\"\n",
       "  258.924,1033.88 258.924,1014.98 \n",
       "  \"/>\n",
       "<polyline clip-path=\"url(#clip290)\" style=\"stroke:#000000; stroke-linecap:butt; stroke-linejoin:round; stroke-width:4; stroke-opacity:1; fill:none\" points=\"\n",
       "  526.534,1033.88 526.534,1014.98 \n",
       "  \"/>\n",
       "<polyline clip-path=\"url(#clip290)\" style=\"stroke:#000000; stroke-linecap:butt; stroke-linejoin:round; stroke-width:4; stroke-opacity:1; fill:none\" points=\"\n",
       "  794.144,1033.88 794.144,1014.98 \n",
       "  \"/>\n",
       "<polyline clip-path=\"url(#clip290)\" style=\"stroke:#000000; stroke-linecap:butt; stroke-linejoin:round; stroke-width:4; stroke-opacity:1; fill:none\" points=\"\n",
       "  1061.75,1033.88 1061.75,1014.98 \n",
       "  \"/>\n",
       "<polyline clip-path=\"url(#clip290)\" style=\"stroke:#000000; stroke-linecap:butt; stroke-linejoin:round; stroke-width:4; stroke-opacity:1; fill:none\" points=\"\n",
       "  1329.37,1033.88 1329.37,1014.98 \n",
       "  \"/>\n",
       "<polyline clip-path=\"url(#clip290)\" style=\"stroke:#000000; stroke-linecap:butt; stroke-linejoin:round; stroke-width:4; stroke-opacity:1; fill:none\" points=\"\n",
       "  1596.98,1033.88 1596.98,1014.98 \n",
       "  \"/>\n",
       "<polyline clip-path=\"url(#clip290)\" style=\"stroke:#000000; stroke-linecap:butt; stroke-linejoin:round; stroke-width:4; stroke-opacity:1; fill:none\" points=\"\n",
       "  1864.59,1033.88 1864.59,1014.98 \n",
       "  \"/>\n",
       "<path clip-path=\"url(#clip290)\" d=\"M233.611 1088.83 L241.25 1088.83 L241.25 1062.46 L232.94 1064.13 L232.94 1059.87 L241.204 1058.2 L245.88 1058.2 L245.88 1088.83 L253.519 1088.83 L253.519 1092.76 L233.611 1092.76 L233.611 1088.83 Z\" fill=\"#000000\" fill-rule=\"evenodd\" fill-opacity=\"1\" /><path clip-path=\"url(#clip290)\" d=\"M272.963 1061.28 Q269.352 1061.28 267.523 1064.84 Q265.718 1068.39 265.718 1075.51 Q265.718 1082.62 267.523 1086.19 Q269.352 1089.73 272.963 1089.73 Q276.597 1089.73 278.403 1086.19 Q280.231 1082.62 280.231 1075.51 Q280.231 1068.39 278.403 1064.84 Q276.597 1061.28 272.963 1061.28 M272.963 1057.58 Q278.773 1057.58 281.829 1062.18 Q284.907 1066.77 284.907 1075.51 Q284.907 1084.24 281.829 1088.85 Q278.773 1093.43 272.963 1093.43 Q267.153 1093.43 264.074 1088.85 Q261.019 1084.24 261.019 1075.51 Q261.019 1066.77 264.074 1062.18 Q267.153 1057.58 272.963 1057.58 Z\" fill=\"#000000\" fill-rule=\"evenodd\" fill-opacity=\"1\" /><path clip-path=\"url(#clip290)\" d=\"M505.307 1088.83 L521.627 1088.83 L521.627 1092.76 L499.682 1092.76 L499.682 1088.83 Q502.344 1086.07 506.928 1081.44 Q511.534 1076.79 512.715 1075.45 Q514.96 1072.92 515.84 1071.19 Q516.742 1069.43 516.742 1067.74 Q516.742 1064.98 514.798 1063.25 Q512.877 1061.51 509.775 1061.51 Q507.576 1061.51 505.122 1062.27 Q502.692 1063.04 499.914 1064.59 L499.914 1059.87 Q502.738 1058.73 505.192 1058.15 Q507.645 1057.58 509.682 1057.58 Q515.053 1057.58 518.247 1060.26 Q521.441 1062.95 521.441 1067.44 Q521.441 1069.57 520.631 1071.49 Q519.844 1073.39 517.738 1075.98 Q517.159 1076.65 514.057 1079.87 Q510.955 1083.06 505.307 1088.83 Z\" fill=\"#000000\" fill-rule=\"evenodd\" fill-opacity=\"1\" /><path clip-path=\"url(#clip290)\" d=\"M541.441 1061.28 Q537.83 1061.28 536.002 1064.84 Q534.196 1068.39 534.196 1075.51 Q534.196 1082.62 536.002 1086.19 Q537.83 1089.73 541.441 1089.73 Q545.076 1089.73 546.881 1086.19 Q548.71 1082.62 548.71 1075.51 Q548.71 1068.39 546.881 1064.84 Q545.076 1061.28 541.441 1061.28 M541.441 1057.58 Q547.252 1057.58 550.307 1062.18 Q553.386 1066.77 553.386 1075.51 Q553.386 1084.24 550.307 1088.85 Q547.252 1093.43 541.441 1093.43 Q535.631 1093.43 532.553 1088.85 Q529.497 1084.24 529.497 1075.51 Q529.497 1066.77 532.553 1062.18 Q535.631 1057.58 541.441 1057.58 Z\" fill=\"#000000\" fill-rule=\"evenodd\" fill-opacity=\"1\" /><path clip-path=\"url(#clip290)\" d=\"M782.987 1074.13 Q786.344 1074.84 788.219 1077.11 Q790.117 1079.38 790.117 1082.71 Q790.117 1087.83 786.598 1090.63 Q783.08 1093.43 776.598 1093.43 Q774.422 1093.43 772.108 1092.99 Q769.816 1092.58 767.362 1091.72 L767.362 1087.2 Q769.307 1088.34 771.621 1088.92 Q773.936 1089.5 776.459 1089.5 Q780.857 1089.5 783.149 1087.76 Q785.464 1086.02 785.464 1082.71 Q785.464 1079.66 783.311 1077.95 Q781.182 1076.21 777.362 1076.21 L773.334 1076.21 L773.334 1072.37 L777.547 1072.37 Q780.996 1072.37 782.825 1071 Q784.654 1069.61 784.654 1067.02 Q784.654 1064.36 782.756 1062.95 Q780.881 1061.51 777.362 1061.51 Q775.441 1061.51 773.242 1061.93 Q771.043 1062.34 768.404 1063.22 L768.404 1059.06 Q771.066 1058.32 773.381 1057.95 Q775.719 1057.58 777.779 1057.58 Q783.103 1057.58 786.205 1060.01 Q789.306 1062.41 789.306 1066.53 Q789.306 1069.4 787.663 1071.39 Q786.019 1073.36 782.987 1074.13 Z\" fill=\"#000000\" fill-rule=\"evenodd\" fill-opacity=\"1\" /><path clip-path=\"url(#clip290)\" d=\"M808.982 1061.28 Q805.371 1061.28 803.543 1064.84 Q801.737 1068.39 801.737 1075.51 Q801.737 1082.62 803.543 1086.19 Q805.371 1089.73 808.982 1089.73 Q812.617 1089.73 814.422 1086.19 Q816.251 1082.62 816.251 1075.51 Q816.251 1068.39 814.422 1064.84 Q812.617 1061.28 808.982 1061.28 M808.982 1057.58 Q814.792 1057.58 817.848 1062.18 Q820.927 1066.77 820.927 1075.51 Q820.927 1084.24 817.848 1088.85 Q814.792 1093.43 808.982 1093.43 Q803.172 1093.43 800.093 1088.85 Q797.038 1084.24 797.038 1075.51 Q797.038 1066.77 800.093 1062.18 Q803.172 1057.58 808.982 1057.58 Z\" fill=\"#000000\" fill-rule=\"evenodd\" fill-opacity=\"1\" /><path clip-path=\"url(#clip290)\" d=\"M1049.93 1062.27 L1038.12 1080.72 L1049.93 1080.72 L1049.93 1062.27 M1048.7 1058.2 L1054.58 1058.2 L1054.58 1080.72 L1059.51 1080.72 L1059.51 1084.61 L1054.58 1084.61 L1054.58 1092.76 L1049.93 1092.76 L1049.93 1084.61 L1034.32 1084.61 L1034.32 1080.1 L1048.7 1058.2 Z\" fill=\"#000000\" fill-rule=\"evenodd\" fill-opacity=\"1\" /><path clip-path=\"url(#clip290)\" d=\"M1077.24 1061.28 Q1073.63 1061.28 1071.8 1064.84 Q1070 1068.39 1070 1075.51 Q1070 1082.62 1071.8 1086.19 Q1073.63 1089.73 1077.24 1089.73 Q1080.88 1089.73 1082.68 1086.19 Q1084.51 1082.62 1084.51 1075.51 Q1084.51 1068.39 1082.68 1064.84 Q1080.88 1061.28 1077.24 1061.28 M1077.24 1057.58 Q1083.05 1057.58 1086.11 1062.18 Q1089.19 1066.77 1089.19 1075.51 Q1089.19 1084.24 1086.11 1088.85 Q1083.05 1093.43 1077.24 1093.43 Q1071.43 1093.43 1068.35 1088.85 Q1065.3 1084.24 1065.3 1075.51 Q1065.3 1066.77 1068.35 1062.18 Q1071.43 1057.58 1077.24 1057.58 Z\" fill=\"#000000\" fill-rule=\"evenodd\" fill-opacity=\"1\" /><path clip-path=\"url(#clip290)\" d=\"M1304.06 1058.2 L1322.42 1058.2 L1322.42 1062.14 L1308.35 1062.14 L1308.35 1070.61 Q1309.37 1070.26 1310.38 1070.1 Q1311.4 1069.91 1312.42 1069.91 Q1318.21 1069.91 1321.59 1073.08 Q1324.97 1076.26 1324.97 1081.67 Q1324.97 1087.25 1321.49 1090.35 Q1318.02 1093.43 1311.7 1093.43 Q1309.53 1093.43 1307.26 1093.06 Q1305.01 1092.69 1302.61 1091.95 L1302.61 1087.25 Q1304.69 1088.39 1306.91 1088.94 Q1309.13 1089.5 1311.61 1089.5 Q1315.62 1089.5 1317.95 1087.39 Q1320.29 1085.28 1320.29 1081.67 Q1320.29 1078.06 1317.95 1075.95 Q1315.62 1073.85 1311.61 1073.85 Q1309.74 1073.85 1307.86 1074.26 Q1306.01 1074.68 1304.06 1075.56 L1304.06 1058.2 Z\" fill=\"#000000\" fill-rule=\"evenodd\" fill-opacity=\"1\" /><path clip-path=\"url(#clip290)\" d=\"M1344.18 1061.28 Q1340.57 1061.28 1338.74 1064.84 Q1336.93 1068.39 1336.93 1075.51 Q1336.93 1082.62 1338.74 1086.19 Q1340.57 1089.73 1344.18 1089.73 Q1347.81 1089.73 1349.62 1086.19 Q1351.45 1082.62 1351.45 1075.51 Q1351.45 1068.39 1349.62 1064.84 Q1347.81 1061.28 1344.18 1061.28 M1344.18 1057.58 Q1349.99 1057.58 1353.05 1062.18 Q1356.12 1066.77 1356.12 1075.51 Q1356.12 1084.24 1353.05 1088.85 Q1349.99 1093.43 1344.18 1093.43 Q1338.37 1093.43 1335.29 1088.85 Q1332.24 1084.24 1332.24 1075.51 Q1332.24 1066.77 1335.29 1062.18 Q1338.37 1057.58 1344.18 1057.58 Z\" fill=\"#000000\" fill-rule=\"evenodd\" fill-opacity=\"1\" /><path clip-path=\"url(#clip290)\" d=\"M1582.38 1073.62 Q1579.23 1073.62 1577.38 1075.77 Q1575.55 1077.92 1575.55 1081.67 Q1575.55 1085.4 1577.38 1087.58 Q1579.23 1089.73 1582.38 1089.73 Q1585.53 1089.73 1587.36 1087.58 Q1589.21 1085.4 1589.21 1081.67 Q1589.21 1077.92 1587.36 1075.77 Q1585.53 1073.62 1582.38 1073.62 M1591.66 1058.96 L1591.66 1063.22 Q1589.9 1062.39 1588.1 1061.95 Q1586.32 1061.51 1584.56 1061.51 Q1579.93 1061.51 1577.47 1064.64 Q1575.04 1067.76 1574.7 1074.08 Q1576.06 1072.07 1578.12 1071 Q1580.18 1069.91 1582.66 1069.91 Q1587.87 1069.91 1590.88 1073.08 Q1593.91 1076.23 1593.91 1081.67 Q1593.91 1087 1590.76 1090.21 Q1587.61 1093.43 1582.38 1093.43 Q1576.39 1093.43 1573.21 1088.85 Q1570.04 1084.24 1570.04 1075.51 Q1570.04 1067.32 1573.93 1062.46 Q1577.82 1057.58 1584.37 1057.58 Q1586.13 1057.58 1587.91 1057.92 Q1589.72 1058.27 1591.66 1058.96 Z\" fill=\"#000000\" fill-rule=\"evenodd\" fill-opacity=\"1\" /><path clip-path=\"url(#clip290)\" d=\"M1611.96 1061.28 Q1608.35 1061.28 1606.52 1064.84 Q1604.72 1068.39 1604.72 1075.51 Q1604.72 1082.62 1606.52 1086.19 Q1608.35 1089.73 1611.96 1089.73 Q1615.6 1089.73 1617.4 1086.19 Q1619.23 1082.62 1619.23 1075.51 Q1619.23 1068.39 1617.4 1064.84 Q1615.6 1061.28 1611.96 1061.28 M1611.96 1057.58 Q1617.77 1057.58 1620.83 1062.18 Q1623.91 1066.77 1623.91 1075.51 Q1623.91 1084.24 1620.83 1088.85 Q1617.77 1093.43 1611.96 1093.43 Q1606.15 1093.43 1603.08 1088.85 Q1600.02 1084.24 1600.02 1075.51 Q1600.02 1066.77 1603.08 1062.18 Q1606.15 1057.58 1611.96 1057.58 Z\" fill=\"#000000\" fill-rule=\"evenodd\" fill-opacity=\"1\" /><path clip-path=\"url(#clip290)\" d=\"M1837.94 1058.2 L1860.16 1058.2 L1860.16 1060.19 L1847.62 1092.76 L1842.73 1092.76 L1854.54 1062.14 L1837.94 1062.14 L1837.94 1058.2 Z\" fill=\"#000000\" fill-rule=\"evenodd\" fill-opacity=\"1\" /><path clip-path=\"url(#clip290)\" d=\"M1879.29 1061.28 Q1875.67 1061.28 1873.85 1064.84 Q1872.04 1068.39 1872.04 1075.51 Q1872.04 1082.62 1873.85 1086.19 Q1875.67 1089.73 1879.29 1089.73 Q1882.92 1089.73 1884.72 1086.19 Q1886.55 1082.62 1886.55 1075.51 Q1886.55 1068.39 1884.72 1064.84 Q1882.92 1061.28 1879.29 1061.28 M1879.29 1057.58 Q1885.1 1057.58 1888.15 1062.18 Q1891.23 1066.77 1891.23 1075.51 Q1891.23 1084.24 1888.15 1088.85 Q1885.1 1093.43 1879.29 1093.43 Q1873.47 1093.43 1870.4 1088.85 Q1867.34 1084.24 1867.34 1075.51 Q1867.34 1066.77 1870.4 1062.18 Q1873.47 1057.58 1879.29 1057.58 Z\" fill=\"#000000\" fill-rule=\"evenodd\" fill-opacity=\"1\" /><path clip-path=\"url(#clip290)\" d=\"M976.661 1150.63 L976.661 1172.14 L970.805 1172.14 L970.805 1150.82 Q970.805 1145.76 968.831 1143.24 Q966.858 1140.73 962.911 1140.73 Q958.169 1140.73 955.432 1143.75 Q952.694 1146.78 952.694 1152 L952.694 1172.14 L946.806 1172.14 L946.806 1136.5 L952.694 1136.5 L952.694 1142.03 Q954.795 1138.82 957.628 1137.23 Q960.492 1135.64 964.216 1135.64 Q970.359 1135.64 973.51 1139.46 Q976.661 1143.24 976.661 1150.63 Z\" fill=\"#000000\" fill-rule=\"evenodd\" fill-opacity=\"1\" /><path clip-path=\"url(#clip290)\" d=\"M1015.43 1182.97 L1015.43 1187.52 L981.563 1187.52 L981.563 1182.97 L1015.43 1182.97 Z\" fill=\"#000000\" fill-rule=\"evenodd\" fill-opacity=\"1\" /><path clip-path=\"url(#clip290)\" d=\"M1026.73 1126.37 L1026.73 1136.5 L1038.79 1136.5 L1038.79 1141.05 L1026.73 1141.05 L1026.73 1160.4 Q1026.73 1164.76 1027.91 1166 Q1029.11 1167.24 1032.77 1167.24 L1038.79 1167.24 L1038.79 1172.14 L1032.77 1172.14 Q1026 1172.14 1023.42 1169.63 Q1020.84 1167.08 1020.84 1160.4 L1020.84 1141.05 L1016.54 1141.05 L1016.54 1136.5 L1020.84 1136.5 L1020.84 1126.37 L1026.73 1126.37 Z\" fill=\"#000000\" fill-rule=\"evenodd\" fill-opacity=\"1\" /><path clip-path=\"url(#clip290)\" d=\"M1067.15 1141.97 Q1066.16 1141.4 1064.99 1141.14 Q1063.84 1140.86 1062.44 1140.86 Q1057.47 1140.86 1054.8 1144.1 Q1052.16 1147.32 1052.16 1153.37 L1052.16 1172.14 L1046.27 1172.14 L1046.27 1136.5 L1052.16 1136.5 L1052.16 1142.03 Q1054 1138.79 1056.96 1137.23 Q1059.92 1135.64 1064.16 1135.64 Q1064.76 1135.64 1065.49 1135.73 Q1066.23 1135.8 1067.12 1135.96 L1067.15 1141.97 Z\" fill=\"#000000\" fill-rule=\"evenodd\" fill-opacity=\"1\" /><path clip-path=\"url(#clip290)\" d=\"M1102.35 1152.86 L1102.35 1155.72 L1075.43 1155.72 Q1075.81 1161.77 1079.05 1164.95 Q1082.33 1168.1 1088.16 1168.1 Q1091.53 1168.1 1094.68 1167.27 Q1097.86 1166.45 1100.98 1164.79 L1100.98 1170.33 Q1097.83 1171.67 1094.52 1172.37 Q1091.21 1173.07 1087.81 1173.07 Q1079.28 1173.07 1074.28 1168.1 Q1069.31 1163.14 1069.31 1154.67 Q1069.31 1145.92 1074.02 1140.79 Q1078.77 1135.64 1086.79 1135.64 Q1093.98 1135.64 1098.15 1140.28 Q1102.35 1144.9 1102.35 1152.86 M1096.5 1151.14 Q1096.43 1146.33 1093.79 1143.47 Q1091.18 1140.6 1086.85 1140.6 Q1081.95 1140.6 1078.99 1143.37 Q1076.06 1146.14 1075.62 1151.17 L1096.5 1151.14 Z\" fill=\"#000000\" fill-rule=\"evenodd\" fill-opacity=\"1\" /><path clip-path=\"url(#clip290)\" d=\"M1142.46 1152.86 L1142.46 1155.72 L1115.53 1155.72 Q1115.91 1161.77 1119.16 1164.95 Q1122.44 1168.1 1128.26 1168.1 Q1131.63 1168.1 1134.79 1167.27 Q1137.97 1166.45 1141.09 1164.79 L1141.09 1170.33 Q1137.94 1171.67 1134.63 1172.37 Q1131.32 1173.07 1127.91 1173.07 Q1119.38 1173.07 1114.38 1168.1 Q1109.42 1163.14 1109.42 1154.67 Q1109.42 1145.92 1114.13 1140.79 Q1118.87 1135.64 1126.89 1135.64 Q1134.09 1135.64 1138.25 1140.28 Q1142.46 1144.9 1142.46 1152.86 M1136.6 1151.14 Q1136.54 1146.33 1133.89 1143.47 Q1131.28 1140.6 1126.96 1140.6 Q1122.05 1140.6 1119.09 1143.37 Q1116.17 1146.14 1115.72 1151.17 L1136.6 1151.14 Z\" fill=\"#000000\" fill-rule=\"evenodd\" fill-opacity=\"1\" /><path clip-path=\"url(#clip290)\" d=\"M1174.79 1137.55 L1174.79 1143.08 Q1172.31 1141.81 1169.64 1141.18 Q1166.96 1140.54 1164.1 1140.54 Q1159.74 1140.54 1157.54 1141.88 Q1155.38 1143.21 1155.38 1145.89 Q1155.38 1147.92 1156.94 1149.1 Q1158.5 1150.25 1163.21 1151.3 L1165.21 1151.74 Q1171.45 1153.08 1174.06 1155.53 Q1176.7 1157.95 1176.7 1162.31 Q1176.7 1167.27 1172.76 1170.17 Q1168.84 1173.07 1161.97 1173.07 Q1159.1 1173.07 1155.98 1172.49 Q1152.9 1171.95 1149.46 1170.84 L1149.46 1164.79 Q1152.7 1166.48 1155.86 1167.34 Q1159.01 1168.17 1162.09 1168.17 Q1166.23 1168.17 1168.46 1166.77 Q1170.69 1165.33 1170.69 1162.75 Q1170.69 1160.37 1169.06 1159.09 Q1167.47 1157.82 1162.03 1156.64 L1159.99 1156.17 Q1154.55 1155.02 1152.13 1152.67 Q1149.71 1150.28 1149.71 1146.14 Q1149.71 1141.11 1153.28 1138.37 Q1156.84 1135.64 1163.4 1135.64 Q1166.65 1135.64 1169.51 1136.11 Q1172.37 1136.59 1174.79 1137.55 Z\" fill=\"#000000\" fill-rule=\"evenodd\" fill-opacity=\"1\" /><polyline clip-path=\"url(#clip292)\" style=\"stroke:#000000; stroke-linecap:butt; stroke-linejoin:round; stroke-width:2; stroke-opacity:0.1; fill:none\" points=\"\n",
       "  210.754,980.886 1912.76,980.886 \n",
       "  \"/>\n",
       "<polyline clip-path=\"url(#clip292)\" style=\"stroke:#000000; stroke-linecap:butt; stroke-linejoin:round; stroke-width:2; stroke-opacity:0.1; fill:none\" points=\"\n",
       "  210.754,763.168 1912.76,763.168 \n",
       "  \"/>\n",
       "<polyline clip-path=\"url(#clip292)\" style=\"stroke:#000000; stroke-linecap:butt; stroke-linejoin:round; stroke-width:2; stroke-opacity:0.1; fill:none\" points=\"\n",
       "  210.754,545.449 1912.76,545.449 \n",
       "  \"/>\n",
       "<polyline clip-path=\"url(#clip292)\" style=\"stroke:#000000; stroke-linecap:butt; stroke-linejoin:round; stroke-width:2; stroke-opacity:0.1; fill:none\" points=\"\n",
       "  210.754,327.731 1912.76,327.731 \n",
       "  \"/>\n",
       "<polyline clip-path=\"url(#clip292)\" style=\"stroke:#000000; stroke-linecap:butt; stroke-linejoin:round; stroke-width:2; stroke-opacity:0.1; fill:none\" points=\"\n",
       "  210.754,110.013 1912.76,110.013 \n",
       "  \"/>\n",
       "<polyline clip-path=\"url(#clip290)\" style=\"stroke:#000000; stroke-linecap:butt; stroke-linejoin:round; stroke-width:4; stroke-opacity:1; fill:none\" points=\"\n",
       "  210.754,1033.88 210.754,47.2441 \n",
       "  \"/>\n",
       "<polyline clip-path=\"url(#clip290)\" style=\"stroke:#000000; stroke-linecap:butt; stroke-linejoin:round; stroke-width:4; stroke-opacity:1; fill:none\" points=\"\n",
       "  210.754,980.886 229.651,980.886 \n",
       "  \"/>\n",
       "<polyline clip-path=\"url(#clip290)\" style=\"stroke:#000000; stroke-linecap:butt; stroke-linejoin:round; stroke-width:4; stroke-opacity:1; fill:none\" points=\"\n",
       "  210.754,763.168 229.651,763.168 \n",
       "  \"/>\n",
       "<polyline clip-path=\"url(#clip290)\" style=\"stroke:#000000; stroke-linecap:butt; stroke-linejoin:round; stroke-width:4; stroke-opacity:1; fill:none\" points=\"\n",
       "  210.754,545.449 229.651,545.449 \n",
       "  \"/>\n",
       "<polyline clip-path=\"url(#clip290)\" style=\"stroke:#000000; stroke-linecap:butt; stroke-linejoin:round; stroke-width:4; stroke-opacity:1; fill:none\" points=\"\n",
       "  210.754,327.731 229.651,327.731 \n",
       "  \"/>\n",
       "<polyline clip-path=\"url(#clip290)\" style=\"stroke:#000000; stroke-linecap:butt; stroke-linejoin:round; stroke-width:4; stroke-opacity:1; fill:none\" points=\"\n",
       "  210.754,110.013 229.651,110.013 \n",
       "  \"/>\n",
       "<path clip-path=\"url(#clip290)\" d=\"M114.988 994.231 L122.627 994.231 L122.627 967.865 L114.317 969.532 L114.317 965.273 L122.581 963.606 L127.257 963.606 L127.257 994.231 L134.896 994.231 L134.896 998.166 L114.988 998.166 L114.988 994.231 Z\" fill=\"#000000\" fill-rule=\"evenodd\" fill-opacity=\"1\" /><path clip-path=\"url(#clip290)\" d=\"M144.34 992.286 L149.224 992.286 L149.224 998.166 L144.34 998.166 L144.34 992.286 Z\" fill=\"#000000\" fill-rule=\"evenodd\" fill-opacity=\"1\" /><path clip-path=\"url(#clip290)\" d=\"M169.409 966.685 Q165.798 966.685 163.97 970.249 Q162.164 973.791 162.164 980.921 Q162.164 988.027 163.97 991.592 Q165.798 995.134 169.409 995.134 Q173.044 995.134 174.849 991.592 Q176.678 988.027 176.678 980.921 Q176.678 973.791 174.849 970.249 Q173.044 966.685 169.409 966.685 M169.409 962.981 Q175.22 962.981 178.275 967.587 Q181.354 972.171 181.354 980.921 Q181.354 989.648 178.275 994.254 Q175.22 998.837 169.409 998.837 Q163.599 998.837 160.521 994.254 Q157.465 989.648 157.465 980.921 Q157.465 972.171 160.521 967.587 Q163.599 962.981 169.409 962.981 Z\" fill=\"#000000\" fill-rule=\"evenodd\" fill-opacity=\"1\" /><path clip-path=\"url(#clip290)\" d=\"M115.984 776.512 L123.623 776.512 L123.623 750.147 L115.312 751.814 L115.312 747.554 L123.576 745.888 L128.252 745.888 L128.252 776.512 L135.891 776.512 L135.891 780.448 L115.984 780.448 L115.984 776.512 Z\" fill=\"#000000\" fill-rule=\"evenodd\" fill-opacity=\"1\" /><path clip-path=\"url(#clip290)\" d=\"M145.335 774.568 L150.22 774.568 L150.22 780.448 L145.335 780.448 L145.335 774.568 Z\" fill=\"#000000\" fill-rule=\"evenodd\" fill-opacity=\"1\" /><path clip-path=\"url(#clip290)\" d=\"M160.451 745.888 L178.807 745.888 L178.807 749.823 L164.733 749.823 L164.733 758.295 Q165.752 757.948 166.77 757.786 Q167.789 757.601 168.808 757.601 Q174.595 757.601 177.974 760.772 Q181.354 763.943 181.354 769.36 Q181.354 774.938 177.882 778.04 Q174.409 781.119 168.09 781.119 Q165.914 781.119 163.646 780.749 Q161.4 780.378 158.993 779.637 L158.993 774.938 Q161.076 776.073 163.298 776.628 Q165.521 777.184 167.997 777.184 Q172.002 777.184 174.34 775.077 Q176.678 772.971 176.678 769.36 Q176.678 765.749 174.34 763.642 Q172.002 761.536 167.997 761.536 Q166.122 761.536 164.247 761.952 Q162.396 762.369 160.451 763.249 L160.451 745.888 Z\" fill=\"#000000\" fill-rule=\"evenodd\" fill-opacity=\"1\" /><path clip-path=\"url(#clip290)\" d=\"M118.206 558.794 L134.525 558.794 L134.525 562.729 L112.581 562.729 L112.581 558.794 Q115.243 556.04 119.826 551.41 Q124.433 546.757 125.613 545.415 Q127.859 542.891 128.738 541.155 Q129.641 539.396 129.641 537.706 Q129.641 534.952 127.697 533.216 Q125.775 531.479 122.674 531.479 Q120.474 531.479 118.021 532.243 Q115.59 533.007 112.812 534.558 L112.812 529.836 Q115.637 528.702 118.09 528.123 Q120.544 527.544 122.581 527.544 Q127.951 527.544 131.146 530.229 Q134.34 532.915 134.34 537.405 Q134.34 539.535 133.53 541.456 Q132.743 543.354 130.636 545.947 Q130.058 546.618 126.956 549.836 Q123.854 553.03 118.206 558.794 Z\" fill=\"#000000\" fill-rule=\"evenodd\" fill-opacity=\"1\" /><path clip-path=\"url(#clip290)\" d=\"M144.34 556.85 L149.224 556.85 L149.224 562.729 L144.34 562.729 L144.34 556.85 Z\" fill=\"#000000\" fill-rule=\"evenodd\" fill-opacity=\"1\" /><path clip-path=\"url(#clip290)\" d=\"M169.409 531.248 Q165.798 531.248 163.97 534.813 Q162.164 538.354 162.164 545.484 Q162.164 552.59 163.97 556.155 Q165.798 559.697 169.409 559.697 Q173.044 559.697 174.849 556.155 Q176.678 552.59 176.678 545.484 Q176.678 538.354 174.849 534.813 Q173.044 531.248 169.409 531.248 M169.409 527.544 Q175.22 527.544 178.275 532.151 Q181.354 536.734 181.354 545.484 Q181.354 554.211 178.275 558.817 Q175.22 563.401 169.409 563.401 Q163.599 563.401 160.521 558.817 Q157.465 554.211 157.465 545.484 Q157.465 536.734 160.521 532.151 Q163.599 527.544 169.409 527.544 Z\" fill=\"#000000\" fill-rule=\"evenodd\" fill-opacity=\"1\" /><path clip-path=\"url(#clip290)\" d=\"M119.201 341.076 L135.521 341.076 L135.521 345.011 L113.576 345.011 L113.576 341.076 Q116.238 338.321 120.822 333.692 Q125.428 329.039 126.609 327.696 Q128.854 325.173 129.734 323.437 Q130.636 321.678 130.636 319.988 Q130.636 317.233 128.692 315.497 Q126.771 313.761 123.669 313.761 Q121.47 313.761 119.016 314.525 Q116.586 315.289 113.808 316.84 L113.808 312.118 Q116.632 310.983 119.086 310.405 Q121.539 309.826 123.576 309.826 Q128.947 309.826 132.141 312.511 Q135.335 315.196 135.335 319.687 Q135.335 321.817 134.525 323.738 Q133.738 325.636 131.632 328.229 Q131.053 328.9 127.951 332.118 Q124.849 335.312 119.201 341.076 Z\" fill=\"#000000\" fill-rule=\"evenodd\" fill-opacity=\"1\" /><path clip-path=\"url(#clip290)\" d=\"M145.335 339.131 L150.22 339.131 L150.22 345.011 L145.335 345.011 L145.335 339.131 Z\" fill=\"#000000\" fill-rule=\"evenodd\" fill-opacity=\"1\" /><path clip-path=\"url(#clip290)\" d=\"M160.451 310.451 L178.807 310.451 L178.807 314.386 L164.733 314.386 L164.733 322.858 Q165.752 322.511 166.77 322.349 Q167.789 322.164 168.808 322.164 Q174.595 322.164 177.974 325.335 Q181.354 328.506 181.354 333.923 Q181.354 339.502 177.882 342.604 Q174.409 345.682 168.09 345.682 Q165.914 345.682 163.646 345.312 Q161.4 344.942 158.993 344.201 L158.993 339.502 Q161.076 340.636 163.298 341.192 Q165.521 341.747 167.997 341.747 Q172.002 341.747 174.34 339.641 Q176.678 337.534 176.678 333.923 Q176.678 330.312 174.34 328.206 Q172.002 326.099 167.997 326.099 Q166.122 326.099 164.247 326.516 Q162.396 326.932 160.451 327.812 L160.451 310.451 Z\" fill=\"#000000\" fill-rule=\"evenodd\" fill-opacity=\"1\" /><path clip-path=\"url(#clip290)\" d=\"M128.345 108.659 Q131.701 109.376 133.576 111.645 Q135.474 113.913 135.474 117.246 Q135.474 122.362 131.956 125.163 Q128.437 127.964 121.956 127.964 Q119.78 127.964 117.465 127.524 Q115.174 127.107 112.72 126.251 L112.72 121.737 Q114.664 122.871 116.979 123.45 Q119.294 124.029 121.817 124.029 Q126.215 124.029 128.507 122.293 Q130.822 120.557 130.822 117.246 Q130.822 114.191 128.669 112.478 Q126.539 110.742 122.72 110.742 L118.692 110.742 L118.692 106.899 L122.905 106.899 Q126.354 106.899 128.183 105.534 Q130.011 104.145 130.011 101.552 Q130.011 98.89 128.113 97.478 Q126.238 96.0428 122.72 96.0428 Q120.799 96.0428 118.599 96.4595 Q116.4 96.8762 113.762 97.7558 L113.762 93.5892 Q116.424 92.8484 118.738 92.478 Q121.076 92.1077 123.136 92.1077 Q128.461 92.1077 131.562 94.5382 Q134.664 96.9456 134.664 101.066 Q134.664 103.936 133.021 105.927 Q131.377 107.895 128.345 108.659 Z\" fill=\"#000000\" fill-rule=\"evenodd\" fill-opacity=\"1\" /><path clip-path=\"url(#clip290)\" d=\"M144.34 121.413 L149.224 121.413 L149.224 127.293 L144.34 127.293 L144.34 121.413 Z\" fill=\"#000000\" fill-rule=\"evenodd\" fill-opacity=\"1\" /><path clip-path=\"url(#clip290)\" d=\"M169.409 95.8114 Q165.798 95.8114 163.97 99.3762 Q162.164 102.918 162.164 110.047 Q162.164 117.154 163.97 120.719 Q165.798 124.26 169.409 124.26 Q173.044 124.26 174.849 120.719 Q176.678 117.154 176.678 110.047 Q176.678 102.918 174.849 99.3762 Q173.044 95.8114 169.409 95.8114 M169.409 92.1077 Q175.22 92.1077 178.275 96.7141 Q181.354 101.297 181.354 110.047 Q181.354 118.774 178.275 123.381 Q175.22 127.964 169.409 127.964 Q163.599 127.964 160.521 123.381 Q157.465 118.774 157.465 110.047 Q157.465 101.297 160.521 96.7141 Q163.599 92.1077 169.409 92.1077 Z\" fill=\"#000000\" fill-rule=\"evenodd\" fill-opacity=\"1\" /><path clip-path=\"url(#clip290)\" d=\"M34.6456 730.547 L40.1202 730.547 Q38.7515 733.029 38.0831 735.544 Q37.3829 738.026 37.3829 740.573 Q37.3829 746.27 41.0114 749.421 Q44.608 752.572 51.1328 752.572 Q57.6577 752.572 61.2861 749.421 Q64.8828 746.27 64.8828 740.573 Q64.8828 738.026 64.2144 735.544 Q63.5141 733.029 62.1455 730.547 L67.5563 730.547 Q68.7022 732.997 69.2751 735.639 Q69.848 738.249 69.848 741.209 Q69.848 749.262 64.7873 754.004 Q59.7265 758.747 51.1328 758.747 Q42.4118 758.747 37.4147 753.972 Q32.4176 749.166 32.4176 740.827 Q32.4176 738.122 32.9906 735.544 Q33.5316 732.966 34.6456 730.547 Z\" fill=\"#000000\" fill-rule=\"evenodd\" fill-opacity=\"1\" /><path clip-path=\"url(#clip290)\" d=\"M38.7515 699.705 Q38.1786 700.692 37.924 701.869 Q37.6375 703.015 37.6375 704.415 Q37.6375 709.381 40.884 712.054 Q44.0987 714.696 50.1461 714.696 L68.925 714.696 L68.925 720.584 L33.277 720.584 L33.277 714.696 L38.8152 714.696 Q35.5687 712.85 34.0091 709.89 Q32.4176 706.93 32.4176 702.697 Q32.4176 702.092 32.5131 701.36 Q32.5768 700.628 32.7359 699.737 L38.7515 699.705 Z\" fill=\"#000000\" fill-rule=\"evenodd\" fill-opacity=\"1\" /><path clip-path=\"url(#clip290)\" d=\"M37.3829 681.181 Q37.3829 685.891 41.075 688.629 Q44.7353 691.366 51.1328 691.366 Q57.5304 691.366 61.2225 688.66 Q64.8828 685.923 64.8828 681.181 Q64.8828 676.502 61.1906 673.765 Q57.4985 671.027 51.1328 671.027 Q44.7989 671.027 41.1068 673.765 Q37.3829 676.502 37.3829 681.181 M32.4176 681.181 Q32.4176 673.542 37.3829 669.181 Q42.3481 664.821 51.1328 664.821 Q59.8857 664.821 64.8828 669.181 Q69.848 673.542 69.848 681.181 Q69.848 688.851 64.8828 693.212 Q59.8857 697.54 51.1328 697.54 Q42.3481 697.54 37.3829 693.212 Q32.4176 688.851 32.4176 681.181 Z\" fill=\"#000000\" fill-rule=\"evenodd\" fill-opacity=\"1\" /><path clip-path=\"url(#clip290)\" d=\"M34.3274 632.387 L39.8655 632.387 Q38.5924 634.87 37.9558 637.544 Q37.3192 640.217 37.3192 643.082 Q37.3192 647.442 38.656 649.639 Q39.9928 651.803 42.6664 651.803 Q44.7035 651.803 45.8811 650.243 Q47.0269 648.684 48.0773 643.973 L48.5229 641.968 Q49.8597 635.729 52.3105 633.12 Q54.7294 630.478 59.09 630.478 Q64.0552 630.478 66.9516 634.425 Q69.848 638.339 69.848 645.214 Q69.848 648.079 69.2751 651.198 Q68.734 654.286 67.62 657.723 L61.5726 657.723 Q63.2595 654.476 64.1189 651.325 Q64.9464 648.174 64.9464 645.087 Q64.9464 640.949 63.546 638.721 Q62.1137 636.493 59.5356 636.493 Q57.1484 636.493 55.8753 638.117 Q54.6021 639.708 53.4245 645.151 L52.9471 647.188 Q51.8012 652.63 49.4459 655.049 Q47.0588 657.468 42.9211 657.468 Q37.8922 657.468 35.1549 653.904 Q32.4176 650.339 32.4176 643.782 Q32.4176 640.536 32.8951 637.671 Q33.3725 634.806 34.3274 632.387 Z\" fill=\"#000000\" fill-rule=\"evenodd\" fill-opacity=\"1\" /><path clip-path=\"url(#clip290)\" d=\"M34.3274 598.426 L39.8655 598.426 Q38.5924 600.909 37.9558 603.583 Q37.3192 606.256 37.3192 609.121 Q37.3192 613.481 38.656 615.678 Q39.9928 617.842 42.6664 617.842 Q44.7035 617.842 45.8811 616.282 Q47.0269 614.723 48.0773 610.012 L48.5229 608.007 Q49.8597 601.768 52.3105 599.159 Q54.7294 596.517 59.09 596.517 Q64.0552 596.517 66.9516 600.463 Q69.848 604.378 69.848 611.253 Q69.848 614.118 69.2751 617.237 Q68.734 620.324 67.62 623.762 L61.5726 623.762 Q63.2595 620.515 64.1189 617.364 Q64.9464 614.213 64.9464 611.126 Q64.9464 606.988 63.546 604.76 Q62.1137 602.532 59.5356 602.532 Q57.1484 602.532 55.8753 604.156 Q54.6021 605.747 53.4245 611.19 L52.9471 613.227 Q51.8012 618.669 49.4459 621.088 Q47.0588 623.507 42.9211 623.507 Q37.8922 623.507 35.1549 619.943 Q32.4176 616.378 32.4176 609.821 Q32.4176 606.575 32.8951 603.71 Q33.3725 600.845 34.3274 598.426 Z\" fill=\"#000000\" fill-rule=\"evenodd\" fill-opacity=\"1\" /><path clip-path=\"url(#clip290)\" d=\"M49.6369 535.979 L52.5015 535.979 L52.5015 562.906 Q58.5489 562.524 61.7317 559.277 Q64.8828 555.999 64.8828 550.174 Q64.8828 546.801 64.0552 543.65 Q63.2277 540.467 61.5726 537.347 L67.1107 537.347 Q68.4475 540.499 69.1478 543.809 Q69.848 547.119 69.848 550.525 Q69.848 559.055 64.8828 564.052 Q59.9175 569.017 51.4511 569.017 Q42.6983 569.017 37.5739 564.306 Q32.4176 559.564 32.4176 551.543 Q32.4176 544.35 37.0646 540.18 Q41.6797 535.979 49.6369 535.979 M47.9181 541.835 Q43.112 541.899 40.2475 544.541 Q37.3829 547.151 37.3829 551.479 Q37.3829 556.381 40.152 559.341 Q42.9211 562.269 47.95 562.715 L47.9181 541.835 Z\" fill=\"#000000\" fill-rule=\"evenodd\" fill-opacity=\"1\" /><path clip-path=\"url(#clip290)\" d=\"M47.4089 496.734 L68.925 496.734 L68.925 502.591 L47.5999 502.591 Q42.5391 502.591 40.0247 504.564 Q37.5102 506.537 37.5102 510.484 Q37.5102 515.227 40.5339 517.964 Q43.5576 520.701 48.7775 520.701 L68.925 520.701 L68.925 526.589 L33.277 526.589 L33.277 520.701 L38.8152 520.701 Q35.6005 518.6 34.0091 515.768 Q32.4176 512.903 32.4176 509.179 Q32.4176 503.036 36.2371 499.885 Q40.0247 496.734 47.4089 496.734 Z\" fill=\"#000000\" fill-rule=\"evenodd\" fill-opacity=\"1\" /><path clip-path=\"url(#clip290)\" d=\"M23.1555 479.26 L33.277 479.26 L33.277 467.197 L37.8285 467.197 L37.8285 479.26 L57.1802 479.26 Q61.5408 479.26 62.7821 478.083 Q64.0234 476.873 64.0234 473.213 L64.0234 467.197 L68.925 467.197 L68.925 473.213 Q68.925 479.992 66.4105 482.571 Q63.8642 485.149 57.1802 485.149 L37.8285 485.149 L37.8285 489.446 L33.277 489.446 L33.277 485.149 L23.1555 485.149 L23.1555 479.26 Z\" fill=\"#000000\" fill-rule=\"evenodd\" fill-opacity=\"1\" /><path clip-path=\"url(#clip290)\" d=\"M38.7515 438.838 Q38.1786 439.825 37.924 441.003 Q37.6375 442.148 37.6375 443.549 Q37.6375 448.514 40.884 451.188 Q44.0987 453.829 50.1461 453.829 L68.925 453.829 L68.925 459.718 L33.277 459.718 L33.277 453.829 L38.8152 453.829 Q35.5687 451.983 34.0091 449.023 Q32.4176 446.063 32.4176 441.83 Q32.4176 441.225 32.5131 440.493 Q32.5768 439.761 32.7359 438.87 L38.7515 438.838 Z\" fill=\"#000000\" fill-rule=\"evenodd\" fill-opacity=\"1\" /><path clip-path=\"url(#clip290)\" d=\"M37.3829 420.314 Q37.3829 425.025 41.075 427.762 Q44.7353 430.499 51.1328 430.499 Q57.5304 430.499 61.2225 427.794 Q64.8828 425.056 64.8828 420.314 Q64.8828 415.635 61.1906 412.898 Q57.4985 410.161 51.1328 410.161 Q44.7989 410.161 41.1068 412.898 Q37.3829 415.635 37.3829 420.314 M32.4176 420.314 Q32.4176 412.675 37.3829 408.315 Q42.3481 403.954 51.1328 403.954 Q59.8857 403.954 64.8828 408.315 Q69.848 412.675 69.848 420.314 Q69.848 427.985 64.8828 432.345 Q59.8857 436.674 51.1328 436.674 Q42.3481 436.674 37.3829 432.345 Q32.4176 427.985 32.4176 420.314 Z\" fill=\"#000000\" fill-rule=\"evenodd\" fill-opacity=\"1\" /><path clip-path=\"url(#clip290)\" d=\"M63.5778 388.581 L82.4839 388.581 L82.4839 394.469 L33.277 394.469 L33.277 388.581 L38.6879 388.581 Q35.505 386.735 33.9772 383.934 Q32.4176 381.101 32.4176 377.186 Q32.4176 370.693 37.5739 366.651 Q42.7301 362.577 51.1328 362.577 Q59.5356 362.577 64.6918 366.651 Q69.848 370.693 69.848 377.186 Q69.848 381.101 68.3202 383.934 Q66.7606 386.735 63.5778 388.581 M51.1328 368.656 Q44.6716 368.656 41.0114 371.33 Q37.3192 373.972 37.3192 378.619 Q37.3192 383.266 41.0114 385.939 Q44.6716 388.581 51.1328 388.581 Q57.594 388.581 61.2861 385.939 Q64.9464 383.266 64.9464 378.619 Q64.9464 373.972 61.2861 371.33 Q57.594 368.656 51.1328 368.656 Z\" fill=\"#000000\" fill-rule=\"evenodd\" fill-opacity=\"1\" /><path clip-path=\"url(#clip290)\" d=\"M72.2351 338.037 Q78.6008 340.52 80.5424 342.875 Q82.4839 345.23 82.4839 349.177 L82.4839 353.856 L77.5823 353.856 L77.5823 350.419 Q77.5823 348 76.4365 346.663 Q75.2907 345.326 71.0257 343.703 L68.3521 342.652 L33.277 357.071 L33.277 350.864 L61.1588 339.724 L33.277 328.584 L33.277 322.378 L72.2351 338.037 Z\" fill=\"#000000\" fill-rule=\"evenodd\" fill-opacity=\"1\" /><polyline clip-path=\"url(#clip292)\" style=\"stroke:#009af9; stroke-linecap:butt; stroke-linejoin:round; stroke-width:4; stroke-opacity:1; fill:none\" points=\"\n",
       "  258.924,179.776 285.685,332.225 312.446,472.281 339.207,338.382 365.968,460.26 392.729,730.256 419.49,583.062 446.251,713.383 473.012,853.934 526.534,598.032 \n",
       "  553.295,592.955 580.056,858.9 633.578,843.618 687.1,991.531 713.861,736.369 767.383,877.944 820.905,845.79 874.428,850.186 954.711,743.051 1008.23,865.75 \n",
       "  1088.52,738.429 1168.8,738.262 1249.08,852.503 1329.37,856.019 1436.41,861.457 1516.69,858.036 1623.74,871.871 1730.78,862.178 1864.59,979.502 \n",
       "  \"/>\n",
       "<polyline clip-path=\"url(#clip292)\" style=\"stroke:#e26f46; stroke-linecap:butt; stroke-linejoin:round; stroke-width:4; stroke-opacity:1; fill:none\" points=\"\n",
       "  258.924,473.17 285.685,75.1678 312.446,185.85 339.207,595.711 365.968,455.424 392.729,324.553 419.49,859.898 446.251,606.878 473.012,855.013 526.534,583.333 \n",
       "  553.295,573.986 580.056,876.666 633.578,736.275 687.1,716.964 713.861,870.949 767.383,721.411 820.905,978.71 874.428,871.363 954.711,860.465 1008.23,993.242 \n",
       "  1088.52,740.262 1168.8,728.505 1249.08,977.268 1329.37,980.815 1436.41,974.74 1516.69,742.982 1623.74,857.099 1730.78,744.451 1864.59,856.21 \n",
       "  \"/>\n",
       "<polyline clip-path=\"url(#clip292)\" style=\"stroke:#3da44d; stroke-linecap:butt; stroke-linejoin:round; stroke-width:4; stroke-opacity:1; fill:none\" points=\"\n",
       "  258.924,576.538 285.685,601.362 312.446,346.498 339.207,468.159 365.968,721.776 392.729,565.927 419.49,718.1 446.251,697.053 473.012,862.433 526.534,875.733 \n",
       "  553.295,862.246 580.056,624.425 633.578,740.436 687.1,980.09 713.861,728.023 767.383,1005.15 820.905,738.758 874.428,610.401 954.711,728.879 1008.23,727.699 \n",
       "  1088.52,865.412 1168.8,735.384 1249.08,865.622 1329.37,736.217 1436.41,737.599 1516.69,874.609 1623.74,1005.96 1730.78,850.448 1864.59,1004.86 \n",
       "  \"/>\n",
       "<polyline clip-path=\"url(#clip292)\" style=\"stroke:#c271d2; stroke-linecap:butt; stroke-linejoin:round; stroke-width:4; stroke-opacity:1; fill:none\" points=\"\n",
       "  258.924,168.625 285.685,606.435 312.446,594.077 339.207,602.925 365.968,751.974 392.729,342.564 419.49,725.732 446.251,584.955 473.012,736.678 526.534,599.931 \n",
       "  553.295,613.354 580.056,732.532 633.578,726.828 687.1,884.458 713.861,732.503 767.383,874.301 820.905,997.756 874.428,597.642 954.711,602.132 1008.23,729.58 \n",
       "  1088.52,863.286 1168.8,855.287 1249.08,859.088 1329.37,611.14 1436.41,868.212 1516.69,992.633 1623.74,867.823 1730.78,861.808 1864.59,981.489 \n",
       "  \"/>\n",
       "<path clip-path=\"url(#clip290)\" d=\"\n",
       "M1612.77 339.332 L1856.02 339.332 L1856.02 80.132 L1612.77 80.132  Z\n",
       "  \" fill=\"#ffffff\" fill-rule=\"evenodd\" fill-opacity=\"1\"/>\n",
       "<polyline clip-path=\"url(#clip290)\" style=\"stroke:#000000; stroke-linecap:butt; stroke-linejoin:round; stroke-width:4; stroke-opacity:1; fill:none\" points=\"\n",
       "  1612.77,339.332 1856.02,339.332 1856.02,80.132 1612.77,80.132 1612.77,339.332 \n",
       "  \"/>\n",
       "<polyline clip-path=\"url(#clip290)\" style=\"stroke:#009af9; stroke-linecap:butt; stroke-linejoin:round; stroke-width:4; stroke-opacity:1; fill:none\" points=\"\n",
       "  1631.68,131.972 1745.15,131.972 \n",
       "  \"/>\n",
       "<path clip-path=\"url(#clip290)\" d=\"M1777.9 151.659 Q1776.09 156.289 1774.38 157.701 Q1772.67 159.113 1769.8 159.113 L1766.39 159.113 L1766.39 155.548 L1768.89 155.548 Q1770.65 155.548 1771.63 154.715 Q1772.6 153.882 1773.78 150.78 L1774.54 148.835 L1764.06 123.326 L1768.57 123.326 L1776.67 143.604 L1784.77 123.326 L1789.29 123.326 L1777.9 151.659 Z\" fill=\"#000000\" fill-rule=\"evenodd\" fill-opacity=\"1\" /><path clip-path=\"url(#clip290)\" d=\"M1796.58 145.317 L1804.22 145.317 L1804.22 118.951 L1795.91 120.618 L1795.91 116.359 L1804.17 114.692 L1808.85 114.692 L1808.85 145.317 L1816.49 145.317 L1816.49 149.252 L1796.58 149.252 L1796.58 145.317 Z\" fill=\"#000000\" fill-rule=\"evenodd\" fill-opacity=\"1\" /><polyline clip-path=\"url(#clip290)\" style=\"stroke:#e26f46; stroke-linecap:butt; stroke-linejoin:round; stroke-width:4; stroke-opacity:1; fill:none\" points=\"\n",
       "  1631.68,183.812 1745.15,183.812 \n",
       "  \"/>\n",
       "<path clip-path=\"url(#clip290)\" d=\"M1777.9 203.499 Q1776.09 208.129 1774.38 209.541 Q1772.67 210.953 1769.8 210.953 L1766.39 210.953 L1766.39 207.388 L1768.89 207.388 Q1770.65 207.388 1771.63 206.555 Q1772.6 205.722 1773.78 202.62 L1774.54 200.675 L1764.06 175.166 L1768.57 175.166 L1776.67 195.444 L1784.77 175.166 L1789.29 175.166 L1777.9 203.499 Z\" fill=\"#000000\" fill-rule=\"evenodd\" fill-opacity=\"1\" /><path clip-path=\"url(#clip290)\" d=\"M1799.8 197.157 L1816.12 197.157 L1816.12 201.092 L1794.17 201.092 L1794.17 197.157 Q1796.83 194.402 1801.42 189.773 Q1806.02 185.12 1807.2 183.777 Q1809.45 181.254 1810.33 179.518 Q1811.23 177.759 1811.23 176.069 Q1811.23 173.314 1809.29 171.578 Q1807.37 169.842 1804.27 169.842 Q1802.07 169.842 1799.61 170.606 Q1797.18 171.37 1794.4 172.921 L1794.4 168.199 Q1797.23 167.064 1799.68 166.486 Q1802.14 165.907 1804.17 165.907 Q1809.54 165.907 1812.74 168.592 Q1815.93 171.277 1815.93 175.768 Q1815.93 177.898 1815.12 179.819 Q1814.33 181.717 1812.23 184.31 Q1811.65 184.981 1808.55 188.199 Q1805.45 191.393 1799.8 197.157 Z\" fill=\"#000000\" fill-rule=\"evenodd\" fill-opacity=\"1\" /><polyline clip-path=\"url(#clip290)\" style=\"stroke:#3da44d; stroke-linecap:butt; stroke-linejoin:round; stroke-width:4; stroke-opacity:1; fill:none\" points=\"\n",
       "  1631.68,235.652 1745.15,235.652 \n",
       "  \"/>\n",
       "<path clip-path=\"url(#clip290)\" d=\"M1777.9 255.339 Q1776.09 259.969 1774.38 261.381 Q1772.67 262.793 1769.8 262.793 L1766.39 262.793 L1766.39 259.228 L1768.89 259.228 Q1770.65 259.228 1771.63 258.395 Q1772.6 257.562 1773.78 254.46 L1774.54 252.515 L1764.06 227.006 L1768.57 227.006 L1776.67 247.284 L1784.77 227.006 L1789.29 227.006 L1777.9 255.339 Z\" fill=\"#000000\" fill-rule=\"evenodd\" fill-opacity=\"1\" /><path clip-path=\"url(#clip290)\" d=\"M1809.94 234.298 Q1813.29 235.015 1815.17 237.284 Q1817.07 239.552 1817.07 242.886 Q1817.07 248.001 1813.55 250.802 Q1810.03 253.603 1803.55 253.603 Q1801.37 253.603 1799.06 253.163 Q1796.77 252.747 1794.31 251.89 L1794.31 247.376 Q1796.26 248.511 1798.57 249.089 Q1800.89 249.668 1803.41 249.668 Q1807.81 249.668 1810.1 247.932 Q1812.41 246.196 1812.41 242.886 Q1812.41 239.83 1810.26 238.117 Q1808.13 236.381 1804.31 236.381 L1800.28 236.381 L1800.28 232.539 L1804.5 232.539 Q1807.95 232.539 1809.77 231.173 Q1811.6 229.784 1811.6 227.191 Q1811.6 224.529 1809.7 223.117 Q1807.83 221.682 1804.31 221.682 Q1802.39 221.682 1800.19 222.099 Q1797.99 222.515 1795.35 223.395 L1795.35 219.228 Q1798.02 218.488 1800.33 218.117 Q1802.67 217.747 1804.73 217.747 Q1810.05 217.747 1813.15 220.178 Q1816.26 222.585 1816.26 226.705 Q1816.26 229.576 1814.61 231.566 Q1812.97 233.534 1809.94 234.298 Z\" fill=\"#000000\" fill-rule=\"evenodd\" fill-opacity=\"1\" /><polyline clip-path=\"url(#clip290)\" style=\"stroke:#c271d2; stroke-linecap:butt; stroke-linejoin:round; stroke-width:4; stroke-opacity:1; fill:none\" points=\"\n",
       "  1631.68,287.492 1745.15,287.492 \n",
       "  \"/>\n",
       "<path clip-path=\"url(#clip290)\" d=\"M1777.9 307.179 Q1776.09 311.809 1774.38 313.221 Q1772.67 314.633 1769.8 314.633 L1766.39 314.633 L1766.39 311.068 L1768.89 311.068 Q1770.65 311.068 1771.63 310.235 Q1772.6 309.402 1773.78 306.3 L1774.54 304.355 L1764.06 278.846 L1768.57 278.846 L1776.67 299.124 L1784.77 278.846 L1789.29 278.846 L1777.9 307.179 Z\" fill=\"#000000\" fill-rule=\"evenodd\" fill-opacity=\"1\" /><path clip-path=\"url(#clip290)\" d=\"M1808.62 274.286 L1796.81 292.735 L1808.62 292.735 L1808.62 274.286 M1807.39 270.212 L1813.27 270.212 L1813.27 292.735 L1818.2 292.735 L1818.2 296.624 L1813.27 296.624 L1813.27 304.772 L1808.62 304.772 L1808.62 296.624 L1793.02 296.624 L1793.02 292.11 L1807.39 270.212 Z\" fill=\"#000000\" fill-rule=\"evenodd\" fill-opacity=\"1\" /></svg>\n"
      ]
     },
     "execution_count": 178,
     "metadata": {},
     "output_type": "execute_result"
    }
   ],
   "source": [
    "plt = plot()\n",
    "for i in 1:4\n",
    "    one_curve = learning_curve(mach,\n",
    "                           range=r,\n",
    "                           resampling=Holdout(),\n",
    "                           measure=cross_entropy)\n",
    "    plot!(one_curve.parameter_values, one_curve.measurements)\n",
    "end\n",
    "xlabel!(plt, \"n_trees\")\n",
    "ylabel!(plt, \"cross entropy\")\n",
    "savefig(\"exercise_6ci.png\")\n",
    "plt"
   ]
  },
  {
   "cell_type": "markdown",
   "metadata": {},
   "source": [
    "6(c)(ii)"
   ]
  },
  {
   "cell_type": "code",
   "execution_count": 179,
   "metadata": {},
   "outputs": [
    {
     "name": "stderr",
     "output_type": "stream",
     "text": [
      "┌ Info: Creating subsamples from a subset of all rows. \n",
      "└ @ MLJBase /Users/anthony/.julia/packages/MLJBase/HZmTU/src/resampling.jl:495\n",
      "\u001b[33mEvaluating over 9 folds: 100%[=========================] Time: 0:00:00\u001b[39m\n"
     ]
    },
    {
     "data": {
      "text/plain": [
       "90"
      ]
     },
     "execution_count": 179,
     "metadata": {},
     "output_type": "execute_result"
    }
   ],
   "source": [
    "evaluate!(mach, resampling=CV(nfolds=9),\n",
    "                measure=cross_entropy,\n",
    "                rows=train).measurement[1]\n",
    "\n",
    "model.n_trees = 90"
   ]
  },
  {
   "cell_type": "markdown",
   "metadata": {},
   "source": [
    "6(c)(iii)"
   ]
  },
  {
   "cell_type": "code",
   "execution_count": 180,
   "metadata": {},
   "outputs": [
    {
     "data": {
      "text/plain": [
       "0.6868562419362649"
      ]
     },
     "execution_count": 180,
     "metadata": {},
     "output_type": "execute_result"
    }
   ],
   "source": [
    "err_forest = evaluate!(mach, resampling=Holdout(),\n",
    "                       measure=cross_entropy).measurement[1]"
   ]
  },
  {
   "cell_type": "markdown",
   "metadata": {},
   "source": [
    "#### Exercise 7"
   ]
  },
  {
   "cell_type": "markdown",
   "metadata": {},
   "source": [
    "(a)"
   ]
  },
  {
   "cell_type": "code",
   "execution_count": 181,
   "metadata": {},
   "outputs": [
    {
     "name": "stdout",
     "output_type": "stream",
     "text": [
      "import MLJClusteringInterface ✔\n",
      "import EvoTrees ✔\n"
     ]
    },
    {
     "name": "stderr",
     "output_type": "stream",
     "text": [
      "┌ Info: For silent loading, specify `verbosity=0`. \n",
      "└ @ Main /Users/anthony/.julia/packages/MLJModels/4sRmw/src/loading.jl:168\n",
      "┌ Info: For silent loading, specify `verbosity=0`. \n",
      "└ @ Main /Users/anthony/.julia/packages/MLJModels/4sRmw/src/loading.jl:168\n"
     ]
    },
    {
     "data": {
      "text/plain": [
       "Pipeline371(\n",
       "    standardizer = Standardizer(\n",
       "            features = Symbol[],\n",
       "            ignore = false,\n",
       "            ordered_factor = false,\n",
       "            count = false),\n",
       "    continuous_encoder = ContinuousEncoder(\n",
       "            drop_last = false,\n",
       "            one_hot_ordered_factors = false),\n",
       "    k_means = KMeans(\n",
       "            k = 10,\n",
       "            metric = Distances.SqEuclidean(0.0)),\n",
       "    evo_tree_classifier = EvoTreeClassifier(\n",
       "            loss = EvoTrees.Softmax(),\n",
       "            nrounds = 50,\n",
       "            λ = 0.0,\n",
       "            γ = 0.0,\n",
       "            η = 0.1,\n",
       "            max_depth = 5,\n",
       "            min_weight = 1.0,\n",
       "            rowsample = 1.0,\n",
       "            colsample = 1.0,\n",
       "            nbins = 64,\n",
       "            α = 0.5,\n",
       "            metric = :mlogloss,\n",
       "            rng = MersenneTwister(123),\n",
       "            device = \"cpu\"))"
      ]
     },
     "execution_count": 181,
     "metadata": {},
     "output_type": "execute_result"
    }
   ],
   "source": [
    "KMeans = @load KMeans pkg=Clustering\n",
    "EvoTreeClassifier = @load EvoTreeClassifier\n",
    "pipe = @pipeline(Standardizer,\n",
    "                 ContinuousEncoder,\n",
    "                 KMeans(k=10),\n",
    "                 EvoTreeClassifier(nrounds=50))"
   ]
  },
  {
   "cell_type": "markdown",
   "metadata": {},
   "source": [
    "(b)"
   ]
  },
  {
   "cell_type": "code",
   "execution_count": 182,
   "metadata": {},
   "outputs": [
    {
     "name": "stderr",
     "output_type": "stream",
     "text": [
      "\u001b[33mEvaluating over 6 folds: 100%[=========================] Time: 0:00:28\u001b[39m\n"
     ]
    },
    {
     "data": {
      "text/plain": [
       "PerformanceEvaluation object with these fields:\n",
       "  measure, measurement, operation, per_fold,\n",
       "  per_observation, fitted_params_per_fold,\n",
       "  report_per_fold, train_test_pairs\n",
       "Extract:\n",
       "┌────────────────────────────┬─────────────┬───────────┬────────────────────────\n",
       "│\u001b[22m measure                    \u001b[0m│\u001b[22m measurement \u001b[0m│\u001b[22m operation \u001b[0m│\u001b[22m per_fold             \u001b[0m ⋯\n",
       "├────────────────────────────┼─────────────┼───────────┼────────────────────────\n",
       "│ LogLoss(tol = 2.22045e-16) │ 0.783       │ predict   │ [0.757, 0.862, 0.76,  ⋯\n",
       "└────────────────────────────┴─────────────┴───────────┴────────────────────────\n",
       "\u001b[36m                                                                1 column omitted\u001b[0m\n"
      ]
     },
     "execution_count": 182,
     "metadata": {},
     "output_type": "execute_result"
    }
   ],
   "source": [
    "mach = machine(pipe, X, y)\n",
    "evaluate!(mach, resampling=CV(nfolds=6), measure=cross_entropy)"
   ]
  },
  {
   "cell_type": "markdown",
   "metadata": {},
   "source": [
    "(c)"
   ]
  },
  {
   "cell_type": "code",
   "execution_count": 183,
   "metadata": {},
   "outputs": [
    {
     "name": "stderr",
     "output_type": "stream",
     "text": [
      "┌ Info: Training Machine{ProbabilisticTunedModel{Grid,…},…}.\n",
      "└ @ MLJBase /Users/anthony/.julia/packages/MLJBase/HZmTU/src/machines.jl:403\n",
      "┌ Info: Attempting to evaluate 10 models.\n",
      "└ @ MLJTuning /Users/anthony/.julia/packages/MLJTuning/efiDR/src/tuned_models.jl:685\n",
      "\u001b[33mEvaluating over 10 metamodels: 100%[=========================] Time: 0:00:13\u001b[39m\n"
     ]
    },
    {
     "data": {
      "image/svg+xml": [
       "<?xml version=\"1.0\" encoding=\"utf-8\"?>\n",
       "<svg xmlns=\"http://www.w3.org/2000/svg\" xmlns:xlink=\"http://www.w3.org/1999/xlink\" width=\"490\" height=\"300\" viewBox=\"0 0 1960 1200\">\n",
       "<defs>\n",
       "  <clipPath id=\"clip340\">\n",
       "    <rect x=\"0\" y=\"0\" width=\"1960\" height=\"1200\"/>\n",
       "  </clipPath>\n",
       "</defs>\n",
       "<path clip-path=\"url(#clip340)\" d=\"\n",
       "M0 1200 L1960 1200 L1960 0 L0 0  Z\n",
       "  \" fill=\"#ffffff\" fill-rule=\"evenodd\" fill-opacity=\"1\"/>\n",
       "<defs>\n",
       "  <clipPath id=\"clip341\">\n",
       "    <rect x=\"392\" y=\"0\" width=\"1373\" height=\"1200\"/>\n",
       "  </clipPath>\n",
       "</defs>\n",
       "<path clip-path=\"url(#clip340)\" d=\"\n",
       "M241.263 1033.88 L1912.76 1033.88 L1912.76 47.2441 L241.263 47.2441  Z\n",
       "  \" fill=\"#ffffff\" fill-rule=\"evenodd\" fill-opacity=\"1\"/>\n",
       "<defs>\n",
       "  <clipPath id=\"clip342\">\n",
       "    <rect x=\"241\" y=\"47\" width=\"1672\" height=\"988\"/>\n",
       "  </clipPath>\n",
       "</defs>\n",
       "<polyline clip-path=\"url(#clip342)\" style=\"stroke:#000000; stroke-linecap:butt; stroke-linejoin:round; stroke-width:2; stroke-opacity:0.1; fill:none\" points=\"\n",
       "  463.778,1033.88 463.778,47.2441 \n",
       "  \"/>\n",
       "<polyline clip-path=\"url(#clip342)\" style=\"stroke:#000000; stroke-linecap:butt; stroke-linejoin:round; stroke-width:2; stroke-opacity:0.1; fill:none\" points=\"\n",
       "  814.196,1033.88 814.196,47.2441 \n",
       "  \"/>\n",
       "<polyline clip-path=\"url(#clip342)\" style=\"stroke:#000000; stroke-linecap:butt; stroke-linejoin:round; stroke-width:2; stroke-opacity:0.1; fill:none\" points=\"\n",
       "  1164.61,1033.88 1164.61,47.2441 \n",
       "  \"/>\n",
       "<polyline clip-path=\"url(#clip342)\" style=\"stroke:#000000; stroke-linecap:butt; stroke-linejoin:round; stroke-width:2; stroke-opacity:0.1; fill:none\" points=\"\n",
       "  1515.03,1033.88 1515.03,47.2441 \n",
       "  \"/>\n",
       "<polyline clip-path=\"url(#clip342)\" style=\"stroke:#000000; stroke-linecap:butt; stroke-linejoin:round; stroke-width:2; stroke-opacity:0.1; fill:none\" points=\"\n",
       "  1865.45,1033.88 1865.45,47.2441 \n",
       "  \"/>\n",
       "<polyline clip-path=\"url(#clip340)\" style=\"stroke:#000000; stroke-linecap:butt; stroke-linejoin:round; stroke-width:4; stroke-opacity:1; fill:none\" points=\"\n",
       "  241.263,1033.88 1912.76,1033.88 \n",
       "  \"/>\n",
       "<polyline clip-path=\"url(#clip340)\" style=\"stroke:#000000; stroke-linecap:butt; stroke-linejoin:round; stroke-width:4; stroke-opacity:1; fill:none\" points=\"\n",
       "  463.778,1033.88 463.778,1014.98 \n",
       "  \"/>\n",
       "<polyline clip-path=\"url(#clip340)\" style=\"stroke:#000000; stroke-linecap:butt; stroke-linejoin:round; stroke-width:4; stroke-opacity:1; fill:none\" points=\"\n",
       "  814.196,1033.88 814.196,1014.98 \n",
       "  \"/>\n",
       "<polyline clip-path=\"url(#clip340)\" style=\"stroke:#000000; stroke-linecap:butt; stroke-linejoin:round; stroke-width:4; stroke-opacity:1; fill:none\" points=\"\n",
       "  1164.61,1033.88 1164.61,1014.98 \n",
       "  \"/>\n",
       "<polyline clip-path=\"url(#clip340)\" style=\"stroke:#000000; stroke-linecap:butt; stroke-linejoin:round; stroke-width:4; stroke-opacity:1; fill:none\" points=\"\n",
       "  1515.03,1033.88 1515.03,1014.98 \n",
       "  \"/>\n",
       "<polyline clip-path=\"url(#clip340)\" style=\"stroke:#000000; stroke-linecap:butt; stroke-linejoin:round; stroke-width:4; stroke-opacity:1; fill:none\" points=\"\n",
       "  1865.45,1033.88 1865.45,1014.98 \n",
       "  \"/>\n",
       "<path clip-path=\"url(#clip340)\" d=\"M458.431 1088.83 L474.75 1088.83 L474.75 1092.76 L452.806 1092.76 L452.806 1088.83 Q455.468 1086.07 460.051 1081.44 Q464.658 1076.79 465.838 1075.45 Q468.084 1072.92 468.963 1071.19 Q469.866 1069.43 469.866 1067.74 Q469.866 1064.98 467.922 1063.25 Q466 1061.51 462.899 1061.51 Q460.699 1061.51 458.246 1062.27 Q455.815 1063.04 453.037 1064.59 L453.037 1059.87 Q455.862 1058.73 458.315 1058.15 Q460.769 1057.58 462.806 1057.58 Q468.176 1057.58 471.371 1060.26 Q474.565 1062.95 474.565 1067.44 Q474.565 1069.57 473.755 1071.49 Q472.968 1073.39 470.861 1075.98 Q470.283 1076.65 467.181 1079.87 Q464.079 1083.06 458.431 1088.83 Z\" fill=\"#000000\" fill-rule=\"evenodd\" fill-opacity=\"1\" /><path clip-path=\"url(#clip340)\" d=\"M817.205 1062.27 L805.4 1080.72 L817.205 1080.72 L817.205 1062.27 M815.978 1058.2 L821.858 1058.2 L821.858 1080.72 L826.789 1080.72 L826.789 1084.61 L821.858 1084.61 L821.858 1092.76 L817.205 1092.76 L817.205 1084.61 L801.603 1084.61 L801.603 1080.1 L815.978 1058.2 Z\" fill=\"#000000\" fill-rule=\"evenodd\" fill-opacity=\"1\" /><path clip-path=\"url(#clip340)\" d=\"M1165.02 1073.62 Q1161.87 1073.62 1160.02 1075.77 Q1158.19 1077.92 1158.19 1081.67 Q1158.19 1085.4 1160.02 1087.58 Q1161.87 1089.73 1165.02 1089.73 Q1168.17 1089.73 1170 1087.58 Q1171.85 1085.4 1171.85 1081.67 Q1171.85 1077.92 1170 1075.77 Q1168.17 1073.62 1165.02 1073.62 M1174.3 1058.96 L1174.3 1063.22 Q1172.54 1062.39 1170.74 1061.95 Q1168.95 1061.51 1167.19 1061.51 Q1162.57 1061.51 1160.11 1064.64 Q1157.68 1067.76 1157.33 1074.08 Q1158.7 1072.07 1160.76 1071 Q1162.82 1069.91 1165.3 1069.91 Q1170.51 1069.91 1173.51 1073.08 Q1176.55 1076.23 1176.55 1081.67 Q1176.55 1087 1173.4 1090.21 Q1170.25 1093.43 1165.02 1093.43 Q1159.02 1093.43 1155.85 1088.85 Q1152.68 1084.24 1152.68 1075.51 Q1152.68 1067.32 1156.57 1062.46 Q1160.46 1057.58 1167.01 1057.58 Q1168.77 1057.58 1170.55 1057.92 Q1172.36 1058.27 1174.3 1058.96 Z\" fill=\"#000000\" fill-rule=\"evenodd\" fill-opacity=\"1\" /><path clip-path=\"url(#clip340)\" d=\"M1515.03 1076.35 Q1511.7 1076.35 1509.78 1078.13 Q1507.88 1079.91 1507.88 1083.04 Q1507.88 1086.16 1509.78 1087.95 Q1511.7 1089.73 1515.03 1089.73 Q1518.36 1089.73 1520.29 1087.95 Q1522.21 1086.14 1522.21 1083.04 Q1522.21 1079.91 1520.29 1078.13 Q1518.39 1076.35 1515.03 1076.35 M1510.36 1074.36 Q1507.35 1073.62 1505.66 1071.56 Q1503.99 1069.5 1503.99 1066.53 Q1503.99 1062.39 1506.93 1059.98 Q1509.89 1057.58 1515.03 1057.58 Q1520.19 1057.58 1523.13 1059.98 Q1526.07 1062.39 1526.07 1066.53 Q1526.07 1069.5 1524.38 1071.56 Q1522.72 1073.62 1519.73 1074.36 Q1523.11 1075.14 1524.99 1077.44 Q1526.88 1079.73 1526.88 1083.04 Q1526.88 1088.06 1523.8 1090.75 Q1520.75 1093.43 1515.03 1093.43 Q1509.31 1093.43 1506.24 1090.75 Q1503.18 1088.06 1503.18 1083.04 Q1503.18 1079.73 1505.08 1077.44 Q1506.98 1075.14 1510.36 1074.36 M1508.64 1066.97 Q1508.64 1069.66 1510.31 1071.16 Q1512 1072.67 1515.03 1072.67 Q1518.04 1072.67 1519.73 1071.16 Q1521.44 1069.66 1521.44 1066.97 Q1521.44 1064.29 1519.73 1062.78 Q1518.04 1061.28 1515.03 1061.28 Q1512 1061.28 1510.31 1062.78 Q1508.64 1064.29 1508.64 1066.97 Z\" fill=\"#000000\" fill-rule=\"evenodd\" fill-opacity=\"1\" /><path clip-path=\"url(#clip340)\" d=\"M1840.14 1088.83 L1847.78 1088.83 L1847.78 1062.46 L1839.47 1064.13 L1839.47 1059.87 L1847.73 1058.2 L1852.41 1058.2 L1852.41 1088.83 L1860.04 1088.83 L1860.04 1092.76 L1840.14 1092.76 L1840.14 1088.83 Z\" fill=\"#000000\" fill-rule=\"evenodd\" fill-opacity=\"1\" /><path clip-path=\"url(#clip340)\" d=\"M1879.49 1061.28 Q1875.88 1061.28 1874.05 1064.84 Q1872.24 1068.39 1872.24 1075.51 Q1872.24 1082.62 1874.05 1086.19 Q1875.88 1089.73 1879.49 1089.73 Q1883.12 1089.73 1884.93 1086.19 Q1886.76 1082.62 1886.76 1075.51 Q1886.76 1068.39 1884.93 1064.84 Q1883.12 1061.28 1879.49 1061.28 M1879.49 1057.58 Q1885.3 1057.58 1888.35 1062.18 Q1891.43 1066.77 1891.43 1075.51 Q1891.43 1084.24 1888.35 1088.85 Q1885.3 1093.43 1879.49 1093.43 Q1873.68 1093.43 1870.6 1088.85 Q1867.54 1084.24 1867.54 1075.51 Q1867.54 1066.77 1870.6 1062.18 Q1873.68 1057.58 1879.49 1057.58 Z\" fill=\"#000000\" fill-rule=\"evenodd\" fill-opacity=\"1\" /><path clip-path=\"url(#clip340)\" d=\"M928.545 1143.34 Q930.741 1139.39 933.797 1137.51 Q936.852 1135.64 940.99 1135.64 Q946.56 1135.64 949.584 1139.55 Q952.608 1143.43 952.608 1150.63 L952.608 1172.14 L946.719 1172.14 L946.719 1150.82 Q946.719 1145.69 944.905 1143.21 Q943.091 1140.73 939.367 1140.73 Q934.815 1140.73 932.174 1143.75 Q929.532 1146.78 929.532 1152 L929.532 1172.14 L923.644 1172.14 L923.644 1150.82 Q923.644 1145.66 921.829 1143.21 Q920.015 1140.73 916.228 1140.73 Q911.74 1140.73 909.098 1143.79 Q906.456 1146.81 906.456 1152 L906.456 1172.14 L900.568 1172.14 L900.568 1136.5 L906.456 1136.5 L906.456 1142.03 Q908.461 1138.76 911.262 1137.2 Q914.063 1135.64 917.914 1135.64 Q921.798 1135.64 924.503 1137.61 Q927.24 1139.58 928.545 1143.34 Z\" fill=\"#000000\" fill-rule=\"evenodd\" fill-opacity=\"1\" /><path clip-path=\"url(#clip340)\" d=\"M980.489 1154.22 Q973.392 1154.22 970.654 1155.85 Q967.917 1157.47 967.917 1161.39 Q967.917 1164.51 969.954 1166.35 Q972.023 1168.17 975.556 1168.17 Q980.426 1168.17 983.354 1164.73 Q986.314 1161.26 986.314 1155.53 L986.314 1154.22 L980.489 1154.22 M992.17 1151.81 L992.17 1172.14 L986.314 1172.14 L986.314 1166.73 Q984.309 1169.98 981.317 1171.54 Q978.325 1173.07 973.996 1173.07 Q968.522 1173.07 965.275 1170.01 Q962.061 1166.92 962.061 1161.77 Q962.061 1155.75 966.071 1152.7 Q970.113 1149.64 978.102 1149.64 L986.314 1149.64 L986.314 1149.07 Q986.314 1145.03 983.64 1142.83 Q980.999 1140.6 976.192 1140.6 Q973.137 1140.6 970.241 1141.33 Q967.344 1142.07 964.671 1143.53 L964.671 1138.12 Q967.885 1136.88 970.909 1136.27 Q973.933 1135.64 976.797 1135.64 Q984.532 1135.64 988.351 1139.65 Q992.17 1143.66 992.17 1151.81 Z\" fill=\"#000000\" fill-rule=\"evenodd\" fill-opacity=\"1\" /><path clip-path=\"url(#clip340)\" d=\"M1033.87 1136.5 L1020.98 1153.84 L1034.53 1172.14 L1027.63 1172.14 L1017.25 1158.14 L1006.88 1172.14 L999.968 1172.14 L1013.81 1153.49 L1001.15 1136.5 L1008.05 1136.5 L1017.51 1149.2 L1026.96 1136.5 L1033.87 1136.5 Z\" fill=\"#000000\" fill-rule=\"evenodd\" fill-opacity=\"1\" /><path clip-path=\"url(#clip340)\" d=\"M1069.9 1182.97 L1069.9 1187.52 L1036.03 1187.52 L1036.03 1182.97 L1069.9 1182.97 Z\" fill=\"#000000\" fill-rule=\"evenodd\" fill-opacity=\"1\" /><path clip-path=\"url(#clip340)\" d=\"M1098.86 1141.91 L1098.86 1122.62 L1104.72 1122.62 L1104.72 1172.14 L1098.86 1172.14 L1098.86 1166.8 Q1097.01 1169.98 1094.18 1171.54 Q1091.38 1173.07 1087.43 1173.07 Q1080.97 1173.07 1076.9 1167.91 Q1072.86 1162.75 1072.86 1154.35 Q1072.86 1145.95 1076.9 1140.79 Q1080.97 1135.64 1087.43 1135.64 Q1091.38 1135.64 1094.18 1137.2 Q1097.01 1138.72 1098.86 1141.91 M1078.9 1154.35 Q1078.9 1160.81 1081.54 1164.51 Q1084.22 1168.17 1088.87 1168.17 Q1093.51 1168.17 1096.19 1164.51 Q1098.86 1160.81 1098.86 1154.35 Q1098.86 1147.89 1096.19 1144.23 Q1093.51 1140.54 1088.87 1140.54 Q1084.22 1140.54 1081.54 1144.23 Q1078.9 1147.89 1078.9 1154.35 Z\" fill=\"#000000\" fill-rule=\"evenodd\" fill-opacity=\"1\" /><path clip-path=\"url(#clip340)\" d=\"M1147.27 1152.86 L1147.27 1155.72 L1120.34 1155.72 Q1120.73 1161.77 1123.97 1164.95 Q1127.25 1168.1 1133.08 1168.1 Q1136.45 1168.1 1139.6 1167.27 Q1142.78 1166.45 1145.9 1164.79 L1145.9 1170.33 Q1142.75 1171.67 1139.44 1172.37 Q1136.13 1173.07 1132.73 1173.07 Q1124.2 1173.07 1119.2 1168.1 Q1114.23 1163.14 1114.23 1154.67 Q1114.23 1145.92 1118.94 1140.79 Q1123.69 1135.64 1131.71 1135.64 Q1138.9 1135.64 1143.07 1140.28 Q1147.27 1144.9 1147.27 1152.86 M1141.41 1151.14 Q1141.35 1146.33 1138.71 1143.47 Q1136.1 1140.6 1131.77 1140.6 Q1126.87 1140.6 1123.91 1143.37 Q1120.98 1146.14 1120.53 1151.17 L1141.41 1151.14 Z\" fill=\"#000000\" fill-rule=\"evenodd\" fill-opacity=\"1\" /><path clip-path=\"url(#clip340)\" d=\"M1162.55 1166.8 L1162.55 1185.7 L1156.66 1185.7 L1156.66 1136.5 L1162.55 1136.5 L1162.55 1141.91 Q1164.39 1138.72 1167.2 1137.2 Q1170.03 1135.64 1173.94 1135.64 Q1180.44 1135.64 1184.48 1140.79 Q1188.55 1145.95 1188.55 1154.35 Q1188.55 1162.75 1184.48 1167.91 Q1180.44 1173.07 1173.94 1173.07 Q1170.03 1173.07 1167.2 1171.54 Q1164.39 1169.98 1162.55 1166.8 M1182.47 1154.35 Q1182.47 1147.89 1179.8 1144.23 Q1177.16 1140.54 1172.51 1140.54 Q1167.86 1140.54 1165.19 1144.23 Q1162.55 1147.89 1162.55 1154.35 Q1162.55 1160.81 1165.19 1164.51 Q1167.86 1168.17 1172.51 1168.17 Q1177.16 1168.17 1179.8 1164.51 Q1182.47 1160.81 1182.47 1154.35 Z\" fill=\"#000000\" fill-rule=\"evenodd\" fill-opacity=\"1\" /><path clip-path=\"url(#clip340)\" d=\"M1204.05 1126.37 L1204.05 1136.5 L1216.12 1136.5 L1216.12 1141.05 L1204.05 1141.05 L1204.05 1160.4 Q1204.05 1164.76 1205.23 1166 Q1206.44 1167.24 1210.1 1167.24 L1216.12 1167.24 L1216.12 1172.14 L1210.1 1172.14 Q1203.32 1172.14 1200.74 1169.63 Q1198.16 1167.08 1198.16 1160.4 L1198.16 1141.05 L1193.87 1141.05 L1193.87 1136.5 L1198.16 1136.5 L1198.16 1126.37 L1204.05 1126.37 Z\" fill=\"#000000\" fill-rule=\"evenodd\" fill-opacity=\"1\" /><path clip-path=\"url(#clip340)\" d=\"M1253.45 1150.63 L1253.45 1172.14 L1247.59 1172.14 L1247.59 1150.82 Q1247.59 1145.76 1245.62 1143.24 Q1243.65 1140.73 1239.7 1140.73 Q1234.96 1140.73 1232.22 1143.75 Q1229.48 1146.78 1229.48 1152 L1229.48 1172.14 L1223.6 1172.14 L1223.6 1122.62 L1229.48 1122.62 L1229.48 1142.03 Q1231.58 1138.82 1234.42 1137.23 Q1237.28 1135.64 1241.01 1135.64 Q1247.15 1135.64 1250.3 1139.46 Q1253.45 1143.24 1253.45 1150.63 Z\" fill=\"#000000\" fill-rule=\"evenodd\" fill-opacity=\"1\" /><polyline clip-path=\"url(#clip342)\" style=\"stroke:#000000; stroke-linecap:butt; stroke-linejoin:round; stroke-width:2; stroke-opacity:0.1; fill:none\" points=\"\n",
       "  241.263,892.147 1912.76,892.147 \n",
       "  \"/>\n",
       "<polyline clip-path=\"url(#clip342)\" style=\"stroke:#000000; stroke-linecap:butt; stroke-linejoin:round; stroke-width:2; stroke-opacity:0.1; fill:none\" points=\"\n",
       "  241.263,715.765 1912.76,715.765 \n",
       "  \"/>\n",
       "<polyline clip-path=\"url(#clip342)\" style=\"stroke:#000000; stroke-linecap:butt; stroke-linejoin:round; stroke-width:2; stroke-opacity:0.1; fill:none\" points=\"\n",
       "  241.263,539.382 1912.76,539.382 \n",
       "  \"/>\n",
       "<polyline clip-path=\"url(#clip342)\" style=\"stroke:#000000; stroke-linecap:butt; stroke-linejoin:round; stroke-width:2; stroke-opacity:0.1; fill:none\" points=\"\n",
       "  241.263,363 1912.76,363 \n",
       "  \"/>\n",
       "<polyline clip-path=\"url(#clip342)\" style=\"stroke:#000000; stroke-linecap:butt; stroke-linejoin:round; stroke-width:2; stroke-opacity:0.1; fill:none\" points=\"\n",
       "  241.263,186.618 1912.76,186.618 \n",
       "  \"/>\n",
       "<polyline clip-path=\"url(#clip340)\" style=\"stroke:#000000; stroke-linecap:butt; stroke-linejoin:round; stroke-width:4; stroke-opacity:1; fill:none\" points=\"\n",
       "  241.263,1033.88 241.263,47.2441 \n",
       "  \"/>\n",
       "<polyline clip-path=\"url(#clip340)\" style=\"stroke:#000000; stroke-linecap:butt; stroke-linejoin:round; stroke-width:4; stroke-opacity:1; fill:none\" points=\"\n",
       "  241.263,892.147 260.16,892.147 \n",
       "  \"/>\n",
       "<polyline clip-path=\"url(#clip340)\" style=\"stroke:#000000; stroke-linecap:butt; stroke-linejoin:round; stroke-width:4; stroke-opacity:1; fill:none\" points=\"\n",
       "  241.263,715.765 260.16,715.765 \n",
       "  \"/>\n",
       "<polyline clip-path=\"url(#clip340)\" style=\"stroke:#000000; stroke-linecap:butt; stroke-linejoin:round; stroke-width:4; stroke-opacity:1; fill:none\" points=\"\n",
       "  241.263,539.382 260.16,539.382 \n",
       "  \"/>\n",
       "<polyline clip-path=\"url(#clip340)\" style=\"stroke:#000000; stroke-linecap:butt; stroke-linejoin:round; stroke-width:4; stroke-opacity:1; fill:none\" points=\"\n",
       "  241.263,363 260.16,363 \n",
       "  \"/>\n",
       "<polyline clip-path=\"url(#clip340)\" style=\"stroke:#000000; stroke-linecap:butt; stroke-linejoin:round; stroke-width:4; stroke-opacity:1; fill:none\" points=\"\n",
       "  241.263,186.618 260.16,186.618 \n",
       "  \"/>\n",
       "<path clip-path=\"url(#clip340)\" d=\"M124.525 877.946 Q120.914 877.946 119.086 881.511 Q117.28 885.052 117.28 892.182 Q117.28 899.288 119.086 902.853 Q120.914 906.395 124.525 906.395 Q128.16 906.395 129.965 902.853 Q131.794 899.288 131.794 892.182 Q131.794 885.052 129.965 881.511 Q128.16 877.946 124.525 877.946 M124.525 874.242 Q130.336 874.242 133.391 878.849 Q136.47 883.432 136.47 892.182 Q136.47 900.909 133.391 905.515 Q130.336 910.098 124.525 910.098 Q118.715 910.098 115.637 905.515 Q112.581 900.909 112.581 892.182 Q112.581 883.432 115.637 878.849 Q118.715 874.242 124.525 874.242 Z\" fill=\"#000000\" fill-rule=\"evenodd\" fill-opacity=\"1\" /><path clip-path=\"url(#clip340)\" d=\"M144.687 903.548 L149.572 903.548 L149.572 909.427 L144.687 909.427 L144.687 903.548 Z\" fill=\"#000000\" fill-rule=\"evenodd\" fill-opacity=\"1\" /><path clip-path=\"url(#clip340)\" d=\"M169.757 893.015 Q166.423 893.015 164.502 894.798 Q162.604 896.58 162.604 899.705 Q162.604 902.83 164.502 904.612 Q166.423 906.395 169.757 906.395 Q173.09 906.395 175.011 904.612 Q176.932 902.807 176.932 899.705 Q176.932 896.58 175.011 894.798 Q173.113 893.015 169.757 893.015 M165.081 891.024 Q162.071 890.284 160.382 888.224 Q158.715 886.163 158.715 883.2 Q158.715 879.057 161.655 876.65 Q164.618 874.242 169.757 874.242 Q174.919 874.242 177.858 876.65 Q180.798 879.057 180.798 883.2 Q180.798 886.163 179.108 888.224 Q177.442 890.284 174.456 891.024 Q177.835 891.811 179.71 894.103 Q181.608 896.395 181.608 899.705 Q181.608 904.728 178.53 907.413 Q175.474 910.098 169.757 910.098 Q164.039 910.098 160.96 907.413 Q157.905 904.728 157.905 899.705 Q157.905 896.395 159.803 894.103 Q161.701 891.811 165.081 891.024 M163.368 883.64 Q163.368 886.325 165.034 887.83 Q166.724 889.335 169.757 889.335 Q172.766 889.335 174.456 887.83 Q176.169 886.325 176.169 883.64 Q176.169 880.955 174.456 879.45 Q172.766 877.946 169.757 877.946 Q166.724 877.946 165.034 879.45 Q163.368 880.955 163.368 883.64 Z\" fill=\"#000000\" fill-rule=\"evenodd\" fill-opacity=\"1\" /><path clip-path=\"url(#clip340)\" d=\"M199.918 877.946 Q196.307 877.946 194.479 881.511 Q192.673 885.052 192.673 892.182 Q192.673 899.288 194.479 902.853 Q196.307 906.395 199.918 906.395 Q203.553 906.395 205.358 902.853 Q207.187 899.288 207.187 892.182 Q207.187 885.052 205.358 881.511 Q203.553 877.946 199.918 877.946 M199.918 874.242 Q205.729 874.242 208.784 878.849 Q211.863 883.432 211.863 892.182 Q211.863 900.909 208.784 905.515 Q205.729 910.098 199.918 910.098 Q194.108 910.098 191.03 905.515 Q187.974 900.909 187.974 892.182 Q187.974 883.432 191.03 878.849 Q194.108 874.242 199.918 874.242 Z\" fill=\"#000000\" fill-rule=\"evenodd\" fill-opacity=\"1\" /><path clip-path=\"url(#clip340)\" d=\"M125.521 701.563 Q121.91 701.563 120.081 705.128 Q118.275 708.67 118.275 715.799 Q118.275 722.906 120.081 726.471 Q121.91 730.012 125.521 730.012 Q129.155 730.012 130.961 726.471 Q132.789 722.906 132.789 715.799 Q132.789 708.67 130.961 705.128 Q129.155 701.563 125.521 701.563 M125.521 697.86 Q131.331 697.86 134.386 702.466 Q137.465 707.05 137.465 715.799 Q137.465 724.526 134.386 729.133 Q131.331 733.716 125.521 733.716 Q119.711 733.716 116.632 729.133 Q113.576 724.526 113.576 715.799 Q113.576 707.05 116.632 702.466 Q119.711 697.86 125.521 697.86 Z\" fill=\"#000000\" fill-rule=\"evenodd\" fill-opacity=\"1\" /><path clip-path=\"url(#clip340)\" d=\"M145.683 727.165 L150.567 727.165 L150.567 733.045 L145.683 733.045 L145.683 727.165 Z\" fill=\"#000000\" fill-rule=\"evenodd\" fill-opacity=\"1\" /><path clip-path=\"url(#clip340)\" d=\"M170.752 716.633 Q167.419 716.633 165.497 718.415 Q163.599 720.198 163.599 723.323 Q163.599 726.448 165.497 728.23 Q167.419 730.012 170.752 730.012 Q174.085 730.012 176.007 728.23 Q177.928 726.424 177.928 723.323 Q177.928 720.198 176.007 718.415 Q174.108 716.633 170.752 716.633 M166.076 714.642 Q163.067 713.901 161.377 711.841 Q159.71 709.781 159.71 706.818 Q159.71 702.675 162.65 700.267 Q165.613 697.86 170.752 697.86 Q175.914 697.86 178.854 700.267 Q181.794 702.675 181.794 706.818 Q181.794 709.781 180.104 711.841 Q178.437 713.901 175.451 714.642 Q178.831 715.429 180.706 717.721 Q182.604 720.012 182.604 723.323 Q182.604 728.346 179.525 731.031 Q176.47 733.716 170.752 733.716 Q165.034 733.716 161.956 731.031 Q158.9 728.346 158.9 723.323 Q158.9 720.012 160.798 717.721 Q162.696 715.429 166.076 714.642 M164.363 707.258 Q164.363 709.943 166.03 711.448 Q167.72 712.952 170.752 712.952 Q173.761 712.952 175.451 711.448 Q177.164 709.943 177.164 707.258 Q177.164 704.573 175.451 703.068 Q173.761 701.563 170.752 701.563 Q167.72 701.563 166.03 703.068 Q164.363 704.573 164.363 707.258 Z\" fill=\"#000000\" fill-rule=\"evenodd\" fill-opacity=\"1\" /><path clip-path=\"url(#clip340)\" d=\"M190.96 698.485 L209.317 698.485 L209.317 702.42 L195.243 702.42 L195.243 710.892 Q196.261 710.545 197.28 710.383 Q198.298 710.198 199.317 710.198 Q205.104 710.198 208.483 713.369 Q211.863 716.54 211.863 721.957 Q211.863 727.536 208.391 730.637 Q204.918 733.716 198.599 733.716 Q196.423 733.716 194.155 733.346 Q191.909 732.975 189.502 732.235 L189.502 727.536 Q191.585 728.67 193.807 729.225 Q196.03 729.781 198.506 729.781 Q202.511 729.781 204.849 727.674 Q207.187 725.568 207.187 721.957 Q207.187 718.346 204.849 716.239 Q202.511 714.133 198.506 714.133 Q196.631 714.133 194.756 714.549 Q192.905 714.966 190.96 715.846 L190.96 698.485 Z\" fill=\"#000000\" fill-rule=\"evenodd\" fill-opacity=\"1\" /><path clip-path=\"url(#clip340)\" d=\"M124.525 525.181 Q120.914 525.181 119.086 528.746 Q117.28 532.288 117.28 539.417 Q117.28 546.524 119.086 550.088 Q120.914 553.63 124.525 553.63 Q128.16 553.63 129.965 550.088 Q131.794 546.524 131.794 539.417 Q131.794 532.288 129.965 528.746 Q128.16 525.181 124.525 525.181 M124.525 521.477 Q130.336 521.477 133.391 526.084 Q136.47 530.667 136.47 539.417 Q136.47 548.144 133.391 552.75 Q130.336 557.334 124.525 557.334 Q118.715 557.334 115.637 552.75 Q112.581 548.144 112.581 539.417 Q112.581 530.667 115.637 526.084 Q118.715 521.477 124.525 521.477 Z\" fill=\"#000000\" fill-rule=\"evenodd\" fill-opacity=\"1\" /><path clip-path=\"url(#clip340)\" d=\"M144.687 550.783 L149.572 550.783 L149.572 556.662 L144.687 556.662 L144.687 550.783 Z\" fill=\"#000000\" fill-rule=\"evenodd\" fill-opacity=\"1\" /><path clip-path=\"url(#clip340)\" d=\"M159.896 555.945 L159.896 551.686 Q161.655 552.519 163.46 552.959 Q165.266 553.398 167.002 553.398 Q171.632 553.398 174.062 550.297 Q176.516 547.172 176.863 540.829 Q175.52 542.82 173.46 543.885 Q171.4 544.949 168.9 544.949 Q163.715 544.949 160.683 541.824 Q157.673 538.676 157.673 533.237 Q157.673 527.913 160.821 524.695 Q163.97 521.477 169.201 521.477 Q175.196 521.477 178.345 526.084 Q181.516 530.667 181.516 539.417 Q181.516 547.588 177.627 552.473 Q173.761 557.334 167.21 557.334 Q165.451 557.334 163.646 556.986 Q161.84 556.639 159.896 555.945 M169.201 541.292 Q172.349 541.292 174.178 539.139 Q176.03 536.987 176.03 533.237 Q176.03 529.51 174.178 527.357 Q172.349 525.181 169.201 525.181 Q166.053 525.181 164.201 527.357 Q162.372 529.51 162.372 533.237 Q162.372 536.987 164.201 539.139 Q166.053 541.292 169.201 541.292 Z\" fill=\"#000000\" fill-rule=\"evenodd\" fill-opacity=\"1\" /><path clip-path=\"url(#clip340)\" d=\"M199.918 525.181 Q196.307 525.181 194.479 528.746 Q192.673 532.288 192.673 539.417 Q192.673 546.524 194.479 550.088 Q196.307 553.63 199.918 553.63 Q203.553 553.63 205.358 550.088 Q207.187 546.524 207.187 539.417 Q207.187 532.288 205.358 528.746 Q203.553 525.181 199.918 525.181 M199.918 521.477 Q205.729 521.477 208.784 526.084 Q211.863 530.667 211.863 539.417 Q211.863 548.144 208.784 552.75 Q205.729 557.334 199.918 557.334 Q194.108 557.334 191.03 552.75 Q187.974 548.144 187.974 539.417 Q187.974 530.667 191.03 526.084 Q194.108 521.477 199.918 521.477 Z\" fill=\"#000000\" fill-rule=\"evenodd\" fill-opacity=\"1\" /><path clip-path=\"url(#clip340)\" d=\"M125.521 348.799 Q121.91 348.799 120.081 352.363 Q118.275 355.905 118.275 363.035 Q118.275 370.141 120.081 373.706 Q121.91 377.248 125.521 377.248 Q129.155 377.248 130.961 373.706 Q132.789 370.141 132.789 363.035 Q132.789 355.905 130.961 352.363 Q129.155 348.799 125.521 348.799 M125.521 345.095 Q131.331 345.095 134.386 349.701 Q137.465 354.285 137.465 363.035 Q137.465 371.762 134.386 376.368 Q131.331 380.951 125.521 380.951 Q119.711 380.951 116.632 376.368 Q113.576 371.762 113.576 363.035 Q113.576 354.285 116.632 349.701 Q119.711 345.095 125.521 345.095 Z\" fill=\"#000000\" fill-rule=\"evenodd\" fill-opacity=\"1\" /><path clip-path=\"url(#clip340)\" d=\"M145.683 374.4 L150.567 374.4 L150.567 380.28 L145.683 380.28 L145.683 374.4 Z\" fill=\"#000000\" fill-rule=\"evenodd\" fill-opacity=\"1\" /><path clip-path=\"url(#clip340)\" d=\"M160.891 379.562 L160.891 375.303 Q162.65 376.137 164.456 376.576 Q166.261 377.016 167.997 377.016 Q172.627 377.016 175.057 373.914 Q177.511 370.789 177.858 364.447 Q176.516 366.437 174.456 367.502 Q172.395 368.567 169.895 368.567 Q164.71 368.567 161.678 365.442 Q158.669 362.294 158.669 356.854 Q158.669 351.53 161.817 348.313 Q164.965 345.095 170.196 345.095 Q176.192 345.095 179.34 349.701 Q182.511 354.285 182.511 363.035 Q182.511 371.206 178.622 376.09 Q174.757 380.951 168.206 380.951 Q166.446 380.951 164.641 380.604 Q162.835 380.257 160.891 379.562 M170.196 364.91 Q173.345 364.91 175.173 362.757 Q177.025 360.604 177.025 356.854 Q177.025 353.127 175.173 350.975 Q173.345 348.799 170.196 348.799 Q167.048 348.799 165.196 350.975 Q163.368 353.127 163.368 356.854 Q163.368 360.604 165.196 362.757 Q167.048 364.91 170.196 364.91 Z\" fill=\"#000000\" fill-rule=\"evenodd\" fill-opacity=\"1\" /><path clip-path=\"url(#clip340)\" d=\"M190.96 345.72 L209.317 345.72 L209.317 349.655 L195.243 349.655 L195.243 358.127 Q196.261 357.78 197.28 357.618 Q198.298 357.433 199.317 357.433 Q205.104 357.433 208.483 360.604 Q211.863 363.775 211.863 369.192 Q211.863 374.771 208.391 377.873 Q204.918 380.951 198.599 380.951 Q196.423 380.951 194.155 380.581 Q191.909 380.211 189.502 379.47 L189.502 374.771 Q191.585 375.905 193.807 376.461 Q196.03 377.016 198.506 377.016 Q202.511 377.016 204.849 374.91 Q207.187 372.803 207.187 369.192 Q207.187 365.581 204.849 363.475 Q202.511 361.368 198.506 361.368 Q196.631 361.368 194.756 361.785 Q192.905 362.201 190.96 363.081 L190.96 345.72 Z\" fill=\"#000000\" fill-rule=\"evenodd\" fill-opacity=\"1\" /><path clip-path=\"url(#clip340)\" d=\"M115.336 199.962 L122.974 199.962 L122.974 173.597 L114.664 175.264 L114.664 171.004 L122.928 169.338 L127.604 169.338 L127.604 199.962 L135.243 199.962 L135.243 203.898 L115.336 203.898 L115.336 199.962 Z\" fill=\"#000000\" fill-rule=\"evenodd\" fill-opacity=\"1\" /><path clip-path=\"url(#clip340)\" d=\"M144.687 198.018 L149.572 198.018 L149.572 203.898 L144.687 203.898 L144.687 198.018 Z\" fill=\"#000000\" fill-rule=\"evenodd\" fill-opacity=\"1\" /><path clip-path=\"url(#clip340)\" d=\"M169.757 172.416 Q166.146 172.416 164.317 175.981 Q162.511 179.523 162.511 186.652 Q162.511 193.759 164.317 197.324 Q166.146 200.865 169.757 200.865 Q173.391 200.865 175.196 197.324 Q177.025 193.759 177.025 186.652 Q177.025 179.523 175.196 175.981 Q173.391 172.416 169.757 172.416 M169.757 168.713 Q175.567 168.713 178.622 173.319 Q181.701 177.902 181.701 186.652 Q181.701 195.379 178.622 199.986 Q175.567 204.569 169.757 204.569 Q163.946 204.569 160.868 199.986 Q157.812 195.379 157.812 186.652 Q157.812 177.902 160.868 173.319 Q163.946 168.713 169.757 168.713 Z\" fill=\"#000000\" fill-rule=\"evenodd\" fill-opacity=\"1\" /><path clip-path=\"url(#clip340)\" d=\"M199.918 172.416 Q196.307 172.416 194.479 175.981 Q192.673 179.523 192.673 186.652 Q192.673 193.759 194.479 197.324 Q196.307 200.865 199.918 200.865 Q203.553 200.865 205.358 197.324 Q207.187 193.759 207.187 186.652 Q207.187 179.523 205.358 175.981 Q203.553 172.416 199.918 172.416 M199.918 168.713 Q205.729 168.713 208.784 173.319 Q211.863 177.902 211.863 186.652 Q211.863 195.379 208.784 199.986 Q205.729 204.569 199.918 204.569 Q194.108 204.569 191.03 199.986 Q187.974 195.379 187.974 186.652 Q187.974 177.902 191.03 173.319 Q194.108 168.713 199.918 168.713 Z\" fill=\"#000000\" fill-rule=\"evenodd\" fill-opacity=\"1\" /><path clip-path=\"url(#clip340)\" d=\"M25.0653 971.361 L31.8447 971.361 Q28.821 974.608 27.3251 978.3 Q25.8291 981.96 25.8291 986.098 Q25.8291 994.246 30.8262 998.575 Q35.7915 1002.9 45.2127 1002.9 Q54.6021 1002.9 59.5992 998.575 Q64.5645 994.246 64.5645 986.098 Q64.5645 981.96 63.0685 978.3 Q61.5726 974.608 58.5489 971.361 L65.2647 971.361 Q67.5563 974.735 68.7022 978.523 Q69.848 982.279 69.848 986.48 Q69.848 997.27 63.2595 1003.48 Q56.6392 1009.68 45.2127 1009.68 Q33.7544 1009.68 27.1659 1003.48 Q20.5456 997.27 20.5456 986.48 Q20.5456 982.215 21.6914 978.459 Q22.8054 974.672 25.0653 971.361 Z\" fill=\"#000000\" fill-rule=\"evenodd\" fill-opacity=\"1\" /><path clip-path=\"url(#clip340)\" d=\"M68.925 949.177 L21.405 967.319 L21.405 960.603 L61.4134 945.548 L21.405 930.462 L21.405 923.778 L68.925 941.888 L68.925 949.177 Z\" fill=\"#000000\" fill-rule=\"evenodd\" fill-opacity=\"1\" /><path clip-path=\"url(#clip340)\" d=\"M49.6369 865.882 L52.5015 865.882 L52.5015 892.809 Q58.5489 892.427 61.7317 889.18 Q64.8828 885.902 64.8828 880.077 Q64.8828 876.703 64.0552 873.552 Q63.2277 870.369 61.5726 867.25 L67.1107 867.25 Q68.4475 870.401 69.1478 873.711 Q69.848 877.022 69.848 880.427 Q69.848 888.957 64.8828 893.954 Q59.9175 898.92 51.4511 898.92 Q42.6983 898.92 37.5739 894.209 Q32.4176 889.467 32.4176 881.446 Q32.4176 874.253 37.0646 870.083 Q41.6797 865.882 49.6369 865.882 M47.9181 871.738 Q43.112 871.802 40.2475 874.443 Q37.3829 877.053 37.3829 881.382 Q37.3829 886.284 40.152 889.244 Q42.9211 892.172 47.95 892.618 L47.9181 871.738 Z\" fill=\"#000000\" fill-rule=\"evenodd\" fill-opacity=\"1\" /><path clip-path=\"url(#clip340)\" d=\"M34.3274 833.544 L39.8655 833.544 Q38.5924 836.026 37.9558 838.7 Q37.3192 841.374 37.3192 844.238 Q37.3192 848.599 38.656 850.795 Q39.9928 852.959 42.6664 852.959 Q44.7035 852.959 45.8811 851.4 Q47.0269 849.84 48.0773 845.129 L48.5229 843.124 Q49.8597 836.886 52.3105 834.276 Q54.7294 831.634 59.09 831.634 Q64.0552 831.634 66.9516 835.581 Q69.848 839.496 69.848 846.371 Q69.848 849.235 69.2751 852.354 Q68.734 855.442 67.62 858.879 L61.5726 858.879 Q63.2595 855.633 64.1189 852.482 Q64.9464 849.331 64.9464 846.243 Q64.9464 842.106 63.546 839.878 Q62.1137 837.65 59.5356 837.65 Q57.1484 837.65 55.8753 839.273 Q54.6021 840.864 53.4245 846.307 L52.9471 848.344 Q51.8012 853.787 49.4459 856.206 Q47.0588 858.625 42.9211 858.625 Q37.8922 858.625 35.1549 855.06 Q32.4176 851.495 32.4176 844.938 Q32.4176 841.692 32.8951 838.827 Q33.3725 835.963 34.3274 833.544 Z\" fill=\"#000000\" fill-rule=\"evenodd\" fill-opacity=\"1\" /><path clip-path=\"url(#clip340)\" d=\"M23.1555 816.516 L33.277 816.516 L33.277 804.453 L37.8285 804.453 L37.8285 816.516 L57.1802 816.516 Q61.5408 816.516 62.7821 815.338 Q64.0234 814.128 64.0234 810.468 L64.0234 804.453 L68.925 804.453 L68.925 810.468 Q68.925 817.248 66.4105 819.826 Q63.8642 822.404 57.1802 822.404 L37.8285 822.404 L37.8285 826.701 L33.277 826.701 L33.277 822.404 L23.1555 822.404 L23.1555 816.516 Z\" fill=\"#000000\" fill-rule=\"evenodd\" fill-opacity=\"1\" /><path clip-path=\"url(#clip340)\" d=\"M33.277 796.75 L33.277 790.894 L68.925 790.894 L68.925 796.75 L33.277 796.75 M19.3998 796.75 L19.3998 790.894 L26.8158 790.894 L26.8158 796.75 L19.3998 796.75 Z\" fill=\"#000000\" fill-rule=\"evenodd\" fill-opacity=\"1\" /><path clip-path=\"url(#clip340)\" d=\"M40.1202 750.885 Q36.1734 748.689 34.2955 745.633 Q32.4176 742.578 32.4176 738.44 Q32.4176 732.87 36.3326 729.846 Q40.2156 726.823 47.4089 726.823 L68.925 726.823 L68.925 732.711 L47.5999 732.711 Q42.4755 732.711 39.9928 734.525 Q37.5102 736.339 37.5102 740.063 Q37.5102 744.615 40.5339 747.257 Q43.5576 749.898 48.7775 749.898 L68.925 749.898 L68.925 755.787 L47.5999 755.787 Q42.4436 755.787 39.9928 757.601 Q37.5102 759.415 37.5102 763.203 Q37.5102 767.691 40.5658 770.332 Q43.5895 772.974 48.7775 772.974 L68.925 772.974 L68.925 778.862 L33.277 778.862 L33.277 772.974 L38.8152 772.974 Q35.5368 770.969 33.9772 768.168 Q32.4176 765.367 32.4176 761.516 Q32.4176 757.633 34.391 754.927 Q36.3644 752.19 40.1202 750.885 Z\" fill=\"#000000\" fill-rule=\"evenodd\" fill-opacity=\"1\" /><path clip-path=\"url(#clip340)\" d=\"M51.0055 698.941 Q51.0055 706.039 52.6288 708.776 Q54.252 711.513 58.1669 711.513 Q61.2861 711.513 63.1322 709.476 Q64.9464 707.407 64.9464 703.874 Q64.9464 699.005 61.5089 696.076 Q58.0396 693.116 52.3105 693.116 L51.0055 693.116 L51.0055 698.941 M48.5865 687.26 L68.925 687.26 L68.925 693.116 L63.5141 693.116 Q66.7606 695.122 68.3202 698.113 Q69.848 701.105 69.848 705.434 Q69.848 710.908 66.7925 714.155 Q63.7051 717.37 58.5489 717.37 Q52.5333 717.37 49.4777 713.359 Q46.4222 709.317 46.4222 701.328 L46.4222 693.116 L45.8493 693.116 Q41.8071 693.116 39.6109 695.79 Q37.3829 698.432 37.3829 703.238 Q37.3829 706.293 38.115 709.19 Q38.847 712.086 40.3111 714.76 L34.9003 714.76 Q33.659 711.545 33.0542 708.521 Q32.4176 705.498 32.4176 702.633 Q32.4176 694.899 36.428 691.079 Q40.4384 687.26 48.5865 687.26 Z\" fill=\"#000000\" fill-rule=\"evenodd\" fill-opacity=\"1\" /><path clip-path=\"url(#clip340)\" d=\"M23.1555 669.404 L33.277 669.404 L33.277 657.341 L37.8285 657.341 L37.8285 669.404 L57.1802 669.404 Q61.5408 669.404 62.7821 668.226 Q64.0234 667.017 64.0234 663.357 L64.0234 657.341 L68.925 657.341 L68.925 663.357 Q68.925 670.136 66.4105 672.714 Q63.8642 675.292 57.1802 675.292 L37.8285 675.292 L37.8285 679.589 L33.277 679.589 L33.277 675.292 L23.1555 675.292 L23.1555 669.404 Z\" fill=\"#000000\" fill-rule=\"evenodd\" fill-opacity=\"1\" /><path clip-path=\"url(#clip340)\" d=\"M49.6369 619.147 L52.5015 619.147 L52.5015 646.074 Q58.5489 645.692 61.7317 642.445 Q64.8828 639.167 64.8828 633.342 Q64.8828 629.969 64.0552 626.817 Q63.2277 623.635 61.5726 620.515 L67.1107 620.515 Q68.4475 623.666 69.1478 626.977 Q69.848 630.287 69.848 633.692 Q69.848 642.223 64.8828 647.22 Q59.9175 652.185 51.4511 652.185 Q42.6983 652.185 37.5739 647.474 Q32.4176 642.732 32.4176 634.711 Q32.4176 627.518 37.0646 623.348 Q41.6797 619.147 49.6369 619.147 M47.9181 625.003 Q43.112 625.067 40.2475 627.709 Q37.3829 630.319 37.3829 634.647 Q37.3829 639.549 40.152 642.509 Q42.9211 645.437 47.95 645.883 L47.9181 625.003 Z\" fill=\"#000000\" fill-rule=\"evenodd\" fill-opacity=\"1\" /><path clip-path=\"url(#clip340)\" d=\"M37.3829 575.001 Q37.3829 579.711 41.075 582.449 Q44.7353 585.186 51.1328 585.186 Q57.5304 585.186 61.2225 582.48 Q64.8828 579.743 64.8828 575.001 Q64.8828 570.322 61.1906 567.585 Q57.4985 564.847 51.1328 564.847 Q44.7989 564.847 41.1068 567.585 Q37.3829 570.322 37.3829 575.001 M32.4176 575.001 Q32.4176 567.362 37.3829 563.001 Q42.3481 558.641 51.1328 558.641 Q59.8857 558.641 64.8828 563.001 Q69.848 567.362 69.848 575.001 Q69.848 582.671 64.8828 587.032 Q59.8857 591.361 51.1328 591.361 Q42.3481 591.361 37.3829 587.032 Q32.4176 582.671 32.4176 575.001 Z\" fill=\"#000000\" fill-rule=\"evenodd\" fill-opacity=\"1\" /><path clip-path=\"url(#clip340)\" d=\"M19.3998 530.886 L24.2695 530.886 L24.2695 536.488 Q24.2695 539.639 25.5427 540.88 Q26.8158 542.09 30.126 542.09 L33.277 542.09 L33.277 532.446 L37.8285 532.446 L37.8285 542.09 L68.925 542.09 L68.925 547.978 L37.8285 547.978 L37.8285 553.58 L33.277 553.58 L33.277 547.978 L30.7944 547.978 Q24.8425 547.978 22.137 545.209 Q19.3998 542.44 19.3998 536.424 L19.3998 530.886 Z\" fill=\"#000000\" fill-rule=\"evenodd\" fill-opacity=\"1\" /><path clip-path=\"url(#clip340)\" d=\"M34.6456 479.611 L40.1202 479.611 Q38.7515 482.093 38.0831 484.608 Q37.3829 487.09 37.3829 489.637 Q37.3829 495.334 41.0114 498.485 Q44.608 501.636 51.1328 501.636 Q57.6577 501.636 61.2861 498.485 Q64.8828 495.334 64.8828 489.637 Q64.8828 487.09 64.2144 484.608 Q63.5141 482.093 62.1455 479.611 L67.5563 479.611 Q68.7022 482.061 69.2751 484.703 Q69.848 487.313 69.848 490.273 Q69.848 498.326 64.7873 503.068 Q59.7265 507.811 51.1328 507.811 Q42.4118 507.811 37.4147 503.036 Q32.4176 498.23 32.4176 489.891 Q32.4176 487.186 32.9906 484.608 Q33.5316 482.03 34.6456 479.611 Z\" fill=\"#000000\" fill-rule=\"evenodd\" fill-opacity=\"1\" /><path clip-path=\"url(#clip340)\" d=\"M38.7515 448.769 Q38.1786 449.755 37.924 450.933 Q37.6375 452.079 37.6375 453.479 Q37.6375 458.445 40.884 461.118 Q44.0987 463.76 50.1461 463.76 L68.925 463.76 L68.925 469.648 L33.277 469.648 L33.277 463.76 L38.8152 463.76 Q35.5687 461.914 34.0091 458.954 Q32.4176 455.994 32.4176 451.761 Q32.4176 451.156 32.5131 450.424 Q32.5768 449.692 32.7359 448.801 L38.7515 448.769 Z\" fill=\"#000000\" fill-rule=\"evenodd\" fill-opacity=\"1\" /><path clip-path=\"url(#clip340)\" d=\"M37.3829 430.244 Q37.3829 434.955 41.075 437.692 Q44.7353 440.43 51.1328 440.43 Q57.5304 440.43 61.2225 437.724 Q64.8828 434.987 64.8828 430.244 Q64.8828 425.566 61.1906 422.828 Q57.4985 420.091 51.1328 420.091 Q44.7989 420.091 41.1068 422.828 Q37.3829 425.566 37.3829 430.244 M32.4176 430.244 Q32.4176 422.606 37.3829 418.245 Q42.3481 413.885 51.1328 413.885 Q59.8857 413.885 64.8828 418.245 Q69.848 422.606 69.848 430.244 Q69.848 437.915 64.8828 442.276 Q59.8857 446.604 51.1328 446.604 Q42.3481 446.604 37.3829 442.276 Q32.4176 437.915 32.4176 430.244 Z\" fill=\"#000000\" fill-rule=\"evenodd\" fill-opacity=\"1\" /><path clip-path=\"url(#clip340)\" d=\"M34.3274 381.451 L39.8655 381.451 Q38.5924 383.934 37.9558 386.608 Q37.3192 389.281 37.3192 392.146 Q37.3192 396.506 38.656 398.702 Q39.9928 400.867 42.6664 400.867 Q44.7035 400.867 45.8811 399.307 Q47.0269 397.748 48.0773 393.037 L48.5229 391.032 Q49.8597 384.793 52.3105 382.183 Q54.7294 379.542 59.09 379.542 Q64.0552 379.542 66.9516 383.488 Q69.848 387.403 69.848 394.278 Q69.848 397.143 69.2751 400.262 Q68.734 403.349 67.62 406.787 L61.5726 406.787 Q63.2595 403.54 64.1189 400.389 Q64.9464 397.238 64.9464 394.151 Q64.9464 390.013 63.546 387.785 Q62.1137 385.557 59.5356 385.557 Q57.1484 385.557 55.8753 387.18 Q54.6021 388.772 53.4245 394.215 L52.9471 396.252 Q51.8012 401.694 49.4459 404.113 Q47.0588 406.532 42.9211 406.532 Q37.8922 406.532 35.1549 402.967 Q32.4176 399.403 32.4176 392.846 Q32.4176 389.599 32.8951 386.735 Q33.3725 383.87 34.3274 381.451 Z\" fill=\"#000000\" fill-rule=\"evenodd\" fill-opacity=\"1\" /><path clip-path=\"url(#clip340)\" d=\"M34.3274 347.49 L39.8655 347.49 Q38.5924 349.973 37.9558 352.647 Q37.3192 355.32 37.3192 358.185 Q37.3192 362.545 38.656 364.741 Q39.9928 366.906 42.6664 366.906 Q44.7035 366.906 45.8811 365.346 Q47.0269 363.786 48.0773 359.076 L48.5229 357.071 Q49.8597 350.832 52.3105 348.222 Q54.7294 345.581 59.09 345.581 Q64.0552 345.581 66.9516 349.527 Q69.848 353.442 69.848 360.317 Q69.848 363.182 69.2751 366.301 Q68.734 369.388 67.62 372.826 L61.5726 372.826 Q63.2595 369.579 64.1189 366.428 Q64.9464 363.277 64.9464 360.19 Q64.9464 356.052 63.546 353.824 Q62.1137 351.596 59.5356 351.596 Q57.1484 351.596 55.8753 353.219 Q54.6021 354.811 53.4245 360.254 L52.9471 362.291 Q51.8012 367.733 49.4459 370.152 Q47.0588 372.571 42.9211 372.571 Q37.8922 372.571 35.1549 369.006 Q32.4176 365.442 32.4176 358.885 Q32.4176 355.638 32.8951 352.774 Q33.3725 349.909 34.3274 347.49 Z\" fill=\"#000000\" fill-rule=\"evenodd\" fill-opacity=\"1\" /><path clip-path=\"url(#clip340)\" d=\"M49.6369 285.043 L52.5015 285.043 L52.5015 311.97 Q58.5489 311.588 61.7317 308.341 Q64.8828 305.063 64.8828 299.238 Q64.8828 295.864 64.0552 292.713 Q63.2277 289.531 61.5726 286.411 L67.1107 286.411 Q68.4475 289.562 69.1478 292.873 Q69.848 296.183 69.848 299.588 Q69.848 308.118 64.8828 313.115 Q59.9175 318.081 51.4511 318.081 Q42.6983 318.081 37.5739 313.37 Q32.4176 308.628 32.4176 300.607 Q32.4176 293.414 37.0646 289.244 Q41.6797 285.043 49.6369 285.043 M47.9181 290.899 Q43.112 290.963 40.2475 293.605 Q37.3829 296.215 37.3829 300.543 Q37.3829 305.445 40.152 308.405 Q42.9211 311.333 47.95 311.779 L47.9181 290.899 Z\" fill=\"#000000\" fill-rule=\"evenodd\" fill-opacity=\"1\" /><path clip-path=\"url(#clip340)\" d=\"M47.4089 245.798 L68.925 245.798 L68.925 251.655 L47.5999 251.655 Q42.5391 251.655 40.0247 253.628 Q37.5102 255.601 37.5102 259.548 Q37.5102 264.291 40.5339 267.028 Q43.5576 269.765 48.7775 269.765 L68.925 269.765 L68.925 275.653 L33.277 275.653 L33.277 269.765 L38.8152 269.765 Q35.6005 267.664 34.0091 264.832 Q32.4176 261.967 32.4176 258.243 Q32.4176 252.1 36.2371 248.949 Q40.0247 245.798 47.4089 245.798 Z\" fill=\"#000000\" fill-rule=\"evenodd\" fill-opacity=\"1\" /><path clip-path=\"url(#clip340)\" d=\"M23.1555 228.324 L33.277 228.324 L33.277 216.261 L37.8285 216.261 L37.8285 228.324 L57.1802 228.324 Q61.5408 228.324 62.7821 227.147 Q64.0234 225.937 64.0234 222.277 L64.0234 216.261 L68.925 216.261 L68.925 222.277 Q68.925 229.056 66.4105 231.634 Q63.8642 234.213 57.1802 234.213 L37.8285 234.213 L37.8285 238.509 L33.277 238.509 L33.277 234.213 L23.1555 234.213 L23.1555 228.324 Z\" fill=\"#000000\" fill-rule=\"evenodd\" fill-opacity=\"1\" /><path clip-path=\"url(#clip340)\" d=\"M38.7515 187.902 Q38.1786 188.889 37.924 190.066 Q37.6375 191.212 37.6375 192.613 Q37.6375 197.578 40.884 200.251 Q44.0987 202.893 50.1461 202.893 L68.925 202.893 L68.925 208.782 L33.277 208.782 L33.277 202.893 L38.8152 202.893 Q35.5687 201.047 34.0091 198.087 Q32.4176 195.127 32.4176 190.894 Q32.4176 190.289 32.5131 189.557 Q32.5768 188.825 32.7359 187.934 L38.7515 187.902 Z\" fill=\"#000000\" fill-rule=\"evenodd\" fill-opacity=\"1\" /><path clip-path=\"url(#clip340)\" d=\"M37.3829 169.378 Q37.3829 174.088 41.075 176.826 Q44.7353 179.563 51.1328 179.563 Q57.5304 179.563 61.2225 176.858 Q64.8828 174.12 64.8828 169.378 Q64.8828 164.699 61.1906 161.962 Q57.4985 159.225 51.1328 159.225 Q44.7989 159.225 41.1068 161.962 Q37.3829 164.699 37.3829 169.378 M32.4176 169.378 Q32.4176 161.739 37.3829 157.378 Q42.3481 153.018 51.1328 153.018 Q59.8857 153.018 64.8828 157.378 Q69.848 161.739 69.848 169.378 Q69.848 177.048 64.8828 181.409 Q59.8857 185.738 51.1328 185.738 Q42.3481 185.738 37.3829 181.409 Q32.4176 177.048 32.4176 169.378 Z\" fill=\"#000000\" fill-rule=\"evenodd\" fill-opacity=\"1\" /><path clip-path=\"url(#clip340)\" d=\"M63.5778 137.645 L82.4839 137.645 L82.4839 143.533 L33.277 143.533 L33.277 137.645 L38.6879 137.645 Q35.505 135.799 33.9772 132.998 Q32.4176 130.165 32.4176 126.25 Q32.4176 119.757 37.5739 115.715 Q42.7301 111.641 51.1328 111.641 Q59.5356 111.641 64.6918 115.715 Q69.848 119.757 69.848 126.25 Q69.848 130.165 68.3202 132.998 Q66.7606 135.799 63.5778 137.645 M51.1328 117.72 Q44.6716 117.72 41.0114 120.394 Q37.3192 123.035 37.3192 127.682 Q37.3192 132.329 41.0114 135.003 Q44.6716 137.645 51.1328 137.645 Q57.594 137.645 61.2861 135.003 Q64.9464 132.329 64.9464 127.682 Q64.9464 123.035 61.2861 120.394 Q57.594 117.72 51.1328 117.72 Z\" fill=\"#000000\" fill-rule=\"evenodd\" fill-opacity=\"1\" /><path clip-path=\"url(#clip340)\" d=\"M72.2351 87.1011 Q78.6008 89.5837 80.5424 91.939 Q82.4839 94.2943 82.4839 98.241 L82.4839 102.92 L77.5823 102.92 L77.5823 99.4824 Q77.5823 97.0634 76.4365 95.7266 Q75.2907 94.3898 71.0257 92.7665 L68.3521 91.7162 L33.277 106.135 L33.277 99.928 L61.1588 88.788 L33.277 77.648 L33.277 71.4414 L72.2351 87.1011 Z\" fill=\"#000000\" fill-rule=\"evenodd\" fill-opacity=\"1\" /><polyline clip-path=\"url(#clip342)\" style=\"stroke:#009af9; stroke-linecap:butt; stroke-linejoin:round; stroke-width:4; stroke-opacity:1; fill:none\" points=\"\n",
       "  288.569,455.166 463.778,996.668 638.987,1005.96 814.196,980.363 989.405,874.676 1164.61,716.335 1339.82,566.802 1515.03,317.295 1690.24,362.388 1865.45,75.1678 \n",
       "  \n",
       "  \"/>\n",
       "<path clip-path=\"url(#clip340)\" d=\"\n",
       "M1618.89 183.812 L1857.04 183.812 L1857.04 80.132 L1618.89 80.132  Z\n",
       "  \" fill=\"#ffffff\" fill-rule=\"evenodd\" fill-opacity=\"1\"/>\n",
       "<polyline clip-path=\"url(#clip340)\" style=\"stroke:#000000; stroke-linecap:butt; stroke-linejoin:round; stroke-width:4; stroke-opacity:1; fill:none\" points=\"\n",
       "  1618.89,183.812 1857.04,183.812 1857.04,80.132 1618.89,80.132 1618.89,183.812 \n",
       "  \"/>\n",
       "<polyline clip-path=\"url(#clip340)\" style=\"stroke:#009af9; stroke-linecap:butt; stroke-linejoin:round; stroke-width:4; stroke-opacity:1; fill:none\" points=\"\n",
       "  1637.46,131.972 1748.89,131.972 \n",
       "  \"/>\n",
       "<path clip-path=\"url(#clip340)\" d=\"M1781.31 151.659 Q1779.5 156.289 1777.79 157.701 Q1776.08 159.113 1773.21 159.113 L1769.8 159.113 L1769.8 155.548 L1772.3 155.548 Q1774.06 155.548 1775.03 154.715 Q1776.01 153.882 1777.19 150.78 L1777.95 148.835 L1767.46 123.326 L1771.98 123.326 L1780.08 143.604 L1788.18 123.326 L1792.7 123.326 L1781.31 151.659 Z\" fill=\"#000000\" fill-rule=\"evenodd\" fill-opacity=\"1\" /><path clip-path=\"url(#clip340)\" d=\"M1799.99 145.317 L1807.63 145.317 L1807.63 118.951 L1799.32 120.618 L1799.32 116.359 L1807.58 114.692 L1812.26 114.692 L1812.26 145.317 L1819.9 145.317 L1819.9 149.252 L1799.99 149.252 L1799.99 145.317 Z\" fill=\"#000000\" fill-rule=\"evenodd\" fill-opacity=\"1\" /></svg>\n"
      ]
     },
     "execution_count": 183,
     "metadata": {},
     "output_type": "execute_result"
    }
   ],
   "source": [
    "r = range(pipe, :(evo_tree_classifier.max_depth), lower=1, upper=10)\n",
    "\n",
    "curve = learning_curve(mach,\n",
    "                       range=r,\n",
    "                       resampling=CV(nfolds=6),\n",
    "                       measure=cross_entropy)\n",
    "\n",
    "plt = plot(curve.parameter_values, curve.measurements)\n",
    "xlabel!(plt, \"max_depth\")\n",
    "ylabel!(plt, \"CV estimate of cross entropy\")\n",
    "savefig(\"exercise_7c.png\")\n",
    "plt"
   ]
  },
  {
   "cell_type": "markdown",
   "metadata": {},
   "source": [
    "Here's a second curve using a different random seed for the booster:"
   ]
  },
  {
   "cell_type": "code",
   "execution_count": 184,
   "metadata": {},
   "outputs": [
    {
     "name": "stderr",
     "output_type": "stream",
     "text": [
      "┌ Info: Training Machine{ProbabilisticTunedModel{Grid,…},…}.\n",
      "└ @ MLJBase /Users/anthony/.julia/packages/MLJBase/HZmTU/src/machines.jl:403\n",
      "┌ Info: Attempting to evaluate 10 models.\n",
      "└ @ MLJTuning /Users/anthony/.julia/packages/MLJTuning/efiDR/src/tuned_models.jl:685\n",
      "\u001b[33mEvaluating over 10 metamodels: 100%[=========================] Time: 0:00:13\u001b[39m\n"
     ]
    },
    {
     "data": {
      "image/svg+xml": [
       "<?xml version=\"1.0\" encoding=\"utf-8\"?>\n",
       "<svg xmlns=\"http://www.w3.org/2000/svg\" xmlns:xlink=\"http://www.w3.org/1999/xlink\" width=\"490\" height=\"300\" viewBox=\"0 0 1960 1200\">\n",
       "<defs>\n",
       "  <clipPath id=\"clip390\">\n",
       "    <rect x=\"0\" y=\"0\" width=\"1960\" height=\"1200\"/>\n",
       "  </clipPath>\n",
       "</defs>\n",
       "<path clip-path=\"url(#clip390)\" d=\"\n",
       "M0 1200 L1960 1200 L1960 0 L0 0  Z\n",
       "  \" fill=\"#ffffff\" fill-rule=\"evenodd\" fill-opacity=\"1\"/>\n",
       "<defs>\n",
       "  <clipPath id=\"clip391\">\n",
       "    <rect x=\"392\" y=\"0\" width=\"1373\" height=\"1200\"/>\n",
       "  </clipPath>\n",
       "</defs>\n",
       "<path clip-path=\"url(#clip390)\" d=\"\n",
       "M241.263 1033.88 L1912.76 1033.88 L1912.76 47.2441 L241.263 47.2441  Z\n",
       "  \" fill=\"#ffffff\" fill-rule=\"evenodd\" fill-opacity=\"1\"/>\n",
       "<defs>\n",
       "  <clipPath id=\"clip392\">\n",
       "    <rect x=\"241\" y=\"47\" width=\"1672\" height=\"988\"/>\n",
       "  </clipPath>\n",
       "</defs>\n",
       "<polyline clip-path=\"url(#clip392)\" style=\"stroke:#000000; stroke-linecap:butt; stroke-linejoin:round; stroke-width:2; stroke-opacity:0.1; fill:none\" points=\"\n",
       "  463.778,1033.88 463.778,47.2441 \n",
       "  \"/>\n",
       "<polyline clip-path=\"url(#clip392)\" style=\"stroke:#000000; stroke-linecap:butt; stroke-linejoin:round; stroke-width:2; stroke-opacity:0.1; fill:none\" points=\"\n",
       "  814.196,1033.88 814.196,47.2441 \n",
       "  \"/>\n",
       "<polyline clip-path=\"url(#clip392)\" style=\"stroke:#000000; stroke-linecap:butt; stroke-linejoin:round; stroke-width:2; stroke-opacity:0.1; fill:none\" points=\"\n",
       "  1164.61,1033.88 1164.61,47.2441 \n",
       "  \"/>\n",
       "<polyline clip-path=\"url(#clip392)\" style=\"stroke:#000000; stroke-linecap:butt; stroke-linejoin:round; stroke-width:2; stroke-opacity:0.1; fill:none\" points=\"\n",
       "  1515.03,1033.88 1515.03,47.2441 \n",
       "  \"/>\n",
       "<polyline clip-path=\"url(#clip392)\" style=\"stroke:#000000; stroke-linecap:butt; stroke-linejoin:round; stroke-width:2; stroke-opacity:0.1; fill:none\" points=\"\n",
       "  1865.45,1033.88 1865.45,47.2441 \n",
       "  \"/>\n",
       "<polyline clip-path=\"url(#clip390)\" style=\"stroke:#000000; stroke-linecap:butt; stroke-linejoin:round; stroke-width:4; stroke-opacity:1; fill:none\" points=\"\n",
       "  241.263,1033.88 1912.76,1033.88 \n",
       "  \"/>\n",
       "<polyline clip-path=\"url(#clip390)\" style=\"stroke:#000000; stroke-linecap:butt; stroke-linejoin:round; stroke-width:4; stroke-opacity:1; fill:none\" points=\"\n",
       "  463.778,1033.88 463.778,1014.98 \n",
       "  \"/>\n",
       "<polyline clip-path=\"url(#clip390)\" style=\"stroke:#000000; stroke-linecap:butt; stroke-linejoin:round; stroke-width:4; stroke-opacity:1; fill:none\" points=\"\n",
       "  814.196,1033.88 814.196,1014.98 \n",
       "  \"/>\n",
       "<polyline clip-path=\"url(#clip390)\" style=\"stroke:#000000; stroke-linecap:butt; stroke-linejoin:round; stroke-width:4; stroke-opacity:1; fill:none\" points=\"\n",
       "  1164.61,1033.88 1164.61,1014.98 \n",
       "  \"/>\n",
       "<polyline clip-path=\"url(#clip390)\" style=\"stroke:#000000; stroke-linecap:butt; stroke-linejoin:round; stroke-width:4; stroke-opacity:1; fill:none\" points=\"\n",
       "  1515.03,1033.88 1515.03,1014.98 \n",
       "  \"/>\n",
       "<polyline clip-path=\"url(#clip390)\" style=\"stroke:#000000; stroke-linecap:butt; stroke-linejoin:round; stroke-width:4; stroke-opacity:1; fill:none\" points=\"\n",
       "  1865.45,1033.88 1865.45,1014.98 \n",
       "  \"/>\n",
       "<path clip-path=\"url(#clip390)\" d=\"M458.431 1088.83 L474.75 1088.83 L474.75 1092.76 L452.806 1092.76 L452.806 1088.83 Q455.468 1086.07 460.051 1081.44 Q464.658 1076.79 465.838 1075.45 Q468.084 1072.92 468.963 1071.19 Q469.866 1069.43 469.866 1067.74 Q469.866 1064.98 467.922 1063.25 Q466 1061.51 462.899 1061.51 Q460.699 1061.51 458.246 1062.27 Q455.815 1063.04 453.037 1064.59 L453.037 1059.87 Q455.862 1058.73 458.315 1058.15 Q460.769 1057.58 462.806 1057.58 Q468.176 1057.58 471.371 1060.26 Q474.565 1062.95 474.565 1067.44 Q474.565 1069.57 473.755 1071.49 Q472.968 1073.39 470.861 1075.98 Q470.283 1076.65 467.181 1079.87 Q464.079 1083.06 458.431 1088.83 Z\" fill=\"#000000\" fill-rule=\"evenodd\" fill-opacity=\"1\" /><path clip-path=\"url(#clip390)\" d=\"M817.205 1062.27 L805.4 1080.72 L817.205 1080.72 L817.205 1062.27 M815.978 1058.2 L821.858 1058.2 L821.858 1080.72 L826.789 1080.72 L826.789 1084.61 L821.858 1084.61 L821.858 1092.76 L817.205 1092.76 L817.205 1084.61 L801.603 1084.61 L801.603 1080.1 L815.978 1058.2 Z\" fill=\"#000000\" fill-rule=\"evenodd\" fill-opacity=\"1\" /><path clip-path=\"url(#clip390)\" d=\"M1165.02 1073.62 Q1161.87 1073.62 1160.02 1075.77 Q1158.19 1077.92 1158.19 1081.67 Q1158.19 1085.4 1160.02 1087.58 Q1161.87 1089.73 1165.02 1089.73 Q1168.17 1089.73 1170 1087.58 Q1171.85 1085.4 1171.85 1081.67 Q1171.85 1077.92 1170 1075.77 Q1168.17 1073.62 1165.02 1073.62 M1174.3 1058.96 L1174.3 1063.22 Q1172.54 1062.39 1170.74 1061.95 Q1168.95 1061.51 1167.19 1061.51 Q1162.57 1061.51 1160.11 1064.64 Q1157.68 1067.76 1157.33 1074.08 Q1158.7 1072.07 1160.76 1071 Q1162.82 1069.91 1165.3 1069.91 Q1170.51 1069.91 1173.51 1073.08 Q1176.55 1076.23 1176.55 1081.67 Q1176.55 1087 1173.4 1090.21 Q1170.25 1093.43 1165.02 1093.43 Q1159.02 1093.43 1155.85 1088.85 Q1152.68 1084.24 1152.68 1075.51 Q1152.68 1067.32 1156.57 1062.46 Q1160.46 1057.58 1167.01 1057.58 Q1168.77 1057.58 1170.55 1057.92 Q1172.36 1058.27 1174.3 1058.96 Z\" fill=\"#000000\" fill-rule=\"evenodd\" fill-opacity=\"1\" /><path clip-path=\"url(#clip390)\" d=\"M1515.03 1076.35 Q1511.7 1076.35 1509.78 1078.13 Q1507.88 1079.91 1507.88 1083.04 Q1507.88 1086.16 1509.78 1087.95 Q1511.7 1089.73 1515.03 1089.73 Q1518.36 1089.73 1520.29 1087.95 Q1522.21 1086.14 1522.21 1083.04 Q1522.21 1079.91 1520.29 1078.13 Q1518.39 1076.35 1515.03 1076.35 M1510.36 1074.36 Q1507.35 1073.62 1505.66 1071.56 Q1503.99 1069.5 1503.99 1066.53 Q1503.99 1062.39 1506.93 1059.98 Q1509.89 1057.58 1515.03 1057.58 Q1520.19 1057.58 1523.13 1059.98 Q1526.07 1062.39 1526.07 1066.53 Q1526.07 1069.5 1524.38 1071.56 Q1522.72 1073.62 1519.73 1074.36 Q1523.11 1075.14 1524.99 1077.44 Q1526.88 1079.73 1526.88 1083.04 Q1526.88 1088.06 1523.8 1090.75 Q1520.75 1093.43 1515.03 1093.43 Q1509.31 1093.43 1506.24 1090.75 Q1503.18 1088.06 1503.18 1083.04 Q1503.18 1079.73 1505.08 1077.44 Q1506.98 1075.14 1510.36 1074.36 M1508.64 1066.97 Q1508.64 1069.66 1510.31 1071.16 Q1512 1072.67 1515.03 1072.67 Q1518.04 1072.67 1519.73 1071.16 Q1521.44 1069.66 1521.44 1066.97 Q1521.44 1064.29 1519.73 1062.78 Q1518.04 1061.28 1515.03 1061.28 Q1512 1061.28 1510.31 1062.78 Q1508.64 1064.29 1508.64 1066.97 Z\" fill=\"#000000\" fill-rule=\"evenodd\" fill-opacity=\"1\" /><path clip-path=\"url(#clip390)\" d=\"M1840.14 1088.83 L1847.78 1088.83 L1847.78 1062.46 L1839.47 1064.13 L1839.47 1059.87 L1847.73 1058.2 L1852.41 1058.2 L1852.41 1088.83 L1860.04 1088.83 L1860.04 1092.76 L1840.14 1092.76 L1840.14 1088.83 Z\" fill=\"#000000\" fill-rule=\"evenodd\" fill-opacity=\"1\" /><path clip-path=\"url(#clip390)\" d=\"M1879.49 1061.28 Q1875.88 1061.28 1874.05 1064.84 Q1872.24 1068.39 1872.24 1075.51 Q1872.24 1082.62 1874.05 1086.19 Q1875.88 1089.73 1879.49 1089.73 Q1883.12 1089.73 1884.93 1086.19 Q1886.76 1082.62 1886.76 1075.51 Q1886.76 1068.39 1884.93 1064.84 Q1883.12 1061.28 1879.49 1061.28 M1879.49 1057.58 Q1885.3 1057.58 1888.35 1062.18 Q1891.43 1066.77 1891.43 1075.51 Q1891.43 1084.24 1888.35 1088.85 Q1885.3 1093.43 1879.49 1093.43 Q1873.68 1093.43 1870.6 1088.85 Q1867.54 1084.24 1867.54 1075.51 Q1867.54 1066.77 1870.6 1062.18 Q1873.68 1057.58 1879.49 1057.58 Z\" fill=\"#000000\" fill-rule=\"evenodd\" fill-opacity=\"1\" /><path clip-path=\"url(#clip390)\" d=\"M928.545 1143.34 Q930.741 1139.39 933.797 1137.51 Q936.852 1135.64 940.99 1135.64 Q946.56 1135.64 949.584 1139.55 Q952.608 1143.43 952.608 1150.63 L952.608 1172.14 L946.719 1172.14 L946.719 1150.82 Q946.719 1145.69 944.905 1143.21 Q943.091 1140.73 939.367 1140.73 Q934.815 1140.73 932.174 1143.75 Q929.532 1146.78 929.532 1152 L929.532 1172.14 L923.644 1172.14 L923.644 1150.82 Q923.644 1145.66 921.829 1143.21 Q920.015 1140.73 916.228 1140.73 Q911.74 1140.73 909.098 1143.79 Q906.456 1146.81 906.456 1152 L906.456 1172.14 L900.568 1172.14 L900.568 1136.5 L906.456 1136.5 L906.456 1142.03 Q908.461 1138.76 911.262 1137.2 Q914.063 1135.64 917.914 1135.64 Q921.798 1135.64 924.503 1137.61 Q927.24 1139.58 928.545 1143.34 Z\" fill=\"#000000\" fill-rule=\"evenodd\" fill-opacity=\"1\" /><path clip-path=\"url(#clip390)\" d=\"M980.489 1154.22 Q973.392 1154.22 970.654 1155.85 Q967.917 1157.47 967.917 1161.39 Q967.917 1164.51 969.954 1166.35 Q972.023 1168.17 975.556 1168.17 Q980.426 1168.17 983.354 1164.73 Q986.314 1161.26 986.314 1155.53 L986.314 1154.22 L980.489 1154.22 M992.17 1151.81 L992.17 1172.14 L986.314 1172.14 L986.314 1166.73 Q984.309 1169.98 981.317 1171.54 Q978.325 1173.07 973.996 1173.07 Q968.522 1173.07 965.275 1170.01 Q962.061 1166.92 962.061 1161.77 Q962.061 1155.75 966.071 1152.7 Q970.113 1149.64 978.102 1149.64 L986.314 1149.64 L986.314 1149.07 Q986.314 1145.03 983.64 1142.83 Q980.999 1140.6 976.192 1140.6 Q973.137 1140.6 970.241 1141.33 Q967.344 1142.07 964.671 1143.53 L964.671 1138.12 Q967.885 1136.88 970.909 1136.27 Q973.933 1135.64 976.797 1135.64 Q984.532 1135.64 988.351 1139.65 Q992.17 1143.66 992.17 1151.81 Z\" fill=\"#000000\" fill-rule=\"evenodd\" fill-opacity=\"1\" /><path clip-path=\"url(#clip390)\" d=\"M1033.87 1136.5 L1020.98 1153.84 L1034.53 1172.14 L1027.63 1172.14 L1017.25 1158.14 L1006.88 1172.14 L999.968 1172.14 L1013.81 1153.49 L1001.15 1136.5 L1008.05 1136.5 L1017.51 1149.2 L1026.96 1136.5 L1033.87 1136.5 Z\" fill=\"#000000\" fill-rule=\"evenodd\" fill-opacity=\"1\" /><path clip-path=\"url(#clip390)\" d=\"M1069.9 1182.97 L1069.9 1187.52 L1036.03 1187.52 L1036.03 1182.97 L1069.9 1182.97 Z\" fill=\"#000000\" fill-rule=\"evenodd\" fill-opacity=\"1\" /><path clip-path=\"url(#clip390)\" d=\"M1098.86 1141.91 L1098.86 1122.62 L1104.72 1122.62 L1104.72 1172.14 L1098.86 1172.14 L1098.86 1166.8 Q1097.01 1169.98 1094.18 1171.54 Q1091.38 1173.07 1087.43 1173.07 Q1080.97 1173.07 1076.9 1167.91 Q1072.86 1162.75 1072.86 1154.35 Q1072.86 1145.95 1076.9 1140.79 Q1080.97 1135.64 1087.43 1135.64 Q1091.38 1135.64 1094.18 1137.2 Q1097.01 1138.72 1098.86 1141.91 M1078.9 1154.35 Q1078.9 1160.81 1081.54 1164.51 Q1084.22 1168.17 1088.87 1168.17 Q1093.51 1168.17 1096.19 1164.51 Q1098.86 1160.81 1098.86 1154.35 Q1098.86 1147.89 1096.19 1144.23 Q1093.51 1140.54 1088.87 1140.54 Q1084.22 1140.54 1081.54 1144.23 Q1078.9 1147.89 1078.9 1154.35 Z\" fill=\"#000000\" fill-rule=\"evenodd\" fill-opacity=\"1\" /><path clip-path=\"url(#clip390)\" d=\"M1147.27 1152.86 L1147.27 1155.72 L1120.34 1155.72 Q1120.73 1161.77 1123.97 1164.95 Q1127.25 1168.1 1133.08 1168.1 Q1136.45 1168.1 1139.6 1167.27 Q1142.78 1166.45 1145.9 1164.79 L1145.9 1170.33 Q1142.75 1171.67 1139.44 1172.37 Q1136.13 1173.07 1132.73 1173.07 Q1124.2 1173.07 1119.2 1168.1 Q1114.23 1163.14 1114.23 1154.67 Q1114.23 1145.92 1118.94 1140.79 Q1123.69 1135.64 1131.71 1135.64 Q1138.9 1135.64 1143.07 1140.28 Q1147.27 1144.9 1147.27 1152.86 M1141.41 1151.14 Q1141.35 1146.33 1138.71 1143.47 Q1136.1 1140.6 1131.77 1140.6 Q1126.87 1140.6 1123.91 1143.37 Q1120.98 1146.14 1120.53 1151.17 L1141.41 1151.14 Z\" fill=\"#000000\" fill-rule=\"evenodd\" fill-opacity=\"1\" /><path clip-path=\"url(#clip390)\" d=\"M1162.55 1166.8 L1162.55 1185.7 L1156.66 1185.7 L1156.66 1136.5 L1162.55 1136.5 L1162.55 1141.91 Q1164.39 1138.72 1167.2 1137.2 Q1170.03 1135.64 1173.94 1135.64 Q1180.44 1135.64 1184.48 1140.79 Q1188.55 1145.95 1188.55 1154.35 Q1188.55 1162.75 1184.48 1167.91 Q1180.44 1173.07 1173.94 1173.07 Q1170.03 1173.07 1167.2 1171.54 Q1164.39 1169.98 1162.55 1166.8 M1182.47 1154.35 Q1182.47 1147.89 1179.8 1144.23 Q1177.16 1140.54 1172.51 1140.54 Q1167.86 1140.54 1165.19 1144.23 Q1162.55 1147.89 1162.55 1154.35 Q1162.55 1160.81 1165.19 1164.51 Q1167.86 1168.17 1172.51 1168.17 Q1177.16 1168.17 1179.8 1164.51 Q1182.47 1160.81 1182.47 1154.35 Z\" fill=\"#000000\" fill-rule=\"evenodd\" fill-opacity=\"1\" /><path clip-path=\"url(#clip390)\" d=\"M1204.05 1126.37 L1204.05 1136.5 L1216.12 1136.5 L1216.12 1141.05 L1204.05 1141.05 L1204.05 1160.4 Q1204.05 1164.76 1205.23 1166 Q1206.44 1167.24 1210.1 1167.24 L1216.12 1167.24 L1216.12 1172.14 L1210.1 1172.14 Q1203.32 1172.14 1200.74 1169.63 Q1198.16 1167.08 1198.16 1160.4 L1198.16 1141.05 L1193.87 1141.05 L1193.87 1136.5 L1198.16 1136.5 L1198.16 1126.37 L1204.05 1126.37 Z\" fill=\"#000000\" fill-rule=\"evenodd\" fill-opacity=\"1\" /><path clip-path=\"url(#clip390)\" d=\"M1253.45 1150.63 L1253.45 1172.14 L1247.59 1172.14 L1247.59 1150.82 Q1247.59 1145.76 1245.62 1143.24 Q1243.65 1140.73 1239.7 1140.73 Q1234.96 1140.73 1232.22 1143.75 Q1229.48 1146.78 1229.48 1152 L1229.48 1172.14 L1223.6 1172.14 L1223.6 1122.62 L1229.48 1122.62 L1229.48 1142.03 Q1231.58 1138.82 1234.42 1137.23 Q1237.28 1135.64 1241.01 1135.64 Q1247.15 1135.64 1250.3 1139.46 Q1253.45 1143.24 1253.45 1150.63 Z\" fill=\"#000000\" fill-rule=\"evenodd\" fill-opacity=\"1\" /><polyline clip-path=\"url(#clip392)\" style=\"stroke:#000000; stroke-linecap:butt; stroke-linejoin:round; stroke-width:2; stroke-opacity:0.1; fill:none\" points=\"\n",
       "  241.263,892.147 1912.76,892.147 \n",
       "  \"/>\n",
       "<polyline clip-path=\"url(#clip392)\" style=\"stroke:#000000; stroke-linecap:butt; stroke-linejoin:round; stroke-width:2; stroke-opacity:0.1; fill:none\" points=\"\n",
       "  241.263,715.765 1912.76,715.765 \n",
       "  \"/>\n",
       "<polyline clip-path=\"url(#clip392)\" style=\"stroke:#000000; stroke-linecap:butt; stroke-linejoin:round; stroke-width:2; stroke-opacity:0.1; fill:none\" points=\"\n",
       "  241.263,539.382 1912.76,539.382 \n",
       "  \"/>\n",
       "<polyline clip-path=\"url(#clip392)\" style=\"stroke:#000000; stroke-linecap:butt; stroke-linejoin:round; stroke-width:2; stroke-opacity:0.1; fill:none\" points=\"\n",
       "  241.263,363 1912.76,363 \n",
       "  \"/>\n",
       "<polyline clip-path=\"url(#clip392)\" style=\"stroke:#000000; stroke-linecap:butt; stroke-linejoin:round; stroke-width:2; stroke-opacity:0.1; fill:none\" points=\"\n",
       "  241.263,186.618 1912.76,186.618 \n",
       "  \"/>\n",
       "<polyline clip-path=\"url(#clip390)\" style=\"stroke:#000000; stroke-linecap:butt; stroke-linejoin:round; stroke-width:4; stroke-opacity:1; fill:none\" points=\"\n",
       "  241.263,1033.88 241.263,47.2441 \n",
       "  \"/>\n",
       "<polyline clip-path=\"url(#clip390)\" style=\"stroke:#000000; stroke-linecap:butt; stroke-linejoin:round; stroke-width:4; stroke-opacity:1; fill:none\" points=\"\n",
       "  241.263,892.147 260.16,892.147 \n",
       "  \"/>\n",
       "<polyline clip-path=\"url(#clip390)\" style=\"stroke:#000000; stroke-linecap:butt; stroke-linejoin:round; stroke-width:4; stroke-opacity:1; fill:none\" points=\"\n",
       "  241.263,715.765 260.16,715.765 \n",
       "  \"/>\n",
       "<polyline clip-path=\"url(#clip390)\" style=\"stroke:#000000; stroke-linecap:butt; stroke-linejoin:round; stroke-width:4; stroke-opacity:1; fill:none\" points=\"\n",
       "  241.263,539.382 260.16,539.382 \n",
       "  \"/>\n",
       "<polyline clip-path=\"url(#clip390)\" style=\"stroke:#000000; stroke-linecap:butt; stroke-linejoin:round; stroke-width:4; stroke-opacity:1; fill:none\" points=\"\n",
       "  241.263,363 260.16,363 \n",
       "  \"/>\n",
       "<polyline clip-path=\"url(#clip390)\" style=\"stroke:#000000; stroke-linecap:butt; stroke-linejoin:round; stroke-width:4; stroke-opacity:1; fill:none\" points=\"\n",
       "  241.263,186.618 260.16,186.618 \n",
       "  \"/>\n",
       "<path clip-path=\"url(#clip390)\" d=\"M124.525 877.946 Q120.914 877.946 119.086 881.511 Q117.28 885.052 117.28 892.182 Q117.28 899.288 119.086 902.853 Q120.914 906.395 124.525 906.395 Q128.16 906.395 129.965 902.853 Q131.794 899.288 131.794 892.182 Q131.794 885.052 129.965 881.511 Q128.16 877.946 124.525 877.946 M124.525 874.242 Q130.336 874.242 133.391 878.849 Q136.47 883.432 136.47 892.182 Q136.47 900.909 133.391 905.515 Q130.336 910.098 124.525 910.098 Q118.715 910.098 115.637 905.515 Q112.581 900.909 112.581 892.182 Q112.581 883.432 115.637 878.849 Q118.715 874.242 124.525 874.242 Z\" fill=\"#000000\" fill-rule=\"evenodd\" fill-opacity=\"1\" /><path clip-path=\"url(#clip390)\" d=\"M144.687 903.548 L149.572 903.548 L149.572 909.427 L144.687 909.427 L144.687 903.548 Z\" fill=\"#000000\" fill-rule=\"evenodd\" fill-opacity=\"1\" /><path clip-path=\"url(#clip390)\" d=\"M169.757 893.015 Q166.423 893.015 164.502 894.798 Q162.604 896.58 162.604 899.705 Q162.604 902.83 164.502 904.612 Q166.423 906.395 169.757 906.395 Q173.09 906.395 175.011 904.612 Q176.932 902.807 176.932 899.705 Q176.932 896.58 175.011 894.798 Q173.113 893.015 169.757 893.015 M165.081 891.024 Q162.071 890.284 160.382 888.224 Q158.715 886.163 158.715 883.2 Q158.715 879.057 161.655 876.65 Q164.618 874.242 169.757 874.242 Q174.919 874.242 177.858 876.65 Q180.798 879.057 180.798 883.2 Q180.798 886.163 179.108 888.224 Q177.442 890.284 174.456 891.024 Q177.835 891.811 179.71 894.103 Q181.608 896.395 181.608 899.705 Q181.608 904.728 178.53 907.413 Q175.474 910.098 169.757 910.098 Q164.039 910.098 160.96 907.413 Q157.905 904.728 157.905 899.705 Q157.905 896.395 159.803 894.103 Q161.701 891.811 165.081 891.024 M163.368 883.64 Q163.368 886.325 165.034 887.83 Q166.724 889.335 169.757 889.335 Q172.766 889.335 174.456 887.83 Q176.169 886.325 176.169 883.64 Q176.169 880.955 174.456 879.45 Q172.766 877.946 169.757 877.946 Q166.724 877.946 165.034 879.45 Q163.368 880.955 163.368 883.64 Z\" fill=\"#000000\" fill-rule=\"evenodd\" fill-opacity=\"1\" /><path clip-path=\"url(#clip390)\" d=\"M199.918 877.946 Q196.307 877.946 194.479 881.511 Q192.673 885.052 192.673 892.182 Q192.673 899.288 194.479 902.853 Q196.307 906.395 199.918 906.395 Q203.553 906.395 205.358 902.853 Q207.187 899.288 207.187 892.182 Q207.187 885.052 205.358 881.511 Q203.553 877.946 199.918 877.946 M199.918 874.242 Q205.729 874.242 208.784 878.849 Q211.863 883.432 211.863 892.182 Q211.863 900.909 208.784 905.515 Q205.729 910.098 199.918 910.098 Q194.108 910.098 191.03 905.515 Q187.974 900.909 187.974 892.182 Q187.974 883.432 191.03 878.849 Q194.108 874.242 199.918 874.242 Z\" fill=\"#000000\" fill-rule=\"evenodd\" fill-opacity=\"1\" /><path clip-path=\"url(#clip390)\" d=\"M125.521 701.563 Q121.91 701.563 120.081 705.128 Q118.275 708.67 118.275 715.799 Q118.275 722.906 120.081 726.471 Q121.91 730.012 125.521 730.012 Q129.155 730.012 130.961 726.471 Q132.789 722.906 132.789 715.799 Q132.789 708.67 130.961 705.128 Q129.155 701.563 125.521 701.563 M125.521 697.86 Q131.331 697.86 134.386 702.466 Q137.465 707.05 137.465 715.799 Q137.465 724.526 134.386 729.133 Q131.331 733.716 125.521 733.716 Q119.711 733.716 116.632 729.133 Q113.576 724.526 113.576 715.799 Q113.576 707.05 116.632 702.466 Q119.711 697.86 125.521 697.86 Z\" fill=\"#000000\" fill-rule=\"evenodd\" fill-opacity=\"1\" /><path clip-path=\"url(#clip390)\" d=\"M145.683 727.165 L150.567 727.165 L150.567 733.045 L145.683 733.045 L145.683 727.165 Z\" fill=\"#000000\" fill-rule=\"evenodd\" fill-opacity=\"1\" /><path clip-path=\"url(#clip390)\" d=\"M170.752 716.633 Q167.419 716.633 165.497 718.415 Q163.599 720.198 163.599 723.323 Q163.599 726.448 165.497 728.23 Q167.419 730.012 170.752 730.012 Q174.085 730.012 176.007 728.23 Q177.928 726.424 177.928 723.323 Q177.928 720.198 176.007 718.415 Q174.108 716.633 170.752 716.633 M166.076 714.642 Q163.067 713.901 161.377 711.841 Q159.71 709.781 159.71 706.818 Q159.71 702.675 162.65 700.267 Q165.613 697.86 170.752 697.86 Q175.914 697.86 178.854 700.267 Q181.794 702.675 181.794 706.818 Q181.794 709.781 180.104 711.841 Q178.437 713.901 175.451 714.642 Q178.831 715.429 180.706 717.721 Q182.604 720.012 182.604 723.323 Q182.604 728.346 179.525 731.031 Q176.47 733.716 170.752 733.716 Q165.034 733.716 161.956 731.031 Q158.9 728.346 158.9 723.323 Q158.9 720.012 160.798 717.721 Q162.696 715.429 166.076 714.642 M164.363 707.258 Q164.363 709.943 166.03 711.448 Q167.72 712.952 170.752 712.952 Q173.761 712.952 175.451 711.448 Q177.164 709.943 177.164 707.258 Q177.164 704.573 175.451 703.068 Q173.761 701.563 170.752 701.563 Q167.72 701.563 166.03 703.068 Q164.363 704.573 164.363 707.258 Z\" fill=\"#000000\" fill-rule=\"evenodd\" fill-opacity=\"1\" /><path clip-path=\"url(#clip390)\" d=\"M190.96 698.485 L209.317 698.485 L209.317 702.42 L195.243 702.42 L195.243 710.892 Q196.261 710.545 197.28 710.383 Q198.298 710.198 199.317 710.198 Q205.104 710.198 208.483 713.369 Q211.863 716.54 211.863 721.957 Q211.863 727.536 208.391 730.637 Q204.918 733.716 198.599 733.716 Q196.423 733.716 194.155 733.346 Q191.909 732.975 189.502 732.235 L189.502 727.536 Q191.585 728.67 193.807 729.225 Q196.03 729.781 198.506 729.781 Q202.511 729.781 204.849 727.674 Q207.187 725.568 207.187 721.957 Q207.187 718.346 204.849 716.239 Q202.511 714.133 198.506 714.133 Q196.631 714.133 194.756 714.549 Q192.905 714.966 190.96 715.846 L190.96 698.485 Z\" fill=\"#000000\" fill-rule=\"evenodd\" fill-opacity=\"1\" /><path clip-path=\"url(#clip390)\" d=\"M124.525 525.181 Q120.914 525.181 119.086 528.746 Q117.28 532.288 117.28 539.417 Q117.28 546.524 119.086 550.088 Q120.914 553.63 124.525 553.63 Q128.16 553.63 129.965 550.088 Q131.794 546.524 131.794 539.417 Q131.794 532.288 129.965 528.746 Q128.16 525.181 124.525 525.181 M124.525 521.477 Q130.336 521.477 133.391 526.084 Q136.47 530.667 136.47 539.417 Q136.47 548.144 133.391 552.75 Q130.336 557.334 124.525 557.334 Q118.715 557.334 115.637 552.75 Q112.581 548.144 112.581 539.417 Q112.581 530.667 115.637 526.084 Q118.715 521.477 124.525 521.477 Z\" fill=\"#000000\" fill-rule=\"evenodd\" fill-opacity=\"1\" /><path clip-path=\"url(#clip390)\" d=\"M144.687 550.783 L149.572 550.783 L149.572 556.662 L144.687 556.662 L144.687 550.783 Z\" fill=\"#000000\" fill-rule=\"evenodd\" fill-opacity=\"1\" /><path clip-path=\"url(#clip390)\" d=\"M159.896 555.945 L159.896 551.686 Q161.655 552.519 163.46 552.959 Q165.266 553.398 167.002 553.398 Q171.632 553.398 174.062 550.297 Q176.516 547.172 176.863 540.829 Q175.52 542.82 173.46 543.885 Q171.4 544.949 168.9 544.949 Q163.715 544.949 160.683 541.824 Q157.673 538.676 157.673 533.237 Q157.673 527.913 160.821 524.695 Q163.97 521.477 169.201 521.477 Q175.196 521.477 178.345 526.084 Q181.516 530.667 181.516 539.417 Q181.516 547.588 177.627 552.473 Q173.761 557.334 167.21 557.334 Q165.451 557.334 163.646 556.986 Q161.84 556.639 159.896 555.945 M169.201 541.292 Q172.349 541.292 174.178 539.139 Q176.03 536.987 176.03 533.237 Q176.03 529.51 174.178 527.357 Q172.349 525.181 169.201 525.181 Q166.053 525.181 164.201 527.357 Q162.372 529.51 162.372 533.237 Q162.372 536.987 164.201 539.139 Q166.053 541.292 169.201 541.292 Z\" fill=\"#000000\" fill-rule=\"evenodd\" fill-opacity=\"1\" /><path clip-path=\"url(#clip390)\" d=\"M199.918 525.181 Q196.307 525.181 194.479 528.746 Q192.673 532.288 192.673 539.417 Q192.673 546.524 194.479 550.088 Q196.307 553.63 199.918 553.63 Q203.553 553.63 205.358 550.088 Q207.187 546.524 207.187 539.417 Q207.187 532.288 205.358 528.746 Q203.553 525.181 199.918 525.181 M199.918 521.477 Q205.729 521.477 208.784 526.084 Q211.863 530.667 211.863 539.417 Q211.863 548.144 208.784 552.75 Q205.729 557.334 199.918 557.334 Q194.108 557.334 191.03 552.75 Q187.974 548.144 187.974 539.417 Q187.974 530.667 191.03 526.084 Q194.108 521.477 199.918 521.477 Z\" fill=\"#000000\" fill-rule=\"evenodd\" fill-opacity=\"1\" /><path clip-path=\"url(#clip390)\" d=\"M125.521 348.799 Q121.91 348.799 120.081 352.363 Q118.275 355.905 118.275 363.035 Q118.275 370.141 120.081 373.706 Q121.91 377.248 125.521 377.248 Q129.155 377.248 130.961 373.706 Q132.789 370.141 132.789 363.035 Q132.789 355.905 130.961 352.363 Q129.155 348.799 125.521 348.799 M125.521 345.095 Q131.331 345.095 134.386 349.701 Q137.465 354.285 137.465 363.035 Q137.465 371.762 134.386 376.368 Q131.331 380.951 125.521 380.951 Q119.711 380.951 116.632 376.368 Q113.576 371.762 113.576 363.035 Q113.576 354.285 116.632 349.701 Q119.711 345.095 125.521 345.095 Z\" fill=\"#000000\" fill-rule=\"evenodd\" fill-opacity=\"1\" /><path clip-path=\"url(#clip390)\" d=\"M145.683 374.4 L150.567 374.4 L150.567 380.28 L145.683 380.28 L145.683 374.4 Z\" fill=\"#000000\" fill-rule=\"evenodd\" fill-opacity=\"1\" /><path clip-path=\"url(#clip390)\" d=\"M160.891 379.562 L160.891 375.303 Q162.65 376.137 164.456 376.576 Q166.261 377.016 167.997 377.016 Q172.627 377.016 175.057 373.914 Q177.511 370.789 177.858 364.447 Q176.516 366.437 174.456 367.502 Q172.395 368.567 169.895 368.567 Q164.71 368.567 161.678 365.442 Q158.669 362.294 158.669 356.854 Q158.669 351.53 161.817 348.313 Q164.965 345.095 170.196 345.095 Q176.192 345.095 179.34 349.701 Q182.511 354.285 182.511 363.035 Q182.511 371.206 178.622 376.09 Q174.757 380.951 168.206 380.951 Q166.446 380.951 164.641 380.604 Q162.835 380.257 160.891 379.562 M170.196 364.91 Q173.345 364.91 175.173 362.757 Q177.025 360.604 177.025 356.854 Q177.025 353.127 175.173 350.975 Q173.345 348.799 170.196 348.799 Q167.048 348.799 165.196 350.975 Q163.368 353.127 163.368 356.854 Q163.368 360.604 165.196 362.757 Q167.048 364.91 170.196 364.91 Z\" fill=\"#000000\" fill-rule=\"evenodd\" fill-opacity=\"1\" /><path clip-path=\"url(#clip390)\" d=\"M190.96 345.72 L209.317 345.72 L209.317 349.655 L195.243 349.655 L195.243 358.127 Q196.261 357.78 197.28 357.618 Q198.298 357.433 199.317 357.433 Q205.104 357.433 208.483 360.604 Q211.863 363.775 211.863 369.192 Q211.863 374.771 208.391 377.873 Q204.918 380.951 198.599 380.951 Q196.423 380.951 194.155 380.581 Q191.909 380.211 189.502 379.47 L189.502 374.771 Q191.585 375.905 193.807 376.461 Q196.03 377.016 198.506 377.016 Q202.511 377.016 204.849 374.91 Q207.187 372.803 207.187 369.192 Q207.187 365.581 204.849 363.475 Q202.511 361.368 198.506 361.368 Q196.631 361.368 194.756 361.785 Q192.905 362.201 190.96 363.081 L190.96 345.72 Z\" fill=\"#000000\" fill-rule=\"evenodd\" fill-opacity=\"1\" /><path clip-path=\"url(#clip390)\" d=\"M115.336 199.962 L122.974 199.962 L122.974 173.597 L114.664 175.264 L114.664 171.004 L122.928 169.338 L127.604 169.338 L127.604 199.962 L135.243 199.962 L135.243 203.898 L115.336 203.898 L115.336 199.962 Z\" fill=\"#000000\" fill-rule=\"evenodd\" fill-opacity=\"1\" /><path clip-path=\"url(#clip390)\" d=\"M144.687 198.018 L149.572 198.018 L149.572 203.898 L144.687 203.898 L144.687 198.018 Z\" fill=\"#000000\" fill-rule=\"evenodd\" fill-opacity=\"1\" /><path clip-path=\"url(#clip390)\" d=\"M169.757 172.416 Q166.146 172.416 164.317 175.981 Q162.511 179.523 162.511 186.652 Q162.511 193.759 164.317 197.324 Q166.146 200.865 169.757 200.865 Q173.391 200.865 175.196 197.324 Q177.025 193.759 177.025 186.652 Q177.025 179.523 175.196 175.981 Q173.391 172.416 169.757 172.416 M169.757 168.713 Q175.567 168.713 178.622 173.319 Q181.701 177.902 181.701 186.652 Q181.701 195.379 178.622 199.986 Q175.567 204.569 169.757 204.569 Q163.946 204.569 160.868 199.986 Q157.812 195.379 157.812 186.652 Q157.812 177.902 160.868 173.319 Q163.946 168.713 169.757 168.713 Z\" fill=\"#000000\" fill-rule=\"evenodd\" fill-opacity=\"1\" /><path clip-path=\"url(#clip390)\" d=\"M199.918 172.416 Q196.307 172.416 194.479 175.981 Q192.673 179.523 192.673 186.652 Q192.673 193.759 194.479 197.324 Q196.307 200.865 199.918 200.865 Q203.553 200.865 205.358 197.324 Q207.187 193.759 207.187 186.652 Q207.187 179.523 205.358 175.981 Q203.553 172.416 199.918 172.416 M199.918 168.713 Q205.729 168.713 208.784 173.319 Q211.863 177.902 211.863 186.652 Q211.863 195.379 208.784 199.986 Q205.729 204.569 199.918 204.569 Q194.108 204.569 191.03 199.986 Q187.974 195.379 187.974 186.652 Q187.974 177.902 191.03 173.319 Q194.108 168.713 199.918 168.713 Z\" fill=\"#000000\" fill-rule=\"evenodd\" fill-opacity=\"1\" /><path clip-path=\"url(#clip390)\" d=\"M25.0653 971.361 L31.8447 971.361 Q28.821 974.608 27.3251 978.3 Q25.8291 981.96 25.8291 986.098 Q25.8291 994.246 30.8262 998.575 Q35.7915 1002.9 45.2127 1002.9 Q54.6021 1002.9 59.5992 998.575 Q64.5645 994.246 64.5645 986.098 Q64.5645 981.96 63.0685 978.3 Q61.5726 974.608 58.5489 971.361 L65.2647 971.361 Q67.5563 974.735 68.7022 978.523 Q69.848 982.279 69.848 986.48 Q69.848 997.27 63.2595 1003.48 Q56.6392 1009.68 45.2127 1009.68 Q33.7544 1009.68 27.1659 1003.48 Q20.5456 997.27 20.5456 986.48 Q20.5456 982.215 21.6914 978.459 Q22.8054 974.672 25.0653 971.361 Z\" fill=\"#000000\" fill-rule=\"evenodd\" fill-opacity=\"1\" /><path clip-path=\"url(#clip390)\" d=\"M68.925 949.177 L21.405 967.319 L21.405 960.603 L61.4134 945.548 L21.405 930.462 L21.405 923.778 L68.925 941.888 L68.925 949.177 Z\" fill=\"#000000\" fill-rule=\"evenodd\" fill-opacity=\"1\" /><path clip-path=\"url(#clip390)\" d=\"M49.6369 865.882 L52.5015 865.882 L52.5015 892.809 Q58.5489 892.427 61.7317 889.18 Q64.8828 885.902 64.8828 880.077 Q64.8828 876.703 64.0552 873.552 Q63.2277 870.369 61.5726 867.25 L67.1107 867.25 Q68.4475 870.401 69.1478 873.711 Q69.848 877.022 69.848 880.427 Q69.848 888.957 64.8828 893.954 Q59.9175 898.92 51.4511 898.92 Q42.6983 898.92 37.5739 894.209 Q32.4176 889.467 32.4176 881.446 Q32.4176 874.253 37.0646 870.083 Q41.6797 865.882 49.6369 865.882 M47.9181 871.738 Q43.112 871.802 40.2475 874.443 Q37.3829 877.053 37.3829 881.382 Q37.3829 886.284 40.152 889.244 Q42.9211 892.172 47.95 892.618 L47.9181 871.738 Z\" fill=\"#000000\" fill-rule=\"evenodd\" fill-opacity=\"1\" /><path clip-path=\"url(#clip390)\" d=\"M34.3274 833.544 L39.8655 833.544 Q38.5924 836.026 37.9558 838.7 Q37.3192 841.374 37.3192 844.238 Q37.3192 848.599 38.656 850.795 Q39.9928 852.959 42.6664 852.959 Q44.7035 852.959 45.8811 851.4 Q47.0269 849.84 48.0773 845.129 L48.5229 843.124 Q49.8597 836.886 52.3105 834.276 Q54.7294 831.634 59.09 831.634 Q64.0552 831.634 66.9516 835.581 Q69.848 839.496 69.848 846.371 Q69.848 849.235 69.2751 852.354 Q68.734 855.442 67.62 858.879 L61.5726 858.879 Q63.2595 855.633 64.1189 852.482 Q64.9464 849.331 64.9464 846.243 Q64.9464 842.106 63.546 839.878 Q62.1137 837.65 59.5356 837.65 Q57.1484 837.65 55.8753 839.273 Q54.6021 840.864 53.4245 846.307 L52.9471 848.344 Q51.8012 853.787 49.4459 856.206 Q47.0588 858.625 42.9211 858.625 Q37.8922 858.625 35.1549 855.06 Q32.4176 851.495 32.4176 844.938 Q32.4176 841.692 32.8951 838.827 Q33.3725 835.963 34.3274 833.544 Z\" fill=\"#000000\" fill-rule=\"evenodd\" fill-opacity=\"1\" /><path clip-path=\"url(#clip390)\" d=\"M23.1555 816.516 L33.277 816.516 L33.277 804.453 L37.8285 804.453 L37.8285 816.516 L57.1802 816.516 Q61.5408 816.516 62.7821 815.338 Q64.0234 814.128 64.0234 810.468 L64.0234 804.453 L68.925 804.453 L68.925 810.468 Q68.925 817.248 66.4105 819.826 Q63.8642 822.404 57.1802 822.404 L37.8285 822.404 L37.8285 826.701 L33.277 826.701 L33.277 822.404 L23.1555 822.404 L23.1555 816.516 Z\" fill=\"#000000\" fill-rule=\"evenodd\" fill-opacity=\"1\" /><path clip-path=\"url(#clip390)\" d=\"M33.277 796.75 L33.277 790.894 L68.925 790.894 L68.925 796.75 L33.277 796.75 M19.3998 796.75 L19.3998 790.894 L26.8158 790.894 L26.8158 796.75 L19.3998 796.75 Z\" fill=\"#000000\" fill-rule=\"evenodd\" fill-opacity=\"1\" /><path clip-path=\"url(#clip390)\" d=\"M40.1202 750.885 Q36.1734 748.689 34.2955 745.633 Q32.4176 742.578 32.4176 738.44 Q32.4176 732.87 36.3326 729.846 Q40.2156 726.823 47.4089 726.823 L68.925 726.823 L68.925 732.711 L47.5999 732.711 Q42.4755 732.711 39.9928 734.525 Q37.5102 736.339 37.5102 740.063 Q37.5102 744.615 40.5339 747.257 Q43.5576 749.898 48.7775 749.898 L68.925 749.898 L68.925 755.787 L47.5999 755.787 Q42.4436 755.787 39.9928 757.601 Q37.5102 759.415 37.5102 763.203 Q37.5102 767.691 40.5658 770.332 Q43.5895 772.974 48.7775 772.974 L68.925 772.974 L68.925 778.862 L33.277 778.862 L33.277 772.974 L38.8152 772.974 Q35.5368 770.969 33.9772 768.168 Q32.4176 765.367 32.4176 761.516 Q32.4176 757.633 34.391 754.927 Q36.3644 752.19 40.1202 750.885 Z\" fill=\"#000000\" fill-rule=\"evenodd\" fill-opacity=\"1\" /><path clip-path=\"url(#clip390)\" d=\"M51.0055 698.941 Q51.0055 706.039 52.6288 708.776 Q54.252 711.513 58.1669 711.513 Q61.2861 711.513 63.1322 709.476 Q64.9464 707.407 64.9464 703.874 Q64.9464 699.005 61.5089 696.076 Q58.0396 693.116 52.3105 693.116 L51.0055 693.116 L51.0055 698.941 M48.5865 687.26 L68.925 687.26 L68.925 693.116 L63.5141 693.116 Q66.7606 695.122 68.3202 698.113 Q69.848 701.105 69.848 705.434 Q69.848 710.908 66.7925 714.155 Q63.7051 717.37 58.5489 717.37 Q52.5333 717.37 49.4777 713.359 Q46.4222 709.317 46.4222 701.328 L46.4222 693.116 L45.8493 693.116 Q41.8071 693.116 39.6109 695.79 Q37.3829 698.432 37.3829 703.238 Q37.3829 706.293 38.115 709.19 Q38.847 712.086 40.3111 714.76 L34.9003 714.76 Q33.659 711.545 33.0542 708.521 Q32.4176 705.498 32.4176 702.633 Q32.4176 694.899 36.428 691.079 Q40.4384 687.26 48.5865 687.26 Z\" fill=\"#000000\" fill-rule=\"evenodd\" fill-opacity=\"1\" /><path clip-path=\"url(#clip390)\" d=\"M23.1555 669.404 L33.277 669.404 L33.277 657.341 L37.8285 657.341 L37.8285 669.404 L57.1802 669.404 Q61.5408 669.404 62.7821 668.226 Q64.0234 667.017 64.0234 663.357 L64.0234 657.341 L68.925 657.341 L68.925 663.357 Q68.925 670.136 66.4105 672.714 Q63.8642 675.292 57.1802 675.292 L37.8285 675.292 L37.8285 679.589 L33.277 679.589 L33.277 675.292 L23.1555 675.292 L23.1555 669.404 Z\" fill=\"#000000\" fill-rule=\"evenodd\" fill-opacity=\"1\" /><path clip-path=\"url(#clip390)\" d=\"M49.6369 619.147 L52.5015 619.147 L52.5015 646.074 Q58.5489 645.692 61.7317 642.445 Q64.8828 639.167 64.8828 633.342 Q64.8828 629.969 64.0552 626.817 Q63.2277 623.635 61.5726 620.515 L67.1107 620.515 Q68.4475 623.666 69.1478 626.977 Q69.848 630.287 69.848 633.692 Q69.848 642.223 64.8828 647.22 Q59.9175 652.185 51.4511 652.185 Q42.6983 652.185 37.5739 647.474 Q32.4176 642.732 32.4176 634.711 Q32.4176 627.518 37.0646 623.348 Q41.6797 619.147 49.6369 619.147 M47.9181 625.003 Q43.112 625.067 40.2475 627.709 Q37.3829 630.319 37.3829 634.647 Q37.3829 639.549 40.152 642.509 Q42.9211 645.437 47.95 645.883 L47.9181 625.003 Z\" fill=\"#000000\" fill-rule=\"evenodd\" fill-opacity=\"1\" /><path clip-path=\"url(#clip390)\" d=\"M37.3829 575.001 Q37.3829 579.711 41.075 582.449 Q44.7353 585.186 51.1328 585.186 Q57.5304 585.186 61.2225 582.48 Q64.8828 579.743 64.8828 575.001 Q64.8828 570.322 61.1906 567.585 Q57.4985 564.847 51.1328 564.847 Q44.7989 564.847 41.1068 567.585 Q37.3829 570.322 37.3829 575.001 M32.4176 575.001 Q32.4176 567.362 37.3829 563.001 Q42.3481 558.641 51.1328 558.641 Q59.8857 558.641 64.8828 563.001 Q69.848 567.362 69.848 575.001 Q69.848 582.671 64.8828 587.032 Q59.8857 591.361 51.1328 591.361 Q42.3481 591.361 37.3829 587.032 Q32.4176 582.671 32.4176 575.001 Z\" fill=\"#000000\" fill-rule=\"evenodd\" fill-opacity=\"1\" /><path clip-path=\"url(#clip390)\" d=\"M19.3998 530.886 L24.2695 530.886 L24.2695 536.488 Q24.2695 539.639 25.5427 540.88 Q26.8158 542.09 30.126 542.09 L33.277 542.09 L33.277 532.446 L37.8285 532.446 L37.8285 542.09 L68.925 542.09 L68.925 547.978 L37.8285 547.978 L37.8285 553.58 L33.277 553.58 L33.277 547.978 L30.7944 547.978 Q24.8425 547.978 22.137 545.209 Q19.3998 542.44 19.3998 536.424 L19.3998 530.886 Z\" fill=\"#000000\" fill-rule=\"evenodd\" fill-opacity=\"1\" /><path clip-path=\"url(#clip390)\" d=\"M34.6456 479.611 L40.1202 479.611 Q38.7515 482.093 38.0831 484.608 Q37.3829 487.09 37.3829 489.637 Q37.3829 495.334 41.0114 498.485 Q44.608 501.636 51.1328 501.636 Q57.6577 501.636 61.2861 498.485 Q64.8828 495.334 64.8828 489.637 Q64.8828 487.09 64.2144 484.608 Q63.5141 482.093 62.1455 479.611 L67.5563 479.611 Q68.7022 482.061 69.2751 484.703 Q69.848 487.313 69.848 490.273 Q69.848 498.326 64.7873 503.068 Q59.7265 507.811 51.1328 507.811 Q42.4118 507.811 37.4147 503.036 Q32.4176 498.23 32.4176 489.891 Q32.4176 487.186 32.9906 484.608 Q33.5316 482.03 34.6456 479.611 Z\" fill=\"#000000\" fill-rule=\"evenodd\" fill-opacity=\"1\" /><path clip-path=\"url(#clip390)\" d=\"M38.7515 448.769 Q38.1786 449.755 37.924 450.933 Q37.6375 452.079 37.6375 453.479 Q37.6375 458.445 40.884 461.118 Q44.0987 463.76 50.1461 463.76 L68.925 463.76 L68.925 469.648 L33.277 469.648 L33.277 463.76 L38.8152 463.76 Q35.5687 461.914 34.0091 458.954 Q32.4176 455.994 32.4176 451.761 Q32.4176 451.156 32.5131 450.424 Q32.5768 449.692 32.7359 448.801 L38.7515 448.769 Z\" fill=\"#000000\" fill-rule=\"evenodd\" fill-opacity=\"1\" /><path clip-path=\"url(#clip390)\" d=\"M37.3829 430.244 Q37.3829 434.955 41.075 437.692 Q44.7353 440.43 51.1328 440.43 Q57.5304 440.43 61.2225 437.724 Q64.8828 434.987 64.8828 430.244 Q64.8828 425.566 61.1906 422.828 Q57.4985 420.091 51.1328 420.091 Q44.7989 420.091 41.1068 422.828 Q37.3829 425.566 37.3829 430.244 M32.4176 430.244 Q32.4176 422.606 37.3829 418.245 Q42.3481 413.885 51.1328 413.885 Q59.8857 413.885 64.8828 418.245 Q69.848 422.606 69.848 430.244 Q69.848 437.915 64.8828 442.276 Q59.8857 446.604 51.1328 446.604 Q42.3481 446.604 37.3829 442.276 Q32.4176 437.915 32.4176 430.244 Z\" fill=\"#000000\" fill-rule=\"evenodd\" fill-opacity=\"1\" /><path clip-path=\"url(#clip390)\" d=\"M34.3274 381.451 L39.8655 381.451 Q38.5924 383.934 37.9558 386.608 Q37.3192 389.281 37.3192 392.146 Q37.3192 396.506 38.656 398.702 Q39.9928 400.867 42.6664 400.867 Q44.7035 400.867 45.8811 399.307 Q47.0269 397.748 48.0773 393.037 L48.5229 391.032 Q49.8597 384.793 52.3105 382.183 Q54.7294 379.542 59.09 379.542 Q64.0552 379.542 66.9516 383.488 Q69.848 387.403 69.848 394.278 Q69.848 397.143 69.2751 400.262 Q68.734 403.349 67.62 406.787 L61.5726 406.787 Q63.2595 403.54 64.1189 400.389 Q64.9464 397.238 64.9464 394.151 Q64.9464 390.013 63.546 387.785 Q62.1137 385.557 59.5356 385.557 Q57.1484 385.557 55.8753 387.18 Q54.6021 388.772 53.4245 394.215 L52.9471 396.252 Q51.8012 401.694 49.4459 404.113 Q47.0588 406.532 42.9211 406.532 Q37.8922 406.532 35.1549 402.967 Q32.4176 399.403 32.4176 392.846 Q32.4176 389.599 32.8951 386.735 Q33.3725 383.87 34.3274 381.451 Z\" fill=\"#000000\" fill-rule=\"evenodd\" fill-opacity=\"1\" /><path clip-path=\"url(#clip390)\" d=\"M34.3274 347.49 L39.8655 347.49 Q38.5924 349.973 37.9558 352.647 Q37.3192 355.32 37.3192 358.185 Q37.3192 362.545 38.656 364.741 Q39.9928 366.906 42.6664 366.906 Q44.7035 366.906 45.8811 365.346 Q47.0269 363.786 48.0773 359.076 L48.5229 357.071 Q49.8597 350.832 52.3105 348.222 Q54.7294 345.581 59.09 345.581 Q64.0552 345.581 66.9516 349.527 Q69.848 353.442 69.848 360.317 Q69.848 363.182 69.2751 366.301 Q68.734 369.388 67.62 372.826 L61.5726 372.826 Q63.2595 369.579 64.1189 366.428 Q64.9464 363.277 64.9464 360.19 Q64.9464 356.052 63.546 353.824 Q62.1137 351.596 59.5356 351.596 Q57.1484 351.596 55.8753 353.219 Q54.6021 354.811 53.4245 360.254 L52.9471 362.291 Q51.8012 367.733 49.4459 370.152 Q47.0588 372.571 42.9211 372.571 Q37.8922 372.571 35.1549 369.006 Q32.4176 365.442 32.4176 358.885 Q32.4176 355.638 32.8951 352.774 Q33.3725 349.909 34.3274 347.49 Z\" fill=\"#000000\" fill-rule=\"evenodd\" fill-opacity=\"1\" /><path clip-path=\"url(#clip390)\" d=\"M49.6369 285.043 L52.5015 285.043 L52.5015 311.97 Q58.5489 311.588 61.7317 308.341 Q64.8828 305.063 64.8828 299.238 Q64.8828 295.864 64.0552 292.713 Q63.2277 289.531 61.5726 286.411 L67.1107 286.411 Q68.4475 289.562 69.1478 292.873 Q69.848 296.183 69.848 299.588 Q69.848 308.118 64.8828 313.115 Q59.9175 318.081 51.4511 318.081 Q42.6983 318.081 37.5739 313.37 Q32.4176 308.628 32.4176 300.607 Q32.4176 293.414 37.0646 289.244 Q41.6797 285.043 49.6369 285.043 M47.9181 290.899 Q43.112 290.963 40.2475 293.605 Q37.3829 296.215 37.3829 300.543 Q37.3829 305.445 40.152 308.405 Q42.9211 311.333 47.95 311.779 L47.9181 290.899 Z\" fill=\"#000000\" fill-rule=\"evenodd\" fill-opacity=\"1\" /><path clip-path=\"url(#clip390)\" d=\"M47.4089 245.798 L68.925 245.798 L68.925 251.655 L47.5999 251.655 Q42.5391 251.655 40.0247 253.628 Q37.5102 255.601 37.5102 259.548 Q37.5102 264.291 40.5339 267.028 Q43.5576 269.765 48.7775 269.765 L68.925 269.765 L68.925 275.653 L33.277 275.653 L33.277 269.765 L38.8152 269.765 Q35.6005 267.664 34.0091 264.832 Q32.4176 261.967 32.4176 258.243 Q32.4176 252.1 36.2371 248.949 Q40.0247 245.798 47.4089 245.798 Z\" fill=\"#000000\" fill-rule=\"evenodd\" fill-opacity=\"1\" /><path clip-path=\"url(#clip390)\" d=\"M23.1555 228.324 L33.277 228.324 L33.277 216.261 L37.8285 216.261 L37.8285 228.324 L57.1802 228.324 Q61.5408 228.324 62.7821 227.147 Q64.0234 225.937 64.0234 222.277 L64.0234 216.261 L68.925 216.261 L68.925 222.277 Q68.925 229.056 66.4105 231.634 Q63.8642 234.213 57.1802 234.213 L37.8285 234.213 L37.8285 238.509 L33.277 238.509 L33.277 234.213 L23.1555 234.213 L23.1555 228.324 Z\" fill=\"#000000\" fill-rule=\"evenodd\" fill-opacity=\"1\" /><path clip-path=\"url(#clip390)\" d=\"M38.7515 187.902 Q38.1786 188.889 37.924 190.066 Q37.6375 191.212 37.6375 192.613 Q37.6375 197.578 40.884 200.251 Q44.0987 202.893 50.1461 202.893 L68.925 202.893 L68.925 208.782 L33.277 208.782 L33.277 202.893 L38.8152 202.893 Q35.5687 201.047 34.0091 198.087 Q32.4176 195.127 32.4176 190.894 Q32.4176 190.289 32.5131 189.557 Q32.5768 188.825 32.7359 187.934 L38.7515 187.902 Z\" fill=\"#000000\" fill-rule=\"evenodd\" fill-opacity=\"1\" /><path clip-path=\"url(#clip390)\" d=\"M37.3829 169.378 Q37.3829 174.088 41.075 176.826 Q44.7353 179.563 51.1328 179.563 Q57.5304 179.563 61.2225 176.858 Q64.8828 174.12 64.8828 169.378 Q64.8828 164.699 61.1906 161.962 Q57.4985 159.225 51.1328 159.225 Q44.7989 159.225 41.1068 161.962 Q37.3829 164.699 37.3829 169.378 M32.4176 169.378 Q32.4176 161.739 37.3829 157.378 Q42.3481 153.018 51.1328 153.018 Q59.8857 153.018 64.8828 157.378 Q69.848 161.739 69.848 169.378 Q69.848 177.048 64.8828 181.409 Q59.8857 185.738 51.1328 185.738 Q42.3481 185.738 37.3829 181.409 Q32.4176 177.048 32.4176 169.378 Z\" fill=\"#000000\" fill-rule=\"evenodd\" fill-opacity=\"1\" /><path clip-path=\"url(#clip390)\" d=\"M63.5778 137.645 L82.4839 137.645 L82.4839 143.533 L33.277 143.533 L33.277 137.645 L38.6879 137.645 Q35.505 135.799 33.9772 132.998 Q32.4176 130.165 32.4176 126.25 Q32.4176 119.757 37.5739 115.715 Q42.7301 111.641 51.1328 111.641 Q59.5356 111.641 64.6918 115.715 Q69.848 119.757 69.848 126.25 Q69.848 130.165 68.3202 132.998 Q66.7606 135.799 63.5778 137.645 M51.1328 117.72 Q44.6716 117.72 41.0114 120.394 Q37.3192 123.035 37.3192 127.682 Q37.3192 132.329 41.0114 135.003 Q44.6716 137.645 51.1328 137.645 Q57.594 137.645 61.2861 135.003 Q64.9464 132.329 64.9464 127.682 Q64.9464 123.035 61.2861 120.394 Q57.594 117.72 51.1328 117.72 Z\" fill=\"#000000\" fill-rule=\"evenodd\" fill-opacity=\"1\" /><path clip-path=\"url(#clip390)\" d=\"M72.2351 87.1011 Q78.6008 89.5837 80.5424 91.939 Q82.4839 94.2943 82.4839 98.241 L82.4839 102.92 L77.5823 102.92 L77.5823 99.4824 Q77.5823 97.0634 76.4365 95.7266 Q75.2907 94.3898 71.0257 92.7665 L68.3521 91.7162 L33.277 106.135 L33.277 99.928 L61.1588 88.788 L33.277 77.648 L33.277 71.4414 L72.2351 87.1011 Z\" fill=\"#000000\" fill-rule=\"evenodd\" fill-opacity=\"1\" /><polyline clip-path=\"url(#clip392)\" style=\"stroke:#009af9; stroke-linecap:butt; stroke-linejoin:round; stroke-width:4; stroke-opacity:1; fill:none\" points=\"\n",
       "  288.569,455.166 463.778,996.668 638.987,1005.96 814.196,980.363 989.405,874.676 1164.61,716.335 1339.82,566.802 1515.03,317.295 1690.24,362.388 1865.45,75.1678 \n",
       "  \n",
       "  \"/>\n",
       "<polyline clip-path=\"url(#clip392)\" style=\"stroke:#e26f46; stroke-linecap:butt; stroke-linejoin:round; stroke-width:4; stroke-opacity:1; fill:none\" points=\"\n",
       "  288.569,455.166 463.778,993.041 638.987,989.093 814.196,917.182 989.405,915.847 1164.61,882.582 1339.82,263.626 1515.03,540.47 1690.24,204.786 1865.45,106.368 \n",
       "  \n",
       "  \"/>\n",
       "<path clip-path=\"url(#clip390)\" d=\"\n",
       "M1618.89 235.652 L1857.04 235.652 L1857.04 80.132 L1618.89 80.132  Z\n",
       "  \" fill=\"#ffffff\" fill-rule=\"evenodd\" fill-opacity=\"1\"/>\n",
       "<polyline clip-path=\"url(#clip390)\" style=\"stroke:#000000; stroke-linecap:butt; stroke-linejoin:round; stroke-width:4; stroke-opacity:1; fill:none\" points=\"\n",
       "  1618.89,235.652 1857.04,235.652 1857.04,80.132 1618.89,80.132 1618.89,235.652 \n",
       "  \"/>\n",
       "<polyline clip-path=\"url(#clip390)\" style=\"stroke:#009af9; stroke-linecap:butt; stroke-linejoin:round; stroke-width:4; stroke-opacity:1; fill:none\" points=\"\n",
       "  1637.46,131.972 1748.89,131.972 \n",
       "  \"/>\n",
       "<path clip-path=\"url(#clip390)\" d=\"M1781.31 151.659 Q1779.5 156.289 1777.79 157.701 Q1776.08 159.113 1773.21 159.113 L1769.8 159.113 L1769.8 155.548 L1772.3 155.548 Q1774.06 155.548 1775.03 154.715 Q1776.01 153.882 1777.19 150.78 L1777.95 148.835 L1767.46 123.326 L1771.98 123.326 L1780.08 143.604 L1788.18 123.326 L1792.7 123.326 L1781.31 151.659 Z\" fill=\"#000000\" fill-rule=\"evenodd\" fill-opacity=\"1\" /><path clip-path=\"url(#clip390)\" d=\"M1799.99 145.317 L1807.63 145.317 L1807.63 118.951 L1799.32 120.618 L1799.32 116.359 L1807.58 114.692 L1812.26 114.692 L1812.26 145.317 L1819.9 145.317 L1819.9 149.252 L1799.99 149.252 L1799.99 145.317 Z\" fill=\"#000000\" fill-rule=\"evenodd\" fill-opacity=\"1\" /><polyline clip-path=\"url(#clip390)\" style=\"stroke:#e26f46; stroke-linecap:butt; stroke-linejoin:round; stroke-width:4; stroke-opacity:1; fill:none\" points=\"\n",
       "  1637.46,183.812 1748.89,183.812 \n",
       "  \"/>\n",
       "<path clip-path=\"url(#clip390)\" d=\"M1781.31 203.499 Q1779.5 208.129 1777.79 209.541 Q1776.08 210.953 1773.21 210.953 L1769.8 210.953 L1769.8 207.388 L1772.3 207.388 Q1774.06 207.388 1775.03 206.555 Q1776.01 205.722 1777.19 202.62 L1777.95 200.675 L1767.46 175.166 L1771.98 175.166 L1780.08 195.444 L1788.18 175.166 L1792.7 175.166 L1781.31 203.499 Z\" fill=\"#000000\" fill-rule=\"evenodd\" fill-opacity=\"1\" /><path clip-path=\"url(#clip390)\" d=\"M1803.21 197.157 L1819.52 197.157 L1819.52 201.092 L1797.58 201.092 L1797.58 197.157 Q1800.24 194.402 1804.83 189.773 Q1809.43 185.12 1810.61 183.777 Q1812.86 181.254 1813.74 179.518 Q1814.64 177.759 1814.64 176.069 Q1814.64 173.314 1812.7 171.578 Q1810.77 169.842 1807.67 169.842 Q1805.47 169.842 1803.02 170.606 Q1800.59 171.37 1797.81 172.921 L1797.81 168.199 Q1800.64 167.064 1803.09 166.486 Q1805.54 165.907 1807.58 165.907 Q1812.95 165.907 1816.15 168.592 Q1819.34 171.277 1819.34 175.768 Q1819.34 177.898 1818.53 179.819 Q1817.74 181.717 1815.64 184.31 Q1815.06 184.981 1811.96 188.199 Q1808.85 191.393 1803.21 197.157 Z\" fill=\"#000000\" fill-rule=\"evenodd\" fill-opacity=\"1\" /></svg>\n"
      ]
     },
     "execution_count": 184,
     "metadata": {},
     "output_type": "execute_result"
    }
   ],
   "source": [
    "using Random\n",
    "pipe.evo_tree_classifier.rng = MersenneTwister(123)\n",
    "curve = learning_curve(mach,\n",
    "                       range=r,\n",
    "                       resampling=CV(nfolds=6),\n",
    "                       measure=cross_entropy)\n",
    "plot!(curve.parameter_values, curve.measurements)\n",
    "savefig(\"exercise_7c_2.png\")\n",
    "plt"
   ]
  },
  {
   "cell_type": "markdown",
   "metadata": {},
   "source": [
    "One can automatic the production of multiple curves with different\n",
    "seeds in the following way:"
   ]
  },
  {
   "cell_type": "code",
   "execution_count": 185,
   "metadata": {},
   "outputs": [
    {
     "name": "stderr",
     "output_type": "stream",
     "text": [
      "\u001b[33mEvaluating Learning curve with 6 rngs: 100%[==================] Time: 0:01:30\u001b[39m\n"
     ]
    },
    {
     "data": {
      "image/svg+xml": [
       "<?xml version=\"1.0\" encoding=\"utf-8\"?>\n",
       "<svg xmlns=\"http://www.w3.org/2000/svg\" xmlns:xlink=\"http://www.w3.org/1999/xlink\" width=\"490\" height=\"300\" viewBox=\"0 0 1960 1200\">\n",
       "<defs>\n",
       "  <clipPath id=\"clip440\">\n",
       "    <rect x=\"0\" y=\"0\" width=\"1960\" height=\"1200\"/>\n",
       "  </clipPath>\n",
       "</defs>\n",
       "<path clip-path=\"url(#clip440)\" d=\"\n",
       "M0 1200 L1960 1200 L1960 0 L0 0  Z\n",
       "  \" fill=\"#ffffff\" fill-rule=\"evenodd\" fill-opacity=\"1\"/>\n",
       "<defs>\n",
       "  <clipPath id=\"clip441\">\n",
       "    <rect x=\"392\" y=\"0\" width=\"1373\" height=\"1200\"/>\n",
       "  </clipPath>\n",
       "</defs>\n",
       "<path clip-path=\"url(#clip440)\" d=\"\n",
       "M181.874 1093.27 L1912.76 1093.27 L1912.76 47.2441 L181.874 47.2441  Z\n",
       "  \" fill=\"#ffffff\" fill-rule=\"evenodd\" fill-opacity=\"1\"/>\n",
       "<defs>\n",
       "  <clipPath id=\"clip442\">\n",
       "    <rect x=\"181\" y=\"47\" width=\"1732\" height=\"1047\"/>\n",
       "  </clipPath>\n",
       "</defs>\n",
       "<polyline clip-path=\"url(#clip442)\" style=\"stroke:#000000; stroke-linecap:butt; stroke-linejoin:round; stroke-width:2; stroke-opacity:0.1; fill:none\" points=\"\n",
       "  412.295,1093.27 412.295,47.2441 \n",
       "  \"/>\n",
       "<polyline clip-path=\"url(#clip442)\" style=\"stroke:#000000; stroke-linecap:butt; stroke-linejoin:round; stroke-width:2; stroke-opacity:0.1; fill:none\" points=\"\n",
       "  775.164,1093.27 775.164,47.2441 \n",
       "  \"/>\n",
       "<polyline clip-path=\"url(#clip442)\" style=\"stroke:#000000; stroke-linecap:butt; stroke-linejoin:round; stroke-width:2; stroke-opacity:0.1; fill:none\" points=\"\n",
       "  1138.03,1093.27 1138.03,47.2441 \n",
       "  \"/>\n",
       "<polyline clip-path=\"url(#clip442)\" style=\"stroke:#000000; stroke-linecap:butt; stroke-linejoin:round; stroke-width:2; stroke-opacity:0.1; fill:none\" points=\"\n",
       "  1500.9,1093.27 1500.9,47.2441 \n",
       "  \"/>\n",
       "<polyline clip-path=\"url(#clip442)\" style=\"stroke:#000000; stroke-linecap:butt; stroke-linejoin:round; stroke-width:2; stroke-opacity:0.1; fill:none\" points=\"\n",
       "  1863.77,1093.27 1863.77,47.2441 \n",
       "  \"/>\n",
       "<polyline clip-path=\"url(#clip440)\" style=\"stroke:#000000; stroke-linecap:butt; stroke-linejoin:round; stroke-width:4; stroke-opacity:1; fill:none\" points=\"\n",
       "  181.874,1093.27 1912.76,1093.27 \n",
       "  \"/>\n",
       "<polyline clip-path=\"url(#clip440)\" style=\"stroke:#000000; stroke-linecap:butt; stroke-linejoin:round; stroke-width:4; stroke-opacity:1; fill:none\" points=\"\n",
       "  412.295,1093.27 412.295,1074.37 \n",
       "  \"/>\n",
       "<polyline clip-path=\"url(#clip440)\" style=\"stroke:#000000; stroke-linecap:butt; stroke-linejoin:round; stroke-width:4; stroke-opacity:1; fill:none\" points=\"\n",
       "  775.164,1093.27 775.164,1074.37 \n",
       "  \"/>\n",
       "<polyline clip-path=\"url(#clip440)\" style=\"stroke:#000000; stroke-linecap:butt; stroke-linejoin:round; stroke-width:4; stroke-opacity:1; fill:none\" points=\"\n",
       "  1138.03,1093.27 1138.03,1074.37 \n",
       "  \"/>\n",
       "<polyline clip-path=\"url(#clip440)\" style=\"stroke:#000000; stroke-linecap:butt; stroke-linejoin:round; stroke-width:4; stroke-opacity:1; fill:none\" points=\"\n",
       "  1500.9,1093.27 1500.9,1074.37 \n",
       "  \"/>\n",
       "<polyline clip-path=\"url(#clip440)\" style=\"stroke:#000000; stroke-linecap:butt; stroke-linejoin:round; stroke-width:4; stroke-opacity:1; fill:none\" points=\"\n",
       "  1863.77,1093.27 1863.77,1074.37 \n",
       "  \"/>\n",
       "<path clip-path=\"url(#clip440)\" d=\"M406.948 1148.21 L423.268 1148.21 L423.268 1152.15 L401.323 1152.15 L401.323 1148.21 Q403.985 1145.46 408.569 1140.83 Q413.175 1136.18 414.356 1134.83 Q416.601 1132.31 417.481 1130.58 Q418.383 1128.82 418.383 1127.13 Q418.383 1124.37 416.439 1122.64 Q414.518 1120.9 411.416 1120.9 Q409.217 1120.9 406.763 1121.66 Q404.332 1122.43 401.555 1123.98 L401.555 1119.26 Q404.379 1118.12 406.832 1117.54 Q409.286 1116.96 411.323 1116.96 Q416.694 1116.96 419.888 1119.65 Q423.082 1122.33 423.082 1126.83 Q423.082 1128.95 422.272 1130.88 Q421.485 1132.77 419.379 1135.37 Q418.8 1136.04 415.698 1139.26 Q412.596 1142.45 406.948 1148.21 Z\" fill=\"#000000\" fill-rule=\"evenodd\" fill-opacity=\"1\" /><path clip-path=\"url(#clip440)\" d=\"M778.173 1121.66 L766.367 1140.11 L778.173 1140.11 L778.173 1121.66 M776.946 1117.59 L782.826 1117.59 L782.826 1140.11 L787.756 1140.11 L787.756 1144 L782.826 1144 L782.826 1152.15 L778.173 1152.15 L778.173 1144 L762.571 1144 L762.571 1139.49 L776.946 1117.59 Z\" fill=\"#000000\" fill-rule=\"evenodd\" fill-opacity=\"1\" /><path clip-path=\"url(#clip440)\" d=\"M1138.44 1133.01 Q1135.29 1133.01 1133.44 1135.16 Q1131.61 1137.31 1131.61 1141.06 Q1131.61 1144.79 1133.44 1146.96 Q1135.29 1149.12 1138.44 1149.12 Q1141.59 1149.12 1143.41 1146.96 Q1145.27 1144.79 1145.27 1141.06 Q1145.27 1137.31 1143.41 1135.16 Q1141.59 1133.01 1138.44 1133.01 M1147.72 1118.35 L1147.72 1122.61 Q1145.96 1121.78 1144.15 1121.34 Q1142.37 1120.9 1140.61 1120.9 Q1135.98 1120.9 1133.53 1124.02 Q1131.1 1127.15 1130.75 1133.47 Q1132.12 1131.45 1134.18 1130.39 Q1136.24 1129.3 1138.71 1129.3 Q1143.92 1129.3 1146.93 1132.47 Q1149.96 1135.62 1149.96 1141.06 Q1149.96 1146.39 1146.82 1149.6 Q1143.67 1152.82 1138.44 1152.82 Q1132.44 1152.82 1129.27 1148.24 Q1126.1 1143.63 1126.1 1134.9 Q1126.1 1126.71 1129.99 1121.85 Q1133.88 1116.96 1140.43 1116.96 Q1142.19 1116.96 1143.97 1117.31 Q1145.78 1117.66 1147.72 1118.35 Z\" fill=\"#000000\" fill-rule=\"evenodd\" fill-opacity=\"1\" /><path clip-path=\"url(#clip440)\" d=\"M1500.9 1135.74 Q1497.57 1135.74 1495.65 1137.52 Q1493.75 1139.3 1493.75 1142.43 Q1493.75 1145.55 1495.65 1147.33 Q1497.57 1149.12 1500.9 1149.12 Q1504.23 1149.12 1506.15 1147.33 Q1508.08 1145.53 1508.08 1142.43 Q1508.08 1139.3 1506.15 1137.52 Q1504.26 1135.74 1500.9 1135.74 M1496.22 1133.75 Q1493.22 1133.01 1491.53 1130.95 Q1489.86 1128.89 1489.86 1125.92 Q1489.86 1121.78 1492.8 1119.37 Q1495.76 1116.96 1500.9 1116.96 Q1506.06 1116.96 1509 1119.37 Q1511.94 1121.78 1511.94 1125.92 Q1511.94 1128.89 1510.25 1130.95 Q1508.59 1133.01 1505.6 1133.75 Q1508.98 1134.53 1510.85 1136.83 Q1512.75 1139.12 1512.75 1142.43 Q1512.75 1147.45 1509.67 1150.14 Q1506.62 1152.82 1500.9 1152.82 Q1495.18 1152.82 1492.1 1150.14 Q1489.05 1147.45 1489.05 1142.43 Q1489.05 1139.12 1490.95 1136.83 Q1492.84 1134.53 1496.22 1133.75 M1494.51 1126.36 Q1494.51 1129.05 1496.18 1130.55 Q1497.87 1132.06 1500.9 1132.06 Q1503.91 1132.06 1505.6 1130.55 Q1507.31 1129.05 1507.31 1126.36 Q1507.31 1123.68 1505.6 1122.17 Q1503.91 1120.67 1500.9 1120.67 Q1497.87 1120.67 1496.18 1122.17 Q1494.51 1123.68 1494.51 1126.36 Z\" fill=\"#000000\" fill-rule=\"evenodd\" fill-opacity=\"1\" /><path clip-path=\"url(#clip440)\" d=\"M1838.46 1148.21 L1846.1 1148.21 L1846.1 1121.85 L1837.79 1123.51 L1837.79 1119.26 L1846.05 1117.59 L1850.72 1117.59 L1850.72 1148.21 L1858.36 1148.21 L1858.36 1152.15 L1838.46 1152.15 L1838.46 1148.21 Z\" fill=\"#000000\" fill-rule=\"evenodd\" fill-opacity=\"1\" /><path clip-path=\"url(#clip440)\" d=\"M1877.81 1120.67 Q1874.2 1120.67 1872.37 1124.23 Q1870.56 1127.77 1870.56 1134.9 Q1870.56 1142.01 1872.37 1145.58 Q1874.2 1149.12 1877.81 1149.12 Q1881.44 1149.12 1883.25 1145.58 Q1885.08 1142.01 1885.08 1134.9 Q1885.08 1127.77 1883.25 1124.23 Q1881.44 1120.67 1877.81 1120.67 M1877.81 1116.96 Q1883.62 1116.96 1886.67 1121.57 Q1889.75 1126.15 1889.75 1134.9 Q1889.75 1143.63 1886.67 1148.24 Q1883.62 1152.82 1877.81 1152.82 Q1872 1152.82 1868.92 1148.24 Q1865.86 1143.63 1865.86 1134.9 Q1865.86 1126.15 1868.92 1121.57 Q1872 1116.96 1877.81 1116.96 Z\" fill=\"#000000\" fill-rule=\"evenodd\" fill-opacity=\"1\" /><polyline clip-path=\"url(#clip442)\" style=\"stroke:#000000; stroke-linecap:butt; stroke-linejoin:round; stroke-width:2; stroke-opacity:0.1; fill:none\" points=\"\n",
       "  181.874,1057.42 1912.76,1057.42 \n",
       "  \"/>\n",
       "<polyline clip-path=\"url(#clip442)\" style=\"stroke:#000000; stroke-linecap:butt; stroke-linejoin:round; stroke-width:2; stroke-opacity:0.1; fill:none\" points=\"\n",
       "  181.874,872.449 1912.76,872.449 \n",
       "  \"/>\n",
       "<polyline clip-path=\"url(#clip442)\" style=\"stroke:#000000; stroke-linecap:butt; stroke-linejoin:round; stroke-width:2; stroke-opacity:0.1; fill:none\" points=\"\n",
       "  181.874,687.478 1912.76,687.478 \n",
       "  \"/>\n",
       "<polyline clip-path=\"url(#clip442)\" style=\"stroke:#000000; stroke-linecap:butt; stroke-linejoin:round; stroke-width:2; stroke-opacity:0.1; fill:none\" points=\"\n",
       "  181.874,502.507 1912.76,502.507 \n",
       "  \"/>\n",
       "<polyline clip-path=\"url(#clip442)\" style=\"stroke:#000000; stroke-linecap:butt; stroke-linejoin:round; stroke-width:2; stroke-opacity:0.1; fill:none\" points=\"\n",
       "  181.874,317.537 1912.76,317.537 \n",
       "  \"/>\n",
       "<polyline clip-path=\"url(#clip442)\" style=\"stroke:#000000; stroke-linecap:butt; stroke-linejoin:round; stroke-width:2; stroke-opacity:0.1; fill:none\" points=\"\n",
       "  181.874,132.566 1912.76,132.566 \n",
       "  \"/>\n",
       "<polyline clip-path=\"url(#clip440)\" style=\"stroke:#000000; stroke-linecap:butt; stroke-linejoin:round; stroke-width:4; stroke-opacity:1; fill:none\" points=\"\n",
       "  181.874,1093.27 181.874,47.2441 \n",
       "  \"/>\n",
       "<polyline clip-path=\"url(#clip440)\" style=\"stroke:#000000; stroke-linecap:butt; stroke-linejoin:round; stroke-width:4; stroke-opacity:1; fill:none\" points=\"\n",
       "  181.874,1057.42 200.772,1057.42 \n",
       "  \"/>\n",
       "<polyline clip-path=\"url(#clip440)\" style=\"stroke:#000000; stroke-linecap:butt; stroke-linejoin:round; stroke-width:4; stroke-opacity:1; fill:none\" points=\"\n",
       "  181.874,872.449 200.772,872.449 \n",
       "  \"/>\n",
       "<polyline clip-path=\"url(#clip440)\" style=\"stroke:#000000; stroke-linecap:butt; stroke-linejoin:round; stroke-width:4; stroke-opacity:1; fill:none\" points=\"\n",
       "  181.874,687.478 200.772,687.478 \n",
       "  \"/>\n",
       "<polyline clip-path=\"url(#clip440)\" style=\"stroke:#000000; stroke-linecap:butt; stroke-linejoin:round; stroke-width:4; stroke-opacity:1; fill:none\" points=\"\n",
       "  181.874,502.507 200.772,502.507 \n",
       "  \"/>\n",
       "<polyline clip-path=\"url(#clip440)\" style=\"stroke:#000000; stroke-linecap:butt; stroke-linejoin:round; stroke-width:4; stroke-opacity:1; fill:none\" points=\"\n",
       "  181.874,317.537 200.772,317.537 \n",
       "  \"/>\n",
       "<polyline clip-path=\"url(#clip440)\" style=\"stroke:#000000; stroke-linecap:butt; stroke-linejoin:round; stroke-width:4; stroke-opacity:1; fill:none\" points=\"\n",
       "  181.874,132.566 200.772,132.566 \n",
       "  \"/>\n",
       "<path clip-path=\"url(#clip440)\" d=\"M66.1319 1043.22 Q62.5208 1043.22 60.6921 1046.78 Q58.8865 1050.32 58.8865 1057.45 Q58.8865 1064.56 60.6921 1068.13 Q62.5208 1071.67 66.1319 1071.67 Q69.7661 1071.67 71.5717 1068.13 Q73.4004 1064.56 73.4004 1057.45 Q73.4004 1050.32 71.5717 1046.78 Q69.7661 1043.22 66.1319 1043.22 M66.1319 1039.51 Q71.942 1039.51 74.9976 1044.12 Q78.0763 1048.7 78.0763 1057.45 Q78.0763 1066.18 74.9976 1070.79 Q71.942 1075.37 66.1319 1075.37 Q60.3217 1075.37 57.243 1070.79 Q54.1875 1066.18 54.1875 1057.45 Q54.1875 1048.7 57.243 1044.12 Q60.3217 1039.51 66.1319 1039.51 Z\" fill=\"#000000\" fill-rule=\"evenodd\" fill-opacity=\"1\" /><path clip-path=\"url(#clip440)\" d=\"M86.2938 1068.82 L91.178 1068.82 L91.178 1074.7 L86.2938 1074.7 L86.2938 1068.82 Z\" fill=\"#000000\" fill-rule=\"evenodd\" fill-opacity=\"1\" /><path clip-path=\"url(#clip440)\" d=\"M100.183 1040.14 L122.405 1040.14 L122.405 1042.13 L109.858 1074.7 L104.974 1074.7 L116.78 1044.08 L100.183 1044.08 L100.183 1040.14 Z\" fill=\"#000000\" fill-rule=\"evenodd\" fill-opacity=\"1\" /><path clip-path=\"url(#clip440)\" d=\"M131.571 1040.14 L149.928 1040.14 L149.928 1044.08 L135.854 1044.08 L135.854 1052.55 Q136.872 1052.2 137.891 1052.04 Q138.909 1051.85 139.928 1051.85 Q145.715 1051.85 149.094 1055.02 Q152.474 1058.2 152.474 1063.61 Q152.474 1069.19 149.002 1072.29 Q145.53 1075.37 139.21 1075.37 Q137.034 1075.37 134.766 1075 Q132.52 1074.63 130.113 1073.89 L130.113 1069.19 Q132.196 1070.32 134.419 1070.88 Q136.641 1071.44 139.118 1071.44 Q143.122 1071.44 145.46 1069.33 Q147.798 1067.22 147.798 1063.61 Q147.798 1060 145.46 1057.89 Q143.122 1055.79 139.118 1055.79 Q137.243 1055.79 135.368 1056.2 Q133.516 1056.62 131.571 1057.5 L131.571 1040.14 Z\" fill=\"#000000\" fill-rule=\"evenodd\" fill-opacity=\"1\" /><path clip-path=\"url(#clip440)\" d=\"M65.1365 858.248 Q61.5254 858.248 59.6967 861.813 Q57.8912 865.354 57.8912 872.484 Q57.8912 879.59 59.6967 883.155 Q61.5254 886.697 65.1365 886.697 Q68.7707 886.697 70.5763 883.155 Q72.405 879.59 72.405 872.484 Q72.405 865.354 70.5763 861.813 Q68.7707 858.248 65.1365 858.248 M65.1365 854.544 Q70.9467 854.544 74.0022 859.151 Q77.0809 863.734 77.0809 872.484 Q77.0809 881.211 74.0022 885.817 Q70.9467 890.4 65.1365 890.4 Q59.3264 890.4 56.2477 885.817 Q53.1921 881.211 53.1921 872.484 Q53.1921 863.734 56.2477 859.151 Q59.3264 854.544 65.1365 854.544 Z\" fill=\"#000000\" fill-rule=\"evenodd\" fill-opacity=\"1\" /><path clip-path=\"url(#clip440)\" d=\"M85.2984 883.849 L90.1827 883.849 L90.1827 889.729 L85.2984 889.729 L85.2984 883.849 Z\" fill=\"#000000\" fill-rule=\"evenodd\" fill-opacity=\"1\" /><path clip-path=\"url(#clip440)\" d=\"M110.368 873.317 Q107.034 873.317 105.113 875.099 Q103.215 876.882 103.215 880.007 Q103.215 883.132 105.113 884.914 Q107.034 886.697 110.368 886.697 Q113.701 886.697 115.622 884.914 Q117.544 883.109 117.544 880.007 Q117.544 876.882 115.622 875.099 Q113.724 873.317 110.368 873.317 M105.692 871.326 Q102.683 870.586 100.993 868.525 Q99.3261 866.465 99.3261 863.502 Q99.3261 859.359 102.266 856.951 Q105.229 854.544 110.368 854.544 Q115.53 854.544 118.47 856.951 Q121.409 859.359 121.409 863.502 Q121.409 866.465 119.72 868.525 Q118.053 870.586 115.067 871.326 Q118.446 872.113 120.321 874.405 Q122.22 876.697 122.22 880.007 Q122.22 885.03 119.141 887.715 Q116.085 890.4 110.368 890.4 Q104.65 890.4 101.571 887.715 Q98.516 885.03 98.516 880.007 Q98.516 876.697 100.414 874.405 Q102.312 872.113 105.692 871.326 M103.979 863.942 Q103.979 866.627 105.646 868.132 Q107.335 869.637 110.368 869.637 Q113.377 869.637 115.067 868.132 Q116.78 866.627 116.78 863.942 Q116.78 861.257 115.067 859.752 Q113.377 858.248 110.368 858.248 Q107.335 858.248 105.646 859.752 Q103.979 861.257 103.979 863.942 Z\" fill=\"#000000\" fill-rule=\"evenodd\" fill-opacity=\"1\" /><path clip-path=\"url(#clip440)\" d=\"M140.53 858.248 Q136.919 858.248 135.09 861.813 Q133.284 865.354 133.284 872.484 Q133.284 879.59 135.09 883.155 Q136.919 886.697 140.53 886.697 Q144.164 886.697 145.969 883.155 Q147.798 879.59 147.798 872.484 Q147.798 865.354 145.969 861.813 Q144.164 858.248 140.53 858.248 M140.53 854.544 Q146.34 854.544 149.395 859.151 Q152.474 863.734 152.474 872.484 Q152.474 881.211 149.395 885.817 Q146.34 890.4 140.53 890.4 Q134.719 890.4 131.641 885.817 Q128.585 881.211 128.585 872.484 Q128.585 863.734 131.641 859.151 Q134.719 854.544 140.53 854.544 Z\" fill=\"#000000\" fill-rule=\"evenodd\" fill-opacity=\"1\" /><path clip-path=\"url(#clip440)\" d=\"M66.1319 673.277 Q62.5208 673.277 60.6921 676.842 Q58.8865 680.383 58.8865 687.513 Q58.8865 694.619 60.6921 698.184 Q62.5208 701.726 66.1319 701.726 Q69.7661 701.726 71.5717 698.184 Q73.4004 694.619 73.4004 687.513 Q73.4004 680.383 71.5717 676.842 Q69.7661 673.277 66.1319 673.277 M66.1319 669.573 Q71.942 669.573 74.9976 674.18 Q78.0763 678.763 78.0763 687.513 Q78.0763 696.24 74.9976 700.846 Q71.942 705.43 66.1319 705.43 Q60.3217 705.43 57.243 700.846 Q54.1875 696.24 54.1875 687.513 Q54.1875 678.763 57.243 674.18 Q60.3217 669.573 66.1319 669.573 Z\" fill=\"#000000\" fill-rule=\"evenodd\" fill-opacity=\"1\" /><path clip-path=\"url(#clip440)\" d=\"M86.2938 698.879 L91.178 698.879 L91.178 704.758 L86.2938 704.758 L86.2938 698.879 Z\" fill=\"#000000\" fill-rule=\"evenodd\" fill-opacity=\"1\" /><path clip-path=\"url(#clip440)\" d=\"M111.363 688.346 Q108.03 688.346 106.109 690.129 Q104.21 691.911 104.21 695.036 Q104.21 698.161 106.109 699.943 Q108.03 701.726 111.363 701.726 Q114.696 701.726 116.618 699.943 Q118.539 698.138 118.539 695.036 Q118.539 691.911 116.618 690.129 Q114.72 688.346 111.363 688.346 M106.687 686.356 Q103.678 685.615 101.988 683.555 Q100.322 681.494 100.322 678.532 Q100.322 674.388 103.261 671.981 Q106.224 669.573 111.363 669.573 Q116.525 669.573 119.465 671.981 Q122.405 674.388 122.405 678.532 Q122.405 681.494 120.715 683.555 Q119.048 685.615 116.062 686.356 Q119.442 687.143 121.317 689.434 Q123.215 691.726 123.215 695.036 Q123.215 700.059 120.136 702.744 Q117.081 705.43 111.363 705.43 Q105.646 705.43 102.567 702.744 Q99.5113 700.059 99.5113 695.036 Q99.5113 691.726 101.409 689.434 Q103.308 687.143 106.687 686.356 M104.974 678.971 Q104.974 681.657 106.641 683.161 Q108.331 684.666 111.363 684.666 Q114.372 684.666 116.062 683.161 Q117.775 681.657 117.775 678.971 Q117.775 676.286 116.062 674.782 Q114.372 673.277 111.363 673.277 Q108.331 673.277 106.641 674.782 Q104.974 676.286 104.974 678.971 Z\" fill=\"#000000\" fill-rule=\"evenodd\" fill-opacity=\"1\" /><path clip-path=\"url(#clip440)\" d=\"M131.571 670.198 L149.928 670.198 L149.928 674.133 L135.854 674.133 L135.854 682.606 Q136.872 682.258 137.891 682.096 Q138.909 681.911 139.928 681.911 Q145.715 681.911 149.094 685.082 Q152.474 688.254 152.474 693.67 Q152.474 699.249 149.002 702.351 Q145.53 705.43 139.21 705.43 Q137.034 705.43 134.766 705.059 Q132.52 704.689 130.113 703.948 L130.113 699.249 Q132.196 700.383 134.419 700.939 Q136.641 701.494 139.118 701.494 Q143.122 701.494 145.46 699.388 Q147.798 697.281 147.798 693.67 Q147.798 690.059 145.46 687.953 Q143.122 685.846 139.118 685.846 Q137.243 685.846 135.368 686.263 Q133.516 686.68 131.571 687.559 L131.571 670.198 Z\" fill=\"#000000\" fill-rule=\"evenodd\" fill-opacity=\"1\" /><path clip-path=\"url(#clip440)\" d=\"M65.1365 488.306 Q61.5254 488.306 59.6967 491.871 Q57.8912 495.413 57.8912 502.542 Q57.8912 509.649 59.6967 513.213 Q61.5254 516.755 65.1365 516.755 Q68.7707 516.755 70.5763 513.213 Q72.405 509.649 72.405 502.542 Q72.405 495.413 70.5763 491.871 Q68.7707 488.306 65.1365 488.306 M65.1365 484.602 Q70.9467 484.602 74.0022 489.209 Q77.0809 493.792 77.0809 502.542 Q77.0809 511.269 74.0022 515.875 Q70.9467 520.459 65.1365 520.459 Q59.3264 520.459 56.2477 515.875 Q53.1921 511.269 53.1921 502.542 Q53.1921 493.792 56.2477 489.209 Q59.3264 484.602 65.1365 484.602 Z\" fill=\"#000000\" fill-rule=\"evenodd\" fill-opacity=\"1\" /><path clip-path=\"url(#clip440)\" d=\"M85.2984 513.908 L90.1827 513.908 L90.1827 519.787 L85.2984 519.787 L85.2984 513.908 Z\" fill=\"#000000\" fill-rule=\"evenodd\" fill-opacity=\"1\" /><path clip-path=\"url(#clip440)\" d=\"M100.507 519.07 L100.507 514.811 Q102.266 515.644 104.071 516.084 Q105.877 516.524 107.613 516.524 Q112.243 516.524 114.673 513.422 Q117.127 510.297 117.474 503.954 Q116.132 505.945 114.071 507.01 Q112.011 508.075 109.511 508.075 Q104.326 508.075 101.294 504.95 Q98.2845 501.801 98.2845 496.362 Q98.2845 491.038 101.433 487.82 Q104.581 484.602 109.812 484.602 Q115.808 484.602 118.956 489.209 Q122.127 493.792 122.127 502.542 Q122.127 510.713 118.238 515.598 Q114.372 520.459 107.821 520.459 Q106.062 520.459 104.257 520.111 Q102.451 519.764 100.507 519.07 M109.812 504.417 Q112.96 504.417 114.789 502.264 Q116.641 500.112 116.641 496.362 Q116.641 492.635 114.789 490.482 Q112.96 488.306 109.812 488.306 Q106.664 488.306 104.812 490.482 Q102.984 492.635 102.984 496.362 Q102.984 500.112 104.812 502.264 Q106.664 504.417 109.812 504.417 Z\" fill=\"#000000\" fill-rule=\"evenodd\" fill-opacity=\"1\" /><path clip-path=\"url(#clip440)\" d=\"M140.53 488.306 Q136.919 488.306 135.09 491.871 Q133.284 495.413 133.284 502.542 Q133.284 509.649 135.09 513.213 Q136.919 516.755 140.53 516.755 Q144.164 516.755 145.969 513.213 Q147.798 509.649 147.798 502.542 Q147.798 495.413 145.969 491.871 Q144.164 488.306 140.53 488.306 M140.53 484.602 Q146.34 484.602 149.395 489.209 Q152.474 493.792 152.474 502.542 Q152.474 511.269 149.395 515.875 Q146.34 520.459 140.53 520.459 Q134.719 520.459 131.641 515.875 Q128.585 511.269 128.585 502.542 Q128.585 493.792 131.641 489.209 Q134.719 484.602 140.53 484.602 Z\" fill=\"#000000\" fill-rule=\"evenodd\" fill-opacity=\"1\" /><path clip-path=\"url(#clip440)\" d=\"M66.1319 303.335 Q62.5208 303.335 60.6921 306.9 Q58.8865 310.442 58.8865 317.571 Q58.8865 324.678 60.6921 328.243 Q62.5208 331.784 66.1319 331.784 Q69.7661 331.784 71.5717 328.243 Q73.4004 324.678 73.4004 317.571 Q73.4004 310.442 71.5717 306.9 Q69.7661 303.335 66.1319 303.335 M66.1319 299.632 Q71.942 299.632 74.9976 304.238 Q78.0763 308.821 78.0763 317.571 Q78.0763 326.298 74.9976 330.905 Q71.942 335.488 66.1319 335.488 Q60.3217 335.488 57.243 330.905 Q54.1875 326.298 54.1875 317.571 Q54.1875 308.821 57.243 304.238 Q60.3217 299.632 66.1319 299.632 Z\" fill=\"#000000\" fill-rule=\"evenodd\" fill-opacity=\"1\" /><path clip-path=\"url(#clip440)\" d=\"M86.2938 328.937 L91.178 328.937 L91.178 334.817 L86.2938 334.817 L86.2938 328.937 Z\" fill=\"#000000\" fill-rule=\"evenodd\" fill-opacity=\"1\" /><path clip-path=\"url(#clip440)\" d=\"M101.502 334.099 L101.502 329.84 Q103.261 330.673 105.067 331.113 Q106.872 331.553 108.608 331.553 Q113.238 331.553 115.669 328.451 Q118.122 325.326 118.47 318.983 Q117.127 320.974 115.067 322.039 Q113.007 323.104 110.507 323.104 Q105.321 323.104 102.289 319.979 Q99.2798 316.831 99.2798 311.391 Q99.2798 306.067 102.428 302.849 Q105.576 299.632 110.808 299.632 Q116.803 299.632 119.951 304.238 Q123.122 308.821 123.122 317.571 Q123.122 325.743 119.233 330.627 Q115.368 335.488 108.817 335.488 Q107.058 335.488 105.252 335.141 Q103.446 334.793 101.502 334.099 M110.808 319.446 Q113.956 319.446 115.784 317.294 Q117.636 315.141 117.636 311.391 Q117.636 307.664 115.784 305.511 Q113.956 303.335 110.808 303.335 Q107.659 303.335 105.808 305.511 Q103.979 307.664 103.979 311.391 Q103.979 315.141 105.808 317.294 Q107.659 319.446 110.808 319.446 Z\" fill=\"#000000\" fill-rule=\"evenodd\" fill-opacity=\"1\" /><path clip-path=\"url(#clip440)\" d=\"M131.571 300.257 L149.928 300.257 L149.928 304.192 L135.854 304.192 L135.854 312.664 Q136.872 312.317 137.891 312.155 Q138.909 311.97 139.928 311.97 Q145.715 311.97 149.094 315.141 Q152.474 318.312 152.474 323.729 Q152.474 329.307 149.002 332.409 Q145.53 335.488 139.21 335.488 Q137.034 335.488 134.766 335.118 Q132.52 334.747 130.113 334.006 L130.113 329.307 Q132.196 330.442 134.419 330.997 Q136.641 331.553 139.118 331.553 Q143.122 331.553 145.46 329.446 Q147.798 327.34 147.798 323.729 Q147.798 320.118 145.46 318.011 Q143.122 315.905 139.118 315.905 Q137.243 315.905 135.368 316.321 Q133.516 316.738 131.571 317.618 L131.571 300.257 Z\" fill=\"#000000\" fill-rule=\"evenodd\" fill-opacity=\"1\" /><path clip-path=\"url(#clip440)\" d=\"M55.9467 145.911 L63.5856 145.911 L63.5856 119.545 L55.2754 121.212 L55.2754 116.952 L63.5393 115.286 L68.2152 115.286 L68.2152 145.911 L75.854 145.911 L75.854 149.846 L55.9467 149.846 L55.9467 145.911 Z\" fill=\"#000000\" fill-rule=\"evenodd\" fill-opacity=\"1\" /><path clip-path=\"url(#clip440)\" d=\"M85.2984 143.966 L90.1827 143.966 L90.1827 149.846 L85.2984 149.846 L85.2984 143.966 Z\" fill=\"#000000\" fill-rule=\"evenodd\" fill-opacity=\"1\" /><path clip-path=\"url(#clip440)\" d=\"M110.368 118.364 Q106.757 118.364 104.928 121.929 Q103.122 125.471 103.122 132.601 Q103.122 139.707 104.928 143.272 Q106.757 146.813 110.368 146.813 Q114.002 146.813 115.808 143.272 Q117.636 139.707 117.636 132.601 Q117.636 125.471 115.808 121.929 Q114.002 118.364 110.368 118.364 M110.368 114.661 Q116.178 114.661 119.233 119.267 Q122.312 123.851 122.312 132.601 Q122.312 141.327 119.233 145.934 Q116.178 150.517 110.368 150.517 Q104.558 150.517 101.479 145.934 Q98.4234 141.327 98.4234 132.601 Q98.4234 123.851 101.479 119.267 Q104.558 114.661 110.368 114.661 Z\" fill=\"#000000\" fill-rule=\"evenodd\" fill-opacity=\"1\" /><path clip-path=\"url(#clip440)\" d=\"M140.53 118.364 Q136.919 118.364 135.09 121.929 Q133.284 125.471 133.284 132.601 Q133.284 139.707 135.09 143.272 Q136.919 146.813 140.53 146.813 Q144.164 146.813 145.969 143.272 Q147.798 139.707 147.798 132.601 Q147.798 125.471 145.969 121.929 Q144.164 118.364 140.53 118.364 M140.53 114.661 Q146.34 114.661 149.395 119.267 Q152.474 123.851 152.474 132.601 Q152.474 141.327 149.395 145.934 Q146.34 150.517 140.53 150.517 Q134.719 150.517 131.641 145.934 Q128.585 141.327 128.585 132.601 Q128.585 123.851 131.641 119.267 Q134.719 114.661 140.53 114.661 Z\" fill=\"#000000\" fill-rule=\"evenodd\" fill-opacity=\"1\" /><polyline clip-path=\"url(#clip442)\" style=\"stroke:#009af9; stroke-linecap:butt; stroke-linejoin:round; stroke-width:4; stroke-opacity:1; fill:none\" points=\"\n",
       "  230.861,414.191 412.295,953.528 593.73,1001.93 775.164,927.792 956.598,873.019 1138.03,827.351 1319.47,547.766 1500.9,510.745 1682.33,76.8486 1863.77,443.01 \n",
       "  \n",
       "  \"/>\n",
       "<polyline clip-path=\"url(#clip442)\" style=\"stroke:#e26f46; stroke-linecap:butt; stroke-linejoin:round; stroke-width:4; stroke-opacity:1; fill:none\" points=\"\n",
       "  230.861,414.191 412.295,975.82 593.73,989.866 775.164,862.006 956.598,782.662 1138.03,537.775 1319.47,546.495 1500.9,317.406 1682.33,274.544 1863.77,415.455 \n",
       "  \n",
       "  \"/>\n",
       "<polyline clip-path=\"url(#clip442)\" style=\"stroke:#3da44d; stroke-linecap:butt; stroke-linejoin:round; stroke-width:4; stroke-opacity:1; fill:none\" points=\"\n",
       "  230.861,414.191 412.295,929 593.73,1040.46 775.164,1063.66 956.598,906.341 1138.03,895.471 1319.47,499.913 1500.9,456.788 1682.33,111.366 1863.77,208.508 \n",
       "  \n",
       "  \"/>\n",
       "<polyline clip-path=\"url(#clip442)\" style=\"stroke:#c271d2; stroke-linecap:butt; stroke-linejoin:round; stroke-width:4; stroke-opacity:1; fill:none\" points=\"\n",
       "  230.861,414.191 412.295,950.825 593.73,1003.51 775.164,901.96 956.598,875.619 1138.03,858.013 1319.47,501.145 1500.9,534.44 1682.33,173.752 1863.77,78.0241 \n",
       "  \n",
       "  \"/>\n",
       "<polyline clip-path=\"url(#clip442)\" style=\"stroke:#ac8d18; stroke-linecap:butt; stroke-linejoin:round; stroke-width:4; stroke-opacity:1; fill:none\" points=\"\n",
       "  230.861,414.191 412.295,960.007 593.73,980.783 775.164,993.282 956.598,802.198 1138.03,579.218 1319.47,287.043 1500.9,545.797 1682.33,234.764 1863.77,132.538 \n",
       "  \n",
       "  \"/>\n",
       "<polyline clip-path=\"url(#clip442)\" style=\"stroke:#00a9ad; stroke-linecap:butt; stroke-linejoin:round; stroke-width:4; stroke-opacity:1; fill:none\" points=\"\n",
       "  230.861,414.191 412.295,935.505 593.73,1016.78 775.164,943.738 956.598,817.427 1138.03,734.792 1319.47,635.091 1500.9,447.91 1682.33,150.56 1863.77,414.62 \n",
       "  \n",
       "  \"/>\n",
       "<path clip-path=\"url(#clip440)\" d=\"\n",
       "M1608.6 444.992 L1855.06 444.992 L1855.06 82.1116 L1608.6 82.1116  Z\n",
       "  \" fill=\"#ffffff\" fill-rule=\"evenodd\" fill-opacity=\"1\"/>\n",
       "<polyline clip-path=\"url(#clip440)\" style=\"stroke:#000000; stroke-linecap:butt; stroke-linejoin:round; stroke-width:4; stroke-opacity:1; fill:none\" points=\"\n",
       "  1608.6,444.992 1855.06,444.992 1855.06,82.1116 1608.6,82.1116 1608.6,444.992 \n",
       "  \"/>\n",
       "<polyline clip-path=\"url(#clip440)\" style=\"stroke:#009af9; stroke-linecap:butt; stroke-linejoin:round; stroke-width:4; stroke-opacity:1; fill:none\" points=\"\n",
       "  1627.83,133.952 1743.22,133.952 \n",
       "  \"/>\n",
       "<path clip-path=\"url(#clip440)\" d=\"M1776.3 153.639 Q1774.49 158.269 1772.78 159.681 Q1771.06 161.093 1768.19 161.093 L1764.79 161.093 L1764.79 157.528 L1767.29 157.528 Q1769.05 157.528 1770.02 156.695 Q1770.99 155.861 1772.17 152.759 L1772.94 150.815 L1762.45 125.306 L1766.97 125.306 L1775.07 145.583 L1783.17 125.306 L1787.68 125.306 L1776.3 153.639 Z\" fill=\"#000000\" fill-rule=\"evenodd\" fill-opacity=\"1\" /><path clip-path=\"url(#clip440)\" d=\"M1794.98 147.296 L1802.61 147.296 L1802.61 120.931 L1794.3 122.597 L1794.3 118.338 L1802.57 116.672 L1807.24 116.672 L1807.24 147.296 L1814.88 147.296 L1814.88 151.232 L1794.98 151.232 L1794.98 147.296 Z\" fill=\"#000000\" fill-rule=\"evenodd\" fill-opacity=\"1\" /><polyline clip-path=\"url(#clip440)\" style=\"stroke:#e26f46; stroke-linecap:butt; stroke-linejoin:round; stroke-width:4; stroke-opacity:1; fill:none\" points=\"\n",
       "  1627.83,185.792 1743.22,185.792 \n",
       "  \"/>\n",
       "<path clip-path=\"url(#clip440)\" d=\"M1776.3 205.479 Q1774.49 210.109 1772.78 211.521 Q1771.06 212.933 1768.19 212.933 L1764.79 212.933 L1764.79 209.368 L1767.29 209.368 Q1769.05 209.368 1770.02 208.535 Q1770.99 207.701 1772.17 204.599 L1772.94 202.655 L1762.45 177.146 L1766.97 177.146 L1775.07 197.423 L1783.17 177.146 L1787.68 177.146 L1776.3 205.479 Z\" fill=\"#000000\" fill-rule=\"evenodd\" fill-opacity=\"1\" /><path clip-path=\"url(#clip440)\" d=\"M1798.19 199.136 L1814.51 199.136 L1814.51 203.072 L1792.57 203.072 L1792.57 199.136 Q1795.23 196.382 1799.81 191.752 Q1804.42 187.099 1805.6 185.757 Q1807.85 183.234 1808.73 181.498 Q1809.63 179.738 1809.63 178.049 Q1809.63 175.294 1807.68 173.558 Q1805.76 171.822 1802.66 171.822 Q1800.46 171.822 1798.01 172.586 Q1795.58 173.35 1792.8 174.9 L1792.8 170.178 Q1795.62 169.044 1798.08 168.465 Q1800.53 167.887 1802.57 167.887 Q1807.94 167.887 1811.13 170.572 Q1814.33 173.257 1814.33 177.748 Q1814.33 179.877 1813.52 181.799 Q1812.73 183.697 1810.62 186.289 Q1810.04 186.961 1806.94 190.178 Q1803.84 193.373 1798.19 199.136 Z\" fill=\"#000000\" fill-rule=\"evenodd\" fill-opacity=\"1\" /><polyline clip-path=\"url(#clip440)\" style=\"stroke:#3da44d; stroke-linecap:butt; stroke-linejoin:round; stroke-width:4; stroke-opacity:1; fill:none\" points=\"\n",
       "  1627.83,237.632 1743.22,237.632 \n",
       "  \"/>\n",
       "<path clip-path=\"url(#clip440)\" d=\"M1776.3 257.319 Q1774.49 261.949 1772.78 263.361 Q1771.06 264.773 1768.19 264.773 L1764.79 264.773 L1764.79 261.208 L1767.29 261.208 Q1769.05 261.208 1770.02 260.375 Q1770.99 259.541 1772.17 256.439 L1772.94 254.495 L1762.45 228.986 L1766.97 228.986 L1775.07 249.263 L1783.17 228.986 L1787.68 228.986 L1776.3 257.319 Z\" fill=\"#000000\" fill-rule=\"evenodd\" fill-opacity=\"1\" /><path clip-path=\"url(#clip440)\" d=\"M1808.33 236.277 Q1811.69 236.995 1813.56 239.264 Q1815.46 241.532 1815.46 244.865 Q1815.46 249.981 1811.94 252.782 Q1808.42 255.583 1801.94 255.583 Q1799.77 255.583 1797.45 255.143 Q1795.16 254.726 1792.71 253.87 L1792.71 249.356 Q1794.65 250.49 1796.97 251.069 Q1799.28 251.648 1801.8 251.648 Q1806.2 251.648 1808.49 249.912 Q1810.81 248.176 1810.81 244.865 Q1810.81 241.81 1808.66 240.097 Q1806.53 238.361 1802.71 238.361 L1798.68 238.361 L1798.68 234.518 L1802.89 234.518 Q1806.34 234.518 1808.17 233.152 Q1810 231.764 1810 229.171 Q1810 226.509 1808.1 225.097 Q1806.23 223.662 1802.71 223.662 Q1800.79 223.662 1798.59 224.078 Q1796.39 224.495 1793.75 225.375 L1793.75 221.208 Q1796.41 220.467 1798.73 220.097 Q1801.06 219.727 1803.12 219.727 Q1808.45 219.727 1811.55 222.157 Q1814.65 224.565 1814.65 228.685 Q1814.65 231.555 1813.01 233.546 Q1811.36 235.514 1808.33 236.277 Z\" fill=\"#000000\" fill-rule=\"evenodd\" fill-opacity=\"1\" /><polyline clip-path=\"url(#clip440)\" style=\"stroke:#c271d2; stroke-linecap:butt; stroke-linejoin:round; stroke-width:4; stroke-opacity:1; fill:none\" points=\"\n",
       "  1627.83,289.472 1743.22,289.472 \n",
       "  \"/>\n",
       "<path clip-path=\"url(#clip440)\" d=\"M1776.3 309.159 Q1774.49 313.789 1772.78 315.201 Q1771.06 316.613 1768.19 316.613 L1764.79 316.613 L1764.79 313.048 L1767.29 313.048 Q1769.05 313.048 1770.02 312.215 Q1770.99 311.381 1772.17 308.279 L1772.94 306.335 L1762.45 280.826 L1766.97 280.826 L1775.07 301.103 L1783.17 280.826 L1787.68 280.826 L1776.3 309.159 Z\" fill=\"#000000\" fill-rule=\"evenodd\" fill-opacity=\"1\" /><path clip-path=\"url(#clip440)\" d=\"M1807.01 276.266 L1795.21 294.715 L1807.01 294.715 L1807.01 276.266 M1805.79 272.192 L1811.67 272.192 L1811.67 294.715 L1816.6 294.715 L1816.6 298.603 L1811.67 298.603 L1811.67 306.752 L1807.01 306.752 L1807.01 298.603 L1791.41 298.603 L1791.41 294.09 L1805.79 272.192 Z\" fill=\"#000000\" fill-rule=\"evenodd\" fill-opacity=\"1\" /><polyline clip-path=\"url(#clip440)\" style=\"stroke:#ac8d18; stroke-linecap:butt; stroke-linejoin:round; stroke-width:4; stroke-opacity:1; fill:none\" points=\"\n",
       "  1627.83,341.312 1743.22,341.312 \n",
       "  \"/>\n",
       "<path clip-path=\"url(#clip440)\" d=\"M1776.3 360.999 Q1774.49 365.629 1772.78 367.041 Q1771.06 368.453 1768.19 368.453 L1764.79 368.453 L1764.79 364.888 L1767.29 364.888 Q1769.05 364.888 1770.02 364.055 Q1770.99 363.221 1772.17 360.119 L1772.94 358.175 L1762.45 332.666 L1766.97 332.666 L1775.07 352.943 L1783.17 332.666 L1787.68 332.666 L1776.3 360.999 Z\" fill=\"#000000\" fill-rule=\"evenodd\" fill-opacity=\"1\" /><path clip-path=\"url(#clip440)\" d=\"M1794.21 324.032 L1812.57 324.032 L1812.57 327.967 L1798.49 327.967 L1798.49 336.439 Q1799.51 336.092 1800.53 335.93 Q1801.55 335.744 1802.57 335.744 Q1808.36 335.744 1811.73 338.916 Q1815.11 342.087 1815.11 347.504 Q1815.11 353.082 1811.64 356.184 Q1808.17 359.263 1801.85 359.263 Q1799.67 359.263 1797.41 358.893 Q1795.16 358.522 1792.75 357.781 L1792.75 353.082 Q1794.84 354.217 1797.06 354.772 Q1799.28 355.328 1801.76 355.328 Q1805.76 355.328 1808.1 353.221 Q1810.44 351.115 1810.44 347.504 Q1810.44 343.893 1808.1 341.786 Q1805.76 339.68 1801.76 339.68 Q1799.88 339.68 1798.01 340.096 Q1796.16 340.513 1794.21 341.393 L1794.21 324.032 Z\" fill=\"#000000\" fill-rule=\"evenodd\" fill-opacity=\"1\" /><polyline clip-path=\"url(#clip440)\" style=\"stroke:#00a9ad; stroke-linecap:butt; stroke-linejoin:round; stroke-width:4; stroke-opacity:1; fill:none\" points=\"\n",
       "  1627.83,393.152 1743.22,393.152 \n",
       "  \"/>\n",
       "<path clip-path=\"url(#clip440)\" d=\"M1776.3 412.839 Q1774.49 417.469 1772.78 418.881 Q1771.06 420.293 1768.19 420.293 L1764.79 420.293 L1764.79 416.728 L1767.29 416.728 Q1769.05 416.728 1770.02 415.895 Q1770.99 415.061 1772.17 411.959 L1772.94 410.015 L1762.45 384.506 L1766.97 384.506 L1775.07 404.783 L1783.17 384.506 L1787.68 384.506 L1776.3 412.839 Z\" fill=\"#000000\" fill-rule=\"evenodd\" fill-opacity=\"1\" /><path clip-path=\"url(#clip440)\" d=\"M1804.74 391.288 Q1801.6 391.288 1799.74 393.441 Q1797.92 395.594 1797.92 399.344 Q1797.92 403.071 1799.74 405.246 Q1801.6 407.399 1804.74 407.399 Q1807.89 407.399 1809.72 405.246 Q1811.57 403.071 1811.57 399.344 Q1811.57 395.594 1809.72 393.441 Q1807.89 391.288 1804.74 391.288 M1814.03 376.635 L1814.03 380.895 Q1812.27 380.061 1810.46 379.622 Q1808.68 379.182 1806.92 379.182 Q1802.29 379.182 1799.84 382.307 Q1797.41 385.432 1797.06 391.751 Q1798.42 389.737 1800.48 388.672 Q1802.54 387.584 1805.02 387.584 Q1810.23 387.584 1813.24 390.756 Q1816.27 393.904 1816.27 399.344 Q1816.27 404.668 1813.12 407.885 Q1809.98 411.103 1804.74 411.103 Q1798.75 411.103 1795.58 406.52 Q1792.41 401.913 1792.41 393.186 Q1792.41 384.992 1796.29 380.131 Q1800.18 375.247 1806.73 375.247 Q1808.49 375.247 1810.28 375.594 Q1812.08 375.941 1814.03 376.635 Z\" fill=\"#000000\" fill-rule=\"evenodd\" fill-opacity=\"1\" /></svg>\n"
      ]
     },
     "execution_count": 185,
     "metadata": {},
     "output_type": "execute_result"
    }
   ],
   "source": [
    "curves = learning_curve(mach,\n",
    "                        range=r,\n",
    "                        resampling=CV(nfolds=6),\n",
    "                        measure=cross_entropy,\n",
    "                        rng_name=:(evo_tree_classifier.rng),\n",
    "                        rngs=6) # list of RNGs, or num to auto generate\n",
    "plt = plot(curves.parameter_values, curves.measurements)\n",
    "savefig(\"exercise_7c_3.png\")\n",
    "plt"
   ]
  },
  {
   "cell_type": "markdown",
   "metadata": {},
   "source": [
    "If you have multiple threads available in your julia session, you\n",
    "can add the option `acceleration=CPUThreads()` to speed up this\n",
    "computation."
   ]
  },
  {
   "cell_type": "markdown",
   "metadata": {},
   "source": [
    "#### Exercise 8"
   ]
  },
  {
   "cell_type": "code",
   "execution_count": 186,
   "metadata": {},
   "outputs": [
    {
     "name": "stdout",
     "output_type": "stream",
     "text": [
      "import EvoTrees ✔\n"
     ]
    },
    {
     "name": "stderr",
     "output_type": "stream",
     "text": [
      "┌ Info: For silent loading, specify `verbosity=0`. \n",
      "└ @ Main /Users/anthony/.julia/packages/MLJModels/4sRmw/src/loading.jl:168\n"
     ]
    },
    {
     "data": {
      "text/plain": [
       "Pipeline401(\n",
       "    continuous_encoder = ContinuousEncoder(\n",
       "            drop_last = false,\n",
       "            one_hot_ordered_factors = false),\n",
       "    evo_tree_regressor = EvoTreeRegressor(\n",
       "            loss = EvoTrees.Linear(),\n",
       "            nrounds = 70,\n",
       "            λ = 0.0,\n",
       "            γ = 0.0,\n",
       "            η = 0.1,\n",
       "            max_depth = 5,\n",
       "            min_weight = 1.0,\n",
       "            rowsample = 1.0,\n",
       "            colsample = 1.0,\n",
       "            nbins = 64,\n",
       "            α = 0.5,\n",
       "            metric = :mse,\n",
       "            rng = MersenneTwister(123),\n",
       "            device = \"cpu\"))"
      ]
     },
     "execution_count": 186,
     "metadata": {},
     "output_type": "execute_result"
    }
   ],
   "source": [
    "y, X = unpack(house, ==(:price), name -> true, rng=123);\n",
    "\n",
    "EvoTreeRegressor = @load EvoTreeRegressor\n",
    "tree_booster = EvoTreeRegressor(nrounds = 70)\n",
    "model = @pipeline ContinuousEncoder tree_booster"
   ]
  },
  {
   "cell_type": "markdown",
   "metadata": {},
   "source": [
    "(a)"
   ]
  },
  {
   "cell_type": "code",
   "execution_count": 187,
   "metadata": {},
   "outputs": [
    {
     "data": {
      "text/plain": [
       "NumericRange(1 ≤ evo_tree_regressor.max_depth ≤ 12; origin=6.5, unit=5.5)"
      ]
     },
     "execution_count": 187,
     "metadata": {},
     "output_type": "execute_result"
    }
   ],
   "source": [
    "r1 = range(model, :(evo_tree_regressor.max_depth), lower=1, upper=12)"
   ]
  },
  {
   "cell_type": "markdown",
   "metadata": {},
   "source": [
    "(c)"
   ]
  },
  {
   "cell_type": "code",
   "execution_count": 188,
   "metadata": {},
   "outputs": [
    {
     "name": "stderr",
     "output_type": "stream",
     "text": [
      "┌ Info: Training Machine{DeterministicTunedModel{RandomSearch,…},…}.\n",
      "└ @ MLJBase /Users/anthony/.julia/packages/MLJBase/HZmTU/src/machines.jl:403\n",
      "┌ Info: Attempting to evaluate 40 models.\n",
      "└ @ MLJTuning /Users/anthony/.julia/packages/MLJTuning/efiDR/src/tuned_models.jl:685\n",
      "\u001b[33mEvaluating over 40 metamodels: 100%[=========================] Time: 0:03:31\u001b[39m\n"
     ]
    },
    {
     "data": {
      "image/svg+xml": [
       "<?xml version=\"1.0\" encoding=\"utf-8\"?>\n",
       "<svg xmlns=\"http://www.w3.org/2000/svg\" xmlns:xlink=\"http://www.w3.org/1999/xlink\" width=\"550\" height=\"500\" viewBox=\"0 0 2200 2000\">\n",
       "<defs>\n",
       "  <clipPath id=\"clip490\">\n",
       "    <rect x=\"0\" y=\"0\" width=\"2200\" height=\"2000\"/>\n",
       "  </clipPath>\n",
       "</defs>\n",
       "<path clip-path=\"url(#clip490)\" d=\"\n",
       "M0 2000 L2200 2000 L2200 0 L0 0  Z\n",
       "  \" fill=\"#ffffff\" fill-rule=\"evenodd\" fill-opacity=\"1\"/>\n",
       "<defs>\n",
       "  <clipPath id=\"clip491\">\n",
       "    <rect x=\"440\" y=\"20\" width=\"1541\" height=\"1541\"/>\n",
       "  </clipPath>\n",
       "</defs>\n",
       "<path clip-path=\"url(#clip490)\" d=\"\n",
       "M414.729 829.607 L1052.76 829.607 L1052.76 47.2441 L414.729 47.2441  Z\n",
       "  \" fill=\"#ffffff\" fill-rule=\"evenodd\" fill-opacity=\"1\"/>\n",
       "<defs>\n",
       "  <clipPath id=\"clip492\">\n",
       "    <rect x=\"414\" y=\"47\" width=\"639\" height=\"783\"/>\n",
       "  </clipPath>\n",
       "</defs>\n",
       "<polyline clip-path=\"url(#clip492)\" style=\"stroke:#000000; stroke-linecap:butt; stroke-linejoin:round; stroke-width:2; stroke-opacity:0.1; fill:none\" points=\"\n",
       "  514.865,829.607 514.865,47.2441 \n",
       "  \"/>\n",
       "<polyline clip-path=\"url(#clip492)\" style=\"stroke:#000000; stroke-linecap:butt; stroke-linejoin:round; stroke-width:2; stroke-opacity:0.1; fill:none\" points=\"\n",
       "  651.663,829.607 651.663,47.2441 \n",
       "  \"/>\n",
       "<polyline clip-path=\"url(#clip492)\" style=\"stroke:#000000; stroke-linecap:butt; stroke-linejoin:round; stroke-width:2; stroke-opacity:0.1; fill:none\" points=\"\n",
       "  788.462,829.607 788.462,47.2441 \n",
       "  \"/>\n",
       "<polyline clip-path=\"url(#clip492)\" style=\"stroke:#000000; stroke-linecap:butt; stroke-linejoin:round; stroke-width:2; stroke-opacity:0.1; fill:none\" points=\"\n",
       "  925.26,829.607 925.26,47.2441 \n",
       "  \"/>\n",
       "<polyline clip-path=\"url(#clip490)\" style=\"stroke:#000000; stroke-linecap:butt; stroke-linejoin:round; stroke-width:4; stroke-opacity:1; fill:none\" points=\"\n",
       "  414.729,829.607 1052.76,829.607 \n",
       "  \"/>\n",
       "<polyline clip-path=\"url(#clip490)\" style=\"stroke:#000000; stroke-linecap:butt; stroke-linejoin:round; stroke-width:4; stroke-opacity:1; fill:none\" points=\"\n",
       "  414.729,47.2441 1052.76,47.2441 \n",
       "  \"/>\n",
       "<polyline clip-path=\"url(#clip490)\" style=\"stroke:#000000; stroke-linecap:butt; stroke-linejoin:round; stroke-width:4; stroke-opacity:1; fill:none\" points=\"\n",
       "  514.865,829.607 514.865,810.709 \n",
       "  \"/>\n",
       "<polyline clip-path=\"url(#clip490)\" style=\"stroke:#000000; stroke-linecap:butt; stroke-linejoin:round; stroke-width:4; stroke-opacity:1; fill:none\" points=\"\n",
       "  651.663,829.607 651.663,810.709 \n",
       "  \"/>\n",
       "<polyline clip-path=\"url(#clip490)\" style=\"stroke:#000000; stroke-linecap:butt; stroke-linejoin:round; stroke-width:4; stroke-opacity:1; fill:none\" points=\"\n",
       "  788.462,829.607 788.462,810.709 \n",
       "  \"/>\n",
       "<polyline clip-path=\"url(#clip490)\" style=\"stroke:#000000; stroke-linecap:butt; stroke-linejoin:round; stroke-width:4; stroke-opacity:1; fill:none\" points=\"\n",
       "  925.26,829.607 925.26,810.709 \n",
       "  \"/>\n",
       "<path clip-path=\"url(#clip490)\" d=\"M486.601 886.471 L502.921 886.471 L502.921 890.407 L480.976 890.407 L480.976 886.471 Q483.638 883.717 488.222 879.087 Q492.828 874.434 494.009 873.092 Q496.254 870.569 497.134 868.833 Q498.036 867.073 498.036 865.384 Q498.036 862.629 496.092 860.893 Q494.171 859.157 491.069 859.157 Q488.87 859.157 486.416 859.921 Q483.986 860.685 481.208 862.235 L481.208 857.513 Q484.032 856.379 486.486 855.8 Q488.939 855.222 490.976 855.222 Q496.347 855.222 499.541 857.907 Q502.735 860.592 502.735 865.083 Q502.735 867.212 501.925 869.134 Q501.138 871.032 499.032 873.624 Q498.453 874.296 495.351 877.513 Q492.249 880.708 486.601 886.471 Z\" fill=\"#000000\" fill-rule=\"evenodd\" fill-opacity=\"1\" /><path clip-path=\"url(#clip490)\" d=\"M512.735 884.527 L517.62 884.527 L517.62 890.407 L512.735 890.407 L512.735 884.527 Z\" fill=\"#000000\" fill-rule=\"evenodd\" fill-opacity=\"1\" /><path clip-path=\"url(#clip490)\" d=\"M527.851 855.847 L546.207 855.847 L546.207 859.782 L532.133 859.782 L532.133 868.254 Q533.152 867.907 534.17 867.745 Q535.189 867.559 536.207 867.559 Q541.994 867.559 545.374 870.731 Q548.754 873.902 548.754 879.319 Q548.754 884.897 545.281 887.999 Q541.809 891.078 535.49 891.078 Q533.314 891.078 531.045 890.708 Q528.8 890.337 526.393 889.596 L526.393 884.897 Q528.476 886.032 530.698 886.587 Q532.92 887.143 535.397 887.143 Q539.402 887.143 541.74 885.036 Q544.078 882.93 544.078 879.319 Q544.078 875.708 541.74 873.601 Q539.402 871.495 535.397 871.495 Q533.522 871.495 531.647 871.911 Q529.795 872.328 527.851 873.208 L527.851 855.847 Z\" fill=\"#000000\" fill-rule=\"evenodd\" fill-opacity=\"1\" /><path clip-path=\"url(#clip490)\" d=\"M618.828 855.847 L637.184 855.847 L637.184 859.782 L623.11 859.782 L623.11 868.254 Q624.129 867.907 625.147 867.745 Q626.166 867.559 627.184 867.559 Q632.971 867.559 636.351 870.731 Q639.73 873.902 639.73 879.319 Q639.73 884.897 636.258 887.999 Q632.786 891.078 626.467 891.078 Q624.291 891.078 622.022 890.708 Q619.777 890.337 617.369 889.596 L617.369 884.897 Q619.453 886.032 621.675 886.587 Q623.897 887.143 626.374 887.143 Q630.379 887.143 632.717 885.036 Q635.055 882.93 635.055 879.319 Q635.055 875.708 632.717 873.601 Q630.379 871.495 626.374 871.495 Q624.499 871.495 622.624 871.911 Q620.772 872.328 618.828 873.208 L618.828 855.847 Z\" fill=\"#000000\" fill-rule=\"evenodd\" fill-opacity=\"1\" /><path clip-path=\"url(#clip490)\" d=\"M648.943 884.527 L653.828 884.527 L653.828 890.407 L648.943 890.407 L648.943 884.527 Z\" fill=\"#000000\" fill-rule=\"evenodd\" fill-opacity=\"1\" /><path clip-path=\"url(#clip490)\" d=\"M674.013 858.925 Q670.402 858.925 668.573 862.49 Q666.767 866.032 666.767 873.161 Q666.767 880.268 668.573 883.833 Q670.402 887.374 674.013 887.374 Q677.647 887.374 679.452 883.833 Q681.281 880.268 681.281 873.161 Q681.281 866.032 679.452 862.49 Q677.647 858.925 674.013 858.925 M674.013 855.222 Q679.823 855.222 682.878 859.828 Q685.957 864.411 685.957 873.161 Q685.957 881.888 682.878 886.495 Q679.823 891.078 674.013 891.078 Q668.203 891.078 665.124 886.495 Q662.068 881.888 662.068 873.161 Q662.068 864.411 665.124 859.828 Q668.203 855.222 674.013 855.222 Z\" fill=\"#000000\" fill-rule=\"evenodd\" fill-opacity=\"1\" /><path clip-path=\"url(#clip490)\" d=\"M754.781 855.847 L777.003 855.847 L777.003 857.837 L764.457 890.407 L759.573 890.407 L771.378 859.782 L754.781 859.782 L754.781 855.847 Z\" fill=\"#000000\" fill-rule=\"evenodd\" fill-opacity=\"1\" /><path clip-path=\"url(#clip490)\" d=\"M786.124 884.527 L791.008 884.527 L791.008 890.407 L786.124 890.407 L786.124 884.527 Z\" fill=\"#000000\" fill-rule=\"evenodd\" fill-opacity=\"1\" /><path clip-path=\"url(#clip490)\" d=\"M801.239 855.847 L819.596 855.847 L819.596 859.782 L805.522 859.782 L805.522 868.254 Q806.54 867.907 807.559 867.745 Q808.577 867.559 809.596 867.559 Q815.383 867.559 818.762 870.731 Q822.142 873.902 822.142 879.319 Q822.142 884.897 818.67 887.999 Q815.198 891.078 808.878 891.078 Q806.702 891.078 804.434 890.708 Q802.188 890.337 799.781 889.596 L799.781 884.897 Q801.864 886.032 804.087 886.587 Q806.309 887.143 808.786 887.143 Q812.79 887.143 815.128 885.036 Q817.466 882.93 817.466 879.319 Q817.466 875.708 815.128 873.601 Q812.79 871.495 808.786 871.495 Q806.911 871.495 805.036 871.911 Q803.184 872.328 801.239 873.208 L801.239 855.847 Z\" fill=\"#000000\" fill-rule=\"evenodd\" fill-opacity=\"1\" /><path clip-path=\"url(#clip490)\" d=\"M877.332 886.471 L884.971 886.471 L884.971 860.106 L876.661 861.772 L876.661 857.513 L884.924 855.847 L889.6 855.847 L889.6 886.471 L897.239 886.471 L897.239 890.407 L877.332 890.407 L877.332 886.471 Z\" fill=\"#000000\" fill-rule=\"evenodd\" fill-opacity=\"1\" /><path clip-path=\"url(#clip490)\" d=\"M916.684 858.925 Q913.072 858.925 911.244 862.49 Q909.438 866.032 909.438 873.161 Q909.438 880.268 911.244 883.833 Q913.072 887.374 916.684 887.374 Q920.318 887.374 922.123 883.833 Q923.952 880.268 923.952 873.161 Q923.952 866.032 922.123 862.49 Q920.318 858.925 916.684 858.925 M916.684 855.222 Q922.494 855.222 925.549 859.828 Q928.628 864.411 928.628 873.161 Q928.628 881.888 925.549 886.495 Q922.494 891.078 916.684 891.078 Q910.873 891.078 907.795 886.495 Q904.739 881.888 904.739 873.161 Q904.739 864.411 907.795 859.828 Q910.873 855.222 916.684 855.222 Z\" fill=\"#000000\" fill-rule=\"evenodd\" fill-opacity=\"1\" /><path clip-path=\"url(#clip490)\" d=\"M936.845 884.527 L941.73 884.527 L941.73 890.407 L936.845 890.407 L936.845 884.527 Z\" fill=\"#000000\" fill-rule=\"evenodd\" fill-opacity=\"1\" /><path clip-path=\"url(#clip490)\" d=\"M961.915 858.925 Q958.304 858.925 956.475 862.49 Q954.669 866.032 954.669 873.161 Q954.669 880.268 956.475 883.833 Q958.304 887.374 961.915 887.374 Q965.549 887.374 967.355 883.833 Q969.183 880.268 969.183 873.161 Q969.183 866.032 967.355 862.49 Q965.549 858.925 961.915 858.925 M961.915 855.222 Q967.725 855.222 970.78 859.828 Q973.859 864.411 973.859 873.161 Q973.859 881.888 970.78 886.495 Q967.725 891.078 961.915 891.078 Q956.105 891.078 953.026 886.495 Q949.97 881.888 949.97 873.161 Q949.97 864.411 953.026 859.828 Q956.105 855.222 961.915 855.222 Z\" fill=\"#000000\" fill-rule=\"evenodd\" fill-opacity=\"1\" /><polyline clip-path=\"url(#clip492)\" style=\"stroke:#000000; stroke-linecap:butt; stroke-linejoin:round; stroke-width:2; stroke-opacity:0.1; fill:none\" points=\"\n",
       "  414.729,775.349 1052.76,775.349 \n",
       "  \"/>\n",
       "<polyline clip-path=\"url(#clip492)\" style=\"stroke:#000000; stroke-linecap:butt; stroke-linejoin:round; stroke-width:2; stroke-opacity:0.1; fill:none\" points=\"\n",
       "  414.729,665.213 1052.76,665.213 \n",
       "  \"/>\n",
       "<polyline clip-path=\"url(#clip492)\" style=\"stroke:#000000; stroke-linecap:butt; stroke-linejoin:round; stroke-width:2; stroke-opacity:0.1; fill:none\" points=\"\n",
       "  414.729,555.077 1052.76,555.077 \n",
       "  \"/>\n",
       "<polyline clip-path=\"url(#clip492)\" style=\"stroke:#000000; stroke-linecap:butt; stroke-linejoin:round; stroke-width:2; stroke-opacity:0.1; fill:none\" points=\"\n",
       "  414.729,444.941 1052.76,444.941 \n",
       "  \"/>\n",
       "<polyline clip-path=\"url(#clip492)\" style=\"stroke:#000000; stroke-linecap:butt; stroke-linejoin:round; stroke-width:2; stroke-opacity:0.1; fill:none\" points=\"\n",
       "  414.729,334.805 1052.76,334.805 \n",
       "  \"/>\n",
       "<polyline clip-path=\"url(#clip492)\" style=\"stroke:#000000; stroke-linecap:butt; stroke-linejoin:round; stroke-width:2; stroke-opacity:0.1; fill:none\" points=\"\n",
       "  414.729,224.669 1052.76,224.669 \n",
       "  \"/>\n",
       "<polyline clip-path=\"url(#clip492)\" style=\"stroke:#000000; stroke-linecap:butt; stroke-linejoin:round; stroke-width:2; stroke-opacity:0.1; fill:none\" points=\"\n",
       "  414.729,114.533 1052.76,114.533 \n",
       "  \"/>\n",
       "<polyline clip-path=\"url(#clip490)\" style=\"stroke:#000000; stroke-linecap:butt; stroke-linejoin:round; stroke-width:4; stroke-opacity:1; fill:none\" points=\"\n",
       "  414.729,829.607 414.729,47.2441 \n",
       "  \"/>\n",
       "<polyline clip-path=\"url(#clip490)\" style=\"stroke:#000000; stroke-linecap:butt; stroke-linejoin:round; stroke-width:4; stroke-opacity:1; fill:none\" points=\"\n",
       "  1052.76,829.607 1052.76,47.2441 \n",
       "  \"/>\n",
       "<polyline clip-path=\"url(#clip490)\" style=\"stroke:#000000; stroke-linecap:butt; stroke-linejoin:round; stroke-width:4; stroke-opacity:1; fill:none\" points=\"\n",
       "  414.729,775.349 433.626,775.349 \n",
       "  \"/>\n",
       "<polyline clip-path=\"url(#clip490)\" style=\"stroke:#000000; stroke-linecap:butt; stroke-linejoin:round; stroke-width:4; stroke-opacity:1; fill:none\" points=\"\n",
       "  414.729,665.213 433.626,665.213 \n",
       "  \"/>\n",
       "<polyline clip-path=\"url(#clip490)\" style=\"stroke:#000000; stroke-linecap:butt; stroke-linejoin:round; stroke-width:4; stroke-opacity:1; fill:none\" points=\"\n",
       "  414.729,555.077 433.626,555.077 \n",
       "  \"/>\n",
       "<polyline clip-path=\"url(#clip490)\" style=\"stroke:#000000; stroke-linecap:butt; stroke-linejoin:round; stroke-width:4; stroke-opacity:1; fill:none\" points=\"\n",
       "  414.729,444.941 433.626,444.941 \n",
       "  \"/>\n",
       "<polyline clip-path=\"url(#clip490)\" style=\"stroke:#000000; stroke-linecap:butt; stroke-linejoin:round; stroke-width:4; stroke-opacity:1; fill:none\" points=\"\n",
       "  414.729,334.805 433.626,334.805 \n",
       "  \"/>\n",
       "<polyline clip-path=\"url(#clip490)\" style=\"stroke:#000000; stroke-linecap:butt; stroke-linejoin:round; stroke-width:4; stroke-opacity:1; fill:none\" points=\"\n",
       "  414.729,224.669 433.626,224.669 \n",
       "  \"/>\n",
       "<polyline clip-path=\"url(#clip490)\" style=\"stroke:#000000; stroke-linecap:butt; stroke-linejoin:round; stroke-width:4; stroke-opacity:1; fill:none\" points=\"\n",
       "  414.729,114.533 433.626,114.533 \n",
       "  \"/>\n",
       "<path clip-path=\"url(#clip490)\" d=\"M132.54 764.516 L154.762 764.516 L154.762 766.507 L142.216 799.076 L137.332 799.076 L149.137 768.452 L132.54 768.452 L132.54 764.516 Z\" fill=\"#000000\" fill-rule=\"evenodd\" fill-opacity=\"1\" /><path clip-path=\"url(#clip490)\" d=\"M163.883 793.197 L168.767 793.197 L168.767 799.076 L163.883 799.076 L163.883 793.197 Z\" fill=\"#000000\" fill-rule=\"evenodd\" fill-opacity=\"1\" /><path clip-path=\"url(#clip490)\" d=\"M178.998 764.516 L197.355 764.516 L197.355 768.452 L183.281 768.452 L183.281 776.924 Q184.299 776.577 185.318 776.415 Q186.336 776.229 187.355 776.229 Q193.142 776.229 196.521 779.401 Q199.901 782.572 199.901 787.989 Q199.901 793.567 196.429 796.669 Q192.957 799.748 186.637 799.748 Q184.461 799.748 182.193 799.377 Q179.947 799.007 177.54 798.266 L177.54 793.567 Q179.623 794.701 181.845 795.257 Q184.068 795.813 186.544 795.813 Q190.549 795.813 192.887 793.706 Q195.225 791.6 195.225 787.989 Q195.225 784.377 192.887 782.271 Q190.549 780.165 186.544 780.165 Q184.67 780.165 182.795 780.581 Q180.943 780.998 178.998 781.877 L178.998 764.516 Z\" fill=\"#000000\" fill-rule=\"evenodd\" fill-opacity=\"1\" /><path clip-path=\"url(#clip490)\" d=\"M219.114 767.595 Q215.503 767.595 213.674 771.16 Q211.868 774.702 211.868 781.831 Q211.868 788.938 213.674 792.502 Q215.503 796.044 219.114 796.044 Q222.748 796.044 224.554 792.502 Q226.382 788.938 226.382 781.831 Q226.382 774.702 224.554 771.16 Q222.748 767.595 219.114 767.595 M219.114 763.891 Q224.924 763.891 227.979 768.498 Q231.058 773.081 231.058 781.831 Q231.058 790.558 227.979 795.164 Q224.924 799.748 219.114 799.748 Q213.304 799.748 210.225 795.164 Q207.169 790.558 207.169 781.831 Q207.169 773.081 210.225 768.498 Q213.304 763.891 219.114 763.891 Z\" fill=\"#000000\" fill-rule=\"evenodd\" fill-opacity=\"1\" /><path clip-path=\"url(#clip490)\" d=\"M249.276 767.595 Q245.665 767.595 243.836 771.16 Q242.03 774.702 242.03 781.831 Q242.03 788.938 243.836 792.502 Q245.665 796.044 249.276 796.044 Q252.91 796.044 254.715 792.502 Q256.544 788.938 256.544 781.831 Q256.544 774.702 254.715 771.16 Q252.91 767.595 249.276 767.595 M249.276 763.891 Q255.086 763.891 258.141 768.498 Q261.22 773.081 261.22 781.831 Q261.22 790.558 258.141 795.164 Q255.086 799.748 249.276 799.748 Q243.465 799.748 240.387 795.164 Q237.331 790.558 237.331 781.831 Q237.331 773.081 240.387 768.498 Q243.465 763.891 249.276 763.891 Z\" fill=\"#000000\" fill-rule=\"evenodd\" fill-opacity=\"1\" /><path clip-path=\"url(#clip490)\" d=\"M297.609 773.614 L287.03 784.239 L297.609 794.817 L294.854 797.618 L284.229 786.993 L273.604 797.618 L270.873 794.817 L281.428 784.239 L270.873 773.614 L273.604 770.813 L284.229 781.438 L294.854 770.813 L297.609 773.614 Z\" fill=\"#000000\" fill-rule=\"evenodd\" fill-opacity=\"1\" /><path clip-path=\"url(#clip490)\" d=\"M309.97 795.141 L317.609 795.141 L317.609 768.776 L309.298 770.442 L309.298 766.183 L317.562 764.516 L322.238 764.516 L322.238 795.141 L329.877 795.141 L329.877 799.076 L309.97 799.076 L309.97 795.141 Z\" fill=\"#000000\" fill-rule=\"evenodd\" fill-opacity=\"1\" /><path clip-path=\"url(#clip490)\" d=\"M349.321 767.595 Q345.71 767.595 343.882 771.16 Q342.076 774.702 342.076 781.831 Q342.076 788.938 343.882 792.502 Q345.71 796.044 349.321 796.044 Q352.956 796.044 354.761 792.502 Q356.59 788.938 356.59 781.831 Q356.59 774.702 354.761 771.16 Q352.956 767.595 349.321 767.595 M349.321 763.891 Q355.132 763.891 358.187 768.498 Q361.266 773.081 361.266 781.831 Q361.266 790.558 358.187 795.164 Q355.132 799.748 349.321 799.748 Q343.511 799.748 340.433 795.164 Q337.377 790.558 337.377 781.831 Q337.377 773.081 340.433 768.498 Q343.511 763.891 349.321 763.891 Z\" fill=\"#000000\" fill-rule=\"evenodd\" fill-opacity=\"1\" /><path clip-path=\"url(#clip490)\" d=\"M373.942 746.896 L364.35 761.886 L373.942 761.886 L373.942 746.896 M372.945 743.586 L377.723 743.586 L377.723 761.886 L381.729 761.886 L381.729 765.046 L377.723 765.046 L377.723 771.666 L373.942 771.666 L373.942 765.046 L361.266 765.046 L361.266 761.378 L372.945 743.586 Z\" fill=\"#000000\" fill-rule=\"evenodd\" fill-opacity=\"1\" /><path clip-path=\"url(#clip490)\" d=\"M136.825 685.005 L144.464 685.005 L144.464 658.64 L136.154 660.306 L136.154 656.047 L144.418 654.38 L149.094 654.38 L149.094 685.005 L156.733 685.005 L156.733 688.94 L136.825 688.94 L136.825 685.005 Z\" fill=\"#000000\" fill-rule=\"evenodd\" fill-opacity=\"1\" /><path clip-path=\"url(#clip490)\" d=\"M166.177 683.061 L171.061 683.061 L171.061 688.94 L166.177 688.94 L166.177 683.061 Z\" fill=\"#000000\" fill-rule=\"evenodd\" fill-opacity=\"1\" /><path clip-path=\"url(#clip490)\" d=\"M191.246 657.459 Q187.635 657.459 185.807 661.024 Q184.001 664.566 184.001 671.695 Q184.001 678.802 185.807 682.366 Q187.635 685.908 191.246 685.908 Q194.881 685.908 196.686 682.366 Q198.515 678.802 198.515 671.695 Q198.515 664.566 196.686 661.024 Q194.881 657.459 191.246 657.459 M191.246 653.755 Q197.057 653.755 200.112 658.362 Q203.191 662.945 203.191 671.695 Q203.191 680.422 200.112 685.028 Q197.057 689.612 191.246 689.612 Q185.436 689.612 182.358 685.028 Q179.302 680.422 179.302 671.695 Q179.302 662.945 182.358 658.362 Q185.436 653.755 191.246 653.755 Z\" fill=\"#000000\" fill-rule=\"evenodd\" fill-opacity=\"1\" /><path clip-path=\"url(#clip490)\" d=\"M221.408 657.459 Q217.797 657.459 215.969 661.024 Q214.163 664.566 214.163 671.695 Q214.163 678.802 215.969 682.366 Q217.797 685.908 221.408 685.908 Q225.043 685.908 226.848 682.366 Q228.677 678.802 228.677 671.695 Q228.677 664.566 226.848 661.024 Q225.043 657.459 221.408 657.459 M221.408 653.755 Q227.218 653.755 230.274 658.362 Q233.353 662.945 233.353 671.695 Q233.353 680.422 230.274 685.028 Q227.218 689.612 221.408 689.612 Q215.598 689.612 212.519 685.028 Q209.464 680.422 209.464 671.695 Q209.464 662.945 212.519 658.362 Q215.598 653.755 221.408 653.755 Z\" fill=\"#000000\" fill-rule=\"evenodd\" fill-opacity=\"1\" /><path clip-path=\"url(#clip490)\" d=\"M251.57 657.459 Q247.959 657.459 246.13 661.024 Q244.325 664.566 244.325 671.695 Q244.325 678.802 246.13 682.366 Q247.959 685.908 251.57 685.908 Q255.204 685.908 257.01 682.366 Q258.839 678.802 258.839 671.695 Q258.839 664.566 257.01 661.024 Q255.204 657.459 251.57 657.459 M251.57 653.755 Q257.38 653.755 260.436 658.362 Q263.515 662.945 263.515 671.695 Q263.515 680.422 260.436 685.028 Q257.38 689.612 251.57 689.612 Q245.76 689.612 242.681 685.028 Q239.626 680.422 239.626 671.695 Q239.626 662.945 242.681 658.362 Q245.76 653.755 251.57 653.755 Z\" fill=\"#000000\" fill-rule=\"evenodd\" fill-opacity=\"1\" /><path clip-path=\"url(#clip490)\" d=\"M299.903 663.478 L289.325 674.103 L299.903 684.681 L297.149 687.482 L286.524 676.857 L275.899 687.482 L273.167 684.681 L283.723 674.103 L273.167 663.478 L275.899 660.677 L286.524 671.302 L297.149 660.677 L299.903 663.478 Z\" fill=\"#000000\" fill-rule=\"evenodd\" fill-opacity=\"1\" /><path clip-path=\"url(#clip490)\" d=\"M312.264 685.005 L319.903 685.005 L319.903 658.64 L311.593 660.306 L311.593 656.047 L319.857 654.38 L324.533 654.38 L324.533 685.005 L332.172 685.005 L332.172 688.94 L312.264 688.94 L312.264 685.005 Z\" fill=\"#000000\" fill-rule=\"evenodd\" fill-opacity=\"1\" /><path clip-path=\"url(#clip490)\" d=\"M351.616 657.459 Q348.005 657.459 346.176 661.024 Q344.371 664.566 344.371 671.695 Q344.371 678.802 346.176 682.366 Q348.005 685.908 351.616 685.908 Q355.25 685.908 357.056 682.366 Q358.884 678.802 358.884 671.695 Q358.884 664.566 357.056 661.024 Q355.25 657.459 351.616 657.459 M351.616 653.755 Q357.426 653.755 360.482 658.362 Q363.56 662.945 363.56 671.695 Q363.56 680.422 360.482 685.028 Q357.426 689.612 351.616 689.612 Q345.806 689.612 342.727 685.028 Q339.672 680.422 339.672 671.695 Q339.672 662.945 342.727 658.362 Q345.806 653.755 351.616 653.755 Z\" fill=\"#000000\" fill-rule=\"evenodd\" fill-opacity=\"1\" /><path clip-path=\"url(#clip490)\" d=\"M364.745 633.45 L379.66 633.45 L379.66 636.647 L368.225 636.647 L368.225 643.531 Q369.052 643.249 369.88 643.117 Q370.707 642.967 371.535 642.967 Q376.237 642.967 378.983 645.543 Q381.729 648.12 381.729 652.521 Q381.729 657.054 378.907 659.574 Q376.086 662.075 370.952 662.075 Q369.184 662.075 367.341 661.774 Q365.516 661.474 363.56 660.872 L363.56 657.054 Q365.253 657.975 367.059 658.427 Q368.864 658.878 370.877 658.878 Q374.13 658.878 376.03 657.167 Q377.929 655.455 377.929 652.521 Q377.929 649.587 376.03 647.876 Q374.13 646.164 370.877 646.164 Q369.353 646.164 367.83 646.503 Q366.325 646.841 364.745 647.556 L364.745 633.45 Z\" fill=\"#000000\" fill-rule=\"evenodd\" fill-opacity=\"1\" /><path clip-path=\"url(#clip490)\" d=\"M136.825 574.869 L144.464 574.869 L144.464 548.504 L136.154 550.17 L136.154 545.911 L144.418 544.244 L149.094 544.244 L149.094 574.869 L156.733 574.869 L156.733 578.804 L136.825 578.804 L136.825 574.869 Z\" fill=\"#000000\" fill-rule=\"evenodd\" fill-opacity=\"1\" /><path clip-path=\"url(#clip490)\" d=\"M166.177 572.925 L171.061 572.925 L171.061 578.804 L166.177 578.804 L166.177 572.925 Z\" fill=\"#000000\" fill-rule=\"evenodd\" fill-opacity=\"1\" /><path clip-path=\"url(#clip490)\" d=\"M185.274 574.869 L201.594 574.869 L201.594 578.804 L179.649 578.804 L179.649 574.869 Q182.311 572.115 186.895 567.485 Q191.501 562.832 192.682 561.49 Q194.927 558.966 195.807 557.23 Q196.709 555.471 196.709 553.781 Q196.709 551.027 194.765 549.291 Q192.844 547.555 189.742 547.555 Q187.543 547.555 185.089 548.318 Q182.659 549.082 179.881 550.633 L179.881 545.911 Q182.705 544.777 185.159 544.198 Q187.612 543.619 189.649 543.619 Q195.02 543.619 198.214 546.305 Q201.408 548.99 201.408 553.48 Q201.408 555.61 200.598 557.531 Q199.811 559.429 197.705 562.022 Q197.126 562.693 194.024 565.911 Q190.922 569.105 185.274 574.869 Z\" fill=\"#000000\" fill-rule=\"evenodd\" fill-opacity=\"1\" /><path clip-path=\"url(#clip490)\" d=\"M211.455 544.244 L229.811 544.244 L229.811 548.179 L215.737 548.179 L215.737 556.652 Q216.756 556.304 217.774 556.142 Q218.793 555.957 219.811 555.957 Q225.598 555.957 228.978 559.129 Q232.357 562.3 232.357 567.716 Q232.357 573.295 228.885 576.397 Q225.413 579.476 219.094 579.476 Q216.918 579.476 214.649 579.105 Q212.404 578.735 209.996 577.994 L209.996 573.295 Q212.08 574.429 214.302 574.985 Q216.524 575.54 219.001 575.54 Q223.006 575.54 225.343 573.434 Q227.681 571.328 227.681 567.716 Q227.681 564.105 225.343 561.999 Q223.006 559.892 219.001 559.892 Q217.126 559.892 215.251 560.309 Q213.399 560.726 211.455 561.605 L211.455 544.244 Z\" fill=\"#000000\" fill-rule=\"evenodd\" fill-opacity=\"1\" /><path clip-path=\"url(#clip490)\" d=\"M251.57 547.323 Q247.959 547.323 246.13 550.888 Q244.325 554.429 244.325 561.559 Q244.325 568.666 246.13 572.23 Q247.959 575.772 251.57 575.772 Q255.204 575.772 257.01 572.23 Q258.839 568.666 258.839 561.559 Q258.839 554.429 257.01 550.888 Q255.204 547.323 251.57 547.323 M251.57 543.619 Q257.38 543.619 260.436 548.226 Q263.515 552.809 263.515 561.559 Q263.515 570.286 260.436 574.892 Q257.38 579.476 251.57 579.476 Q245.76 579.476 242.681 574.892 Q239.626 570.286 239.626 561.559 Q239.626 552.809 242.681 548.226 Q245.76 543.619 251.57 543.619 Z\" fill=\"#000000\" fill-rule=\"evenodd\" fill-opacity=\"1\" /><path clip-path=\"url(#clip490)\" d=\"M299.903 553.342 L289.325 563.966 L299.903 574.545 L297.149 577.346 L286.524 566.721 L275.899 577.346 L273.167 574.545 L283.723 563.966 L273.167 553.342 L275.899 550.541 L286.524 561.166 L297.149 550.541 L299.903 553.342 Z\" fill=\"#000000\" fill-rule=\"evenodd\" fill-opacity=\"1\" /><path clip-path=\"url(#clip490)\" d=\"M312.264 574.869 L319.903 574.869 L319.903 548.504 L311.593 550.17 L311.593 545.911 L319.857 544.244 L324.533 544.244 L324.533 574.869 L332.172 574.869 L332.172 578.804 L312.264 578.804 L312.264 574.869 Z\" fill=\"#000000\" fill-rule=\"evenodd\" fill-opacity=\"1\" /><path clip-path=\"url(#clip490)\" d=\"M351.616 547.323 Q348.005 547.323 346.176 550.888 Q344.371 554.429 344.371 561.559 Q344.371 568.666 346.176 572.23 Q348.005 575.772 351.616 575.772 Q355.25 575.772 357.056 572.23 Q358.884 568.666 358.884 561.559 Q358.884 554.429 357.056 550.888 Q355.25 547.323 351.616 547.323 M351.616 543.619 Q357.426 543.619 360.482 548.226 Q363.56 552.809 363.56 561.559 Q363.56 570.286 360.482 574.892 Q357.426 579.476 351.616 579.476 Q345.806 579.476 342.727 574.892 Q339.672 570.286 339.672 561.559 Q339.672 552.809 342.727 548.226 Q345.806 543.619 351.616 543.619 Z\" fill=\"#000000\" fill-rule=\"evenodd\" fill-opacity=\"1\" /><path clip-path=\"url(#clip490)\" d=\"M364.745 523.314 L379.66 523.314 L379.66 526.511 L368.225 526.511 L368.225 533.395 Q369.052 533.113 369.88 532.981 Q370.707 532.831 371.535 532.831 Q376.237 532.831 378.983 535.407 Q381.729 537.984 381.729 542.385 Q381.729 546.918 378.907 549.438 Q376.086 551.939 370.952 551.939 Q369.184 551.939 367.341 551.638 Q365.516 551.338 363.56 550.736 L363.56 546.918 Q365.253 547.839 367.059 548.291 Q368.864 548.742 370.877 548.742 Q374.13 548.742 376.03 547.031 Q377.929 545.319 377.929 542.385 Q377.929 539.451 376.03 537.739 Q374.13 536.028 370.877 536.028 Q369.353 536.028 367.83 536.367 Q366.325 536.705 364.745 537.42 L364.745 523.314 Z\" fill=\"#000000\" fill-rule=\"evenodd\" fill-opacity=\"1\" /><path clip-path=\"url(#clip490)\" d=\"M136.825 464.733 L144.464 464.733 L144.464 438.368 L136.154 440.034 L136.154 435.775 L144.418 434.108 L149.094 434.108 L149.094 464.733 L156.733 464.733 L156.733 468.668 L136.825 468.668 L136.825 464.733 Z\" fill=\"#000000\" fill-rule=\"evenodd\" fill-opacity=\"1\" /><path clip-path=\"url(#clip490)\" d=\"M166.177 462.789 L171.061 462.789 L171.061 468.668 L166.177 468.668 L166.177 462.789 Z\" fill=\"#000000\" fill-rule=\"evenodd\" fill-opacity=\"1\" /><path clip-path=\"url(#clip490)\" d=\"M181.293 434.108 L199.649 434.108 L199.649 438.043 L185.575 438.043 L185.575 446.516 Q186.594 446.168 187.612 446.006 Q188.631 445.821 189.649 445.821 Q195.436 445.821 198.816 448.992 Q202.195 452.164 202.195 457.58 Q202.195 463.159 198.723 466.261 Q195.251 469.34 188.932 469.34 Q186.756 469.34 184.487 468.969 Q182.242 468.599 179.834 467.858 L179.834 463.159 Q181.918 464.293 184.14 464.849 Q186.362 465.404 188.839 465.404 Q192.844 465.404 195.182 463.298 Q197.52 461.191 197.52 457.58 Q197.52 453.969 195.182 451.863 Q192.844 449.756 188.839 449.756 Q186.964 449.756 185.089 450.173 Q183.237 450.59 181.293 451.469 L181.293 434.108 Z\" fill=\"#000000\" fill-rule=\"evenodd\" fill-opacity=\"1\" /><path clip-path=\"url(#clip490)\" d=\"M221.408 437.187 Q217.797 437.187 215.969 440.752 Q214.163 444.293 214.163 451.423 Q214.163 458.529 215.969 462.094 Q217.797 465.636 221.408 465.636 Q225.043 465.636 226.848 462.094 Q228.677 458.529 228.677 451.423 Q228.677 444.293 226.848 440.752 Q225.043 437.187 221.408 437.187 M221.408 433.483 Q227.218 433.483 230.274 438.09 Q233.353 442.673 233.353 451.423 Q233.353 460.15 230.274 464.756 Q227.218 469.34 221.408 469.34 Q215.598 469.34 212.519 464.756 Q209.464 460.15 209.464 451.423 Q209.464 442.673 212.519 438.09 Q215.598 433.483 221.408 433.483 Z\" fill=\"#000000\" fill-rule=\"evenodd\" fill-opacity=\"1\" /><path clip-path=\"url(#clip490)\" d=\"M251.57 437.187 Q247.959 437.187 246.13 440.752 Q244.325 444.293 244.325 451.423 Q244.325 458.529 246.13 462.094 Q247.959 465.636 251.57 465.636 Q255.204 465.636 257.01 462.094 Q258.839 458.529 258.839 451.423 Q258.839 444.293 257.01 440.752 Q255.204 437.187 251.57 437.187 M251.57 433.483 Q257.38 433.483 260.436 438.09 Q263.515 442.673 263.515 451.423 Q263.515 460.15 260.436 464.756 Q257.38 469.34 251.57 469.34 Q245.76 469.34 242.681 464.756 Q239.626 460.15 239.626 451.423 Q239.626 442.673 242.681 438.09 Q245.76 433.483 251.57 433.483 Z\" fill=\"#000000\" fill-rule=\"evenodd\" fill-opacity=\"1\" /><path clip-path=\"url(#clip490)\" d=\"M299.903 443.205 L289.325 453.83 L299.903 464.409 L297.149 467.21 L286.524 456.585 L275.899 467.21 L273.167 464.409 L283.723 453.83 L273.167 443.205 L275.899 440.405 L286.524 451.029 L297.149 440.405 L299.903 443.205 Z\" fill=\"#000000\" fill-rule=\"evenodd\" fill-opacity=\"1\" /><path clip-path=\"url(#clip490)\" d=\"M312.264 464.733 L319.903 464.733 L319.903 438.368 L311.593 440.034 L311.593 435.775 L319.857 434.108 L324.533 434.108 L324.533 464.733 L332.172 464.733 L332.172 468.668 L312.264 468.668 L312.264 464.733 Z\" fill=\"#000000\" fill-rule=\"evenodd\" fill-opacity=\"1\" /><path clip-path=\"url(#clip490)\" d=\"M351.616 437.187 Q348.005 437.187 346.176 440.752 Q344.371 444.293 344.371 451.423 Q344.371 458.529 346.176 462.094 Q348.005 465.636 351.616 465.636 Q355.25 465.636 357.056 462.094 Q358.884 458.529 358.884 451.423 Q358.884 444.293 357.056 440.752 Q355.25 437.187 351.616 437.187 M351.616 433.483 Q357.426 433.483 360.482 438.09 Q363.56 442.673 363.56 451.423 Q363.56 460.15 360.482 464.756 Q357.426 469.34 351.616 469.34 Q345.806 469.34 342.727 464.756 Q339.672 460.15 339.672 451.423 Q339.672 442.673 342.727 438.09 Q345.806 433.483 351.616 433.483 Z\" fill=\"#000000\" fill-rule=\"evenodd\" fill-opacity=\"1\" /><path clip-path=\"url(#clip490)\" d=\"M364.745 413.178 L379.66 413.178 L379.66 416.375 L368.225 416.375 L368.225 423.259 Q369.052 422.977 369.88 422.845 Q370.707 422.695 371.535 422.695 Q376.237 422.695 378.983 425.271 Q381.729 427.848 381.729 432.249 Q381.729 436.782 378.907 439.302 Q376.086 441.803 370.952 441.803 Q369.184 441.803 367.341 441.502 Q365.516 441.201 363.56 440.6 L363.56 436.782 Q365.253 437.703 367.059 438.155 Q368.864 438.606 370.877 438.606 Q374.13 438.606 376.03 436.894 Q377.929 435.183 377.929 432.249 Q377.929 429.315 376.03 427.603 Q374.13 425.892 370.877 425.892 Q369.353 425.892 367.83 426.23 Q366.325 426.569 364.745 427.284 L364.745 413.178 Z\" fill=\"#000000\" fill-rule=\"evenodd\" fill-opacity=\"1\" /><path clip-path=\"url(#clip490)\" d=\"M136.825 354.597 L144.464 354.597 L144.464 328.231 L136.154 329.898 L136.154 325.639 L144.418 323.972 L149.094 323.972 L149.094 354.597 L156.733 354.597 L156.733 358.532 L136.825 358.532 L136.825 354.597 Z\" fill=\"#000000\" fill-rule=\"evenodd\" fill-opacity=\"1\" /><path clip-path=\"url(#clip490)\" d=\"M166.177 352.653 L171.061 352.653 L171.061 358.532 L166.177 358.532 L166.177 352.653 Z\" fill=\"#000000\" fill-rule=\"evenodd\" fill-opacity=\"1\" /><path clip-path=\"url(#clip490)\" d=\"M180.066 323.972 L202.288 323.972 L202.288 325.963 L189.742 358.532 L184.858 358.532 L196.663 327.907 L180.066 327.907 L180.066 323.972 Z\" fill=\"#000000\" fill-rule=\"evenodd\" fill-opacity=\"1\" /><path clip-path=\"url(#clip490)\" d=\"M211.455 323.972 L229.811 323.972 L229.811 327.907 L215.737 327.907 L215.737 336.38 Q216.756 336.032 217.774 335.87 Q218.793 335.685 219.811 335.685 Q225.598 335.685 228.978 338.856 Q232.357 342.028 232.357 347.444 Q232.357 353.023 228.885 356.125 Q225.413 359.204 219.094 359.204 Q216.918 359.204 214.649 358.833 Q212.404 358.463 209.996 357.722 L209.996 353.023 Q212.08 354.157 214.302 354.713 Q216.524 355.268 219.001 355.268 Q223.006 355.268 225.343 353.162 Q227.681 351.055 227.681 347.444 Q227.681 343.833 225.343 341.727 Q223.006 339.62 219.001 339.62 Q217.126 339.62 215.251 340.037 Q213.399 340.454 211.455 341.333 L211.455 323.972 Z\" fill=\"#000000\" fill-rule=\"evenodd\" fill-opacity=\"1\" /><path clip-path=\"url(#clip490)\" d=\"M251.57 327.051 Q247.959 327.051 246.13 330.616 Q244.325 334.157 244.325 341.287 Q244.325 348.393 246.13 351.958 Q247.959 355.5 251.57 355.5 Q255.204 355.5 257.01 351.958 Q258.839 348.393 258.839 341.287 Q258.839 334.157 257.01 330.616 Q255.204 327.051 251.57 327.051 M251.57 323.347 Q257.38 323.347 260.436 327.954 Q263.515 332.537 263.515 341.287 Q263.515 350.014 260.436 354.62 Q257.38 359.204 251.57 359.204 Q245.76 359.204 242.681 354.62 Q239.626 350.014 239.626 341.287 Q239.626 332.537 242.681 327.954 Q245.76 323.347 251.57 323.347 Z\" fill=\"#000000\" fill-rule=\"evenodd\" fill-opacity=\"1\" /><path clip-path=\"url(#clip490)\" d=\"M299.903 333.069 L289.325 343.694 L299.903 354.273 L297.149 357.074 L286.524 346.449 L275.899 357.074 L273.167 354.273 L283.723 343.694 L273.167 333.069 L275.899 330.268 L286.524 340.893 L297.149 330.268 L299.903 333.069 Z\" fill=\"#000000\" fill-rule=\"evenodd\" fill-opacity=\"1\" /><path clip-path=\"url(#clip490)\" d=\"M312.264 354.597 L319.903 354.597 L319.903 328.231 L311.593 329.898 L311.593 325.639 L319.857 323.972 L324.533 323.972 L324.533 354.597 L332.172 354.597 L332.172 358.532 L312.264 358.532 L312.264 354.597 Z\" fill=\"#000000\" fill-rule=\"evenodd\" fill-opacity=\"1\" /><path clip-path=\"url(#clip490)\" d=\"M351.616 327.051 Q348.005 327.051 346.176 330.616 Q344.371 334.157 344.371 341.287 Q344.371 348.393 346.176 351.958 Q348.005 355.5 351.616 355.5 Q355.25 355.5 357.056 351.958 Q358.884 348.393 358.884 341.287 Q358.884 334.157 357.056 330.616 Q355.25 327.051 351.616 327.051 M351.616 323.347 Q357.426 323.347 360.482 327.954 Q363.56 332.537 363.56 341.287 Q363.56 350.014 360.482 354.62 Q357.426 359.204 351.616 359.204 Q345.806 359.204 342.727 354.62 Q339.672 350.014 339.672 341.287 Q339.672 332.537 342.727 327.954 Q345.806 323.347 351.616 323.347 Z\" fill=\"#000000\" fill-rule=\"evenodd\" fill-opacity=\"1\" /><path clip-path=\"url(#clip490)\" d=\"M364.745 303.042 L379.66 303.042 L379.66 306.239 L368.225 306.239 L368.225 313.123 Q369.052 312.841 369.88 312.709 Q370.707 312.559 371.535 312.559 Q376.237 312.559 378.983 315.135 Q381.729 317.712 381.729 322.113 Q381.729 326.646 378.907 329.166 Q376.086 331.667 370.952 331.667 Q369.184 331.667 367.341 331.366 Q365.516 331.065 363.56 330.464 L363.56 326.646 Q365.253 327.567 367.059 328.019 Q368.864 328.47 370.877 328.47 Q374.13 328.47 376.03 326.758 Q377.929 325.047 377.929 322.113 Q377.929 319.179 376.03 317.467 Q374.13 315.756 370.877 315.756 Q369.353 315.756 367.83 316.094 Q366.325 316.433 364.745 317.148 L364.745 303.042 Z\" fill=\"#000000\" fill-rule=\"evenodd\" fill-opacity=\"1\" /><path clip-path=\"url(#clip490)\" d=\"M140.043 244.461 L156.362 244.461 L156.362 248.396 L134.418 248.396 L134.418 244.461 Q137.08 241.706 141.663 237.077 Q146.27 232.424 147.45 231.081 Q149.696 228.558 150.575 226.822 Q151.478 225.063 151.478 223.373 Q151.478 220.619 149.534 218.882 Q147.612 217.146 144.511 217.146 Q142.312 217.146 139.858 217.91 Q137.427 218.674 134.65 220.225 L134.65 215.503 Q137.474 214.369 139.927 213.79 Q142.381 213.211 144.418 213.211 Q149.788 213.211 152.983 215.896 Q156.177 218.582 156.177 223.072 Q156.177 225.202 155.367 227.123 Q154.58 229.021 152.473 231.614 Q151.895 232.285 148.793 235.503 Q145.691 238.697 140.043 244.461 Z\" fill=\"#000000\" fill-rule=\"evenodd\" fill-opacity=\"1\" /><path clip-path=\"url(#clip490)\" d=\"M166.177 242.517 L171.061 242.517 L171.061 248.396 L166.177 248.396 L166.177 242.517 Z\" fill=\"#000000\" fill-rule=\"evenodd\" fill-opacity=\"1\" /><path clip-path=\"url(#clip490)\" d=\"M191.246 216.915 Q187.635 216.915 185.807 220.48 Q184.001 224.021 184.001 231.151 Q184.001 238.257 185.807 241.822 Q187.635 245.364 191.246 245.364 Q194.881 245.364 196.686 241.822 Q198.515 238.257 198.515 231.151 Q198.515 224.021 196.686 220.48 Q194.881 216.915 191.246 216.915 M191.246 213.211 Q197.057 213.211 200.112 217.818 Q203.191 222.401 203.191 231.151 Q203.191 239.878 200.112 244.484 Q197.057 249.067 191.246 249.067 Q185.436 249.067 182.358 244.484 Q179.302 239.878 179.302 231.151 Q179.302 222.401 182.358 217.818 Q185.436 213.211 191.246 213.211 Z\" fill=\"#000000\" fill-rule=\"evenodd\" fill-opacity=\"1\" /><path clip-path=\"url(#clip490)\" d=\"M221.408 216.915 Q217.797 216.915 215.969 220.48 Q214.163 224.021 214.163 231.151 Q214.163 238.257 215.969 241.822 Q217.797 245.364 221.408 245.364 Q225.043 245.364 226.848 241.822 Q228.677 238.257 228.677 231.151 Q228.677 224.021 226.848 220.48 Q225.043 216.915 221.408 216.915 M221.408 213.211 Q227.218 213.211 230.274 217.818 Q233.353 222.401 233.353 231.151 Q233.353 239.878 230.274 244.484 Q227.218 249.067 221.408 249.067 Q215.598 249.067 212.519 244.484 Q209.464 239.878 209.464 231.151 Q209.464 222.401 212.519 217.818 Q215.598 213.211 221.408 213.211 Z\" fill=\"#000000\" fill-rule=\"evenodd\" fill-opacity=\"1\" /><path clip-path=\"url(#clip490)\" d=\"M251.57 216.915 Q247.959 216.915 246.13 220.48 Q244.325 224.021 244.325 231.151 Q244.325 238.257 246.13 241.822 Q247.959 245.364 251.57 245.364 Q255.204 245.364 257.01 241.822 Q258.839 238.257 258.839 231.151 Q258.839 224.021 257.01 220.48 Q255.204 216.915 251.57 216.915 M251.57 213.211 Q257.38 213.211 260.436 217.818 Q263.515 222.401 263.515 231.151 Q263.515 239.878 260.436 244.484 Q257.38 249.067 251.57 249.067 Q245.76 249.067 242.681 244.484 Q239.626 239.878 239.626 231.151 Q239.626 222.401 242.681 217.818 Q245.76 213.211 251.57 213.211 Z\" fill=\"#000000\" fill-rule=\"evenodd\" fill-opacity=\"1\" /><path clip-path=\"url(#clip490)\" d=\"M299.903 222.933 L289.325 233.558 L299.903 244.137 L297.149 246.938 L286.524 236.313 L275.899 246.938 L273.167 244.137 L283.723 233.558 L273.167 222.933 L275.899 220.132 L286.524 230.757 L297.149 220.132 L299.903 222.933 Z\" fill=\"#000000\" fill-rule=\"evenodd\" fill-opacity=\"1\" /><path clip-path=\"url(#clip490)\" d=\"M312.264 244.461 L319.903 244.461 L319.903 218.095 L311.593 219.762 L311.593 215.503 L319.857 213.836 L324.533 213.836 L324.533 244.461 L332.172 244.461 L332.172 248.396 L312.264 248.396 L312.264 244.461 Z\" fill=\"#000000\" fill-rule=\"evenodd\" fill-opacity=\"1\" /><path clip-path=\"url(#clip490)\" d=\"M351.616 216.915 Q348.005 216.915 346.176 220.48 Q344.371 224.021 344.371 231.151 Q344.371 238.257 346.176 241.822 Q348.005 245.364 351.616 245.364 Q355.25 245.364 357.056 241.822 Q358.884 238.257 358.884 231.151 Q358.884 224.021 357.056 220.48 Q355.25 216.915 351.616 216.915 M351.616 213.211 Q357.426 213.211 360.482 217.818 Q363.56 222.401 363.56 231.151 Q363.56 239.878 360.482 244.484 Q357.426 249.067 351.616 249.067 Q345.806 249.067 342.727 244.484 Q339.672 239.878 339.672 231.151 Q339.672 222.401 342.727 217.818 Q345.806 213.211 351.616 213.211 Z\" fill=\"#000000\" fill-rule=\"evenodd\" fill-opacity=\"1\" /><path clip-path=\"url(#clip490)\" d=\"M364.745 192.906 L379.66 192.906 L379.66 196.103 L368.225 196.103 L368.225 202.987 Q369.052 202.705 369.88 202.573 Q370.707 202.422 371.535 202.422 Q376.237 202.422 378.983 204.999 Q381.729 207.576 381.729 211.977 Q381.729 216.51 378.907 219.03 Q376.086 221.531 370.952 221.531 Q369.184 221.531 367.341 221.23 Q365.516 220.929 363.56 220.327 L363.56 216.51 Q365.253 217.431 367.059 217.882 Q368.864 218.334 370.877 218.334 Q374.13 218.334 376.03 216.622 Q377.929 214.911 377.929 211.977 Q377.929 209.043 376.03 207.331 Q374.13 205.62 370.877 205.62 Q369.353 205.62 367.83 205.958 Q366.325 206.297 364.745 207.012 L364.745 192.906 Z\" fill=\"#000000\" fill-rule=\"evenodd\" fill-opacity=\"1\" /><path clip-path=\"url(#clip490)\" d=\"M140.043 134.325 L156.362 134.325 L156.362 138.26 L134.418 138.26 L134.418 134.325 Q137.08 131.57 141.663 126.941 Q146.27 122.288 147.45 120.945 Q149.696 118.422 150.575 116.686 Q151.478 114.927 151.478 113.237 Q151.478 110.482 149.534 108.746 Q147.612 107.01 144.511 107.01 Q142.312 107.01 139.858 107.774 Q137.427 108.538 134.65 110.089 L134.65 105.367 Q137.474 104.233 139.927 103.654 Q142.381 103.075 144.418 103.075 Q149.788 103.075 152.983 105.76 Q156.177 108.445 156.177 112.936 Q156.177 115.066 155.367 116.987 Q154.58 118.885 152.473 121.478 Q151.895 122.149 148.793 125.367 Q145.691 128.561 140.043 134.325 Z\" fill=\"#000000\" fill-rule=\"evenodd\" fill-opacity=\"1\" /><path clip-path=\"url(#clip490)\" d=\"M166.177 132.381 L171.061 132.381 L171.061 138.26 L166.177 138.26 L166.177 132.381 Z\" fill=\"#000000\" fill-rule=\"evenodd\" fill-opacity=\"1\" /><path clip-path=\"url(#clip490)\" d=\"M185.274 134.325 L201.594 134.325 L201.594 138.26 L179.649 138.26 L179.649 134.325 Q182.311 131.57 186.895 126.941 Q191.501 122.288 192.682 120.945 Q194.927 118.422 195.807 116.686 Q196.709 114.927 196.709 113.237 Q196.709 110.482 194.765 108.746 Q192.844 107.01 189.742 107.01 Q187.543 107.01 185.089 107.774 Q182.659 108.538 179.881 110.089 L179.881 105.367 Q182.705 104.233 185.159 103.654 Q187.612 103.075 189.649 103.075 Q195.02 103.075 198.214 105.76 Q201.408 108.445 201.408 112.936 Q201.408 115.066 200.598 116.987 Q199.811 118.885 197.705 121.478 Q197.126 122.149 194.024 125.367 Q190.922 128.561 185.274 134.325 Z\" fill=\"#000000\" fill-rule=\"evenodd\" fill-opacity=\"1\" /><path clip-path=\"url(#clip490)\" d=\"M211.455 103.7 L229.811 103.7 L229.811 107.635 L215.737 107.635 L215.737 116.107 Q216.756 115.76 217.774 115.598 Q218.793 115.413 219.811 115.413 Q225.598 115.413 228.978 118.584 Q232.357 121.756 232.357 127.172 Q232.357 132.751 228.885 135.853 Q225.413 138.931 219.094 138.931 Q216.918 138.931 214.649 138.561 Q212.404 138.191 209.996 137.45 L209.996 132.751 Q212.08 133.885 214.302 134.441 Q216.524 134.996 219.001 134.996 Q223.006 134.996 225.343 132.89 Q227.681 130.783 227.681 127.172 Q227.681 123.561 225.343 121.455 Q223.006 119.348 219.001 119.348 Q217.126 119.348 215.251 119.765 Q213.399 120.181 211.455 121.061 L211.455 103.7 Z\" fill=\"#000000\" fill-rule=\"evenodd\" fill-opacity=\"1\" /><path clip-path=\"url(#clip490)\" d=\"M251.57 106.779 Q247.959 106.779 246.13 110.344 Q244.325 113.885 244.325 121.015 Q244.325 128.121 246.13 131.686 Q247.959 135.228 251.57 135.228 Q255.204 135.228 257.01 131.686 Q258.839 128.121 258.839 121.015 Q258.839 113.885 257.01 110.344 Q255.204 106.779 251.57 106.779 M251.57 103.075 Q257.38 103.075 260.436 107.682 Q263.515 112.265 263.515 121.015 Q263.515 129.742 260.436 134.348 Q257.38 138.931 251.57 138.931 Q245.76 138.931 242.681 134.348 Q239.626 129.742 239.626 121.015 Q239.626 112.265 242.681 107.682 Q245.76 103.075 251.57 103.075 Z\" fill=\"#000000\" fill-rule=\"evenodd\" fill-opacity=\"1\" /><path clip-path=\"url(#clip490)\" d=\"M299.903 112.797 L289.325 123.422 L299.903 134.001 L297.149 136.802 L286.524 126.177 L275.899 136.802 L273.167 134.001 L283.723 123.422 L273.167 112.797 L275.899 109.996 L286.524 120.621 L297.149 109.996 L299.903 112.797 Z\" fill=\"#000000\" fill-rule=\"evenodd\" fill-opacity=\"1\" /><path clip-path=\"url(#clip490)\" d=\"M312.264 134.325 L319.903 134.325 L319.903 107.959 L311.593 109.626 L311.593 105.367 L319.857 103.7 L324.533 103.7 L324.533 134.325 L332.172 134.325 L332.172 138.26 L312.264 138.26 L312.264 134.325 Z\" fill=\"#000000\" fill-rule=\"evenodd\" fill-opacity=\"1\" /><path clip-path=\"url(#clip490)\" d=\"M351.616 106.779 Q348.005 106.779 346.176 110.344 Q344.371 113.885 344.371 121.015 Q344.371 128.121 346.176 131.686 Q348.005 135.228 351.616 135.228 Q355.25 135.228 357.056 131.686 Q358.884 128.121 358.884 121.015 Q358.884 113.885 357.056 110.344 Q355.25 106.779 351.616 106.779 M351.616 103.075 Q357.426 103.075 360.482 107.682 Q363.56 112.265 363.56 121.015 Q363.56 129.742 360.482 134.348 Q357.426 138.931 351.616 138.931 Q345.806 138.931 342.727 134.348 Q339.672 129.742 339.672 121.015 Q339.672 112.265 342.727 107.682 Q345.806 103.075 351.616 103.075 Z\" fill=\"#000000\" fill-rule=\"evenodd\" fill-opacity=\"1\" /><path clip-path=\"url(#clip490)\" d=\"M364.745 82.7697 L379.66 82.7697 L379.66 85.967 L368.225 85.967 L368.225 92.8507 Q369.052 92.5686 369.88 92.4369 Q370.707 92.2864 371.535 92.2864 Q376.237 92.2864 378.983 94.8631 Q381.729 97.4398 381.729 101.841 Q381.729 106.373 378.907 108.894 Q376.086 111.395 370.952 111.395 Q369.184 111.395 367.341 111.094 Q365.516 110.793 363.56 110.191 L363.56 106.373 Q365.253 107.295 367.059 107.746 Q368.864 108.198 370.877 108.198 Q374.13 108.198 376.03 106.486 Q377.929 104.775 377.929 101.841 Q377.929 98.9068 376.03 97.1953 Q374.13 95.4838 370.877 95.4838 Q369.353 95.4838 367.83 95.8223 Q366.325 96.1608 364.745 96.8755 L364.745 82.7697 Z\" fill=\"#000000\" fill-rule=\"evenodd\" fill-opacity=\"1\" /><path clip-path=\"url(#clip490)\" d=\"M37.7642 745.921 L37.7642 736.34 L70.1019 724.214 L37.7642 712.023 L37.7642 702.443 L85.2842 702.443 L85.2842 708.713 L43.557 708.713 L76.1494 720.967 L76.1494 727.428 L43.557 739.682 L85.2842 739.682 L85.2842 745.921 L37.7642 745.921 Z\" fill=\"#000000\" fill-rule=\"evenodd\" fill-opacity=\"1\" /><path clip-path=\"url(#clip490)\" d=\"M65.9961 659.443 L68.8606 659.443 L68.8606 686.37 Q74.9081 685.988 78.0909 682.741 Q81.2419 679.463 81.2419 673.638 Q81.2419 670.264 80.4144 667.113 Q79.5869 663.93 77.9318 660.811 L83.4699 660.811 Q84.8067 663.962 85.507 667.272 Q86.2072 670.583 86.2072 673.988 Q86.2072 682.518 81.2419 687.515 Q76.2767 692.481 67.8103 692.481 Q59.0574 692.481 53.9331 687.77 Q48.7768 683.028 48.7768 675.007 Q48.7768 667.814 53.4238 663.644 Q58.0389 659.443 65.9961 659.443 M64.2773 665.299 Q59.4712 665.363 56.6066 668.005 Q53.7421 670.614 53.7421 674.943 Q53.7421 679.845 56.5112 682.805 Q59.2802 685.733 64.3092 686.179 L64.2773 665.299 Z\" fill=\"#000000\" fill-rule=\"evenodd\" fill-opacity=\"1\" /><path clip-path=\"url(#clip490)\" d=\"M67.3647 633.63 Q67.3647 640.727 68.9879 643.465 Q70.6112 646.202 74.5261 646.202 Q77.6453 646.202 79.4914 644.165 Q81.3056 642.096 81.3056 638.563 Q81.3056 633.693 77.8681 630.765 Q74.3988 627.805 68.6697 627.805 L67.3647 627.805 L67.3647 633.63 M64.9457 621.949 L85.2842 621.949 L85.2842 627.805 L79.8733 627.805 Q83.1198 629.81 84.6794 632.802 Q86.2072 635.794 86.2072 640.123 Q86.2072 645.597 83.1516 648.844 Q80.0643 652.058 74.9081 652.058 Q68.8925 652.058 65.8369 648.048 Q62.7814 644.006 62.7814 636.017 L62.7814 627.805 L62.2085 627.805 Q58.1662 627.805 55.9701 630.479 Q53.7421 633.12 53.7421 637.927 Q53.7421 640.982 54.4741 643.879 Q55.2062 646.775 56.6703 649.449 L51.2595 649.449 Q50.0181 646.234 49.4134 643.21 Q48.7768 640.186 48.7768 637.322 Q48.7768 629.588 52.7872 625.768 Q56.7976 621.949 64.9457 621.949 Z\" fill=\"#000000\" fill-rule=\"evenodd\" fill-opacity=\"1\" /><path clip-path=\"url(#clip490)\" d=\"M63.7681 580.253 L85.2842 580.253 L85.2842 586.11 L63.959 586.11 Q58.8983 586.11 56.3838 588.083 Q53.8694 590.056 53.8694 594.003 Q53.8694 598.746 56.8931 601.483 Q59.9168 604.22 65.1367 604.22 L85.2842 604.22 L85.2842 610.108 L49.6362 610.108 L49.6362 604.22 L55.1744 604.22 Q51.9597 602.119 50.3683 599.287 Q48.7768 596.422 48.7768 592.698 Q48.7768 586.555 52.5963 583.404 Q56.3838 580.253 63.7681 580.253 Z\" fill=\"#000000\" fill-rule=\"evenodd\" fill-opacity=\"1\" /><path clip-path=\"url(#clip490)\" d=\"M44.098 552.435 L67.7466 561.156 L67.7466 543.682 L44.098 552.435 M37.7642 556.064 L37.7642 548.775 L85.2842 530.664 L85.2842 537.348 L73.0938 541.677 L73.0938 563.098 L85.2842 567.426 L85.2842 574.206 L37.7642 556.064 Z\" fill=\"#000000\" fill-rule=\"evenodd\" fill-opacity=\"1\" /><path clip-path=\"url(#clip490)\" d=\"M67.492 498.39 Q61.0308 498.39 57.3705 501.064 Q53.6784 503.706 53.6784 508.353 Q53.6784 513 57.3705 515.673 Q61.0308 518.315 67.492 518.315 Q73.9532 518.315 77.6453 515.673 Q81.3056 513 81.3056 508.353 Q81.3056 503.706 77.6453 501.064 Q73.9532 498.39 67.492 498.39 M55.0471 518.315 Q51.8642 516.469 50.3364 513.668 Q48.7768 510.835 48.7768 506.92 Q48.7768 500.427 53.9331 496.385 Q59.0893 492.311 67.492 492.311 Q75.8947 492.311 81.051 496.385 Q86.2072 500.427 86.2072 506.92 Q86.2072 510.835 84.6794 513.668 Q83.1198 516.469 79.937 518.315 L85.2842 518.315 L85.2842 524.203 L35.759 524.203 L35.759 518.315 L55.0471 518.315 Z\" fill=\"#000000\" fill-rule=\"evenodd\" fill-opacity=\"1\" /><path clip-path=\"url(#clip490)\" d=\"M50.6865 459.878 L56.2247 459.878 Q54.9516 462.36 54.315 465.034 Q53.6784 467.708 53.6784 470.572 Q53.6784 474.933 55.0152 477.129 Q56.352 479.293 59.0256 479.293 Q61.0626 479.293 62.2403 477.734 Q63.3861 476.174 64.4365 471.463 L64.8821 469.458 Q66.2189 463.22 68.6697 460.61 Q71.0886 457.968 75.4491 457.968 Q80.4144 457.968 83.3108 461.915 Q86.2072 465.83 86.2072 472.705 Q86.2072 475.569 85.6343 478.688 Q85.0932 481.776 83.9792 485.213 L77.9318 485.213 Q79.6187 481.967 80.478 478.816 Q81.3056 475.665 81.3056 472.577 Q81.3056 468.44 79.9051 466.212 Q78.4729 463.984 75.8947 463.984 Q73.5076 463.984 72.2345 465.607 Q70.9613 467.198 69.7837 472.641 L69.3062 474.678 Q68.1604 480.121 65.8051 482.54 Q63.418 484.959 59.2802 484.959 Q54.2513 484.959 51.5141 481.394 Q48.7768 477.829 48.7768 471.272 Q48.7768 468.026 49.2543 465.161 Q49.7317 462.297 50.6865 459.878 Z\" fill=\"#000000\" fill-rule=\"evenodd\" fill-opacity=\"1\" /><path clip-path=\"url(#clip490)\" d=\"M53.7421 434.829 Q53.7421 439.539 57.4342 442.277 Q61.0945 445.014 67.492 445.014 Q73.8895 445.014 77.5817 442.308 Q81.2419 439.571 81.2419 434.829 Q81.2419 430.15 77.5498 427.413 Q73.8577 424.675 67.492 424.675 Q61.1581 424.675 57.466 427.413 Q53.7421 430.15 53.7421 434.829 M48.7768 434.829 Q48.7768 427.19 53.7421 422.829 Q58.7073 418.469 67.492 418.469 Q76.2449 418.469 81.2419 422.829 Q86.2072 427.19 86.2072 434.829 Q86.2072 442.499 81.2419 446.86 Q76.2449 451.189 67.492 451.189 Q58.7073 451.189 53.7421 446.86 Q48.7768 442.499 48.7768 434.829 Z\" fill=\"#000000\" fill-rule=\"evenodd\" fill-opacity=\"1\" /><path clip-path=\"url(#clip490)\" d=\"M35.759 408.761 L35.759 402.905 L85.2842 402.905 L85.2842 408.761 L35.759 408.761 Z\" fill=\"#000000\" fill-rule=\"evenodd\" fill-opacity=\"1\" /><path clip-path=\"url(#clip490)\" d=\"M71.2159 391.255 L49.6362 391.255 L49.6362 385.399 L70.9931 385.399 Q76.0539 385.399 78.6002 383.426 Q81.1146 381.452 81.1146 377.506 Q81.1146 372.763 78.0909 370.026 Q75.0672 367.257 69.8473 367.257 L49.6362 367.257 L49.6362 361.4 L85.2842 361.4 L85.2842 367.257 L79.8096 367.257 Q83.0562 369.389 84.6476 372.222 Q86.2072 375.023 86.2072 378.747 Q86.2072 384.89 82.3878 388.073 Q78.5683 391.255 71.2159 391.255 M48.7768 376.519 L48.7768 376.519 Z\" fill=\"#000000\" fill-rule=\"evenodd\" fill-opacity=\"1\" /><path clip-path=\"url(#clip490)\" d=\"M39.5147 343.544 L49.6362 343.544 L49.6362 331.481 L54.1877 331.481 L54.1877 343.544 L73.5394 343.544 Q77.8999 343.544 79.1413 342.367 Q80.3826 341.157 80.3826 337.497 L80.3826 331.481 L85.2842 331.481 L85.2842 337.497 Q85.2842 344.277 82.7697 346.855 Q80.2234 349.433 73.5394 349.433 L54.1877 349.433 L54.1877 353.73 L49.6362 353.73 L49.6362 349.433 L39.5147 349.433 L39.5147 343.544 Z\" fill=\"#000000\" fill-rule=\"evenodd\" fill-opacity=\"1\" /><path clip-path=\"url(#clip490)\" d=\"M65.9961 293.287 L68.8606 293.287 L68.8606 320.214 Q74.9081 319.832 78.0909 316.586 Q81.2419 313.307 81.2419 307.483 Q81.2419 304.109 80.4144 300.958 Q79.5869 297.775 77.9318 294.656 L83.4699 294.656 Q84.8067 297.807 85.507 301.117 Q86.2072 304.427 86.2072 307.833 Q86.2072 316.363 81.2419 321.36 Q76.2767 326.325 67.8103 326.325 Q59.0574 326.325 53.9331 321.615 Q48.7768 316.872 48.7768 308.851 Q48.7768 301.658 53.4238 297.489 Q58.0389 293.287 65.9961 293.287 M64.2773 299.144 Q59.4712 299.207 56.6066 301.849 Q53.7421 304.459 53.7421 308.788 Q53.7421 313.689 56.5112 316.649 Q59.2802 319.578 64.3092 320.023 L64.2773 299.144 Z\" fill=\"#000000\" fill-rule=\"evenodd\" fill-opacity=\"1\" /><path clip-path=\"url(#clip490)\" d=\"M37.7642 283.42 L37.7642 253.374 L43.175 253.374 L43.175 276.991 L57.2432 276.991 L57.2432 254.361 L62.6541 254.361 L62.6541 276.991 L79.8733 276.991 L79.8733 252.801 L85.2842 252.801 L85.2842 283.42 L37.7642 283.42 Z\" fill=\"#000000\" fill-rule=\"evenodd\" fill-opacity=\"1\" /><path clip-path=\"url(#clip490)\" d=\"M55.1107 221.832 Q54.5378 222.819 54.2832 223.997 Q53.9967 225.142 53.9967 226.543 Q53.9967 231.508 57.2432 234.182 Q60.4579 236.823 66.5053 236.823 L85.2842 236.823 L85.2842 242.712 L49.6362 242.712 L49.6362 236.823 L55.1744 236.823 Q51.9279 234.977 50.3683 232.017 Q48.7768 229.057 48.7768 224.824 Q48.7768 224.219 48.8723 223.487 Q48.936 222.755 49.0951 221.864 L55.1107 221.832 Z\" fill=\"#000000\" fill-rule=\"evenodd\" fill-opacity=\"1\" /><path clip-path=\"url(#clip490)\" d=\"M55.1107 196.178 Q54.5378 197.165 54.2832 198.343 Q53.9967 199.489 53.9967 200.889 Q53.9967 205.854 57.2432 208.528 Q60.4579 211.17 66.5053 211.17 L85.2842 211.17 L85.2842 217.058 L49.6362 217.058 L49.6362 211.17 L55.1744 211.17 Q51.9279 209.324 50.3683 206.364 Q48.7768 203.403 48.7768 199.17 Q48.7768 198.566 48.8723 197.833 Q48.936 197.101 49.0951 196.21 L55.1107 196.178 Z\" fill=\"#000000\" fill-rule=\"evenodd\" fill-opacity=\"1\" /><path clip-path=\"url(#clip490)\" d=\"M53.7421 177.654 Q53.7421 182.365 57.4342 185.102 Q61.0945 187.839 67.492 187.839 Q73.8895 187.839 77.5817 185.134 Q81.2419 182.397 81.2419 177.654 Q81.2419 172.975 77.5498 170.238 Q73.8577 167.501 67.492 167.501 Q61.1581 167.501 57.466 170.238 Q53.7421 172.975 53.7421 177.654 M48.7768 177.654 Q48.7768 170.015 53.7421 165.655 Q58.7073 161.294 67.492 161.294 Q76.2449 161.294 81.2419 165.655 Q86.2072 170.015 86.2072 177.654 Q86.2072 185.325 81.2419 189.685 Q76.2449 194.014 67.492 194.014 Q58.7073 194.014 53.7421 189.685 Q48.7768 185.325 48.7768 177.654 Z\" fill=\"#000000\" fill-rule=\"evenodd\" fill-opacity=\"1\" /><path clip-path=\"url(#clip490)\" d=\"M55.1107 130.93 Q54.5378 131.917 54.2832 133.094 Q53.9967 134.24 53.9967 135.641 Q53.9967 140.606 57.2432 143.279 Q60.4579 145.921 66.5053 145.921 L85.2842 145.921 L85.2842 151.809 L49.6362 151.809 L49.6362 145.921 L55.1744 145.921 Q51.9279 144.075 50.3683 141.115 Q48.7768 138.155 48.7768 133.922 Q48.7768 133.317 48.8723 132.585 Q48.936 131.853 49.0951 130.962 L55.1107 130.93 Z\" fill=\"#000000\" fill-rule=\"evenodd\" fill-opacity=\"1\" /><circle clip-path=\"url(#clip492)\" cx=\"815.821\" cy=\"803.771\" r=\"14\" fill=\"#009af9\" fill-rule=\"evenodd\" fill-opacity=\"1\" stroke=\"#000000\" stroke-opacity=\"1\" stroke-width=\"4\"/>\n",
       "<circle clip-path=\"url(#clip492)\" cx=\"596.944\" cy=\"734.856\" r=\"14\" fill=\"#009af9\" fill-rule=\"evenodd\" fill-opacity=\"1\" stroke=\"#000000\" stroke-opacity=\"1\" stroke-width=\"4\"/>\n",
       "<circle clip-path=\"url(#clip492)\" cx=\"596.944\" cy=\"686.919\" r=\"14\" fill=\"#009af9\" fill-rule=\"evenodd\" fill-opacity=\"1\" stroke=\"#000000\" stroke-opacity=\"1\" stroke-width=\"4\"/>\n",
       "<circle clip-path=\"url(#clip492)\" cx=\"706.383\" cy=\"724.101\" r=\"14\" fill=\"#009af9\" fill-rule=\"evenodd\" fill-opacity=\"1\" stroke=\"#000000\" stroke-opacity=\"1\" stroke-width=\"4\"/>\n",
       "<circle clip-path=\"url(#clip492)\" cx=\"596.944\" cy=\"734.856\" r=\"14\" fill=\"#009af9\" fill-rule=\"evenodd\" fill-opacity=\"1\" stroke=\"#000000\" stroke-opacity=\"1\" stroke-width=\"4\"/>\n",
       "<circle clip-path=\"url(#clip492)\" cx=\"596.944\" cy=\"727.423\" r=\"14\" fill=\"#009af9\" fill-rule=\"evenodd\" fill-opacity=\"1\" stroke=\"#000000\" stroke-opacity=\"1\" stroke-width=\"4\"/>\n",
       "<circle clip-path=\"url(#clip492)\" cx=\"596.944\" cy=\"734.856\" r=\"14\" fill=\"#009af9\" fill-rule=\"evenodd\" fill-opacity=\"1\" stroke=\"#000000\" stroke-opacity=\"1\" stroke-width=\"4\"/>\n",
       "<circle clip-path=\"url(#clip492)\" cx=\"925.26\" cy=\"772.461\" r=\"14\" fill=\"#009af9\" fill-rule=\"evenodd\" fill-opacity=\"1\" stroke=\"#000000\" stroke-opacity=\"1\" stroke-width=\"4\"/>\n",
       "<circle clip-path=\"url(#clip492)\" cx=\"979.979\" cy=\"795.353\" r=\"14\" fill=\"#009af9\" fill-rule=\"evenodd\" fill-opacity=\"1\" stroke=\"#000000\" stroke-opacity=\"1\" stroke-width=\"4\"/>\n",
       "<circle clip-path=\"url(#clip492)\" cx=\"761.102\" cy=\"798.654\" r=\"14\" fill=\"#009af9\" fill-rule=\"evenodd\" fill-opacity=\"1\" stroke=\"#000000\" stroke-opacity=\"1\" stroke-width=\"4\"/>\n",
       "<circle clip-path=\"url(#clip492)\" cx=\"925.26\" cy=\"772.461\" r=\"14\" fill=\"#009af9\" fill-rule=\"evenodd\" fill-opacity=\"1\" stroke=\"#000000\" stroke-opacity=\"1\" stroke-width=\"4\"/>\n",
       "<circle clip-path=\"url(#clip492)\" cx=\"432.786\" cy=\"69.3864\" r=\"14\" fill=\"#009af9\" fill-rule=\"evenodd\" fill-opacity=\"1\" stroke=\"#000000\" stroke-opacity=\"1\" stroke-width=\"4\"/>\n",
       "<circle clip-path=\"url(#clip492)\" cx=\"815.821\" cy=\"803.771\" r=\"14\" fill=\"#009af9\" fill-rule=\"evenodd\" fill-opacity=\"1\" stroke=\"#000000\" stroke-opacity=\"1\" stroke-width=\"4\"/>\n",
       "<circle clip-path=\"url(#clip492)\" cx=\"761.102\" cy=\"766.504\" r=\"14\" fill=\"#009af9\" fill-rule=\"evenodd\" fill-opacity=\"1\" stroke=\"#000000\" stroke-opacity=\"1\" stroke-width=\"4\"/>\n",
       "<circle clip-path=\"url(#clip492)\" cx=\"870.541\" cy=\"732.854\" r=\"14\" fill=\"#009af9\" fill-rule=\"evenodd\" fill-opacity=\"1\" stroke=\"#000000\" stroke-opacity=\"1\" stroke-width=\"4\"/>\n",
       "<circle clip-path=\"url(#clip492)\" cx=\"487.505\" cy=\"599.833\" r=\"14\" fill=\"#009af9\" fill-rule=\"evenodd\" fill-opacity=\"1\" stroke=\"#000000\" stroke-opacity=\"1\" stroke-width=\"4\"/>\n",
       "<circle clip-path=\"url(#clip492)\" cx=\"761.102\" cy=\"730.137\" r=\"14\" fill=\"#009af9\" fill-rule=\"evenodd\" fill-opacity=\"1\" stroke=\"#000000\" stroke-opacity=\"1\" stroke-width=\"4\"/>\n",
       "<circle clip-path=\"url(#clip492)\" cx=\"761.102\" cy=\"789.569\" r=\"14\" fill=\"#009af9\" fill-rule=\"evenodd\" fill-opacity=\"1\" stroke=\"#000000\" stroke-opacity=\"1\" stroke-width=\"4\"/>\n",
       "<circle clip-path=\"url(#clip492)\" cx=\"596.944\" cy=\"734.856\" r=\"14\" fill=\"#009af9\" fill-rule=\"evenodd\" fill-opacity=\"1\" stroke=\"#000000\" stroke-opacity=\"1\" stroke-width=\"4\"/>\n",
       "<circle clip-path=\"url(#clip492)\" cx=\"706.383\" cy=\"775.481\" r=\"14\" fill=\"#009af9\" fill-rule=\"evenodd\" fill-opacity=\"1\" stroke=\"#000000\" stroke-opacity=\"1\" stroke-width=\"4\"/>\n",
       "<circle clip-path=\"url(#clip492)\" cx=\"925.26\" cy=\"731.593\" r=\"14\" fill=\"#009af9\" fill-rule=\"evenodd\" fill-opacity=\"1\" stroke=\"#000000\" stroke-opacity=\"1\" stroke-width=\"4\"/>\n",
       "<circle clip-path=\"url(#clip492)\" cx=\"979.979\" cy=\"767.884\" r=\"14\" fill=\"#009af9\" fill-rule=\"evenodd\" fill-opacity=\"1\" stroke=\"#000000\" stroke-opacity=\"1\" stroke-width=\"4\"/>\n",
       "<circle clip-path=\"url(#clip492)\" cx=\"487.505\" cy=\"606.303\" r=\"14\" fill=\"#009af9\" fill-rule=\"evenodd\" fill-opacity=\"1\" stroke=\"#000000\" stroke-opacity=\"1\" stroke-width=\"4\"/>\n",
       "<circle clip-path=\"url(#clip492)\" cx=\"761.102\" cy=\"730.137\" r=\"14\" fill=\"#009af9\" fill-rule=\"evenodd\" fill-opacity=\"1\" stroke=\"#000000\" stroke-opacity=\"1\" stroke-width=\"4\"/>\n",
       "<circle clip-path=\"url(#clip492)\" cx=\"432.786\" cy=\"69.3864\" r=\"14\" fill=\"#009af9\" fill-rule=\"evenodd\" fill-opacity=\"1\" stroke=\"#000000\" stroke-opacity=\"1\" stroke-width=\"4\"/>\n",
       "<circle clip-path=\"url(#clip492)\" cx=\"925.26\" cy=\"807.464\" r=\"14\" fill=\"#009af9\" fill-rule=\"evenodd\" fill-opacity=\"1\" stroke=\"#000000\" stroke-opacity=\"1\" stroke-width=\"4\"/>\n",
       "<circle clip-path=\"url(#clip492)\" cx=\"925.26\" cy=\"807.464\" r=\"14\" fill=\"#009af9\" fill-rule=\"evenodd\" fill-opacity=\"1\" stroke=\"#000000\" stroke-opacity=\"1\" stroke-width=\"4\"/>\n",
       "<circle clip-path=\"url(#clip492)\" cx=\"651.663\" cy=\"757.455\" r=\"14\" fill=\"#009af9\" fill-rule=\"evenodd\" fill-opacity=\"1\" stroke=\"#000000\" stroke-opacity=\"1\" stroke-width=\"4\"/>\n",
       "<circle clip-path=\"url(#clip492)\" cx=\"979.979\" cy=\"795.353\" r=\"14\" fill=\"#009af9\" fill-rule=\"evenodd\" fill-opacity=\"1\" stroke=\"#000000\" stroke-opacity=\"1\" stroke-width=\"4\"/>\n",
       "<circle clip-path=\"url(#clip492)\" cx=\"596.944\" cy=\"743.788\" r=\"14\" fill=\"#009af9\" fill-rule=\"evenodd\" fill-opacity=\"1\" stroke=\"#000000\" stroke-opacity=\"1\" stroke-width=\"4\"/>\n",
       "<circle clip-path=\"url(#clip492)\" cx=\"815.821\" cy=\"774.874\" r=\"14\" fill=\"#009af9\" fill-rule=\"evenodd\" fill-opacity=\"1\" stroke=\"#000000\" stroke-opacity=\"1\" stroke-width=\"4\"/>\n",
       "<circle clip-path=\"url(#clip492)\" cx=\"925.26\" cy=\"731.593\" r=\"14\" fill=\"#009af9\" fill-rule=\"evenodd\" fill-opacity=\"1\" stroke=\"#000000\" stroke-opacity=\"1\" stroke-width=\"4\"/>\n",
       "<circle clip-path=\"url(#clip492)\" cx=\"706.383\" cy=\"724.101\" r=\"14\" fill=\"#009af9\" fill-rule=\"evenodd\" fill-opacity=\"1\" stroke=\"#000000\" stroke-opacity=\"1\" stroke-width=\"4\"/>\n",
       "<circle clip-path=\"url(#clip492)\" cx=\"542.225\" cy=\"678.038\" r=\"14\" fill=\"#009af9\" fill-rule=\"evenodd\" fill-opacity=\"1\" stroke=\"#000000\" stroke-opacity=\"1\" stroke-width=\"4\"/>\n",
       "<circle clip-path=\"url(#clip492)\" cx=\"1034.7\" cy=\"799.109\" r=\"14\" fill=\"#009af9\" fill-rule=\"evenodd\" fill-opacity=\"1\" stroke=\"#000000\" stroke-opacity=\"1\" stroke-width=\"4\"/>\n",
       "<circle clip-path=\"url(#clip492)\" cx=\"1034.7\" cy=\"791.085\" r=\"14\" fill=\"#009af9\" fill-rule=\"evenodd\" fill-opacity=\"1\" stroke=\"#000000\" stroke-opacity=\"1\" stroke-width=\"4\"/>\n",
       "<circle clip-path=\"url(#clip492)\" cx=\"651.663\" cy=\"708.562\" r=\"14\" fill=\"#009af9\" fill-rule=\"evenodd\" fill-opacity=\"1\" stroke=\"#000000\" stroke-opacity=\"1\" stroke-width=\"4\"/>\n",
       "<circle clip-path=\"url(#clip492)\" cx=\"596.944\" cy=\"686.919\" r=\"14\" fill=\"#009af9\" fill-rule=\"evenodd\" fill-opacity=\"1\" stroke=\"#000000\" stroke-opacity=\"1\" stroke-width=\"4\"/>\n",
       "<circle clip-path=\"url(#clip492)\" cx=\"706.383\" cy=\"775.481\" r=\"14\" fill=\"#009af9\" fill-rule=\"evenodd\" fill-opacity=\"1\" stroke=\"#000000\" stroke-opacity=\"1\" stroke-width=\"4\"/>\n",
       "<circle clip-path=\"url(#clip492)\" cx=\"870.541\" cy=\"795.132\" r=\"14\" fill=\"#009af9\" fill-rule=\"evenodd\" fill-opacity=\"1\" stroke=\"#000000\" stroke-opacity=\"1\" stroke-width=\"4\"/>\n",
       "<path clip-path=\"url(#clip490)\" d=\"\n",
       "M1514.73 829.607 L2152.76 829.607 L2152.76 47.2441 L1514.73 47.2441  Z\n",
       "  \" fill=\"#ffffff\" fill-rule=\"evenodd\" fill-opacity=\"1\"/>\n",
       "<defs>\n",
       "  <clipPath id=\"clip493\">\n",
       "    <rect x=\"1514\" y=\"47\" width=\"639\" height=\"783\"/>\n",
       "  </clipPath>\n",
       "</defs>\n",
       "<path clip-path=\"url(#clip490)\" d=\"\n",
       "M414.729 1789.33 L1052.76 1789.33 L1052.76 1006.97 L414.729 1006.97  Z\n",
       "  \" fill=\"#ffffff\" fill-rule=\"evenodd\" fill-opacity=\"1\"/>\n",
       "<defs>\n",
       "  <clipPath id=\"clip494\">\n",
       "    <rect x=\"414\" y=\"1006\" width=\"639\" height=\"783\"/>\n",
       "  </clipPath>\n",
       "</defs>\n",
       "<polyline clip-path=\"url(#clip494)\" style=\"stroke:#000000; stroke-linecap:butt; stroke-linejoin:round; stroke-width:2; stroke-opacity:0.1; fill:none\" points=\"\n",
       "  514.865,1789.33 514.865,1006.97 \n",
       "  \"/>\n",
       "<polyline clip-path=\"url(#clip494)\" style=\"stroke:#000000; stroke-linecap:butt; stroke-linejoin:round; stroke-width:2; stroke-opacity:0.1; fill:none\" points=\"\n",
       "  651.663,1789.33 651.663,1006.97 \n",
       "  \"/>\n",
       "<polyline clip-path=\"url(#clip494)\" style=\"stroke:#000000; stroke-linecap:butt; stroke-linejoin:round; stroke-width:2; stroke-opacity:0.1; fill:none\" points=\"\n",
       "  788.462,1789.33 788.462,1006.97 \n",
       "  \"/>\n",
       "<polyline clip-path=\"url(#clip494)\" style=\"stroke:#000000; stroke-linecap:butt; stroke-linejoin:round; stroke-width:2; stroke-opacity:0.1; fill:none\" points=\"\n",
       "  925.26,1789.33 925.26,1006.97 \n",
       "  \"/>\n",
       "<polyline clip-path=\"url(#clip490)\" style=\"stroke:#000000; stroke-linecap:butt; stroke-linejoin:round; stroke-width:4; stroke-opacity:1; fill:none\" points=\"\n",
       "  414.729,1789.33 1052.76,1789.33 \n",
       "  \"/>\n",
       "<polyline clip-path=\"url(#clip490)\" style=\"stroke:#000000; stroke-linecap:butt; stroke-linejoin:round; stroke-width:4; stroke-opacity:1; fill:none\" points=\"\n",
       "  414.729,1006.97 1052.76,1006.97 \n",
       "  \"/>\n",
       "<polyline clip-path=\"url(#clip490)\" style=\"stroke:#000000; stroke-linecap:butt; stroke-linejoin:round; stroke-width:4; stroke-opacity:1; fill:none\" points=\"\n",
       "  514.865,1789.33 514.865,1770.43 \n",
       "  \"/>\n",
       "<polyline clip-path=\"url(#clip490)\" style=\"stroke:#000000; stroke-linecap:butt; stroke-linejoin:round; stroke-width:4; stroke-opacity:1; fill:none\" points=\"\n",
       "  651.663,1789.33 651.663,1770.43 \n",
       "  \"/>\n",
       "<polyline clip-path=\"url(#clip490)\" style=\"stroke:#000000; stroke-linecap:butt; stroke-linejoin:round; stroke-width:4; stroke-opacity:1; fill:none\" points=\"\n",
       "  788.462,1789.33 788.462,1770.43 \n",
       "  \"/>\n",
       "<polyline clip-path=\"url(#clip490)\" style=\"stroke:#000000; stroke-linecap:butt; stroke-linejoin:round; stroke-width:4; stroke-opacity:1; fill:none\" points=\"\n",
       "  925.26,1789.33 925.26,1770.43 \n",
       "  \"/>\n",
       "<path clip-path=\"url(#clip490)\" d=\"M486.601 1846.2 L502.921 1846.2 L502.921 1850.13 L480.976 1850.13 L480.976 1846.2 Q483.638 1843.44 488.222 1838.81 Q492.828 1834.16 494.009 1832.82 Q496.254 1830.29 497.134 1828.56 Q498.036 1826.8 498.036 1825.11 Q498.036 1822.35 496.092 1820.62 Q494.171 1818.88 491.069 1818.88 Q488.87 1818.88 486.416 1819.65 Q483.986 1820.41 481.208 1821.96 L481.208 1817.24 Q484.032 1816.1 486.486 1815.53 Q488.939 1814.95 490.976 1814.95 Q496.347 1814.95 499.541 1817.63 Q502.735 1820.32 502.735 1824.81 Q502.735 1826.94 501.925 1828.86 Q501.138 1830.76 499.032 1833.35 Q498.453 1834.02 495.351 1837.24 Q492.249 1840.43 486.601 1846.2 Z\" fill=\"#000000\" fill-rule=\"evenodd\" fill-opacity=\"1\" /><path clip-path=\"url(#clip490)\" d=\"M512.735 1844.25 L517.62 1844.25 L517.62 1850.13 L512.735 1850.13 L512.735 1844.25 Z\" fill=\"#000000\" fill-rule=\"evenodd\" fill-opacity=\"1\" /><path clip-path=\"url(#clip490)\" d=\"M527.851 1815.57 L546.207 1815.57 L546.207 1819.51 L532.133 1819.51 L532.133 1827.98 Q533.152 1827.63 534.17 1827.47 Q535.189 1827.29 536.207 1827.29 Q541.994 1827.29 545.374 1830.46 Q548.754 1833.63 548.754 1839.04 Q548.754 1844.62 545.281 1847.73 Q541.809 1850.8 535.49 1850.8 Q533.314 1850.8 531.045 1850.43 Q528.8 1850.06 526.393 1849.32 L526.393 1844.62 Q528.476 1845.76 530.698 1846.31 Q532.92 1846.87 535.397 1846.87 Q539.402 1846.87 541.74 1844.76 Q544.078 1842.66 544.078 1839.04 Q544.078 1835.43 541.74 1833.33 Q539.402 1831.22 535.397 1831.22 Q533.522 1831.22 531.647 1831.64 Q529.795 1832.05 527.851 1832.93 L527.851 1815.57 Z\" fill=\"#000000\" fill-rule=\"evenodd\" fill-opacity=\"1\" /><path clip-path=\"url(#clip490)\" d=\"M618.828 1815.57 L637.184 1815.57 L637.184 1819.51 L623.11 1819.51 L623.11 1827.98 Q624.129 1827.63 625.147 1827.47 Q626.166 1827.29 627.184 1827.29 Q632.971 1827.29 636.351 1830.46 Q639.73 1833.63 639.73 1839.04 Q639.73 1844.62 636.258 1847.73 Q632.786 1850.8 626.467 1850.8 Q624.291 1850.8 622.022 1850.43 Q619.777 1850.06 617.369 1849.32 L617.369 1844.62 Q619.453 1845.76 621.675 1846.31 Q623.897 1846.87 626.374 1846.87 Q630.379 1846.87 632.717 1844.76 Q635.055 1842.66 635.055 1839.04 Q635.055 1835.43 632.717 1833.33 Q630.379 1831.22 626.374 1831.22 Q624.499 1831.22 622.624 1831.64 Q620.772 1832.05 618.828 1832.93 L618.828 1815.57 Z\" fill=\"#000000\" fill-rule=\"evenodd\" fill-opacity=\"1\" /><path clip-path=\"url(#clip490)\" d=\"M648.943 1844.25 L653.828 1844.25 L653.828 1850.13 L648.943 1850.13 L648.943 1844.25 Z\" fill=\"#000000\" fill-rule=\"evenodd\" fill-opacity=\"1\" /><path clip-path=\"url(#clip490)\" d=\"M674.013 1818.65 Q670.402 1818.65 668.573 1822.22 Q666.767 1825.76 666.767 1832.89 Q666.767 1839.99 668.573 1843.56 Q670.402 1847.1 674.013 1847.1 Q677.647 1847.1 679.452 1843.56 Q681.281 1839.99 681.281 1832.89 Q681.281 1825.76 679.452 1822.22 Q677.647 1818.65 674.013 1818.65 M674.013 1814.95 Q679.823 1814.95 682.878 1819.55 Q685.957 1824.14 685.957 1832.89 Q685.957 1841.61 682.878 1846.22 Q679.823 1850.8 674.013 1850.8 Q668.203 1850.8 665.124 1846.22 Q662.068 1841.61 662.068 1832.89 Q662.068 1824.14 665.124 1819.55 Q668.203 1814.95 674.013 1814.95 Z\" fill=\"#000000\" fill-rule=\"evenodd\" fill-opacity=\"1\" /><path clip-path=\"url(#clip490)\" d=\"M754.781 1815.57 L777.003 1815.57 L777.003 1817.56 L764.457 1850.13 L759.573 1850.13 L771.378 1819.51 L754.781 1819.51 L754.781 1815.57 Z\" fill=\"#000000\" fill-rule=\"evenodd\" fill-opacity=\"1\" /><path clip-path=\"url(#clip490)\" d=\"M786.124 1844.25 L791.008 1844.25 L791.008 1850.13 L786.124 1850.13 L786.124 1844.25 Z\" fill=\"#000000\" fill-rule=\"evenodd\" fill-opacity=\"1\" /><path clip-path=\"url(#clip490)\" d=\"M801.239 1815.57 L819.596 1815.57 L819.596 1819.51 L805.522 1819.51 L805.522 1827.98 Q806.54 1827.63 807.559 1827.47 Q808.577 1827.29 809.596 1827.29 Q815.383 1827.29 818.762 1830.46 Q822.142 1833.63 822.142 1839.04 Q822.142 1844.62 818.67 1847.73 Q815.198 1850.8 808.878 1850.8 Q806.702 1850.8 804.434 1850.43 Q802.188 1850.06 799.781 1849.32 L799.781 1844.62 Q801.864 1845.76 804.087 1846.31 Q806.309 1846.87 808.786 1846.87 Q812.79 1846.87 815.128 1844.76 Q817.466 1842.66 817.466 1839.04 Q817.466 1835.43 815.128 1833.33 Q812.79 1831.22 808.786 1831.22 Q806.911 1831.22 805.036 1831.64 Q803.184 1832.05 801.239 1832.93 L801.239 1815.57 Z\" fill=\"#000000\" fill-rule=\"evenodd\" fill-opacity=\"1\" /><path clip-path=\"url(#clip490)\" d=\"M877.332 1846.2 L884.971 1846.2 L884.971 1819.83 L876.661 1821.5 L876.661 1817.24 L884.924 1815.57 L889.6 1815.57 L889.6 1846.2 L897.239 1846.2 L897.239 1850.13 L877.332 1850.13 L877.332 1846.2 Z\" fill=\"#000000\" fill-rule=\"evenodd\" fill-opacity=\"1\" /><path clip-path=\"url(#clip490)\" d=\"M916.684 1818.65 Q913.072 1818.65 911.244 1822.22 Q909.438 1825.76 909.438 1832.89 Q909.438 1839.99 911.244 1843.56 Q913.072 1847.1 916.684 1847.1 Q920.318 1847.1 922.123 1843.56 Q923.952 1839.99 923.952 1832.89 Q923.952 1825.76 922.123 1822.22 Q920.318 1818.65 916.684 1818.65 M916.684 1814.95 Q922.494 1814.95 925.549 1819.55 Q928.628 1824.14 928.628 1832.89 Q928.628 1841.61 925.549 1846.22 Q922.494 1850.8 916.684 1850.8 Q910.873 1850.8 907.795 1846.22 Q904.739 1841.61 904.739 1832.89 Q904.739 1824.14 907.795 1819.55 Q910.873 1814.95 916.684 1814.95 Z\" fill=\"#000000\" fill-rule=\"evenodd\" fill-opacity=\"1\" /><path clip-path=\"url(#clip490)\" d=\"M936.845 1844.25 L941.73 1844.25 L941.73 1850.13 L936.845 1850.13 L936.845 1844.25 Z\" fill=\"#000000\" fill-rule=\"evenodd\" fill-opacity=\"1\" /><path clip-path=\"url(#clip490)\" d=\"M961.915 1818.65 Q958.304 1818.65 956.475 1822.22 Q954.669 1825.76 954.669 1832.89 Q954.669 1839.99 956.475 1843.56 Q958.304 1847.1 961.915 1847.1 Q965.549 1847.1 967.355 1843.56 Q969.183 1839.99 969.183 1832.89 Q969.183 1825.76 967.355 1822.22 Q965.549 1818.65 961.915 1818.65 M961.915 1814.95 Q967.725 1814.95 970.78 1819.55 Q973.859 1824.14 973.859 1832.89 Q973.859 1841.61 970.78 1846.22 Q967.725 1850.8 961.915 1850.8 Q956.105 1850.8 953.026 1846.22 Q949.97 1841.61 949.97 1832.89 Q949.97 1824.14 953.026 1819.55 Q956.105 1814.95 961.915 1814.95 Z\" fill=\"#000000\" fill-rule=\"evenodd\" fill-opacity=\"1\" /><path clip-path=\"url(#clip490)\" d=\"M270.908 1911.91 L270.908 1914.77 L243.981 1914.77 Q244.363 1920.82 247.609 1924 Q250.888 1927.15 256.712 1927.15 Q260.086 1927.15 263.237 1926.33 Q266.42 1925.5 269.539 1923.84 L269.539 1929.38 Q266.388 1930.72 263.078 1931.42 Q259.768 1932.12 256.362 1932.12 Q247.832 1932.12 242.835 1927.15 Q237.87 1922.19 237.87 1913.72 Q237.87 1904.97 242.58 1899.85 Q247.323 1894.69 255.344 1894.69 Q262.537 1894.69 266.706 1899.34 Q270.908 1903.95 270.908 1911.91 M265.051 1910.19 Q264.988 1905.38 262.346 1902.52 Q259.736 1899.65 255.407 1899.65 Q250.506 1899.65 247.546 1902.42 Q244.617 1905.19 244.172 1910.22 L265.051 1910.19 Z\" fill=\"#000000\" fill-rule=\"evenodd\" fill-opacity=\"1\" /><path clip-path=\"url(#clip490)\" d=\"M276.319 1895.55 L282.525 1895.55 L293.665 1925.47 L304.805 1895.55 L311.012 1895.55 L297.644 1931.2 L289.686 1931.2 L276.319 1895.55 Z\" fill=\"#000000\" fill-rule=\"evenodd\" fill-opacity=\"1\" /><path clip-path=\"url(#clip490)\" d=\"M332.91 1899.65 Q328.199 1899.65 325.462 1903.35 Q322.725 1907.01 322.725 1913.4 Q322.725 1919.8 325.43 1923.49 Q328.167 1927.15 332.91 1927.15 Q337.588 1927.15 340.326 1923.46 Q343.063 1919.77 343.063 1913.4 Q343.063 1907.07 340.326 1903.38 Q337.588 1899.65 332.91 1899.65 M332.91 1894.69 Q340.548 1894.69 344.909 1899.65 Q349.27 1904.62 349.27 1913.4 Q349.27 1922.16 344.909 1927.15 Q340.548 1932.12 332.91 1932.12 Q325.239 1932.12 320.878 1927.15 Q316.55 1922.16 316.55 1913.4 Q316.55 1904.62 320.878 1899.65 Q325.239 1894.69 332.91 1894.69 Z\" fill=\"#000000\" fill-rule=\"evenodd\" fill-opacity=\"1\" /><path clip-path=\"url(#clip490)\" d=\"M386.063 1942.02 L386.063 1946.57 L352.198 1946.57 L352.198 1942.02 L386.063 1942.02 Z\" fill=\"#000000\" fill-rule=\"evenodd\" fill-opacity=\"1\" /><path clip-path=\"url(#clip490)\" d=\"M397.362 1885.43 L397.362 1895.55 L409.425 1895.55 L409.425 1900.1 L397.362 1900.1 L397.362 1919.45 Q397.362 1923.81 398.54 1925.05 Q399.75 1926.29 403.41 1926.29 L409.425 1926.29 L409.425 1931.2 L403.41 1931.2 Q396.63 1931.2 394.052 1928.68 Q391.474 1926.14 391.474 1919.45 L391.474 1900.1 L387.177 1900.1 L387.177 1895.55 L391.474 1895.55 L391.474 1885.43 L397.362 1885.43 Z\" fill=\"#000000\" fill-rule=\"evenodd\" fill-opacity=\"1\" /><path clip-path=\"url(#clip490)\" d=\"M437.785 1901.02 Q436.798 1900.45 435.62 1900.2 Q434.474 1899.91 433.074 1899.91 Q428.109 1899.91 425.435 1903.16 Q422.793 1906.37 422.793 1912.42 L422.793 1931.2 L416.905 1931.2 L416.905 1895.55 L422.793 1895.55 L422.793 1901.09 Q424.639 1897.84 427.6 1896.28 Q430.56 1894.69 434.793 1894.69 Q435.398 1894.69 436.13 1894.78 Q436.862 1894.85 437.753 1895.01 L437.785 1901.02 Z\" fill=\"#000000\" fill-rule=\"evenodd\" fill-opacity=\"1\" /><path clip-path=\"url(#clip490)\" d=\"M472.987 1911.91 L472.987 1914.77 L446.06 1914.77 Q446.442 1920.82 449.689 1924 Q452.967 1927.15 458.791 1927.15 Q462.165 1927.15 465.316 1926.33 Q468.499 1925.5 471.618 1923.84 L471.618 1929.38 Q468.467 1930.72 465.157 1931.42 Q461.847 1932.12 458.441 1932.12 Q449.911 1932.12 444.914 1927.15 Q439.949 1922.19 439.949 1913.72 Q439.949 1904.97 444.66 1899.85 Q449.402 1894.69 457.423 1894.69 Q464.616 1894.69 468.786 1899.34 Q472.987 1903.95 472.987 1911.91 M467.131 1910.19 Q467.067 1905.38 464.425 1902.52 Q461.815 1899.65 457.487 1899.65 Q452.585 1899.65 449.625 1902.42 Q446.697 1905.19 446.251 1910.22 L467.131 1910.19 Z\" fill=\"#000000\" fill-rule=\"evenodd\" fill-opacity=\"1\" /><path clip-path=\"url(#clip490)\" d=\"M513.091 1911.91 L513.091 1914.77 L486.164 1914.77 Q486.546 1920.82 489.792 1924 Q493.071 1927.15 498.895 1927.15 Q502.269 1927.15 505.42 1926.33 Q508.603 1925.5 511.722 1923.84 L511.722 1929.38 Q508.571 1930.72 505.261 1931.42 Q501.951 1932.12 498.545 1932.12 Q490.015 1932.12 485.018 1927.15 Q480.053 1922.19 480.053 1913.72 Q480.053 1904.97 484.764 1899.85 Q489.506 1894.69 497.527 1894.69 Q504.72 1894.69 508.89 1899.34 Q513.091 1903.95 513.091 1911.91 M507.235 1910.19 Q507.171 1905.38 504.529 1902.52 Q501.919 1899.65 497.59 1899.65 Q492.689 1899.65 489.729 1902.42 Q486.801 1905.19 486.355 1910.22 L507.235 1910.19 Z\" fill=\"#000000\" fill-rule=\"evenodd\" fill-opacity=\"1\" /><path clip-path=\"url(#clip490)\" d=\"M549.789 1942.02 L549.789 1946.57 L515.924 1946.57 L515.924 1942.02 L549.789 1942.02 Z\" fill=\"#000000\" fill-rule=\"evenodd\" fill-opacity=\"1\" /><path clip-path=\"url(#clip490)\" d=\"M575.952 1901.02 Q574.966 1900.45 573.788 1900.2 Q572.642 1899.91 571.242 1899.91 Q566.276 1899.91 563.603 1903.16 Q560.961 1906.37 560.961 1912.42 L560.961 1931.2 L555.073 1931.2 L555.073 1895.55 L560.961 1895.55 L560.961 1901.09 Q562.807 1897.84 565.767 1896.28 Q568.727 1894.69 572.96 1894.69 Q573.565 1894.69 574.297 1894.78 Q575.029 1894.85 575.92 1895.01 L575.952 1901.02 Z\" fill=\"#000000\" fill-rule=\"evenodd\" fill-opacity=\"1\" /><path clip-path=\"url(#clip490)\" d=\"M611.155 1911.91 L611.155 1914.77 L584.228 1914.77 Q584.61 1920.82 587.856 1924 Q591.135 1927.15 596.959 1927.15 Q600.333 1927.15 603.484 1926.33 Q606.667 1925.5 609.786 1923.84 L609.786 1929.38 Q606.635 1930.72 603.325 1931.42 Q600.015 1932.12 596.609 1932.12 Q588.079 1932.12 583.082 1927.15 Q578.117 1922.19 578.117 1913.72 Q578.117 1904.97 582.827 1899.85 Q587.57 1894.69 595.591 1894.69 Q602.784 1894.69 606.953 1899.34 Q611.155 1903.95 611.155 1911.91 M605.298 1910.19 Q605.235 1905.38 602.593 1902.52 Q599.983 1899.65 595.654 1899.65 Q590.753 1899.65 587.793 1902.42 Q584.864 1905.19 584.419 1910.22 L605.298 1910.19 Z\" fill=\"#000000\" fill-rule=\"evenodd\" fill-opacity=\"1\" /><path clip-path=\"url(#clip490)\" d=\"M644.225 1912.96 Q644.225 1906.59 641.583 1903.09 Q638.973 1899.59 634.23 1899.59 Q629.52 1899.59 626.878 1903.09 Q624.268 1906.59 624.268 1912.96 Q624.268 1919.29 626.878 1922.79 Q629.52 1926.29 634.23 1926.29 Q638.973 1926.29 641.583 1922.79 Q644.225 1919.29 644.225 1912.96 M650.081 1926.77 Q650.081 1935.88 646.039 1940.3 Q641.997 1944.76 633.657 1944.76 Q630.57 1944.76 627.833 1944.28 Q625.096 1943.83 622.517 1942.88 L622.517 1937.18 Q625.096 1938.58 627.61 1939.25 Q630.124 1939.92 632.734 1939.92 Q638.495 1939.92 641.36 1936.89 Q644.225 1933.9 644.225 1927.82 L644.225 1924.93 Q642.41 1928.08 639.578 1929.64 Q636.745 1931.2 632.798 1931.2 Q626.241 1931.2 622.231 1926.2 Q618.221 1921.2 618.221 1912.96 Q618.221 1904.68 622.231 1899.69 Q626.241 1894.69 632.798 1894.69 Q636.745 1894.69 639.578 1896.25 Q642.41 1897.81 644.225 1900.96 L644.225 1895.55 L650.081 1895.55 L650.081 1926.77 Z\" fill=\"#000000\" fill-rule=\"evenodd\" fill-opacity=\"1\" /><path clip-path=\"url(#clip490)\" d=\"M682.801 1901.02 Q681.814 1900.45 680.636 1900.2 Q679.491 1899.91 678.09 1899.91 Q673.125 1899.91 670.451 1903.16 Q667.809 1906.37 667.809 1912.42 L667.809 1931.2 L661.921 1931.2 L661.921 1895.55 L667.809 1895.55 L667.809 1901.09 Q669.656 1897.84 672.616 1896.28 Q675.576 1894.69 679.809 1894.69 Q680.414 1894.69 681.146 1894.78 Q681.878 1894.85 682.769 1895.01 L682.801 1901.02 Z\" fill=\"#000000\" fill-rule=\"evenodd\" fill-opacity=\"1\" /><path clip-path=\"url(#clip490)\" d=\"M718.003 1911.91 L718.003 1914.77 L691.076 1914.77 Q691.458 1920.82 694.705 1924 Q697.983 1927.15 703.808 1927.15 Q707.181 1927.15 710.332 1926.33 Q713.515 1925.5 716.634 1923.84 L716.634 1929.38 Q713.483 1930.72 710.173 1931.42 Q706.863 1932.12 703.457 1932.12 Q694.927 1932.12 689.93 1927.15 Q684.965 1922.19 684.965 1913.72 Q684.965 1904.97 689.676 1899.85 Q694.418 1894.69 702.439 1894.69 Q709.632 1894.69 713.802 1899.34 Q718.003 1903.95 718.003 1911.91 M712.147 1910.19 Q712.083 1905.38 709.441 1902.52 Q706.831 1899.65 702.503 1899.65 Q697.601 1899.65 694.641 1902.42 Q691.713 1905.19 691.267 1910.22 L712.147 1910.19 Z\" fill=\"#000000\" fill-rule=\"evenodd\" fill-opacity=\"1\" /><path clip-path=\"url(#clip490)\" d=\"M750.341 1896.6 L750.341 1902.14 Q747.858 1900.86 745.185 1900.23 Q742.511 1899.59 739.646 1899.59 Q735.286 1899.59 733.09 1900.93 Q730.925 1902.26 730.925 1904.94 Q730.925 1906.98 732.485 1908.15 Q734.045 1909.3 738.755 1910.35 L740.76 1910.79 Q746.999 1912.13 749.609 1914.58 Q752.251 1917 752.251 1921.36 Q752.251 1926.33 748.304 1929.22 Q744.389 1932.12 737.514 1932.12 Q734.649 1932.12 731.53 1931.55 Q728.443 1931.01 725.005 1929.89 L725.005 1923.84 Q728.252 1925.53 731.403 1926.39 Q734.554 1927.22 737.641 1927.22 Q741.779 1927.22 744.007 1925.82 Q746.235 1924.39 746.235 1921.81 Q746.235 1919.42 744.612 1918.15 Q743.02 1916.87 737.578 1915.7 L735.541 1915.22 Q730.098 1914.07 727.679 1911.72 Q725.26 1909.33 725.26 1905.19 Q725.26 1900.16 728.825 1897.43 Q732.39 1894.69 738.946 1894.69 Q742.193 1894.69 745.057 1895.17 Q747.922 1895.64 750.341 1896.6 Z\" fill=\"#000000\" fill-rule=\"evenodd\" fill-opacity=\"1\" /><path clip-path=\"url(#clip490)\" d=\"M784.302 1896.6 L784.302 1902.14 Q781.819 1900.86 779.146 1900.23 Q776.472 1899.59 773.608 1899.59 Q769.247 1899.59 767.051 1900.93 Q764.886 1902.26 764.886 1904.94 Q764.886 1906.98 766.446 1908.15 Q768.006 1909.3 772.716 1910.35 L774.722 1910.79 Q780.96 1912.13 783.57 1914.58 Q786.212 1917 786.212 1921.36 Q786.212 1926.33 782.265 1929.22 Q778.35 1932.12 771.475 1932.12 Q768.61 1932.12 765.491 1931.55 Q762.404 1931.01 758.966 1929.89 L758.966 1923.84 Q762.213 1925.53 765.364 1926.39 Q768.515 1927.22 771.602 1927.22 Q775.74 1927.22 777.968 1925.82 Q780.196 1924.39 780.196 1921.81 Q780.196 1919.42 778.573 1918.15 Q776.981 1916.87 771.539 1915.7 L769.502 1915.22 Q764.059 1914.07 761.64 1911.72 Q759.221 1909.33 759.221 1905.19 Q759.221 1900.16 762.786 1897.43 Q766.351 1894.69 772.907 1894.69 Q776.154 1894.69 779.018 1895.17 Q781.883 1895.64 784.302 1896.6 Z\" fill=\"#000000\" fill-rule=\"evenodd\" fill-opacity=\"1\" /><path clip-path=\"url(#clip490)\" d=\"M809.351 1899.65 Q804.64 1899.65 801.903 1903.35 Q799.166 1907.01 799.166 1913.4 Q799.166 1919.8 801.871 1923.49 Q804.609 1927.15 809.351 1927.15 Q814.03 1927.15 816.767 1923.46 Q819.504 1919.77 819.504 1913.4 Q819.504 1907.07 816.767 1903.38 Q814.03 1899.65 809.351 1899.65 M809.351 1894.69 Q816.99 1894.69 821.35 1899.65 Q825.711 1904.62 825.711 1913.4 Q825.711 1922.16 821.35 1927.15 Q816.99 1932.12 809.351 1932.12 Q801.68 1932.12 797.32 1927.15 Q792.991 1922.16 792.991 1913.4 Q792.991 1904.62 797.32 1899.65 Q801.68 1894.69 809.351 1894.69 Z\" fill=\"#000000\" fill-rule=\"evenodd\" fill-opacity=\"1\" /><path clip-path=\"url(#clip490)\" d=\"M856.075 1901.02 Q855.089 1900.45 853.911 1900.2 Q852.765 1899.91 851.365 1899.91 Q846.399 1899.91 843.726 1903.16 Q841.084 1906.37 841.084 1912.42 L841.084 1931.2 L835.196 1931.2 L835.196 1895.55 L841.084 1895.55 L841.084 1901.09 Q842.93 1897.84 845.89 1896.28 Q848.85 1894.69 853.083 1894.69 Q853.688 1894.69 854.42 1894.78 Q855.152 1894.85 856.043 1895.01 L856.075 1901.02 Z\" fill=\"#000000\" fill-rule=\"evenodd\" fill-opacity=\"1\" /><path clip-path=\"url(#clip490)\" d=\"M857.062 1923.11 L863.778 1923.11 L863.778 1931.2 L857.062 1931.2 L857.062 1923.11 Z\" fill=\"#000000\" fill-rule=\"evenodd\" fill-opacity=\"1\" /><path clip-path=\"url(#clip490)\" d=\"M904.709 1902.39 Q906.905 1898.45 909.961 1896.57 Q913.016 1894.69 917.154 1894.69 Q922.724 1894.69 925.748 1898.6 Q928.772 1902.49 928.772 1909.68 L928.772 1931.2 L922.883 1931.2 L922.883 1909.87 Q922.883 1904.75 921.069 1902.26 Q919.255 1899.78 915.531 1899.78 Q910.979 1899.78 908.338 1902.81 Q905.696 1905.83 905.696 1911.05 L905.696 1931.2 L899.808 1931.2 L899.808 1909.87 Q899.808 1904.72 897.993 1902.26 Q896.179 1899.78 892.392 1899.78 Q887.904 1899.78 885.262 1902.84 Q882.62 1905.86 882.62 1911.05 L882.62 1931.2 L876.732 1931.2 L876.732 1895.55 L882.62 1895.55 L882.62 1901.09 Q884.625 1897.81 887.426 1896.25 Q890.227 1894.69 894.079 1894.69 Q897.962 1894.69 900.667 1896.66 Q903.404 1898.64 904.709 1902.39 Z\" fill=\"#000000\" fill-rule=\"evenodd\" fill-opacity=\"1\" /><path clip-path=\"url(#clip490)\" d=\"M956.653 1913.28 Q949.556 1913.28 946.818 1914.9 Q944.081 1916.52 944.081 1920.44 Q944.081 1923.56 946.118 1925.4 Q948.187 1927.22 951.72 1927.22 Q956.59 1927.22 959.518 1923.78 Q962.478 1920.31 962.478 1914.58 L962.478 1913.28 L956.653 1913.28 M968.334 1910.86 L968.334 1931.2 L962.478 1931.2 L962.478 1925.79 Q960.473 1929.03 957.481 1930.59 Q954.489 1932.12 950.16 1932.12 Q944.686 1932.12 941.439 1929.06 Q938.225 1925.98 938.225 1920.82 Q938.225 1914.8 942.235 1911.75 Q946.277 1908.69 954.266 1908.69 L962.478 1908.69 L962.478 1908.12 Q962.478 1904.08 959.804 1901.88 Q957.163 1899.65 952.357 1899.65 Q949.301 1899.65 946.405 1900.39 Q943.508 1901.12 940.835 1902.58 L940.835 1897.17 Q944.049 1895.93 947.073 1895.33 Q950.097 1894.69 952.961 1894.69 Q960.696 1894.69 964.515 1898.7 Q968.334 1902.71 968.334 1910.86 Z\" fill=\"#000000\" fill-rule=\"evenodd\" fill-opacity=\"1\" /><path clip-path=\"url(#clip490)\" d=\"M1010.03 1895.55 L997.139 1912.9 L1010.7 1931.2 L1003.79 1931.2 L993.415 1917.19 L983.039 1931.2 L976.132 1931.2 L989.978 1912.55 L977.31 1895.55 L984.217 1895.55 L993.67 1908.25 L1003.12 1895.55 L1010.03 1895.55 Z\" fill=\"#000000\" fill-rule=\"evenodd\" fill-opacity=\"1\" /><path clip-path=\"url(#clip490)\" d=\"M1046.06 1942.02 L1046.06 1946.57 L1012.19 1946.57 L1012.19 1942.02 L1046.06 1942.02 Z\" fill=\"#000000\" fill-rule=\"evenodd\" fill-opacity=\"1\" /><path clip-path=\"url(#clip490)\" d=\"M1075.02 1900.96 L1075.02 1881.67 L1080.88 1881.67 L1080.88 1931.2 L1075.02 1931.2 L1075.02 1925.85 Q1073.18 1929.03 1070.34 1930.59 Q1067.54 1932.12 1063.6 1932.12 Q1057.14 1932.12 1053.06 1926.96 Q1049.02 1921.81 1049.02 1913.4 Q1049.02 1905 1053.06 1899.85 Q1057.14 1894.69 1063.6 1894.69 Q1067.54 1894.69 1070.34 1896.25 Q1073.18 1897.78 1075.02 1900.96 M1055.07 1913.4 Q1055.07 1919.87 1057.71 1923.56 Q1060.38 1927.22 1065.03 1927.22 Q1069.68 1927.22 1072.35 1923.56 Q1075.02 1919.87 1075.02 1913.4 Q1075.02 1906.94 1072.35 1903.28 Q1069.68 1899.59 1065.03 1899.59 Q1060.38 1899.59 1057.71 1903.28 Q1055.07 1906.94 1055.07 1913.4 Z\" fill=\"#000000\" fill-rule=\"evenodd\" fill-opacity=\"1\" /><path clip-path=\"url(#clip490)\" d=\"M1123.43 1911.91 L1123.43 1914.77 L1096.51 1914.77 Q1096.89 1920.82 1100.14 1924 Q1103.41 1927.15 1109.24 1927.15 Q1112.61 1927.15 1115.76 1926.33 Q1118.95 1925.5 1122.07 1923.84 L1122.07 1929.38 Q1118.92 1930.72 1115.61 1931.42 Q1112.29 1932.12 1108.89 1932.12 Q1100.36 1932.12 1095.36 1927.15 Q1090.4 1922.19 1090.4 1913.72 Q1090.4 1904.97 1095.11 1899.85 Q1099.85 1894.69 1107.87 1894.69 Q1115.06 1894.69 1119.23 1899.34 Q1123.43 1903.95 1123.43 1911.91 M1117.58 1910.19 Q1117.51 1905.38 1114.87 1902.52 Q1112.26 1899.65 1107.93 1899.65 Q1103.03 1899.65 1100.07 1902.42 Q1097.14 1905.19 1096.7 1910.22 L1117.58 1910.19 Z\" fill=\"#000000\" fill-rule=\"evenodd\" fill-opacity=\"1\" /><path clip-path=\"url(#clip490)\" d=\"M1138.71 1925.85 L1138.71 1944.76 L1132.82 1944.76 L1132.82 1895.55 L1138.71 1895.55 L1138.71 1900.96 Q1140.56 1897.78 1143.36 1896.25 Q1146.19 1894.69 1150.11 1894.69 Q1156.6 1894.69 1160.64 1899.85 Q1164.72 1905 1164.72 1913.4 Q1164.72 1921.81 1160.64 1926.96 Q1156.6 1932.12 1150.11 1932.12 Q1146.19 1932.12 1143.36 1930.59 Q1140.56 1929.03 1138.71 1925.85 M1158.64 1913.4 Q1158.64 1906.94 1155.96 1903.28 Q1153.32 1899.59 1148.67 1899.59 Q1144.03 1899.59 1141.35 1903.28 Q1138.71 1906.94 1138.71 1913.4 Q1138.71 1919.87 1141.35 1923.56 Q1144.03 1927.22 1148.67 1927.22 Q1153.32 1927.22 1155.96 1923.56 Q1158.64 1919.87 1158.64 1913.4 Z\" fill=\"#000000\" fill-rule=\"evenodd\" fill-opacity=\"1\" /><path clip-path=\"url(#clip490)\" d=\"M1180.22 1885.43 L1180.22 1895.55 L1192.28 1895.55 L1192.28 1900.1 L1180.22 1900.1 L1180.22 1919.45 Q1180.22 1923.81 1181.39 1925.05 Q1182.6 1926.29 1186.26 1926.29 L1192.28 1926.29 L1192.28 1931.2 L1186.26 1931.2 Q1179.48 1931.2 1176.91 1928.68 Q1174.33 1926.14 1174.33 1919.45 L1174.33 1900.1 L1170.03 1900.1 L1170.03 1895.55 L1174.33 1895.55 L1174.33 1885.43 L1180.22 1885.43 Z\" fill=\"#000000\" fill-rule=\"evenodd\" fill-opacity=\"1\" /><path clip-path=\"url(#clip490)\" d=\"M1229.61 1909.68 L1229.61 1931.2 L1223.76 1931.2 L1223.76 1909.87 Q1223.76 1904.81 1221.79 1902.3 Q1219.81 1899.78 1215.86 1899.78 Q1211.12 1899.78 1208.39 1902.81 Q1205.65 1905.83 1205.65 1911.05 L1205.65 1931.2 L1199.76 1931.2 L1199.76 1881.67 L1205.65 1881.67 L1205.65 1901.09 Q1207.75 1897.87 1210.58 1896.28 Q1213.45 1894.69 1217.17 1894.69 Q1223.31 1894.69 1226.46 1898.51 Q1229.61 1902.3 1229.61 1909.68 Z\" fill=\"#000000\" fill-rule=\"evenodd\" fill-opacity=\"1\" /><polyline clip-path=\"url(#clip494)\" style=\"stroke:#000000; stroke-linecap:butt; stroke-linejoin:round; stroke-width:2; stroke-opacity:0.1; fill:none\" points=\"\n",
       "  414.729,1662.63 1052.76,1662.63 \n",
       "  \"/>\n",
       "<polyline clip-path=\"url(#clip494)\" style=\"stroke:#000000; stroke-linecap:butt; stroke-linejoin:round; stroke-width:2; stroke-opacity:0.1; fill:none\" points=\"\n",
       "  414.729,1508.86 1052.76,1508.86 \n",
       "  \"/>\n",
       "<polyline clip-path=\"url(#clip494)\" style=\"stroke:#000000; stroke-linecap:butt; stroke-linejoin:round; stroke-width:2; stroke-opacity:0.1; fill:none\" points=\"\n",
       "  414.729,1355.1 1052.76,1355.1 \n",
       "  \"/>\n",
       "<polyline clip-path=\"url(#clip494)\" style=\"stroke:#000000; stroke-linecap:butt; stroke-linejoin:round; stroke-width:2; stroke-opacity:0.1; fill:none\" points=\"\n",
       "  414.729,1201.33 1052.76,1201.33 \n",
       "  \"/>\n",
       "<polyline clip-path=\"url(#clip494)\" style=\"stroke:#000000; stroke-linecap:butt; stroke-linejoin:round; stroke-width:2; stroke-opacity:0.1; fill:none\" points=\"\n",
       "  414.729,1047.56 1052.76,1047.56 \n",
       "  \"/>\n",
       "<polyline clip-path=\"url(#clip490)\" style=\"stroke:#000000; stroke-linecap:butt; stroke-linejoin:round; stroke-width:4; stroke-opacity:1; fill:none\" points=\"\n",
       "  414.729,1789.33 414.729,1006.97 \n",
       "  \"/>\n",
       "<polyline clip-path=\"url(#clip490)\" style=\"stroke:#000000; stroke-linecap:butt; stroke-linejoin:round; stroke-width:4; stroke-opacity:1; fill:none\" points=\"\n",
       "  1052.76,1789.33 1052.76,1006.97 \n",
       "  \"/>\n",
       "<polyline clip-path=\"url(#clip490)\" style=\"stroke:#000000; stroke-linecap:butt; stroke-linejoin:round; stroke-width:4; stroke-opacity:1; fill:none\" points=\"\n",
       "  414.729,1662.63 433.626,1662.63 \n",
       "  \"/>\n",
       "<polyline clip-path=\"url(#clip490)\" style=\"stroke:#000000; stroke-linecap:butt; stroke-linejoin:round; stroke-width:4; stroke-opacity:1; fill:none\" points=\"\n",
       "  414.729,1508.86 433.626,1508.86 \n",
       "  \"/>\n",
       "<polyline clip-path=\"url(#clip490)\" style=\"stroke:#000000; stroke-linecap:butt; stroke-linejoin:round; stroke-width:4; stroke-opacity:1; fill:none\" points=\"\n",
       "  414.729,1355.1 433.626,1355.1 \n",
       "  \"/>\n",
       "<polyline clip-path=\"url(#clip490)\" style=\"stroke:#000000; stroke-linecap:butt; stroke-linejoin:round; stroke-width:4; stroke-opacity:1; fill:none\" points=\"\n",
       "  414.729,1201.33 433.626,1201.33 \n",
       "  \"/>\n",
       "<polyline clip-path=\"url(#clip490)\" style=\"stroke:#000000; stroke-linecap:butt; stroke-linejoin:round; stroke-width:4; stroke-opacity:1; fill:none\" points=\"\n",
       "  414.729,1047.56 433.626,1047.56 \n",
       "  \"/>\n",
       "<path clip-path=\"url(#clip490)\" d=\"M334.646 1675.97 L350.965 1675.97 L350.965 1679.91 L329.021 1679.91 L329.021 1675.97 Q331.683 1673.22 336.266 1668.59 Q340.872 1663.94 342.053 1662.59 Q344.298 1660.07 345.178 1658.34 Q346.081 1656.58 346.081 1654.89 Q346.081 1652.13 344.136 1650.4 Q342.215 1648.66 339.113 1648.66 Q336.914 1648.66 334.46 1649.42 Q332.03 1650.19 329.252 1651.74 L329.252 1647.02 Q332.076 1645.88 334.53 1645.3 Q336.984 1644.72 339.021 1644.72 Q344.391 1644.72 347.585 1647.41 Q350.78 1650.09 350.78 1654.59 Q350.78 1656.71 349.97 1658.64 Q349.183 1660.53 347.076 1663.13 Q346.497 1663.8 343.396 1667.02 Q340.294 1670.21 334.646 1675.97 Z\" fill=\"#000000\" fill-rule=\"evenodd\" fill-opacity=\"1\" /><path clip-path=\"url(#clip490)\" d=\"M360.826 1645.35 L379.182 1645.35 L379.182 1649.28 L365.108 1649.28 L365.108 1657.76 Q366.127 1657.41 367.145 1657.25 Q368.164 1657.06 369.182 1657.06 Q374.969 1657.06 378.349 1660.23 Q381.729 1663.4 381.729 1668.82 Q381.729 1674.4 378.256 1677.5 Q374.784 1680.58 368.465 1680.58 Q366.289 1680.58 364.02 1680.21 Q361.775 1679.84 359.368 1679.1 L359.368 1674.4 Q361.451 1675.53 363.673 1676.09 Q365.895 1676.65 368.372 1676.65 Q372.377 1676.65 374.715 1674.54 Q377.053 1672.43 377.053 1668.82 Q377.053 1665.21 374.715 1663.1 Q372.377 1661 368.372 1661 Q366.497 1661 364.622 1661.41 Q362.77 1661.83 360.826 1662.71 L360.826 1645.35 Z\" fill=\"#000000\" fill-rule=\"evenodd\" fill-opacity=\"1\" /><path clip-path=\"url(#clip490)\" d=\"M329.669 1491.58 L348.025 1491.58 L348.025 1495.52 L333.951 1495.52 L333.951 1503.99 Q334.97 1503.64 335.988 1503.48 Q337.007 1503.3 338.025 1503.3 Q343.812 1503.3 347.192 1506.47 Q350.571 1509.64 350.571 1515.06 Q350.571 1520.63 347.099 1523.74 Q343.627 1526.81 337.308 1526.81 Q335.132 1526.81 332.863 1526.44 Q330.618 1526.07 328.21 1525.33 L328.21 1520.63 Q330.294 1521.77 332.516 1522.32 Q334.738 1522.88 337.215 1522.88 Q341.22 1522.88 343.558 1520.77 Q345.895 1518.67 345.895 1515.06 Q345.895 1511.44 343.558 1509.34 Q341.22 1507.23 337.215 1507.23 Q335.34 1507.23 333.465 1507.65 Q331.613 1508.06 329.669 1508.94 L329.669 1491.58 Z\" fill=\"#000000\" fill-rule=\"evenodd\" fill-opacity=\"1\" /><path clip-path=\"url(#clip490)\" d=\"M369.784 1494.66 Q366.173 1494.66 364.344 1498.23 Q362.539 1501.77 362.539 1508.9 Q362.539 1516 364.344 1519.57 Q366.173 1523.11 369.784 1523.11 Q373.418 1523.11 375.224 1519.57 Q377.053 1516 377.053 1508.9 Q377.053 1501.77 375.224 1498.23 Q373.418 1494.66 369.784 1494.66 M369.784 1490.96 Q375.594 1490.96 378.65 1495.56 Q381.729 1500.15 381.729 1508.9 Q381.729 1517.62 378.65 1522.23 Q375.594 1526.81 369.784 1526.81 Q363.974 1526.81 360.895 1522.23 Q357.84 1517.62 357.84 1508.9 Q357.84 1500.15 360.895 1495.56 Q363.974 1490.96 369.784 1490.96 Z\" fill=\"#000000\" fill-rule=\"evenodd\" fill-opacity=\"1\" /><path clip-path=\"url(#clip490)\" d=\"M329.437 1337.82 L351.659 1337.82 L351.659 1339.81 L339.113 1372.38 L334.229 1372.38 L346.034 1341.75 L329.437 1341.75 L329.437 1337.82 Z\" fill=\"#000000\" fill-rule=\"evenodd\" fill-opacity=\"1\" /><path clip-path=\"url(#clip490)\" d=\"M360.826 1337.82 L379.182 1337.82 L379.182 1341.75 L365.108 1341.75 L365.108 1350.22 Q366.127 1349.88 367.145 1349.71 Q368.164 1349.53 369.182 1349.53 Q374.969 1349.53 378.349 1352.7 Q381.729 1355.87 381.729 1361.29 Q381.729 1366.87 378.256 1369.97 Q374.784 1373.05 368.465 1373.05 Q366.289 1373.05 364.02 1372.68 Q361.775 1372.31 359.368 1371.57 L359.368 1366.87 Q361.451 1368 363.673 1368.56 Q365.895 1369.11 368.372 1369.11 Q372.377 1369.11 374.715 1367.01 Q377.053 1364.9 377.053 1361.29 Q377.053 1357.68 374.715 1355.57 Q372.377 1353.46 368.372 1353.46 Q366.497 1353.46 364.622 1353.88 Q362.77 1354.3 360.826 1355.18 L360.826 1337.82 Z\" fill=\"#000000\" fill-rule=\"evenodd\" fill-opacity=\"1\" /><path clip-path=\"url(#clip490)\" d=\"M300.271 1214.68 L307.91 1214.68 L307.91 1188.31 L299.599 1189.98 L299.599 1185.72 L307.863 1184.05 L312.539 1184.05 L312.539 1214.68 L320.178 1214.68 L320.178 1218.61 L300.271 1218.61 L300.271 1214.68 Z\" fill=\"#000000\" fill-rule=\"evenodd\" fill-opacity=\"1\" /><path clip-path=\"url(#clip490)\" d=\"M339.622 1187.13 Q336.011 1187.13 334.183 1190.69 Q332.377 1194.24 332.377 1201.37 Q332.377 1208.47 334.183 1212.04 Q336.011 1215.58 339.622 1215.58 Q343.257 1215.58 345.062 1212.04 Q346.891 1208.47 346.891 1201.37 Q346.891 1194.24 345.062 1190.69 Q343.257 1187.13 339.622 1187.13 M339.622 1183.43 Q345.433 1183.43 348.488 1188.03 Q351.567 1192.62 351.567 1201.37 Q351.567 1210.09 348.488 1214.7 Q345.433 1219.28 339.622 1219.28 Q333.812 1219.28 330.734 1214.7 Q327.678 1210.09 327.678 1201.37 Q327.678 1192.62 330.734 1188.03 Q333.812 1183.43 339.622 1183.43 Z\" fill=\"#000000\" fill-rule=\"evenodd\" fill-opacity=\"1\" /><path clip-path=\"url(#clip490)\" d=\"M369.784 1187.13 Q366.173 1187.13 364.344 1190.69 Q362.539 1194.24 362.539 1201.37 Q362.539 1208.47 364.344 1212.04 Q366.173 1215.58 369.784 1215.58 Q373.418 1215.58 375.224 1212.04 Q377.053 1208.47 377.053 1201.37 Q377.053 1194.24 375.224 1190.69 Q373.418 1187.13 369.784 1187.13 M369.784 1183.43 Q375.594 1183.43 378.65 1188.03 Q381.729 1192.62 381.729 1201.37 Q381.729 1210.09 378.65 1214.7 Q375.594 1219.28 369.784 1219.28 Q363.974 1219.28 360.895 1214.7 Q357.84 1210.09 357.84 1201.37 Q357.84 1192.62 360.895 1188.03 Q363.974 1183.43 369.784 1183.43 Z\" fill=\"#000000\" fill-rule=\"evenodd\" fill-opacity=\"1\" /><path clip-path=\"url(#clip490)\" d=\"M301.266 1060.91 L308.905 1060.91 L308.905 1034.54 L300.595 1036.21 L300.595 1031.95 L308.859 1030.28 L313.535 1030.28 L313.535 1060.91 L321.173 1060.91 L321.173 1064.84 L301.266 1064.84 L301.266 1060.91 Z\" fill=\"#000000\" fill-rule=\"evenodd\" fill-opacity=\"1\" /><path clip-path=\"url(#clip490)\" d=\"M334.646 1060.91 L350.965 1060.91 L350.965 1064.84 L329.021 1064.84 L329.021 1060.91 Q331.683 1058.15 336.266 1053.52 Q340.872 1048.87 342.053 1047.53 Q344.298 1045.01 345.178 1043.27 Q346.081 1041.51 346.081 1039.82 Q346.081 1037.07 344.136 1035.33 Q342.215 1033.59 339.113 1033.59 Q336.914 1033.59 334.46 1034.36 Q332.03 1035.12 329.252 1036.67 L329.252 1031.95 Q332.076 1030.82 334.53 1030.24 Q336.984 1029.66 339.021 1029.66 Q344.391 1029.66 347.585 1032.34 Q350.78 1035.03 350.78 1039.52 Q350.78 1041.65 349.97 1043.57 Q349.183 1045.47 347.076 1048.06 Q346.497 1048.73 343.396 1051.95 Q340.294 1055.15 334.646 1060.91 Z\" fill=\"#000000\" fill-rule=\"evenodd\" fill-opacity=\"1\" /><path clip-path=\"url(#clip490)\" d=\"M360.826 1030.28 L379.182 1030.28 L379.182 1034.22 L365.108 1034.22 L365.108 1042.69 Q366.127 1042.34 367.145 1042.18 Q368.164 1042 369.182 1042 Q374.969 1042 378.349 1045.17 Q381.729 1048.34 381.729 1053.76 Q381.729 1059.34 378.256 1062.44 Q374.784 1065.52 368.465 1065.52 Q366.289 1065.52 364.02 1065.15 Q361.775 1064.77 359.368 1064.03 L359.368 1059.34 Q361.451 1060.47 363.673 1061.02 Q365.895 1061.58 368.372 1061.58 Q372.377 1061.58 374.715 1059.47 Q377.053 1057.37 377.053 1053.76 Q377.053 1050.15 374.715 1048.04 Q372.377 1045.93 368.372 1045.93 Q366.497 1045.93 364.622 1046.35 Q362.77 1046.77 360.826 1047.65 L360.826 1030.28 Z\" fill=\"#000000\" fill-rule=\"evenodd\" fill-opacity=\"1\" /><path clip-path=\"url(#clip490)\" d=\"M233.055 1768.03 L235.92 1768.03 L235.92 1794.96 Q241.967 1794.58 245.15 1791.33 Q248.301 1788.05 248.301 1782.23 Q248.301 1778.85 247.474 1775.7 Q246.646 1772.52 244.991 1769.4 L250.529 1769.4 Q251.866 1772.55 252.566 1775.86 Q253.266 1779.17 253.266 1782.58 Q253.266 1791.11 248.301 1796.1 Q243.336 1801.07 234.87 1801.07 Q226.117 1801.07 220.992 1796.36 Q215.836 1791.62 215.836 1783.59 Q215.836 1776.4 220.483 1772.23 Q225.098 1768.03 233.055 1768.03 M231.337 1773.89 Q226.531 1773.95 223.666 1776.59 Q220.801 1779.2 220.801 1783.53 Q220.801 1788.43 223.57 1791.39 Q226.34 1794.32 231.368 1794.77 L231.337 1773.89 Z\" fill=\"#000000\" fill-rule=\"evenodd\" fill-opacity=\"1\" /><path clip-path=\"url(#clip490)\" d=\"M216.695 1762.62 L216.695 1756.41 L246.614 1745.27 L216.695 1734.13 L216.695 1727.93 L252.343 1741.29 L252.343 1749.25 L216.695 1762.62 Z\" fill=\"#000000\" fill-rule=\"evenodd\" fill-opacity=\"1\" /><path clip-path=\"url(#clip490)\" d=\"M220.801 1706.03 Q220.801 1710.74 224.493 1713.48 Q228.154 1716.21 234.551 1716.21 Q240.949 1716.21 244.641 1713.51 Q248.301 1710.77 248.301 1706.03 Q248.301 1701.35 244.609 1698.61 Q240.917 1695.88 234.551 1695.88 Q228.217 1695.88 224.525 1698.61 Q220.801 1701.35 220.801 1706.03 M215.836 1706.03 Q215.836 1698.39 220.801 1694.03 Q225.767 1689.67 234.551 1689.67 Q243.304 1689.67 248.301 1694.03 Q253.266 1698.39 253.266 1706.03 Q253.266 1713.7 248.301 1718.06 Q243.304 1722.39 234.551 1722.39 Q225.767 1722.39 220.801 1718.06 Q215.836 1713.7 215.836 1706.03 Z\" fill=\"#000000\" fill-rule=\"evenodd\" fill-opacity=\"1\" /><path clip-path=\"url(#clip490)\" d=\"M263.165 1652.88 L267.717 1652.88 L267.717 1686.74 L263.165 1686.74 L263.165 1652.88 Z\" fill=\"#000000\" fill-rule=\"evenodd\" fill-opacity=\"1\" /><path clip-path=\"url(#clip490)\" d=\"M206.574 1641.58 L216.695 1641.58 L216.695 1629.51 L221.247 1629.51 L221.247 1641.58 L240.599 1641.58 Q244.959 1641.58 246.201 1640.4 Q247.442 1639.19 247.442 1635.53 L247.442 1629.51 L252.343 1629.51 L252.343 1635.53 Q252.343 1642.31 249.829 1644.89 Q247.283 1647.46 240.599 1647.46 L221.247 1647.46 L221.247 1651.76 L216.695 1651.76 L216.695 1647.46 L206.574 1647.46 L206.574 1641.58 Z\" fill=\"#000000\" fill-rule=\"evenodd\" fill-opacity=\"1\" /><path clip-path=\"url(#clip490)\" d=\"M222.17 1601.15 Q221.597 1602.14 221.342 1603.32 Q221.056 1604.46 221.056 1605.86 Q221.056 1610.83 224.303 1613.5 Q227.517 1616.14 233.565 1616.14 L252.343 1616.14 L252.343 1622.03 L216.695 1622.03 L216.695 1616.14 L222.234 1616.14 Q218.987 1614.3 217.428 1611.34 Q215.836 1608.38 215.836 1604.15 Q215.836 1603.54 215.932 1602.81 Q215.995 1602.08 216.154 1601.19 L222.17 1601.15 Z\" fill=\"#000000\" fill-rule=\"evenodd\" fill-opacity=\"1\" /><path clip-path=\"url(#clip490)\" d=\"M233.055 1565.95 L235.92 1565.95 L235.92 1592.88 Q241.967 1592.5 245.15 1589.25 Q248.301 1585.97 248.301 1580.15 Q248.301 1576.77 247.474 1573.62 Q246.646 1570.44 244.991 1567.32 L250.529 1567.32 Q251.866 1570.47 252.566 1573.78 Q253.266 1577.09 253.266 1580.5 Q253.266 1589.03 248.301 1594.02 Q243.336 1598.99 234.87 1598.99 Q226.117 1598.99 220.992 1594.28 Q215.836 1589.54 215.836 1581.52 Q215.836 1574.32 220.483 1570.15 Q225.098 1565.95 233.055 1565.95 M231.337 1571.81 Q226.531 1571.87 223.666 1574.51 Q220.801 1577.12 220.801 1581.45 Q220.801 1586.35 223.57 1589.31 Q226.34 1592.24 231.368 1592.69 L231.337 1571.81 Z\" fill=\"#000000\" fill-rule=\"evenodd\" fill-opacity=\"1\" /><path clip-path=\"url(#clip490)\" d=\"M233.055 1525.85 L235.92 1525.85 L235.92 1552.77 Q241.967 1552.39 245.15 1549.15 Q248.301 1545.87 248.301 1540.04 Q248.301 1536.67 247.474 1533.52 Q246.646 1530.34 244.991 1527.22 L250.529 1527.22 Q251.866 1530.37 252.566 1533.68 Q253.266 1536.99 253.266 1540.39 Q253.266 1548.92 248.301 1553.92 Q243.336 1558.89 234.87 1558.89 Q226.117 1558.89 220.992 1554.17 Q215.836 1549.43 215.836 1541.41 Q215.836 1534.22 220.483 1530.05 Q225.098 1525.85 233.055 1525.85 M231.337 1531.7 Q226.531 1531.77 223.666 1534.41 Q220.801 1537.02 220.801 1541.35 Q220.801 1546.25 223.57 1549.21 Q226.34 1552.14 231.368 1552.58 L231.337 1531.7 Z\" fill=\"#000000\" fill-rule=\"evenodd\" fill-opacity=\"1\" /><path clip-path=\"url(#clip490)\" d=\"M263.165 1489.15 L267.717 1489.15 L267.717 1523.01 L263.165 1523.01 L263.165 1489.15 Z\" fill=\"#000000\" fill-rule=\"evenodd\" fill-opacity=\"1\" /><path clip-path=\"url(#clip490)\" d=\"M222.17 1462.99 Q221.597 1463.97 221.342 1465.15 Q221.056 1466.3 221.056 1467.7 Q221.056 1472.66 224.303 1475.34 Q227.517 1477.98 233.565 1477.98 L252.343 1477.98 L252.343 1483.87 L216.695 1483.87 L216.695 1477.98 L222.234 1477.98 Q218.987 1476.13 217.428 1473.17 Q215.836 1470.21 215.836 1465.98 Q215.836 1465.37 215.932 1464.64 Q215.995 1463.91 216.154 1463.02 L222.17 1462.99 Z\" fill=\"#000000\" fill-rule=\"evenodd\" fill-opacity=\"1\" /><path clip-path=\"url(#clip490)\" d=\"M233.055 1427.78 L235.92 1427.78 L235.92 1454.71 Q241.967 1454.33 245.15 1451.08 Q248.301 1447.8 248.301 1441.98 Q248.301 1438.61 247.474 1435.45 Q246.646 1432.27 244.991 1429.15 L250.529 1429.15 Q251.866 1432.3 252.566 1435.61 Q253.266 1438.92 253.266 1442.33 Q253.266 1450.86 248.301 1455.86 Q243.336 1460.82 234.87 1460.82 Q226.117 1460.82 220.992 1456.11 Q215.836 1451.37 215.836 1443.35 Q215.836 1436.15 220.483 1431.99 Q225.098 1427.78 233.055 1427.78 M231.337 1433.64 Q226.531 1433.7 223.666 1436.35 Q220.801 1438.96 220.801 1443.28 Q220.801 1448.19 223.57 1451.15 Q226.34 1454.07 231.368 1454.52 L231.337 1433.64 Z\" fill=\"#000000\" fill-rule=\"evenodd\" fill-opacity=\"1\" /><path clip-path=\"url(#clip490)\" d=\"M234.106 1394.71 Q227.74 1394.71 224.239 1397.36 Q220.738 1399.97 220.738 1404.71 Q220.738 1409.42 224.239 1412.06 Q227.74 1414.67 234.106 1414.67 Q240.44 1414.67 243.941 1412.06 Q247.442 1409.42 247.442 1404.71 Q247.442 1399.97 243.941 1397.36 Q240.44 1394.71 234.106 1394.71 M247.919 1388.86 Q257.022 1388.86 261.446 1392.9 Q265.902 1396.94 265.902 1405.28 Q265.902 1408.37 265.425 1411.11 Q264.979 1413.84 264.025 1416.42 L258.327 1416.42 Q259.728 1413.84 260.396 1411.33 Q261.064 1408.81 261.064 1406.2 Q261.064 1400.44 258.041 1397.58 Q255.049 1394.71 248.97 1394.71 L246.073 1394.71 Q249.224 1396.53 250.784 1399.36 Q252.343 1402.19 252.343 1406.14 Q252.343 1412.7 247.346 1416.71 Q242.349 1420.72 234.106 1420.72 Q225.83 1420.72 220.833 1416.71 Q215.836 1412.7 215.836 1406.14 Q215.836 1402.19 217.396 1399.36 Q218.955 1396.53 222.106 1394.71 L216.695 1394.71 L216.695 1388.86 L247.919 1388.86 Z\" fill=\"#000000\" fill-rule=\"evenodd\" fill-opacity=\"1\" /><path clip-path=\"url(#clip490)\" d=\"M222.17 1356.14 Q221.597 1357.12 221.342 1358.3 Q221.056 1359.45 221.056 1360.85 Q221.056 1365.81 224.303 1368.49 Q227.517 1371.13 233.565 1371.13 L252.343 1371.13 L252.343 1377.02 L216.695 1377.02 L216.695 1371.13 L222.234 1371.13 Q218.987 1369.28 217.428 1366.32 Q215.836 1363.36 215.836 1359.13 Q215.836 1358.52 215.932 1357.79 Q215.995 1357.06 216.154 1356.17 L222.17 1356.14 Z\" fill=\"#000000\" fill-rule=\"evenodd\" fill-opacity=\"1\" /><path clip-path=\"url(#clip490)\" d=\"M233.055 1320.94 L235.92 1320.94 L235.92 1347.86 Q241.967 1347.48 245.15 1344.23 Q248.301 1340.96 248.301 1335.13 Q248.301 1331.76 247.474 1328.61 Q246.646 1325.42 244.991 1322.3 L250.529 1322.3 Q251.866 1325.45 252.566 1328.77 Q253.266 1332.08 253.266 1335.48 Q253.266 1344.01 248.301 1349.01 Q243.336 1353.97 234.87 1353.97 Q226.117 1353.97 220.992 1349.26 Q215.836 1344.52 215.836 1336.5 Q215.836 1329.31 220.483 1325.14 Q225.098 1320.94 233.055 1320.94 M231.337 1326.79 Q226.531 1326.86 223.666 1329.5 Q220.801 1332.11 220.801 1336.44 Q220.801 1341.34 223.57 1344.3 Q226.34 1347.23 231.368 1347.67 L231.337 1326.79 Z\" fill=\"#000000\" fill-rule=\"evenodd\" fill-opacity=\"1\" /><path clip-path=\"url(#clip490)\" d=\"M217.746 1288.6 L223.284 1288.6 Q222.011 1291.08 221.374 1293.75 Q220.738 1296.43 220.738 1299.29 Q220.738 1303.65 222.075 1305.85 Q223.411 1308.01 226.085 1308.01 Q228.122 1308.01 229.3 1306.45 Q230.445 1304.89 231.496 1300.18 L231.941 1298.18 Q233.278 1291.94 235.729 1289.33 Q238.148 1286.69 242.508 1286.69 Q247.474 1286.69 250.37 1290.63 Q253.266 1294.55 253.266 1301.42 Q253.266 1304.29 252.694 1307.41 Q252.152 1310.5 251.038 1313.93 L244.991 1313.93 Q246.678 1310.69 247.537 1307.54 Q248.365 1304.38 248.365 1301.3 Q248.365 1297.16 246.964 1294.93 Q245.532 1292.7 242.954 1292.7 Q240.567 1292.7 239.294 1294.33 Q238.021 1295.92 236.843 1301.36 L236.366 1303.4 Q235.22 1308.84 232.864 1311.26 Q230.477 1313.68 226.34 1313.68 Q221.311 1313.68 218.573 1310.11 Q215.836 1306.55 215.836 1299.99 Q215.836 1296.75 216.314 1293.88 Q216.791 1291.02 217.746 1288.6 Z\" fill=\"#000000\" fill-rule=\"evenodd\" fill-opacity=\"1\" /><path clip-path=\"url(#clip490)\" d=\"M217.746 1254.64 L223.284 1254.64 Q222.011 1257.12 221.374 1259.79 Q220.738 1262.47 220.738 1265.33 Q220.738 1269.69 222.075 1271.89 Q223.411 1274.05 226.085 1274.05 Q228.122 1274.05 229.3 1272.49 Q230.445 1270.93 231.496 1266.22 L231.941 1264.22 Q233.278 1257.98 235.729 1255.37 Q238.148 1252.73 242.508 1252.73 Q247.474 1252.73 250.37 1256.67 Q253.266 1260.59 253.266 1267.46 Q253.266 1270.33 252.694 1273.45 Q252.152 1276.53 251.038 1279.97 L244.991 1279.97 Q246.678 1276.73 247.537 1273.57 Q248.365 1270.42 248.365 1267.34 Q248.365 1263.2 246.964 1260.97 Q245.532 1258.74 242.954 1258.74 Q240.567 1258.74 239.294 1260.37 Q238.021 1261.96 236.843 1267.4 L236.366 1269.44 Q235.22 1274.88 232.864 1277.3 Q230.477 1279.72 226.34 1279.72 Q221.311 1279.72 218.573 1276.15 Q215.836 1272.59 215.836 1266.03 Q215.836 1262.78 216.314 1259.92 Q216.791 1257.06 217.746 1254.64 Z\" fill=\"#000000\" fill-rule=\"evenodd\" fill-opacity=\"1\" /><path clip-path=\"url(#clip490)\" d=\"M220.801 1229.59 Q220.801 1234.3 224.493 1237.04 Q228.154 1239.77 234.551 1239.77 Q240.949 1239.77 244.641 1237.07 Q248.301 1234.33 248.301 1229.59 Q248.301 1224.91 244.609 1222.17 Q240.917 1219.43 234.551 1219.43 Q228.217 1219.43 224.525 1222.17 Q220.801 1224.91 220.801 1229.59 M215.836 1229.59 Q215.836 1221.95 220.801 1217.59 Q225.767 1213.23 234.551 1213.23 Q243.304 1213.23 248.301 1217.59 Q253.266 1221.95 253.266 1229.59 Q253.266 1237.26 248.301 1241.62 Q243.304 1245.95 234.551 1245.95 Q225.767 1245.95 220.801 1241.62 Q215.836 1237.26 215.836 1229.59 Z\" fill=\"#000000\" fill-rule=\"evenodd\" fill-opacity=\"1\" /><path clip-path=\"url(#clip490)\" d=\"M222.17 1182.86 Q221.597 1183.85 221.342 1185.03 Q221.056 1186.17 221.056 1187.57 Q221.056 1192.54 224.303 1195.21 Q227.517 1197.85 233.565 1197.85 L252.343 1197.85 L252.343 1203.74 L216.695 1203.74 L216.695 1197.85 L222.234 1197.85 Q218.987 1196.01 217.428 1193.05 Q215.836 1190.09 215.836 1185.86 Q215.836 1185.25 215.932 1184.52 Q215.995 1183.79 216.154 1182.89 L222.17 1182.86 Z\" fill=\"#000000\" fill-rule=\"evenodd\" fill-opacity=\"1\" /><path clip-path=\"url(#clip490)\" d=\"M244.259 1181.88 L244.259 1175.16 L252.343 1175.16 L252.343 1181.88 L244.259 1181.88 Z\" fill=\"#000000\" fill-rule=\"evenodd\" fill-opacity=\"1\" /><path clip-path=\"url(#clip490)\" d=\"M230.827 1132.35 L252.343 1132.35 L252.343 1138.21 L231.018 1138.21 Q225.958 1138.21 223.443 1140.18 Q220.929 1142.15 220.929 1146.1 Q220.929 1150.84 223.952 1153.58 Q226.976 1156.32 232.196 1156.32 L252.343 1156.32 L252.343 1162.21 L216.695 1162.21 L216.695 1156.32 L222.234 1156.32 Q219.019 1154.22 217.428 1151.38 Q215.836 1148.52 215.836 1144.8 Q215.836 1138.65 219.656 1135.5 Q223.443 1132.35 230.827 1132.35 Z\" fill=\"#000000\" fill-rule=\"evenodd\" fill-opacity=\"1\" /><path clip-path=\"url(#clip490)\" d=\"M234.551 1095.08 Q228.09 1095.08 224.43 1097.75 Q220.738 1100.4 220.738 1105.04 Q220.738 1109.69 224.43 1112.36 Q228.09 1115 234.551 1115 Q241.012 1115 244.705 1112.36 Q248.365 1109.69 248.365 1105.04 Q248.365 1100.4 244.705 1097.75 Q241.012 1095.08 234.551 1095.08 M222.106 1115 Q218.923 1113.16 217.396 1110.36 Q215.836 1107.52 215.836 1103.61 Q215.836 1097.12 220.992 1093.07 Q226.149 1089 234.551 1089 Q242.954 1089 248.11 1093.07 Q253.266 1097.12 253.266 1103.61 Q253.266 1107.52 251.739 1110.36 Q250.179 1113.16 246.996 1115 L252.343 1115 L252.343 1120.89 L202.818 1120.89 L202.818 1115 L222.106 1115 Z\" fill=\"#000000\" fill-rule=\"evenodd\" fill-opacity=\"1\" /><path clip-path=\"url(#clip490)\" d=\"M216.695 1079.29 L216.695 1073.44 L252.343 1073.44 L252.343 1079.29 L216.695 1079.29 M202.818 1079.29 L202.818 1073.44 L210.234 1073.44 L210.234 1079.29 L202.818 1079.29 Z\" fill=\"#000000\" fill-rule=\"evenodd\" fill-opacity=\"1\" /><path clip-path=\"url(#clip490)\" d=\"M230.827 1031.55 L252.343 1031.55 L252.343 1037.41 L231.018 1037.41 Q225.958 1037.41 223.443 1039.38 Q220.929 1041.35 220.929 1045.3 Q220.929 1050.04 223.952 1052.78 Q226.976 1055.52 232.196 1055.52 L252.343 1055.52 L252.343 1061.41 L216.695 1061.41 L216.695 1055.52 L222.234 1055.52 Q219.019 1053.42 217.428 1050.58 Q215.836 1047.72 215.836 1044 Q215.836 1037.85 219.656 1034.7 Q223.443 1031.55 230.827 1031.55 Z\" fill=\"#000000\" fill-rule=\"evenodd\" fill-opacity=\"1\" /><path clip-path=\"url(#clip490)\" d=\"M217.746 997.144 L223.284 997.144 Q222.011 999.626 221.374 1002.3 Q220.738 1004.97 220.738 1007.84 Q220.738 1012.2 222.075 1014.39 Q223.411 1016.56 226.085 1016.56 Q228.122 1016.56 229.3 1015 Q230.445 1013.44 231.496 1008.73 L231.941 1006.72 Q233.278 1000.49 235.729 997.876 Q238.148 995.234 242.508 995.234 Q247.474 995.234 250.37 999.181 Q253.266 1003.1 253.266 1009.97 Q253.266 1012.84 252.694 1015.95 Q252.152 1019.04 251.038 1022.48 L244.991 1022.48 Q246.678 1019.23 247.537 1016.08 Q248.365 1012.93 248.365 1009.84 Q248.365 1005.71 246.964 1003.48 Q245.532 1001.25 242.954 1001.25 Q240.567 1001.25 239.294 1002.87 Q238.021 1004.46 236.843 1009.91 L236.366 1011.94 Q235.22 1017.39 232.864 1019.81 Q230.477 1022.22 226.34 1022.22 Q221.311 1022.22 218.573 1018.66 Q215.836 1015.09 215.836 1008.54 Q215.836 1005.29 216.314 1002.43 Q216.791 999.563 217.746 997.144 Z\" fill=\"#000000\" fill-rule=\"evenodd\" fill-opacity=\"1\" /><circle clip-path=\"url(#clip494)\" cx=\"815.821\" cy=\"1029.11\" r=\"4\" fill=\"#000005\" fill-rule=\"evenodd\" fill-opacity=\"1\" stroke=\"#000000\" stroke-opacity=\"1\" stroke-width=\"4\"/>\n",
       "<circle clip-path=\"url(#clip494)\" cx=\"596.944\" cy=\"1422.75\" r=\"11\" fill=\"#160b39\" fill-rule=\"evenodd\" fill-opacity=\"1\" stroke=\"#000000\" stroke-opacity=\"1\" stroke-width=\"4\"/>\n",
       "<circle clip-path=\"url(#clip494)\" cx=\"596.944\" cy=\"1767.19\" r=\"15\" fill=\"#31095d\" fill-rule=\"evenodd\" fill-opacity=\"1\" stroke=\"#000000\" stroke-opacity=\"1\" stroke-width=\"4\"/>\n",
       "<circle clip-path=\"url(#clip494)\" cx=\"706.383\" cy=\"1767.19\" r=\"12\" fill=\"#1b0c42\" fill-rule=\"evenodd\" fill-opacity=\"1\" stroke=\"#000000\" stroke-opacity=\"1\" stroke-width=\"4\"/>\n",
       "<circle clip-path=\"url(#clip494)\" cx=\"596.944\" cy=\"1422.75\" r=\"11\" fill=\"#160b39\" fill-rule=\"evenodd\" fill-opacity=\"1\" stroke=\"#000000\" stroke-opacity=\"1\" stroke-width=\"4\"/>\n",
       "<circle clip-path=\"url(#clip494)\" cx=\"596.944\" cy=\"1619.57\" r=\"12\" fill=\"#1a0b3f\" fill-rule=\"evenodd\" fill-opacity=\"1\" stroke=\"#000000\" stroke-opacity=\"1\" stroke-width=\"4\"/>\n",
       "<circle clip-path=\"url(#clip494)\" cx=\"596.944\" cy=\"1422.75\" r=\"11\" fill=\"#160b39\" fill-rule=\"evenodd\" fill-opacity=\"1\" stroke=\"#000000\" stroke-opacity=\"1\" stroke-width=\"4\"/>\n",
       "<circle clip-path=\"url(#clip494)\" cx=\"925.26\" cy=\"1717.99\" r=\"7\" fill=\"#06041b\" fill-rule=\"evenodd\" fill-opacity=\"1\" stroke=\"#000000\" stroke-opacity=\"1\" stroke-width=\"4\"/>\n",
       "<circle clip-path=\"url(#clip494)\" cx=\"979.979\" cy=\"1422.75\" r=\"4\" fill=\"#01010a\" fill-rule=\"evenodd\" fill-opacity=\"1\" stroke=\"#000000\" stroke-opacity=\"1\" stroke-width=\"4\"/>\n",
       "<circle clip-path=\"url(#clip494)\" cx=\"761.102\" cy=\"1029.11\" r=\"4\" fill=\"#010007\" fill-rule=\"evenodd\" fill-opacity=\"1\" stroke=\"#000000\" stroke-opacity=\"1\" stroke-width=\"4\"/>\n",
       "<circle clip-path=\"url(#clip494)\" cx=\"925.26\" cy=\"1717.99\" r=\"7\" fill=\"#06041b\" fill-rule=\"evenodd\" fill-opacity=\"1\" stroke=\"#000000\" stroke-opacity=\"1\" stroke-width=\"4\"/>\n",
       "<circle clip-path=\"url(#clip494)\" cx=\"432.786\" cy=\"1619.57\" r=\"61\" fill=\"#fcfea4\" fill-rule=\"evenodd\" fill-opacity=\"1\" stroke=\"#000000\" stroke-opacity=\"1\" stroke-width=\"4\"/>\n",
       "<circle clip-path=\"url(#clip494)\" cx=\"815.821\" cy=\"1029.11\" r=\"4\" fill=\"#000005\" fill-rule=\"evenodd\" fill-opacity=\"1\" stroke=\"#000000\" stroke-opacity=\"1\" stroke-width=\"4\"/>\n",
       "<circle clip-path=\"url(#clip494)\" cx=\"761.102\" cy=\"1717.99\" r=\"8\" fill=\"#08061f\" fill-rule=\"evenodd\" fill-opacity=\"1\" stroke=\"#000000\" stroke-opacity=\"1\" stroke-width=\"4\"/>\n",
       "<circle clip-path=\"url(#clip494)\" cx=\"870.541\" cy=\"1767.19\" r=\"11\" fill=\"#170b3b\" fill-rule=\"evenodd\" fill-opacity=\"1\" stroke=\"#000000\" stroke-opacity=\"1\" stroke-width=\"4\"/>\n",
       "<circle clip-path=\"url(#clip494)\" cx=\"487.505\" cy=\"1422.75\" r=\"23\" fill=\"#63146e\" fill-rule=\"evenodd\" fill-opacity=\"1\" stroke=\"#000000\" stroke-opacity=\"1\" stroke-width=\"4\"/>\n",
       "<circle clip-path=\"url(#clip494)\" cx=\"761.102\" cy=\"1767.19\" r=\"11\" fill=\"#180b3d\" fill-rule=\"evenodd\" fill-opacity=\"1\" stroke=\"#000000\" stroke-opacity=\"1\" stroke-width=\"4\"/>\n",
       "<circle clip-path=\"url(#clip494)\" cx=\"761.102\" cy=\"1422.75\" r=\"5\" fill=\"#02020e\" fill-rule=\"evenodd\" fill-opacity=\"1\" stroke=\"#000000\" stroke-opacity=\"1\" stroke-width=\"4\"/>\n",
       "<circle clip-path=\"url(#clip494)\" cx=\"596.944\" cy=\"1422.75\" r=\"11\" fill=\"#160b39\" fill-rule=\"evenodd\" fill-opacity=\"1\" stroke=\"#000000\" stroke-opacity=\"1\" stroke-width=\"4\"/>\n",
       "<circle clip-path=\"url(#clip494)\" cx=\"706.383\" cy=\"1619.57\" r=\"7\" fill=\"#050418\" fill-rule=\"evenodd\" fill-opacity=\"1\" stroke=\"#000000\" stroke-opacity=\"1\" stroke-width=\"4\"/>\n",
       "<circle clip-path=\"url(#clip494)\" cx=\"925.26\" cy=\"1767.19\" r=\"11\" fill=\"#180b3c\" fill-rule=\"evenodd\" fill-opacity=\"1\" stroke=\"#000000\" stroke-opacity=\"1\" stroke-width=\"4\"/>\n",
       "<circle clip-path=\"url(#clip494)\" cx=\"979.979\" cy=\"1717.99\" r=\"7\" fill=\"#08051e\" fill-rule=\"evenodd\" fill-opacity=\"1\" stroke=\"#000000\" stroke-opacity=\"1\" stroke-width=\"4\"/>\n",
       "<circle clip-path=\"url(#clip494)\" cx=\"487.505\" cy=\"1029.11\" r=\"23\" fill=\"#5f136e\" fill-rule=\"evenodd\" fill-opacity=\"1\" stroke=\"#000000\" stroke-opacity=\"1\" stroke-width=\"4\"/>\n",
       "<circle clip-path=\"url(#clip494)\" cx=\"761.102\" cy=\"1767.19\" r=\"11\" fill=\"#180b3d\" fill-rule=\"evenodd\" fill-opacity=\"1\" stroke=\"#000000\" stroke-opacity=\"1\" stroke-width=\"4\"/>\n",
       "<circle clip-path=\"url(#clip494)\" cx=\"432.786\" cy=\"1029.11\" r=\"61\" fill=\"#fcfea4\" fill-rule=\"evenodd\" fill-opacity=\"1\" stroke=\"#000000\" stroke-opacity=\"1\" stroke-width=\"4\"/>\n",
       "<circle clip-path=\"url(#clip494)\" cx=\"925.26\" cy=\"1029.11\" r=\"3\" fill=\"#000003\" fill-rule=\"evenodd\" fill-opacity=\"1\" stroke=\"#000000\" stroke-opacity=\"1\" stroke-width=\"4\"/>\n",
       "<circle clip-path=\"url(#clip494)\" cx=\"925.26\" cy=\"1029.11\" r=\"3\" fill=\"#000003\" fill-rule=\"evenodd\" fill-opacity=\"1\" stroke=\"#000000\" stroke-opacity=\"1\" stroke-width=\"4\"/>\n",
       "<circle clip-path=\"url(#clip494)\" cx=\"651.663\" cy=\"1619.57\" r=\"8\" fill=\"#0c0726\" fill-rule=\"evenodd\" fill-opacity=\"1\" stroke=\"#000000\" stroke-opacity=\"1\" stroke-width=\"4\"/>\n",
       "<circle clip-path=\"url(#clip494)\" cx=\"979.979\" cy=\"1422.75\" r=\"4\" fill=\"#01010a\" fill-rule=\"evenodd\" fill-opacity=\"1\" stroke=\"#000000\" stroke-opacity=\"1\" stroke-width=\"4\"/>\n",
       "<circle clip-path=\"url(#clip494)\" cx=\"596.944\" cy=\"1029.11\" r=\"10\" fill=\"#120a32\" fill-rule=\"evenodd\" fill-opacity=\"1\" stroke=\"#000000\" stroke-opacity=\"1\" stroke-width=\"4\"/>\n",
       "<circle clip-path=\"url(#clip494)\" cx=\"815.821\" cy=\"1717.99\" r=\"7\" fill=\"#050419\" fill-rule=\"evenodd\" fill-opacity=\"1\" stroke=\"#000000\" stroke-opacity=\"1\" stroke-width=\"4\"/>\n",
       "<circle clip-path=\"url(#clip494)\" cx=\"925.26\" cy=\"1767.19\" r=\"11\" fill=\"#180b3c\" fill-rule=\"evenodd\" fill-opacity=\"1\" stroke=\"#000000\" stroke-opacity=\"1\" stroke-width=\"4\"/>\n",
       "<circle clip-path=\"url(#clip494)\" cx=\"706.383\" cy=\"1767.19\" r=\"12\" fill=\"#1b0c42\" fill-rule=\"evenodd\" fill-opacity=\"1\" stroke=\"#000000\" stroke-opacity=\"1\" stroke-width=\"4\"/>\n",
       "<circle clip-path=\"url(#clip494)\" cx=\"542.225\" cy=\"1717.99\" r=\"16\" fill=\"#370961\" fill-rule=\"evenodd\" fill-opacity=\"1\" stroke=\"#000000\" stroke-opacity=\"1\" stroke-width=\"4\"/>\n",
       "<circle clip-path=\"url(#clip494)\" cx=\"1034.7\" cy=\"1029.11\" r=\"4\" fill=\"#010007\" fill-rule=\"evenodd\" fill-opacity=\"1\" stroke=\"#000000\" stroke-opacity=\"1\" stroke-width=\"4\"/>\n",
       "<circle clip-path=\"url(#clip494)\" cx=\"1034.7\" cy=\"1422.75\" r=\"5\" fill=\"#02010d\" fill-rule=\"evenodd\" fill-opacity=\"1\" stroke=\"#000000\" stroke-opacity=\"1\" stroke-width=\"4\"/>\n",
       "<circle clip-path=\"url(#clip494)\" cx=\"651.663\" cy=\"1767.19\" r=\"13\" fill=\"#240b4f\" fill-rule=\"evenodd\" fill-opacity=\"1\" stroke=\"#000000\" stroke-opacity=\"1\" stroke-width=\"4\"/>\n",
       "<circle clip-path=\"url(#clip494)\" cx=\"596.944\" cy=\"1767.19\" r=\"15\" fill=\"#31095d\" fill-rule=\"evenodd\" fill-opacity=\"1\" stroke=\"#000000\" stroke-opacity=\"1\" stroke-width=\"4\"/>\n",
       "<circle clip-path=\"url(#clip494)\" cx=\"706.383\" cy=\"1619.57\" r=\"7\" fill=\"#050418\" fill-rule=\"evenodd\" fill-opacity=\"1\" stroke=\"#000000\" stroke-opacity=\"1\" stroke-width=\"4\"/>\n",
       "<circle clip-path=\"url(#clip494)\" cx=\"870.541\" cy=\"1619.57\" r=\"4\" fill=\"#01010a\" fill-rule=\"evenodd\" fill-opacity=\"1\" stroke=\"#000000\" stroke-opacity=\"1\" stroke-width=\"4\"/>\n",
       "<path clip-path=\"url(#clip490)\" d=\"\n",
       "M1514.73 1789.33 L2152.76 1789.33 L2152.76 1006.97 L1514.73 1006.97  Z\n",
       "  \" fill=\"#ffffff\" fill-rule=\"evenodd\" fill-opacity=\"1\"/>\n",
       "<defs>\n",
       "  <clipPath id=\"clip495\">\n",
       "    <rect x=\"1514\" y=\"1006\" width=\"639\" height=\"783\"/>\n",
       "  </clipPath>\n",
       "</defs>\n",
       "<polyline clip-path=\"url(#clip495)\" style=\"stroke:#000000; stroke-linecap:butt; stroke-linejoin:round; stroke-width:2; stroke-opacity:0.1; fill:none\" points=\"\n",
       "  1618.06,1789.33 1618.06,1006.97 \n",
       "  \"/>\n",
       "<polyline clip-path=\"url(#clip495)\" style=\"stroke:#000000; stroke-linecap:butt; stroke-linejoin:round; stroke-width:2; stroke-opacity:0.1; fill:none\" points=\"\n",
       "  1743.46,1789.33 1743.46,1006.97 \n",
       "  \"/>\n",
       "<polyline clip-path=\"url(#clip495)\" style=\"stroke:#000000; stroke-linecap:butt; stroke-linejoin:round; stroke-width:2; stroke-opacity:0.1; fill:none\" points=\"\n",
       "  1868.85,1789.33 1868.85,1006.97 \n",
       "  \"/>\n",
       "<polyline clip-path=\"url(#clip495)\" style=\"stroke:#000000; stroke-linecap:butt; stroke-linejoin:round; stroke-width:2; stroke-opacity:0.1; fill:none\" points=\"\n",
       "  1994.25,1789.33 1994.25,1006.97 \n",
       "  \"/>\n",
       "<polyline clip-path=\"url(#clip495)\" style=\"stroke:#000000; stroke-linecap:butt; stroke-linejoin:round; stroke-width:2; stroke-opacity:0.1; fill:none\" points=\"\n",
       "  2119.65,1789.33 2119.65,1006.97 \n",
       "  \"/>\n",
       "<polyline clip-path=\"url(#clip490)\" style=\"stroke:#000000; stroke-linecap:butt; stroke-linejoin:round; stroke-width:4; stroke-opacity:1; fill:none\" points=\"\n",
       "  1514.73,1789.33 2152.76,1789.33 \n",
       "  \"/>\n",
       "<polyline clip-path=\"url(#clip490)\" style=\"stroke:#000000; stroke-linecap:butt; stroke-linejoin:round; stroke-width:4; stroke-opacity:1; fill:none\" points=\"\n",
       "  1514.73,1006.97 2152.76,1006.97 \n",
       "  \"/>\n",
       "<polyline clip-path=\"url(#clip490)\" style=\"stroke:#000000; stroke-linecap:butt; stroke-linejoin:round; stroke-width:4; stroke-opacity:1; fill:none\" points=\"\n",
       "  1618.06,1789.33 1618.06,1770.43 \n",
       "  \"/>\n",
       "<polyline clip-path=\"url(#clip490)\" style=\"stroke:#000000; stroke-linecap:butt; stroke-linejoin:round; stroke-width:4; stroke-opacity:1; fill:none\" points=\"\n",
       "  1743.46,1789.33 1743.46,1770.43 \n",
       "  \"/>\n",
       "<polyline clip-path=\"url(#clip490)\" style=\"stroke:#000000; stroke-linecap:butt; stroke-linejoin:round; stroke-width:4; stroke-opacity:1; fill:none\" points=\"\n",
       "  1868.85,1789.33 1868.85,1770.43 \n",
       "  \"/>\n",
       "<polyline clip-path=\"url(#clip490)\" style=\"stroke:#000000; stroke-linecap:butt; stroke-linejoin:round; stroke-width:4; stroke-opacity:1; fill:none\" points=\"\n",
       "  1994.25,1789.33 1994.25,1770.43 \n",
       "  \"/>\n",
       "<polyline clip-path=\"url(#clip490)\" style=\"stroke:#000000; stroke-linecap:butt; stroke-linejoin:round; stroke-width:4; stroke-opacity:1; fill:none\" points=\"\n",
       "  2119.65,1789.33 2119.65,1770.43 \n",
       "  \"/>\n",
       "<path clip-path=\"url(#clip490)\" d=\"M1597.33 1846.2 L1613.65 1846.2 L1613.65 1850.13 L1591.7 1850.13 L1591.7 1846.2 Q1594.36 1843.44 1598.95 1838.81 Q1603.55 1834.16 1604.74 1832.82 Q1606.98 1830.29 1607.86 1828.56 Q1608.76 1826.8 1608.76 1825.11 Q1608.76 1822.35 1606.82 1820.62 Q1604.9 1818.88 1601.8 1818.88 Q1599.6 1818.88 1597.14 1819.65 Q1594.71 1820.41 1591.93 1821.96 L1591.93 1817.24 Q1594.76 1816.1 1597.21 1815.53 Q1599.67 1814.95 1601.7 1814.95 Q1607.07 1814.95 1610.27 1817.63 Q1613.46 1820.32 1613.46 1824.81 Q1613.46 1826.94 1612.65 1828.86 Q1611.86 1830.76 1609.76 1833.35 Q1609.18 1834.02 1606.08 1837.24 Q1602.98 1840.43 1597.33 1846.2 Z\" fill=\"#000000\" fill-rule=\"evenodd\" fill-opacity=\"1\" /><path clip-path=\"url(#clip490)\" d=\"M1623.51 1815.57 L1641.86 1815.57 L1641.86 1819.51 L1627.79 1819.51 L1627.79 1827.98 Q1628.81 1827.63 1629.83 1827.47 Q1630.85 1827.29 1631.86 1827.29 Q1637.65 1827.29 1641.03 1830.46 Q1644.41 1833.63 1644.41 1839.04 Q1644.41 1844.62 1640.94 1847.73 Q1637.47 1850.8 1631.15 1850.8 Q1628.97 1850.8 1626.7 1850.43 Q1624.46 1850.06 1622.05 1849.32 L1622.05 1844.62 Q1624.13 1845.76 1626.36 1846.31 Q1628.58 1846.87 1631.05 1846.87 Q1635.06 1846.87 1637.4 1844.76 Q1639.74 1842.66 1639.74 1839.04 Q1639.74 1835.43 1637.4 1833.33 Q1635.06 1831.22 1631.05 1831.22 Q1629.18 1831.22 1627.3 1831.64 Q1625.45 1832.05 1623.51 1832.93 L1623.51 1815.57 Z\" fill=\"#000000\" fill-rule=\"evenodd\" fill-opacity=\"1\" /><path clip-path=\"url(#clip490)\" d=\"M1718.15 1815.57 L1736.51 1815.57 L1736.51 1819.51 L1722.44 1819.51 L1722.44 1827.98 Q1723.46 1827.63 1724.47 1827.47 Q1725.49 1827.29 1726.51 1827.29 Q1732.3 1827.29 1735.68 1830.46 Q1739.06 1833.63 1739.06 1839.04 Q1739.06 1844.62 1735.59 1847.73 Q1732.11 1850.8 1725.79 1850.8 Q1723.62 1850.8 1721.35 1850.43 Q1719.1 1850.06 1716.7 1849.32 L1716.7 1844.62 Q1718.78 1845.76 1721 1846.31 Q1723.22 1846.87 1725.7 1846.87 Q1729.71 1846.87 1732.04 1844.76 Q1734.38 1842.66 1734.38 1839.04 Q1734.38 1835.43 1732.04 1833.33 Q1729.71 1831.22 1725.7 1831.22 Q1723.83 1831.22 1721.95 1831.64 Q1720.1 1832.05 1718.15 1832.93 L1718.15 1815.57 Z\" fill=\"#000000\" fill-rule=\"evenodd\" fill-opacity=\"1\" /><path clip-path=\"url(#clip490)\" d=\"M1758.27 1818.65 Q1754.66 1818.65 1752.83 1822.22 Q1751.02 1825.76 1751.02 1832.89 Q1751.02 1839.99 1752.83 1843.56 Q1754.66 1847.1 1758.27 1847.1 Q1761.9 1847.1 1763.71 1843.56 Q1765.54 1839.99 1765.54 1832.89 Q1765.54 1825.76 1763.71 1822.22 Q1761.9 1818.65 1758.27 1818.65 M1758.27 1814.95 Q1764.08 1814.95 1767.14 1819.55 Q1770.21 1824.14 1770.21 1832.89 Q1770.21 1841.61 1767.14 1846.22 Q1764.08 1850.8 1758.27 1850.8 Q1752.46 1850.8 1749.38 1846.22 Q1746.33 1841.61 1746.33 1832.89 Q1746.33 1824.14 1749.38 1819.55 Q1752.46 1814.95 1758.27 1814.95 Z\" fill=\"#000000\" fill-rule=\"evenodd\" fill-opacity=\"1\" /><path clip-path=\"url(#clip490)\" d=\"M1842.71 1815.57 L1864.93 1815.57 L1864.93 1817.56 L1852.38 1850.13 L1847.5 1850.13 L1859.31 1819.51 L1842.71 1819.51 L1842.71 1815.57 Z\" fill=\"#000000\" fill-rule=\"evenodd\" fill-opacity=\"1\" /><path clip-path=\"url(#clip490)\" d=\"M1874.1 1815.57 L1892.45 1815.57 L1892.45 1819.51 L1878.38 1819.51 L1878.38 1827.98 Q1879.4 1827.63 1880.42 1827.47 Q1881.43 1827.29 1882.45 1827.29 Q1888.24 1827.29 1891.62 1830.46 Q1895 1833.63 1895 1839.04 Q1895 1844.62 1891.53 1847.73 Q1888.06 1850.8 1881.74 1850.8 Q1879.56 1850.8 1877.29 1850.43 Q1875.05 1850.06 1872.64 1849.32 L1872.64 1844.62 Q1874.72 1845.76 1876.94 1846.31 Q1879.17 1846.87 1881.64 1846.87 Q1885.65 1846.87 1887.99 1844.76 Q1890.32 1842.66 1890.32 1839.04 Q1890.32 1835.43 1887.99 1833.33 Q1885.65 1831.22 1881.64 1831.22 Q1879.77 1831.22 1877.89 1831.64 Q1876.04 1832.05 1874.1 1832.93 L1874.1 1815.57 Z\" fill=\"#000000\" fill-rule=\"evenodd\" fill-opacity=\"1\" /><path clip-path=\"url(#clip490)\" d=\"M1953.86 1846.2 L1961.5 1846.2 L1961.5 1819.83 L1953.19 1821.5 L1953.19 1817.24 L1961.45 1815.57 L1966.13 1815.57 L1966.13 1846.2 L1973.77 1846.2 L1973.77 1850.13 L1953.86 1850.13 L1953.86 1846.2 Z\" fill=\"#000000\" fill-rule=\"evenodd\" fill-opacity=\"1\" /><path clip-path=\"url(#clip490)\" d=\"M1993.21 1818.65 Q1989.6 1818.65 1987.77 1822.22 Q1985.97 1825.76 1985.97 1832.89 Q1985.97 1839.99 1987.77 1843.56 Q1989.6 1847.1 1993.21 1847.1 Q1996.84 1847.1 1998.65 1843.56 Q2000.48 1839.99 2000.48 1832.89 Q2000.48 1825.76 1998.65 1822.22 Q1996.84 1818.65 1993.21 1818.65 M1993.21 1814.95 Q1999.02 1814.95 2002.08 1819.55 Q2005.15 1824.14 2005.15 1832.89 Q2005.15 1841.61 2002.08 1846.22 Q1999.02 1850.8 1993.21 1850.8 Q1987.4 1850.8 1984.32 1846.22 Q1981.27 1841.61 1981.27 1832.89 Q1981.27 1824.14 1984.32 1819.55 Q1987.4 1814.95 1993.21 1814.95 Z\" fill=\"#000000\" fill-rule=\"evenodd\" fill-opacity=\"1\" /><path clip-path=\"url(#clip490)\" d=\"M2023.37 1818.65 Q2019.76 1818.65 2017.93 1822.22 Q2016.13 1825.76 2016.13 1832.89 Q2016.13 1839.99 2017.93 1843.56 Q2019.76 1847.1 2023.37 1847.1 Q2027.01 1847.1 2028.81 1843.56 Q2030.64 1839.99 2030.64 1832.89 Q2030.64 1825.76 2028.81 1822.22 Q2027.01 1818.65 2023.37 1818.65 M2023.37 1814.95 Q2029.18 1814.95 2032.24 1819.55 Q2035.32 1824.14 2035.32 1832.89 Q2035.32 1841.61 2032.24 1846.22 Q2029.18 1850.8 2023.37 1850.8 Q2017.56 1850.8 2014.48 1846.22 Q2011.43 1841.61 2011.43 1832.89 Q2011.43 1824.14 2014.48 1819.55 Q2017.56 1814.95 2023.37 1814.95 Z\" fill=\"#000000\" fill-rule=\"evenodd\" fill-opacity=\"1\" /><path clip-path=\"url(#clip490)\" d=\"M2079.76 1846.2 L2087.39 1846.2 L2087.39 1819.83 L2079.08 1821.5 L2079.08 1817.24 L2087.35 1815.57 L2092.02 1815.57 L2092.02 1846.2 L2099.66 1846.2 L2099.66 1850.13 L2079.76 1850.13 L2079.76 1846.2 Z\" fill=\"#000000\" fill-rule=\"evenodd\" fill-opacity=\"1\" /><path clip-path=\"url(#clip490)\" d=\"M2113.13 1846.2 L2129.45 1846.2 L2129.45 1850.13 L2107.51 1850.13 L2107.51 1846.2 Q2110.17 1843.44 2114.75 1838.81 Q2119.36 1834.16 2120.54 1832.82 Q2122.79 1830.29 2123.67 1828.56 Q2124.57 1826.8 2124.57 1825.11 Q2124.57 1822.35 2122.63 1820.62 Q2120.7 1818.88 2117.6 1818.88 Q2115.4 1818.88 2112.95 1819.65 Q2110.52 1820.41 2107.74 1821.96 L2107.74 1817.24 Q2110.57 1816.1 2113.02 1815.53 Q2115.47 1814.95 2117.51 1814.95 Q2122.88 1814.95 2126.07 1817.63 Q2129.27 1820.32 2129.27 1824.81 Q2129.27 1826.94 2128.46 1828.86 Q2127.67 1830.76 2125.57 1833.35 Q2124.99 1834.02 2121.88 1837.24 Q2118.78 1840.43 2113.13 1846.2 Z\" fill=\"#000000\" fill-rule=\"evenodd\" fill-opacity=\"1\" /><path clip-path=\"url(#clip490)\" d=\"M2139.31 1815.57 L2157.67 1815.57 L2157.67 1819.51 L2143.6 1819.51 L2143.6 1827.98 Q2144.62 1827.63 2145.63 1827.47 Q2146.65 1827.29 2147.67 1827.29 Q2153.46 1827.29 2156.84 1830.46 Q2160.22 1833.63 2160.22 1839.04 Q2160.22 1844.62 2156.75 1847.73 Q2153.27 1850.8 2146.95 1850.8 Q2144.78 1850.8 2142.51 1850.43 Q2140.26 1850.06 2137.86 1849.32 L2137.86 1844.62 Q2139.94 1845.76 2142.16 1846.31 Q2144.38 1846.87 2146.86 1846.87 Q2150.87 1846.87 2153.2 1844.76 Q2155.54 1842.66 2155.54 1839.04 Q2155.54 1835.43 2153.2 1833.33 Q2150.87 1831.22 2146.86 1831.22 Q2144.99 1831.22 2143.11 1831.64 Q2141.26 1832.05 2139.31 1832.93 L2139.31 1815.57 Z\" fill=\"#000000\" fill-rule=\"evenodd\" fill-opacity=\"1\" /><path clip-path=\"url(#clip490)\" d=\"M1463.86 1911.91 L1463.86 1914.77 L1436.94 1914.77 Q1437.32 1920.82 1440.56 1924 Q1443.84 1927.15 1449.67 1927.15 Q1453.04 1927.15 1456.19 1926.33 Q1459.38 1925.5 1462.49 1923.84 L1462.49 1929.38 Q1459.34 1930.72 1456.03 1931.42 Q1452.72 1932.12 1449.32 1932.12 Q1440.79 1932.12 1435.79 1927.15 Q1430.82 1922.19 1430.82 1913.72 Q1430.82 1904.97 1435.54 1899.85 Q1440.28 1894.69 1448.3 1894.69 Q1455.49 1894.69 1459.66 1899.34 Q1463.86 1903.95 1463.86 1911.91 M1458.01 1910.19 Q1457.94 1905.38 1455.3 1902.52 Q1452.69 1899.65 1448.36 1899.65 Q1443.46 1899.65 1440.5 1902.42 Q1437.57 1905.19 1437.13 1910.22 L1458.01 1910.19 Z\" fill=\"#000000\" fill-rule=\"evenodd\" fill-opacity=\"1\" /><path clip-path=\"url(#clip490)\" d=\"M1469.27 1895.55 L1475.48 1895.55 L1486.62 1925.47 L1497.76 1895.55 L1503.97 1895.55 L1490.6 1931.2 L1482.64 1931.2 L1469.27 1895.55 Z\" fill=\"#000000\" fill-rule=\"evenodd\" fill-opacity=\"1\" /><path clip-path=\"url(#clip490)\" d=\"M1525.86 1899.65 Q1521.15 1899.65 1518.42 1903.35 Q1515.68 1907.01 1515.68 1913.4 Q1515.68 1919.8 1518.39 1923.49 Q1521.12 1927.15 1525.86 1927.15 Q1530.54 1927.15 1533.28 1923.46 Q1536.02 1919.77 1536.02 1913.4 Q1536.02 1907.07 1533.28 1903.38 Q1530.54 1899.65 1525.86 1899.65 M1525.86 1894.69 Q1533.5 1894.69 1537.86 1899.65 Q1542.22 1904.62 1542.22 1913.4 Q1542.22 1922.16 1537.86 1927.15 Q1533.5 1932.12 1525.86 1932.12 Q1518.19 1932.12 1513.83 1927.15 Q1509.51 1922.16 1509.51 1913.4 Q1509.51 1904.62 1513.83 1899.65 Q1518.19 1894.69 1525.86 1894.69 Z\" fill=\"#000000\" fill-rule=\"evenodd\" fill-opacity=\"1\" /><path clip-path=\"url(#clip490)\" d=\"M1579.02 1942.02 L1579.02 1946.57 L1545.15 1946.57 L1545.15 1942.02 L1579.02 1942.02 Z\" fill=\"#000000\" fill-rule=\"evenodd\" fill-opacity=\"1\" /><path clip-path=\"url(#clip490)\" d=\"M1590.32 1885.43 L1590.32 1895.55 L1602.38 1895.55 L1602.38 1900.1 L1590.32 1900.1 L1590.32 1919.45 Q1590.32 1923.81 1591.5 1925.05 Q1592.7 1926.29 1596.37 1926.29 L1602.38 1926.29 L1602.38 1931.2 L1596.37 1931.2 Q1589.59 1931.2 1587.01 1928.68 Q1584.43 1926.14 1584.43 1919.45 L1584.43 1900.1 L1580.13 1900.1 L1580.13 1895.55 L1584.43 1895.55 L1584.43 1885.43 L1590.32 1885.43 Z\" fill=\"#000000\" fill-rule=\"evenodd\" fill-opacity=\"1\" /><path clip-path=\"url(#clip490)\" d=\"M1630.74 1901.02 Q1629.75 1900.45 1628.58 1900.2 Q1627.43 1899.91 1626.03 1899.91 Q1621.06 1899.91 1618.39 1903.16 Q1615.75 1906.37 1615.75 1912.42 L1615.75 1931.2 L1609.86 1931.2 L1609.86 1895.55 L1615.75 1895.55 L1615.75 1901.09 Q1617.59 1897.84 1620.55 1896.28 Q1623.51 1894.69 1627.75 1894.69 Q1628.35 1894.69 1629.08 1894.78 Q1629.82 1894.85 1630.71 1895.01 L1630.74 1901.02 Z\" fill=\"#000000\" fill-rule=\"evenodd\" fill-opacity=\"1\" /><path clip-path=\"url(#clip490)\" d=\"M1665.94 1911.91 L1665.94 1914.77 L1639.02 1914.77 Q1639.4 1920.82 1642.64 1924 Q1645.92 1927.15 1651.75 1927.15 Q1655.12 1927.15 1658.27 1926.33 Q1661.45 1925.5 1664.57 1923.84 L1664.57 1929.38 Q1661.42 1930.72 1658.11 1931.42 Q1654.8 1932.12 1651.4 1932.12 Q1642.87 1932.12 1637.87 1927.15 Q1632.9 1922.19 1632.9 1913.72 Q1632.9 1904.97 1637.61 1899.85 Q1642.36 1894.69 1650.38 1894.69 Q1657.57 1894.69 1661.74 1899.34 Q1665.94 1903.95 1665.94 1911.91 M1660.09 1910.19 Q1660.02 1905.38 1657.38 1902.52 Q1654.77 1899.65 1650.44 1899.65 Q1645.54 1899.65 1642.58 1902.42 Q1639.65 1905.19 1639.21 1910.22 L1660.09 1910.19 Z\" fill=\"#000000\" fill-rule=\"evenodd\" fill-opacity=\"1\" /><path clip-path=\"url(#clip490)\" d=\"M1706.05 1911.91 L1706.05 1914.77 L1679.12 1914.77 Q1679.5 1920.82 1682.75 1924 Q1686.03 1927.15 1691.85 1927.15 Q1695.22 1927.15 1698.38 1926.33 Q1701.56 1925.5 1704.68 1923.84 L1704.68 1929.38 Q1701.53 1930.72 1698.22 1931.42 Q1694.91 1932.12 1691.5 1932.12 Q1682.97 1932.12 1677.97 1927.15 Q1673.01 1922.19 1673.01 1913.72 Q1673.01 1904.97 1677.72 1899.85 Q1682.46 1894.69 1690.48 1894.69 Q1697.68 1894.69 1701.84 1899.34 Q1706.05 1903.95 1706.05 1911.91 M1700.19 1910.19 Q1700.13 1905.38 1697.48 1902.52 Q1694.87 1899.65 1690.55 1899.65 Q1685.64 1899.65 1682.68 1902.42 Q1679.76 1905.19 1679.31 1910.22 L1700.19 1910.19 Z\" fill=\"#000000\" fill-rule=\"evenodd\" fill-opacity=\"1\" /><path clip-path=\"url(#clip490)\" d=\"M1742.74 1942.02 L1742.74 1946.57 L1708.88 1946.57 L1708.88 1942.02 L1742.74 1942.02 Z\" fill=\"#000000\" fill-rule=\"evenodd\" fill-opacity=\"1\" /><path clip-path=\"url(#clip490)\" d=\"M1768.91 1901.02 Q1767.92 1900.45 1766.74 1900.2 Q1765.6 1899.91 1764.2 1899.91 Q1759.23 1899.91 1756.56 1903.16 Q1753.92 1906.37 1753.92 1912.42 L1753.92 1931.2 L1748.03 1931.2 L1748.03 1895.55 L1753.92 1895.55 L1753.92 1901.09 Q1755.76 1897.84 1758.72 1896.28 Q1761.68 1894.69 1765.92 1894.69 Q1766.52 1894.69 1767.25 1894.78 Q1767.98 1894.85 1768.88 1895.01 L1768.91 1901.02 Z\" fill=\"#000000\" fill-rule=\"evenodd\" fill-opacity=\"1\" /><path clip-path=\"url(#clip490)\" d=\"M1804.11 1911.91 L1804.11 1914.77 L1777.18 1914.77 Q1777.56 1920.82 1780.81 1924 Q1784.09 1927.15 1789.91 1927.15 Q1793.29 1927.15 1796.44 1926.33 Q1799.62 1925.5 1802.74 1923.84 L1802.74 1929.38 Q1799.59 1930.72 1796.28 1931.42 Q1792.97 1932.12 1789.56 1932.12 Q1781.03 1932.12 1776.04 1927.15 Q1771.07 1922.19 1771.07 1913.72 Q1771.07 1904.97 1775.78 1899.85 Q1780.52 1894.69 1788.55 1894.69 Q1795.74 1894.69 1799.91 1899.34 Q1804.11 1903.95 1804.11 1911.91 M1798.25 1910.19 Q1798.19 1905.38 1795.55 1902.52 Q1792.94 1899.65 1788.61 1899.65 Q1783.71 1899.65 1780.75 1902.42 Q1777.82 1905.19 1777.37 1910.22 L1798.25 1910.19 Z\" fill=\"#000000\" fill-rule=\"evenodd\" fill-opacity=\"1\" /><path clip-path=\"url(#clip490)\" d=\"M1837.18 1912.96 Q1837.18 1906.59 1834.54 1903.09 Q1831.93 1899.59 1827.19 1899.59 Q1822.47 1899.59 1819.83 1903.09 Q1817.22 1906.59 1817.22 1912.96 Q1817.22 1919.29 1819.83 1922.79 Q1822.47 1926.29 1827.19 1926.29 Q1831.93 1926.29 1834.54 1922.79 Q1837.18 1919.29 1837.18 1912.96 M1843.04 1926.77 Q1843.04 1935.88 1838.99 1940.3 Q1834.95 1944.76 1826.61 1944.76 Q1823.53 1944.76 1820.79 1944.28 Q1818.05 1943.83 1815.47 1942.88 L1815.47 1937.18 Q1818.05 1938.58 1820.57 1939.25 Q1823.08 1939.92 1825.69 1939.92 Q1831.45 1939.92 1834.32 1936.89 Q1837.18 1933.9 1837.18 1927.82 L1837.18 1924.93 Q1835.37 1928.08 1832.53 1929.64 Q1829.7 1931.2 1825.75 1931.2 Q1819.2 1931.2 1815.19 1926.2 Q1811.18 1921.2 1811.18 1912.96 Q1811.18 1904.68 1815.19 1899.69 Q1819.2 1894.69 1825.75 1894.69 Q1829.7 1894.69 1832.53 1896.25 Q1835.37 1897.81 1837.18 1900.96 L1837.18 1895.55 L1843.04 1895.55 L1843.04 1926.77 Z\" fill=\"#000000\" fill-rule=\"evenodd\" fill-opacity=\"1\" /><path clip-path=\"url(#clip490)\" d=\"M1875.76 1901.02 Q1874.77 1900.45 1873.59 1900.2 Q1872.45 1899.91 1871.05 1899.91 Q1866.08 1899.91 1863.41 1903.16 Q1860.76 1906.37 1860.76 1912.42 L1860.76 1931.2 L1854.88 1931.2 L1854.88 1895.55 L1860.76 1895.55 L1860.76 1901.09 Q1862.61 1897.84 1865.57 1896.28 Q1868.53 1894.69 1872.76 1894.69 Q1873.37 1894.69 1874.1 1894.78 Q1874.83 1894.85 1875.72 1895.01 L1875.76 1901.02 Z\" fill=\"#000000\" fill-rule=\"evenodd\" fill-opacity=\"1\" /><path clip-path=\"url(#clip490)\" d=\"M1910.96 1911.91 L1910.96 1914.77 L1884.03 1914.77 Q1884.41 1920.82 1887.66 1924 Q1890.94 1927.15 1896.76 1927.15 Q1900.14 1927.15 1903.29 1926.33 Q1906.47 1925.5 1909.59 1923.84 L1909.59 1929.38 Q1906.44 1930.72 1903.13 1931.42 Q1899.82 1932.12 1896.41 1932.12 Q1887.88 1932.12 1882.89 1927.15 Q1877.92 1922.19 1877.92 1913.72 Q1877.92 1904.97 1882.63 1899.85 Q1887.37 1894.69 1895.39 1894.69 Q1902.59 1894.69 1906.76 1899.34 Q1910.96 1903.95 1910.96 1911.91 M1905.1 1910.19 Q1905.04 1905.38 1902.4 1902.52 Q1899.79 1899.65 1895.46 1899.65 Q1890.56 1899.65 1887.6 1902.42 Q1884.67 1905.19 1884.22 1910.22 L1905.1 1910.19 Z\" fill=\"#000000\" fill-rule=\"evenodd\" fill-opacity=\"1\" /><path clip-path=\"url(#clip490)\" d=\"M1943.3 1896.6 L1943.3 1902.14 Q1940.81 1900.86 1938.14 1900.23 Q1935.47 1899.59 1932.6 1899.59 Q1928.24 1899.59 1926.05 1900.93 Q1923.88 1902.26 1923.88 1904.94 Q1923.88 1906.98 1925.44 1908.15 Q1927 1909.3 1931.71 1910.35 L1933.72 1910.79 Q1939.95 1912.13 1942.56 1914.58 Q1945.21 1917 1945.21 1921.36 Q1945.21 1926.33 1941.26 1929.22 Q1937.34 1932.12 1930.47 1932.12 Q1927.6 1932.12 1924.49 1931.55 Q1921.4 1931.01 1917.96 1929.89 L1917.96 1923.84 Q1921.21 1925.53 1924.36 1926.39 Q1927.51 1927.22 1930.6 1927.22 Q1934.73 1927.22 1936.96 1925.82 Q1939.19 1924.39 1939.19 1921.81 Q1939.19 1919.42 1937.57 1918.15 Q1935.98 1916.87 1930.53 1915.7 L1928.5 1915.22 Q1923.05 1914.07 1920.63 1911.72 Q1918.22 1909.33 1918.22 1905.19 Q1918.22 1900.16 1921.78 1897.43 Q1925.34 1894.69 1931.9 1894.69 Q1935.15 1894.69 1938.01 1895.17 Q1940.88 1895.64 1943.3 1896.6 Z\" fill=\"#000000\" fill-rule=\"evenodd\" fill-opacity=\"1\" /><path clip-path=\"url(#clip490)\" d=\"M1977.26 1896.6 L1977.26 1902.14 Q1974.77 1900.86 1972.1 1900.23 Q1969.43 1899.59 1966.56 1899.59 Q1962.2 1899.59 1960.01 1900.93 Q1957.84 1902.26 1957.84 1904.94 Q1957.84 1906.98 1959.4 1908.15 Q1960.96 1909.3 1965.67 1910.35 L1967.68 1910.79 Q1973.92 1912.13 1976.53 1914.58 Q1979.17 1917 1979.17 1921.36 Q1979.17 1926.33 1975.22 1929.22 Q1971.31 1932.12 1964.43 1932.12 Q1961.57 1932.12 1958.45 1931.55 Q1955.36 1931.01 1951.92 1929.89 L1951.92 1923.84 Q1955.17 1925.53 1958.32 1926.39 Q1961.47 1927.22 1964.56 1927.22 Q1968.7 1927.22 1970.92 1925.82 Q1973.15 1924.39 1973.15 1921.81 Q1973.15 1919.42 1971.53 1918.15 Q1969.94 1916.87 1964.49 1915.7 L1962.46 1915.22 Q1957.01 1914.07 1954.6 1911.72 Q1952.18 1909.33 1952.18 1905.19 Q1952.18 1900.16 1955.74 1897.43 Q1959.31 1894.69 1965.86 1894.69 Q1969.11 1894.69 1971.97 1895.17 Q1974.84 1895.64 1977.26 1896.6 Z\" fill=\"#000000\" fill-rule=\"evenodd\" fill-opacity=\"1\" /><path clip-path=\"url(#clip490)\" d=\"M2002.31 1899.65 Q1997.6 1899.65 1994.86 1903.35 Q1992.12 1907.01 1992.12 1913.4 Q1992.12 1919.8 1994.83 1923.49 Q1997.56 1927.15 2002.31 1927.15 Q2006.98 1927.15 2009.72 1923.46 Q2012.46 1919.77 2012.46 1913.4 Q2012.46 1907.07 2009.72 1903.38 Q2006.98 1899.65 2002.31 1899.65 M2002.31 1894.69 Q2009.95 1894.69 2014.31 1899.65 Q2018.67 1904.62 2018.67 1913.4 Q2018.67 1922.16 2014.31 1927.15 Q2009.95 1932.12 2002.31 1932.12 Q1994.64 1932.12 1990.27 1927.15 Q1985.95 1922.16 1985.95 1913.4 Q1985.95 1904.62 1990.27 1899.65 Q1994.64 1894.69 2002.31 1894.69 Z\" fill=\"#000000\" fill-rule=\"evenodd\" fill-opacity=\"1\" /><path clip-path=\"url(#clip490)\" d=\"M2049.03 1901.02 Q2048.04 1900.45 2046.87 1900.2 Q2045.72 1899.91 2044.32 1899.91 Q2039.35 1899.91 2036.68 1903.16 Q2034.04 1906.37 2034.04 1912.42 L2034.04 1931.2 L2028.15 1931.2 L2028.15 1895.55 L2034.04 1895.55 L2034.04 1901.09 Q2035.89 1897.84 2038.85 1896.28 Q2041.81 1894.69 2046.04 1894.69 Q2046.64 1894.69 2047.38 1894.78 Q2048.11 1894.85 2049 1895.01 L2049.03 1901.02 Z\" fill=\"#000000\" fill-rule=\"evenodd\" fill-opacity=\"1\" /><path clip-path=\"url(#clip490)\" d=\"M2050.02 1923.11 L2056.73 1923.11 L2056.73 1931.2 L2050.02 1931.2 L2050.02 1923.11 Z\" fill=\"#000000\" fill-rule=\"evenodd\" fill-opacity=\"1\" /><path clip-path=\"url(#clip490)\" d=\"M2099.54 1909.68 L2099.54 1931.2 L2093.69 1931.2 L2093.69 1909.87 Q2093.69 1904.81 2091.71 1902.3 Q2089.74 1899.78 2085.79 1899.78 Q2081.05 1899.78 2078.31 1902.81 Q2075.58 1905.83 2075.58 1911.05 L2075.58 1931.2 L2069.69 1931.2 L2069.69 1895.55 L2075.58 1895.55 L2075.58 1901.09 Q2077.68 1897.87 2080.51 1896.28 Q2083.37 1894.69 2087.1 1894.69 Q2093.24 1894.69 2096.39 1898.51 Q2099.54 1902.3 2099.54 1909.68 Z\" fill=\"#000000\" fill-rule=\"evenodd\" fill-opacity=\"1\" /><path clip-path=\"url(#clip490)\" d=\"M2136.81 1913.4 Q2136.81 1906.94 2134.14 1903.28 Q2131.5 1899.59 2126.85 1899.59 Q2122.2 1899.59 2119.53 1903.28 Q2116.89 1906.94 2116.89 1913.4 Q2116.89 1919.87 2119.53 1923.56 Q2122.2 1927.22 2126.85 1927.22 Q2131.5 1927.22 2134.14 1923.56 Q2136.81 1919.87 2136.81 1913.4 M2116.89 1900.96 Q2118.73 1897.78 2121.54 1896.25 Q2124.37 1894.69 2128.28 1894.69 Q2134.78 1894.69 2138.82 1899.85 Q2142.89 1905 2142.89 1913.4 Q2142.89 1921.81 2138.82 1926.96 Q2134.78 1932.12 2128.28 1932.12 Q2124.37 1932.12 2121.54 1930.59 Q2118.73 1929.03 2116.89 1925.85 L2116.89 1931.2 L2111 1931.2 L2111 1881.67 L2116.89 1881.67 L2116.89 1900.96 Z\" fill=\"#000000\" fill-rule=\"evenodd\" fill-opacity=\"1\" /><path clip-path=\"url(#clip490)\" d=\"M2152.6 1895.55 L2158.46 1895.55 L2158.46 1931.2 L2152.6 1931.2 L2152.6 1895.55 M2152.6 1881.67 L2158.46 1881.67 L2158.46 1889.09 L2152.6 1889.09 L2152.6 1881.67 Z\" fill=\"#000000\" fill-rule=\"evenodd\" fill-opacity=\"1\" /><path clip-path=\"url(#clip490)\" d=\"M2200.34 1909.68 L2200.34 1931.2 L2194.49 1931.2 L2194.49 1909.87 Q2194.49 1904.81 2192.51 1902.3 Q2190.54 1899.78 2186.59 1899.78 Q2181.85 1899.78 2179.11 1902.81 Q2176.38 1905.83 2176.38 1911.05 L2176.38 1931.2 L2170.49 1931.2 L2170.49 1895.55 L2176.38 1895.55 L2176.38 1901.09 Q2178.48 1897.87 2181.31 1896.28 Q2184.17 1894.69 2187.9 1894.69 Q2194.04 1894.69 2197.19 1898.51 Q2200.34 1902.3 2200.34 1909.68 Z\" fill=\"#000000\" fill-rule=\"evenodd\" fill-opacity=\"1\" /><path clip-path=\"url(#clip490)\" d=\"M2234.75 1896.6 L2234.75 1902.14 Q2232.27 1900.86 2229.59 1900.23 Q2226.92 1899.59 2224.06 1899.59 Q2219.7 1899.59 2217.5 1900.93 Q2215.33 1902.26 2215.33 1904.94 Q2215.33 1906.98 2216.89 1908.15 Q2218.45 1909.3 2223.16 1910.35 L2225.17 1910.79 Q2231.41 1912.13 2234.02 1914.58 Q2236.66 1917 2236.66 1921.36 Q2236.66 1926.33 2232.71 1929.22 Q2228.8 1932.12 2221.92 1932.12 Q2219.06 1932.12 2215.94 1931.55 Q2212.85 1931.01 2209.41 1929.89 L2209.41 1923.84 Q2212.66 1925.53 2215.81 1926.39 Q2218.96 1927.22 2222.05 1927.22 Q2226.19 1927.22 2228.42 1925.82 Q2230.64 1924.39 2230.64 1921.81 Q2230.64 1919.42 2229.02 1918.15 Q2227.43 1916.87 2221.99 1915.7 L2219.95 1915.22 Q2214.51 1914.07 2212.09 1911.72 Q2209.67 1909.33 2209.67 1905.19 Q2209.67 1900.16 2213.23 1897.43 Q2216.8 1894.69 2223.36 1894.69 Q2226.6 1894.69 2229.47 1895.17 Q2232.33 1895.64 2234.75 1896.6 Z\" fill=\"#000000\" fill-rule=\"evenodd\" fill-opacity=\"1\" /><polyline clip-path=\"url(#clip495)\" style=\"stroke:#000000; stroke-linecap:butt; stroke-linejoin:round; stroke-width:2; stroke-opacity:0.1; fill:none\" points=\"\n",
       "  1514.73,1735.07 2152.76,1735.07 \n",
       "  \"/>\n",
       "<polyline clip-path=\"url(#clip495)\" style=\"stroke:#000000; stroke-linecap:butt; stroke-linejoin:round; stroke-width:2; stroke-opacity:0.1; fill:none\" points=\"\n",
       "  1514.73,1624.94 2152.76,1624.94 \n",
       "  \"/>\n",
       "<polyline clip-path=\"url(#clip495)\" style=\"stroke:#000000; stroke-linecap:butt; stroke-linejoin:round; stroke-width:2; stroke-opacity:0.1; fill:none\" points=\"\n",
       "  1514.73,1514.8 2152.76,1514.8 \n",
       "  \"/>\n",
       "<polyline clip-path=\"url(#clip495)\" style=\"stroke:#000000; stroke-linecap:butt; stroke-linejoin:round; stroke-width:2; stroke-opacity:0.1; fill:none\" points=\"\n",
       "  1514.73,1404.67 2152.76,1404.67 \n",
       "  \"/>\n",
       "<polyline clip-path=\"url(#clip495)\" style=\"stroke:#000000; stroke-linecap:butt; stroke-linejoin:round; stroke-width:2; stroke-opacity:0.1; fill:none\" points=\"\n",
       "  1514.73,1294.53 2152.76,1294.53 \n",
       "  \"/>\n",
       "<polyline clip-path=\"url(#clip495)\" style=\"stroke:#000000; stroke-linecap:butt; stroke-linejoin:round; stroke-width:2; stroke-opacity:0.1; fill:none\" points=\"\n",
       "  1514.73,1184.39 2152.76,1184.39 \n",
       "  \"/>\n",
       "<polyline clip-path=\"url(#clip495)\" style=\"stroke:#000000; stroke-linecap:butt; stroke-linejoin:round; stroke-width:2; stroke-opacity:0.1; fill:none\" points=\"\n",
       "  1514.73,1074.26 2152.76,1074.26 \n",
       "  \"/>\n",
       "<polyline clip-path=\"url(#clip490)\" style=\"stroke:#000000; stroke-linecap:butt; stroke-linejoin:round; stroke-width:4; stroke-opacity:1; fill:none\" points=\"\n",
       "  1514.73,1789.33 1514.73,1006.97 \n",
       "  \"/>\n",
       "<polyline clip-path=\"url(#clip490)\" style=\"stroke:#000000; stroke-linecap:butt; stroke-linejoin:round; stroke-width:4; stroke-opacity:1; fill:none\" points=\"\n",
       "  2152.76,1789.33 2152.76,1006.97 \n",
       "  \"/>\n",
       "<polyline clip-path=\"url(#clip490)\" style=\"stroke:#000000; stroke-linecap:butt; stroke-linejoin:round; stroke-width:4; stroke-opacity:1; fill:none\" points=\"\n",
       "  1514.73,1735.07 1533.63,1735.07 \n",
       "  \"/>\n",
       "<polyline clip-path=\"url(#clip490)\" style=\"stroke:#000000; stroke-linecap:butt; stroke-linejoin:round; stroke-width:4; stroke-opacity:1; fill:none\" points=\"\n",
       "  1514.73,1624.94 1533.63,1624.94 \n",
       "  \"/>\n",
       "<polyline clip-path=\"url(#clip490)\" style=\"stroke:#000000; stroke-linecap:butt; stroke-linejoin:round; stroke-width:4; stroke-opacity:1; fill:none\" points=\"\n",
       "  1514.73,1514.8 1533.63,1514.8 \n",
       "  \"/>\n",
       "<polyline clip-path=\"url(#clip490)\" style=\"stroke:#000000; stroke-linecap:butt; stroke-linejoin:round; stroke-width:4; stroke-opacity:1; fill:none\" points=\"\n",
       "  1514.73,1404.67 1533.63,1404.67 \n",
       "  \"/>\n",
       "<polyline clip-path=\"url(#clip490)\" style=\"stroke:#000000; stroke-linecap:butt; stroke-linejoin:round; stroke-width:4; stroke-opacity:1; fill:none\" points=\"\n",
       "  1514.73,1294.53 1533.63,1294.53 \n",
       "  \"/>\n",
       "<polyline clip-path=\"url(#clip490)\" style=\"stroke:#000000; stroke-linecap:butt; stroke-linejoin:round; stroke-width:4; stroke-opacity:1; fill:none\" points=\"\n",
       "  1514.73,1184.39 1533.63,1184.39 \n",
       "  \"/>\n",
       "<polyline clip-path=\"url(#clip490)\" style=\"stroke:#000000; stroke-linecap:butt; stroke-linejoin:round; stroke-width:4; stroke-opacity:1; fill:none\" points=\"\n",
       "  1514.73,1074.26 1533.63,1074.26 \n",
       "  \"/>\n",
       "<path clip-path=\"url(#clip490)\" d=\"M1232.54 1724.24 L1254.76 1724.24 L1254.76 1726.23 L1242.22 1758.8 L1237.33 1758.8 L1249.14 1728.18 L1232.54 1728.18 L1232.54 1724.24 Z\" fill=\"#000000\" fill-rule=\"evenodd\" fill-opacity=\"1\" /><path clip-path=\"url(#clip490)\" d=\"M1263.88 1752.92 L1268.77 1752.92 L1268.77 1758.8 L1263.88 1758.8 L1263.88 1752.92 Z\" fill=\"#000000\" fill-rule=\"evenodd\" fill-opacity=\"1\" /><path clip-path=\"url(#clip490)\" d=\"M1279 1724.24 L1297.35 1724.24 L1297.35 1728.18 L1283.28 1728.18 L1283.28 1736.65 Q1284.3 1736.3 1285.32 1736.14 Q1286.34 1735.96 1287.35 1735.96 Q1293.14 1735.96 1296.52 1739.13 Q1299.9 1742.3 1299.9 1747.71 Q1299.9 1753.29 1296.43 1756.4 Q1292.96 1759.47 1286.64 1759.47 Q1284.46 1759.47 1282.19 1759.1 Q1279.95 1758.73 1277.54 1757.99 L1277.54 1753.29 Q1279.62 1754.43 1281.85 1754.98 Q1284.07 1755.54 1286.54 1755.54 Q1290.55 1755.54 1292.89 1753.43 Q1295.23 1751.33 1295.23 1747.71 Q1295.23 1744.1 1292.89 1742 Q1290.55 1739.89 1286.54 1739.89 Q1284.67 1739.89 1282.79 1740.31 Q1280.94 1740.72 1279 1741.6 L1279 1724.24 Z\" fill=\"#000000\" fill-rule=\"evenodd\" fill-opacity=\"1\" /><path clip-path=\"url(#clip490)\" d=\"M1319.11 1727.32 Q1315.5 1727.32 1313.67 1730.89 Q1311.87 1734.43 1311.87 1741.56 Q1311.87 1748.66 1313.67 1752.23 Q1315.5 1755.77 1319.11 1755.77 Q1322.75 1755.77 1324.55 1752.23 Q1326.38 1748.66 1326.38 1741.56 Q1326.38 1734.43 1324.55 1730.89 Q1322.75 1727.32 1319.11 1727.32 M1319.11 1723.62 Q1324.92 1723.62 1327.98 1728.22 Q1331.06 1732.81 1331.06 1741.56 Q1331.06 1750.28 1327.98 1754.89 Q1324.92 1759.47 1319.11 1759.47 Q1313.3 1759.47 1310.22 1754.89 Q1307.17 1750.28 1307.17 1741.56 Q1307.17 1732.81 1310.22 1728.22 Q1313.3 1723.62 1319.11 1723.62 Z\" fill=\"#000000\" fill-rule=\"evenodd\" fill-opacity=\"1\" /><path clip-path=\"url(#clip490)\" d=\"M1349.28 1727.32 Q1345.66 1727.32 1343.84 1730.89 Q1342.03 1734.43 1342.03 1741.56 Q1342.03 1748.66 1343.84 1752.23 Q1345.66 1755.77 1349.28 1755.77 Q1352.91 1755.77 1354.72 1752.23 Q1356.54 1748.66 1356.54 1741.56 Q1356.54 1734.43 1354.72 1730.89 Q1352.91 1727.32 1349.28 1727.32 M1349.28 1723.62 Q1355.09 1723.62 1358.14 1728.22 Q1361.22 1732.81 1361.22 1741.56 Q1361.22 1750.28 1358.14 1754.89 Q1355.09 1759.47 1349.28 1759.47 Q1343.47 1759.47 1340.39 1754.89 Q1337.33 1750.28 1337.33 1741.56 Q1337.33 1732.81 1340.39 1728.22 Q1343.47 1723.62 1349.28 1723.62 Z\" fill=\"#000000\" fill-rule=\"evenodd\" fill-opacity=\"1\" /><path clip-path=\"url(#clip490)\" d=\"M1397.61 1733.34 L1387.03 1743.96 L1397.61 1754.54 L1394.85 1757.34 L1384.23 1746.72 L1373.6 1757.34 L1370.87 1754.54 L1381.43 1743.96 L1370.87 1733.34 L1373.6 1730.54 L1384.23 1741.16 L1394.85 1730.54 L1397.61 1733.34 Z\" fill=\"#000000\" fill-rule=\"evenodd\" fill-opacity=\"1\" /><path clip-path=\"url(#clip490)\" d=\"M1409.97 1754.87 L1417.61 1754.87 L1417.61 1728.5 L1409.3 1730.17 L1409.3 1725.91 L1417.56 1724.24 L1422.24 1724.24 L1422.24 1754.87 L1429.88 1754.87 L1429.88 1758.8 L1409.97 1758.8 L1409.97 1754.87 Z\" fill=\"#000000\" fill-rule=\"evenodd\" fill-opacity=\"1\" /><path clip-path=\"url(#clip490)\" d=\"M1449.32 1727.32 Q1445.71 1727.32 1443.88 1730.89 Q1442.08 1734.43 1442.08 1741.56 Q1442.08 1748.66 1443.88 1752.23 Q1445.71 1755.77 1449.32 1755.77 Q1452.96 1755.77 1454.76 1752.23 Q1456.59 1748.66 1456.59 1741.56 Q1456.59 1734.43 1454.76 1730.89 Q1452.96 1727.32 1449.32 1727.32 M1449.32 1723.62 Q1455.13 1723.62 1458.19 1728.22 Q1461.27 1732.81 1461.27 1741.56 Q1461.27 1750.28 1458.19 1754.89 Q1455.13 1759.47 1449.32 1759.47 Q1443.51 1759.47 1440.43 1754.89 Q1437.38 1750.28 1437.38 1741.56 Q1437.38 1732.81 1440.43 1728.22 Q1443.51 1723.62 1449.32 1723.62 Z\" fill=\"#000000\" fill-rule=\"evenodd\" fill-opacity=\"1\" /><path clip-path=\"url(#clip490)\" d=\"M1473.94 1706.62 L1464.35 1721.61 L1473.94 1721.61 L1473.94 1706.62 M1472.95 1703.31 L1477.72 1703.31 L1477.72 1721.61 L1481.73 1721.61 L1481.73 1724.77 L1477.72 1724.77 L1477.72 1731.39 L1473.94 1731.39 L1473.94 1724.77 L1461.27 1724.77 L1461.27 1721.1 L1472.95 1703.31 Z\" fill=\"#000000\" fill-rule=\"evenodd\" fill-opacity=\"1\" /><path clip-path=\"url(#clip490)\" d=\"M1236.83 1644.73 L1244.46 1644.73 L1244.46 1618.37 L1236.15 1620.03 L1236.15 1615.77 L1244.42 1614.11 L1249.09 1614.11 L1249.09 1644.73 L1256.73 1644.73 L1256.73 1648.67 L1236.83 1648.67 L1236.83 1644.73 Z\" fill=\"#000000\" fill-rule=\"evenodd\" fill-opacity=\"1\" /><path clip-path=\"url(#clip490)\" d=\"M1266.18 1642.79 L1271.06 1642.79 L1271.06 1648.67 L1266.18 1648.67 L1266.18 1642.79 Z\" fill=\"#000000\" fill-rule=\"evenodd\" fill-opacity=\"1\" /><path clip-path=\"url(#clip490)\" d=\"M1291.25 1617.19 Q1287.64 1617.19 1285.81 1620.75 Q1284 1624.29 1284 1631.42 Q1284 1638.53 1285.81 1642.09 Q1287.64 1645.63 1291.25 1645.63 Q1294.88 1645.63 1296.69 1642.09 Q1298.51 1638.53 1298.51 1631.42 Q1298.51 1624.29 1296.69 1620.75 Q1294.88 1617.19 1291.25 1617.19 M1291.25 1613.48 Q1297.06 1613.48 1300.11 1618.09 Q1303.19 1622.67 1303.19 1631.42 Q1303.19 1640.15 1300.11 1644.75 Q1297.06 1649.34 1291.25 1649.34 Q1285.44 1649.34 1282.36 1644.75 Q1279.3 1640.15 1279.3 1631.42 Q1279.3 1622.67 1282.36 1618.09 Q1285.44 1613.48 1291.25 1613.48 Z\" fill=\"#000000\" fill-rule=\"evenodd\" fill-opacity=\"1\" /><path clip-path=\"url(#clip490)\" d=\"M1321.41 1617.19 Q1317.8 1617.19 1315.97 1620.75 Q1314.16 1624.29 1314.16 1631.42 Q1314.16 1638.53 1315.97 1642.09 Q1317.8 1645.63 1321.41 1645.63 Q1325.04 1645.63 1326.85 1642.09 Q1328.68 1638.53 1328.68 1631.42 Q1328.68 1624.29 1326.85 1620.75 Q1325.04 1617.19 1321.41 1617.19 M1321.41 1613.48 Q1327.22 1613.48 1330.27 1618.09 Q1333.35 1622.67 1333.35 1631.42 Q1333.35 1640.15 1330.27 1644.75 Q1327.22 1649.34 1321.41 1649.34 Q1315.6 1649.34 1312.52 1644.75 Q1309.46 1640.15 1309.46 1631.42 Q1309.46 1622.67 1312.52 1618.09 Q1315.6 1613.48 1321.41 1613.48 Z\" fill=\"#000000\" fill-rule=\"evenodd\" fill-opacity=\"1\" /><path clip-path=\"url(#clip490)\" d=\"M1351.57 1617.19 Q1347.96 1617.19 1346.13 1620.75 Q1344.32 1624.29 1344.32 1631.42 Q1344.32 1638.53 1346.13 1642.09 Q1347.96 1645.63 1351.57 1645.63 Q1355.2 1645.63 1357.01 1642.09 Q1358.84 1638.53 1358.84 1631.42 Q1358.84 1624.29 1357.01 1620.75 Q1355.2 1617.19 1351.57 1617.19 M1351.57 1613.48 Q1357.38 1613.48 1360.44 1618.09 Q1363.51 1622.67 1363.51 1631.42 Q1363.51 1640.15 1360.44 1644.75 Q1357.38 1649.34 1351.57 1649.34 Q1345.76 1649.34 1342.68 1644.75 Q1339.63 1640.15 1339.63 1631.42 Q1339.63 1622.67 1342.68 1618.09 Q1345.76 1613.48 1351.57 1613.48 Z\" fill=\"#000000\" fill-rule=\"evenodd\" fill-opacity=\"1\" /><path clip-path=\"url(#clip490)\" d=\"M1399.9 1623.2 L1389.32 1633.83 L1399.9 1644.41 L1397.15 1647.21 L1386.52 1636.58 L1375.9 1647.21 L1373.17 1644.41 L1383.72 1633.83 L1373.17 1623.2 L1375.9 1620.4 L1386.52 1631.03 L1397.15 1620.4 L1399.9 1623.2 Z\" fill=\"#000000\" fill-rule=\"evenodd\" fill-opacity=\"1\" /><path clip-path=\"url(#clip490)\" d=\"M1412.26 1644.73 L1419.9 1644.73 L1419.9 1618.37 L1411.59 1620.03 L1411.59 1615.77 L1419.86 1614.11 L1424.53 1614.11 L1424.53 1644.73 L1432.17 1644.73 L1432.17 1648.67 L1412.26 1648.67 L1412.26 1644.73 Z\" fill=\"#000000\" fill-rule=\"evenodd\" fill-opacity=\"1\" /><path clip-path=\"url(#clip490)\" d=\"M1451.62 1617.19 Q1448 1617.19 1446.18 1620.75 Q1444.37 1624.29 1444.37 1631.42 Q1444.37 1638.53 1446.18 1642.09 Q1448 1645.63 1451.62 1645.63 Q1455.25 1645.63 1457.06 1642.09 Q1458.88 1638.53 1458.88 1631.42 Q1458.88 1624.29 1457.06 1620.75 Q1455.25 1617.19 1451.62 1617.19 M1451.62 1613.48 Q1457.43 1613.48 1460.48 1618.09 Q1463.56 1622.67 1463.56 1631.42 Q1463.56 1640.15 1460.48 1644.75 Q1457.43 1649.34 1451.62 1649.34 Q1445.81 1649.34 1442.73 1644.75 Q1439.67 1640.15 1439.67 1631.42 Q1439.67 1622.67 1442.73 1618.09 Q1445.81 1613.48 1451.62 1613.48 Z\" fill=\"#000000\" fill-rule=\"evenodd\" fill-opacity=\"1\" /><path clip-path=\"url(#clip490)\" d=\"M1464.75 1593.18 L1479.66 1593.18 L1479.66 1596.37 L1468.22 1596.37 L1468.22 1603.26 Q1469.05 1602.97 1469.88 1602.84 Q1470.71 1602.69 1471.53 1602.69 Q1476.24 1602.69 1478.98 1605.27 Q1481.73 1607.85 1481.73 1612.25 Q1481.73 1616.78 1478.91 1619.3 Q1476.09 1621.8 1470.95 1621.8 Q1469.18 1621.8 1467.34 1621.5 Q1465.52 1621.2 1463.56 1620.6 L1463.56 1616.78 Q1465.25 1617.7 1467.06 1618.15 Q1468.86 1618.6 1470.88 1618.6 Q1474.13 1618.6 1476.03 1616.89 Q1477.93 1615.18 1477.93 1612.25 Q1477.93 1609.31 1476.03 1607.6 Q1474.13 1605.89 1470.88 1605.89 Q1469.35 1605.89 1467.83 1606.23 Q1466.33 1606.57 1464.75 1607.28 L1464.75 1593.18 Z\" fill=\"#000000\" fill-rule=\"evenodd\" fill-opacity=\"1\" /><path clip-path=\"url(#clip490)\" d=\"M1236.83 1534.6 L1244.46 1534.6 L1244.46 1508.23 L1236.15 1509.9 L1236.15 1505.64 L1244.42 1503.97 L1249.09 1503.97 L1249.09 1534.6 L1256.73 1534.6 L1256.73 1538.53 L1236.83 1538.53 L1236.83 1534.6 Z\" fill=\"#000000\" fill-rule=\"evenodd\" fill-opacity=\"1\" /><path clip-path=\"url(#clip490)\" d=\"M1266.18 1532.65 L1271.06 1532.65 L1271.06 1538.53 L1266.18 1538.53 L1266.18 1532.65 Z\" fill=\"#000000\" fill-rule=\"evenodd\" fill-opacity=\"1\" /><path clip-path=\"url(#clip490)\" d=\"M1285.27 1534.6 L1301.59 1534.6 L1301.59 1538.53 L1279.65 1538.53 L1279.65 1534.6 Q1282.31 1531.84 1286.89 1527.21 Q1291.5 1522.56 1292.68 1521.22 Q1294.93 1518.69 1295.81 1516.96 Q1296.71 1515.2 1296.71 1513.51 Q1296.71 1510.75 1294.76 1509.02 Q1292.84 1507.28 1289.74 1507.28 Q1287.54 1507.28 1285.09 1508.04 Q1282.66 1508.81 1279.88 1510.36 L1279.88 1505.64 Q1282.7 1504.5 1285.16 1503.92 Q1287.61 1503.35 1289.65 1503.35 Q1295.02 1503.35 1298.21 1506.03 Q1301.41 1508.72 1301.41 1513.21 Q1301.41 1515.34 1300.6 1517.26 Q1299.81 1519.16 1297.7 1521.75 Q1297.13 1522.42 1294.02 1525.64 Q1290.92 1528.83 1285.27 1534.6 Z\" fill=\"#000000\" fill-rule=\"evenodd\" fill-opacity=\"1\" /><path clip-path=\"url(#clip490)\" d=\"M1311.45 1503.97 L1329.81 1503.97 L1329.81 1507.91 L1315.74 1507.91 L1315.74 1516.38 Q1316.76 1516.03 1317.77 1515.87 Q1318.79 1515.68 1319.81 1515.68 Q1325.6 1515.68 1328.98 1518.85 Q1332.36 1522.03 1332.36 1527.44 Q1332.36 1533.02 1328.89 1536.12 Q1325.41 1539.2 1319.09 1539.2 Q1316.92 1539.2 1314.65 1538.83 Q1312.4 1538.46 1310 1537.72 L1310 1533.02 Q1312.08 1534.16 1314.3 1534.71 Q1316.52 1535.27 1319 1535.27 Q1323.01 1535.27 1325.34 1533.16 Q1327.68 1531.05 1327.68 1527.44 Q1327.68 1523.83 1325.34 1521.72 Q1323.01 1519.62 1319 1519.62 Q1317.13 1519.62 1315.25 1520.04 Q1313.4 1520.45 1311.45 1521.33 L1311.45 1503.97 Z\" fill=\"#000000\" fill-rule=\"evenodd\" fill-opacity=\"1\" /><path clip-path=\"url(#clip490)\" d=\"M1351.57 1507.05 Q1347.96 1507.05 1346.13 1510.61 Q1344.32 1514.16 1344.32 1521.29 Q1344.32 1528.39 1346.13 1531.96 Q1347.96 1535.5 1351.57 1535.5 Q1355.2 1535.5 1357.01 1531.96 Q1358.84 1528.39 1358.84 1521.29 Q1358.84 1514.16 1357.01 1510.61 Q1355.2 1507.05 1351.57 1507.05 M1351.57 1503.35 Q1357.38 1503.35 1360.44 1507.95 Q1363.51 1512.54 1363.51 1521.29 Q1363.51 1530.01 1360.44 1534.62 Q1357.38 1539.2 1351.57 1539.2 Q1345.76 1539.2 1342.68 1534.62 Q1339.63 1530.01 1339.63 1521.29 Q1339.63 1512.54 1342.68 1507.95 Q1345.76 1503.35 1351.57 1503.35 Z\" fill=\"#000000\" fill-rule=\"evenodd\" fill-opacity=\"1\" /><path clip-path=\"url(#clip490)\" d=\"M1399.9 1513.07 L1389.32 1523.69 L1399.9 1534.27 L1397.15 1537.07 L1386.52 1526.45 L1375.9 1537.07 L1373.17 1534.27 L1383.72 1523.69 L1373.17 1513.07 L1375.9 1510.27 L1386.52 1520.89 L1397.15 1510.27 L1399.9 1513.07 Z\" fill=\"#000000\" fill-rule=\"evenodd\" fill-opacity=\"1\" /><path clip-path=\"url(#clip490)\" d=\"M1412.26 1534.6 L1419.9 1534.6 L1419.9 1508.23 L1411.59 1509.9 L1411.59 1505.64 L1419.86 1503.97 L1424.53 1503.97 L1424.53 1534.6 L1432.17 1534.6 L1432.17 1538.53 L1412.26 1538.53 L1412.26 1534.6 Z\" fill=\"#000000\" fill-rule=\"evenodd\" fill-opacity=\"1\" /><path clip-path=\"url(#clip490)\" d=\"M1451.62 1507.05 Q1448 1507.05 1446.18 1510.61 Q1444.37 1514.16 1444.37 1521.29 Q1444.37 1528.39 1446.18 1531.96 Q1448 1535.5 1451.62 1535.5 Q1455.25 1535.5 1457.06 1531.96 Q1458.88 1528.39 1458.88 1521.29 Q1458.88 1514.16 1457.06 1510.61 Q1455.25 1507.05 1451.62 1507.05 M1451.62 1503.35 Q1457.43 1503.35 1460.48 1507.95 Q1463.56 1512.54 1463.56 1521.29 Q1463.56 1530.01 1460.48 1534.62 Q1457.43 1539.2 1451.62 1539.2 Q1445.81 1539.2 1442.73 1534.62 Q1439.67 1530.01 1439.67 1521.29 Q1439.67 1512.54 1442.73 1507.95 Q1445.81 1503.35 1451.62 1503.35 Z\" fill=\"#000000\" fill-rule=\"evenodd\" fill-opacity=\"1\" /><path clip-path=\"url(#clip490)\" d=\"M1464.75 1483.04 L1479.66 1483.04 L1479.66 1486.24 L1468.22 1486.24 L1468.22 1493.12 Q1469.05 1492.84 1469.88 1492.71 Q1470.71 1492.56 1471.53 1492.56 Q1476.24 1492.56 1478.98 1495.13 Q1481.73 1497.71 1481.73 1502.11 Q1481.73 1506.64 1478.91 1509.16 Q1476.09 1511.67 1470.95 1511.67 Q1469.18 1511.67 1467.34 1511.36 Q1465.52 1511.06 1463.56 1510.46 L1463.56 1506.64 Q1465.25 1507.57 1467.06 1508.02 Q1468.86 1508.47 1470.88 1508.47 Q1474.13 1508.47 1476.03 1506.76 Q1477.93 1505.05 1477.93 1502.11 Q1477.93 1499.18 1476.03 1497.47 Q1474.13 1495.75 1470.88 1495.75 Q1469.35 1495.75 1467.83 1496.09 Q1466.33 1496.43 1464.75 1497.15 L1464.75 1483.04 Z\" fill=\"#000000\" fill-rule=\"evenodd\" fill-opacity=\"1\" /><path clip-path=\"url(#clip490)\" d=\"M1236.83 1424.46 L1244.46 1424.46 L1244.46 1398.09 L1236.15 1399.76 L1236.15 1395.5 L1244.42 1393.83 L1249.09 1393.83 L1249.09 1424.46 L1256.73 1424.46 L1256.73 1428.39 L1236.83 1428.39 L1236.83 1424.46 Z\" fill=\"#000000\" fill-rule=\"evenodd\" fill-opacity=\"1\" /><path clip-path=\"url(#clip490)\" d=\"M1266.18 1422.51 L1271.06 1422.51 L1271.06 1428.39 L1266.18 1428.39 L1266.18 1422.51 Z\" fill=\"#000000\" fill-rule=\"evenodd\" fill-opacity=\"1\" /><path clip-path=\"url(#clip490)\" d=\"M1281.29 1393.83 L1299.65 1393.83 L1299.65 1397.77 L1285.58 1397.77 L1285.58 1406.24 Q1286.59 1405.89 1287.61 1405.73 Q1288.63 1405.55 1289.65 1405.55 Q1295.44 1405.55 1298.82 1408.72 Q1302.2 1411.89 1302.2 1417.31 Q1302.2 1422.89 1298.72 1425.99 Q1295.25 1429.07 1288.93 1429.07 Q1286.76 1429.07 1284.49 1428.7 Q1282.24 1428.32 1279.83 1427.58 L1279.83 1422.89 Q1281.92 1424.02 1284.14 1424.57 Q1286.36 1425.13 1288.84 1425.13 Q1292.84 1425.13 1295.18 1423.02 Q1297.52 1420.92 1297.52 1417.31 Q1297.52 1413.7 1295.18 1411.59 Q1292.84 1409.48 1288.84 1409.48 Q1286.96 1409.48 1285.09 1409.9 Q1283.24 1410.32 1281.29 1411.2 L1281.29 1393.83 Z\" fill=\"#000000\" fill-rule=\"evenodd\" fill-opacity=\"1\" /><path clip-path=\"url(#clip490)\" d=\"M1321.41 1396.91 Q1317.8 1396.91 1315.97 1400.48 Q1314.16 1404.02 1314.16 1411.15 Q1314.16 1418.26 1315.97 1421.82 Q1317.8 1425.36 1321.41 1425.36 Q1325.04 1425.36 1326.85 1421.82 Q1328.68 1418.26 1328.68 1411.15 Q1328.68 1404.02 1326.85 1400.48 Q1325.04 1396.91 1321.41 1396.91 M1321.41 1393.21 Q1327.22 1393.21 1330.27 1397.82 Q1333.35 1402.4 1333.35 1411.15 Q1333.35 1419.88 1330.27 1424.48 Q1327.22 1429.07 1321.41 1429.07 Q1315.6 1429.07 1312.52 1424.48 Q1309.46 1419.88 1309.46 1411.15 Q1309.46 1402.4 1312.52 1397.82 Q1315.6 1393.21 1321.41 1393.21 Z\" fill=\"#000000\" fill-rule=\"evenodd\" fill-opacity=\"1\" /><path clip-path=\"url(#clip490)\" d=\"M1351.57 1396.91 Q1347.96 1396.91 1346.13 1400.48 Q1344.32 1404.02 1344.32 1411.15 Q1344.32 1418.26 1346.13 1421.82 Q1347.96 1425.36 1351.57 1425.36 Q1355.2 1425.36 1357.01 1421.82 Q1358.84 1418.26 1358.84 1411.15 Q1358.84 1404.02 1357.01 1400.48 Q1355.2 1396.91 1351.57 1396.91 M1351.57 1393.21 Q1357.38 1393.21 1360.44 1397.82 Q1363.51 1402.4 1363.51 1411.15 Q1363.51 1419.88 1360.44 1424.48 Q1357.38 1429.07 1351.57 1429.07 Q1345.76 1429.07 1342.68 1424.48 Q1339.63 1419.88 1339.63 1411.15 Q1339.63 1402.4 1342.68 1397.82 Q1345.76 1393.21 1351.57 1393.21 Z\" fill=\"#000000\" fill-rule=\"evenodd\" fill-opacity=\"1\" /><path clip-path=\"url(#clip490)\" d=\"M1399.9 1402.93 L1389.32 1413.56 L1399.9 1424.14 L1397.15 1426.94 L1386.52 1416.31 L1375.9 1426.94 L1373.17 1424.14 L1383.72 1413.56 L1373.17 1402.93 L1375.9 1400.13 L1386.52 1410.76 L1397.15 1400.13 L1399.9 1402.93 Z\" fill=\"#000000\" fill-rule=\"evenodd\" fill-opacity=\"1\" /><path clip-path=\"url(#clip490)\" d=\"M1412.26 1424.46 L1419.9 1424.46 L1419.9 1398.09 L1411.59 1399.76 L1411.59 1395.5 L1419.86 1393.83 L1424.53 1393.83 L1424.53 1424.46 L1432.17 1424.46 L1432.17 1428.39 L1412.26 1428.39 L1412.26 1424.46 Z\" fill=\"#000000\" fill-rule=\"evenodd\" fill-opacity=\"1\" /><path clip-path=\"url(#clip490)\" d=\"M1451.62 1396.91 Q1448 1396.91 1446.18 1400.48 Q1444.37 1404.02 1444.37 1411.15 Q1444.37 1418.26 1446.18 1421.82 Q1448 1425.36 1451.62 1425.36 Q1455.25 1425.36 1457.06 1421.82 Q1458.88 1418.26 1458.88 1411.15 Q1458.88 1404.02 1457.06 1400.48 Q1455.25 1396.91 1451.62 1396.91 M1451.62 1393.21 Q1457.43 1393.21 1460.48 1397.82 Q1463.56 1402.4 1463.56 1411.15 Q1463.56 1419.88 1460.48 1424.48 Q1457.43 1429.07 1451.62 1429.07 Q1445.81 1429.07 1442.73 1424.48 Q1439.67 1419.88 1439.67 1411.15 Q1439.67 1402.4 1442.73 1397.82 Q1445.81 1393.21 1451.62 1393.21 Z\" fill=\"#000000\" fill-rule=\"evenodd\" fill-opacity=\"1\" /><path clip-path=\"url(#clip490)\" d=\"M1464.75 1372.9 L1479.66 1372.9 L1479.66 1376.1 L1468.22 1376.1 L1468.22 1382.98 Q1469.05 1382.7 1469.88 1382.57 Q1470.71 1382.42 1471.53 1382.42 Q1476.24 1382.42 1478.98 1385 Q1481.73 1387.57 1481.73 1391.97 Q1481.73 1396.51 1478.91 1399.03 Q1476.09 1401.53 1470.95 1401.53 Q1469.18 1401.53 1467.34 1401.23 Q1465.52 1400.93 1463.56 1400.33 L1463.56 1396.51 Q1465.25 1397.43 1467.06 1397.88 Q1468.86 1398.33 1470.88 1398.33 Q1474.13 1398.33 1476.03 1396.62 Q1477.93 1394.91 1477.93 1391.97 Q1477.93 1389.04 1476.03 1387.33 Q1474.13 1385.62 1470.88 1385.62 Q1469.35 1385.62 1467.83 1385.96 Q1466.33 1386.29 1464.75 1387.01 L1464.75 1372.9 Z\" fill=\"#000000\" fill-rule=\"evenodd\" fill-opacity=\"1\" /><path clip-path=\"url(#clip490)\" d=\"M1236.83 1314.32 L1244.46 1314.32 L1244.46 1287.96 L1236.15 1289.62 L1236.15 1285.36 L1244.42 1283.7 L1249.09 1283.7 L1249.09 1314.32 L1256.73 1314.32 L1256.73 1318.26 L1236.83 1318.26 L1236.83 1314.32 Z\" fill=\"#000000\" fill-rule=\"evenodd\" fill-opacity=\"1\" /><path clip-path=\"url(#clip490)\" d=\"M1266.18 1312.38 L1271.06 1312.38 L1271.06 1318.26 L1266.18 1318.26 L1266.18 1312.38 Z\" fill=\"#000000\" fill-rule=\"evenodd\" fill-opacity=\"1\" /><path clip-path=\"url(#clip490)\" d=\"M1280.07 1283.7 L1302.29 1283.7 L1302.29 1285.69 L1289.74 1318.26 L1284.86 1318.26 L1296.66 1287.63 L1280.07 1287.63 L1280.07 1283.7 Z\" fill=\"#000000\" fill-rule=\"evenodd\" fill-opacity=\"1\" /><path clip-path=\"url(#clip490)\" d=\"M1311.45 1283.7 L1329.81 1283.7 L1329.81 1287.63 L1315.74 1287.63 L1315.74 1296.11 Q1316.76 1295.76 1317.77 1295.6 Q1318.79 1295.41 1319.81 1295.41 Q1325.6 1295.41 1328.98 1298.58 Q1332.36 1301.75 1332.36 1307.17 Q1332.36 1312.75 1328.89 1315.85 Q1325.41 1318.93 1319.09 1318.93 Q1316.92 1318.93 1314.65 1318.56 Q1312.4 1318.19 1310 1317.45 L1310 1312.75 Q1312.08 1313.88 1314.3 1314.44 Q1316.52 1314.99 1319 1314.99 Q1323.01 1314.99 1325.34 1312.89 Q1327.68 1310.78 1327.68 1307.17 Q1327.68 1303.56 1325.34 1301.45 Q1323.01 1299.35 1319 1299.35 Q1317.13 1299.35 1315.25 1299.76 Q1313.4 1300.18 1311.45 1301.06 L1311.45 1283.7 Z\" fill=\"#000000\" fill-rule=\"evenodd\" fill-opacity=\"1\" /><path clip-path=\"url(#clip490)\" d=\"M1351.57 1286.78 Q1347.96 1286.78 1346.13 1290.34 Q1344.32 1293.88 1344.32 1301.01 Q1344.32 1308.12 1346.13 1311.68 Q1347.96 1315.23 1351.57 1315.23 Q1355.2 1315.23 1357.01 1311.68 Q1358.84 1308.12 1358.84 1301.01 Q1358.84 1293.88 1357.01 1290.34 Q1355.2 1286.78 1351.57 1286.78 M1351.57 1283.07 Q1357.38 1283.07 1360.44 1287.68 Q1363.51 1292.26 1363.51 1301.01 Q1363.51 1309.74 1360.44 1314.35 Q1357.38 1318.93 1351.57 1318.93 Q1345.76 1318.93 1342.68 1314.35 Q1339.63 1309.74 1339.63 1301.01 Q1339.63 1292.26 1342.68 1287.68 Q1345.76 1283.07 1351.57 1283.07 Z\" fill=\"#000000\" fill-rule=\"evenodd\" fill-opacity=\"1\" /><path clip-path=\"url(#clip490)\" d=\"M1399.9 1292.8 L1389.32 1303.42 L1399.9 1314 L1397.15 1316.8 L1386.52 1306.17 L1375.9 1316.8 L1373.17 1314 L1383.72 1303.42 L1373.17 1292.8 L1375.9 1289.99 L1386.52 1300.62 L1397.15 1289.99 L1399.9 1292.8 Z\" fill=\"#000000\" fill-rule=\"evenodd\" fill-opacity=\"1\" /><path clip-path=\"url(#clip490)\" d=\"M1412.26 1314.32 L1419.9 1314.32 L1419.9 1287.96 L1411.59 1289.62 L1411.59 1285.36 L1419.86 1283.7 L1424.53 1283.7 L1424.53 1314.32 L1432.17 1314.32 L1432.17 1318.26 L1412.26 1318.26 L1412.26 1314.32 Z\" fill=\"#000000\" fill-rule=\"evenodd\" fill-opacity=\"1\" /><path clip-path=\"url(#clip490)\" d=\"M1451.62 1286.78 Q1448 1286.78 1446.18 1290.34 Q1444.37 1293.88 1444.37 1301.01 Q1444.37 1308.12 1446.18 1311.68 Q1448 1315.23 1451.62 1315.23 Q1455.25 1315.23 1457.06 1311.68 Q1458.88 1308.12 1458.88 1301.01 Q1458.88 1293.88 1457.06 1290.34 Q1455.25 1286.78 1451.62 1286.78 M1451.62 1283.07 Q1457.43 1283.07 1460.48 1287.68 Q1463.56 1292.26 1463.56 1301.01 Q1463.56 1309.74 1460.48 1314.35 Q1457.43 1318.93 1451.62 1318.93 Q1445.81 1318.93 1442.73 1314.35 Q1439.67 1309.74 1439.67 1301.01 Q1439.67 1292.26 1442.73 1287.68 Q1445.81 1283.07 1451.62 1283.07 Z\" fill=\"#000000\" fill-rule=\"evenodd\" fill-opacity=\"1\" /><path clip-path=\"url(#clip490)\" d=\"M1464.75 1262.77 L1479.66 1262.77 L1479.66 1265.97 L1468.22 1265.97 L1468.22 1272.85 Q1469.05 1272.57 1469.88 1272.43 Q1470.71 1272.28 1471.53 1272.28 Q1476.24 1272.28 1478.98 1274.86 Q1481.73 1277.44 1481.73 1281.84 Q1481.73 1286.37 1478.91 1288.89 Q1476.09 1291.39 1470.95 1291.39 Q1469.18 1291.39 1467.34 1291.09 Q1465.52 1290.79 1463.56 1290.19 L1463.56 1286.37 Q1465.25 1287.29 1467.06 1287.74 Q1468.86 1288.2 1470.88 1288.2 Q1474.13 1288.2 1476.03 1286.48 Q1477.93 1284.77 1477.93 1281.84 Q1477.93 1278.9 1476.03 1277.19 Q1474.13 1275.48 1470.88 1275.48 Q1469.35 1275.48 1467.83 1275.82 Q1466.33 1276.16 1464.75 1276.87 L1464.75 1262.77 Z\" fill=\"#000000\" fill-rule=\"evenodd\" fill-opacity=\"1\" /><path clip-path=\"url(#clip490)\" d=\"M1240.04 1204.19 L1256.36 1204.19 L1256.36 1208.12 L1234.42 1208.12 L1234.42 1204.19 Q1237.08 1201.43 1241.66 1196.8 Q1246.27 1192.15 1247.45 1190.81 Q1249.7 1188.28 1250.58 1186.55 Q1251.48 1184.79 1251.48 1183.1 Q1251.48 1180.34 1249.53 1178.61 Q1247.61 1176.87 1244.51 1176.87 Q1242.31 1176.87 1239.86 1177.64 Q1237.43 1178.4 1234.65 1179.95 L1234.65 1175.23 Q1237.47 1174.09 1239.93 1173.52 Q1242.38 1172.94 1244.42 1172.94 Q1249.79 1172.94 1252.98 1175.62 Q1256.18 1178.31 1256.18 1182.8 Q1256.18 1184.93 1255.37 1186.85 Q1254.58 1188.75 1252.47 1191.34 Q1251.89 1192.01 1248.79 1195.23 Q1245.69 1198.42 1240.04 1204.19 Z\" fill=\"#000000\" fill-rule=\"evenodd\" fill-opacity=\"1\" /><path clip-path=\"url(#clip490)\" d=\"M1266.18 1202.24 L1271.06 1202.24 L1271.06 1208.12 L1266.18 1208.12 L1266.18 1202.24 Z\" fill=\"#000000\" fill-rule=\"evenodd\" fill-opacity=\"1\" /><path clip-path=\"url(#clip490)\" d=\"M1291.25 1176.64 Q1287.64 1176.64 1285.81 1180.21 Q1284 1183.75 1284 1190.88 Q1284 1197.98 1285.81 1201.55 Q1287.64 1205.09 1291.25 1205.09 Q1294.88 1205.09 1296.69 1201.55 Q1298.51 1197.98 1298.51 1190.88 Q1298.51 1183.75 1296.69 1180.21 Q1294.88 1176.64 1291.25 1176.64 M1291.25 1172.94 Q1297.06 1172.94 1300.11 1177.54 Q1303.19 1182.13 1303.19 1190.88 Q1303.19 1199.6 1300.11 1204.21 Q1297.06 1208.79 1291.25 1208.79 Q1285.44 1208.79 1282.36 1204.21 Q1279.3 1199.6 1279.3 1190.88 Q1279.3 1182.13 1282.36 1177.54 Q1285.44 1172.94 1291.25 1172.94 Z\" fill=\"#000000\" fill-rule=\"evenodd\" fill-opacity=\"1\" /><path clip-path=\"url(#clip490)\" d=\"M1321.41 1176.64 Q1317.8 1176.64 1315.97 1180.21 Q1314.16 1183.75 1314.16 1190.88 Q1314.16 1197.98 1315.97 1201.55 Q1317.8 1205.09 1321.41 1205.09 Q1325.04 1205.09 1326.85 1201.55 Q1328.68 1197.98 1328.68 1190.88 Q1328.68 1183.75 1326.85 1180.21 Q1325.04 1176.64 1321.41 1176.64 M1321.41 1172.94 Q1327.22 1172.94 1330.27 1177.54 Q1333.35 1182.13 1333.35 1190.88 Q1333.35 1199.6 1330.27 1204.21 Q1327.22 1208.79 1321.41 1208.79 Q1315.6 1208.79 1312.52 1204.21 Q1309.46 1199.6 1309.46 1190.88 Q1309.46 1182.13 1312.52 1177.54 Q1315.6 1172.94 1321.41 1172.94 Z\" fill=\"#000000\" fill-rule=\"evenodd\" fill-opacity=\"1\" /><path clip-path=\"url(#clip490)\" d=\"M1351.57 1176.64 Q1347.96 1176.64 1346.13 1180.21 Q1344.32 1183.75 1344.32 1190.88 Q1344.32 1197.98 1346.13 1201.55 Q1347.96 1205.09 1351.57 1205.09 Q1355.2 1205.09 1357.01 1201.55 Q1358.84 1197.98 1358.84 1190.88 Q1358.84 1183.75 1357.01 1180.21 Q1355.2 1176.64 1351.57 1176.64 M1351.57 1172.94 Q1357.38 1172.94 1360.44 1177.54 Q1363.51 1182.13 1363.51 1190.88 Q1363.51 1199.6 1360.44 1204.21 Q1357.38 1208.79 1351.57 1208.79 Q1345.76 1208.79 1342.68 1204.21 Q1339.63 1199.6 1339.63 1190.88 Q1339.63 1182.13 1342.68 1177.54 Q1345.76 1172.94 1351.57 1172.94 Z\" fill=\"#000000\" fill-rule=\"evenodd\" fill-opacity=\"1\" /><path clip-path=\"url(#clip490)\" d=\"M1399.9 1182.66 L1389.32 1193.28 L1399.9 1203.86 L1397.15 1206.66 L1386.52 1196.04 L1375.9 1206.66 L1373.17 1203.86 L1383.72 1193.28 L1373.17 1182.66 L1375.9 1179.86 L1386.52 1190.48 L1397.15 1179.86 L1399.9 1182.66 Z\" fill=\"#000000\" fill-rule=\"evenodd\" fill-opacity=\"1\" /><path clip-path=\"url(#clip490)\" d=\"M1412.26 1204.19 L1419.9 1204.19 L1419.9 1177.82 L1411.59 1179.49 L1411.59 1175.23 L1419.86 1173.56 L1424.53 1173.56 L1424.53 1204.19 L1432.17 1204.19 L1432.17 1208.12 L1412.26 1208.12 L1412.26 1204.19 Z\" fill=\"#000000\" fill-rule=\"evenodd\" fill-opacity=\"1\" /><path clip-path=\"url(#clip490)\" d=\"M1451.62 1176.64 Q1448 1176.64 1446.18 1180.21 Q1444.37 1183.75 1444.37 1190.88 Q1444.37 1197.98 1446.18 1201.55 Q1448 1205.09 1451.62 1205.09 Q1455.25 1205.09 1457.06 1201.55 Q1458.88 1197.98 1458.88 1190.88 Q1458.88 1183.75 1457.06 1180.21 Q1455.25 1176.64 1451.62 1176.64 M1451.62 1172.94 Q1457.43 1172.94 1460.48 1177.54 Q1463.56 1182.13 1463.56 1190.88 Q1463.56 1199.6 1460.48 1204.21 Q1457.43 1208.79 1451.62 1208.79 Q1445.81 1208.79 1442.73 1204.21 Q1439.67 1199.6 1439.67 1190.88 Q1439.67 1182.13 1442.73 1177.54 Q1445.81 1172.94 1451.62 1172.94 Z\" fill=\"#000000\" fill-rule=\"evenodd\" fill-opacity=\"1\" /><path clip-path=\"url(#clip490)\" d=\"M1464.75 1152.63 L1479.66 1152.63 L1479.66 1155.83 L1468.22 1155.83 L1468.22 1162.71 Q1469.05 1162.43 1469.88 1162.3 Q1470.71 1162.15 1471.53 1162.15 Q1476.24 1162.15 1478.98 1164.73 Q1481.73 1167.3 1481.73 1171.7 Q1481.73 1176.24 1478.91 1178.76 Q1476.09 1181.26 1470.95 1181.26 Q1469.18 1181.26 1467.34 1180.96 Q1465.52 1180.66 1463.56 1180.05 L1463.56 1176.24 Q1465.25 1177.16 1467.06 1177.61 Q1468.86 1178.06 1470.88 1178.06 Q1474.13 1178.06 1476.03 1176.35 Q1477.93 1174.64 1477.93 1171.7 Q1477.93 1168.77 1476.03 1167.06 Q1474.13 1165.35 1470.88 1165.35 Q1469.35 1165.35 1467.83 1165.68 Q1466.33 1166.02 1464.75 1166.74 L1464.75 1152.63 Z\" fill=\"#000000\" fill-rule=\"evenodd\" fill-opacity=\"1\" /><path clip-path=\"url(#clip490)\" d=\"M1240.04 1094.05 L1256.36 1094.05 L1256.36 1097.99 L1234.42 1097.99 L1234.42 1094.05 Q1237.08 1091.3 1241.66 1086.67 Q1246.27 1082.01 1247.45 1080.67 Q1249.7 1078.15 1250.58 1076.41 Q1251.48 1074.65 1251.48 1072.96 Q1251.48 1070.21 1249.53 1068.47 Q1247.61 1066.74 1244.51 1066.74 Q1242.31 1066.74 1239.86 1067.5 Q1237.43 1068.26 1234.65 1069.81 L1234.65 1065.09 Q1237.47 1063.96 1239.93 1063.38 Q1242.38 1062.8 1244.42 1062.8 Q1249.79 1062.8 1252.98 1065.49 Q1256.18 1068.17 1256.18 1072.66 Q1256.18 1074.79 1255.37 1076.71 Q1254.58 1078.61 1252.47 1081.2 Q1251.89 1081.88 1248.79 1085.09 Q1245.69 1088.29 1240.04 1094.05 Z\" fill=\"#000000\" fill-rule=\"evenodd\" fill-opacity=\"1\" /><path clip-path=\"url(#clip490)\" d=\"M1266.18 1092.11 L1271.06 1092.11 L1271.06 1097.99 L1266.18 1097.99 L1266.18 1092.11 Z\" fill=\"#000000\" fill-rule=\"evenodd\" fill-opacity=\"1\" /><path clip-path=\"url(#clip490)\" d=\"M1285.27 1094.05 L1301.59 1094.05 L1301.59 1097.99 L1279.65 1097.99 L1279.65 1094.05 Q1282.31 1091.3 1286.89 1086.67 Q1291.5 1082.01 1292.68 1080.67 Q1294.93 1078.15 1295.81 1076.41 Q1296.71 1074.65 1296.71 1072.96 Q1296.71 1070.21 1294.76 1068.47 Q1292.84 1066.74 1289.74 1066.74 Q1287.54 1066.74 1285.09 1067.5 Q1282.66 1068.26 1279.88 1069.81 L1279.88 1065.09 Q1282.7 1063.96 1285.16 1063.38 Q1287.61 1062.8 1289.65 1062.8 Q1295.02 1062.8 1298.21 1065.49 Q1301.41 1068.17 1301.41 1072.66 Q1301.41 1074.79 1300.6 1076.71 Q1299.81 1078.61 1297.7 1081.2 Q1297.13 1081.88 1294.02 1085.09 Q1290.92 1088.29 1285.27 1094.05 Z\" fill=\"#000000\" fill-rule=\"evenodd\" fill-opacity=\"1\" /><path clip-path=\"url(#clip490)\" d=\"M1311.45 1063.43 L1329.81 1063.43 L1329.81 1067.36 L1315.74 1067.36 L1315.74 1075.83 Q1316.76 1075.49 1317.77 1075.32 Q1318.79 1075.14 1319.81 1075.14 Q1325.6 1075.14 1328.98 1078.31 Q1332.36 1081.48 1332.36 1086.9 Q1332.36 1092.48 1328.89 1095.58 Q1325.41 1098.66 1319.09 1098.66 Q1316.92 1098.66 1314.65 1098.29 Q1312.4 1097.92 1310 1097.18 L1310 1092.48 Q1312.08 1093.61 1314.3 1094.17 Q1316.52 1094.72 1319 1094.72 Q1323.01 1094.72 1325.34 1092.62 Q1327.68 1090.51 1327.68 1086.9 Q1327.68 1083.29 1325.34 1081.18 Q1323.01 1079.07 1319 1079.07 Q1317.13 1079.07 1315.25 1079.49 Q1313.4 1079.91 1311.45 1080.79 L1311.45 1063.43 Z\" fill=\"#000000\" fill-rule=\"evenodd\" fill-opacity=\"1\" /><path clip-path=\"url(#clip490)\" d=\"M1351.57 1066.5 Q1347.96 1066.5 1346.13 1070.07 Q1344.32 1073.61 1344.32 1080.74 Q1344.32 1087.85 1346.13 1091.41 Q1347.96 1094.95 1351.57 1094.95 Q1355.2 1094.95 1357.01 1091.41 Q1358.84 1087.85 1358.84 1080.74 Q1358.84 1073.61 1357.01 1070.07 Q1355.2 1066.5 1351.57 1066.5 M1351.57 1062.8 Q1357.38 1062.8 1360.44 1067.41 Q1363.51 1071.99 1363.51 1080.74 Q1363.51 1089.47 1360.44 1094.07 Q1357.38 1098.66 1351.57 1098.66 Q1345.76 1098.66 1342.68 1094.07 Q1339.63 1089.47 1339.63 1080.74 Q1339.63 1071.99 1342.68 1067.41 Q1345.76 1062.8 1351.57 1062.8 Z\" fill=\"#000000\" fill-rule=\"evenodd\" fill-opacity=\"1\" /><path clip-path=\"url(#clip490)\" d=\"M1399.9 1072.52 L1389.32 1083.15 L1399.9 1093.73 L1397.15 1096.53 L1386.52 1085.9 L1375.9 1096.53 L1373.17 1093.73 L1383.72 1083.15 L1373.17 1072.52 L1375.9 1069.72 L1386.52 1080.35 L1397.15 1069.72 L1399.9 1072.52 Z\" fill=\"#000000\" fill-rule=\"evenodd\" fill-opacity=\"1\" /><path clip-path=\"url(#clip490)\" d=\"M1412.26 1094.05 L1419.9 1094.05 L1419.9 1067.69 L1411.59 1069.35 L1411.59 1065.09 L1419.86 1063.43 L1424.53 1063.43 L1424.53 1094.05 L1432.17 1094.05 L1432.17 1097.99 L1412.26 1097.99 L1412.26 1094.05 Z\" fill=\"#000000\" fill-rule=\"evenodd\" fill-opacity=\"1\" /><path clip-path=\"url(#clip490)\" d=\"M1451.62 1066.5 Q1448 1066.5 1446.18 1070.07 Q1444.37 1073.61 1444.37 1080.74 Q1444.37 1087.85 1446.18 1091.41 Q1448 1094.95 1451.62 1094.95 Q1455.25 1094.95 1457.06 1091.41 Q1458.88 1087.85 1458.88 1080.74 Q1458.88 1073.61 1457.06 1070.07 Q1455.25 1066.5 1451.62 1066.5 M1451.62 1062.8 Q1457.43 1062.8 1460.48 1067.41 Q1463.56 1071.99 1463.56 1080.74 Q1463.56 1089.47 1460.48 1094.07 Q1457.43 1098.66 1451.62 1098.66 Q1445.81 1098.66 1442.73 1094.07 Q1439.67 1089.47 1439.67 1080.74 Q1439.67 1071.99 1442.73 1067.41 Q1445.81 1062.8 1451.62 1062.8 Z\" fill=\"#000000\" fill-rule=\"evenodd\" fill-opacity=\"1\" /><path clip-path=\"url(#clip490)\" d=\"M1464.75 1042.5 L1479.66 1042.5 L1479.66 1045.69 L1468.22 1045.69 L1468.22 1052.58 Q1469.05 1052.29 1469.88 1052.16 Q1470.71 1052.01 1471.53 1052.01 Q1476.24 1052.01 1478.98 1054.59 Q1481.73 1057.17 1481.73 1061.57 Q1481.73 1066.1 1478.91 1068.62 Q1476.09 1071.12 1470.95 1071.12 Q1469.18 1071.12 1467.34 1070.82 Q1465.52 1070.52 1463.56 1069.92 L1463.56 1066.1 Q1465.25 1067.02 1467.06 1067.47 Q1468.86 1067.92 1470.88 1067.92 Q1474.13 1067.92 1476.03 1066.21 Q1477.93 1064.5 1477.93 1061.57 Q1477.93 1058.63 1476.03 1056.92 Q1474.13 1055.21 1470.88 1055.21 Q1469.35 1055.21 1467.83 1055.55 Q1466.33 1055.89 1464.75 1056.6 L1464.75 1042.5 Z\" fill=\"#000000\" fill-rule=\"evenodd\" fill-opacity=\"1\" /><path clip-path=\"url(#clip490)\" d=\"M1137.76 1705.65 L1137.76 1696.07 L1170.1 1683.94 L1137.76 1671.75 L1137.76 1662.17 L1185.28 1662.17 L1185.28 1668.44 L1143.56 1668.44 L1176.15 1680.69 L1176.15 1687.15 L1143.56 1699.41 L1185.28 1699.41 L1185.28 1705.65 L1137.76 1705.65 Z\" fill=\"#000000\" fill-rule=\"evenodd\" fill-opacity=\"1\" /><path clip-path=\"url(#clip490)\" d=\"M1166 1619.17 L1168.86 1619.17 L1168.86 1646.1 Q1174.91 1645.71 1178.09 1642.47 Q1181.24 1639.19 1181.24 1633.36 Q1181.24 1629.99 1180.41 1626.84 Q1179.59 1623.66 1177.93 1620.54 L1183.47 1620.54 Q1184.81 1623.69 1185.51 1627 Q1186.21 1630.31 1186.21 1633.71 Q1186.21 1642.24 1181.24 1647.24 Q1176.28 1652.21 1167.81 1652.21 Q1159.06 1652.21 1153.93 1647.5 Q1148.78 1642.75 1148.78 1634.73 Q1148.78 1627.54 1153.42 1623.37 Q1158.04 1619.17 1166 1619.17 M1164.28 1625.03 Q1159.47 1625.09 1156.61 1627.73 Q1153.74 1630.34 1153.74 1634.67 Q1153.74 1639.57 1156.51 1642.53 Q1159.28 1645.46 1164.31 1645.9 L1164.28 1625.03 Z\" fill=\"#000000\" fill-rule=\"evenodd\" fill-opacity=\"1\" /><path clip-path=\"url(#clip490)\" d=\"M1167.36 1593.36 Q1167.36 1600.45 1168.99 1603.19 Q1170.61 1605.93 1174.53 1605.93 Q1177.65 1605.93 1179.49 1603.89 Q1181.31 1601.82 1181.31 1598.29 Q1181.31 1593.42 1177.87 1590.49 Q1174.4 1587.53 1168.67 1587.53 L1167.36 1587.53 L1167.36 1593.36 M1164.95 1581.67 L1185.28 1581.67 L1185.28 1587.53 L1179.87 1587.53 Q1183.12 1589.54 1184.68 1592.53 Q1186.21 1595.52 1186.21 1599.85 Q1186.21 1605.32 1183.15 1608.57 Q1180.06 1611.78 1174.91 1611.78 Q1168.89 1611.78 1165.84 1607.77 Q1162.78 1603.73 1162.78 1595.74 L1162.78 1587.53 L1162.21 1587.53 Q1158.17 1587.53 1155.97 1590.2 Q1153.74 1592.85 1153.74 1597.65 Q1153.74 1600.71 1154.47 1603.6 Q1155.21 1606.5 1156.67 1609.17 L1151.26 1609.17 Q1150.02 1605.96 1149.41 1602.94 Q1148.78 1599.91 1148.78 1597.05 Q1148.78 1589.31 1152.79 1585.49 Q1156.8 1581.67 1164.95 1581.67 Z\" fill=\"#000000\" fill-rule=\"evenodd\" fill-opacity=\"1\" /><path clip-path=\"url(#clip490)\" d=\"M1163.77 1539.98 L1185.28 1539.98 L1185.28 1545.84 L1163.96 1545.84 Q1158.9 1545.84 1156.38 1547.81 Q1153.87 1549.78 1153.87 1553.73 Q1153.87 1558.47 1156.89 1561.21 Q1159.92 1563.95 1165.14 1563.95 L1185.28 1563.95 L1185.28 1569.83 L1149.64 1569.83 L1149.64 1563.95 L1155.17 1563.95 Q1151.96 1561.85 1150.37 1559.01 Q1148.78 1556.15 1148.78 1552.42 Q1148.78 1546.28 1152.6 1543.13 Q1156.38 1539.98 1163.77 1539.98 Z\" fill=\"#000000\" fill-rule=\"evenodd\" fill-opacity=\"1\" /><path clip-path=\"url(#clip490)\" d=\"M1144.1 1512.16 L1167.75 1520.88 L1167.75 1503.41 L1144.1 1512.16 M1137.76 1515.79 L1137.76 1508.5 L1185.28 1490.39 L1185.28 1497.07 L1173.09 1501.4 L1173.09 1522.82 L1185.28 1527.15 L1185.28 1533.93 L1137.76 1515.79 Z\" fill=\"#000000\" fill-rule=\"evenodd\" fill-opacity=\"1\" /><path clip-path=\"url(#clip490)\" d=\"M1167.49 1458.12 Q1161.03 1458.12 1157.37 1460.79 Q1153.68 1463.43 1153.68 1468.08 Q1153.68 1472.73 1157.37 1475.4 Q1161.03 1478.04 1167.49 1478.04 Q1173.95 1478.04 1177.65 1475.4 Q1181.31 1472.73 1181.31 1468.08 Q1181.31 1463.43 1177.65 1460.79 Q1173.95 1458.12 1167.49 1458.12 M1155.05 1478.04 Q1151.86 1476.19 1150.34 1473.39 Q1148.78 1470.56 1148.78 1466.65 Q1148.78 1460.15 1153.93 1456.11 Q1159.09 1452.04 1167.49 1452.04 Q1175.89 1452.04 1181.05 1456.11 Q1186.21 1460.15 1186.21 1466.65 Q1186.21 1470.56 1184.68 1473.39 Q1183.12 1476.19 1179.94 1478.04 L1185.28 1478.04 L1185.28 1483.93 L1135.76 1483.93 L1135.76 1478.04 L1155.05 1478.04 Z\" fill=\"#000000\" fill-rule=\"evenodd\" fill-opacity=\"1\" /><path clip-path=\"url(#clip490)\" d=\"M1150.69 1419.6 L1156.22 1419.6 Q1154.95 1422.09 1154.31 1424.76 Q1153.68 1427.43 1153.68 1430.3 Q1153.68 1434.66 1155.02 1436.85 Q1156.35 1439.02 1159.03 1439.02 Q1161.06 1439.02 1162.24 1437.46 Q1163.39 1435.9 1164.44 1431.19 L1164.88 1429.18 Q1166.22 1422.95 1168.67 1420.34 Q1171.09 1417.69 1175.45 1417.69 Q1180.41 1417.69 1183.31 1421.64 Q1186.21 1425.56 1186.21 1432.43 Q1186.21 1435.3 1185.63 1438.41 Q1185.09 1441.5 1183.98 1444.94 L1177.93 1444.94 Q1179.62 1441.69 1180.48 1438.54 Q1181.31 1435.39 1181.31 1432.3 Q1181.31 1428.17 1179.91 1425.94 Q1178.47 1423.71 1175.89 1423.71 Q1173.51 1423.71 1172.23 1425.33 Q1170.96 1426.92 1169.78 1432.37 L1169.31 1434.4 Q1168.16 1439.85 1165.81 1442.27 Q1163.42 1444.68 1159.28 1444.68 Q1154.25 1444.68 1151.51 1441.12 Q1148.78 1437.56 1148.78 1431 Q1148.78 1427.75 1149.25 1424.89 Q1149.73 1422.02 1150.69 1419.6 Z\" fill=\"#000000\" fill-rule=\"evenodd\" fill-opacity=\"1\" /><path clip-path=\"url(#clip490)\" d=\"M1153.74 1394.55 Q1153.74 1399.27 1157.43 1402 Q1161.09 1404.74 1167.49 1404.74 Q1173.89 1404.74 1177.58 1402.03 Q1181.24 1399.3 1181.24 1394.55 Q1181.24 1389.88 1177.55 1387.14 Q1173.86 1384.4 1167.49 1384.4 Q1161.16 1384.4 1157.47 1387.14 Q1153.74 1389.88 1153.74 1394.55 M1148.78 1394.55 Q1148.78 1386.92 1153.74 1382.56 Q1158.71 1378.19 1167.49 1378.19 Q1176.24 1378.19 1181.24 1382.56 Q1186.21 1386.92 1186.21 1394.55 Q1186.21 1402.23 1181.24 1406.59 Q1176.24 1410.91 1167.49 1410.91 Q1158.71 1410.91 1153.74 1406.59 Q1148.78 1402.23 1148.78 1394.55 Z\" fill=\"#000000\" fill-rule=\"evenodd\" fill-opacity=\"1\" /><path clip-path=\"url(#clip490)\" d=\"M1135.76 1368.49 L1135.76 1362.63 L1185.28 1362.63 L1185.28 1368.49 L1135.76 1368.49 Z\" fill=\"#000000\" fill-rule=\"evenodd\" fill-opacity=\"1\" /><path clip-path=\"url(#clip490)\" d=\"M1171.22 1350.98 L1149.64 1350.98 L1149.64 1345.12 L1170.99 1345.12 Q1176.05 1345.12 1178.6 1343.15 Q1181.11 1341.18 1181.11 1337.23 Q1181.11 1332.49 1178.09 1329.75 Q1175.07 1326.98 1169.85 1326.98 L1149.64 1326.98 L1149.64 1321.13 L1185.28 1321.13 L1185.28 1326.98 L1179.81 1326.98 Q1183.06 1329.12 1184.65 1331.95 Q1186.21 1334.75 1186.21 1338.47 Q1186.21 1344.62 1182.39 1347.8 Q1178.57 1350.98 1171.22 1350.98 M1148.78 1336.24 L1148.78 1336.24 Z\" fill=\"#000000\" fill-rule=\"evenodd\" fill-opacity=\"1\" /><path clip-path=\"url(#clip490)\" d=\"M1139.51 1303.27 L1149.64 1303.27 L1149.64 1291.21 L1154.19 1291.21 L1154.19 1303.27 L1173.54 1303.27 Q1177.9 1303.27 1179.14 1302.09 Q1180.38 1300.88 1180.38 1297.22 L1180.38 1291.21 L1185.28 1291.21 L1185.28 1297.22 Q1185.28 1304 1182.77 1306.58 Q1180.22 1309.16 1173.54 1309.16 L1154.19 1309.16 L1154.19 1313.46 L1149.64 1313.46 L1149.64 1309.16 L1139.51 1309.16 L1139.51 1303.27 Z\" fill=\"#000000\" fill-rule=\"evenodd\" fill-opacity=\"1\" /><path clip-path=\"url(#clip490)\" d=\"M1166 1253.01 L1168.86 1253.01 L1168.86 1279.94 Q1174.91 1279.56 1178.09 1276.31 Q1181.24 1273.03 1181.24 1267.21 Q1181.24 1263.83 1180.41 1260.68 Q1179.59 1257.5 1177.93 1254.38 L1183.47 1254.38 Q1184.81 1257.53 1185.51 1260.84 Q1186.21 1264.15 1186.21 1267.56 Q1186.21 1276.09 1181.24 1281.09 Q1176.28 1286.05 1167.81 1286.05 Q1159.06 1286.05 1153.93 1281.34 Q1148.78 1276.6 1148.78 1268.58 Q1148.78 1261.38 1153.42 1257.21 Q1158.04 1253.01 1166 1253.01 M1164.28 1258.87 Q1159.47 1258.93 1156.61 1261.58 Q1153.74 1264.19 1153.74 1268.51 Q1153.74 1273.42 1156.51 1276.38 Q1159.28 1279.3 1164.31 1279.75 L1164.28 1258.87 Z\" fill=\"#000000\" fill-rule=\"evenodd\" fill-opacity=\"1\" /><path clip-path=\"url(#clip490)\" d=\"M1137.76 1243.15 L1137.76 1213.1 L1143.18 1213.1 L1143.18 1236.72 L1157.24 1236.72 L1157.24 1214.09 L1162.65 1214.09 L1162.65 1236.72 L1179.87 1236.72 L1179.87 1212.53 L1185.28 1212.53 L1185.28 1243.15 L1137.76 1243.15 Z\" fill=\"#000000\" fill-rule=\"evenodd\" fill-opacity=\"1\" /><path clip-path=\"url(#clip490)\" d=\"M1155.11 1181.56 Q1154.54 1182.54 1154.28 1183.72 Q1154 1184.87 1154 1186.27 Q1154 1191.23 1157.24 1193.91 Q1160.46 1196.55 1166.51 1196.55 L1185.28 1196.55 L1185.28 1202.44 L1149.64 1202.44 L1149.64 1196.55 L1155.17 1196.55 Q1151.93 1194.7 1150.37 1191.74 Q1148.78 1188.78 1148.78 1184.55 Q1148.78 1183.95 1148.87 1183.21 Q1148.94 1182.48 1149.1 1181.59 L1155.11 1181.56 Z\" fill=\"#000000\" fill-rule=\"evenodd\" fill-opacity=\"1\" /><path clip-path=\"url(#clip490)\" d=\"M1155.11 1155.9 Q1154.54 1156.89 1154.28 1158.07 Q1154 1159.21 1154 1160.61 Q1154 1165.58 1157.24 1168.25 Q1160.46 1170.9 1166.51 1170.9 L1185.28 1170.9 L1185.28 1176.78 L1149.64 1176.78 L1149.64 1170.9 L1155.17 1170.9 Q1151.93 1169.05 1150.37 1166.09 Q1148.78 1163.13 1148.78 1158.9 Q1148.78 1158.29 1148.87 1157.56 Q1148.94 1156.83 1149.1 1155.94 L1155.11 1155.9 Z\" fill=\"#000000\" fill-rule=\"evenodd\" fill-opacity=\"1\" /><path clip-path=\"url(#clip490)\" d=\"M1153.74 1137.38 Q1153.74 1142.09 1157.43 1144.83 Q1161.09 1147.57 1167.49 1147.57 Q1173.89 1147.57 1177.58 1144.86 Q1181.24 1142.12 1181.24 1137.38 Q1181.24 1132.7 1177.55 1129.96 Q1173.86 1127.23 1167.49 1127.23 Q1161.16 1127.23 1157.47 1129.96 Q1153.74 1132.7 1153.74 1137.38 M1148.78 1137.38 Q1148.78 1129.74 1153.74 1125.38 Q1158.71 1121.02 1167.49 1121.02 Q1176.24 1121.02 1181.24 1125.38 Q1186.21 1129.74 1186.21 1137.38 Q1186.21 1145.05 1181.24 1149.41 Q1176.24 1153.74 1167.49 1153.74 Q1158.71 1153.74 1153.74 1149.41 Q1148.78 1145.05 1148.78 1137.38 Z\" fill=\"#000000\" fill-rule=\"evenodd\" fill-opacity=\"1\" /><path clip-path=\"url(#clip490)\" d=\"M1155.11 1090.66 Q1154.54 1091.64 1154.28 1092.82 Q1154 1093.97 1154 1095.37 Q1154 1100.33 1157.24 1103.01 Q1160.46 1105.65 1166.51 1105.65 L1185.28 1105.65 L1185.28 1111.54 L1149.64 1111.54 L1149.64 1105.65 L1155.17 1105.65 Q1151.93 1103.8 1150.37 1100.84 Q1148.78 1097.88 1148.78 1093.65 Q1148.78 1093.04 1148.87 1092.31 Q1148.94 1091.58 1149.1 1090.69 L1155.11 1090.66 Z\" fill=\"#000000\" fill-rule=\"evenodd\" fill-opacity=\"1\" /><circle clip-path=\"url(#clip495)\" cx=\"2134.7\" cy=\"1763.5\" r=\"14\" fill=\"#009af9\" fill-rule=\"evenodd\" fill-opacity=\"1\" stroke=\"#000000\" stroke-opacity=\"1\" stroke-width=\"4\"/>\n",
       "<circle clip-path=\"url(#clip495)\" cx=\"1813.68\" cy=\"1694.58\" r=\"14\" fill=\"#009af9\" fill-rule=\"evenodd\" fill-opacity=\"1\" stroke=\"#000000\" stroke-opacity=\"1\" stroke-width=\"4\"/>\n",
       "<circle clip-path=\"url(#clip495)\" cx=\"1532.79\" cy=\"1646.65\" r=\"14\" fill=\"#009af9\" fill-rule=\"evenodd\" fill-opacity=\"1\" stroke=\"#000000\" stroke-opacity=\"1\" stroke-width=\"4\"/>\n",
       "<circle clip-path=\"url(#clip495)\" cx=\"1532.79\" cy=\"1683.83\" r=\"14\" fill=\"#009af9\" fill-rule=\"evenodd\" fill-opacity=\"1\" stroke=\"#000000\" stroke-opacity=\"1\" stroke-width=\"4\"/>\n",
       "<circle clip-path=\"url(#clip495)\" cx=\"1813.68\" cy=\"1694.58\" r=\"14\" fill=\"#009af9\" fill-rule=\"evenodd\" fill-opacity=\"1\" stroke=\"#000000\" stroke-opacity=\"1\" stroke-width=\"4\"/>\n",
       "<circle clip-path=\"url(#clip495)\" cx=\"1653.17\" cy=\"1687.15\" r=\"14\" fill=\"#009af9\" fill-rule=\"evenodd\" fill-opacity=\"1\" stroke=\"#000000\" stroke-opacity=\"1\" stroke-width=\"4\"/>\n",
       "<circle clip-path=\"url(#clip495)\" cx=\"1813.68\" cy=\"1694.58\" r=\"14\" fill=\"#009af9\" fill-rule=\"evenodd\" fill-opacity=\"1\" stroke=\"#000000\" stroke-opacity=\"1\" stroke-width=\"4\"/>\n",
       "<circle clip-path=\"url(#clip495)\" cx=\"1572.91\" cy=\"1732.19\" r=\"14\" fill=\"#009af9\" fill-rule=\"evenodd\" fill-opacity=\"1\" stroke=\"#000000\" stroke-opacity=\"1\" stroke-width=\"4\"/>\n",
       "<circle clip-path=\"url(#clip495)\" cx=\"1813.68\" cy=\"1755.08\" r=\"14\" fill=\"#009af9\" fill-rule=\"evenodd\" fill-opacity=\"1\" stroke=\"#000000\" stroke-opacity=\"1\" stroke-width=\"4\"/>\n",
       "<circle clip-path=\"url(#clip495)\" cx=\"2134.7\" cy=\"1758.38\" r=\"14\" fill=\"#009af9\" fill-rule=\"evenodd\" fill-opacity=\"1\" stroke=\"#000000\" stroke-opacity=\"1\" stroke-width=\"4\"/>\n",
       "<circle clip-path=\"url(#clip495)\" cx=\"1572.91\" cy=\"1732.19\" r=\"14\" fill=\"#009af9\" fill-rule=\"evenodd\" fill-opacity=\"1\" stroke=\"#000000\" stroke-opacity=\"1\" stroke-width=\"4\"/>\n",
       "<circle clip-path=\"url(#clip495)\" cx=\"1653.17\" cy=\"1029.11\" r=\"14\" fill=\"#009af9\" fill-rule=\"evenodd\" fill-opacity=\"1\" stroke=\"#000000\" stroke-opacity=\"1\" stroke-width=\"4\"/>\n",
       "<circle clip-path=\"url(#clip495)\" cx=\"2134.7\" cy=\"1763.5\" r=\"14\" fill=\"#009af9\" fill-rule=\"evenodd\" fill-opacity=\"1\" stroke=\"#000000\" stroke-opacity=\"1\" stroke-width=\"4\"/>\n",
       "<circle clip-path=\"url(#clip495)\" cx=\"1572.91\" cy=\"1726.23\" r=\"14\" fill=\"#009af9\" fill-rule=\"evenodd\" fill-opacity=\"1\" stroke=\"#000000\" stroke-opacity=\"1\" stroke-width=\"4\"/>\n",
       "<circle clip-path=\"url(#clip495)\" cx=\"1532.79\" cy=\"1692.58\" r=\"14\" fill=\"#009af9\" fill-rule=\"evenodd\" fill-opacity=\"1\" stroke=\"#000000\" stroke-opacity=\"1\" stroke-width=\"4\"/>\n",
       "<circle clip-path=\"url(#clip495)\" cx=\"1813.68\" cy=\"1559.56\" r=\"14\" fill=\"#009af9\" fill-rule=\"evenodd\" fill-opacity=\"1\" stroke=\"#000000\" stroke-opacity=\"1\" stroke-width=\"4\"/>\n",
       "<circle clip-path=\"url(#clip495)\" cx=\"1532.79\" cy=\"1689.86\" r=\"14\" fill=\"#009af9\" fill-rule=\"evenodd\" fill-opacity=\"1\" stroke=\"#000000\" stroke-opacity=\"1\" stroke-width=\"4\"/>\n",
       "<circle clip-path=\"url(#clip495)\" cx=\"1813.68\" cy=\"1749.3\" r=\"14\" fill=\"#009af9\" fill-rule=\"evenodd\" fill-opacity=\"1\" stroke=\"#000000\" stroke-opacity=\"1\" stroke-width=\"4\"/>\n",
       "<circle clip-path=\"url(#clip495)\" cx=\"1813.68\" cy=\"1694.58\" r=\"14\" fill=\"#009af9\" fill-rule=\"evenodd\" fill-opacity=\"1\" stroke=\"#000000\" stroke-opacity=\"1\" stroke-width=\"4\"/>\n",
       "<circle clip-path=\"url(#clip495)\" cx=\"1653.17\" cy=\"1735.21\" r=\"14\" fill=\"#009af9\" fill-rule=\"evenodd\" fill-opacity=\"1\" stroke=\"#000000\" stroke-opacity=\"1\" stroke-width=\"4\"/>\n",
       "<circle clip-path=\"url(#clip495)\" cx=\"1532.79\" cy=\"1691.32\" r=\"14\" fill=\"#009af9\" fill-rule=\"evenodd\" fill-opacity=\"1\" stroke=\"#000000\" stroke-opacity=\"1\" stroke-width=\"4\"/>\n",
       "<circle clip-path=\"url(#clip495)\" cx=\"1572.91\" cy=\"1727.61\" r=\"14\" fill=\"#009af9\" fill-rule=\"evenodd\" fill-opacity=\"1\" stroke=\"#000000\" stroke-opacity=\"1\" stroke-width=\"4\"/>\n",
       "<circle clip-path=\"url(#clip495)\" cx=\"2134.7\" cy=\"1566.03\" r=\"14\" fill=\"#009af9\" fill-rule=\"evenodd\" fill-opacity=\"1\" stroke=\"#000000\" stroke-opacity=\"1\" stroke-width=\"4\"/>\n",
       "<circle clip-path=\"url(#clip495)\" cx=\"1532.79\" cy=\"1689.86\" r=\"14\" fill=\"#009af9\" fill-rule=\"evenodd\" fill-opacity=\"1\" stroke=\"#000000\" stroke-opacity=\"1\" stroke-width=\"4\"/>\n",
       "<circle clip-path=\"url(#clip495)\" cx=\"2134.7\" cy=\"1029.11\" r=\"14\" fill=\"#009af9\" fill-rule=\"evenodd\" fill-opacity=\"1\" stroke=\"#000000\" stroke-opacity=\"1\" stroke-width=\"4\"/>\n",
       "<circle clip-path=\"url(#clip495)\" cx=\"2134.7\" cy=\"1767.19\" r=\"14\" fill=\"#009af9\" fill-rule=\"evenodd\" fill-opacity=\"1\" stroke=\"#000000\" stroke-opacity=\"1\" stroke-width=\"4\"/>\n",
       "<circle clip-path=\"url(#clip495)\" cx=\"2134.7\" cy=\"1767.19\" r=\"14\" fill=\"#009af9\" fill-rule=\"evenodd\" fill-opacity=\"1\" stroke=\"#000000\" stroke-opacity=\"1\" stroke-width=\"4\"/>\n",
       "<circle clip-path=\"url(#clip495)\" cx=\"1653.17\" cy=\"1717.18\" r=\"14\" fill=\"#009af9\" fill-rule=\"evenodd\" fill-opacity=\"1\" stroke=\"#000000\" stroke-opacity=\"1\" stroke-width=\"4\"/>\n",
       "<circle clip-path=\"url(#clip495)\" cx=\"1813.68\" cy=\"1755.08\" r=\"14\" fill=\"#009af9\" fill-rule=\"evenodd\" fill-opacity=\"1\" stroke=\"#000000\" stroke-opacity=\"1\" stroke-width=\"4\"/>\n",
       "<circle clip-path=\"url(#clip495)\" cx=\"2134.7\" cy=\"1703.51\" r=\"14\" fill=\"#009af9\" fill-rule=\"evenodd\" fill-opacity=\"1\" stroke=\"#000000\" stroke-opacity=\"1\" stroke-width=\"4\"/>\n",
       "<circle clip-path=\"url(#clip495)\" cx=\"1572.91\" cy=\"1734.6\" r=\"14\" fill=\"#009af9\" fill-rule=\"evenodd\" fill-opacity=\"1\" stroke=\"#000000\" stroke-opacity=\"1\" stroke-width=\"4\"/>\n",
       "<circle clip-path=\"url(#clip495)\" cx=\"1532.79\" cy=\"1691.32\" r=\"14\" fill=\"#009af9\" fill-rule=\"evenodd\" fill-opacity=\"1\" stroke=\"#000000\" stroke-opacity=\"1\" stroke-width=\"4\"/>\n",
       "<circle clip-path=\"url(#clip495)\" cx=\"1532.79\" cy=\"1683.83\" r=\"14\" fill=\"#009af9\" fill-rule=\"evenodd\" fill-opacity=\"1\" stroke=\"#000000\" stroke-opacity=\"1\" stroke-width=\"4\"/>\n",
       "<circle clip-path=\"url(#clip495)\" cx=\"1572.91\" cy=\"1637.76\" r=\"14\" fill=\"#009af9\" fill-rule=\"evenodd\" fill-opacity=\"1\" stroke=\"#000000\" stroke-opacity=\"1\" stroke-width=\"4\"/>\n",
       "<circle clip-path=\"url(#clip495)\" cx=\"2134.7\" cy=\"1758.83\" r=\"14\" fill=\"#009af9\" fill-rule=\"evenodd\" fill-opacity=\"1\" stroke=\"#000000\" stroke-opacity=\"1\" stroke-width=\"4\"/>\n",
       "<circle clip-path=\"url(#clip495)\" cx=\"1813.68\" cy=\"1750.81\" r=\"14\" fill=\"#009af9\" fill-rule=\"evenodd\" fill-opacity=\"1\" stroke=\"#000000\" stroke-opacity=\"1\" stroke-width=\"4\"/>\n",
       "<circle clip-path=\"url(#clip495)\" cx=\"1532.79\" cy=\"1668.29\" r=\"14\" fill=\"#009af9\" fill-rule=\"evenodd\" fill-opacity=\"1\" stroke=\"#000000\" stroke-opacity=\"1\" stroke-width=\"4\"/>\n",
       "<circle clip-path=\"url(#clip495)\" cx=\"1532.79\" cy=\"1646.65\" r=\"14\" fill=\"#009af9\" fill-rule=\"evenodd\" fill-opacity=\"1\" stroke=\"#000000\" stroke-opacity=\"1\" stroke-width=\"4\"/>\n",
       "<circle clip-path=\"url(#clip495)\" cx=\"1653.17\" cy=\"1735.21\" r=\"14\" fill=\"#009af9\" fill-rule=\"evenodd\" fill-opacity=\"1\" stroke=\"#000000\" stroke-opacity=\"1\" stroke-width=\"4\"/>\n",
       "<circle clip-path=\"url(#clip495)\" cx=\"1653.17\" cy=\"1754.86\" r=\"14\" fill=\"#009af9\" fill-rule=\"evenodd\" fill-opacity=\"1\" stroke=\"#000000\" stroke-opacity=\"1\" stroke-width=\"4\"/>\n",
       "</svg>\n"
      ]
     },
     "execution_count": 188,
     "metadata": {},
     "output_type": "execute_result"
    }
   ],
   "source": [
    "tuned_model = TunedModel(model=model,\n",
    "                         ranges=[r1, r2],\n",
    "                         resampling=Holdout(),\n",
    "                         measures=mae,\n",
    "                         tuning=RandomSearch(rng=123),\n",
    "                         n=40)\n",
    "\n",
    "tuned_mach = machine(tuned_model, X, y) |> fit!\n",
    "plt = plot(tuned_mach)\n",
    "savefig(\"exercise_8c.png\")\n",
    "plt"
   ]
  },
  {
   "cell_type": "markdown",
   "metadata": {},
   "source": [
    "(d)"
   ]
  },
  {
   "cell_type": "code",
   "execution_count": 189,
   "metadata": {},
   "outputs": [
    {
     "name": "stderr",
     "output_type": "stream",
     "text": [
      "\u001b[33mEvaluating over 3 folds: 100%[=========================] Time: 0:00:50\u001b[39m\n"
     ]
    },
    {
     "data": {
      "text/plain": [
       "PerformanceEvaluation object with these fields:\n",
       "  measure, measurement, operation, per_fold,\n",
       "  per_observation, fitted_params_per_fold,\n",
       "  report_per_fold, train_test_pairs\n",
       "Extract:\n",
       "┌─────────────────────┬─────────────┬───────────┬─────────────────────────────┐\n",
       "│\u001b[22m measure             \u001b[0m│\u001b[22m measurement \u001b[0m│\u001b[22m operation \u001b[0m│\u001b[22m per_fold                    \u001b[0m│\n",
       "├─────────────────────┼─────────────┼───────────┼─────────────────────────────┤\n",
       "│ MeanAbsoluteError() │ 68700.0     │ predict   │ [68800.0, 67800.0, 69500.0] │\n",
       "└─────────────────────┴─────────────┴───────────┴─────────────────────────────┘\n"
      ]
     },
     "execution_count": 189,
     "metadata": {},
     "output_type": "execute_result"
    }
   ],
   "source": [
    "best_model = report(tuned_mach).best_model;\n",
    "best_mach = machine(best_model, X, y);\n",
    "best_err = evaluate!(best_mach, resampling=CV(nfolds=3), measure=mae)"
   ]
  },
  {
   "cell_type": "code",
   "execution_count": 190,
   "metadata": {},
   "outputs": [
    {
     "name": "stderr",
     "output_type": "stream",
     "text": [
      "\u001b[33mEvaluating over 3 folds: 100%[=========================] Time: 0:07:17\u001b[39m\n"
     ]
    },
    {
     "data": {
      "text/plain": [
       "PerformanceEvaluation object with these fields:\n",
       "  measure, measurement, operation, per_fold,\n",
       "  per_observation, fitted_params_per_fold,\n",
       "  report_per_fold, train_test_pairs\n",
       "Extract:\n",
       "┌─────────────────────┬─────────────┬───────────┬─────────────────────────────┐\n",
       "│\u001b[22m measure             \u001b[0m│\u001b[22m measurement \u001b[0m│\u001b[22m operation \u001b[0m│\u001b[22m per_fold                    \u001b[0m│\n",
       "├─────────────────────┼─────────────┼───────────┼─────────────────────────────┤\n",
       "│ MeanAbsoluteError() │ 69900.0     │ predict   │ [71400.0, 67800.0, 70500.0] │\n",
       "└─────────────────────┴─────────────┴───────────┴─────────────────────────────┘\n"
      ]
     },
     "execution_count": 190,
     "metadata": {},
     "output_type": "execute_result"
    }
   ],
   "source": [
    "tuned_err = evaluate!(tuned_mach, resampling=CV(nfolds=3), measure=mae)"
   ]
  },
  {
   "cell_type": "markdown",
   "metadata": {},
   "source": [
    "---\n",
    "\n",
    "*This notebook was generated using [Literate.jl](https://github.com/fredrikekre/Literate.jl).*"
   ]
  }
 ],
 "metadata": {
  "kernelspec": {
   "display_name": "Julia 1.6.3",
   "language": "julia",
   "name": "julia-1.6"
  },
  "language_info": {
   "file_extension": ".jl",
   "mimetype": "application/julia",
   "name": "julia",
   "version": "1.6.3"
  }
 },
 "nbformat": 4,
 "nbformat_minor": 3
}
